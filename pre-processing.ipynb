{
 "cells": [
  {
   "cell_type": "markdown",
   "metadata": {},
   "source": [
    "MAI643 - Artificial Intelligence in Medicine\n",
    "\n",
    "Project Assignment 1 - Spring Semester 2024\n",
    "\n",
    "Student Name:    \n",
    "Christina Ioanna Saroglaki   \n",
    "Jianlin Ye \n",
    "\n",
    "UCY Email:     \n",
    "saroglaki.christina-ioanna@ucy.ac.cy    \n",
    "jye00001@ucy.ac.cy "
   ]
  },
  {
   "cell_type": "markdown",
   "metadata": {},
   "source": [
    "### Import Libararies"
   ]
  },
  {
   "cell_type": "code",
   "execution_count": 1,
   "metadata": {},
   "outputs": [],
   "source": [
    "import pandas as pd \n",
    "import numpy as np\n",
    "\n",
    "# Visualization\n",
    "import plotly.express as px\n",
    "import plotly.graph_objects as go\n",
    "from plotly.subplots import make_subplots\n",
    "\n",
    "from sklearn.model_selection import StratifiedShuffleSplit\n",
    "\n",
    "np.set_printoptions(formatter={'float':\"{:6.5g}\".format})"
   ]
  },
  {
   "cell_type": "markdown",
   "metadata": {},
   "source": [
    "### Import dataset"
   ]
  },
  {
   "cell_type": "code",
   "execution_count": 2,
   "metadata": {},
   "outputs": [],
   "source": [
    "risk_factor_df = pd.read_csv(\"risk_factors_cervical_cancer.csv\")\n",
    "\n",
    "# Only keep the \"Biopsy\" column as the target variable\n",
    "risk_factor_df = risk_factor_df.drop(columns=[\"Hinselmann\",\"Schiller\",\"Citology\"])"
   ]
  },
  {
   "cell_type": "markdown",
   "metadata": {},
   "source": [
    "Tranformed all the numeric values into  the correct numeric type."
   ]
  },
  {
   "cell_type": "code",
   "execution_count": 3,
   "metadata": {},
   "outputs": [],
   "source": [
    "risk_factor_df = risk_factor_df.apply(pd.to_numeric, errors = \"coerce\")"
   ]
  },
  {
   "cell_type": "markdown",
   "metadata": {},
   "source": [
    "Split dataset to features and target variables."
   ]
  },
  {
   "cell_type": "code",
   "execution_count": 4,
   "metadata": {},
   "outputs": [],
   "source": [
    "feature_df = risk_factor_df.iloc[:,:-4]\n",
    "dep_df = risk_factor_df.iloc[:,-4:]"
   ]
  },
  {
   "cell_type": "markdown",
   "metadata": {},
   "source": [
    "### Handling missing values\n",
    "\n",
    "During the preliminary analysis identified that the features “STDs: Time since first diagnosis” and “STDs: Time since last diagnosis” were filled with NaN values to about 92%. Because of the high percentage of missing values, it impractical to either eliminate those observations or fill the missing data with the mean of the existing data. Consequently, these features were excluded from the dataset for the development of the models."
   ]
  },
  {
   "cell_type": "code",
   "execution_count": 5,
   "metadata": {},
   "outputs": [],
   "source": [
    "risk_factor_df = risk_factor_df.drop(columns=[\"STDs: Time since first diagnosis\", \"STDs: Time since last diagnosis\"])"
   ]
  },
  {
   "cell_type": "markdown",
   "metadata": {},
   "source": [
    "For the remaining columns, we managed the missing values depending on the column. In more detail, if the column contained binary values (0,1) then the row containing the missing value was deleted. Otherwise, the missing value was replaced with the mean of the column."
   ]
  },
  {
   "cell_type": "code",
   "execution_count": 7,
   "metadata": {},
   "outputs": [
    {
     "name": "stdout",
     "output_type": "stream",
     "text": [
      "--------------------------- Handling Missing Values ---------------------------\n",
      "----------------------------------- BEFORE -----------------------------------\n",
      "Number of rows before filling missing values:  726\n",
      "\n",
      "Number of missing values per column before filling:\n",
      "Age                                   0\n",
      "Number of sexual partners             0\n",
      "First sexual intercourse              0\n",
      "Num of pregnancies                    0\n",
      "Smokes                                0\n",
      "Smokes (years)                        0\n",
      "Smokes (packs/year)                   0\n",
      "Hormonal Contraceptives               0\n",
      "Hormonal Contraceptives (years)       0\n",
      "IUD                                   0\n",
      "IUD (years)                           0\n",
      "STDs                                  0\n",
      "STDs (number)                         0\n",
      "STDs:condylomatosis                   0\n",
      "STDs:cervical condylomatosis          0\n",
      "STDs:vaginal condylomatosis           0\n",
      "STDs:vulvo-perineal condylomatosis    0\n",
      "STDs:syphilis                         0\n",
      "STDs:pelvic inflammatory disease      0\n",
      "STDs:genital herpes                   0\n",
      "STDs:molluscum contagiosum            0\n",
      "STDs:AIDS                             0\n",
      "STDs:HIV                              0\n",
      "STDs:Hepatitis B                      0\n",
      "STDs:HPV                              0\n",
      "STDs: Number of diagnosis             0\n",
      "Dx:Cancer                             0\n",
      "Dx:CIN                                0\n",
      "Dx:HPV                                0\n",
      "Dx                                    0\n",
      "Biopsy                                0\n",
      "dtype: int64\n"
     ]
    }
   ],
   "source": [
    "print(\"--------------------------- Handling Missing Values ---------------------------\")\n",
    "print(\"----------------------------------- BEFORE -----------------------------------\")\n",
    "print(\"Number of rows before filling missing values: \", len(risk_factor_df))\n",
    "\n",
    "# Display the number of missing values before filling\n",
    "print(\"\\nNumber of missing values per column before filling:\")\n",
    "print(risk_factor_df.isnull().sum())\n",
    "\n",
    "# Fill missing values depending on the column\n",
    "for col in risk_factor_df.columns:\n",
    "    # If the column has more than 3 unique values, fill with mean of the column\n",
    "    if risk_factor_df[col].nunique() > 3:\n",
    "        risk_factor_df[col].fillna(risk_factor_df[col].median(), inplace=True)\n",
    "    \n",
    "# Drop rest NaN containing rows\n",
    "risk_factor_df=risk_factor_df.dropna()\n",
    "risk_factor_df.reset_index(drop=True, inplace=True)"
   ]
  },
  {
   "cell_type": "code",
   "execution_count": 8,
   "metadata": {},
   "outputs": [
    {
     "name": "stdout",
     "output_type": "stream",
     "text": [
      "\n",
      "----------------------------------- AFTER -----------------------------------\n",
      "Number of rows after filling missing values:  726\n",
      "\n",
      "Number of missing values per column after filling:\n",
      "Age                                   0\n",
      "Number of sexual partners             0\n",
      "First sexual intercourse              0\n",
      "Num of pregnancies                    0\n",
      "Smokes                                0\n",
      "Smokes (years)                        0\n",
      "Smokes (packs/year)                   0\n",
      "Hormonal Contraceptives               0\n",
      "Hormonal Contraceptives (years)       0\n",
      "IUD                                   0\n",
      "IUD (years)                           0\n",
      "STDs                                  0\n",
      "STDs (number)                         0\n",
      "STDs:condylomatosis                   0\n",
      "STDs:cervical condylomatosis          0\n",
      "STDs:vaginal condylomatosis           0\n",
      "STDs:vulvo-perineal condylomatosis    0\n",
      "STDs:syphilis                         0\n",
      "STDs:pelvic inflammatory disease      0\n",
      "STDs:genital herpes                   0\n",
      "STDs:molluscum contagiosum            0\n",
      "STDs:AIDS                             0\n",
      "STDs:HIV                              0\n",
      "STDs:Hepatitis B                      0\n",
      "STDs:HPV                              0\n",
      "STDs: Number of diagnosis             0\n",
      "Dx:Cancer                             0\n",
      "Dx:CIN                                0\n",
      "Dx:HPV                                0\n",
      "Dx                                    0\n",
      "Biopsy                                0\n",
      "dtype: int64\n"
     ]
    }
   ],
   "source": [
    "print(\"\\n----------------------------------- AFTER -----------------------------------\")\n",
    "print(\"Number of rows after filling missing values: \", len(risk_factor_df))\n",
    "\n",
    "# Display the number of missing values after filling\n",
    "print(\"\\nNumber of missing values per column after filling:\")\n",
    "print(risk_factor_df.isnull().sum())"
   ]
  },
  {
   "cell_type": "markdown",
   "metadata": {},
   "source": [
    "### Duplicate Rows\n",
    "\n",
    "Removing duplicate rows from the dataset."
   ]
  },
  {
   "cell_type": "code",
   "execution_count": 9,
   "metadata": {},
   "outputs": [
    {
     "name": "stdout",
     "output_type": "stream",
     "text": [
      "----------------------------------- Duplicate Rows -----------------------------------\n",
      "Found 21 duplicate rows in the dataset.\n",
      "\n",
      "Duplicate rows indexes: [ 63 222 296 332 340 344 360 364 368 370 377 380 387 405 410 441 447 480\n",
      " 484 536 607]\n",
      "\n",
      "----------------------------- Removing Duplicates ----------------------------\n",
      "----------------------------------- BEFORE -----------------------------------\n",
      "Number of rows before removing duplicates:  726\n",
      "\n",
      "----------------------------------- AFTER -----------------------------------\n",
      "Number of rows after removing duplicates:  705\n"
     ]
    }
   ],
   "source": [
    "print(\"----------------------------------- Duplicate Rows -----------------------------------\")\n",
    "# Check for duplicate rows\n",
    "duplicate_rows = risk_factor_df.duplicated()\n",
    "\n",
    "# Count the number of duplicate rows\n",
    "num_duplicates = duplicate_rows.sum()\n",
    "\n",
    "if num_duplicates == 0:\n",
    "    print(\"No duplicate rows found in the dataset.\")\n",
    "else:\n",
    "    print(f\"Found {num_duplicates} duplicate rows in the dataset.\\n\")\n",
    "\n",
    "    # Display the duplicate rows indexes (if any)\n",
    "    print(\"Duplicate rows indexes: {}\\n\".format(risk_factor_df[duplicate_rows].index.values))\n",
    "\n",
    "    # Removing duplicate rows\n",
    "    print(\"----------------------------- Removing Duplicates ----------------------------\")\n",
    "    print(\"----------------------------------- BEFORE -----------------------------------\")\n",
    "    print(\"Number of rows before removing duplicates: \", len(risk_factor_df))\n",
    "\n",
    "    risk_factor_df.drop_duplicates(inplace=True)\n",
    "    risk_factor_df.reset_index(drop=True, inplace=True)\n",
    "\n",
    "    print(\"\\n----------------------------------- AFTER -----------------------------------\")\n",
    "    print(\"Number of rows after removing duplicates: \", len(risk_factor_df))\n"
   ]
  },
  {
   "cell_type": "markdown",
   "metadata": {},
   "source": [
    "#### Remove Outliers\n",
    "\n",
    "IQR (Inter Quartile Range) Inter Quartile Range approach to finding the outliers is the most commonly used and most trusted approach used in the research field. We utilised IQR to identify and remove outliers."
   ]
  },
  {
   "cell_type": "markdown",
   "metadata": {},
   "source": [
    "#### define Unique Features"
   ]
  },
  {
   "cell_type": "code",
   "execution_count": 10,
   "metadata": {},
   "outputs": [
    {
     "name": "stdout",
     "output_type": "stream",
     "text": [
      "----------------------------------- Unique Values -----------------------------------\n",
      "Age:\n",
      "[18 15 34 52 46 42 51 26 45 44 27 43 40 41 39 37 38 36 35 33 31 32 30 23\n",
      " 28 29 25 21 24 22 20 48 19 17 16 14 59 79 84 47 13 70 50 49]\n",
      "int64\n",
      "\n",
      "Number of sexual partners:\n",
      "[     4      1      5      3      2      6      8      7     28      9]\n",
      "float64\n",
      "\n",
      "First sexual intercourse:\n",
      "[    15     14     17     16     21     23     26     20     25     18\n",
      "     27     19     24     32     29     11     13     22     28     10\n",
      "     12]\n",
      "float64\n",
      "\n",
      "Num of pregnancies:\n",
      "[     1      4      2      6      3      5      8      7      0     11\n",
      "     10]\n",
      "float64\n",
      "\n",
      "Smokes:\n",
      "[     0      1]\n",
      "float64\n",
      "\n",
      "Smokes (years):\n",
      "[     0     37     34      3  1.267     12     18      7     19     21\n",
      "     13     16     15      8      4     10     22     14    0.5     11\n",
      "      2      6      5      1     32      9     24     28     20   0.16]\n",
      "float64\n",
      "\n",
      "Smokes (packs/year):\n",
      "[     0     37    3.4   0.04 0.5132    2.4      6      9    1.6     19\n",
      "     21    2.6    0.8     15      2      1    3.3    3.5  0.025   2.75\n",
      "     12    0.2    1.4    2.1    0.7    1.2    7.5   1.25      3   0.75\n",
      "    0.1      8   2.25  0.003      7   0.15   0.05      5   0.25    4.8\n",
      "    4.5    0.4   0.37    2.2   0.16    0.9     22   1.35    0.5    2.5\n",
      "      4    1.3   1.65    2.7    2.8  0.001    5.5    0.3]\n",
      "float64\n",
      "\n",
      "Hormonal Contraceptives:\n",
      "[     0      1]\n",
      "float64\n",
      "\n",
      "Hormonal Contraceptives (years):\n",
      "[     0      3     15      2      8     10      5   0.25      7     22\n",
      "     19    0.5      1   0.58      9     13     11      4     12     16\n",
      "   0.33   0.16     14   0.08 2.2822   0.66      6    1.5   0.42   0.67\n",
      "   0.75    2.5    4.5    6.5   0.17     20    3.5   0.41     17]\n",
      "float64\n",
      "\n",
      "IUD:\n",
      "[     0      1]\n",
      "float64\n",
      "\n",
      "IUD (years):\n",
      "[     0      7      5      8      6      1   0.58      2     19    0.5\n",
      "     17   0.08   0.25     10     11      3     15     12      9    1.5\n",
      "   0.91      4   0.33   0.41   0.16   0.17]\n",
      "float64\n",
      "\n",
      "STDs:\n",
      "[     0      1]\n",
      "float64\n",
      "\n",
      "STDs (number):\n",
      "[     0      2      1      3      4]\n",
      "float64\n",
      "\n",
      "STDs:condylomatosis:\n",
      "[     0      1]\n",
      "float64\n",
      "\n",
      "STDs:cervical condylomatosis:\n",
      "[     0]\n",
      "float64\n",
      "\n",
      "STDs:vaginal condylomatosis:\n",
      "[     0      1]\n",
      "float64\n",
      "\n",
      "STDs:vulvo-perineal condylomatosis:\n",
      "[     0      1]\n",
      "float64\n",
      "\n",
      "STDs:syphilis:\n",
      "[     0      1]\n",
      "float64\n",
      "\n",
      "STDs:pelvic inflammatory disease:\n",
      "[     0      1]\n",
      "float64\n",
      "\n",
      "STDs:genital herpes:\n",
      "[     0      1]\n",
      "float64\n",
      "\n",
      "STDs:molluscum contagiosum:\n",
      "[     0      1]\n",
      "float64\n",
      "\n",
      "STDs:AIDS:\n",
      "[     0]\n",
      "float64\n",
      "\n",
      "STDs:HIV:\n",
      "[     0      1]\n",
      "float64\n",
      "\n",
      "STDs:Hepatitis B:\n",
      "[     0      1]\n",
      "float64\n",
      "\n",
      "STDs:HPV:\n",
      "[     0      1]\n",
      "float64\n",
      "\n",
      "STDs: Number of diagnosis:\n",
      "[0 1 3 2]\n",
      "int64\n",
      "\n",
      "Dx:Cancer:\n",
      "[0 1]\n",
      "int64\n",
      "\n",
      "Dx:CIN:\n",
      "[0 1]\n",
      "int64\n",
      "\n",
      "Dx:HPV:\n",
      "[0 1]\n",
      "int64\n",
      "\n",
      "Dx:\n",
      "[0 1]\n",
      "int64\n",
      "\n",
      "Biopsy:\n",
      "[0 1]\n",
      "int64\n",
      "\n"
     ]
    }
   ],
   "source": [
    "# Function finding the unique values of each column in the dataframe\n",
    "def find_unique_values_df(feat: pd.DataFrame):\n",
    "    return {col: feat[col].unique() for col in feat}\n",
    "\n",
    "print(\"----------------------------------- Unique Values -----------------------------------\")    \n",
    "# Unique Values\n",
    "unique_vals = find_unique_values_df(risk_factor_df)\n",
    "\n",
    "# Print unique values for each column\n",
    "for col, col_unique_vals in unique_vals.items():\n",
    "    print(f\"{col}:\")\n",
    "    print(col_unique_vals)\n",
    "    print(risk_factor_df[col].dtypes)\n",
    "    print()\n"
   ]
  },
  {
   "cell_type": "code",
   "execution_count": 11,
   "metadata": {},
   "outputs": [
    {
     "data": {
      "application/vnd.plotly.v1+json": {
       "config": {
        "plotlyServerURL": "https://plot.ly"
       },
       "data": [
        {
         "alignmentgroup": "True",
         "bingroup": "x",
         "hovertemplate": "Age=%{x}<br>count=%{y}<extra></extra>",
         "legendgroup": "",
         "marker": {
          "color": "rgb(3, 35, 51)",
          "pattern": {
           "shape": ""
          }
         },
         "name": "",
         "offsetgroup": "",
         "orientation": "v",
         "showlegend": false,
         "type": "histogram",
         "x": [
          18,
          15,
          34,
          52,
          46,
          42,
          51,
          26,
          45,
          44,
          27,
          45,
          44,
          43,
          40,
          41,
          43,
          42,
          40,
          43,
          41,
          40,
          40,
          40,
          44,
          39,
          39,
          37,
          37,
          41,
          40,
          37,
          37,
          38,
          37,
          39,
          37,
          39,
          36,
          37,
          36,
          36,
          37,
          36,
          40,
          41,
          37,
          36,
          36,
          36,
          35,
          36,
          41,
          35,
          33,
          35,
          35,
          34,
          35,
          35,
          33,
          38,
          37,
          36,
          35,
          35,
          36,
          34,
          35,
          35,
          34,
          33,
          35,
          35,
          33,
          31,
          32,
          32,
          36,
          34,
          36,
          35,
          32,
          33,
          35,
          33,
          33,
          33,
          35,
          35,
          33,
          34,
          30,
          38,
          33,
          34,
          30,
          33,
          32,
          32,
          30,
          23,
          34,
          34,
          31,
          30,
          28,
          33,
          30,
          31,
          30,
          31,
          31,
          29,
          29,
          30,
          28,
          30,
          30,
          33,
          30,
          27,
          29,
          29,
          30,
          30,
          30,
          31,
          30,
          29,
          33,
          28,
          30,
          26,
          26,
          27,
          28,
          27,
          29,
          32,
          27,
          28,
          28,
          28,
          28,
          30,
          29,
          27,
          29,
          18,
          26,
          26,
          29,
          29,
          28,
          26,
          27,
          30,
          26,
          27,
          25,
          28,
          26,
          28,
          28,
          27,
          28,
          29,
          27,
          25,
          26,
          28,
          27,
          27,
          26,
          26,
          27,
          28,
          21,
          25,
          28,
          26,
          27,
          25,
          25,
          27,
          28,
          30,
          25,
          29,
          26,
          28,
          23,
          25,
          23,
          24,
          26,
          25,
          27,
          23,
          26,
          23,
          24,
          25,
          24,
          29,
          28,
          24,
          24,
          30,
          25,
          22,
          28,
          23,
          25,
          22,
          25,
          23,
          24,
          23,
          25,
          22,
          21,
          23,
          28,
          21,
          23,
          22,
          21,
          21,
          23,
          26,
          21,
          24,
          24,
          21,
          21,
          20,
          22,
          23,
          21,
          25,
          26,
          21,
          22,
          23,
          26,
          21,
          23,
          22,
          21,
          23,
          23,
          24,
          24,
          23,
          20,
          23,
          25,
          20,
          26,
          25,
          23,
          24,
          24,
          21,
          20,
          20,
          23,
          22,
          20,
          33,
          20,
          21,
          20,
          23,
          27,
          31,
          22,
          21,
          29,
          22,
          48,
          20,
          19,
          21,
          18,
          19,
          19,
          21,
          19,
          19,
          45,
          19,
          21,
          37,
          24,
          20,
          20,
          18,
          19,
          20,
          19,
          19,
          20,
          18,
          21,
          24,
          21,
          23,
          21,
          22,
          41,
          20,
          18,
          21,
          18,
          25,
          19,
          18,
          21,
          18,
          22,
          20,
          17,
          20,
          19,
          19,
          20,
          19,
          21,
          17,
          21,
          18,
          17,
          18,
          17,
          17,
          20,
          35,
          20,
          18,
          18,
          17,
          18,
          18,
          17,
          20,
          16,
          18,
          20,
          16,
          18,
          19,
          31,
          16,
          20,
          16,
          20,
          18,
          15,
          18,
          18,
          17,
          17,
          18,
          16,
          18,
          16,
          14,
          15,
          17,
          14,
          16,
          17,
          16,
          15,
          15,
          39,
          18,
          35,
          41,
          33,
          19,
          38,
          29,
          28,
          31,
          39,
          20,
          25,
          23,
          28,
          24,
          19,
          34,
          20,
          27,
          24,
          34,
          32,
          39,
          32,
          24,
          37,
          26,
          36,
          18,
          31,
          25,
          15,
          16,
          18,
          27,
          31,
          20,
          29,
          24,
          19,
          17,
          42,
          16,
          32,
          33,
          27,
          33,
          19,
          24,
          26,
          18,
          22,
          24,
          24,
          18,
          20,
          27,
          16,
          29,
          21,
          17,
          34,
          20,
          33,
          15,
          26,
          40,
          27,
          22,
          20,
          38,
          21,
          23,
          36,
          24,
          27,
          25,
          24,
          44,
          30,
          22,
          25,
          29,
          23,
          20,
          19,
          36,
          17,
          20,
          23,
          30,
          33,
          35,
          45,
          41,
          17,
          21,
          23,
          15,
          20,
          18,
          19,
          17,
          20,
          28,
          28,
          34,
          23,
          20,
          29,
          19,
          26,
          21,
          23,
          21,
          23,
          24,
          35,
          25,
          19,
          19,
          24,
          31,
          36,
          22,
          19,
          18,
          32,
          23,
          41,
          24,
          26,
          20,
          21,
          27,
          36,
          37,
          28,
          17,
          32,
          39,
          28,
          15,
          23,
          27,
          16,
          22,
          32,
          26,
          41,
          59,
          21,
          45,
          21,
          23,
          22,
          18,
          27,
          16,
          23,
          28,
          23,
          38,
          21,
          17,
          79,
          84,
          47,
          52,
          13,
          48,
          42,
          45,
          70,
          46,
          32,
          50,
          49,
          42,
          70,
          39,
          46,
          49,
          35,
          33,
          28,
          24,
          15,
          26,
          18,
          18,
          28,
          29,
          18,
          27,
          18,
          26,
          17,
          41,
          18,
          21,
          22,
          25,
          27,
          19,
          23,
          16,
          29,
          19,
          37,
          21,
          40,
          26,
          34,
          23,
          19,
          30,
          21,
          29,
          31,
          32,
          23,
          40,
          23,
          31,
          30,
          36,
          20,
          27,
          28,
          40,
          19,
          29,
          17,
          16,
          24,
          21,
          25,
          29,
          18,
          34,
          20,
          28,
          30,
          25,
          30,
          18,
          17,
          41,
          23,
          25,
          21,
          26,
          43,
          27,
          17,
          37,
          34,
          18,
          29,
          25,
          25,
          22,
          20,
          24,
          15,
          24,
          35,
          31,
          33,
          25,
          19,
          23,
          35,
          15,
          18,
          29,
          34,
          17,
          29,
          29,
          19,
          17,
          14,
          20,
          30,
          29,
          35,
          24,
          31,
          36,
          33,
          36,
          42,
          33,
          35,
          33,
          34,
          35,
          40,
          30,
          34,
          30,
          24,
          37,
          31,
          35,
          31,
          24,
          23,
          36,
          30,
          26,
          19,
          35,
          30,
          31,
          32,
          19,
          23,
          43,
          34,
          32,
          25,
          33,
          29
         ],
         "xaxis": "x",
         "yaxis": "y"
        },
        {
         "alignmentgroup": "True",
         "hovertemplate": "Age=%{x}<extra></extra>",
         "legendgroup": "",
         "marker": {
          "color": "rgb(3, 35, 51)"
         },
         "name": "",
         "notched": true,
         "offsetgroup": "",
         "showlegend": false,
         "type": "box",
         "x": [
          18,
          15,
          34,
          52,
          46,
          42,
          51,
          26,
          45,
          44,
          27,
          45,
          44,
          43,
          40,
          41,
          43,
          42,
          40,
          43,
          41,
          40,
          40,
          40,
          44,
          39,
          39,
          37,
          37,
          41,
          40,
          37,
          37,
          38,
          37,
          39,
          37,
          39,
          36,
          37,
          36,
          36,
          37,
          36,
          40,
          41,
          37,
          36,
          36,
          36,
          35,
          36,
          41,
          35,
          33,
          35,
          35,
          34,
          35,
          35,
          33,
          38,
          37,
          36,
          35,
          35,
          36,
          34,
          35,
          35,
          34,
          33,
          35,
          35,
          33,
          31,
          32,
          32,
          36,
          34,
          36,
          35,
          32,
          33,
          35,
          33,
          33,
          33,
          35,
          35,
          33,
          34,
          30,
          38,
          33,
          34,
          30,
          33,
          32,
          32,
          30,
          23,
          34,
          34,
          31,
          30,
          28,
          33,
          30,
          31,
          30,
          31,
          31,
          29,
          29,
          30,
          28,
          30,
          30,
          33,
          30,
          27,
          29,
          29,
          30,
          30,
          30,
          31,
          30,
          29,
          33,
          28,
          30,
          26,
          26,
          27,
          28,
          27,
          29,
          32,
          27,
          28,
          28,
          28,
          28,
          30,
          29,
          27,
          29,
          18,
          26,
          26,
          29,
          29,
          28,
          26,
          27,
          30,
          26,
          27,
          25,
          28,
          26,
          28,
          28,
          27,
          28,
          29,
          27,
          25,
          26,
          28,
          27,
          27,
          26,
          26,
          27,
          28,
          21,
          25,
          28,
          26,
          27,
          25,
          25,
          27,
          28,
          30,
          25,
          29,
          26,
          28,
          23,
          25,
          23,
          24,
          26,
          25,
          27,
          23,
          26,
          23,
          24,
          25,
          24,
          29,
          28,
          24,
          24,
          30,
          25,
          22,
          28,
          23,
          25,
          22,
          25,
          23,
          24,
          23,
          25,
          22,
          21,
          23,
          28,
          21,
          23,
          22,
          21,
          21,
          23,
          26,
          21,
          24,
          24,
          21,
          21,
          20,
          22,
          23,
          21,
          25,
          26,
          21,
          22,
          23,
          26,
          21,
          23,
          22,
          21,
          23,
          23,
          24,
          24,
          23,
          20,
          23,
          25,
          20,
          26,
          25,
          23,
          24,
          24,
          21,
          20,
          20,
          23,
          22,
          20,
          33,
          20,
          21,
          20,
          23,
          27,
          31,
          22,
          21,
          29,
          22,
          48,
          20,
          19,
          21,
          18,
          19,
          19,
          21,
          19,
          19,
          45,
          19,
          21,
          37,
          24,
          20,
          20,
          18,
          19,
          20,
          19,
          19,
          20,
          18,
          21,
          24,
          21,
          23,
          21,
          22,
          41,
          20,
          18,
          21,
          18,
          25,
          19,
          18,
          21,
          18,
          22,
          20,
          17,
          20,
          19,
          19,
          20,
          19,
          21,
          17,
          21,
          18,
          17,
          18,
          17,
          17,
          20,
          35,
          20,
          18,
          18,
          17,
          18,
          18,
          17,
          20,
          16,
          18,
          20,
          16,
          18,
          19,
          31,
          16,
          20,
          16,
          20,
          18,
          15,
          18,
          18,
          17,
          17,
          18,
          16,
          18,
          16,
          14,
          15,
          17,
          14,
          16,
          17,
          16,
          15,
          15,
          39,
          18,
          35,
          41,
          33,
          19,
          38,
          29,
          28,
          31,
          39,
          20,
          25,
          23,
          28,
          24,
          19,
          34,
          20,
          27,
          24,
          34,
          32,
          39,
          32,
          24,
          37,
          26,
          36,
          18,
          31,
          25,
          15,
          16,
          18,
          27,
          31,
          20,
          29,
          24,
          19,
          17,
          42,
          16,
          32,
          33,
          27,
          33,
          19,
          24,
          26,
          18,
          22,
          24,
          24,
          18,
          20,
          27,
          16,
          29,
          21,
          17,
          34,
          20,
          33,
          15,
          26,
          40,
          27,
          22,
          20,
          38,
          21,
          23,
          36,
          24,
          27,
          25,
          24,
          44,
          30,
          22,
          25,
          29,
          23,
          20,
          19,
          36,
          17,
          20,
          23,
          30,
          33,
          35,
          45,
          41,
          17,
          21,
          23,
          15,
          20,
          18,
          19,
          17,
          20,
          28,
          28,
          34,
          23,
          20,
          29,
          19,
          26,
          21,
          23,
          21,
          23,
          24,
          35,
          25,
          19,
          19,
          24,
          31,
          36,
          22,
          19,
          18,
          32,
          23,
          41,
          24,
          26,
          20,
          21,
          27,
          36,
          37,
          28,
          17,
          32,
          39,
          28,
          15,
          23,
          27,
          16,
          22,
          32,
          26,
          41,
          59,
          21,
          45,
          21,
          23,
          22,
          18,
          27,
          16,
          23,
          28,
          23,
          38,
          21,
          17,
          79,
          84,
          47,
          52,
          13,
          48,
          42,
          45,
          70,
          46,
          32,
          50,
          49,
          42,
          70,
          39,
          46,
          49,
          35,
          33,
          28,
          24,
          15,
          26,
          18,
          18,
          28,
          29,
          18,
          27,
          18,
          26,
          17,
          41,
          18,
          21,
          22,
          25,
          27,
          19,
          23,
          16,
          29,
          19,
          37,
          21,
          40,
          26,
          34,
          23,
          19,
          30,
          21,
          29,
          31,
          32,
          23,
          40,
          23,
          31,
          30,
          36,
          20,
          27,
          28,
          40,
          19,
          29,
          17,
          16,
          24,
          21,
          25,
          29,
          18,
          34,
          20,
          28,
          30,
          25,
          30,
          18,
          17,
          41,
          23,
          25,
          21,
          26,
          43,
          27,
          17,
          37,
          34,
          18,
          29,
          25,
          25,
          22,
          20,
          24,
          15,
          24,
          35,
          31,
          33,
          25,
          19,
          23,
          35,
          15,
          18,
          29,
          34,
          17,
          29,
          29,
          19,
          17,
          14,
          20,
          30,
          29,
          35,
          24,
          31,
          36,
          33,
          36,
          42,
          33,
          35,
          33,
          34,
          35,
          40,
          30,
          34,
          30,
          24,
          37,
          31,
          35,
          31,
          24,
          23,
          36,
          30,
          26,
          19,
          35,
          30,
          31,
          32,
          19,
          23,
          43,
          34,
          32,
          25,
          33,
          29
         ],
         "xaxis": "x2",
         "yaxis": "y2"
        }
       ],
       "layout": {
        "bargap": 0.2,
        "barmode": "relative",
        "legend": {
         "tracegroupgap": 0
        },
        "margin": {
         "t": 60
        },
        "template": {
         "data": {
          "bar": [
           {
            "error_x": {
             "color": "#2a3f5f"
            },
            "error_y": {
             "color": "#2a3f5f"
            },
            "marker": {
             "line": {
              "color": "#E5ECF6",
              "width": 0.5
             },
             "pattern": {
              "fillmode": "overlay",
              "size": 10,
              "solidity": 0.2
             }
            },
            "type": "bar"
           }
          ],
          "barpolar": [
           {
            "marker": {
             "line": {
              "color": "#E5ECF6",
              "width": 0.5
             },
             "pattern": {
              "fillmode": "overlay",
              "size": 10,
              "solidity": 0.2
             }
            },
            "type": "barpolar"
           }
          ],
          "carpet": [
           {
            "aaxis": {
             "endlinecolor": "#2a3f5f",
             "gridcolor": "white",
             "linecolor": "white",
             "minorgridcolor": "white",
             "startlinecolor": "#2a3f5f"
            },
            "baxis": {
             "endlinecolor": "#2a3f5f",
             "gridcolor": "white",
             "linecolor": "white",
             "minorgridcolor": "white",
             "startlinecolor": "#2a3f5f"
            },
            "type": "carpet"
           }
          ],
          "choropleth": [
           {
            "colorbar": {
             "outlinewidth": 0,
             "ticks": ""
            },
            "type": "choropleth"
           }
          ],
          "contour": [
           {
            "colorbar": {
             "outlinewidth": 0,
             "ticks": ""
            },
            "colorscale": [
             [
              0,
              "#0d0887"
             ],
             [
              0.1111111111111111,
              "#46039f"
             ],
             [
              0.2222222222222222,
              "#7201a8"
             ],
             [
              0.3333333333333333,
              "#9c179e"
             ],
             [
              0.4444444444444444,
              "#bd3786"
             ],
             [
              0.5555555555555556,
              "#d8576b"
             ],
             [
              0.6666666666666666,
              "#ed7953"
             ],
             [
              0.7777777777777778,
              "#fb9f3a"
             ],
             [
              0.8888888888888888,
              "#fdca26"
             ],
             [
              1,
              "#f0f921"
             ]
            ],
            "type": "contour"
           }
          ],
          "contourcarpet": [
           {
            "colorbar": {
             "outlinewidth": 0,
             "ticks": ""
            },
            "type": "contourcarpet"
           }
          ],
          "heatmap": [
           {
            "colorbar": {
             "outlinewidth": 0,
             "ticks": ""
            },
            "colorscale": [
             [
              0,
              "#0d0887"
             ],
             [
              0.1111111111111111,
              "#46039f"
             ],
             [
              0.2222222222222222,
              "#7201a8"
             ],
             [
              0.3333333333333333,
              "#9c179e"
             ],
             [
              0.4444444444444444,
              "#bd3786"
             ],
             [
              0.5555555555555556,
              "#d8576b"
             ],
             [
              0.6666666666666666,
              "#ed7953"
             ],
             [
              0.7777777777777778,
              "#fb9f3a"
             ],
             [
              0.8888888888888888,
              "#fdca26"
             ],
             [
              1,
              "#f0f921"
             ]
            ],
            "type": "heatmap"
           }
          ],
          "heatmapgl": [
           {
            "colorbar": {
             "outlinewidth": 0,
             "ticks": ""
            },
            "colorscale": [
             [
              0,
              "#0d0887"
             ],
             [
              0.1111111111111111,
              "#46039f"
             ],
             [
              0.2222222222222222,
              "#7201a8"
             ],
             [
              0.3333333333333333,
              "#9c179e"
             ],
             [
              0.4444444444444444,
              "#bd3786"
             ],
             [
              0.5555555555555556,
              "#d8576b"
             ],
             [
              0.6666666666666666,
              "#ed7953"
             ],
             [
              0.7777777777777778,
              "#fb9f3a"
             ],
             [
              0.8888888888888888,
              "#fdca26"
             ],
             [
              1,
              "#f0f921"
             ]
            ],
            "type": "heatmapgl"
           }
          ],
          "histogram": [
           {
            "marker": {
             "pattern": {
              "fillmode": "overlay",
              "size": 10,
              "solidity": 0.2
             }
            },
            "type": "histogram"
           }
          ],
          "histogram2d": [
           {
            "colorbar": {
             "outlinewidth": 0,
             "ticks": ""
            },
            "colorscale": [
             [
              0,
              "#0d0887"
             ],
             [
              0.1111111111111111,
              "#46039f"
             ],
             [
              0.2222222222222222,
              "#7201a8"
             ],
             [
              0.3333333333333333,
              "#9c179e"
             ],
             [
              0.4444444444444444,
              "#bd3786"
             ],
             [
              0.5555555555555556,
              "#d8576b"
             ],
             [
              0.6666666666666666,
              "#ed7953"
             ],
             [
              0.7777777777777778,
              "#fb9f3a"
             ],
             [
              0.8888888888888888,
              "#fdca26"
             ],
             [
              1,
              "#f0f921"
             ]
            ],
            "type": "histogram2d"
           }
          ],
          "histogram2dcontour": [
           {
            "colorbar": {
             "outlinewidth": 0,
             "ticks": ""
            },
            "colorscale": [
             [
              0,
              "#0d0887"
             ],
             [
              0.1111111111111111,
              "#46039f"
             ],
             [
              0.2222222222222222,
              "#7201a8"
             ],
             [
              0.3333333333333333,
              "#9c179e"
             ],
             [
              0.4444444444444444,
              "#bd3786"
             ],
             [
              0.5555555555555556,
              "#d8576b"
             ],
             [
              0.6666666666666666,
              "#ed7953"
             ],
             [
              0.7777777777777778,
              "#fb9f3a"
             ],
             [
              0.8888888888888888,
              "#fdca26"
             ],
             [
              1,
              "#f0f921"
             ]
            ],
            "type": "histogram2dcontour"
           }
          ],
          "mesh3d": [
           {
            "colorbar": {
             "outlinewidth": 0,
             "ticks": ""
            },
            "type": "mesh3d"
           }
          ],
          "parcoords": [
           {
            "line": {
             "colorbar": {
              "outlinewidth": 0,
              "ticks": ""
             }
            },
            "type": "parcoords"
           }
          ],
          "pie": [
           {
            "automargin": true,
            "type": "pie"
           }
          ],
          "scatter": [
           {
            "fillpattern": {
             "fillmode": "overlay",
             "size": 10,
             "solidity": 0.2
            },
            "type": "scatter"
           }
          ],
          "scatter3d": [
           {
            "line": {
             "colorbar": {
              "outlinewidth": 0,
              "ticks": ""
             }
            },
            "marker": {
             "colorbar": {
              "outlinewidth": 0,
              "ticks": ""
             }
            },
            "type": "scatter3d"
           }
          ],
          "scattercarpet": [
           {
            "marker": {
             "colorbar": {
              "outlinewidth": 0,
              "ticks": ""
             }
            },
            "type": "scattercarpet"
           }
          ],
          "scattergeo": [
           {
            "marker": {
             "colorbar": {
              "outlinewidth": 0,
              "ticks": ""
             }
            },
            "type": "scattergeo"
           }
          ],
          "scattergl": [
           {
            "marker": {
             "colorbar": {
              "outlinewidth": 0,
              "ticks": ""
             }
            },
            "type": "scattergl"
           }
          ],
          "scattermapbox": [
           {
            "marker": {
             "colorbar": {
              "outlinewidth": 0,
              "ticks": ""
             }
            },
            "type": "scattermapbox"
           }
          ],
          "scatterpolar": [
           {
            "marker": {
             "colorbar": {
              "outlinewidth": 0,
              "ticks": ""
             }
            },
            "type": "scatterpolar"
           }
          ],
          "scatterpolargl": [
           {
            "marker": {
             "colorbar": {
              "outlinewidth": 0,
              "ticks": ""
             }
            },
            "type": "scatterpolargl"
           }
          ],
          "scatterternary": [
           {
            "marker": {
             "colorbar": {
              "outlinewidth": 0,
              "ticks": ""
             }
            },
            "type": "scatterternary"
           }
          ],
          "surface": [
           {
            "colorbar": {
             "outlinewidth": 0,
             "ticks": ""
            },
            "colorscale": [
             [
              0,
              "#0d0887"
             ],
             [
              0.1111111111111111,
              "#46039f"
             ],
             [
              0.2222222222222222,
              "#7201a8"
             ],
             [
              0.3333333333333333,
              "#9c179e"
             ],
             [
              0.4444444444444444,
              "#bd3786"
             ],
             [
              0.5555555555555556,
              "#d8576b"
             ],
             [
              0.6666666666666666,
              "#ed7953"
             ],
             [
              0.7777777777777778,
              "#fb9f3a"
             ],
             [
              0.8888888888888888,
              "#fdca26"
             ],
             [
              1,
              "#f0f921"
             ]
            ],
            "type": "surface"
           }
          ],
          "table": [
           {
            "cells": {
             "fill": {
              "color": "#EBF0F8"
             },
             "line": {
              "color": "white"
             }
            },
            "header": {
             "fill": {
              "color": "#C8D4E3"
             },
             "line": {
              "color": "white"
             }
            },
            "type": "table"
           }
          ]
         },
         "layout": {
          "annotationdefaults": {
           "arrowcolor": "#2a3f5f",
           "arrowhead": 0,
           "arrowwidth": 1
          },
          "autotypenumbers": "strict",
          "coloraxis": {
           "colorbar": {
            "outlinewidth": 0,
            "ticks": ""
           }
          },
          "colorscale": {
           "diverging": [
            [
             0,
             "#8e0152"
            ],
            [
             0.1,
             "#c51b7d"
            ],
            [
             0.2,
             "#de77ae"
            ],
            [
             0.3,
             "#f1b6da"
            ],
            [
             0.4,
             "#fde0ef"
            ],
            [
             0.5,
             "#f7f7f7"
            ],
            [
             0.6,
             "#e6f5d0"
            ],
            [
             0.7,
             "#b8e186"
            ],
            [
             0.8,
             "#7fbc41"
            ],
            [
             0.9,
             "#4d9221"
            ],
            [
             1,
             "#276419"
            ]
           ],
           "sequential": [
            [
             0,
             "#0d0887"
            ],
            [
             0.1111111111111111,
             "#46039f"
            ],
            [
             0.2222222222222222,
             "#7201a8"
            ],
            [
             0.3333333333333333,
             "#9c179e"
            ],
            [
             0.4444444444444444,
             "#bd3786"
            ],
            [
             0.5555555555555556,
             "#d8576b"
            ],
            [
             0.6666666666666666,
             "#ed7953"
            ],
            [
             0.7777777777777778,
             "#fb9f3a"
            ],
            [
             0.8888888888888888,
             "#fdca26"
            ],
            [
             1,
             "#f0f921"
            ]
           ],
           "sequentialminus": [
            [
             0,
             "#0d0887"
            ],
            [
             0.1111111111111111,
             "#46039f"
            ],
            [
             0.2222222222222222,
             "#7201a8"
            ],
            [
             0.3333333333333333,
             "#9c179e"
            ],
            [
             0.4444444444444444,
             "#bd3786"
            ],
            [
             0.5555555555555556,
             "#d8576b"
            ],
            [
             0.6666666666666666,
             "#ed7953"
            ],
            [
             0.7777777777777778,
             "#fb9f3a"
            ],
            [
             0.8888888888888888,
             "#fdca26"
            ],
            [
             1,
             "#f0f921"
            ]
           ]
          },
          "colorway": [
           "#636efa",
           "#EF553B",
           "#00cc96",
           "#ab63fa",
           "#FFA15A",
           "#19d3f3",
           "#FF6692",
           "#B6E880",
           "#FF97FF",
           "#FECB52"
          ],
          "font": {
           "color": "#2a3f5f"
          },
          "geo": {
           "bgcolor": "white",
           "lakecolor": "white",
           "landcolor": "#E5ECF6",
           "showlakes": true,
           "showland": true,
           "subunitcolor": "white"
          },
          "hoverlabel": {
           "align": "left"
          },
          "hovermode": "closest",
          "mapbox": {
           "style": "light"
          },
          "paper_bgcolor": "white",
          "plot_bgcolor": "#E5ECF6",
          "polar": {
           "angularaxis": {
            "gridcolor": "white",
            "linecolor": "white",
            "ticks": ""
           },
           "bgcolor": "#E5ECF6",
           "radialaxis": {
            "gridcolor": "white",
            "linecolor": "white",
            "ticks": ""
           }
          },
          "scene": {
           "xaxis": {
            "backgroundcolor": "#E5ECF6",
            "gridcolor": "white",
            "gridwidth": 2,
            "linecolor": "white",
            "showbackground": true,
            "ticks": "",
            "zerolinecolor": "white"
           },
           "yaxis": {
            "backgroundcolor": "#E5ECF6",
            "gridcolor": "white",
            "gridwidth": 2,
            "linecolor": "white",
            "showbackground": true,
            "ticks": "",
            "zerolinecolor": "white"
           },
           "zaxis": {
            "backgroundcolor": "#E5ECF6",
            "gridcolor": "white",
            "gridwidth": 2,
            "linecolor": "white",
            "showbackground": true,
            "ticks": "",
            "zerolinecolor": "white"
           }
          },
          "shapedefaults": {
           "line": {
            "color": "#2a3f5f"
           }
          },
          "ternary": {
           "aaxis": {
            "gridcolor": "white",
            "linecolor": "white",
            "ticks": ""
           },
           "baxis": {
            "gridcolor": "white",
            "linecolor": "white",
            "ticks": ""
           },
           "bgcolor": "#E5ECF6",
           "caxis": {
            "gridcolor": "white",
            "linecolor": "white",
            "ticks": ""
           }
          },
          "title": {
           "x": 0.05
          },
          "xaxis": {
           "automargin": true,
           "gridcolor": "white",
           "linecolor": "white",
           "ticks": "",
           "title": {
            "standoff": 15
           },
           "zerolinecolor": "white",
           "zerolinewidth": 2
          },
          "yaxis": {
           "automargin": true,
           "gridcolor": "white",
           "linecolor": "white",
           "ticks": "",
           "title": {
            "standoff": 15
           },
           "zerolinecolor": "white",
           "zerolinewidth": 2
          }
         }
        },
        "width": 700,
        "xaxis": {
         "anchor": "y",
         "domain": [
          0,
          1
         ],
         "title": {
          "text": "Age"
         }
        },
        "xaxis2": {
         "anchor": "y2",
         "domain": [
          0,
          1
         ],
         "matches": "x",
         "showgrid": true,
         "showticklabels": false
        },
        "yaxis": {
         "anchor": "x",
         "domain": [
          0,
          0.8316
         ],
         "title": {
          "text": "count"
         }
        },
        "yaxis2": {
         "anchor": "x2",
         "domain": [
          0.8416,
          1
         ],
         "matches": "y2",
         "showgrid": false,
         "showline": false,
         "showticklabels": false,
         "ticks": ""
        }
       }
      }
     },
     "metadata": {},
     "output_type": "display_data"
    },
    {
     "name": "stdout",
     "output_type": "stream",
     "text": [
      "Age\n",
      "median: 26.0, upper fence: 51.0, lower fence: 3.0\n"
     ]
    },
    {
     "data": {
      "application/vnd.plotly.v1+json": {
       "config": {
        "plotlyServerURL": "https://plot.ly"
       },
       "data": [
        {
         "alignmentgroup": "True",
         "bingroup": "x",
         "hovertemplate": "Number of sexual partners=%{x}<br>count=%{y}<extra></extra>",
         "legendgroup": "",
         "marker": {
          "color": "rgb(3, 35, 51)",
          "pattern": {
           "shape": ""
          }
         },
         "name": "",
         "offsetgroup": "",
         "orientation": "v",
         "showlegend": false,
         "type": "histogram",
         "x": [
          4,
          1,
          1,
          5,
          3,
          3,
          3,
          1,
          1,
          3,
          1,
          4,
          2,
          2,
          3,
          4,
          3,
          2,
          2,
          2,
          3,
          1,
          1,
          3,
          3,
          5,
          2,
          3,
          6,
          3,
          2,
          3,
          3,
          2,
          3,
          2,
          2,
          1,
          2,
          2,
          3,
          3,
          3,
          1,
          2,
          2,
          3,
          3,
          2,
          5,
          3,
          1,
          4,
          5,
          3,
          2,
          3,
          3,
          3,
          1,
          1,
          2,
          3,
          4,
          3,
          5,
          4,
          2,
          2,
          2,
          5,
          3,
          3,
          2,
          1,
          3,
          2,
          3,
          2,
          1,
          2,
          5,
          3,
          1,
          3,
          4,
          1,
          3,
          5,
          1,
          3,
          3,
          5,
          3,
          2,
          4,
          4,
          5,
          2,
          3,
          3,
          5,
          3,
          3,
          3,
          2,
          3,
          1,
          5,
          3,
          3,
          3,
          2,
          2,
          1,
          2,
          2,
          2,
          2,
          4,
          3,
          3,
          4,
          1,
          2,
          1,
          2,
          3,
          4,
          4,
          3,
          2,
          1,
          3,
          2,
          2,
          4,
          1,
          2,
          2,
          2,
          2,
          2,
          1,
          5,
          3,
          1,
          2,
          4,
          3,
          3,
          2,
          2,
          3,
          3,
          1,
          3,
          1,
          2,
          2,
          3,
          2,
          1,
          2,
          3,
          5,
          8,
          3,
          2,
          4,
          2,
          3,
          1,
          2,
          7,
          4,
          2,
          2,
          1,
          3,
          2,
          3,
          4,
          3,
          5,
          1,
          3,
          1,
          1,
          3,
          1,
          3,
          4,
          2,
          1,
          2,
          1,
          4,
          3,
          2,
          3,
          3,
          2,
          2,
          2,
          4,
          3,
          1,
          2,
          1,
          3,
          1,
          2,
          1,
          2,
          3,
          2,
          1,
          2,
          1,
          3,
          3,
          5,
          8,
          2,
          2,
          2,
          2,
          2,
          2,
          2,
          1,
          1,
          3,
          2,
          3,
          4,
          1,
          2,
          2,
          1,
          3,
          2,
          4,
          3,
          2,
          2,
          1,
          1,
          2,
          1,
          1,
          1,
          3,
          1,
          2,
          2,
          4,
          3,
          5,
          3,
          2,
          2,
          4,
          5,
          1,
          3,
          1,
          2,
          3,
          2,
          2,
          1,
          1,
          2,
          1,
          1,
          1,
          3,
          2,
          2,
          1,
          2,
          2,
          3,
          2,
          1,
          2,
          1,
          3,
          4,
          4,
          2,
          3,
          1,
          2,
          1,
          4,
          1,
          1,
          3,
          2,
          3,
          1,
          2,
          1,
          4,
          4,
          5,
          2,
          5,
          1,
          3,
          2,
          2,
          2,
          3,
          5,
          2,
          1,
          3,
          2,
          2,
          3,
          1,
          2,
          1,
          3,
          2,
          2,
          1,
          2,
          1,
          3,
          3,
          2,
          2,
          2,
          2,
          3,
          3,
          3,
          1,
          1,
          2,
          2,
          2,
          2,
          2,
          7,
          1,
          1,
          1,
          4,
          3,
          1,
          3,
          1,
          3,
          5,
          1,
          1,
          3,
          3,
          3,
          1,
          2,
          1,
          1,
          2,
          3,
          5,
          1,
          1,
          1,
          28,
          2,
          2,
          5,
          2,
          2,
          3,
          3,
          4,
          2,
          4,
          1,
          2,
          1,
          3,
          1,
          1,
          1,
          1,
          1,
          1,
          1,
          1,
          3,
          2,
          2,
          4,
          1,
          5,
          3,
          2,
          1,
          1,
          2,
          2,
          3,
          2,
          2,
          5,
          4,
          2,
          1,
          3,
          1,
          2,
          2,
          2,
          4,
          1,
          3,
          4,
          1,
          3,
          2,
          2,
          3,
          4,
          3,
          1,
          3,
          4,
          3,
          3,
          1,
          2,
          2,
          3,
          3,
          4,
          3,
          2,
          2,
          1,
          1,
          1,
          1,
          1,
          1,
          1,
          2,
          2,
          1,
          2,
          2,
          2,
          2,
          2,
          2,
          4,
          1,
          6,
          2,
          4,
          3,
          2,
          3,
          3,
          5,
          3,
          2,
          5,
          4,
          2,
          3,
          1,
          2,
          2,
          2,
          3,
          3,
          3,
          3,
          2,
          5,
          2,
          2,
          2,
          2,
          2,
          2,
          1,
          6,
          2,
          2,
          2,
          3,
          1,
          1,
          1,
          1,
          2,
          3,
          1,
          2,
          1,
          2,
          3,
          2,
          6,
          2,
          3,
          2,
          2,
          4,
          2,
          6,
          4,
          1,
          4,
          1,
          2,
          2,
          2,
          3,
          1,
          2,
          3,
          1,
          2,
          2,
          3,
          2,
          5,
          3,
          2,
          4,
          1,
          4,
          2,
          2,
          1,
          4,
          3,
          1,
          4,
          1,
          1,
          2,
          3,
          2,
          1,
          2,
          1,
          2,
          5,
          3,
          5,
          1,
          1,
          2,
          1,
          2,
          2,
          4,
          2,
          4,
          5,
          4,
          1,
          3,
          1,
          2,
          1,
          2,
          1,
          2,
          3,
          1,
          2,
          3,
          2,
          5,
          2,
          2,
          1,
          5,
          1,
          1,
          1,
          3,
          2,
          3,
          5,
          3,
          1,
          2,
          2,
          3,
          2,
          6,
          2,
          1,
          7,
          5,
          4,
          1,
          2,
          1,
          4,
          5,
          3,
          2,
          1,
          4,
          2,
          4,
          4,
          3,
          1,
          3,
          1,
          5,
          1,
          2,
          4,
          2,
          1,
          4,
          1,
          5,
          3,
          7,
          6,
          2,
          1,
          2,
          2,
          2,
          3,
          7,
          3,
          4,
          3,
          2,
          3,
          2,
          3,
          8,
          3,
          3,
          2,
          2,
          1,
          1,
          5,
          1,
          1,
          1,
          4,
          2,
          3,
          3,
          3,
          2,
          3,
          4,
          3,
          2,
          3,
          4,
          3,
          2,
          1,
          3,
          1,
          3,
          9,
          3,
          3,
          2,
          2,
          3,
          3,
          8,
          2,
          2,
          3,
          3,
          3,
          1,
          2,
          3,
          3,
          2,
          2,
          2,
          2
         ],
         "xaxis": "x",
         "yaxis": "y"
        },
        {
         "alignmentgroup": "True",
         "hovertemplate": "Number of sexual partners=%{x}<extra></extra>",
         "legendgroup": "",
         "marker": {
          "color": "rgb(3, 35, 51)"
         },
         "name": "",
         "notched": true,
         "offsetgroup": "",
         "showlegend": false,
         "type": "box",
         "x": [
          4,
          1,
          1,
          5,
          3,
          3,
          3,
          1,
          1,
          3,
          1,
          4,
          2,
          2,
          3,
          4,
          3,
          2,
          2,
          2,
          3,
          1,
          1,
          3,
          3,
          5,
          2,
          3,
          6,
          3,
          2,
          3,
          3,
          2,
          3,
          2,
          2,
          1,
          2,
          2,
          3,
          3,
          3,
          1,
          2,
          2,
          3,
          3,
          2,
          5,
          3,
          1,
          4,
          5,
          3,
          2,
          3,
          3,
          3,
          1,
          1,
          2,
          3,
          4,
          3,
          5,
          4,
          2,
          2,
          2,
          5,
          3,
          3,
          2,
          1,
          3,
          2,
          3,
          2,
          1,
          2,
          5,
          3,
          1,
          3,
          4,
          1,
          3,
          5,
          1,
          3,
          3,
          5,
          3,
          2,
          4,
          4,
          5,
          2,
          3,
          3,
          5,
          3,
          3,
          3,
          2,
          3,
          1,
          5,
          3,
          3,
          3,
          2,
          2,
          1,
          2,
          2,
          2,
          2,
          4,
          3,
          3,
          4,
          1,
          2,
          1,
          2,
          3,
          4,
          4,
          3,
          2,
          1,
          3,
          2,
          2,
          4,
          1,
          2,
          2,
          2,
          2,
          2,
          1,
          5,
          3,
          1,
          2,
          4,
          3,
          3,
          2,
          2,
          3,
          3,
          1,
          3,
          1,
          2,
          2,
          3,
          2,
          1,
          2,
          3,
          5,
          8,
          3,
          2,
          4,
          2,
          3,
          1,
          2,
          7,
          4,
          2,
          2,
          1,
          3,
          2,
          3,
          4,
          3,
          5,
          1,
          3,
          1,
          1,
          3,
          1,
          3,
          4,
          2,
          1,
          2,
          1,
          4,
          3,
          2,
          3,
          3,
          2,
          2,
          2,
          4,
          3,
          1,
          2,
          1,
          3,
          1,
          2,
          1,
          2,
          3,
          2,
          1,
          2,
          1,
          3,
          3,
          5,
          8,
          2,
          2,
          2,
          2,
          2,
          2,
          2,
          1,
          1,
          3,
          2,
          3,
          4,
          1,
          2,
          2,
          1,
          3,
          2,
          4,
          3,
          2,
          2,
          1,
          1,
          2,
          1,
          1,
          1,
          3,
          1,
          2,
          2,
          4,
          3,
          5,
          3,
          2,
          2,
          4,
          5,
          1,
          3,
          1,
          2,
          3,
          2,
          2,
          1,
          1,
          2,
          1,
          1,
          1,
          3,
          2,
          2,
          1,
          2,
          2,
          3,
          2,
          1,
          2,
          1,
          3,
          4,
          4,
          2,
          3,
          1,
          2,
          1,
          4,
          1,
          1,
          3,
          2,
          3,
          1,
          2,
          1,
          4,
          4,
          5,
          2,
          5,
          1,
          3,
          2,
          2,
          2,
          3,
          5,
          2,
          1,
          3,
          2,
          2,
          3,
          1,
          2,
          1,
          3,
          2,
          2,
          1,
          2,
          1,
          3,
          3,
          2,
          2,
          2,
          2,
          3,
          3,
          3,
          1,
          1,
          2,
          2,
          2,
          2,
          2,
          7,
          1,
          1,
          1,
          4,
          3,
          1,
          3,
          1,
          3,
          5,
          1,
          1,
          3,
          3,
          3,
          1,
          2,
          1,
          1,
          2,
          3,
          5,
          1,
          1,
          1,
          28,
          2,
          2,
          5,
          2,
          2,
          3,
          3,
          4,
          2,
          4,
          1,
          2,
          1,
          3,
          1,
          1,
          1,
          1,
          1,
          1,
          1,
          1,
          3,
          2,
          2,
          4,
          1,
          5,
          3,
          2,
          1,
          1,
          2,
          2,
          3,
          2,
          2,
          5,
          4,
          2,
          1,
          3,
          1,
          2,
          2,
          2,
          4,
          1,
          3,
          4,
          1,
          3,
          2,
          2,
          3,
          4,
          3,
          1,
          3,
          4,
          3,
          3,
          1,
          2,
          2,
          3,
          3,
          4,
          3,
          2,
          2,
          1,
          1,
          1,
          1,
          1,
          1,
          1,
          2,
          2,
          1,
          2,
          2,
          2,
          2,
          2,
          2,
          4,
          1,
          6,
          2,
          4,
          3,
          2,
          3,
          3,
          5,
          3,
          2,
          5,
          4,
          2,
          3,
          1,
          2,
          2,
          2,
          3,
          3,
          3,
          3,
          2,
          5,
          2,
          2,
          2,
          2,
          2,
          2,
          1,
          6,
          2,
          2,
          2,
          3,
          1,
          1,
          1,
          1,
          2,
          3,
          1,
          2,
          1,
          2,
          3,
          2,
          6,
          2,
          3,
          2,
          2,
          4,
          2,
          6,
          4,
          1,
          4,
          1,
          2,
          2,
          2,
          3,
          1,
          2,
          3,
          1,
          2,
          2,
          3,
          2,
          5,
          3,
          2,
          4,
          1,
          4,
          2,
          2,
          1,
          4,
          3,
          1,
          4,
          1,
          1,
          2,
          3,
          2,
          1,
          2,
          1,
          2,
          5,
          3,
          5,
          1,
          1,
          2,
          1,
          2,
          2,
          4,
          2,
          4,
          5,
          4,
          1,
          3,
          1,
          2,
          1,
          2,
          1,
          2,
          3,
          1,
          2,
          3,
          2,
          5,
          2,
          2,
          1,
          5,
          1,
          1,
          1,
          3,
          2,
          3,
          5,
          3,
          1,
          2,
          2,
          3,
          2,
          6,
          2,
          1,
          7,
          5,
          4,
          1,
          2,
          1,
          4,
          5,
          3,
          2,
          1,
          4,
          2,
          4,
          4,
          3,
          1,
          3,
          1,
          5,
          1,
          2,
          4,
          2,
          1,
          4,
          1,
          5,
          3,
          7,
          6,
          2,
          1,
          2,
          2,
          2,
          3,
          7,
          3,
          4,
          3,
          2,
          3,
          2,
          3,
          8,
          3,
          3,
          2,
          2,
          1,
          1,
          5,
          1,
          1,
          1,
          4,
          2,
          3,
          3,
          3,
          2,
          3,
          4,
          3,
          2,
          3,
          4,
          3,
          2,
          1,
          3,
          1,
          3,
          9,
          3,
          3,
          2,
          2,
          3,
          3,
          8,
          2,
          2,
          3,
          3,
          3,
          1,
          2,
          3,
          3,
          2,
          2,
          2,
          2
         ],
         "xaxis": "x2",
         "yaxis": "y2"
        }
       ],
       "layout": {
        "bargap": 0.2,
        "barmode": "relative",
        "legend": {
         "tracegroupgap": 0
        },
        "margin": {
         "t": 60
        },
        "template": {
         "data": {
          "bar": [
           {
            "error_x": {
             "color": "#2a3f5f"
            },
            "error_y": {
             "color": "#2a3f5f"
            },
            "marker": {
             "line": {
              "color": "#E5ECF6",
              "width": 0.5
             },
             "pattern": {
              "fillmode": "overlay",
              "size": 10,
              "solidity": 0.2
             }
            },
            "type": "bar"
           }
          ],
          "barpolar": [
           {
            "marker": {
             "line": {
              "color": "#E5ECF6",
              "width": 0.5
             },
             "pattern": {
              "fillmode": "overlay",
              "size": 10,
              "solidity": 0.2
             }
            },
            "type": "barpolar"
           }
          ],
          "carpet": [
           {
            "aaxis": {
             "endlinecolor": "#2a3f5f",
             "gridcolor": "white",
             "linecolor": "white",
             "minorgridcolor": "white",
             "startlinecolor": "#2a3f5f"
            },
            "baxis": {
             "endlinecolor": "#2a3f5f",
             "gridcolor": "white",
             "linecolor": "white",
             "minorgridcolor": "white",
             "startlinecolor": "#2a3f5f"
            },
            "type": "carpet"
           }
          ],
          "choropleth": [
           {
            "colorbar": {
             "outlinewidth": 0,
             "ticks": ""
            },
            "type": "choropleth"
           }
          ],
          "contour": [
           {
            "colorbar": {
             "outlinewidth": 0,
             "ticks": ""
            },
            "colorscale": [
             [
              0,
              "#0d0887"
             ],
             [
              0.1111111111111111,
              "#46039f"
             ],
             [
              0.2222222222222222,
              "#7201a8"
             ],
             [
              0.3333333333333333,
              "#9c179e"
             ],
             [
              0.4444444444444444,
              "#bd3786"
             ],
             [
              0.5555555555555556,
              "#d8576b"
             ],
             [
              0.6666666666666666,
              "#ed7953"
             ],
             [
              0.7777777777777778,
              "#fb9f3a"
             ],
             [
              0.8888888888888888,
              "#fdca26"
             ],
             [
              1,
              "#f0f921"
             ]
            ],
            "type": "contour"
           }
          ],
          "contourcarpet": [
           {
            "colorbar": {
             "outlinewidth": 0,
             "ticks": ""
            },
            "type": "contourcarpet"
           }
          ],
          "heatmap": [
           {
            "colorbar": {
             "outlinewidth": 0,
             "ticks": ""
            },
            "colorscale": [
             [
              0,
              "#0d0887"
             ],
             [
              0.1111111111111111,
              "#46039f"
             ],
             [
              0.2222222222222222,
              "#7201a8"
             ],
             [
              0.3333333333333333,
              "#9c179e"
             ],
             [
              0.4444444444444444,
              "#bd3786"
             ],
             [
              0.5555555555555556,
              "#d8576b"
             ],
             [
              0.6666666666666666,
              "#ed7953"
             ],
             [
              0.7777777777777778,
              "#fb9f3a"
             ],
             [
              0.8888888888888888,
              "#fdca26"
             ],
             [
              1,
              "#f0f921"
             ]
            ],
            "type": "heatmap"
           }
          ],
          "heatmapgl": [
           {
            "colorbar": {
             "outlinewidth": 0,
             "ticks": ""
            },
            "colorscale": [
             [
              0,
              "#0d0887"
             ],
             [
              0.1111111111111111,
              "#46039f"
             ],
             [
              0.2222222222222222,
              "#7201a8"
             ],
             [
              0.3333333333333333,
              "#9c179e"
             ],
             [
              0.4444444444444444,
              "#bd3786"
             ],
             [
              0.5555555555555556,
              "#d8576b"
             ],
             [
              0.6666666666666666,
              "#ed7953"
             ],
             [
              0.7777777777777778,
              "#fb9f3a"
             ],
             [
              0.8888888888888888,
              "#fdca26"
             ],
             [
              1,
              "#f0f921"
             ]
            ],
            "type": "heatmapgl"
           }
          ],
          "histogram": [
           {
            "marker": {
             "pattern": {
              "fillmode": "overlay",
              "size": 10,
              "solidity": 0.2
             }
            },
            "type": "histogram"
           }
          ],
          "histogram2d": [
           {
            "colorbar": {
             "outlinewidth": 0,
             "ticks": ""
            },
            "colorscale": [
             [
              0,
              "#0d0887"
             ],
             [
              0.1111111111111111,
              "#46039f"
             ],
             [
              0.2222222222222222,
              "#7201a8"
             ],
             [
              0.3333333333333333,
              "#9c179e"
             ],
             [
              0.4444444444444444,
              "#bd3786"
             ],
             [
              0.5555555555555556,
              "#d8576b"
             ],
             [
              0.6666666666666666,
              "#ed7953"
             ],
             [
              0.7777777777777778,
              "#fb9f3a"
             ],
             [
              0.8888888888888888,
              "#fdca26"
             ],
             [
              1,
              "#f0f921"
             ]
            ],
            "type": "histogram2d"
           }
          ],
          "histogram2dcontour": [
           {
            "colorbar": {
             "outlinewidth": 0,
             "ticks": ""
            },
            "colorscale": [
             [
              0,
              "#0d0887"
             ],
             [
              0.1111111111111111,
              "#46039f"
             ],
             [
              0.2222222222222222,
              "#7201a8"
             ],
             [
              0.3333333333333333,
              "#9c179e"
             ],
             [
              0.4444444444444444,
              "#bd3786"
             ],
             [
              0.5555555555555556,
              "#d8576b"
             ],
             [
              0.6666666666666666,
              "#ed7953"
             ],
             [
              0.7777777777777778,
              "#fb9f3a"
             ],
             [
              0.8888888888888888,
              "#fdca26"
             ],
             [
              1,
              "#f0f921"
             ]
            ],
            "type": "histogram2dcontour"
           }
          ],
          "mesh3d": [
           {
            "colorbar": {
             "outlinewidth": 0,
             "ticks": ""
            },
            "type": "mesh3d"
           }
          ],
          "parcoords": [
           {
            "line": {
             "colorbar": {
              "outlinewidth": 0,
              "ticks": ""
             }
            },
            "type": "parcoords"
           }
          ],
          "pie": [
           {
            "automargin": true,
            "type": "pie"
           }
          ],
          "scatter": [
           {
            "fillpattern": {
             "fillmode": "overlay",
             "size": 10,
             "solidity": 0.2
            },
            "type": "scatter"
           }
          ],
          "scatter3d": [
           {
            "line": {
             "colorbar": {
              "outlinewidth": 0,
              "ticks": ""
             }
            },
            "marker": {
             "colorbar": {
              "outlinewidth": 0,
              "ticks": ""
             }
            },
            "type": "scatter3d"
           }
          ],
          "scattercarpet": [
           {
            "marker": {
             "colorbar": {
              "outlinewidth": 0,
              "ticks": ""
             }
            },
            "type": "scattercarpet"
           }
          ],
          "scattergeo": [
           {
            "marker": {
             "colorbar": {
              "outlinewidth": 0,
              "ticks": ""
             }
            },
            "type": "scattergeo"
           }
          ],
          "scattergl": [
           {
            "marker": {
             "colorbar": {
              "outlinewidth": 0,
              "ticks": ""
             }
            },
            "type": "scattergl"
           }
          ],
          "scattermapbox": [
           {
            "marker": {
             "colorbar": {
              "outlinewidth": 0,
              "ticks": ""
             }
            },
            "type": "scattermapbox"
           }
          ],
          "scatterpolar": [
           {
            "marker": {
             "colorbar": {
              "outlinewidth": 0,
              "ticks": ""
             }
            },
            "type": "scatterpolar"
           }
          ],
          "scatterpolargl": [
           {
            "marker": {
             "colorbar": {
              "outlinewidth": 0,
              "ticks": ""
             }
            },
            "type": "scatterpolargl"
           }
          ],
          "scatterternary": [
           {
            "marker": {
             "colorbar": {
              "outlinewidth": 0,
              "ticks": ""
             }
            },
            "type": "scatterternary"
           }
          ],
          "surface": [
           {
            "colorbar": {
             "outlinewidth": 0,
             "ticks": ""
            },
            "colorscale": [
             [
              0,
              "#0d0887"
             ],
             [
              0.1111111111111111,
              "#46039f"
             ],
             [
              0.2222222222222222,
              "#7201a8"
             ],
             [
              0.3333333333333333,
              "#9c179e"
             ],
             [
              0.4444444444444444,
              "#bd3786"
             ],
             [
              0.5555555555555556,
              "#d8576b"
             ],
             [
              0.6666666666666666,
              "#ed7953"
             ],
             [
              0.7777777777777778,
              "#fb9f3a"
             ],
             [
              0.8888888888888888,
              "#fdca26"
             ],
             [
              1,
              "#f0f921"
             ]
            ],
            "type": "surface"
           }
          ],
          "table": [
           {
            "cells": {
             "fill": {
              "color": "#EBF0F8"
             },
             "line": {
              "color": "white"
             }
            },
            "header": {
             "fill": {
              "color": "#C8D4E3"
             },
             "line": {
              "color": "white"
             }
            },
            "type": "table"
           }
          ]
         },
         "layout": {
          "annotationdefaults": {
           "arrowcolor": "#2a3f5f",
           "arrowhead": 0,
           "arrowwidth": 1
          },
          "autotypenumbers": "strict",
          "coloraxis": {
           "colorbar": {
            "outlinewidth": 0,
            "ticks": ""
           }
          },
          "colorscale": {
           "diverging": [
            [
             0,
             "#8e0152"
            ],
            [
             0.1,
             "#c51b7d"
            ],
            [
             0.2,
             "#de77ae"
            ],
            [
             0.3,
             "#f1b6da"
            ],
            [
             0.4,
             "#fde0ef"
            ],
            [
             0.5,
             "#f7f7f7"
            ],
            [
             0.6,
             "#e6f5d0"
            ],
            [
             0.7,
             "#b8e186"
            ],
            [
             0.8,
             "#7fbc41"
            ],
            [
             0.9,
             "#4d9221"
            ],
            [
             1,
             "#276419"
            ]
           ],
           "sequential": [
            [
             0,
             "#0d0887"
            ],
            [
             0.1111111111111111,
             "#46039f"
            ],
            [
             0.2222222222222222,
             "#7201a8"
            ],
            [
             0.3333333333333333,
             "#9c179e"
            ],
            [
             0.4444444444444444,
             "#bd3786"
            ],
            [
             0.5555555555555556,
             "#d8576b"
            ],
            [
             0.6666666666666666,
             "#ed7953"
            ],
            [
             0.7777777777777778,
             "#fb9f3a"
            ],
            [
             0.8888888888888888,
             "#fdca26"
            ],
            [
             1,
             "#f0f921"
            ]
           ],
           "sequentialminus": [
            [
             0,
             "#0d0887"
            ],
            [
             0.1111111111111111,
             "#46039f"
            ],
            [
             0.2222222222222222,
             "#7201a8"
            ],
            [
             0.3333333333333333,
             "#9c179e"
            ],
            [
             0.4444444444444444,
             "#bd3786"
            ],
            [
             0.5555555555555556,
             "#d8576b"
            ],
            [
             0.6666666666666666,
             "#ed7953"
            ],
            [
             0.7777777777777778,
             "#fb9f3a"
            ],
            [
             0.8888888888888888,
             "#fdca26"
            ],
            [
             1,
             "#f0f921"
            ]
           ]
          },
          "colorway": [
           "#636efa",
           "#EF553B",
           "#00cc96",
           "#ab63fa",
           "#FFA15A",
           "#19d3f3",
           "#FF6692",
           "#B6E880",
           "#FF97FF",
           "#FECB52"
          ],
          "font": {
           "color": "#2a3f5f"
          },
          "geo": {
           "bgcolor": "white",
           "lakecolor": "white",
           "landcolor": "#E5ECF6",
           "showlakes": true,
           "showland": true,
           "subunitcolor": "white"
          },
          "hoverlabel": {
           "align": "left"
          },
          "hovermode": "closest",
          "mapbox": {
           "style": "light"
          },
          "paper_bgcolor": "white",
          "plot_bgcolor": "#E5ECF6",
          "polar": {
           "angularaxis": {
            "gridcolor": "white",
            "linecolor": "white",
            "ticks": ""
           },
           "bgcolor": "#E5ECF6",
           "radialaxis": {
            "gridcolor": "white",
            "linecolor": "white",
            "ticks": ""
           }
          },
          "scene": {
           "xaxis": {
            "backgroundcolor": "#E5ECF6",
            "gridcolor": "white",
            "gridwidth": 2,
            "linecolor": "white",
            "showbackground": true,
            "ticks": "",
            "zerolinecolor": "white"
           },
           "yaxis": {
            "backgroundcolor": "#E5ECF6",
            "gridcolor": "white",
            "gridwidth": 2,
            "linecolor": "white",
            "showbackground": true,
            "ticks": "",
            "zerolinecolor": "white"
           },
           "zaxis": {
            "backgroundcolor": "#E5ECF6",
            "gridcolor": "white",
            "gridwidth": 2,
            "linecolor": "white",
            "showbackground": true,
            "ticks": "",
            "zerolinecolor": "white"
           }
          },
          "shapedefaults": {
           "line": {
            "color": "#2a3f5f"
           }
          },
          "ternary": {
           "aaxis": {
            "gridcolor": "white",
            "linecolor": "white",
            "ticks": ""
           },
           "baxis": {
            "gridcolor": "white",
            "linecolor": "white",
            "ticks": ""
           },
           "bgcolor": "#E5ECF6",
           "caxis": {
            "gridcolor": "white",
            "linecolor": "white",
            "ticks": ""
           }
          },
          "title": {
           "x": 0.05
          },
          "xaxis": {
           "automargin": true,
           "gridcolor": "white",
           "linecolor": "white",
           "ticks": "",
           "title": {
            "standoff": 15
           },
           "zerolinecolor": "white",
           "zerolinewidth": 2
          },
          "yaxis": {
           "automargin": true,
           "gridcolor": "white",
           "linecolor": "white",
           "ticks": "",
           "title": {
            "standoff": 15
           },
           "zerolinecolor": "white",
           "zerolinewidth": 2
          }
         }
        },
        "width": 700,
        "xaxis": {
         "anchor": "y",
         "domain": [
          0,
          1
         ],
         "title": {
          "text": "Number of sexual partners"
         }
        },
        "xaxis2": {
         "anchor": "y2",
         "domain": [
          0,
          1
         ],
         "matches": "x",
         "showgrid": true,
         "showticklabels": false
        },
        "yaxis": {
         "anchor": "x",
         "domain": [
          0,
          0.8316
         ],
         "title": {
          "text": "count"
         }
        },
        "yaxis2": {
         "anchor": "x2",
         "domain": [
          0.8416,
          1
         ],
         "matches": "y2",
         "showgrid": false,
         "showline": false,
         "showticklabels": false,
         "ticks": ""
        }
       }
      }
     },
     "metadata": {},
     "output_type": "display_data"
    },
    {
     "name": "stdout",
     "output_type": "stream",
     "text": [
      "Number of sexual partners\n",
      "median: 2.0, upper fence: 4.5, lower fence: 0.5\n"
     ]
    },
    {
     "data": {
      "application/vnd.plotly.v1+json": {
       "config": {
        "plotlyServerURL": "https://plot.ly"
       },
       "data": [
        {
         "alignmentgroup": "True",
         "bingroup": "x",
         "hovertemplate": "First sexual intercourse=%{x}<br>count=%{y}<extra></extra>",
         "legendgroup": "",
         "marker": {
          "color": "rgb(3, 35, 51)",
          "pattern": {
           "shape": ""
          }
         },
         "name": "",
         "offsetgroup": "",
         "orientation": "v",
         "showlegend": false,
         "type": "histogram",
         "x": [
          15,
          14,
          17,
          16,
          21,
          23,
          17,
          26,
          20,
          26,
          17,
          14,
          25,
          18,
          18,
          21,
          15,
          20,
          27,
          18,
          17,
          18,
          20,
          15,
          19,
          23,
          17,
          24,
          26,
          17,
          21,
          17,
          15,
          15,
          17,
          17,
          18,
          24,
          20,
          17,
          18,
          17,
          19,
          17,
          20,
          17,
          18,
          15,
          17,
          17,
          18,
          16,
          16,
          15,
          21,
          18,
          17,
          19,
          20,
          21,
          19,
          15,
          17,
          19,
          20,
          23,
          17,
          21,
          20,
          27,
          14,
          21,
          17,
          19,
          27,
          15,
          18,
          18,
          15,
          20,
          20,
          18,
          16,
          32,
          16,
          16,
          29,
          16,
          11,
          18,
          18,
          15,
          16,
          18,
          17,
          18,
          16,
          19,
          15,
          17,
          19,
          23,
          15,
          13,
          17,
          17,
          15,
          16,
          15,
          14,
          17,
          16,
          19,
          14,
          29,
          14,
          18,
          13,
          22,
          18,
          14,
          15,
          18,
          28,
          14,
          21,
          17,
          15,
          15,
          10,
          18,
          18,
          18,
          19,
          18,
          15,
          16,
          16,
          17,
          21,
          19,
          15,
          18,
          23,
          14,
          19,
          20,
          18,
          16,
          18,
          17,
          17,
          17,
          15,
          15,
          19,
          20,
          16,
          15,
          19,
          17,
          18,
          18,
          17,
          16,
          19,
          18,
          14,
          17,
          17,
          20,
          18,
          16,
          18,
          17,
          17,
          13,
          19,
          20,
          17,
          20,
          18,
          16,
          15,
          15,
          26,
          15,
          17,
          24,
          17,
          16,
          17,
          18,
          17,
          13,
          18,
          18,
          15,
          15,
          17,
          15,
          17,
          16,
          17,
          15,
          16,
          15,
          16,
          19,
          23,
          18,
          20,
          17,
          19,
          18,
          13,
          18,
          17,
          16,
          15,
          18,
          17,
          16,
          15,
          15,
          16,
          14,
          15,
          16,
          19,
          17,
          18,
          17,
          14,
          18,
          17,
          17,
          19,
          18,
          16,
          18,
          17,
          21,
          15,
          16,
          15,
          17,
          13,
          18,
          17,
          20,
          18,
          17,
          17,
          16,
          15,
          16,
          16,
          15,
          17,
          18,
          18,
          18,
          18,
          15,
          17,
          16,
          20,
          18,
          15,
          17,
          16,
          19,
          18,
          15,
          18,
          15,
          17,
          17,
          18,
          18,
          18,
          16,
          18,
          18,
          16,
          17,
          15,
          17,
          16,
          15,
          15,
          18,
          13,
          17,
          21,
          20,
          17,
          15,
          15,
          16,
          16,
          15,
          19,
          16,
          18,
          15,
          17,
          13,
          19,
          14,
          16,
          19,
          14,
          15,
          15,
          15,
          16,
          15,
          16,
          14,
          15,
          18,
          14,
          17,
          17,
          16,
          15,
          18,
          16,
          15,
          15,
          16,
          15,
          15,
          15,
          15,
          15,
          11,
          21,
          15,
          15,
          14,
          16,
          17,
          15,
          13,
          18,
          15,
          16,
          16,
          15,
          15,
          15,
          19,
          15,
          17,
          15,
          18,
          16,
          15,
          17,
          17,
          14,
          16,
          16,
          14,
          16,
          14,
          14,
          15,
          15,
          14,
          14,
          15,
          13,
          15,
          18,
          16,
          17,
          20,
          17,
          15,
          19,
          16,
          24,
          18,
          18,
          16,
          18,
          17,
          26,
          18,
          17,
          26,
          18,
          18,
          15,
          21,
          17,
          29,
          22,
          15,
          16,
          20,
          22,
          15,
          20,
          20,
          14,
          16,
          17,
          21,
          15,
          16,
          19,
          18,
          17,
          14,
          18,
          15,
          17,
          17,
          20,
          18,
          15,
          19,
          19,
          16,
          18,
          14,
          18,
          16,
          16,
          17,
          14,
          17,
          17,
          15,
          17,
          17,
          15,
          12,
          17,
          21,
          17,
          22,
          16,
          24,
          15,
          15,
          28,
          17,
          15,
          18,
          19,
          25,
          17,
          15,
          14,
          17,
          18,
          14,
          18,
          15,
          15,
          15,
          16,
          18,
          28,
          14,
          15,
          18,
          15,
          15,
          15,
          14,
          18,
          18,
          15,
          15,
          16,
          21,
          18,
          16,
          17,
          18,
          17,
          16,
          16,
          18,
          19,
          15,
          15,
          23,
          12,
          16,
          17,
          15,
          18,
          15,
          18,
          17,
          14,
          16,
          18,
          15,
          15,
          17,
          18,
          15,
          15,
          19,
          16,
          20,
          18,
          14,
          18,
          18,
          17,
          14,
          17,
          16,
          15,
          15,
          17,
          17,
          20,
          17,
          17,
          17,
          19,
          16,
          14,
          16,
          14,
          16,
          16,
          18,
          18,
          14,
          15,
          17,
          19,
          13,
          16,
          18,
          19,
          27,
          13,
          19,
          17,
          15,
          29,
          16,
          18,
          15,
          15,
          19,
          16,
          15,
          21,
          14,
          17,
          15,
          17,
          15,
          18,
          15,
          16,
          14,
          13,
          14,
          16,
          17,
          18,
          21,
          16,
          17,
          14,
          17,
          16,
          17,
          15,
          15,
          17,
          17,
          19,
          15,
          15,
          17,
          22,
          17,
          17,
          19,
          21,
          20,
          17,
          19,
          18,
          18,
          18,
          16,
          17,
          19,
          20,
          14,
          17,
          14,
          15,
          13,
          18,
          15,
          20,
          13,
          15,
          18,
          18,
          18,
          16,
          19,
          14,
          15,
          18,
          15,
          15,
          14,
          18,
          16,
          14,
          16,
          26,
          15,
          14,
          15,
          14,
          17,
          14,
          18,
          18,
          14,
          19,
          17,
          16,
          19,
          17,
          14,
          16,
          17,
          14,
          17,
          17,
          15,
          13,
          14,
          13,
          13,
          16,
          16,
          17,
          16,
          22,
          18,
          18,
          20,
          20,
          19,
          27,
          17,
          17,
          16,
          21,
          14,
          16,
          23,
          18,
          17,
          15,
          14,
          17,
          18,
          19,
          16,
          15,
          16,
          14,
          15,
          15,
          17,
          22,
          18,
          18,
          14,
          15,
          17,
          18,
          19,
          17,
          24,
          20
         ],
         "xaxis": "x",
         "yaxis": "y"
        },
        {
         "alignmentgroup": "True",
         "hovertemplate": "First sexual intercourse=%{x}<extra></extra>",
         "legendgroup": "",
         "marker": {
          "color": "rgb(3, 35, 51)"
         },
         "name": "",
         "notched": true,
         "offsetgroup": "",
         "showlegend": false,
         "type": "box",
         "x": [
          15,
          14,
          17,
          16,
          21,
          23,
          17,
          26,
          20,
          26,
          17,
          14,
          25,
          18,
          18,
          21,
          15,
          20,
          27,
          18,
          17,
          18,
          20,
          15,
          19,
          23,
          17,
          24,
          26,
          17,
          21,
          17,
          15,
          15,
          17,
          17,
          18,
          24,
          20,
          17,
          18,
          17,
          19,
          17,
          20,
          17,
          18,
          15,
          17,
          17,
          18,
          16,
          16,
          15,
          21,
          18,
          17,
          19,
          20,
          21,
          19,
          15,
          17,
          19,
          20,
          23,
          17,
          21,
          20,
          27,
          14,
          21,
          17,
          19,
          27,
          15,
          18,
          18,
          15,
          20,
          20,
          18,
          16,
          32,
          16,
          16,
          29,
          16,
          11,
          18,
          18,
          15,
          16,
          18,
          17,
          18,
          16,
          19,
          15,
          17,
          19,
          23,
          15,
          13,
          17,
          17,
          15,
          16,
          15,
          14,
          17,
          16,
          19,
          14,
          29,
          14,
          18,
          13,
          22,
          18,
          14,
          15,
          18,
          28,
          14,
          21,
          17,
          15,
          15,
          10,
          18,
          18,
          18,
          19,
          18,
          15,
          16,
          16,
          17,
          21,
          19,
          15,
          18,
          23,
          14,
          19,
          20,
          18,
          16,
          18,
          17,
          17,
          17,
          15,
          15,
          19,
          20,
          16,
          15,
          19,
          17,
          18,
          18,
          17,
          16,
          19,
          18,
          14,
          17,
          17,
          20,
          18,
          16,
          18,
          17,
          17,
          13,
          19,
          20,
          17,
          20,
          18,
          16,
          15,
          15,
          26,
          15,
          17,
          24,
          17,
          16,
          17,
          18,
          17,
          13,
          18,
          18,
          15,
          15,
          17,
          15,
          17,
          16,
          17,
          15,
          16,
          15,
          16,
          19,
          23,
          18,
          20,
          17,
          19,
          18,
          13,
          18,
          17,
          16,
          15,
          18,
          17,
          16,
          15,
          15,
          16,
          14,
          15,
          16,
          19,
          17,
          18,
          17,
          14,
          18,
          17,
          17,
          19,
          18,
          16,
          18,
          17,
          21,
          15,
          16,
          15,
          17,
          13,
          18,
          17,
          20,
          18,
          17,
          17,
          16,
          15,
          16,
          16,
          15,
          17,
          18,
          18,
          18,
          18,
          15,
          17,
          16,
          20,
          18,
          15,
          17,
          16,
          19,
          18,
          15,
          18,
          15,
          17,
          17,
          18,
          18,
          18,
          16,
          18,
          18,
          16,
          17,
          15,
          17,
          16,
          15,
          15,
          18,
          13,
          17,
          21,
          20,
          17,
          15,
          15,
          16,
          16,
          15,
          19,
          16,
          18,
          15,
          17,
          13,
          19,
          14,
          16,
          19,
          14,
          15,
          15,
          15,
          16,
          15,
          16,
          14,
          15,
          18,
          14,
          17,
          17,
          16,
          15,
          18,
          16,
          15,
          15,
          16,
          15,
          15,
          15,
          15,
          15,
          11,
          21,
          15,
          15,
          14,
          16,
          17,
          15,
          13,
          18,
          15,
          16,
          16,
          15,
          15,
          15,
          19,
          15,
          17,
          15,
          18,
          16,
          15,
          17,
          17,
          14,
          16,
          16,
          14,
          16,
          14,
          14,
          15,
          15,
          14,
          14,
          15,
          13,
          15,
          18,
          16,
          17,
          20,
          17,
          15,
          19,
          16,
          24,
          18,
          18,
          16,
          18,
          17,
          26,
          18,
          17,
          26,
          18,
          18,
          15,
          21,
          17,
          29,
          22,
          15,
          16,
          20,
          22,
          15,
          20,
          20,
          14,
          16,
          17,
          21,
          15,
          16,
          19,
          18,
          17,
          14,
          18,
          15,
          17,
          17,
          20,
          18,
          15,
          19,
          19,
          16,
          18,
          14,
          18,
          16,
          16,
          17,
          14,
          17,
          17,
          15,
          17,
          17,
          15,
          12,
          17,
          21,
          17,
          22,
          16,
          24,
          15,
          15,
          28,
          17,
          15,
          18,
          19,
          25,
          17,
          15,
          14,
          17,
          18,
          14,
          18,
          15,
          15,
          15,
          16,
          18,
          28,
          14,
          15,
          18,
          15,
          15,
          15,
          14,
          18,
          18,
          15,
          15,
          16,
          21,
          18,
          16,
          17,
          18,
          17,
          16,
          16,
          18,
          19,
          15,
          15,
          23,
          12,
          16,
          17,
          15,
          18,
          15,
          18,
          17,
          14,
          16,
          18,
          15,
          15,
          17,
          18,
          15,
          15,
          19,
          16,
          20,
          18,
          14,
          18,
          18,
          17,
          14,
          17,
          16,
          15,
          15,
          17,
          17,
          20,
          17,
          17,
          17,
          19,
          16,
          14,
          16,
          14,
          16,
          16,
          18,
          18,
          14,
          15,
          17,
          19,
          13,
          16,
          18,
          19,
          27,
          13,
          19,
          17,
          15,
          29,
          16,
          18,
          15,
          15,
          19,
          16,
          15,
          21,
          14,
          17,
          15,
          17,
          15,
          18,
          15,
          16,
          14,
          13,
          14,
          16,
          17,
          18,
          21,
          16,
          17,
          14,
          17,
          16,
          17,
          15,
          15,
          17,
          17,
          19,
          15,
          15,
          17,
          22,
          17,
          17,
          19,
          21,
          20,
          17,
          19,
          18,
          18,
          18,
          16,
          17,
          19,
          20,
          14,
          17,
          14,
          15,
          13,
          18,
          15,
          20,
          13,
          15,
          18,
          18,
          18,
          16,
          19,
          14,
          15,
          18,
          15,
          15,
          14,
          18,
          16,
          14,
          16,
          26,
          15,
          14,
          15,
          14,
          17,
          14,
          18,
          18,
          14,
          19,
          17,
          16,
          19,
          17,
          14,
          16,
          17,
          14,
          17,
          17,
          15,
          13,
          14,
          13,
          13,
          16,
          16,
          17,
          16,
          22,
          18,
          18,
          20,
          20,
          19,
          27,
          17,
          17,
          16,
          21,
          14,
          16,
          23,
          18,
          17,
          15,
          14,
          17,
          18,
          19,
          16,
          15,
          16,
          14,
          15,
          15,
          17,
          22,
          18,
          18,
          14,
          15,
          17,
          18,
          19,
          17,
          24,
          20
         ],
         "xaxis": "x2",
         "yaxis": "y2"
        }
       ],
       "layout": {
        "bargap": 0.2,
        "barmode": "relative",
        "legend": {
         "tracegroupgap": 0
        },
        "margin": {
         "t": 60
        },
        "template": {
         "data": {
          "bar": [
           {
            "error_x": {
             "color": "#2a3f5f"
            },
            "error_y": {
             "color": "#2a3f5f"
            },
            "marker": {
             "line": {
              "color": "#E5ECF6",
              "width": 0.5
             },
             "pattern": {
              "fillmode": "overlay",
              "size": 10,
              "solidity": 0.2
             }
            },
            "type": "bar"
           }
          ],
          "barpolar": [
           {
            "marker": {
             "line": {
              "color": "#E5ECF6",
              "width": 0.5
             },
             "pattern": {
              "fillmode": "overlay",
              "size": 10,
              "solidity": 0.2
             }
            },
            "type": "barpolar"
           }
          ],
          "carpet": [
           {
            "aaxis": {
             "endlinecolor": "#2a3f5f",
             "gridcolor": "white",
             "linecolor": "white",
             "minorgridcolor": "white",
             "startlinecolor": "#2a3f5f"
            },
            "baxis": {
             "endlinecolor": "#2a3f5f",
             "gridcolor": "white",
             "linecolor": "white",
             "minorgridcolor": "white",
             "startlinecolor": "#2a3f5f"
            },
            "type": "carpet"
           }
          ],
          "choropleth": [
           {
            "colorbar": {
             "outlinewidth": 0,
             "ticks": ""
            },
            "type": "choropleth"
           }
          ],
          "contour": [
           {
            "colorbar": {
             "outlinewidth": 0,
             "ticks": ""
            },
            "colorscale": [
             [
              0,
              "#0d0887"
             ],
             [
              0.1111111111111111,
              "#46039f"
             ],
             [
              0.2222222222222222,
              "#7201a8"
             ],
             [
              0.3333333333333333,
              "#9c179e"
             ],
             [
              0.4444444444444444,
              "#bd3786"
             ],
             [
              0.5555555555555556,
              "#d8576b"
             ],
             [
              0.6666666666666666,
              "#ed7953"
             ],
             [
              0.7777777777777778,
              "#fb9f3a"
             ],
             [
              0.8888888888888888,
              "#fdca26"
             ],
             [
              1,
              "#f0f921"
             ]
            ],
            "type": "contour"
           }
          ],
          "contourcarpet": [
           {
            "colorbar": {
             "outlinewidth": 0,
             "ticks": ""
            },
            "type": "contourcarpet"
           }
          ],
          "heatmap": [
           {
            "colorbar": {
             "outlinewidth": 0,
             "ticks": ""
            },
            "colorscale": [
             [
              0,
              "#0d0887"
             ],
             [
              0.1111111111111111,
              "#46039f"
             ],
             [
              0.2222222222222222,
              "#7201a8"
             ],
             [
              0.3333333333333333,
              "#9c179e"
             ],
             [
              0.4444444444444444,
              "#bd3786"
             ],
             [
              0.5555555555555556,
              "#d8576b"
             ],
             [
              0.6666666666666666,
              "#ed7953"
             ],
             [
              0.7777777777777778,
              "#fb9f3a"
             ],
             [
              0.8888888888888888,
              "#fdca26"
             ],
             [
              1,
              "#f0f921"
             ]
            ],
            "type": "heatmap"
           }
          ],
          "heatmapgl": [
           {
            "colorbar": {
             "outlinewidth": 0,
             "ticks": ""
            },
            "colorscale": [
             [
              0,
              "#0d0887"
             ],
             [
              0.1111111111111111,
              "#46039f"
             ],
             [
              0.2222222222222222,
              "#7201a8"
             ],
             [
              0.3333333333333333,
              "#9c179e"
             ],
             [
              0.4444444444444444,
              "#bd3786"
             ],
             [
              0.5555555555555556,
              "#d8576b"
             ],
             [
              0.6666666666666666,
              "#ed7953"
             ],
             [
              0.7777777777777778,
              "#fb9f3a"
             ],
             [
              0.8888888888888888,
              "#fdca26"
             ],
             [
              1,
              "#f0f921"
             ]
            ],
            "type": "heatmapgl"
           }
          ],
          "histogram": [
           {
            "marker": {
             "pattern": {
              "fillmode": "overlay",
              "size": 10,
              "solidity": 0.2
             }
            },
            "type": "histogram"
           }
          ],
          "histogram2d": [
           {
            "colorbar": {
             "outlinewidth": 0,
             "ticks": ""
            },
            "colorscale": [
             [
              0,
              "#0d0887"
             ],
             [
              0.1111111111111111,
              "#46039f"
             ],
             [
              0.2222222222222222,
              "#7201a8"
             ],
             [
              0.3333333333333333,
              "#9c179e"
             ],
             [
              0.4444444444444444,
              "#bd3786"
             ],
             [
              0.5555555555555556,
              "#d8576b"
             ],
             [
              0.6666666666666666,
              "#ed7953"
             ],
             [
              0.7777777777777778,
              "#fb9f3a"
             ],
             [
              0.8888888888888888,
              "#fdca26"
             ],
             [
              1,
              "#f0f921"
             ]
            ],
            "type": "histogram2d"
           }
          ],
          "histogram2dcontour": [
           {
            "colorbar": {
             "outlinewidth": 0,
             "ticks": ""
            },
            "colorscale": [
             [
              0,
              "#0d0887"
             ],
             [
              0.1111111111111111,
              "#46039f"
             ],
             [
              0.2222222222222222,
              "#7201a8"
             ],
             [
              0.3333333333333333,
              "#9c179e"
             ],
             [
              0.4444444444444444,
              "#bd3786"
             ],
             [
              0.5555555555555556,
              "#d8576b"
             ],
             [
              0.6666666666666666,
              "#ed7953"
             ],
             [
              0.7777777777777778,
              "#fb9f3a"
             ],
             [
              0.8888888888888888,
              "#fdca26"
             ],
             [
              1,
              "#f0f921"
             ]
            ],
            "type": "histogram2dcontour"
           }
          ],
          "mesh3d": [
           {
            "colorbar": {
             "outlinewidth": 0,
             "ticks": ""
            },
            "type": "mesh3d"
           }
          ],
          "parcoords": [
           {
            "line": {
             "colorbar": {
              "outlinewidth": 0,
              "ticks": ""
             }
            },
            "type": "parcoords"
           }
          ],
          "pie": [
           {
            "automargin": true,
            "type": "pie"
           }
          ],
          "scatter": [
           {
            "fillpattern": {
             "fillmode": "overlay",
             "size": 10,
             "solidity": 0.2
            },
            "type": "scatter"
           }
          ],
          "scatter3d": [
           {
            "line": {
             "colorbar": {
              "outlinewidth": 0,
              "ticks": ""
             }
            },
            "marker": {
             "colorbar": {
              "outlinewidth": 0,
              "ticks": ""
             }
            },
            "type": "scatter3d"
           }
          ],
          "scattercarpet": [
           {
            "marker": {
             "colorbar": {
              "outlinewidth": 0,
              "ticks": ""
             }
            },
            "type": "scattercarpet"
           }
          ],
          "scattergeo": [
           {
            "marker": {
             "colorbar": {
              "outlinewidth": 0,
              "ticks": ""
             }
            },
            "type": "scattergeo"
           }
          ],
          "scattergl": [
           {
            "marker": {
             "colorbar": {
              "outlinewidth": 0,
              "ticks": ""
             }
            },
            "type": "scattergl"
           }
          ],
          "scattermapbox": [
           {
            "marker": {
             "colorbar": {
              "outlinewidth": 0,
              "ticks": ""
             }
            },
            "type": "scattermapbox"
           }
          ],
          "scatterpolar": [
           {
            "marker": {
             "colorbar": {
              "outlinewidth": 0,
              "ticks": ""
             }
            },
            "type": "scatterpolar"
           }
          ],
          "scatterpolargl": [
           {
            "marker": {
             "colorbar": {
              "outlinewidth": 0,
              "ticks": ""
             }
            },
            "type": "scatterpolargl"
           }
          ],
          "scatterternary": [
           {
            "marker": {
             "colorbar": {
              "outlinewidth": 0,
              "ticks": ""
             }
            },
            "type": "scatterternary"
           }
          ],
          "surface": [
           {
            "colorbar": {
             "outlinewidth": 0,
             "ticks": ""
            },
            "colorscale": [
             [
              0,
              "#0d0887"
             ],
             [
              0.1111111111111111,
              "#46039f"
             ],
             [
              0.2222222222222222,
              "#7201a8"
             ],
             [
              0.3333333333333333,
              "#9c179e"
             ],
             [
              0.4444444444444444,
              "#bd3786"
             ],
             [
              0.5555555555555556,
              "#d8576b"
             ],
             [
              0.6666666666666666,
              "#ed7953"
             ],
             [
              0.7777777777777778,
              "#fb9f3a"
             ],
             [
              0.8888888888888888,
              "#fdca26"
             ],
             [
              1,
              "#f0f921"
             ]
            ],
            "type": "surface"
           }
          ],
          "table": [
           {
            "cells": {
             "fill": {
              "color": "#EBF0F8"
             },
             "line": {
              "color": "white"
             }
            },
            "header": {
             "fill": {
              "color": "#C8D4E3"
             },
             "line": {
              "color": "white"
             }
            },
            "type": "table"
           }
          ]
         },
         "layout": {
          "annotationdefaults": {
           "arrowcolor": "#2a3f5f",
           "arrowhead": 0,
           "arrowwidth": 1
          },
          "autotypenumbers": "strict",
          "coloraxis": {
           "colorbar": {
            "outlinewidth": 0,
            "ticks": ""
           }
          },
          "colorscale": {
           "diverging": [
            [
             0,
             "#8e0152"
            ],
            [
             0.1,
             "#c51b7d"
            ],
            [
             0.2,
             "#de77ae"
            ],
            [
             0.3,
             "#f1b6da"
            ],
            [
             0.4,
             "#fde0ef"
            ],
            [
             0.5,
             "#f7f7f7"
            ],
            [
             0.6,
             "#e6f5d0"
            ],
            [
             0.7,
             "#b8e186"
            ],
            [
             0.8,
             "#7fbc41"
            ],
            [
             0.9,
             "#4d9221"
            ],
            [
             1,
             "#276419"
            ]
           ],
           "sequential": [
            [
             0,
             "#0d0887"
            ],
            [
             0.1111111111111111,
             "#46039f"
            ],
            [
             0.2222222222222222,
             "#7201a8"
            ],
            [
             0.3333333333333333,
             "#9c179e"
            ],
            [
             0.4444444444444444,
             "#bd3786"
            ],
            [
             0.5555555555555556,
             "#d8576b"
            ],
            [
             0.6666666666666666,
             "#ed7953"
            ],
            [
             0.7777777777777778,
             "#fb9f3a"
            ],
            [
             0.8888888888888888,
             "#fdca26"
            ],
            [
             1,
             "#f0f921"
            ]
           ],
           "sequentialminus": [
            [
             0,
             "#0d0887"
            ],
            [
             0.1111111111111111,
             "#46039f"
            ],
            [
             0.2222222222222222,
             "#7201a8"
            ],
            [
             0.3333333333333333,
             "#9c179e"
            ],
            [
             0.4444444444444444,
             "#bd3786"
            ],
            [
             0.5555555555555556,
             "#d8576b"
            ],
            [
             0.6666666666666666,
             "#ed7953"
            ],
            [
             0.7777777777777778,
             "#fb9f3a"
            ],
            [
             0.8888888888888888,
             "#fdca26"
            ],
            [
             1,
             "#f0f921"
            ]
           ]
          },
          "colorway": [
           "#636efa",
           "#EF553B",
           "#00cc96",
           "#ab63fa",
           "#FFA15A",
           "#19d3f3",
           "#FF6692",
           "#B6E880",
           "#FF97FF",
           "#FECB52"
          ],
          "font": {
           "color": "#2a3f5f"
          },
          "geo": {
           "bgcolor": "white",
           "lakecolor": "white",
           "landcolor": "#E5ECF6",
           "showlakes": true,
           "showland": true,
           "subunitcolor": "white"
          },
          "hoverlabel": {
           "align": "left"
          },
          "hovermode": "closest",
          "mapbox": {
           "style": "light"
          },
          "paper_bgcolor": "white",
          "plot_bgcolor": "#E5ECF6",
          "polar": {
           "angularaxis": {
            "gridcolor": "white",
            "linecolor": "white",
            "ticks": ""
           },
           "bgcolor": "#E5ECF6",
           "radialaxis": {
            "gridcolor": "white",
            "linecolor": "white",
            "ticks": ""
           }
          },
          "scene": {
           "xaxis": {
            "backgroundcolor": "#E5ECF6",
            "gridcolor": "white",
            "gridwidth": 2,
            "linecolor": "white",
            "showbackground": true,
            "ticks": "",
            "zerolinecolor": "white"
           },
           "yaxis": {
            "backgroundcolor": "#E5ECF6",
            "gridcolor": "white",
            "gridwidth": 2,
            "linecolor": "white",
            "showbackground": true,
            "ticks": "",
            "zerolinecolor": "white"
           },
           "zaxis": {
            "backgroundcolor": "#E5ECF6",
            "gridcolor": "white",
            "gridwidth": 2,
            "linecolor": "white",
            "showbackground": true,
            "ticks": "",
            "zerolinecolor": "white"
           }
          },
          "shapedefaults": {
           "line": {
            "color": "#2a3f5f"
           }
          },
          "ternary": {
           "aaxis": {
            "gridcolor": "white",
            "linecolor": "white",
            "ticks": ""
           },
           "baxis": {
            "gridcolor": "white",
            "linecolor": "white",
            "ticks": ""
           },
           "bgcolor": "#E5ECF6",
           "caxis": {
            "gridcolor": "white",
            "linecolor": "white",
            "ticks": ""
           }
          },
          "title": {
           "x": 0.05
          },
          "xaxis": {
           "automargin": true,
           "gridcolor": "white",
           "linecolor": "white",
           "ticks": "",
           "title": {
            "standoff": 15
           },
           "zerolinecolor": "white",
           "zerolinewidth": 2
          },
          "yaxis": {
           "automargin": true,
           "gridcolor": "white",
           "linecolor": "white",
           "ticks": "",
           "title": {
            "standoff": 15
           },
           "zerolinecolor": "white",
           "zerolinewidth": 2
          }
         }
        },
        "width": 700,
        "xaxis": {
         "anchor": "y",
         "domain": [
          0,
          1
         ],
         "title": {
          "text": "First sexual intercourse"
         }
        },
        "xaxis2": {
         "anchor": "y2",
         "domain": [
          0,
          1
         ],
         "matches": "x",
         "showgrid": true,
         "showticklabels": false
        },
        "yaxis": {
         "anchor": "x",
         "domain": [
          0,
          0.8316
         ],
         "title": {
          "text": "count"
         }
        },
        "yaxis2": {
         "anchor": "x2",
         "domain": [
          0.8416,
          1
         ],
         "matches": "y2",
         "showgrid": false,
         "showline": false,
         "showticklabels": false,
         "ticks": ""
        }
       }
      }
     },
     "metadata": {},
     "output_type": "display_data"
    },
    {
     "name": "stdout",
     "output_type": "stream",
     "text": [
      "First sexual intercourse\n",
      "median: 17.0, upper fence: 22.5, lower fence: 10.5\n"
     ]
    },
    {
     "data": {
      "application/vnd.plotly.v1+json": {
       "config": {
        "plotlyServerURL": "https://plot.ly"
       },
       "data": [
        {
         "alignmentgroup": "True",
         "bingroup": "x",
         "hovertemplate": "Num of pregnancies=%{x}<br>count=%{y}<extra></extra>",
         "legendgroup": "",
         "marker": {
          "color": "rgb(3, 35, 51)",
          "pattern": {
           "shape": ""
          }
         },
         "name": "",
         "offsetgroup": "",
         "orientation": "v",
         "showlegend": false,
         "type": "histogram",
         "x": [
          1,
          1,
          1,
          4,
          4,
          2,
          6,
          3,
          5,
          4,
          3,
          6,
          2,
          5,
          2,
          3,
          8,
          2,
          2,
          4,
          4,
          1,
          2,
          3,
          1,
          2,
          4,
          1,
          1,
          3,
          2,
          5,
          3,
          2,
          5,
          4,
          1,
          4,
          3,
          5,
          3,
          3,
          3,
          4,
          3,
          4,
          3,
          4,
          1,
          3,
          4,
          3,
          5,
          4,
          6,
          6,
          4,
          3,
          5,
          1,
          2,
          4,
          3,
          2,
          2,
          2,
          3,
          2,
          2,
          2,
          5,
          1,
          6,
          3,
          3,
          3,
          2,
          2,
          3,
          1,
          2,
          2,
          2,
          5,
          3,
          2,
          2,
          2,
          2,
          2,
          7,
          4,
          4,
          3,
          4,
          2,
          1,
          2,
          1,
          2,
          2,
          4,
          3,
          2,
          2,
          3,
          4,
          3,
          4,
          4,
          4,
          2,
          4,
          1,
          6,
          6,
          3,
          2,
          2,
          3,
          2,
          3,
          1,
          3,
          2,
          1,
          6,
          3,
          5,
          2,
          2,
          2,
          2,
          3,
          2,
          2,
          2,
          2,
          2,
          3,
          2,
          3,
          4,
          2,
          2,
          2,
          3,
          4,
          3,
          2,
          2,
          3,
          5,
          3,
          2,
          2,
          2,
          1,
          4,
          3,
          2,
          2,
          3,
          2,
          3,
          2,
          4,
          3,
          2,
          3,
          2,
          2,
          2,
          4,
          2,
          2,
          2,
          2,
          2,
          2,
          1,
          2,
          4,
          1,
          6,
          3,
          1,
          3,
          2,
          4,
          1,
          2,
          2,
          4,
          1,
          3,
          4,
          1,
          5,
          1,
          2,
          1,
          3,
          5,
          2,
          3,
          1,
          1,
          3,
          1,
          2,
          2,
          2,
          1,
          2,
          2,
          1,
          2,
          1,
          1,
          1,
          1,
          4,
          1,
          2,
          2,
          2,
          1,
          3,
          2,
          1,
          2,
          1,
          1,
          3,
          1,
          2,
          2,
          1,
          3,
          2,
          2,
          3,
          2,
          2,
          2,
          2,
          3,
          1,
          2,
          1,
          1,
          3,
          3,
          1,
          3,
          2,
          1,
          1,
          3,
          1,
          4,
          3,
          2,
          2,
          1,
          1,
          1,
          2,
          4,
          1,
          1,
          1,
          5,
          4,
          5,
          4,
          2,
          4,
          2,
          7,
          1,
          1,
          1,
          1,
          2,
          2,
          2,
          2,
          1,
          4,
          4,
          1,
          4,
          2,
          1,
          2,
          1,
          2,
          2,
          1,
          1,
          1,
          1,
          1,
          1,
          3,
          2,
          2,
          3,
          2,
          4,
          1,
          1,
          1,
          1,
          3,
          2,
          3,
          3,
          1,
          3,
          1,
          1,
          1,
          1,
          1,
          2,
          3,
          1,
          3,
          1,
          1,
          2,
          2,
          1,
          3,
          5,
          1,
          2,
          2,
          2,
          1,
          2,
          2,
          1,
          1,
          1,
          1,
          1,
          2,
          1,
          1,
          1,
          2,
          1,
          2,
          2,
          1,
          1,
          1,
          1,
          1,
          1,
          2,
          2,
          1,
          1,
          2,
          1,
          2,
          2,
          2,
          1,
          1,
          4,
          1,
          3,
          4,
          6,
          2,
          2,
          1,
          2,
          2,
          4,
          4,
          1,
          3,
          2,
          2,
          1,
          3,
          1,
          3,
          3,
          1,
          5,
          1,
          2,
          2,
          5,
          1,
          4,
          1,
          2,
          1,
          1,
          1,
          1,
          1,
          4,
          1,
          2,
          2,
          1,
          2,
          2,
          1,
          2,
          3,
          4,
          3,
          1,
          1,
          1,
          1,
          1,
          2,
          2,
          1,
          1,
          1,
          2,
          2,
          1,
          2,
          3,
          1,
          4,
          1,
          3,
          4,
          3,
          1,
          2,
          3,
          2,
          3,
          1,
          1,
          3,
          3,
          1,
          1,
          2,
          2,
          3,
          2,
          2,
          1,
          1,
          4,
          2,
          2,
          1,
          1,
          2,
          6,
          7,
          4,
          2,
          1,
          2,
          1,
          1,
          1,
          2,
          1,
          1,
          1,
          2,
          2,
          2,
          1,
          5,
          1,
          3,
          3,
          1,
          1,
          2,
          1,
          6,
          2,
          1,
          1,
          2,
          5,
          3,
          2,
          2,
          1,
          3,
          3,
          6,
          3,
          4,
          2,
          2,
          3,
          5,
          5,
          6,
          1,
          3,
          2,
          4,
          1,
          2,
          4,
          1,
          3,
          2,
          2,
          2,
          2,
          2,
          0,
          3,
          2,
          2,
          3,
          1,
          1,
          5,
          3,
          4,
          1,
          1,
          3,
          5,
          0,
          4,
          4,
          2,
          3,
          0,
          1,
          7,
          2,
          0,
          10,
          3,
          6,
          6,
          2,
          4,
          4,
          2,
          2,
          2,
          2,
          2,
          2,
          2,
          2,
          2,
          2,
          2,
          2,
          2,
          2,
          2,
          2,
          1,
          1,
          2,
          1,
          1,
          2,
          2,
          4,
          1,
          3,
          3,
          4,
          1,
          1,
          2,
          1,
          3,
          2,
          2,
          1,
          2,
          1,
          4,
          3,
          4,
          2,
          2,
          2,
          7,
          2,
          6,
          2,
          2,
          5,
          1,
          3,
          1,
          1,
          5,
          1,
          4,
          1,
          3,
          1,
          2,
          2,
          5,
          3,
          4,
          2,
          1,
          3,
          3,
          1,
          1,
          4,
          1,
          2,
          3,
          2,
          3,
          1,
          2,
          2,
          1,
          3,
          5,
          3,
          2,
          2,
          1,
          3,
          1,
          1,
          2,
          5,
          1,
          2,
          2,
          2,
          2,
          2,
          2,
          2,
          2,
          2,
          2,
          1,
          2,
          0,
          2,
          1,
          0,
          3,
          0,
          4,
          4,
          2,
          0,
          0,
          0,
          0,
          0,
          3,
          1,
          3,
          0,
          3,
          3,
          1,
          2,
          1,
          1,
          1,
          1,
          0,
          2,
          3,
          0,
          1,
          0,
          2,
          1
         ],
         "xaxis": "x",
         "yaxis": "y"
        },
        {
         "alignmentgroup": "True",
         "hovertemplate": "Num of pregnancies=%{x}<extra></extra>",
         "legendgroup": "",
         "marker": {
          "color": "rgb(3, 35, 51)"
         },
         "name": "",
         "notched": true,
         "offsetgroup": "",
         "showlegend": false,
         "type": "box",
         "x": [
          1,
          1,
          1,
          4,
          4,
          2,
          6,
          3,
          5,
          4,
          3,
          6,
          2,
          5,
          2,
          3,
          8,
          2,
          2,
          4,
          4,
          1,
          2,
          3,
          1,
          2,
          4,
          1,
          1,
          3,
          2,
          5,
          3,
          2,
          5,
          4,
          1,
          4,
          3,
          5,
          3,
          3,
          3,
          4,
          3,
          4,
          3,
          4,
          1,
          3,
          4,
          3,
          5,
          4,
          6,
          6,
          4,
          3,
          5,
          1,
          2,
          4,
          3,
          2,
          2,
          2,
          3,
          2,
          2,
          2,
          5,
          1,
          6,
          3,
          3,
          3,
          2,
          2,
          3,
          1,
          2,
          2,
          2,
          5,
          3,
          2,
          2,
          2,
          2,
          2,
          7,
          4,
          4,
          3,
          4,
          2,
          1,
          2,
          1,
          2,
          2,
          4,
          3,
          2,
          2,
          3,
          4,
          3,
          4,
          4,
          4,
          2,
          4,
          1,
          6,
          6,
          3,
          2,
          2,
          3,
          2,
          3,
          1,
          3,
          2,
          1,
          6,
          3,
          5,
          2,
          2,
          2,
          2,
          3,
          2,
          2,
          2,
          2,
          2,
          3,
          2,
          3,
          4,
          2,
          2,
          2,
          3,
          4,
          3,
          2,
          2,
          3,
          5,
          3,
          2,
          2,
          2,
          1,
          4,
          3,
          2,
          2,
          3,
          2,
          3,
          2,
          4,
          3,
          2,
          3,
          2,
          2,
          2,
          4,
          2,
          2,
          2,
          2,
          2,
          2,
          1,
          2,
          4,
          1,
          6,
          3,
          1,
          3,
          2,
          4,
          1,
          2,
          2,
          4,
          1,
          3,
          4,
          1,
          5,
          1,
          2,
          1,
          3,
          5,
          2,
          3,
          1,
          1,
          3,
          1,
          2,
          2,
          2,
          1,
          2,
          2,
          1,
          2,
          1,
          1,
          1,
          1,
          4,
          1,
          2,
          2,
          2,
          1,
          3,
          2,
          1,
          2,
          1,
          1,
          3,
          1,
          2,
          2,
          1,
          3,
          2,
          2,
          3,
          2,
          2,
          2,
          2,
          3,
          1,
          2,
          1,
          1,
          3,
          3,
          1,
          3,
          2,
          1,
          1,
          3,
          1,
          4,
          3,
          2,
          2,
          1,
          1,
          1,
          2,
          4,
          1,
          1,
          1,
          5,
          4,
          5,
          4,
          2,
          4,
          2,
          7,
          1,
          1,
          1,
          1,
          2,
          2,
          2,
          2,
          1,
          4,
          4,
          1,
          4,
          2,
          1,
          2,
          1,
          2,
          2,
          1,
          1,
          1,
          1,
          1,
          1,
          3,
          2,
          2,
          3,
          2,
          4,
          1,
          1,
          1,
          1,
          3,
          2,
          3,
          3,
          1,
          3,
          1,
          1,
          1,
          1,
          1,
          2,
          3,
          1,
          3,
          1,
          1,
          2,
          2,
          1,
          3,
          5,
          1,
          2,
          2,
          2,
          1,
          2,
          2,
          1,
          1,
          1,
          1,
          1,
          2,
          1,
          1,
          1,
          2,
          1,
          2,
          2,
          1,
          1,
          1,
          1,
          1,
          1,
          2,
          2,
          1,
          1,
          2,
          1,
          2,
          2,
          2,
          1,
          1,
          4,
          1,
          3,
          4,
          6,
          2,
          2,
          1,
          2,
          2,
          4,
          4,
          1,
          3,
          2,
          2,
          1,
          3,
          1,
          3,
          3,
          1,
          5,
          1,
          2,
          2,
          5,
          1,
          4,
          1,
          2,
          1,
          1,
          1,
          1,
          1,
          4,
          1,
          2,
          2,
          1,
          2,
          2,
          1,
          2,
          3,
          4,
          3,
          1,
          1,
          1,
          1,
          1,
          2,
          2,
          1,
          1,
          1,
          2,
          2,
          1,
          2,
          3,
          1,
          4,
          1,
          3,
          4,
          3,
          1,
          2,
          3,
          2,
          3,
          1,
          1,
          3,
          3,
          1,
          1,
          2,
          2,
          3,
          2,
          2,
          1,
          1,
          4,
          2,
          2,
          1,
          1,
          2,
          6,
          7,
          4,
          2,
          1,
          2,
          1,
          1,
          1,
          2,
          1,
          1,
          1,
          2,
          2,
          2,
          1,
          5,
          1,
          3,
          3,
          1,
          1,
          2,
          1,
          6,
          2,
          1,
          1,
          2,
          5,
          3,
          2,
          2,
          1,
          3,
          3,
          6,
          3,
          4,
          2,
          2,
          3,
          5,
          5,
          6,
          1,
          3,
          2,
          4,
          1,
          2,
          4,
          1,
          3,
          2,
          2,
          2,
          2,
          2,
          0,
          3,
          2,
          2,
          3,
          1,
          1,
          5,
          3,
          4,
          1,
          1,
          3,
          5,
          0,
          4,
          4,
          2,
          3,
          0,
          1,
          7,
          2,
          0,
          10,
          3,
          6,
          6,
          2,
          4,
          4,
          2,
          2,
          2,
          2,
          2,
          2,
          2,
          2,
          2,
          2,
          2,
          2,
          2,
          2,
          2,
          2,
          1,
          1,
          2,
          1,
          1,
          2,
          2,
          4,
          1,
          3,
          3,
          4,
          1,
          1,
          2,
          1,
          3,
          2,
          2,
          1,
          2,
          1,
          4,
          3,
          4,
          2,
          2,
          2,
          7,
          2,
          6,
          2,
          2,
          5,
          1,
          3,
          1,
          1,
          5,
          1,
          4,
          1,
          3,
          1,
          2,
          2,
          5,
          3,
          4,
          2,
          1,
          3,
          3,
          1,
          1,
          4,
          1,
          2,
          3,
          2,
          3,
          1,
          2,
          2,
          1,
          3,
          5,
          3,
          2,
          2,
          1,
          3,
          1,
          1,
          2,
          5,
          1,
          2,
          2,
          2,
          2,
          2,
          2,
          2,
          2,
          2,
          2,
          1,
          2,
          0,
          2,
          1,
          0,
          3,
          0,
          4,
          4,
          2,
          0,
          0,
          0,
          0,
          0,
          3,
          1,
          3,
          0,
          3,
          3,
          1,
          2,
          1,
          1,
          1,
          1,
          0,
          2,
          3,
          0,
          1,
          0,
          2,
          1
         ],
         "xaxis": "x2",
         "yaxis": "y2"
        }
       ],
       "layout": {
        "bargap": 0.2,
        "barmode": "relative",
        "legend": {
         "tracegroupgap": 0
        },
        "margin": {
         "t": 60
        },
        "template": {
         "data": {
          "bar": [
           {
            "error_x": {
             "color": "#2a3f5f"
            },
            "error_y": {
             "color": "#2a3f5f"
            },
            "marker": {
             "line": {
              "color": "#E5ECF6",
              "width": 0.5
             },
             "pattern": {
              "fillmode": "overlay",
              "size": 10,
              "solidity": 0.2
             }
            },
            "type": "bar"
           }
          ],
          "barpolar": [
           {
            "marker": {
             "line": {
              "color": "#E5ECF6",
              "width": 0.5
             },
             "pattern": {
              "fillmode": "overlay",
              "size": 10,
              "solidity": 0.2
             }
            },
            "type": "barpolar"
           }
          ],
          "carpet": [
           {
            "aaxis": {
             "endlinecolor": "#2a3f5f",
             "gridcolor": "white",
             "linecolor": "white",
             "minorgridcolor": "white",
             "startlinecolor": "#2a3f5f"
            },
            "baxis": {
             "endlinecolor": "#2a3f5f",
             "gridcolor": "white",
             "linecolor": "white",
             "minorgridcolor": "white",
             "startlinecolor": "#2a3f5f"
            },
            "type": "carpet"
           }
          ],
          "choropleth": [
           {
            "colorbar": {
             "outlinewidth": 0,
             "ticks": ""
            },
            "type": "choropleth"
           }
          ],
          "contour": [
           {
            "colorbar": {
             "outlinewidth": 0,
             "ticks": ""
            },
            "colorscale": [
             [
              0,
              "#0d0887"
             ],
             [
              0.1111111111111111,
              "#46039f"
             ],
             [
              0.2222222222222222,
              "#7201a8"
             ],
             [
              0.3333333333333333,
              "#9c179e"
             ],
             [
              0.4444444444444444,
              "#bd3786"
             ],
             [
              0.5555555555555556,
              "#d8576b"
             ],
             [
              0.6666666666666666,
              "#ed7953"
             ],
             [
              0.7777777777777778,
              "#fb9f3a"
             ],
             [
              0.8888888888888888,
              "#fdca26"
             ],
             [
              1,
              "#f0f921"
             ]
            ],
            "type": "contour"
           }
          ],
          "contourcarpet": [
           {
            "colorbar": {
             "outlinewidth": 0,
             "ticks": ""
            },
            "type": "contourcarpet"
           }
          ],
          "heatmap": [
           {
            "colorbar": {
             "outlinewidth": 0,
             "ticks": ""
            },
            "colorscale": [
             [
              0,
              "#0d0887"
             ],
             [
              0.1111111111111111,
              "#46039f"
             ],
             [
              0.2222222222222222,
              "#7201a8"
             ],
             [
              0.3333333333333333,
              "#9c179e"
             ],
             [
              0.4444444444444444,
              "#bd3786"
             ],
             [
              0.5555555555555556,
              "#d8576b"
             ],
             [
              0.6666666666666666,
              "#ed7953"
             ],
             [
              0.7777777777777778,
              "#fb9f3a"
             ],
             [
              0.8888888888888888,
              "#fdca26"
             ],
             [
              1,
              "#f0f921"
             ]
            ],
            "type": "heatmap"
           }
          ],
          "heatmapgl": [
           {
            "colorbar": {
             "outlinewidth": 0,
             "ticks": ""
            },
            "colorscale": [
             [
              0,
              "#0d0887"
             ],
             [
              0.1111111111111111,
              "#46039f"
             ],
             [
              0.2222222222222222,
              "#7201a8"
             ],
             [
              0.3333333333333333,
              "#9c179e"
             ],
             [
              0.4444444444444444,
              "#bd3786"
             ],
             [
              0.5555555555555556,
              "#d8576b"
             ],
             [
              0.6666666666666666,
              "#ed7953"
             ],
             [
              0.7777777777777778,
              "#fb9f3a"
             ],
             [
              0.8888888888888888,
              "#fdca26"
             ],
             [
              1,
              "#f0f921"
             ]
            ],
            "type": "heatmapgl"
           }
          ],
          "histogram": [
           {
            "marker": {
             "pattern": {
              "fillmode": "overlay",
              "size": 10,
              "solidity": 0.2
             }
            },
            "type": "histogram"
           }
          ],
          "histogram2d": [
           {
            "colorbar": {
             "outlinewidth": 0,
             "ticks": ""
            },
            "colorscale": [
             [
              0,
              "#0d0887"
             ],
             [
              0.1111111111111111,
              "#46039f"
             ],
             [
              0.2222222222222222,
              "#7201a8"
             ],
             [
              0.3333333333333333,
              "#9c179e"
             ],
             [
              0.4444444444444444,
              "#bd3786"
             ],
             [
              0.5555555555555556,
              "#d8576b"
             ],
             [
              0.6666666666666666,
              "#ed7953"
             ],
             [
              0.7777777777777778,
              "#fb9f3a"
             ],
             [
              0.8888888888888888,
              "#fdca26"
             ],
             [
              1,
              "#f0f921"
             ]
            ],
            "type": "histogram2d"
           }
          ],
          "histogram2dcontour": [
           {
            "colorbar": {
             "outlinewidth": 0,
             "ticks": ""
            },
            "colorscale": [
             [
              0,
              "#0d0887"
             ],
             [
              0.1111111111111111,
              "#46039f"
             ],
             [
              0.2222222222222222,
              "#7201a8"
             ],
             [
              0.3333333333333333,
              "#9c179e"
             ],
             [
              0.4444444444444444,
              "#bd3786"
             ],
             [
              0.5555555555555556,
              "#d8576b"
             ],
             [
              0.6666666666666666,
              "#ed7953"
             ],
             [
              0.7777777777777778,
              "#fb9f3a"
             ],
             [
              0.8888888888888888,
              "#fdca26"
             ],
             [
              1,
              "#f0f921"
             ]
            ],
            "type": "histogram2dcontour"
           }
          ],
          "mesh3d": [
           {
            "colorbar": {
             "outlinewidth": 0,
             "ticks": ""
            },
            "type": "mesh3d"
           }
          ],
          "parcoords": [
           {
            "line": {
             "colorbar": {
              "outlinewidth": 0,
              "ticks": ""
             }
            },
            "type": "parcoords"
           }
          ],
          "pie": [
           {
            "automargin": true,
            "type": "pie"
           }
          ],
          "scatter": [
           {
            "fillpattern": {
             "fillmode": "overlay",
             "size": 10,
             "solidity": 0.2
            },
            "type": "scatter"
           }
          ],
          "scatter3d": [
           {
            "line": {
             "colorbar": {
              "outlinewidth": 0,
              "ticks": ""
             }
            },
            "marker": {
             "colorbar": {
              "outlinewidth": 0,
              "ticks": ""
             }
            },
            "type": "scatter3d"
           }
          ],
          "scattercarpet": [
           {
            "marker": {
             "colorbar": {
              "outlinewidth": 0,
              "ticks": ""
             }
            },
            "type": "scattercarpet"
           }
          ],
          "scattergeo": [
           {
            "marker": {
             "colorbar": {
              "outlinewidth": 0,
              "ticks": ""
             }
            },
            "type": "scattergeo"
           }
          ],
          "scattergl": [
           {
            "marker": {
             "colorbar": {
              "outlinewidth": 0,
              "ticks": ""
             }
            },
            "type": "scattergl"
           }
          ],
          "scattermapbox": [
           {
            "marker": {
             "colorbar": {
              "outlinewidth": 0,
              "ticks": ""
             }
            },
            "type": "scattermapbox"
           }
          ],
          "scatterpolar": [
           {
            "marker": {
             "colorbar": {
              "outlinewidth": 0,
              "ticks": ""
             }
            },
            "type": "scatterpolar"
           }
          ],
          "scatterpolargl": [
           {
            "marker": {
             "colorbar": {
              "outlinewidth": 0,
              "ticks": ""
             }
            },
            "type": "scatterpolargl"
           }
          ],
          "scatterternary": [
           {
            "marker": {
             "colorbar": {
              "outlinewidth": 0,
              "ticks": ""
             }
            },
            "type": "scatterternary"
           }
          ],
          "surface": [
           {
            "colorbar": {
             "outlinewidth": 0,
             "ticks": ""
            },
            "colorscale": [
             [
              0,
              "#0d0887"
             ],
             [
              0.1111111111111111,
              "#46039f"
             ],
             [
              0.2222222222222222,
              "#7201a8"
             ],
             [
              0.3333333333333333,
              "#9c179e"
             ],
             [
              0.4444444444444444,
              "#bd3786"
             ],
             [
              0.5555555555555556,
              "#d8576b"
             ],
             [
              0.6666666666666666,
              "#ed7953"
             ],
             [
              0.7777777777777778,
              "#fb9f3a"
             ],
             [
              0.8888888888888888,
              "#fdca26"
             ],
             [
              1,
              "#f0f921"
             ]
            ],
            "type": "surface"
           }
          ],
          "table": [
           {
            "cells": {
             "fill": {
              "color": "#EBF0F8"
             },
             "line": {
              "color": "white"
             }
            },
            "header": {
             "fill": {
              "color": "#C8D4E3"
             },
             "line": {
              "color": "white"
             }
            },
            "type": "table"
           }
          ]
         },
         "layout": {
          "annotationdefaults": {
           "arrowcolor": "#2a3f5f",
           "arrowhead": 0,
           "arrowwidth": 1
          },
          "autotypenumbers": "strict",
          "coloraxis": {
           "colorbar": {
            "outlinewidth": 0,
            "ticks": ""
           }
          },
          "colorscale": {
           "diverging": [
            [
             0,
             "#8e0152"
            ],
            [
             0.1,
             "#c51b7d"
            ],
            [
             0.2,
             "#de77ae"
            ],
            [
             0.3,
             "#f1b6da"
            ],
            [
             0.4,
             "#fde0ef"
            ],
            [
             0.5,
             "#f7f7f7"
            ],
            [
             0.6,
             "#e6f5d0"
            ],
            [
             0.7,
             "#b8e186"
            ],
            [
             0.8,
             "#7fbc41"
            ],
            [
             0.9,
             "#4d9221"
            ],
            [
             1,
             "#276419"
            ]
           ],
           "sequential": [
            [
             0,
             "#0d0887"
            ],
            [
             0.1111111111111111,
             "#46039f"
            ],
            [
             0.2222222222222222,
             "#7201a8"
            ],
            [
             0.3333333333333333,
             "#9c179e"
            ],
            [
             0.4444444444444444,
             "#bd3786"
            ],
            [
             0.5555555555555556,
             "#d8576b"
            ],
            [
             0.6666666666666666,
             "#ed7953"
            ],
            [
             0.7777777777777778,
             "#fb9f3a"
            ],
            [
             0.8888888888888888,
             "#fdca26"
            ],
            [
             1,
             "#f0f921"
            ]
           ],
           "sequentialminus": [
            [
             0,
             "#0d0887"
            ],
            [
             0.1111111111111111,
             "#46039f"
            ],
            [
             0.2222222222222222,
             "#7201a8"
            ],
            [
             0.3333333333333333,
             "#9c179e"
            ],
            [
             0.4444444444444444,
             "#bd3786"
            ],
            [
             0.5555555555555556,
             "#d8576b"
            ],
            [
             0.6666666666666666,
             "#ed7953"
            ],
            [
             0.7777777777777778,
             "#fb9f3a"
            ],
            [
             0.8888888888888888,
             "#fdca26"
            ],
            [
             1,
             "#f0f921"
            ]
           ]
          },
          "colorway": [
           "#636efa",
           "#EF553B",
           "#00cc96",
           "#ab63fa",
           "#FFA15A",
           "#19d3f3",
           "#FF6692",
           "#B6E880",
           "#FF97FF",
           "#FECB52"
          ],
          "font": {
           "color": "#2a3f5f"
          },
          "geo": {
           "bgcolor": "white",
           "lakecolor": "white",
           "landcolor": "#E5ECF6",
           "showlakes": true,
           "showland": true,
           "subunitcolor": "white"
          },
          "hoverlabel": {
           "align": "left"
          },
          "hovermode": "closest",
          "mapbox": {
           "style": "light"
          },
          "paper_bgcolor": "white",
          "plot_bgcolor": "#E5ECF6",
          "polar": {
           "angularaxis": {
            "gridcolor": "white",
            "linecolor": "white",
            "ticks": ""
           },
           "bgcolor": "#E5ECF6",
           "radialaxis": {
            "gridcolor": "white",
            "linecolor": "white",
            "ticks": ""
           }
          },
          "scene": {
           "xaxis": {
            "backgroundcolor": "#E5ECF6",
            "gridcolor": "white",
            "gridwidth": 2,
            "linecolor": "white",
            "showbackground": true,
            "ticks": "",
            "zerolinecolor": "white"
           },
           "yaxis": {
            "backgroundcolor": "#E5ECF6",
            "gridcolor": "white",
            "gridwidth": 2,
            "linecolor": "white",
            "showbackground": true,
            "ticks": "",
            "zerolinecolor": "white"
           },
           "zaxis": {
            "backgroundcolor": "#E5ECF6",
            "gridcolor": "white",
            "gridwidth": 2,
            "linecolor": "white",
            "showbackground": true,
            "ticks": "",
            "zerolinecolor": "white"
           }
          },
          "shapedefaults": {
           "line": {
            "color": "#2a3f5f"
           }
          },
          "ternary": {
           "aaxis": {
            "gridcolor": "white",
            "linecolor": "white",
            "ticks": ""
           },
           "baxis": {
            "gridcolor": "white",
            "linecolor": "white",
            "ticks": ""
           },
           "bgcolor": "#E5ECF6",
           "caxis": {
            "gridcolor": "white",
            "linecolor": "white",
            "ticks": ""
           }
          },
          "title": {
           "x": 0.05
          },
          "xaxis": {
           "automargin": true,
           "gridcolor": "white",
           "linecolor": "white",
           "ticks": "",
           "title": {
            "standoff": 15
           },
           "zerolinecolor": "white",
           "zerolinewidth": 2
          },
          "yaxis": {
           "automargin": true,
           "gridcolor": "white",
           "linecolor": "white",
           "ticks": "",
           "title": {
            "standoff": 15
           },
           "zerolinecolor": "white",
           "zerolinewidth": 2
          }
         }
        },
        "width": 700,
        "xaxis": {
         "anchor": "y",
         "domain": [
          0,
          1
         ],
         "title": {
          "text": "Num of pregnancies"
         }
        },
        "xaxis2": {
         "anchor": "y2",
         "domain": [
          0,
          1
         ],
         "matches": "x",
         "showgrid": true,
         "showticklabels": false
        },
        "yaxis": {
         "anchor": "x",
         "domain": [
          0,
          0.8316
         ],
         "title": {
          "text": "count"
         }
        },
        "yaxis2": {
         "anchor": "x2",
         "domain": [
          0.8416,
          1
         ],
         "matches": "y2",
         "showgrid": false,
         "showline": false,
         "showticklabels": false,
         "ticks": ""
        }
       }
      }
     },
     "metadata": {},
     "output_type": "display_data"
    },
    {
     "name": "stdout",
     "output_type": "stream",
     "text": [
      "Num of pregnancies\n",
      "median: 2.0, upper fence: 6.0, lower fence: -2.0\n"
     ]
    },
    {
     "data": {
      "application/vnd.plotly.v1+json": {
       "config": {
        "plotlyServerURL": "https://plot.ly"
       },
       "data": [
        {
         "alignmentgroup": "True",
         "bingroup": "x",
         "hovertemplate": "Hormonal Contraceptives (years)=%{x}<br>count=%{y}<extra></extra>",
         "legendgroup": "",
         "marker": {
          "color": "rgb(3, 35, 51)",
          "pattern": {
           "shape": ""
          }
         },
         "name": "",
         "offsetgroup": "",
         "orientation": "v",
         "showlegend": false,
         "type": "histogram",
         "x": [
          0,
          0,
          0,
          3,
          15,
          0,
          0,
          2,
          0,
          2,
          8,
          10,
          5,
          0,
          15,
          0.25,
          7,
          0,
          15,
          10,
          0.25,
          15,
          3,
          0,
          0,
          0,
          0,
          0.25,
          22,
          19,
          10,
          0.5,
          0.5,
          1,
          1,
          0.58,
          0,
          2,
          0,
          9,
          0,
          13,
          0.25,
          0,
          0,
          0.25,
          0.25,
          0,
          0.5,
          0,
          11,
          15,
          0,
          0.25,
          1,
          7,
          5,
          4,
          5,
          12,
          16,
          3,
          0,
          0,
          0.33,
          15,
          0.33,
          2,
          1,
          1,
          2,
          7,
          0.5,
          0.16,
          0,
          2,
          8,
          0,
          4,
          5,
          10,
          2,
          4,
          8,
          0.5,
          0,
          14,
          2,
          9,
          0.08,
          0,
          10,
          10,
          0,
          13,
          2.282200521,
          10,
          8,
          9,
          2,
          0.66,
          0,
          0,
          11,
          3,
          0,
          6,
          4,
          12,
          0,
          0,
          0,
          0,
          5,
          5,
          0,
          0.08,
          0.08,
          12,
          0,
          1,
          0,
          0.5,
          0,
          1,
          6,
          0.5,
          1,
          3,
          0,
          5,
          2,
          6,
          6,
          7,
          5,
          0,
          7,
          5,
          6,
          3,
          3,
          5,
          7,
          0,
          0,
          5,
          0.25,
          4,
          9,
          0,
          0,
          1,
          1,
          9,
          1,
          0,
          0.25,
          0,
          0.25,
          9,
          7,
          3,
          1,
          2,
          2,
          1.5,
          6,
          0,
          0,
          0,
          0,
          0,
          3,
          0.42,
          0,
          0.08,
          1,
          1,
          0.67,
          9,
          3,
          0,
          7,
          4,
          0.08,
          6,
          4,
          1,
          2,
          3,
          0.16,
          0,
          0,
          0,
          6,
          1,
          0,
          1,
          0.16,
          0.5,
          4,
          6,
          8,
          3,
          6,
          0.08,
          0,
          1,
          7,
          0.67,
          7,
          0.25,
          0.25,
          0.5,
          8,
          0,
          0,
          0,
          0.42,
          8,
          5,
          0,
          0,
          6,
          0,
          1,
          3,
          0,
          1,
          0,
          5,
          0,
          3,
          0,
          0,
          0,
          4,
          3,
          2,
          0,
          1,
          5,
          2,
          4,
          1,
          0.08,
          0,
          0,
          7,
          0,
          0.25,
          5,
          0,
          7,
          0,
          0,
          0.66,
          5,
          0.58,
          4,
          1,
          3,
          4,
          0.25,
          6,
          1,
          1,
          3,
          0.25,
          0.25,
          0,
          0.25,
          2.282200521,
          1,
          5,
          1,
          0,
          7,
          7,
          0.08,
          1,
          0.5,
          0,
          0.5,
          0,
          1,
          4,
          0,
          0,
          0,
          2,
          4,
          3,
          0.16,
          0.42,
          0.33,
          0,
          0.75,
          0.25,
          0,
          3,
          0,
          0,
          1,
          0.75,
          0.5,
          0,
          1,
          4,
          0.5,
          0,
          0,
          0.58,
          0,
          0.58,
          0,
          1,
          1,
          0,
          0,
          0,
          0.08,
          0,
          0,
          0,
          3,
          0.5,
          0.33,
          5,
          0.58,
          0,
          0,
          0,
          0,
          0.42,
          0,
          0,
          0,
          0,
          0,
          0.25,
          0.33,
          0,
          0,
          0,
          2,
          4,
          0,
          0.08,
          0.42,
          0,
          1,
          0.25,
          0,
          0,
          1,
          0,
          0.16,
          0,
          0,
          0.25,
          1,
          0.66,
          0,
          0,
          0,
          0,
          0,
          0,
          0.08,
          0,
          1,
          0,
          3,
          1,
          1,
          8,
          0,
          3,
          0,
          0,
          0.5,
          0,
          8,
          3,
          0,
          0,
          2,
          6,
          1,
          2,
          0.5,
          0.5,
          4,
          0,
          0.33,
          0.08,
          7,
          5,
          4,
          0,
          0,
          0,
          6,
          2.5,
          1,
          0.08,
          0,
          1,
          1,
          1,
          5,
          5,
          2,
          1,
          0.66,
          0.08,
          0.16,
          0.16,
          0,
          5,
          4,
          2,
          0,
          0.08,
          0,
          0,
          0.16,
          0,
          0,
          1,
          1,
          4.5,
          4,
          0.16,
          9,
          3,
          0.08,
          1,
          0.42,
          0.25,
          0.25,
          0,
          0,
          6.5,
          0.25,
          1,
          0,
          0,
          0,
          10,
          0,
          0,
          6,
          0,
          7,
          0.25,
          2,
          0,
          1,
          5,
          2,
          5,
          0,
          0,
          1,
          8,
          0.66,
          1,
          0,
          0.17,
          0.08,
          0,
          1,
          0.08,
          1,
          0,
          1,
          0,
          6,
          1,
          0,
          2,
          0.58,
          2,
          2,
          0,
          0,
          0.33,
          1,
          0.75,
          20,
          3,
          0.25,
          0.25,
          1,
          1.5,
          0.25,
          0.16,
          1.5,
          0,
          0.08,
          0,
          20,
          6,
          3.5,
          0,
          3,
          0,
          0.16,
          0,
          7,
          0,
          8,
          3,
          0,
          0.08,
          6,
          0,
          0.25,
          6,
          10,
          3,
          8,
          3,
          6,
          0,
          1,
          9,
          1,
          0.41,
          0,
          0.25,
          0.25,
          0,
          16,
          5,
          0.25,
          20,
          0,
          0,
          10,
          1,
          6,
          0,
          0,
          0.25,
          5,
          0,
          8,
          3,
          0,
          2,
          0,
          1,
          0,
          1,
          0.08,
          3,
          0.42,
          0,
          0,
          0.75,
          1,
          0,
          0,
          0.25,
          2,
          0,
          0.25,
          0,
          0,
          9,
          4,
          0.5,
          0,
          0,
          7,
          0,
          12,
          0,
          19,
          1,
          0,
          8,
          1,
          0.16,
          5,
          10,
          9,
          8,
          1,
          20,
          0,
          3,
          8,
          2,
          0,
          0,
          0,
          0,
          0.16,
          0.5,
          0,
          0,
          2,
          2,
          1,
          3,
          0,
          0.5,
          14,
          0,
          0,
          1,
          0,
          0,
          0.16,
          1,
          0.25,
          3,
          4,
          0,
          0,
          1,
          0,
          0,
          9,
          2,
          0.25,
          2,
          2,
          7,
          0,
          0.5,
          0,
          0,
          17,
          1,
          0.16,
          0,
          0,
          6,
          2,
          0.16,
          0,
          0,
          7,
          0,
          0,
          0,
          0.75,
          0.25,
          0.08,
          1,
          2,
          0,
          2,
          0.66,
          3,
          6,
          0,
          0,
          0,
          0.75,
          0,
          0,
          0,
          0,
          0,
          1,
          0,
          0,
          0,
          0.25,
          5,
          0.08,
          5,
          0,
          2,
          2,
          5,
          0.75,
          0,
          0,
          0.5,
          6,
          0,
          0,
          5,
          0,
          8,
          0.08,
          0.08,
          0.5
         ],
         "xaxis": "x",
         "yaxis": "y"
        },
        {
         "alignmentgroup": "True",
         "hovertemplate": "Hormonal Contraceptives (years)=%{x}<extra></extra>",
         "legendgroup": "",
         "marker": {
          "color": "rgb(3, 35, 51)"
         },
         "name": "",
         "notched": true,
         "offsetgroup": "",
         "showlegend": false,
         "type": "box",
         "x": [
          0,
          0,
          0,
          3,
          15,
          0,
          0,
          2,
          0,
          2,
          8,
          10,
          5,
          0,
          15,
          0.25,
          7,
          0,
          15,
          10,
          0.25,
          15,
          3,
          0,
          0,
          0,
          0,
          0.25,
          22,
          19,
          10,
          0.5,
          0.5,
          1,
          1,
          0.58,
          0,
          2,
          0,
          9,
          0,
          13,
          0.25,
          0,
          0,
          0.25,
          0.25,
          0,
          0.5,
          0,
          11,
          15,
          0,
          0.25,
          1,
          7,
          5,
          4,
          5,
          12,
          16,
          3,
          0,
          0,
          0.33,
          15,
          0.33,
          2,
          1,
          1,
          2,
          7,
          0.5,
          0.16,
          0,
          2,
          8,
          0,
          4,
          5,
          10,
          2,
          4,
          8,
          0.5,
          0,
          14,
          2,
          9,
          0.08,
          0,
          10,
          10,
          0,
          13,
          2.282200521,
          10,
          8,
          9,
          2,
          0.66,
          0,
          0,
          11,
          3,
          0,
          6,
          4,
          12,
          0,
          0,
          0,
          0,
          5,
          5,
          0,
          0.08,
          0.08,
          12,
          0,
          1,
          0,
          0.5,
          0,
          1,
          6,
          0.5,
          1,
          3,
          0,
          5,
          2,
          6,
          6,
          7,
          5,
          0,
          7,
          5,
          6,
          3,
          3,
          5,
          7,
          0,
          0,
          5,
          0.25,
          4,
          9,
          0,
          0,
          1,
          1,
          9,
          1,
          0,
          0.25,
          0,
          0.25,
          9,
          7,
          3,
          1,
          2,
          2,
          1.5,
          6,
          0,
          0,
          0,
          0,
          0,
          3,
          0.42,
          0,
          0.08,
          1,
          1,
          0.67,
          9,
          3,
          0,
          7,
          4,
          0.08,
          6,
          4,
          1,
          2,
          3,
          0.16,
          0,
          0,
          0,
          6,
          1,
          0,
          1,
          0.16,
          0.5,
          4,
          6,
          8,
          3,
          6,
          0.08,
          0,
          1,
          7,
          0.67,
          7,
          0.25,
          0.25,
          0.5,
          8,
          0,
          0,
          0,
          0.42,
          8,
          5,
          0,
          0,
          6,
          0,
          1,
          3,
          0,
          1,
          0,
          5,
          0,
          3,
          0,
          0,
          0,
          4,
          3,
          2,
          0,
          1,
          5,
          2,
          4,
          1,
          0.08,
          0,
          0,
          7,
          0,
          0.25,
          5,
          0,
          7,
          0,
          0,
          0.66,
          5,
          0.58,
          4,
          1,
          3,
          4,
          0.25,
          6,
          1,
          1,
          3,
          0.25,
          0.25,
          0,
          0.25,
          2.282200521,
          1,
          5,
          1,
          0,
          7,
          7,
          0.08,
          1,
          0.5,
          0,
          0.5,
          0,
          1,
          4,
          0,
          0,
          0,
          2,
          4,
          3,
          0.16,
          0.42,
          0.33,
          0,
          0.75,
          0.25,
          0,
          3,
          0,
          0,
          1,
          0.75,
          0.5,
          0,
          1,
          4,
          0.5,
          0,
          0,
          0.58,
          0,
          0.58,
          0,
          1,
          1,
          0,
          0,
          0,
          0.08,
          0,
          0,
          0,
          3,
          0.5,
          0.33,
          5,
          0.58,
          0,
          0,
          0,
          0,
          0.42,
          0,
          0,
          0,
          0,
          0,
          0.25,
          0.33,
          0,
          0,
          0,
          2,
          4,
          0,
          0.08,
          0.42,
          0,
          1,
          0.25,
          0,
          0,
          1,
          0,
          0.16,
          0,
          0,
          0.25,
          1,
          0.66,
          0,
          0,
          0,
          0,
          0,
          0,
          0.08,
          0,
          1,
          0,
          3,
          1,
          1,
          8,
          0,
          3,
          0,
          0,
          0.5,
          0,
          8,
          3,
          0,
          0,
          2,
          6,
          1,
          2,
          0.5,
          0.5,
          4,
          0,
          0.33,
          0.08,
          7,
          5,
          4,
          0,
          0,
          0,
          6,
          2.5,
          1,
          0.08,
          0,
          1,
          1,
          1,
          5,
          5,
          2,
          1,
          0.66,
          0.08,
          0.16,
          0.16,
          0,
          5,
          4,
          2,
          0,
          0.08,
          0,
          0,
          0.16,
          0,
          0,
          1,
          1,
          4.5,
          4,
          0.16,
          9,
          3,
          0.08,
          1,
          0.42,
          0.25,
          0.25,
          0,
          0,
          6.5,
          0.25,
          1,
          0,
          0,
          0,
          10,
          0,
          0,
          6,
          0,
          7,
          0.25,
          2,
          0,
          1,
          5,
          2,
          5,
          0,
          0,
          1,
          8,
          0.66,
          1,
          0,
          0.17,
          0.08,
          0,
          1,
          0.08,
          1,
          0,
          1,
          0,
          6,
          1,
          0,
          2,
          0.58,
          2,
          2,
          0,
          0,
          0.33,
          1,
          0.75,
          20,
          3,
          0.25,
          0.25,
          1,
          1.5,
          0.25,
          0.16,
          1.5,
          0,
          0.08,
          0,
          20,
          6,
          3.5,
          0,
          3,
          0,
          0.16,
          0,
          7,
          0,
          8,
          3,
          0,
          0.08,
          6,
          0,
          0.25,
          6,
          10,
          3,
          8,
          3,
          6,
          0,
          1,
          9,
          1,
          0.41,
          0,
          0.25,
          0.25,
          0,
          16,
          5,
          0.25,
          20,
          0,
          0,
          10,
          1,
          6,
          0,
          0,
          0.25,
          5,
          0,
          8,
          3,
          0,
          2,
          0,
          1,
          0,
          1,
          0.08,
          3,
          0.42,
          0,
          0,
          0.75,
          1,
          0,
          0,
          0.25,
          2,
          0,
          0.25,
          0,
          0,
          9,
          4,
          0.5,
          0,
          0,
          7,
          0,
          12,
          0,
          19,
          1,
          0,
          8,
          1,
          0.16,
          5,
          10,
          9,
          8,
          1,
          20,
          0,
          3,
          8,
          2,
          0,
          0,
          0,
          0,
          0.16,
          0.5,
          0,
          0,
          2,
          2,
          1,
          3,
          0,
          0.5,
          14,
          0,
          0,
          1,
          0,
          0,
          0.16,
          1,
          0.25,
          3,
          4,
          0,
          0,
          1,
          0,
          0,
          9,
          2,
          0.25,
          2,
          2,
          7,
          0,
          0.5,
          0,
          0,
          17,
          1,
          0.16,
          0,
          0,
          6,
          2,
          0.16,
          0,
          0,
          7,
          0,
          0,
          0,
          0.75,
          0.25,
          0.08,
          1,
          2,
          0,
          2,
          0.66,
          3,
          6,
          0,
          0,
          0,
          0.75,
          0,
          0,
          0,
          0,
          0,
          1,
          0,
          0,
          0,
          0.25,
          5,
          0.08,
          5,
          0,
          2,
          2,
          5,
          0.75,
          0,
          0,
          0.5,
          6,
          0,
          0,
          5,
          0,
          8,
          0.08,
          0.08,
          0.5
         ],
         "xaxis": "x2",
         "yaxis": "y2"
        }
       ],
       "layout": {
        "bargap": 0.2,
        "barmode": "relative",
        "legend": {
         "tracegroupgap": 0
        },
        "margin": {
         "t": 60
        },
        "template": {
         "data": {
          "bar": [
           {
            "error_x": {
             "color": "#2a3f5f"
            },
            "error_y": {
             "color": "#2a3f5f"
            },
            "marker": {
             "line": {
              "color": "#E5ECF6",
              "width": 0.5
             },
             "pattern": {
              "fillmode": "overlay",
              "size": 10,
              "solidity": 0.2
             }
            },
            "type": "bar"
           }
          ],
          "barpolar": [
           {
            "marker": {
             "line": {
              "color": "#E5ECF6",
              "width": 0.5
             },
             "pattern": {
              "fillmode": "overlay",
              "size": 10,
              "solidity": 0.2
             }
            },
            "type": "barpolar"
           }
          ],
          "carpet": [
           {
            "aaxis": {
             "endlinecolor": "#2a3f5f",
             "gridcolor": "white",
             "linecolor": "white",
             "minorgridcolor": "white",
             "startlinecolor": "#2a3f5f"
            },
            "baxis": {
             "endlinecolor": "#2a3f5f",
             "gridcolor": "white",
             "linecolor": "white",
             "minorgridcolor": "white",
             "startlinecolor": "#2a3f5f"
            },
            "type": "carpet"
           }
          ],
          "choropleth": [
           {
            "colorbar": {
             "outlinewidth": 0,
             "ticks": ""
            },
            "type": "choropleth"
           }
          ],
          "contour": [
           {
            "colorbar": {
             "outlinewidth": 0,
             "ticks": ""
            },
            "colorscale": [
             [
              0,
              "#0d0887"
             ],
             [
              0.1111111111111111,
              "#46039f"
             ],
             [
              0.2222222222222222,
              "#7201a8"
             ],
             [
              0.3333333333333333,
              "#9c179e"
             ],
             [
              0.4444444444444444,
              "#bd3786"
             ],
             [
              0.5555555555555556,
              "#d8576b"
             ],
             [
              0.6666666666666666,
              "#ed7953"
             ],
             [
              0.7777777777777778,
              "#fb9f3a"
             ],
             [
              0.8888888888888888,
              "#fdca26"
             ],
             [
              1,
              "#f0f921"
             ]
            ],
            "type": "contour"
           }
          ],
          "contourcarpet": [
           {
            "colorbar": {
             "outlinewidth": 0,
             "ticks": ""
            },
            "type": "contourcarpet"
           }
          ],
          "heatmap": [
           {
            "colorbar": {
             "outlinewidth": 0,
             "ticks": ""
            },
            "colorscale": [
             [
              0,
              "#0d0887"
             ],
             [
              0.1111111111111111,
              "#46039f"
             ],
             [
              0.2222222222222222,
              "#7201a8"
             ],
             [
              0.3333333333333333,
              "#9c179e"
             ],
             [
              0.4444444444444444,
              "#bd3786"
             ],
             [
              0.5555555555555556,
              "#d8576b"
             ],
             [
              0.6666666666666666,
              "#ed7953"
             ],
             [
              0.7777777777777778,
              "#fb9f3a"
             ],
             [
              0.8888888888888888,
              "#fdca26"
             ],
             [
              1,
              "#f0f921"
             ]
            ],
            "type": "heatmap"
           }
          ],
          "heatmapgl": [
           {
            "colorbar": {
             "outlinewidth": 0,
             "ticks": ""
            },
            "colorscale": [
             [
              0,
              "#0d0887"
             ],
             [
              0.1111111111111111,
              "#46039f"
             ],
             [
              0.2222222222222222,
              "#7201a8"
             ],
             [
              0.3333333333333333,
              "#9c179e"
             ],
             [
              0.4444444444444444,
              "#bd3786"
             ],
             [
              0.5555555555555556,
              "#d8576b"
             ],
             [
              0.6666666666666666,
              "#ed7953"
             ],
             [
              0.7777777777777778,
              "#fb9f3a"
             ],
             [
              0.8888888888888888,
              "#fdca26"
             ],
             [
              1,
              "#f0f921"
             ]
            ],
            "type": "heatmapgl"
           }
          ],
          "histogram": [
           {
            "marker": {
             "pattern": {
              "fillmode": "overlay",
              "size": 10,
              "solidity": 0.2
             }
            },
            "type": "histogram"
           }
          ],
          "histogram2d": [
           {
            "colorbar": {
             "outlinewidth": 0,
             "ticks": ""
            },
            "colorscale": [
             [
              0,
              "#0d0887"
             ],
             [
              0.1111111111111111,
              "#46039f"
             ],
             [
              0.2222222222222222,
              "#7201a8"
             ],
             [
              0.3333333333333333,
              "#9c179e"
             ],
             [
              0.4444444444444444,
              "#bd3786"
             ],
             [
              0.5555555555555556,
              "#d8576b"
             ],
             [
              0.6666666666666666,
              "#ed7953"
             ],
             [
              0.7777777777777778,
              "#fb9f3a"
             ],
             [
              0.8888888888888888,
              "#fdca26"
             ],
             [
              1,
              "#f0f921"
             ]
            ],
            "type": "histogram2d"
           }
          ],
          "histogram2dcontour": [
           {
            "colorbar": {
             "outlinewidth": 0,
             "ticks": ""
            },
            "colorscale": [
             [
              0,
              "#0d0887"
             ],
             [
              0.1111111111111111,
              "#46039f"
             ],
             [
              0.2222222222222222,
              "#7201a8"
             ],
             [
              0.3333333333333333,
              "#9c179e"
             ],
             [
              0.4444444444444444,
              "#bd3786"
             ],
             [
              0.5555555555555556,
              "#d8576b"
             ],
             [
              0.6666666666666666,
              "#ed7953"
             ],
             [
              0.7777777777777778,
              "#fb9f3a"
             ],
             [
              0.8888888888888888,
              "#fdca26"
             ],
             [
              1,
              "#f0f921"
             ]
            ],
            "type": "histogram2dcontour"
           }
          ],
          "mesh3d": [
           {
            "colorbar": {
             "outlinewidth": 0,
             "ticks": ""
            },
            "type": "mesh3d"
           }
          ],
          "parcoords": [
           {
            "line": {
             "colorbar": {
              "outlinewidth": 0,
              "ticks": ""
             }
            },
            "type": "parcoords"
           }
          ],
          "pie": [
           {
            "automargin": true,
            "type": "pie"
           }
          ],
          "scatter": [
           {
            "fillpattern": {
             "fillmode": "overlay",
             "size": 10,
             "solidity": 0.2
            },
            "type": "scatter"
           }
          ],
          "scatter3d": [
           {
            "line": {
             "colorbar": {
              "outlinewidth": 0,
              "ticks": ""
             }
            },
            "marker": {
             "colorbar": {
              "outlinewidth": 0,
              "ticks": ""
             }
            },
            "type": "scatter3d"
           }
          ],
          "scattercarpet": [
           {
            "marker": {
             "colorbar": {
              "outlinewidth": 0,
              "ticks": ""
             }
            },
            "type": "scattercarpet"
           }
          ],
          "scattergeo": [
           {
            "marker": {
             "colorbar": {
              "outlinewidth": 0,
              "ticks": ""
             }
            },
            "type": "scattergeo"
           }
          ],
          "scattergl": [
           {
            "marker": {
             "colorbar": {
              "outlinewidth": 0,
              "ticks": ""
             }
            },
            "type": "scattergl"
           }
          ],
          "scattermapbox": [
           {
            "marker": {
             "colorbar": {
              "outlinewidth": 0,
              "ticks": ""
             }
            },
            "type": "scattermapbox"
           }
          ],
          "scatterpolar": [
           {
            "marker": {
             "colorbar": {
              "outlinewidth": 0,
              "ticks": ""
             }
            },
            "type": "scatterpolar"
           }
          ],
          "scatterpolargl": [
           {
            "marker": {
             "colorbar": {
              "outlinewidth": 0,
              "ticks": ""
             }
            },
            "type": "scatterpolargl"
           }
          ],
          "scatterternary": [
           {
            "marker": {
             "colorbar": {
              "outlinewidth": 0,
              "ticks": ""
             }
            },
            "type": "scatterternary"
           }
          ],
          "surface": [
           {
            "colorbar": {
             "outlinewidth": 0,
             "ticks": ""
            },
            "colorscale": [
             [
              0,
              "#0d0887"
             ],
             [
              0.1111111111111111,
              "#46039f"
             ],
             [
              0.2222222222222222,
              "#7201a8"
             ],
             [
              0.3333333333333333,
              "#9c179e"
             ],
             [
              0.4444444444444444,
              "#bd3786"
             ],
             [
              0.5555555555555556,
              "#d8576b"
             ],
             [
              0.6666666666666666,
              "#ed7953"
             ],
             [
              0.7777777777777778,
              "#fb9f3a"
             ],
             [
              0.8888888888888888,
              "#fdca26"
             ],
             [
              1,
              "#f0f921"
             ]
            ],
            "type": "surface"
           }
          ],
          "table": [
           {
            "cells": {
             "fill": {
              "color": "#EBF0F8"
             },
             "line": {
              "color": "white"
             }
            },
            "header": {
             "fill": {
              "color": "#C8D4E3"
             },
             "line": {
              "color": "white"
             }
            },
            "type": "table"
           }
          ]
         },
         "layout": {
          "annotationdefaults": {
           "arrowcolor": "#2a3f5f",
           "arrowhead": 0,
           "arrowwidth": 1
          },
          "autotypenumbers": "strict",
          "coloraxis": {
           "colorbar": {
            "outlinewidth": 0,
            "ticks": ""
           }
          },
          "colorscale": {
           "diverging": [
            [
             0,
             "#8e0152"
            ],
            [
             0.1,
             "#c51b7d"
            ],
            [
             0.2,
             "#de77ae"
            ],
            [
             0.3,
             "#f1b6da"
            ],
            [
             0.4,
             "#fde0ef"
            ],
            [
             0.5,
             "#f7f7f7"
            ],
            [
             0.6,
             "#e6f5d0"
            ],
            [
             0.7,
             "#b8e186"
            ],
            [
             0.8,
             "#7fbc41"
            ],
            [
             0.9,
             "#4d9221"
            ],
            [
             1,
             "#276419"
            ]
           ],
           "sequential": [
            [
             0,
             "#0d0887"
            ],
            [
             0.1111111111111111,
             "#46039f"
            ],
            [
             0.2222222222222222,
             "#7201a8"
            ],
            [
             0.3333333333333333,
             "#9c179e"
            ],
            [
             0.4444444444444444,
             "#bd3786"
            ],
            [
             0.5555555555555556,
             "#d8576b"
            ],
            [
             0.6666666666666666,
             "#ed7953"
            ],
            [
             0.7777777777777778,
             "#fb9f3a"
            ],
            [
             0.8888888888888888,
             "#fdca26"
            ],
            [
             1,
             "#f0f921"
            ]
           ],
           "sequentialminus": [
            [
             0,
             "#0d0887"
            ],
            [
             0.1111111111111111,
             "#46039f"
            ],
            [
             0.2222222222222222,
             "#7201a8"
            ],
            [
             0.3333333333333333,
             "#9c179e"
            ],
            [
             0.4444444444444444,
             "#bd3786"
            ],
            [
             0.5555555555555556,
             "#d8576b"
            ],
            [
             0.6666666666666666,
             "#ed7953"
            ],
            [
             0.7777777777777778,
             "#fb9f3a"
            ],
            [
             0.8888888888888888,
             "#fdca26"
            ],
            [
             1,
             "#f0f921"
            ]
           ]
          },
          "colorway": [
           "#636efa",
           "#EF553B",
           "#00cc96",
           "#ab63fa",
           "#FFA15A",
           "#19d3f3",
           "#FF6692",
           "#B6E880",
           "#FF97FF",
           "#FECB52"
          ],
          "font": {
           "color": "#2a3f5f"
          },
          "geo": {
           "bgcolor": "white",
           "lakecolor": "white",
           "landcolor": "#E5ECF6",
           "showlakes": true,
           "showland": true,
           "subunitcolor": "white"
          },
          "hoverlabel": {
           "align": "left"
          },
          "hovermode": "closest",
          "mapbox": {
           "style": "light"
          },
          "paper_bgcolor": "white",
          "plot_bgcolor": "#E5ECF6",
          "polar": {
           "angularaxis": {
            "gridcolor": "white",
            "linecolor": "white",
            "ticks": ""
           },
           "bgcolor": "#E5ECF6",
           "radialaxis": {
            "gridcolor": "white",
            "linecolor": "white",
            "ticks": ""
           }
          },
          "scene": {
           "xaxis": {
            "backgroundcolor": "#E5ECF6",
            "gridcolor": "white",
            "gridwidth": 2,
            "linecolor": "white",
            "showbackground": true,
            "ticks": "",
            "zerolinecolor": "white"
           },
           "yaxis": {
            "backgroundcolor": "#E5ECF6",
            "gridcolor": "white",
            "gridwidth": 2,
            "linecolor": "white",
            "showbackground": true,
            "ticks": "",
            "zerolinecolor": "white"
           },
           "zaxis": {
            "backgroundcolor": "#E5ECF6",
            "gridcolor": "white",
            "gridwidth": 2,
            "linecolor": "white",
            "showbackground": true,
            "ticks": "",
            "zerolinecolor": "white"
           }
          },
          "shapedefaults": {
           "line": {
            "color": "#2a3f5f"
           }
          },
          "ternary": {
           "aaxis": {
            "gridcolor": "white",
            "linecolor": "white",
            "ticks": ""
           },
           "baxis": {
            "gridcolor": "white",
            "linecolor": "white",
            "ticks": ""
           },
           "bgcolor": "#E5ECF6",
           "caxis": {
            "gridcolor": "white",
            "linecolor": "white",
            "ticks": ""
           }
          },
          "title": {
           "x": 0.05
          },
          "xaxis": {
           "automargin": true,
           "gridcolor": "white",
           "linecolor": "white",
           "ticks": "",
           "title": {
            "standoff": 15
           },
           "zerolinecolor": "white",
           "zerolinewidth": 2
          },
          "yaxis": {
           "automargin": true,
           "gridcolor": "white",
           "linecolor": "white",
           "ticks": "",
           "title": {
            "standoff": 15
           },
           "zerolinecolor": "white",
           "zerolinewidth": 2
          }
         }
        },
        "width": 700,
        "xaxis": {
         "anchor": "y",
         "domain": [
          0,
          1
         ],
         "title": {
          "text": "Hormonal Contraceptives (years)"
         }
        },
        "xaxis2": {
         "anchor": "y2",
         "domain": [
          0,
          1
         ],
         "matches": "x",
         "showgrid": true,
         "showticklabels": false
        },
        "yaxis": {
         "anchor": "x",
         "domain": [
          0,
          0.8316
         ],
         "title": {
          "text": "count"
         }
        },
        "yaxis2": {
         "anchor": "x2",
         "domain": [
          0.8416,
          1
         ],
         "matches": "y2",
         "showgrid": false,
         "showline": false,
         "showticklabels": false,
         "ticks": ""
        }
       }
      }
     },
     "metadata": {},
     "output_type": "display_data"
    },
    {
     "name": "stdout",
     "output_type": "stream",
     "text": [
      "Hormonal Contraceptives (years)\n",
      "median: 0.5, upper fence: 7.5, lower fence: -4.5\n"
     ]
    }
   ],
   "source": [
    "def find_outliers(col, indices):\n",
    "    obs = risk_factor_df[col].iloc[indices]\n",
    "    unique_items, counts = np.unique(obs, return_counts=True)\n",
    "    unique_items, counts = unique_items[::-1], counts[::-1]\n",
    "\n",
    "    values_to_delete = unique_items[counts < 2 ]\n",
    "    return values_to_delete\n",
    "\n",
    "def delete_outliers(col, to_delete):\n",
    "    if (to_delete.size != 0):\n",
    "        rows_to_del = risk_factor_df.loc[risk_factor_df[col].isin(to_delete)].index.values.tolist()\n",
    "\n",
    "        # Remove rows\n",
    "        risk_factor_df.drop(rows_to_del, inplace=True)\n",
    "        risk_factor_df.reset_index(drop=True, inplace=True)\n",
    "\n",
    "# Identify non-binary columns\n",
    "non_binary_cols = [col for col, vals in unique_vals.items() if len(vals) > 2]\n",
    "\n",
    "for col in non_binary_cols:\n",
    "\n",
    "    # IQR cannot be applied to columns with median 0\n",
    "    if (risk_factor_df[col].median() != 0):\n",
    "\n",
    "        # Plot values distribution\n",
    "        out_dist = px.histogram(risk_factor_df, x=col,\n",
    "            marginal=\"box\",\n",
    "            color_discrete_sequence= px.colors.sequential.thermal)\n",
    "        out_dist.update_layout(bargap=0.2,\n",
    "            width=700)\n",
    "        out_dist.show()\n",
    "\n",
    "        Q3, Q1 = np.percentile(risk_factor_df[col], [75 ,25])\n",
    "        IQR = Q3-Q1\n",
    "\n",
    "        upper = Q3+(1.5*IQR)\n",
    "        lower = Q1-(1.5*IQR)\n",
    "\n",
    "        print(col)\n",
    "        print(\"median: {}, upper fence: {}, lower fence: {}\".format(risk_factor_df[col].median(), upper, lower))\n",
    "\n",
    "        #Delete one occurrence observations outside the upper fence as outliers\n",
    "        upper_to_delete = find_outliers(col, np.where(risk_factor_df[col] > upper)[0])\n",
    "        delete_outliers(col, upper_to_delete)\n",
    "\n",
    "        \n",
    "        #Delete one occurrence observations outside the lower fence as outliers\n",
    "        lower_to_delete = find_outliers(col, np.where(risk_factor_df[col] < lower)[0])\n",
    "        delete_outliers(col, lower_to_delete)\n"
   ]
  },
  {
   "cell_type": "code",
   "execution_count": 13,
   "metadata": {},
   "outputs": [
    {
     "name": "stdout",
     "output_type": "stream",
     "text": [
      "\n",
      "Final dataset size: 31 cols, 694 rows\n"
     ]
    }
   ],
   "source": [
    "print(\"\\nFinal dataset size: {} cols, {} rows\".format(risk_factor_df.shape[1], risk_factor_df.shape[0]))"
   ]
  },
  {
   "cell_type": "markdown",
   "metadata": {},
   "source": [
    "#### Dimensionality Reduction (PCA)"
   ]
  },
  {
   "cell_type": "code",
   "execution_count": 14,
   "metadata": {},
   "outputs": [
    {
     "data": {
      "application/vnd.plotly.v1+json": {
       "config": {
        "plotlyServerURL": "https://plot.ly"
       },
       "data": [
        {
         "mode": "lines+markers",
         "name": "Explained Variance Ratio",
         "type": "scatter",
         "x": [
          1,
          2,
          3,
          4,
          5,
          6,
          7,
          8,
          9,
          10,
          11,
          12,
          13,
          14,
          15,
          16,
          17,
          18,
          19,
          20,
          21,
          22,
          23,
          24,
          25,
          26,
          27,
          28,
          29
         ],
         "y": [
          0.18500962503511398,
          0.2938685980272981,
          0.3783836366542419,
          0.43797709500743004,
          0.49419240251766294,
          0.548720871344994,
          0.6006198154952364,
          0.6453278207316436,
          0.6857690656983818,
          0.7251839075008525,
          0.7633386599940493,
          0.7998489146224323,
          0.8321903935546986,
          0.8623950180275022,
          0.891405199918242,
          0.919390803213748,
          0.9406389043431507,
          0.9600892183994016,
          0.9717526338948314,
          0.9808922064304457,
          0.9883542845745035,
          0.9936936514654024,
          0.9974663563470273,
          0.9994982480602498,
          0.9998184866731624,
          1,
          1,
          1,
          1
         ]
        }
       ],
       "layout": {
        "showlegend": true,
        "template": {
         "data": {
          "bar": [
           {
            "error_x": {
             "color": "#2a3f5f"
            },
            "error_y": {
             "color": "#2a3f5f"
            },
            "marker": {
             "line": {
              "color": "#E5ECF6",
              "width": 0.5
             },
             "pattern": {
              "fillmode": "overlay",
              "size": 10,
              "solidity": 0.2
             }
            },
            "type": "bar"
           }
          ],
          "barpolar": [
           {
            "marker": {
             "line": {
              "color": "#E5ECF6",
              "width": 0.5
             },
             "pattern": {
              "fillmode": "overlay",
              "size": 10,
              "solidity": 0.2
             }
            },
            "type": "barpolar"
           }
          ],
          "carpet": [
           {
            "aaxis": {
             "endlinecolor": "#2a3f5f",
             "gridcolor": "white",
             "linecolor": "white",
             "minorgridcolor": "white",
             "startlinecolor": "#2a3f5f"
            },
            "baxis": {
             "endlinecolor": "#2a3f5f",
             "gridcolor": "white",
             "linecolor": "white",
             "minorgridcolor": "white",
             "startlinecolor": "#2a3f5f"
            },
            "type": "carpet"
           }
          ],
          "choropleth": [
           {
            "colorbar": {
             "outlinewidth": 0,
             "ticks": ""
            },
            "type": "choropleth"
           }
          ],
          "contour": [
           {
            "colorbar": {
             "outlinewidth": 0,
             "ticks": ""
            },
            "colorscale": [
             [
              0,
              "#0d0887"
             ],
             [
              0.1111111111111111,
              "#46039f"
             ],
             [
              0.2222222222222222,
              "#7201a8"
             ],
             [
              0.3333333333333333,
              "#9c179e"
             ],
             [
              0.4444444444444444,
              "#bd3786"
             ],
             [
              0.5555555555555556,
              "#d8576b"
             ],
             [
              0.6666666666666666,
              "#ed7953"
             ],
             [
              0.7777777777777778,
              "#fb9f3a"
             ],
             [
              0.8888888888888888,
              "#fdca26"
             ],
             [
              1,
              "#f0f921"
             ]
            ],
            "type": "contour"
           }
          ],
          "contourcarpet": [
           {
            "colorbar": {
             "outlinewidth": 0,
             "ticks": ""
            },
            "type": "contourcarpet"
           }
          ],
          "heatmap": [
           {
            "colorbar": {
             "outlinewidth": 0,
             "ticks": ""
            },
            "colorscale": [
             [
              0,
              "#0d0887"
             ],
             [
              0.1111111111111111,
              "#46039f"
             ],
             [
              0.2222222222222222,
              "#7201a8"
             ],
             [
              0.3333333333333333,
              "#9c179e"
             ],
             [
              0.4444444444444444,
              "#bd3786"
             ],
             [
              0.5555555555555556,
              "#d8576b"
             ],
             [
              0.6666666666666666,
              "#ed7953"
             ],
             [
              0.7777777777777778,
              "#fb9f3a"
             ],
             [
              0.8888888888888888,
              "#fdca26"
             ],
             [
              1,
              "#f0f921"
             ]
            ],
            "type": "heatmap"
           }
          ],
          "heatmapgl": [
           {
            "colorbar": {
             "outlinewidth": 0,
             "ticks": ""
            },
            "colorscale": [
             [
              0,
              "#0d0887"
             ],
             [
              0.1111111111111111,
              "#46039f"
             ],
             [
              0.2222222222222222,
              "#7201a8"
             ],
             [
              0.3333333333333333,
              "#9c179e"
             ],
             [
              0.4444444444444444,
              "#bd3786"
             ],
             [
              0.5555555555555556,
              "#d8576b"
             ],
             [
              0.6666666666666666,
              "#ed7953"
             ],
             [
              0.7777777777777778,
              "#fb9f3a"
             ],
             [
              0.8888888888888888,
              "#fdca26"
             ],
             [
              1,
              "#f0f921"
             ]
            ],
            "type": "heatmapgl"
           }
          ],
          "histogram": [
           {
            "marker": {
             "pattern": {
              "fillmode": "overlay",
              "size": 10,
              "solidity": 0.2
             }
            },
            "type": "histogram"
           }
          ],
          "histogram2d": [
           {
            "colorbar": {
             "outlinewidth": 0,
             "ticks": ""
            },
            "colorscale": [
             [
              0,
              "#0d0887"
             ],
             [
              0.1111111111111111,
              "#46039f"
             ],
             [
              0.2222222222222222,
              "#7201a8"
             ],
             [
              0.3333333333333333,
              "#9c179e"
             ],
             [
              0.4444444444444444,
              "#bd3786"
             ],
             [
              0.5555555555555556,
              "#d8576b"
             ],
             [
              0.6666666666666666,
              "#ed7953"
             ],
             [
              0.7777777777777778,
              "#fb9f3a"
             ],
             [
              0.8888888888888888,
              "#fdca26"
             ],
             [
              1,
              "#f0f921"
             ]
            ],
            "type": "histogram2d"
           }
          ],
          "histogram2dcontour": [
           {
            "colorbar": {
             "outlinewidth": 0,
             "ticks": ""
            },
            "colorscale": [
             [
              0,
              "#0d0887"
             ],
             [
              0.1111111111111111,
              "#46039f"
             ],
             [
              0.2222222222222222,
              "#7201a8"
             ],
             [
              0.3333333333333333,
              "#9c179e"
             ],
             [
              0.4444444444444444,
              "#bd3786"
             ],
             [
              0.5555555555555556,
              "#d8576b"
             ],
             [
              0.6666666666666666,
              "#ed7953"
             ],
             [
              0.7777777777777778,
              "#fb9f3a"
             ],
             [
              0.8888888888888888,
              "#fdca26"
             ],
             [
              1,
              "#f0f921"
             ]
            ],
            "type": "histogram2dcontour"
           }
          ],
          "mesh3d": [
           {
            "colorbar": {
             "outlinewidth": 0,
             "ticks": ""
            },
            "type": "mesh3d"
           }
          ],
          "parcoords": [
           {
            "line": {
             "colorbar": {
              "outlinewidth": 0,
              "ticks": ""
             }
            },
            "type": "parcoords"
           }
          ],
          "pie": [
           {
            "automargin": true,
            "type": "pie"
           }
          ],
          "scatter": [
           {
            "fillpattern": {
             "fillmode": "overlay",
             "size": 10,
             "solidity": 0.2
            },
            "type": "scatter"
           }
          ],
          "scatter3d": [
           {
            "line": {
             "colorbar": {
              "outlinewidth": 0,
              "ticks": ""
             }
            },
            "marker": {
             "colorbar": {
              "outlinewidth": 0,
              "ticks": ""
             }
            },
            "type": "scatter3d"
           }
          ],
          "scattercarpet": [
           {
            "marker": {
             "colorbar": {
              "outlinewidth": 0,
              "ticks": ""
             }
            },
            "type": "scattercarpet"
           }
          ],
          "scattergeo": [
           {
            "marker": {
             "colorbar": {
              "outlinewidth": 0,
              "ticks": ""
             }
            },
            "type": "scattergeo"
           }
          ],
          "scattergl": [
           {
            "marker": {
             "colorbar": {
              "outlinewidth": 0,
              "ticks": ""
             }
            },
            "type": "scattergl"
           }
          ],
          "scattermapbox": [
           {
            "marker": {
             "colorbar": {
              "outlinewidth": 0,
              "ticks": ""
             }
            },
            "type": "scattermapbox"
           }
          ],
          "scatterpolar": [
           {
            "marker": {
             "colorbar": {
              "outlinewidth": 0,
              "ticks": ""
             }
            },
            "type": "scatterpolar"
           }
          ],
          "scatterpolargl": [
           {
            "marker": {
             "colorbar": {
              "outlinewidth": 0,
              "ticks": ""
             }
            },
            "type": "scatterpolargl"
           }
          ],
          "scatterternary": [
           {
            "marker": {
             "colorbar": {
              "outlinewidth": 0,
              "ticks": ""
             }
            },
            "type": "scatterternary"
           }
          ],
          "surface": [
           {
            "colorbar": {
             "outlinewidth": 0,
             "ticks": ""
            },
            "colorscale": [
             [
              0,
              "#0d0887"
             ],
             [
              0.1111111111111111,
              "#46039f"
             ],
             [
              0.2222222222222222,
              "#7201a8"
             ],
             [
              0.3333333333333333,
              "#9c179e"
             ],
             [
              0.4444444444444444,
              "#bd3786"
             ],
             [
              0.5555555555555556,
              "#d8576b"
             ],
             [
              0.6666666666666666,
              "#ed7953"
             ],
             [
              0.7777777777777778,
              "#fb9f3a"
             ],
             [
              0.8888888888888888,
              "#fdca26"
             ],
             [
              1,
              "#f0f921"
             ]
            ],
            "type": "surface"
           }
          ],
          "table": [
           {
            "cells": {
             "fill": {
              "color": "#EBF0F8"
             },
             "line": {
              "color": "white"
             }
            },
            "header": {
             "fill": {
              "color": "#C8D4E3"
             },
             "line": {
              "color": "white"
             }
            },
            "type": "table"
           }
          ]
         },
         "layout": {
          "annotationdefaults": {
           "arrowcolor": "#2a3f5f",
           "arrowhead": 0,
           "arrowwidth": 1
          },
          "autotypenumbers": "strict",
          "coloraxis": {
           "colorbar": {
            "outlinewidth": 0,
            "ticks": ""
           }
          },
          "colorscale": {
           "diverging": [
            [
             0,
             "#8e0152"
            ],
            [
             0.1,
             "#c51b7d"
            ],
            [
             0.2,
             "#de77ae"
            ],
            [
             0.3,
             "#f1b6da"
            ],
            [
             0.4,
             "#fde0ef"
            ],
            [
             0.5,
             "#f7f7f7"
            ],
            [
             0.6,
             "#e6f5d0"
            ],
            [
             0.7,
             "#b8e186"
            ],
            [
             0.8,
             "#7fbc41"
            ],
            [
             0.9,
             "#4d9221"
            ],
            [
             1,
             "#276419"
            ]
           ],
           "sequential": [
            [
             0,
             "#0d0887"
            ],
            [
             0.1111111111111111,
             "#46039f"
            ],
            [
             0.2222222222222222,
             "#7201a8"
            ],
            [
             0.3333333333333333,
             "#9c179e"
            ],
            [
             0.4444444444444444,
             "#bd3786"
            ],
            [
             0.5555555555555556,
             "#d8576b"
            ],
            [
             0.6666666666666666,
             "#ed7953"
            ],
            [
             0.7777777777777778,
             "#fb9f3a"
            ],
            [
             0.8888888888888888,
             "#fdca26"
            ],
            [
             1,
             "#f0f921"
            ]
           ],
           "sequentialminus": [
            [
             0,
             "#0d0887"
            ],
            [
             0.1111111111111111,
             "#46039f"
            ],
            [
             0.2222222222222222,
             "#7201a8"
            ],
            [
             0.3333333333333333,
             "#9c179e"
            ],
            [
             0.4444444444444444,
             "#bd3786"
            ],
            [
             0.5555555555555556,
             "#d8576b"
            ],
            [
             0.6666666666666666,
             "#ed7953"
            ],
            [
             0.7777777777777778,
             "#fb9f3a"
            ],
            [
             0.8888888888888888,
             "#fdca26"
            ],
            [
             1,
             "#f0f921"
            ]
           ]
          },
          "colorway": [
           "#636efa",
           "#EF553B",
           "#00cc96",
           "#ab63fa",
           "#FFA15A",
           "#19d3f3",
           "#FF6692",
           "#B6E880",
           "#FF97FF",
           "#FECB52"
          ],
          "font": {
           "color": "#2a3f5f"
          },
          "geo": {
           "bgcolor": "white",
           "lakecolor": "white",
           "landcolor": "#E5ECF6",
           "showlakes": true,
           "showland": true,
           "subunitcolor": "white"
          },
          "hoverlabel": {
           "align": "left"
          },
          "hovermode": "closest",
          "mapbox": {
           "style": "light"
          },
          "paper_bgcolor": "white",
          "plot_bgcolor": "#E5ECF6",
          "polar": {
           "angularaxis": {
            "gridcolor": "white",
            "linecolor": "white",
            "ticks": ""
           },
           "bgcolor": "#E5ECF6",
           "radialaxis": {
            "gridcolor": "white",
            "linecolor": "white",
            "ticks": ""
           }
          },
          "scene": {
           "xaxis": {
            "backgroundcolor": "#E5ECF6",
            "gridcolor": "white",
            "gridwidth": 2,
            "linecolor": "white",
            "showbackground": true,
            "ticks": "",
            "zerolinecolor": "white"
           },
           "yaxis": {
            "backgroundcolor": "#E5ECF6",
            "gridcolor": "white",
            "gridwidth": 2,
            "linecolor": "white",
            "showbackground": true,
            "ticks": "",
            "zerolinecolor": "white"
           },
           "zaxis": {
            "backgroundcolor": "#E5ECF6",
            "gridcolor": "white",
            "gridwidth": 2,
            "linecolor": "white",
            "showbackground": true,
            "ticks": "",
            "zerolinecolor": "white"
           }
          },
          "shapedefaults": {
           "line": {
            "color": "#2a3f5f"
           }
          },
          "ternary": {
           "aaxis": {
            "gridcolor": "white",
            "linecolor": "white",
            "ticks": ""
           },
           "baxis": {
            "gridcolor": "white",
            "linecolor": "white",
            "ticks": ""
           },
           "bgcolor": "#E5ECF6",
           "caxis": {
            "gridcolor": "white",
            "linecolor": "white",
            "ticks": ""
           }
          },
          "title": {
           "x": 0.05
          },
          "xaxis": {
           "automargin": true,
           "gridcolor": "white",
           "linecolor": "white",
           "ticks": "",
           "title": {
            "standoff": 15
           },
           "zerolinecolor": "white",
           "zerolinewidth": 2
          },
          "yaxis": {
           "automargin": true,
           "gridcolor": "white",
           "linecolor": "white",
           "ticks": "",
           "title": {
            "standoff": 15
           },
           "zerolinecolor": "white",
           "zerolinewidth": 2
          }
         }
        },
        "title": {
         "text": "Cumulative Explained Variance Ratio"
        },
        "xaxis": {
         "title": {
          "text": "Number of Principal Components"
         }
        },
        "yaxis": {
         "title": {
          "text": "Cumulative Explained Variance Ratio"
         }
        }
       }
      }
     },
     "metadata": {},
     "output_type": "display_data"
    }
   ],
   "source": [
    "from sklearn.impute import SimpleImputer\n",
    "from sklearn.decomposition import PCA\n",
    "from sklearn.preprocessing import StandardScaler\n",
    "\n",
    "# Standardize the feature matrix\n",
    "scaler = StandardScaler()\n",
    "feature_std = scaler.fit_transform(feature_df)\n",
    "\n",
    "\n",
    "# Impute missing values with the mean of each column\n",
    "imputer = SimpleImputer(strategy='mean')\n",
    "feature_std_imputed = imputer.fit_transform(feature_std)\n",
    "\n",
    "# Apply PCA on the imputed feature matrix\n",
    "pca = PCA()\n",
    "principal_components = pca.fit_transform(feature_std_imputed)\n",
    "\n",
    "# Calculate the explained variance ratio for each principal component\n",
    "explained_variance_ratio = pca.explained_variance_ratio_\n",
    "\n",
    "# Plot the explained variance ratio\n",
    "fig = go.Figure()\n",
    "fig.add_trace(go.Scatter(x=np.arange(1, len(explained_variance_ratio) + 1), \n",
    "                         y=np.cumsum(explained_variance_ratio),\n",
    "                         mode='lines+markers',\n",
    "                         name='Explained Variance Ratio'))\n",
    "\n",
    "fig.update_layout(title='Cumulative Explained Variance Ratio',\n",
    "                  xaxis_title='Number of Principal Components',\n",
    "                  yaxis_title='Cumulative Explained Variance Ratio',\n",
    "                  showlegend=True)\n",
    "\n",
    "fig.show()\n"
   ]
  },
  {
   "cell_type": "markdown",
   "metadata": {},
   "source": [
    "#### Handling Imbalanced Data"
   ]
  },
  {
   "cell_type": "code",
   "execution_count": 18,
   "metadata": {},
   "outputs": [],
   "source": [
    "from imblearn.over_sampling import SMOTE, ADASYN\n",
    "from imblearn.over_sampling import RandomOverSampler"
   ]
  },
  {
   "cell_type": "code",
   "execution_count": 19,
   "metadata": {},
   "outputs": [
    {
     "data": {
      "application/vnd.plotly.v1+json": {
       "config": {
        "plotlyServerURL": "https://plot.ly"
       },
       "data": [
        {
         "alignmentgroup": "True",
         "bingroup": "y",
         "hovertemplate": "count=%{x}<br>Dx:Cancer=%{y}<extra></extra>",
         "legendgroup": "",
         "marker": {
          "color": "#636efa",
          "pattern": {
           "shape": ""
          }
         },
         "name": "",
         "offsetgroup": "",
         "orientation": "h",
         "showlegend": false,
         "type": "histogram",
         "xaxis": "x",
         "y": [
          0,
          0,
          0,
          1,
          0,
          0,
          0,
          0,
          1,
          0,
          0,
          0,
          0,
          0,
          0,
          0,
          0,
          0,
          0,
          0,
          0,
          1,
          0,
          0,
          0,
          0,
          0,
          0,
          0,
          0,
          0,
          0,
          0,
          0,
          0,
          0,
          0,
          0,
          0,
          0,
          0,
          0,
          0,
          0,
          0,
          0,
          0,
          0,
          0,
          0,
          0,
          0,
          0,
          0,
          0,
          0,
          0,
          0,
          0,
          1,
          0,
          0,
          0,
          0,
          0,
          0,
          0,
          0,
          0,
          0,
          0,
          0,
          0,
          0,
          0,
          0,
          0,
          0,
          0,
          0,
          0,
          0,
          0,
          0,
          0,
          0,
          0,
          0,
          0,
          0,
          0,
          0,
          0,
          0,
          0,
          0,
          0,
          0,
          0,
          0,
          0,
          0,
          0,
          0,
          0,
          0,
          0,
          0,
          0,
          0,
          0,
          0,
          0,
          0,
          0,
          0,
          0,
          0,
          0,
          0,
          0,
          0,
          0,
          0,
          0,
          0,
          0,
          0,
          0,
          0,
          0,
          0,
          0,
          0,
          0,
          0,
          0,
          0,
          0,
          0,
          0,
          0,
          0,
          0,
          0,
          0,
          0,
          0,
          0,
          0,
          0,
          0,
          0,
          0,
          0,
          0,
          0,
          0,
          0,
          0,
          0,
          1,
          0,
          0,
          0,
          0,
          0,
          0,
          0,
          0,
          0,
          0,
          0,
          0,
          0,
          0,
          0,
          0,
          0,
          0,
          0,
          0,
          0,
          0,
          0,
          0,
          0,
          0,
          0,
          0,
          0,
          0,
          0,
          0,
          0,
          0,
          0,
          0,
          0,
          0,
          0,
          0,
          0,
          0,
          0,
          0,
          0,
          0,
          0,
          0,
          0,
          0,
          0,
          0,
          0,
          0,
          0,
          0,
          0,
          0,
          0,
          0,
          0,
          0,
          0,
          0,
          0,
          0,
          0,
          0,
          0,
          0,
          0,
          0,
          0,
          0,
          0,
          0,
          0,
          0,
          0,
          0,
          0,
          0,
          0,
          0,
          0,
          0,
          0,
          0,
          0,
          0,
          0,
          0,
          0,
          0,
          0,
          0,
          0,
          0,
          0,
          0,
          0,
          0,
          0,
          0,
          0,
          0,
          0,
          0,
          0,
          0,
          0,
          0,
          0,
          0,
          1,
          0,
          0,
          0,
          0,
          0,
          0,
          0,
          0,
          0,
          0,
          0,
          0,
          0,
          0,
          0,
          0,
          0,
          0,
          0,
          0,
          0,
          0,
          0,
          0,
          0,
          0,
          0,
          0,
          0,
          0,
          0,
          0,
          0,
          0,
          0,
          0,
          0,
          0,
          0,
          0,
          0,
          0,
          0,
          0,
          0,
          0,
          0,
          0,
          0,
          0,
          0,
          0,
          0,
          0,
          0,
          0,
          0,
          0,
          0,
          0,
          0,
          0,
          0,
          0,
          0,
          0,
          0,
          0,
          0,
          0,
          0,
          0,
          0,
          1,
          0,
          0,
          0,
          0,
          0,
          0,
          0,
          0,
          0,
          0,
          0,
          0,
          0,
          0,
          0,
          0,
          0,
          0,
          0,
          0,
          0,
          0,
          0,
          0,
          0,
          0,
          0,
          0,
          0,
          0,
          0,
          0,
          0,
          0,
          0,
          0,
          0,
          0,
          0,
          0,
          0,
          0,
          0,
          0,
          0,
          0,
          0,
          0,
          0,
          0,
          0,
          0,
          0,
          0,
          0,
          0,
          0,
          0,
          0,
          0,
          0,
          0,
          0,
          0,
          0,
          0,
          0,
          0,
          0,
          0,
          0,
          0,
          0,
          0,
          0,
          0,
          0,
          0,
          0,
          0,
          0,
          0,
          0,
          0,
          0,
          0,
          0,
          0,
          0,
          0,
          0,
          0,
          0,
          0,
          0,
          0,
          0,
          0,
          0,
          0,
          0,
          0,
          0,
          0,
          0,
          0,
          0,
          0,
          1,
          0,
          0,
          0,
          0,
          0,
          0,
          0,
          0,
          0,
          0,
          0,
          0,
          0,
          0,
          0,
          0,
          0,
          0,
          0,
          0,
          0,
          0,
          0,
          0,
          0,
          0,
          1,
          0,
          0,
          0,
          0,
          0,
          0,
          0,
          0,
          0,
          0,
          0,
          0,
          0,
          0,
          0,
          0,
          0,
          0,
          0,
          0,
          0,
          0,
          0,
          0,
          0,
          0,
          0,
          0,
          0,
          0,
          0,
          0,
          0,
          0,
          0,
          0,
          0,
          0,
          0,
          0,
          0,
          0,
          0,
          0,
          0,
          0,
          0,
          0,
          0,
          0,
          0,
          0,
          0,
          0,
          0,
          0,
          0,
          0,
          0,
          0,
          0,
          0,
          0,
          0,
          0,
          0,
          0,
          0,
          0,
          0,
          0,
          0,
          0,
          0,
          0,
          0,
          0,
          0,
          0,
          0,
          0,
          0,
          0,
          0,
          0,
          0,
          0,
          0,
          0,
          0,
          0,
          0,
          0,
          0,
          0,
          0,
          0,
          0,
          0,
          0,
          0,
          0,
          1,
          0,
          0,
          0,
          0,
          0,
          0,
          0,
          0,
          1,
          0,
          0,
          0,
          0,
          0,
          0,
          0,
          0,
          0,
          0,
          0,
          0,
          0,
          0,
          0,
          0,
          0,
          0,
          0,
          1,
          0,
          0,
          0,
          0,
          0,
          1,
          0,
          0,
          0,
          0,
          0,
          0,
          0,
          0,
          0,
          0,
          0,
          0,
          0,
          1,
          0,
          0,
          0,
          0,
          0,
          0,
          0,
          0,
          0,
          0,
          0,
          0,
          0,
          0,
          0,
          0,
          0,
          0,
          0,
          0,
          1,
          0,
          0,
          0,
          0,
          0,
          0,
          0,
          0,
          0,
          0,
          0,
          0,
          0,
          0,
          0,
          1,
          0,
          0,
          0,
          0,
          0,
          0,
          0,
          0,
          0,
          1,
          0,
          0,
          0,
          0,
          0,
          0,
          0,
          0
         ],
         "yaxis": "y"
        }
       ],
       "layout": {
        "bargap": 0.2,
        "barmode": "relative",
        "legend": {
         "tracegroupgap": 0
        },
        "margin": {
         "t": 60
        },
        "template": {
         "data": {
          "bar": [
           {
            "error_x": {
             "color": "#2a3f5f"
            },
            "error_y": {
             "color": "#2a3f5f"
            },
            "marker": {
             "line": {
              "color": "#E5ECF6",
              "width": 0.5
             },
             "pattern": {
              "fillmode": "overlay",
              "size": 10,
              "solidity": 0.2
             }
            },
            "type": "bar"
           }
          ],
          "barpolar": [
           {
            "marker": {
             "line": {
              "color": "#E5ECF6",
              "width": 0.5
             },
             "pattern": {
              "fillmode": "overlay",
              "size": 10,
              "solidity": 0.2
             }
            },
            "type": "barpolar"
           }
          ],
          "carpet": [
           {
            "aaxis": {
             "endlinecolor": "#2a3f5f",
             "gridcolor": "white",
             "linecolor": "white",
             "minorgridcolor": "white",
             "startlinecolor": "#2a3f5f"
            },
            "baxis": {
             "endlinecolor": "#2a3f5f",
             "gridcolor": "white",
             "linecolor": "white",
             "minorgridcolor": "white",
             "startlinecolor": "#2a3f5f"
            },
            "type": "carpet"
           }
          ],
          "choropleth": [
           {
            "colorbar": {
             "outlinewidth": 0,
             "ticks": ""
            },
            "type": "choropleth"
           }
          ],
          "contour": [
           {
            "colorbar": {
             "outlinewidth": 0,
             "ticks": ""
            },
            "colorscale": [
             [
              0,
              "#0d0887"
             ],
             [
              0.1111111111111111,
              "#46039f"
             ],
             [
              0.2222222222222222,
              "#7201a8"
             ],
             [
              0.3333333333333333,
              "#9c179e"
             ],
             [
              0.4444444444444444,
              "#bd3786"
             ],
             [
              0.5555555555555556,
              "#d8576b"
             ],
             [
              0.6666666666666666,
              "#ed7953"
             ],
             [
              0.7777777777777778,
              "#fb9f3a"
             ],
             [
              0.8888888888888888,
              "#fdca26"
             ],
             [
              1,
              "#f0f921"
             ]
            ],
            "type": "contour"
           }
          ],
          "contourcarpet": [
           {
            "colorbar": {
             "outlinewidth": 0,
             "ticks": ""
            },
            "type": "contourcarpet"
           }
          ],
          "heatmap": [
           {
            "colorbar": {
             "outlinewidth": 0,
             "ticks": ""
            },
            "colorscale": [
             [
              0,
              "#0d0887"
             ],
             [
              0.1111111111111111,
              "#46039f"
             ],
             [
              0.2222222222222222,
              "#7201a8"
             ],
             [
              0.3333333333333333,
              "#9c179e"
             ],
             [
              0.4444444444444444,
              "#bd3786"
             ],
             [
              0.5555555555555556,
              "#d8576b"
             ],
             [
              0.6666666666666666,
              "#ed7953"
             ],
             [
              0.7777777777777778,
              "#fb9f3a"
             ],
             [
              0.8888888888888888,
              "#fdca26"
             ],
             [
              1,
              "#f0f921"
             ]
            ],
            "type": "heatmap"
           }
          ],
          "heatmapgl": [
           {
            "colorbar": {
             "outlinewidth": 0,
             "ticks": ""
            },
            "colorscale": [
             [
              0,
              "#0d0887"
             ],
             [
              0.1111111111111111,
              "#46039f"
             ],
             [
              0.2222222222222222,
              "#7201a8"
             ],
             [
              0.3333333333333333,
              "#9c179e"
             ],
             [
              0.4444444444444444,
              "#bd3786"
             ],
             [
              0.5555555555555556,
              "#d8576b"
             ],
             [
              0.6666666666666666,
              "#ed7953"
             ],
             [
              0.7777777777777778,
              "#fb9f3a"
             ],
             [
              0.8888888888888888,
              "#fdca26"
             ],
             [
              1,
              "#f0f921"
             ]
            ],
            "type": "heatmapgl"
           }
          ],
          "histogram": [
           {
            "marker": {
             "pattern": {
              "fillmode": "overlay",
              "size": 10,
              "solidity": 0.2
             }
            },
            "type": "histogram"
           }
          ],
          "histogram2d": [
           {
            "colorbar": {
             "outlinewidth": 0,
             "ticks": ""
            },
            "colorscale": [
             [
              0,
              "#0d0887"
             ],
             [
              0.1111111111111111,
              "#46039f"
             ],
             [
              0.2222222222222222,
              "#7201a8"
             ],
             [
              0.3333333333333333,
              "#9c179e"
             ],
             [
              0.4444444444444444,
              "#bd3786"
             ],
             [
              0.5555555555555556,
              "#d8576b"
             ],
             [
              0.6666666666666666,
              "#ed7953"
             ],
             [
              0.7777777777777778,
              "#fb9f3a"
             ],
             [
              0.8888888888888888,
              "#fdca26"
             ],
             [
              1,
              "#f0f921"
             ]
            ],
            "type": "histogram2d"
           }
          ],
          "histogram2dcontour": [
           {
            "colorbar": {
             "outlinewidth": 0,
             "ticks": ""
            },
            "colorscale": [
             [
              0,
              "#0d0887"
             ],
             [
              0.1111111111111111,
              "#46039f"
             ],
             [
              0.2222222222222222,
              "#7201a8"
             ],
             [
              0.3333333333333333,
              "#9c179e"
             ],
             [
              0.4444444444444444,
              "#bd3786"
             ],
             [
              0.5555555555555556,
              "#d8576b"
             ],
             [
              0.6666666666666666,
              "#ed7953"
             ],
             [
              0.7777777777777778,
              "#fb9f3a"
             ],
             [
              0.8888888888888888,
              "#fdca26"
             ],
             [
              1,
              "#f0f921"
             ]
            ],
            "type": "histogram2dcontour"
           }
          ],
          "mesh3d": [
           {
            "colorbar": {
             "outlinewidth": 0,
             "ticks": ""
            },
            "type": "mesh3d"
           }
          ],
          "parcoords": [
           {
            "line": {
             "colorbar": {
              "outlinewidth": 0,
              "ticks": ""
             }
            },
            "type": "parcoords"
           }
          ],
          "pie": [
           {
            "automargin": true,
            "type": "pie"
           }
          ],
          "scatter": [
           {
            "fillpattern": {
             "fillmode": "overlay",
             "size": 10,
             "solidity": 0.2
            },
            "type": "scatter"
           }
          ],
          "scatter3d": [
           {
            "line": {
             "colorbar": {
              "outlinewidth": 0,
              "ticks": ""
             }
            },
            "marker": {
             "colorbar": {
              "outlinewidth": 0,
              "ticks": ""
             }
            },
            "type": "scatter3d"
           }
          ],
          "scattercarpet": [
           {
            "marker": {
             "colorbar": {
              "outlinewidth": 0,
              "ticks": ""
             }
            },
            "type": "scattercarpet"
           }
          ],
          "scattergeo": [
           {
            "marker": {
             "colorbar": {
              "outlinewidth": 0,
              "ticks": ""
             }
            },
            "type": "scattergeo"
           }
          ],
          "scattergl": [
           {
            "marker": {
             "colorbar": {
              "outlinewidth": 0,
              "ticks": ""
             }
            },
            "type": "scattergl"
           }
          ],
          "scattermapbox": [
           {
            "marker": {
             "colorbar": {
              "outlinewidth": 0,
              "ticks": ""
             }
            },
            "type": "scattermapbox"
           }
          ],
          "scatterpolar": [
           {
            "marker": {
             "colorbar": {
              "outlinewidth": 0,
              "ticks": ""
             }
            },
            "type": "scatterpolar"
           }
          ],
          "scatterpolargl": [
           {
            "marker": {
             "colorbar": {
              "outlinewidth": 0,
              "ticks": ""
             }
            },
            "type": "scatterpolargl"
           }
          ],
          "scatterternary": [
           {
            "marker": {
             "colorbar": {
              "outlinewidth": 0,
              "ticks": ""
             }
            },
            "type": "scatterternary"
           }
          ],
          "surface": [
           {
            "colorbar": {
             "outlinewidth": 0,
             "ticks": ""
            },
            "colorscale": [
             [
              0,
              "#0d0887"
             ],
             [
              0.1111111111111111,
              "#46039f"
             ],
             [
              0.2222222222222222,
              "#7201a8"
             ],
             [
              0.3333333333333333,
              "#9c179e"
             ],
             [
              0.4444444444444444,
              "#bd3786"
             ],
             [
              0.5555555555555556,
              "#d8576b"
             ],
             [
              0.6666666666666666,
              "#ed7953"
             ],
             [
              0.7777777777777778,
              "#fb9f3a"
             ],
             [
              0.8888888888888888,
              "#fdca26"
             ],
             [
              1,
              "#f0f921"
             ]
            ],
            "type": "surface"
           }
          ],
          "table": [
           {
            "cells": {
             "fill": {
              "color": "#EBF0F8"
             },
             "line": {
              "color": "white"
             }
            },
            "header": {
             "fill": {
              "color": "#C8D4E3"
             },
             "line": {
              "color": "white"
             }
            },
            "type": "table"
           }
          ]
         },
         "layout": {
          "annotationdefaults": {
           "arrowcolor": "#2a3f5f",
           "arrowhead": 0,
           "arrowwidth": 1
          },
          "autotypenumbers": "strict",
          "coloraxis": {
           "colorbar": {
            "outlinewidth": 0,
            "ticks": ""
           }
          },
          "colorscale": {
           "diverging": [
            [
             0,
             "#8e0152"
            ],
            [
             0.1,
             "#c51b7d"
            ],
            [
             0.2,
             "#de77ae"
            ],
            [
             0.3,
             "#f1b6da"
            ],
            [
             0.4,
             "#fde0ef"
            ],
            [
             0.5,
             "#f7f7f7"
            ],
            [
             0.6,
             "#e6f5d0"
            ],
            [
             0.7,
             "#b8e186"
            ],
            [
             0.8,
             "#7fbc41"
            ],
            [
             0.9,
             "#4d9221"
            ],
            [
             1,
             "#276419"
            ]
           ],
           "sequential": [
            [
             0,
             "#0d0887"
            ],
            [
             0.1111111111111111,
             "#46039f"
            ],
            [
             0.2222222222222222,
             "#7201a8"
            ],
            [
             0.3333333333333333,
             "#9c179e"
            ],
            [
             0.4444444444444444,
             "#bd3786"
            ],
            [
             0.5555555555555556,
             "#d8576b"
            ],
            [
             0.6666666666666666,
             "#ed7953"
            ],
            [
             0.7777777777777778,
             "#fb9f3a"
            ],
            [
             0.8888888888888888,
             "#fdca26"
            ],
            [
             1,
             "#f0f921"
            ]
           ],
           "sequentialminus": [
            [
             0,
             "#0d0887"
            ],
            [
             0.1111111111111111,
             "#46039f"
            ],
            [
             0.2222222222222222,
             "#7201a8"
            ],
            [
             0.3333333333333333,
             "#9c179e"
            ],
            [
             0.4444444444444444,
             "#bd3786"
            ],
            [
             0.5555555555555556,
             "#d8576b"
            ],
            [
             0.6666666666666666,
             "#ed7953"
            ],
            [
             0.7777777777777778,
             "#fb9f3a"
            ],
            [
             0.8888888888888888,
             "#fdca26"
            ],
            [
             1,
             "#f0f921"
            ]
           ]
          },
          "colorway": [
           "#636efa",
           "#EF553B",
           "#00cc96",
           "#ab63fa",
           "#FFA15A",
           "#19d3f3",
           "#FF6692",
           "#B6E880",
           "#FF97FF",
           "#FECB52"
          ],
          "font": {
           "color": "#2a3f5f"
          },
          "geo": {
           "bgcolor": "white",
           "lakecolor": "white",
           "landcolor": "#E5ECF6",
           "showlakes": true,
           "showland": true,
           "subunitcolor": "white"
          },
          "hoverlabel": {
           "align": "left"
          },
          "hovermode": "closest",
          "mapbox": {
           "style": "light"
          },
          "paper_bgcolor": "white",
          "plot_bgcolor": "#E5ECF6",
          "polar": {
           "angularaxis": {
            "gridcolor": "white",
            "linecolor": "white",
            "ticks": ""
           },
           "bgcolor": "#E5ECF6",
           "radialaxis": {
            "gridcolor": "white",
            "linecolor": "white",
            "ticks": ""
           }
          },
          "scene": {
           "xaxis": {
            "backgroundcolor": "#E5ECF6",
            "gridcolor": "white",
            "gridwidth": 2,
            "linecolor": "white",
            "showbackground": true,
            "ticks": "",
            "zerolinecolor": "white"
           },
           "yaxis": {
            "backgroundcolor": "#E5ECF6",
            "gridcolor": "white",
            "gridwidth": 2,
            "linecolor": "white",
            "showbackground": true,
            "ticks": "",
            "zerolinecolor": "white"
           },
           "zaxis": {
            "backgroundcolor": "#E5ECF6",
            "gridcolor": "white",
            "gridwidth": 2,
            "linecolor": "white",
            "showbackground": true,
            "ticks": "",
            "zerolinecolor": "white"
           }
          },
          "shapedefaults": {
           "line": {
            "color": "#2a3f5f"
           }
          },
          "ternary": {
           "aaxis": {
            "gridcolor": "white",
            "linecolor": "white",
            "ticks": ""
           },
           "baxis": {
            "gridcolor": "white",
            "linecolor": "white",
            "ticks": ""
           },
           "bgcolor": "#E5ECF6",
           "caxis": {
            "gridcolor": "white",
            "linecolor": "white",
            "ticks": ""
           }
          },
          "title": {
           "x": 0.05
          },
          "xaxis": {
           "automargin": true,
           "gridcolor": "white",
           "linecolor": "white",
           "ticks": "",
           "title": {
            "standoff": 15
           },
           "zerolinecolor": "white",
           "zerolinewidth": 2
          },
          "yaxis": {
           "automargin": true,
           "gridcolor": "white",
           "linecolor": "white",
           "ticks": "",
           "title": {
            "standoff": 15
           },
           "zerolinecolor": "white",
           "zerolinewidth": 2
          }
         }
        },
        "title": {
         "text": "Imbalanced Classes"
        },
        "xaxis": {
         "anchor": "y",
         "domain": [
          0,
          1
         ],
         "title": {
          "text": "count"
         }
        },
        "yaxis": {
         "anchor": "x",
         "domain": [
          0,
          1
         ],
         "title": {
          "text": "Dx:Cancer"
         }
        }
       }
      }
     },
     "metadata": {},
     "output_type": "display_data"
    }
   ],
   "source": [
    "dx_cancer = px.histogram(risk_factor_df, y=\"Dx:Cancer\")\n",
    "dx_cancer.update_layout(bargap=0.2)\n",
    "dx_cancer.update_layout(title = \"Imbalanced Classes\")\n",
    "dx_cancer.show()"
   ]
  },
  {
   "cell_type": "code",
   "execution_count": null,
   "metadata": {},
   "outputs": [],
   "source": [
    "X = risk_factor_df.drop([\"Dx:Cancer\", \"age_cat\"], axis=1)\n",
    "y = risk_factor_df[\"Dx:Cancer\"].copy()"
   ]
  },
  {
   "cell_type": "code",
   "execution_count": null,
   "metadata": {},
   "outputs": [],
   "source": [
    "adasyn = ADASYN(random_state=42)\n",
    "x_adasyn,y_adasyn = adasyn.fit_resample(x,y)\n",
    "risk_factor_df = x_adasyn.join(y_adasyn)"
   ]
  },
  {
   "cell_type": "code",
   "execution_count": null,
   "metadata": {},
   "outputs": [],
   "source": [
    "risk_factor_df[\"age_cat\"] = risk_factor_df[\"Age\"].apply(age_cat)"
   ]
  },
  {
   "cell_type": "code",
   "execution_count": null,
   "metadata": {},
   "outputs": [],
   "source": [
    "dx_cancer = px.histogram(risk_factor_df, y=\"Dx:Cancer\")\n",
    "dx_cancer.update_layout(bargap=0.2)\n",
    "dx_cancer.update_layout(title = \"Balanced Classes\")\n",
    "dx_cancer.show()"
   ]
  }
 ],
 "metadata": {
  "kernelspec": {
   "display_name": "Python 3",
   "language": "python",
   "name": "python3"
  },
  "language_info": {
   "codemirror_mode": {
    "name": "ipython",
    "version": 3
   },
   "file_extension": ".py",
   "mimetype": "text/x-python",
   "name": "python",
   "nbconvert_exporter": "python",
   "pygments_lexer": "ipython3",
   "version": "3.10.13"
  }
 },
 "nbformat": 4,
 "nbformat_minor": 2
}
