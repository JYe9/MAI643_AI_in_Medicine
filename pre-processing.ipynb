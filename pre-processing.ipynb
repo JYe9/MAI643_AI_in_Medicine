{
 "cells": [
  {
   "cell_type": "markdown",
   "metadata": {},
   "source": [
    "MAI643 - Artificial Intelligence in Medicine\n",
    "\n",
    "Project Assignment 1 - Spring Semester 2024\n",
    "\n",
    "Student Name:    \n",
    "Christina Ioanna Saroglaki   \n",
    "Jianlin Ye \n",
    "\n",
    "UCY Email:     \n",
    "saroglaki.christina-ioanna@ucy.ac.cy    \n",
    "jye00001@ucy.ac.cy "
   ]
  },
  {
   "cell_type": "markdown",
   "metadata": {},
   "source": [
    "### Import Libararies"
   ]
  },
  {
   "cell_type": "code",
   "execution_count": 5,
   "metadata": {},
   "outputs": [],
   "source": [
    "import pandas as pd \n",
    "import numpy as np\n",
    "import sklearn"
   ]
  },
  {
   "cell_type": "markdown",
   "metadata": {},
   "source": [
    "# Overview\n",
    "\n",
    "As per the authors, the chosen dataset focuses on indicators associated with the diagnosis of cervical cancer, encompassing various features such as demographic information, habits, and medical records​. In more detail, the data was gathered at 'Hospital Universitario de Caracas' in Venezuela from a total of 858 patients​.\n",
    "\n",
    "C. J. Fernandes Kelwin and J. Fernandes, “Cervical cancer (Risk Factors),” UCI Machine \n",
    "Learning Repository. 2017."
   ]
  },
  {
   "cell_type": "code",
   "execution_count": 10,
   "metadata": {},
   "outputs": [
    {
     "name": "stdout",
     "output_type": "stream",
     "text": [
      "----------------------------------- Information -----------------------------------\n",
      "<class 'pandas.core.frame.DataFrame'>\n",
      "RangeIndex: 858 entries, 0 to 857\n",
      "Data columns (total 36 columns):\n",
      " #   Column                              Non-Null Count  Dtype \n",
      "---  ------                              --------------  ----- \n",
      " 0   Age                                 858 non-null    int64 \n",
      " 1   Number of sexual partners           858 non-null    object\n",
      " 2   First sexual intercourse            858 non-null    object\n",
      " 3   Num of pregnancies                  858 non-null    object\n",
      " 4   Smokes                              858 non-null    object\n",
      " 5   Smokes (years)                      858 non-null    object\n",
      " 6   Smokes (packs/year)                 858 non-null    object\n",
      " 7   Hormonal Contraceptives             858 non-null    object\n",
      " 8   Hormonal Contraceptives (years)     858 non-null    object\n",
      " 9   IUD                                 858 non-null    object\n",
      " 10  IUD (years)                         858 non-null    object\n",
      " 11  STDs                                858 non-null    object\n",
      " 12  STDs (number)                       858 non-null    object\n",
      " 13  STDs:condylomatosis                 858 non-null    object\n",
      " 14  STDs:cervical condylomatosis        858 non-null    object\n",
      " 15  STDs:vaginal condylomatosis         858 non-null    object\n",
      " 16  STDs:vulvo-perineal condylomatosis  858 non-null    object\n",
      " 17  STDs:syphilis                       858 non-null    object\n",
      " 18  STDs:pelvic inflammatory disease    858 non-null    object\n",
      " 19  STDs:genital herpes                 858 non-null    object\n",
      " 20  STDs:molluscum contagiosum          858 non-null    object\n",
      " 21  STDs:AIDS                           858 non-null    object\n",
      " 22  STDs:HIV                            858 non-null    object\n",
      " 23  STDs:Hepatitis B                    858 non-null    object\n",
      " 24  STDs:HPV                            858 non-null    object\n",
      " 25  STDs: Number of diagnosis           858 non-null    int64 \n",
      " 26  STDs: Time since first diagnosis    858 non-null    object\n",
      " 27  STDs: Time since last diagnosis     858 non-null    object\n",
      " 28  Dx:Cancer                           858 non-null    int64 \n",
      " 29  Dx:CIN                              858 non-null    int64 \n",
      " 30  Dx:HPV                              858 non-null    int64 \n",
      " 31  Dx                                  858 non-null    int64 \n",
      " 32  Hinselmann                          858 non-null    int64 \n",
      " 33  Schiller                            858 non-null    int64 \n",
      " 34  Citology                            858 non-null    int64 \n",
      " 35  Biopsy                              858 non-null    int64 \n",
      "dtypes: int64(10), object(26)\n",
      "memory usage: 241.4+ KB\n"
     ]
    }
   ],
   "source": [
    "risk_factor_df = pd.read_csv(\"risk_factors_cervical_cancer.csv\")\n",
    "print(\"----------------------------------- Information -----------------------------------\")\n",
    "risk_factor_df.info()"
   ]
  },
  {
   "cell_type": "markdown",
   "metadata": {},
   "source": [
    "## Find Missing Values"
   ]
  },
  {
   "cell_type": "code",
   "execution_count": 16,
   "metadata": {},
   "outputs": [
    {
     "name": "stdout",
     "output_type": "stream",
     "text": [
      "----------------------------------- Missing Values -----------------------------------\n",
      "No NAN values in the dataset\n"
     ]
    }
   ],
   "source": [
    "print(\"----------------------------------- Missing Values -----------------------------------\")\n",
    "col_nan = risk_factor_df.columns[risk_factor_df.isnull().any()].tolist()\n",
    "if (len(col_nan) == 0):\n",
    "    print(\"No NAN values in the dataset\")\n",
    "\n"
   ]
  }
 ],
 "metadata": {
  "kernelspec": {
   "display_name": "Python 3",
   "language": "python",
   "name": "python3"
  },
  "language_info": {
   "codemirror_mode": {
    "name": "ipython",
    "version": 3
   },
   "file_extension": ".py",
   "mimetype": "text/x-python",
   "name": "python",
   "nbconvert_exporter": "python",
   "pygments_lexer": "ipython3",
   "version": "3.11.5"
  }
 },
 "nbformat": 4,
 "nbformat_minor": 2
}
