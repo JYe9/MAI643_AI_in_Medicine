{
 "cells": [
  {
   "cell_type": "markdown",
   "metadata": {},
   "source": [
    "MAI643 - Artificial Intelligence in Medicine\n",
    "\n",
    "Project Assignment 1 - Spring Semester 2024\n",
    "\n",
    "Student Name:    \n",
    "Christina Ioanna Saroglaki   \n",
    "Jianlin Ye \n",
    "\n",
    "UCY Email:     \n",
    "saroglaki.christina-ioanna@ucy.ac.cy    \n",
    "jye00001@ucy.ac.cy "
   ]
  },
  {
   "cell_type": "markdown",
   "metadata": {},
   "source": [
    "### Import Libararies"
   ]
  },
  {
   "cell_type": "code",
   "execution_count": 11,
   "metadata": {},
   "outputs": [],
   "source": [
    "import pandas as pd \n",
    "import numpy as np\n",
    "\n",
    "# Visualization\n",
    "import matplotlib.pyplot as plt\n",
    "import plotly.express as px"
   ]
  },
  {
   "cell_type": "markdown",
   "metadata": {},
   "source": [
    "# Overview\n",
    "\n",
    "As per the authors, the chosen dataset focuses on indicators associated with the diagnosis of cervical cancer, encompassing various features such as demographic information, habits, and medical records​. In more detail, the data was gathered at 'Hospital Universitario de Caracas' in Venezuela from a total of 858 patients​.\n",
    "\n",
    "C. J. Fernandes Kelwin and J. Fernandes, “Cervical cancer (Risk Factors),” UCI Machine \n",
    "Learning Repository. 2017."
   ]
  },
  {
   "cell_type": "code",
   "execution_count": 12,
   "metadata": {},
   "outputs": [
    {
     "name": "stdout",
     "output_type": "stream",
     "text": [
      "----------------------------------- Information -----------------------------------\n",
      "<class 'pandas.core.frame.DataFrame'>\n",
      "RangeIndex: 858 entries, 0 to 857\n",
      "Data columns (total 33 columns):\n",
      " #   Column                              Non-Null Count  Dtype \n",
      "---  ------                              --------------  ----- \n",
      " 0   Age                                 858 non-null    int64 \n",
      " 1   Number of sexual partners           858 non-null    object\n",
      " 2   First sexual intercourse            858 non-null    object\n",
      " 3   Num of pregnancies                  858 non-null    object\n",
      " 4   Smokes                              858 non-null    object\n",
      " 5   Smokes (years)                      858 non-null    object\n",
      " 6   Smokes (packs/year)                 858 non-null    object\n",
      " 7   Hormonal Contraceptives             858 non-null    object\n",
      " 8   Hormonal Contraceptives (years)     858 non-null    object\n",
      " 9   IUD                                 858 non-null    object\n",
      " 10  IUD (years)                         858 non-null    object\n",
      " 11  STDs                                858 non-null    object\n",
      " 12  STDs (number)                       858 non-null    object\n",
      " 13  STDs:condylomatosis                 858 non-null    object\n",
      " 14  STDs:cervical condylomatosis        858 non-null    object\n",
      " 15  STDs:vaginal condylomatosis         858 non-null    object\n",
      " 16  STDs:vulvo-perineal condylomatosis  858 non-null    object\n",
      " 17  STDs:syphilis                       858 non-null    object\n",
      " 18  STDs:pelvic inflammatory disease    858 non-null    object\n",
      " 19  STDs:genital herpes                 858 non-null    object\n",
      " 20  STDs:molluscum contagiosum          858 non-null    object\n",
      " 21  STDs:AIDS                           858 non-null    object\n",
      " 22  STDs:HIV                            858 non-null    object\n",
      " 23  STDs:Hepatitis B                    858 non-null    object\n",
      " 24  STDs:HPV                            858 non-null    object\n",
      " 25  STDs: Number of diagnosis           858 non-null    int64 \n",
      " 26  STDs: Time since first diagnosis    858 non-null    object\n",
      " 27  STDs: Time since last diagnosis     858 non-null    object\n",
      " 28  Dx:Cancer                           858 non-null    int64 \n",
      " 29  Dx:CIN                              858 non-null    int64 \n",
      " 30  Dx:HPV                              858 non-null    int64 \n",
      " 31  Dx                                  858 non-null    int64 \n",
      " 32  Biopsy                              858 non-null    int64 \n",
      "dtypes: int64(7), object(26)\n",
      "memory usage: 221.3+ KB\n"
     ]
    }
   ],
   "source": [
    "risk_factor_df = pd.read_csv(\"risk_factors_cervical_cancer.csv\")\n",
    "\n",
    "# Only keep the \"Biopsy\" column as the target variable\n",
    "risk_factor_df = risk_factor_df.drop(columns=[\"Hinselmann\",\"Schiller\",\"Citology\"])\n",
    "\n",
    "print(\"----------------------------------- Information -----------------------------------\")\n",
    "risk_factor_df.info()"
   ]
  },
  {
   "cell_type": "markdown",
   "metadata": {},
   "source": [
    "## Preliminary analysis of the dataset\n",
    "\n",
    "To gain a better understanding of the dataset we conducted a preliminary analysis. Fistly we tranformed all the numeric values into  the correct numeric type."
   ]
  },
  {
   "cell_type": "code",
   "execution_count": 13,
   "metadata": {},
   "outputs": [],
   "source": [
    "risk_factor_df = risk_factor_df.apply(pd.to_numeric, errors = \"coerce\")"
   ]
  },
  {
   "cell_type": "markdown",
   "metadata": {},
   "source": [
    "### Missing Values\n",
    "\n",
    "Next we needed to find the volume of missing values contained in the dataset as well as the features that contained the largest amount."
   ]
  },
  {
   "cell_type": "code",
   "execution_count": 14,
   "metadata": {},
   "outputs": [
    {
     "name": "stdout",
     "output_type": "stream",
     "text": [
      "----------------------------------- Missing Values -----------------------------------\n",
      "\n",
      "NaN values found in the dataset.\n",
      "\n",
      "Total NaN values in dataset: 3622/28314\n",
      "\n",
      "Top 15 columsn with missing values:\n",
      "\n",
      "1. STDs: Time since first diagnosis : 787\n",
      "2. STDs: Time since last diagnosis : 787\n",
      "3. IUD : 117\n",
      "4. IUD (years) : 117\n",
      "5. Hormonal Contraceptives : 108\n",
      "6. Hormonal Contraceptives (years) : 108\n",
      "7. STDs : 105\n",
      "8. STDs (number) : 105\n",
      "9. STDs:condylomatosis : 105\n",
      "10. STDs:cervical condylomatosis : 105\n",
      "11. STDs:vaginal condylomatosis : 105\n",
      "12. STDs:vulvo-perineal condylomatosis : 105\n",
      "13. STDs:syphilis : 105\n",
      "14. STDs:pelvic inflammatory disease : 105\n",
      "15. STDs:genital herpes : 105\n",
      "\n",
      "Total Rows containing NaN values in dataset: 799/858\n"
     ]
    },
    {
     "data": {
      "image/png": "[encoded data removed]",
      "text/plain": [
       "<Figure size 1000x300 with 1 Axes>"
      ]
     },
     "metadata": {},
     "output_type": "display_data"
    },
    {
     "data": {
      "image/png": "[encoded data removed]",
      "text/plain": [
       "<Figure size 1000x300 with 1 Axes>"
      ]
     },
     "metadata": {},
     "output_type": "display_data"
    }
   ],
   "source": [
    "print(\"----------------------------------- Missing Values -----------------------------------\")\n",
    "nan_columns = {}\n",
    "total_nan = 0\n",
    "nan_rows = 0\n",
    "total_entries = len(risk_factor_df.axes[0]) * len(risk_factor_df.axes[1])\n",
    "\n",
    "#Fidn columns containing NaN values\n",
    "for col in risk_factor_df.columns:\n",
    "    if risk_factor_df[col].isnull().any():\n",
    "        nan_in_column = risk_factor_df[col].isna().sum()\n",
    "        nan_columns[col] = nan_in_column\n",
    "        total_nan += nan_in_column\n",
    "    else:\n",
    "        nan_columns[col] = 0\n",
    "\n",
    "# Print total NaN values\n",
    "if (total_nan == 0):\n",
    "    print(\"\\nNo NaN values in the dataset.\")\n",
    "else:\n",
    "    print(\"\\nNaN values found in the dataset.\")\n",
    "    nan_columns = sorted(nan_columns.items(), key=lambda item: item[1], reverse=True)\n",
    "\n",
    "    print(\"\\nTotal NaN values in dataset: {}/{}\".format(total_nan, total_entries))\n",
    "\n",
    "    print(\"\\nTop 15 columsn with missing values:\\n\")\n",
    "    for i in range(15):\n",
    "        sort_col = nan_columns[i]\n",
    "        print(\"{}. {} : {}\".format(i+1, sort_col[0], sort_col[1]))\n",
    "\n",
    "    # Rows containing NaN values\n",
    "    nan_rows = risk_factor_df.iloc[:,:-4].isna().any(axis=1).tolist().count(True)\n",
    "\n",
    "    print(\"\\nTotal Rows containing NaN values in dataset: {}/{}\".format(nan_rows, len(risk_factor_df)))\n",
    "\n",
    "# Plots\n",
    "total_labels = [\"NaN values\", \"Valid Values\"]\n",
    "total_size = [total_nan, total_entries-total_nan]\n",
    "\n",
    "row_labels = [\"Contain NaN\", \"FIlled rows\"]\n",
    "row_size = [nan_rows, len(risk_factor_df)]\n",
    "\n",
    "fig_1, ax_1 = plt.subplots(figsize=(10, 3), subplot_kw=dict(aspect=\"equal\"))\n",
    "ax_1.pie(total_size, labels=total_labels, autopct='%1.1f%%', textprops=dict(color=\"w\"))\n",
    "ax_1.legend(loc= \"center left\", bbox_to_anchor=(1, 0, 0.5, 1))\n",
    "ax_1.set_title(\"Total Missing Values\")\n",
    "\n",
    "fig_2, ax_2 = plt.subplots(figsize=(10, 3), subplot_kw=dict(aspect=\"equal\"))\n",
    "ax_2.pie(row_size, labels=row_labels, autopct='%1.1f%%', textprops=dict(color=\"w\"))\n",
    "ax_2.legend(loc= \"center left\", bbox_to_anchor=(1, 0, 0.5, 1))\n",
    "ax_2.set_title(\"Total Rows Containing Missing Values\")\n",
    "\n",
    "plt.show()"
   ]
  },
  {
   "cell_type": "markdown",
   "metadata": {},
   "source": [
    "We identified that the features “STDs: Time since first diagnosis” and “STDs: Time since last diagnosis” were filled with NaN values to about 92%. Because of the high percentage of missing values, it impractical to either eliminate those observations or fill the missing data with the mean of the existing data. Consequently, these features were excluded from the dataset for the development of the models.\n",
    "\n",
    "For the remaining columns, we can replace the missing values with the mean of the existing data during the pre-processing step."
   ]
  },
  {
   "cell_type": "code",
   "execution_count": 15,
   "metadata": {},
   "outputs": [],
   "source": [
    "risk_factor_df = risk_factor_df.drop(columns=[\"STDs: Time since first diagnosis\", \"STDs: Time since last diagnosis\"])"
   ]
  },
  {
   "attachments": {},
   "cell_type": "markdown",
   "metadata": {},
   "source": [
    "## Duplicate rows\n",
    "\n",
    "Following the missing value analysis, we examined if the dataset contained any duplicate rows."
   ]
  },
  {
   "cell_type": "code",
   "execution_count": 16,
   "metadata": {},
   "outputs": [
    {
     "name": "stdout",
     "output_type": "stream",
     "text": [
      "----------------------------------- Duplicate Rows -----------------------------------\n",
      "Found 26 duplicate rows in the dataset.\n",
      "\n",
      "Duplicate rows indexes: [ 66 234 255 356 395 406 411 419 431 435 440 442 453 454 458 466 486 493\n",
      " 525 530 536 575 580 638 715 785]\n",
      "\n",
      "----------------------------- Removing Duplicates ----------------------------\n",
      "----------------------------------- BEFORE -----------------------------------\n",
      "Number of rows before removing duplicates:  858\n",
      "\n",
      "----------------------------------- AFTER -----------------------------------\n",
      "Number of rows after removing duplicates:  832\n"
     ]
    }
   ],
   "source": [
    "print(\"----------------------------------- Duplicate Rows -----------------------------------\")\n",
    "# Check for duplicate rows\n",
    "duplicate_rows = risk_factor_df.duplicated()\n",
    "\n",
    "# Count the number of duplicate rows\n",
    "num_duplicates = duplicate_rows.sum()\n",
    "\n",
    "if num_duplicates == 0:\n",
    "    print(\"No duplicate rows found in the dataset.\")\n",
    "else:\n",
    "    print(f\"Found {num_duplicates} duplicate rows in the dataset.\\n\")\n",
    "\n",
    "    # Display the duplicate rows indexes (if any)\n",
    "    print(\"Duplicate rows indexes: {}\\n\".format(risk_factor_df[duplicate_rows].index.values))\n",
    "\n",
    "    # Removing duplicate rows\n",
    "    print(\"----------------------------- Removing Duplicates ----------------------------\")\n",
    "    print(\"----------------------------------- BEFORE -----------------------------------\")\n",
    "    print(\"Number of rows before removing duplicates: \", len(risk_factor_df))\n",
    "\n",
    "    # Drop duplicate rows\n",
    "    risk_factor_df.drop_duplicates(inplace=True)\n",
    "\n",
    "    print(\"\\n----------------------------------- AFTER -----------------------------------\")\n",
    "    print(\"Number of rows after removing duplicates: \", len(risk_factor_df))\n"
   ]
  },
  {
   "cell_type": "markdown",
   "metadata": {},
   "source": [
    "## Understanding features"
   ]
  },
  {
   "cell_type": "code",
   "execution_count": 17,
   "metadata": {},
   "outputs": [],
   "source": [
    "# Function finding the unique values of each column in the dataframe\n",
    "def find_unique_values_df(feat: pd.DataFrame):\n",
    "    column_unique  = {}\n",
    "\n",
    "    for col in list(feat):\n",
    "        column_unique[str(col)] = feat[col].unique()\n",
    "\n",
    "    return column_unique"
   ]
  },
  {
   "cell_type": "markdown",
   "metadata": {},
   "source": [
    "#### General characteristics"
   ]
  },
  {
   "cell_type": "code",
   "execution_count": 18,
   "metadata": {},
   "outputs": [],
   "source": [
    "mean_gc = risk_factor_df.iloc[:,:11].mean()"
   ]
  },
  {
   "cell_type": "code",
   "execution_count": 19,
   "metadata": {},
   "outputs": [],
   "source": [
    "std_gc = risk_factor_df.iloc[:,:11].std()"
   ]
  },
  {
   "cell_type": "code",
   "execution_count": 20,
   "metadata": {},
   "outputs": [
    {
     "name": "stdout",
     "output_type": "stream",
     "text": [
      "----------------------------------- Unique Values -----------------------------------\n",
      "Age : [18, 15, 34, 52, 46, 42, 51, 26, 45, 44, 27, 43, 40, 41, 39, 37, 38, 36, 35, 33, 31, 32, 30, 23, 28, 29, 20, 25, 21, 24, 22, 48, 19, 17, 16, 14, 59, 79, 84, 47, 13, 70, 50, 49]\n",
      "Number of sexual partners : [4.0, 1.0, 5.0, 3.0, 2.0, 6.0, nan, 7.0, 15.0, 8.0, 10.0, 28.0, 9.0]\n",
      "First sexual intercourse : [15.0, 14.0, nan, 16.0, 21.0, 23.0, 17.0, 26.0, 20.0, 25.0, 18.0, 27.0, 19.0, 24.0, 32.0, 13.0, 29.0, 11.0, 12.0, 22.0, 28.0, 10.0]\n",
      "Num of pregnancies : [1.0, 4.0, 2.0, 6.0, 3.0, 5.0, nan, 8.0, 7.0, 0.0, 11.0, 10.0]\n",
      "Smokes : [0.0, 1.0, nan]\n",
      "Smokes (years) : [0.0, 37.0, 34.0, 1.266972909, 3.0, 12.0, nan, 18.0, 7.0, 19.0, 21.0, 15.0, 13.0, 16.0, 8.0, 4.0, 10.0, 22.0, 14.0, 0.5, 11.0, 9.0, 2.0, 5.0, 6.0, 1.0, 32.0, 24.0, 28.0, 20.0, 0.16]\n",
      "Smokes (packs/year) : [0.0, 37.0, 3.4, 2.8, 0.04, 0.5132021277, 2.4, 6.0, nan, 9.0, 1.6, 19.0, 21.0, 0.32, 2.6, 0.8, 15.0, 2.0, 5.7, 1.0, 3.3, 3.5, 12.0, 0.025, 2.75, 0.2, 1.4, 5.0, 2.1, 0.7, 1.2, 7.5, 1.25, 3.0, 0.75, 0.1, 8.0, 2.25, 0.003, 7.0, 0.45, 0.15, 0.05, 0.25, 4.8, 4.5, 0.4, 0.37, 2.2, 0.16, 0.9, 22.0, 1.35, 0.5, 2.5, 4.0, 1.3, 1.65, 2.7, 0.001, 7.6, 5.5, 0.3]\n",
      "Hormonal Contraceptives : [0.0, 1.0, nan]\n",
      "Hormonal Contraceptives (years) : [0.0, 3.0, 15.0, 2.0, 8.0, 10.0, 5.0, 0.25, 7.0, 22.0, 19.0, 0.5, 1.0, 0.58, 9.0, 13.0, 11.0, 4.0, 12.0, 16.0, 0.33, nan, 0.16, 14.0, 0.08, 2.282200521, 0.66, 6.0, 1.5, 0.42, 0.67, 0.75, 2.5, 4.5, 6.5, 0.17, 20.0, 3.5, 0.41, 30.0, 17.0]\n",
      "IUD : [0.0, 1.0, nan]\n",
      "IUD (years) : [0.0, 7.0, nan, 5.0, 8.0, 6.0, 1.0, 0.58, 2.0, 19.0, 0.5, 17.0, 0.08, 0.25, 10.0, 11.0, 3.0, 15.0, 12.0, 9.0, 1.5, 0.91, 4.0, 0.33, 0.41, 0.16, 0.17]\n",
      "STDs : [0.0, 1.0, nan]\n",
      "STDs (number) : [0.0, 2.0, 1.0, nan, 3.0, 4.0]\n",
      "STDs:condylomatosis : [0.0, 1.0, nan]\n",
      "STDs:cervical condylomatosis : [0.0, nan]\n",
      "STDs:vaginal condylomatosis : [0.0, nan, 1.0]\n",
      "STDs:vulvo-perineal condylomatosis : [0.0, 1.0, nan]\n",
      "STDs:syphilis : [0.0, 1.0, nan]\n",
      "STDs:pelvic inflammatory disease : [0.0, nan, 1.0]\n",
      "STDs:genital herpes : [0.0, nan, 1.0]\n",
      "STDs:molluscum contagiosum : [0.0, nan, 1.0]\n",
      "STDs:AIDS : [0.0, nan]\n",
      "STDs:HIV : [0.0, 1.0, nan]\n",
      "STDs:Hepatitis B : [0.0, nan, 1.0]\n",
      "STDs:HPV : [0.0, nan, 1.0]\n",
      "STDs: Number of diagnosis : [0, 1, 3, 2]\n",
      "Dx:Cancer : [0, 1]\n",
      "Dx:CIN : [0, 1]\n",
      "Dx:HPV : [0, 1]\n",
      "Dx : [0, 1]\n",
      "Biopsy : [0, 1]\n"
     ]
    }
   ],
   "source": [
    "print(\"----------------------------------- Unique Values -----------------------------------\")    \n",
    "# Unique Values\n",
    "unique_vals = find_unique_values_df(risk_factor_df)\n",
    "\n",
    "for col in unique_vals:\n",
    "    print(\"{} : {}\".format(col, list(unique_vals[col])))\n"
   ]
  }
 ],
 "metadata": {
  "kernelspec": {
   "display_name": "mai644",
   "language": "python",
   "name": "python3"
  },
  "language_info": {
   "codemirror_mode": {
    "name": "ipython",
    "version": 3
   },
   "file_extension": ".py",
   "mimetype": "text/x-python",
   "name": "python",
   "nbconvert_exporter": "python",
   "pygments_lexer": "ipython3",
   "version": "3.11.5"
  },
  "vscode": {
   "interpreter": {
    "hash": "32bdd95e8c4ecada84a0073ec4e8d048a8aaf2397f6888f3b1d4c4db30935bf8"
   }
  }
 },
 "nbformat": 4,
 "nbformat_minor": 2
}
