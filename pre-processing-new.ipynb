{
 "cells": [
  {
   "cell_type": "markdown",
   "metadata": {},
   "source": [
    "MAI643 - Artificial Intelligence in Medicine\n",
    "\n",
    "Project Assignment 1 - Spring Semester 2024\n",
    "\n",
    "Student Name:    \n",
    "Christina Ioanna Saroglaki   \n",
    "Jianlin Ye \n",
    "\n",
    "UCY Email:     \n",
    "saroglaki.christina-ioanna@ucy.ac.cy    \n",
    "jye00001@ucy.ac.cy "
   ]
  },
  {
   "cell_type": "markdown",
   "metadata": {},
   "source": [
    "### Import Libararies"
   ]
  },
  {
   "cell_type": "code",
   "execution_count": 105,
   "metadata": {},
   "outputs": [],
   "source": [
    "import pandas as pd \n",
    "import numpy as np\n",
    "\n",
    "# Visualization\n",
    "import plotly.express as px\n",
    "import plotly.graph_objects as go\n",
    "from plotly.subplots import make_subplots\n",
    "\n",
    "np.set_printoptions(formatter={'float':\"{:6.5g}\".format})"
   ]
  },
  {
   "cell_type": "markdown",
   "metadata": {},
   "source": [
    "# Overview\n",
    "\n",
    "As per the authors, the chosen dataset focuses on indicators associated with the diagnosis of cervical cancer, encompassing various features such as demographic information, habits, and medical records​. In more detail, the data was gathered at \"Hospital Universitario de Caracas\" in Venezuela from a total of 858 patients​.\n",
    "\n",
    "C. J. Fernandes Kelwin and J. Fernandes, “Cervical cancer (Risk Factors),” UCI Machine \n",
    "Learning Repository. 2017."
   ]
  },
  {
   "cell_type": "code",
   "execution_count": 106,
   "metadata": {},
   "outputs": [
    {
     "name": "stdout",
     "output_type": "stream",
     "text": [
      "----------------------------------- Information -----------------------------------\n",
      "<class 'pandas.core.frame.DataFrame'>\n",
      "RangeIndex: 858 entries, 0 to 857\n",
      "Data columns (total 36 columns):\n",
      " #   Column                              Non-Null Count  Dtype  \n",
      "---  ------                              --------------  -----  \n",
      " 0   Age                                 858 non-null    int64  \n",
      " 1   Number of sexual partners           832 non-null    float64\n",
      " 2   First sexual intercourse            851 non-null    float64\n",
      " 3   Num of pregnancies                  802 non-null    float64\n",
      " 4   Smokes                              845 non-null    float64\n",
      " 5   Smokes (years)                      845 non-null    float64\n",
      " 6   Smokes (packs/year)                 845 non-null    float64\n",
      " 7   Hormonal Contraceptives             750 non-null    float64\n",
      " 8   Hormonal Contraceptives (years)     750 non-null    float64\n",
      " 9   IUD                                 741 non-null    float64\n",
      " 10  IUD (years)                         741 non-null    float64\n",
      " 11  STDs                                753 non-null    float64\n",
      " 12  STDs (number)                       753 non-null    float64\n",
      " 13  STDs:condylomatosis                 753 non-null    float64\n",
      " 14  STDs:cervical condylomatosis        753 non-null    float64\n",
      " 15  STDs:vaginal condylomatosis         753 non-null    float64\n",
      " 16  STDs:vulvo-perineal condylomatosis  753 non-null    float64\n",
      " 17  STDs:syphilis                       753 non-null    float64\n",
      " 18  STDs:pelvic inflammatory disease    753 non-null    float64\n",
      " 19  STDs:genital herpes                 753 non-null    float64\n",
      " 20  STDs:molluscum contagiosum          753 non-null    float64\n",
      " 21  STDs:AIDS                           753 non-null    float64\n",
      " 22  STDs:HIV                            753 non-null    float64\n",
      " 23  STDs:Hepatitis B                    753 non-null    float64\n",
      " 24  STDs:HPV                            753 non-null    float64\n",
      " 25  STDs: Number of diagnosis           858 non-null    int64  \n",
      " 26  STDs: Time since first diagnosis    71 non-null     float64\n",
      " 27  STDs: Time since last diagnosis     71 non-null     float64\n",
      " 28  Dx:Cancer                           858 non-null    int64  \n",
      " 29  Dx:CIN                              858 non-null    int64  \n",
      " 30  Dx:HPV                              858 non-null    int64  \n",
      " 31  Dx                                  858 non-null    int64  \n",
      " 32  Hinselmann                          858 non-null    int64  \n",
      " 33  Schiller                            858 non-null    int64  \n",
      " 34  Citology                            858 non-null    int64  \n",
      " 35  Biopsy                              858 non-null    int64  \n",
      "dtypes: float64(26), int64(10)\n",
      "memory usage: 241.4 KB\n"
     ]
    }
   ],
   "source": [
    "risk_factor_df = pd.read_csv(\"risk_factors_cervical_cancer.csv\", \n",
    "            na_values=[\"?\"])\n",
    "\n",
    "print(\"----------------------------------- Information -----------------------------------\")\n",
    "risk_factor_df.info()"
   ]
  },
  {
   "cell_type": "markdown",
   "metadata": {},
   "source": [
    "## Preliminary analysis of the dataset\n",
    "\n",
    "To gain a better understanding of the dataset, we conducted a preliminary analysis.\n",
    "### Missing Values\n",
    "\n",
    "First, we needed to find the volume of missing values contained in the dataset as well as the features that contained the largest amount."
   ]
  },
  {
   "cell_type": "code",
   "execution_count": 107,
   "metadata": {},
   "outputs": [
    {
     "name": "stdout",
     "output_type": "stream",
     "text": [
      "----------------------------------- Missing Values -----------------------------------\n",
      "\n",
      "NaN values found in the dataset.\n",
      "\n",
      "Total NaN values in dataset: 3622/30888\n",
      "\n",
      "Top 15 columns with missing values:\n",
      "\n",
      " 1. STDs: Time since last diagnosis     : 787\n",
      " 2. STDs: Time since first diagnosis    : 787\n",
      " 3. IUD                                 : 117\n",
      " 4. IUD (years)                         : 117\n",
      " 5. Hormonal Contraceptives             : 108\n",
      " 6. Hormonal Contraceptives (years)     : 108\n",
      " 7. STDs:pelvic inflammatory disease    : 105\n",
      " 8. STDs:vulvo-perineal condylomatosis  : 105\n",
      " 9. STDs:HPV                            : 105\n",
      "10. STDs:Hepatitis B                    : 105\n",
      "11. STDs:HIV                            : 105\n",
      "12. STDs:AIDS                           : 105\n",
      "13. STDs:molluscum contagiosum          : 105\n",
      "14. STDs:genital herpes                 : 105\n",
      "15. STDs:syphilis                       : 105\n"
     ]
    }
   ],
   "source": [
    "print(\"----------------------------------- Missing Values -----------------------------------\")\n",
    "missing_info = risk_factor_df.isnull().sum()\n",
    "total_nan = missing_info.sum()\n",
    "total_entries = risk_factor_df.size\n",
    "\n",
    "# Print total NaN values\n",
    "if (total_nan == 0):\n",
    "    print(\"\\nNo NaN values in the dataset.\")\n",
    "else:\n",
    "    print(\"\\nNaN values found in the dataset.\")\n",
    "\n",
    "    print(\"\\nTotal NaN values in dataset: {}/{}\".format(total_nan, total_entries))\n",
    "\n",
    "    # Sort columns by the number of missing values\n",
    "    nan_columns = missing_info.sort_values(ascending=False)\n",
    "\n",
    "    print(\"\\nTop 15 columns with missing values:\\n\")\n",
    "    for i, (col, count) in enumerate(nan_columns.head(15).items(), 1):\n",
    "        print(\"{:2}. {:35} : {:}\".format(i, col, count))"
   ]
  },
  {
   "cell_type": "code",
   "execution_count": 108,
   "metadata": {},
   "outputs": [
    {
     "data": {
      "application/vnd.plotly.v1+json": {
       "config": {
        "plotlyServerURL": "https://plot.ly"
       },
       "data": [
        {
         "domain": {
          "x": [
           0,
           1
          ],
          "y": [
           0,
           1
          ]
         },
         "hovertemplate": "label=%{label}<br>value=%{value}<extra></extra>",
         "labels": [
          "NaN values",
          "Valid Values"
         ],
         "legendgroup": "",
         "name": "",
         "showlegend": true,
         "type": "pie",
         "values": [
          3622,
          27266
         ]
        }
       ],
       "layout": {
        "height": 350,
        "legend": {
         "tracegroupgap": 0
        },
        "margin": {
         "b": 50,
         "l": 50,
         "r": 50,
         "t": 50
        },
        "piecolorway": [
         "rgb(36, 86, 104)",
         "rgb(15, 114, 121)",
         "rgb(13, 143, 129)",
         "rgb(57, 171, 126)",
         "rgb(110, 197, 116)",
         "rgb(169, 220, 103)",
         "rgb(237, 239, 93)"
        ],
        "template": {
         "data": {
          "bar": [
           {
            "error_x": {
             "color": "#2a3f5f"
            },
            "error_y": {
             "color": "#2a3f5f"
            },
            "marker": {
             "line": {
              "color": "#E5ECF6",
              "width": 0.5
             },
             "pattern": {
              "fillmode": "overlay",
              "size": 10,
              "solidity": 0.2
             }
            },
            "type": "bar"
           }
          ],
          "barpolar": [
           {
            "marker": {
             "line": {
              "color": "#E5ECF6",
              "width": 0.5
             },
             "pattern": {
              "fillmode": "overlay",
              "size": 10,
              "solidity": 0.2
             }
            },
            "type": "barpolar"
           }
          ],
          "carpet": [
           {
            "aaxis": {
             "endlinecolor": "#2a3f5f",
             "gridcolor": "white",
             "linecolor": "white",
             "minorgridcolor": "white",
             "startlinecolor": "#2a3f5f"
            },
            "baxis": {
             "endlinecolor": "#2a3f5f",
             "gridcolor": "white",
             "linecolor": "white",
             "minorgridcolor": "white",
             "startlinecolor": "#2a3f5f"
            },
            "type": "carpet"
           }
          ],
          "choropleth": [
           {
            "colorbar": {
             "outlinewidth": 0,
             "ticks": ""
            },
            "type": "choropleth"
           }
          ],
          "contour": [
           {
            "colorbar": {
             "outlinewidth": 0,
             "ticks": ""
            },
            "colorscale": [
             [
              0,
              "#0d0887"
             ],
             [
              0.1111111111111111,
              "#46039f"
             ],
             [
              0.2222222222222222,
              "#7201a8"
             ],
             [
              0.3333333333333333,
              "#9c179e"
             ],
             [
              0.4444444444444444,
              "#bd3786"
             ],
             [
              0.5555555555555556,
              "#d8576b"
             ],
             [
              0.6666666666666666,
              "#ed7953"
             ],
             [
              0.7777777777777778,
              "#fb9f3a"
             ],
             [
              0.8888888888888888,
              "#fdca26"
             ],
             [
              1,
              "#f0f921"
             ]
            ],
            "type": "contour"
           }
          ],
          "contourcarpet": [
           {
            "colorbar": {
             "outlinewidth": 0,
             "ticks": ""
            },
            "type": "contourcarpet"
           }
          ],
          "heatmap": [
           {
            "colorbar": {
             "outlinewidth": 0,
             "ticks": ""
            },
            "colorscale": [
             [
              0,
              "#0d0887"
             ],
             [
              0.1111111111111111,
              "#46039f"
             ],
             [
              0.2222222222222222,
              "#7201a8"
             ],
             [
              0.3333333333333333,
              "#9c179e"
             ],
             [
              0.4444444444444444,
              "#bd3786"
             ],
             [
              0.5555555555555556,
              "#d8576b"
             ],
             [
              0.6666666666666666,
              "#ed7953"
             ],
             [
              0.7777777777777778,
              "#fb9f3a"
             ],
             [
              0.8888888888888888,
              "#fdca26"
             ],
             [
              1,
              "#f0f921"
             ]
            ],
            "type": "heatmap"
           }
          ],
          "heatmapgl": [
           {
            "colorbar": {
             "outlinewidth": 0,
             "ticks": ""
            },
            "colorscale": [
             [
              0,
              "#0d0887"
             ],
             [
              0.1111111111111111,
              "#46039f"
             ],
             [
              0.2222222222222222,
              "#7201a8"
             ],
             [
              0.3333333333333333,
              "#9c179e"
             ],
             [
              0.4444444444444444,
              "#bd3786"
             ],
             [
              0.5555555555555556,
              "#d8576b"
             ],
             [
              0.6666666666666666,
              "#ed7953"
             ],
             [
              0.7777777777777778,
              "#fb9f3a"
             ],
             [
              0.8888888888888888,
              "#fdca26"
             ],
             [
              1,
              "#f0f921"
             ]
            ],
            "type": "heatmapgl"
           }
          ],
          "histogram": [
           {
            "marker": {
             "pattern": {
              "fillmode": "overlay",
              "size": 10,
              "solidity": 0.2
             }
            },
            "type": "histogram"
           }
          ],
          "histogram2d": [
           {
            "colorbar": {
             "outlinewidth": 0,
             "ticks": ""
            },
            "colorscale": [
             [
              0,
              "#0d0887"
             ],
             [
              0.1111111111111111,
              "#46039f"
             ],
             [
              0.2222222222222222,
              "#7201a8"
             ],
             [
              0.3333333333333333,
              "#9c179e"
             ],
             [
              0.4444444444444444,
              "#bd3786"
             ],
             [
              0.5555555555555556,
              "#d8576b"
             ],
             [
              0.6666666666666666,
              "#ed7953"
             ],
             [
              0.7777777777777778,
              "#fb9f3a"
             ],
             [
              0.8888888888888888,
              "#fdca26"
             ],
             [
              1,
              "#f0f921"
             ]
            ],
            "type": "histogram2d"
           }
          ],
          "histogram2dcontour": [
           {
            "colorbar": {
             "outlinewidth": 0,
             "ticks": ""
            },
            "colorscale": [
             [
              0,
              "#0d0887"
             ],
             [
              0.1111111111111111,
              "#46039f"
             ],
             [
              0.2222222222222222,
              "#7201a8"
             ],
             [
              0.3333333333333333,
              "#9c179e"
             ],
             [
              0.4444444444444444,
              "#bd3786"
             ],
             [
              0.5555555555555556,
              "#d8576b"
             ],
             [
              0.6666666666666666,
              "#ed7953"
             ],
             [
              0.7777777777777778,
              "#fb9f3a"
             ],
             [
              0.8888888888888888,
              "#fdca26"
             ],
             [
              1,
              "#f0f921"
             ]
            ],
            "type": "histogram2dcontour"
           }
          ],
          "mesh3d": [
           {
            "colorbar": {
             "outlinewidth": 0,
             "ticks": ""
            },
            "type": "mesh3d"
           }
          ],
          "parcoords": [
           {
            "line": {
             "colorbar": {
              "outlinewidth": 0,
              "ticks": ""
             }
            },
            "type": "parcoords"
           }
          ],
          "pie": [
           {
            "automargin": true,
            "type": "pie"
           }
          ],
          "scatter": [
           {
            "fillpattern": {
             "fillmode": "overlay",
             "size": 10,
             "solidity": 0.2
            },
            "type": "scatter"
           }
          ],
          "scatter3d": [
           {
            "line": {
             "colorbar": {
              "outlinewidth": 0,
              "ticks": ""
             }
            },
            "marker": {
             "colorbar": {
              "outlinewidth": 0,
              "ticks": ""
             }
            },
            "type": "scatter3d"
           }
          ],
          "scattercarpet": [
           {
            "marker": {
             "colorbar": {
              "outlinewidth": 0,
              "ticks": ""
             }
            },
            "type": "scattercarpet"
           }
          ],
          "scattergeo": [
           {
            "marker": {
             "colorbar": {
              "outlinewidth": 0,
              "ticks": ""
             }
            },
            "type": "scattergeo"
           }
          ],
          "scattergl": [
           {
            "marker": {
             "colorbar": {
              "outlinewidth": 0,
              "ticks": ""
             }
            },
            "type": "scattergl"
           }
          ],
          "scattermapbox": [
           {
            "marker": {
             "colorbar": {
              "outlinewidth": 0,
              "ticks": ""
             }
            },
            "type": "scattermapbox"
           }
          ],
          "scatterpolar": [
           {
            "marker": {
             "colorbar": {
              "outlinewidth": 0,
              "ticks": ""
             }
            },
            "type": "scatterpolar"
           }
          ],
          "scatterpolargl": [
           {
            "marker": {
             "colorbar": {
              "outlinewidth": 0,
              "ticks": ""
             }
            },
            "type": "scatterpolargl"
           }
          ],
          "scatterternary": [
           {
            "marker": {
             "colorbar": {
              "outlinewidth": 0,
              "ticks": ""
             }
            },
            "type": "scatterternary"
           }
          ],
          "surface": [
           {
            "colorbar": {
             "outlinewidth": 0,
             "ticks": ""
            },
            "colorscale": [
             [
              0,
              "#0d0887"
             ],
             [
              0.1111111111111111,
              "#46039f"
             ],
             [
              0.2222222222222222,
              "#7201a8"
             ],
             [
              0.3333333333333333,
              "#9c179e"
             ],
             [
              0.4444444444444444,
              "#bd3786"
             ],
             [
              0.5555555555555556,
              "#d8576b"
             ],
             [
              0.6666666666666666,
              "#ed7953"
             ],
             [
              0.7777777777777778,
              "#fb9f3a"
             ],
             [
              0.8888888888888888,
              "#fdca26"
             ],
             [
              1,
              "#f0f921"
             ]
            ],
            "type": "surface"
           }
          ],
          "table": [
           {
            "cells": {
             "fill": {
              "color": "#EBF0F8"
             },
             "line": {
              "color": "white"
             }
            },
            "header": {
             "fill": {
              "color": "#C8D4E3"
             },
             "line": {
              "color": "white"
             }
            },
            "type": "table"
           }
          ]
         },
         "layout": {
          "annotationdefaults": {
           "arrowcolor": "#2a3f5f",
           "arrowhead": 0,
           "arrowwidth": 1
          },
          "autotypenumbers": "strict",
          "coloraxis": {
           "colorbar": {
            "outlinewidth": 0,
            "ticks": ""
           }
          },
          "colorscale": {
           "diverging": [
            [
             0,
             "#8e0152"
            ],
            [
             0.1,
             "#c51b7d"
            ],
            [
             0.2,
             "#de77ae"
            ],
            [
             0.3,
             "#f1b6da"
            ],
            [
             0.4,
             "#fde0ef"
            ],
            [
             0.5,
             "#f7f7f7"
            ],
            [
             0.6,
             "#e6f5d0"
            ],
            [
             0.7,
             "#b8e186"
            ],
            [
             0.8,
             "#7fbc41"
            ],
            [
             0.9,
             "#4d9221"
            ],
            [
             1,
             "#276419"
            ]
           ],
           "sequential": [
            [
             0,
             "#0d0887"
            ],
            [
             0.1111111111111111,
             "#46039f"
            ],
            [
             0.2222222222222222,
             "#7201a8"
            ],
            [
             0.3333333333333333,
             "#9c179e"
            ],
            [
             0.4444444444444444,
             "#bd3786"
            ],
            [
             0.5555555555555556,
             "#d8576b"
            ],
            [
             0.6666666666666666,
             "#ed7953"
            ],
            [
             0.7777777777777778,
             "#fb9f3a"
            ],
            [
             0.8888888888888888,
             "#fdca26"
            ],
            [
             1,
             "#f0f921"
            ]
           ],
           "sequentialminus": [
            [
             0,
             "#0d0887"
            ],
            [
             0.1111111111111111,
             "#46039f"
            ],
            [
             0.2222222222222222,
             "#7201a8"
            ],
            [
             0.3333333333333333,
             "#9c179e"
            ],
            [
             0.4444444444444444,
             "#bd3786"
            ],
            [
             0.5555555555555556,
             "#d8576b"
            ],
            [
             0.6666666666666666,
             "#ed7953"
            ],
            [
             0.7777777777777778,
             "#fb9f3a"
            ],
            [
             0.8888888888888888,
             "#fdca26"
            ],
            [
             1,
             "#f0f921"
            ]
           ]
          },
          "colorway": [
           "#636efa",
           "#EF553B",
           "#00cc96",
           "#ab63fa",
           "#FFA15A",
           "#19d3f3",
           "#FF6692",
           "#B6E880",
           "#FF97FF",
           "#FECB52"
          ],
          "font": {
           "color": "#2a3f5f"
          },
          "geo": {
           "bgcolor": "white",
           "lakecolor": "white",
           "landcolor": "#E5ECF6",
           "showlakes": true,
           "showland": true,
           "subunitcolor": "white"
          },
          "hoverlabel": {
           "align": "left"
          },
          "hovermode": "closest",
          "mapbox": {
           "style": "light"
          },
          "paper_bgcolor": "white",
          "plot_bgcolor": "#E5ECF6",
          "polar": {
           "angularaxis": {
            "gridcolor": "white",
            "linecolor": "white",
            "ticks": ""
           },
           "bgcolor": "#E5ECF6",
           "radialaxis": {
            "gridcolor": "white",
            "linecolor": "white",
            "ticks": ""
           }
          },
          "scene": {
           "xaxis": {
            "backgroundcolor": "#E5ECF6",
            "gridcolor": "white",
            "gridwidth": 2,
            "linecolor": "white",
            "showbackground": true,
            "ticks": "",
            "zerolinecolor": "white"
           },
           "yaxis": {
            "backgroundcolor": "#E5ECF6",
            "gridcolor": "white",
            "gridwidth": 2,
            "linecolor": "white",
            "showbackground": true,
            "ticks": "",
            "zerolinecolor": "white"
           },
           "zaxis": {
            "backgroundcolor": "#E5ECF6",
            "gridcolor": "white",
            "gridwidth": 2,
            "linecolor": "white",
            "showbackground": true,
            "ticks": "",
            "zerolinecolor": "white"
           }
          },
          "shapedefaults": {
           "line": {
            "color": "#2a3f5f"
           }
          },
          "ternary": {
           "aaxis": {
            "gridcolor": "white",
            "linecolor": "white",
            "ticks": ""
           },
           "baxis": {
            "gridcolor": "white",
            "linecolor": "white",
            "ticks": ""
           },
           "bgcolor": "#E5ECF6",
           "caxis": {
            "gridcolor": "white",
            "linecolor": "white",
            "ticks": ""
           }
          },
          "title": {
           "x": 0.05
          },
          "xaxis": {
           "automargin": true,
           "gridcolor": "white",
           "linecolor": "white",
           "ticks": "",
           "title": {
            "standoff": 15
           },
           "zerolinecolor": "white",
           "zerolinewidth": 2
          },
          "yaxis": {
           "automargin": true,
           "gridcolor": "white",
           "linecolor": "white",
           "ticks": "",
           "title": {
            "standoff": 15
           },
           "zerolinecolor": "white",
           "zerolinewidth": 2
          }
         }
        },
        "title": {
         "text": "Total NaN Values Distribution",
         "x": 0.5
        },
        "width": 550
       }
      }
     },
     "metadata": {},
     "output_type": "display_data"
    }
   ],
   "source": [
    "# Plot\n",
    "total_figure = px.pie(values=[total_nan, total_entries-total_nan], names=[\"NaN values\", \"Valid Values\"],\n",
    "        color_discrete_sequence=px.colors.sequential.Aggrnyl,\n",
    "        title=\"Total NaN Values Distribution\",\n",
    "        width=550, height= 350)\n",
    "\n",
    "total_figure.update_layout(\n",
    "    margin=dict(l=50, r=50, t=50, b=50),\n",
    "    title_x=0.5    \n",
    ")\n",
    "\n",
    "total_figure.show()"
   ]
  },
  {
   "cell_type": "code",
   "execution_count": 109,
   "metadata": {},
   "outputs": [
    {
     "name": "stdout",
     "output_type": "stream",
     "text": [
      "\n",
      "Total Rows containing NaN values in dataset: 799/858\n"
     ]
    },
    {
     "data": {
      "application/vnd.plotly.v1+json": {
       "config": {
        "plotlyServerURL": "https://plot.ly"
       },
       "data": [
        {
         "labels": [
          "Has NaN Values",
          "Is Filled"
         ],
         "marker": {
          "colors": [
           "rgb(75, 41, 145)",
           "rgb(135, 44, 162)"
          ]
         },
         "type": "pie",
         "values": [
          799,
          858
         ]
        }
       ],
       "layout": {
        "height": 350,
        "margin": {
         "b": 50,
         "l": 50,
         "r": 50,
         "t": 50
        },
        "template": {
         "data": {
          "bar": [
           {
            "error_x": {
             "color": "#2a3f5f"
            },
            "error_y": {
             "color": "#2a3f5f"
            },
            "marker": {
             "line": {
              "color": "#E5ECF6",
              "width": 0.5
             },
             "pattern": {
              "fillmode": "overlay",
              "size": 10,
              "solidity": 0.2
             }
            },
            "type": "bar"
           }
          ],
          "barpolar": [
           {
            "marker": {
             "line": {
              "color": "#E5ECF6",
              "width": 0.5
             },
             "pattern": {
              "fillmode": "overlay",
              "size": 10,
              "solidity": 0.2
             }
            },
            "type": "barpolar"
           }
          ],
          "carpet": [
           {
            "aaxis": {
             "endlinecolor": "#2a3f5f",
             "gridcolor": "white",
             "linecolor": "white",
             "minorgridcolor": "white",
             "startlinecolor": "#2a3f5f"
            },
            "baxis": {
             "endlinecolor": "#2a3f5f",
             "gridcolor": "white",
             "linecolor": "white",
             "minorgridcolor": "white",
             "startlinecolor": "#2a3f5f"
            },
            "type": "carpet"
           }
          ],
          "choropleth": [
           {
            "colorbar": {
             "outlinewidth": 0,
             "ticks": ""
            },
            "type": "choropleth"
           }
          ],
          "contour": [
           {
            "colorbar": {
             "outlinewidth": 0,
             "ticks": ""
            },
            "colorscale": [
             [
              0,
              "#0d0887"
             ],
             [
              0.1111111111111111,
              "#46039f"
             ],
             [
              0.2222222222222222,
              "#7201a8"
             ],
             [
              0.3333333333333333,
              "#9c179e"
             ],
             [
              0.4444444444444444,
              "#bd3786"
             ],
             [
              0.5555555555555556,
              "#d8576b"
             ],
             [
              0.6666666666666666,
              "#ed7953"
             ],
             [
              0.7777777777777778,
              "#fb9f3a"
             ],
             [
              0.8888888888888888,
              "#fdca26"
             ],
             [
              1,
              "#f0f921"
             ]
            ],
            "type": "contour"
           }
          ],
          "contourcarpet": [
           {
            "colorbar": {
             "outlinewidth": 0,
             "ticks": ""
            },
            "type": "contourcarpet"
           }
          ],
          "heatmap": [
           {
            "colorbar": {
             "outlinewidth": 0,
             "ticks": ""
            },
            "colorscale": [
             [
              0,
              "#0d0887"
             ],
             [
              0.1111111111111111,
              "#46039f"
             ],
             [
              0.2222222222222222,
              "#7201a8"
             ],
             [
              0.3333333333333333,
              "#9c179e"
             ],
             [
              0.4444444444444444,
              "#bd3786"
             ],
             [
              0.5555555555555556,
              "#d8576b"
             ],
             [
              0.6666666666666666,
              "#ed7953"
             ],
             [
              0.7777777777777778,
              "#fb9f3a"
             ],
             [
              0.8888888888888888,
              "#fdca26"
             ],
             [
              1,
              "#f0f921"
             ]
            ],
            "type": "heatmap"
           }
          ],
          "heatmapgl": [
           {
            "colorbar": {
             "outlinewidth": 0,
             "ticks": ""
            },
            "colorscale": [
             [
              0,
              "#0d0887"
             ],
             [
              0.1111111111111111,
              "#46039f"
             ],
             [
              0.2222222222222222,
              "#7201a8"
             ],
             [
              0.3333333333333333,
              "#9c179e"
             ],
             [
              0.4444444444444444,
              "#bd3786"
             ],
             [
              0.5555555555555556,
              "#d8576b"
             ],
             [
              0.6666666666666666,
              "#ed7953"
             ],
             [
              0.7777777777777778,
              "#fb9f3a"
             ],
             [
              0.8888888888888888,
              "#fdca26"
             ],
             [
              1,
              "#f0f921"
             ]
            ],
            "type": "heatmapgl"
           }
          ],
          "histogram": [
           {
            "marker": {
             "pattern": {
              "fillmode": "overlay",
              "size": 10,
              "solidity": 0.2
             }
            },
            "type": "histogram"
           }
          ],
          "histogram2d": [
           {
            "colorbar": {
             "outlinewidth": 0,
             "ticks": ""
            },
            "colorscale": [
             [
              0,
              "#0d0887"
             ],
             [
              0.1111111111111111,
              "#46039f"
             ],
             [
              0.2222222222222222,
              "#7201a8"
             ],
             [
              0.3333333333333333,
              "#9c179e"
             ],
             [
              0.4444444444444444,
              "#bd3786"
             ],
             [
              0.5555555555555556,
              "#d8576b"
             ],
             [
              0.6666666666666666,
              "#ed7953"
             ],
             [
              0.7777777777777778,
              "#fb9f3a"
             ],
             [
              0.8888888888888888,
              "#fdca26"
             ],
             [
              1,
              "#f0f921"
             ]
            ],
            "type": "histogram2d"
           }
          ],
          "histogram2dcontour": [
           {
            "colorbar": {
             "outlinewidth": 0,
             "ticks": ""
            },
            "colorscale": [
             [
              0,
              "#0d0887"
             ],
             [
              0.1111111111111111,
              "#46039f"
             ],
             [
              0.2222222222222222,
              "#7201a8"
             ],
             [
              0.3333333333333333,
              "#9c179e"
             ],
             [
              0.4444444444444444,
              "#bd3786"
             ],
             [
              0.5555555555555556,
              "#d8576b"
             ],
             [
              0.6666666666666666,
              "#ed7953"
             ],
             [
              0.7777777777777778,
              "#fb9f3a"
             ],
             [
              0.8888888888888888,
              "#fdca26"
             ],
             [
              1,
              "#f0f921"
             ]
            ],
            "type": "histogram2dcontour"
           }
          ],
          "mesh3d": [
           {
            "colorbar": {
             "outlinewidth": 0,
             "ticks": ""
            },
            "type": "mesh3d"
           }
          ],
          "parcoords": [
           {
            "line": {
             "colorbar": {
              "outlinewidth": 0,
              "ticks": ""
             }
            },
            "type": "parcoords"
           }
          ],
          "pie": [
           {
            "automargin": true,
            "type": "pie"
           }
          ],
          "scatter": [
           {
            "fillpattern": {
             "fillmode": "overlay",
             "size": 10,
             "solidity": 0.2
            },
            "type": "scatter"
           }
          ],
          "scatter3d": [
           {
            "line": {
             "colorbar": {
              "outlinewidth": 0,
              "ticks": ""
             }
            },
            "marker": {
             "colorbar": {
              "outlinewidth": 0,
              "ticks": ""
             }
            },
            "type": "scatter3d"
           }
          ],
          "scattercarpet": [
           {
            "marker": {
             "colorbar": {
              "outlinewidth": 0,
              "ticks": ""
             }
            },
            "type": "scattercarpet"
           }
          ],
          "scattergeo": [
           {
            "marker": {
             "colorbar": {
              "outlinewidth": 0,
              "ticks": ""
             }
            },
            "type": "scattergeo"
           }
          ],
          "scattergl": [
           {
            "marker": {
             "colorbar": {
              "outlinewidth": 0,
              "ticks": ""
             }
            },
            "type": "scattergl"
           }
          ],
          "scattermapbox": [
           {
            "marker": {
             "colorbar": {
              "outlinewidth": 0,
              "ticks": ""
             }
            },
            "type": "scattermapbox"
           }
          ],
          "scatterpolar": [
           {
            "marker": {
             "colorbar": {
              "outlinewidth": 0,
              "ticks": ""
             }
            },
            "type": "scatterpolar"
           }
          ],
          "scatterpolargl": [
           {
            "marker": {
             "colorbar": {
              "outlinewidth": 0,
              "ticks": ""
             }
            },
            "type": "scatterpolargl"
           }
          ],
          "scatterternary": [
           {
            "marker": {
             "colorbar": {
              "outlinewidth": 0,
              "ticks": ""
             }
            },
            "type": "scatterternary"
           }
          ],
          "surface": [
           {
            "colorbar": {
             "outlinewidth": 0,
             "ticks": ""
            },
            "colorscale": [
             [
              0,
              "#0d0887"
             ],
             [
              0.1111111111111111,
              "#46039f"
             ],
             [
              0.2222222222222222,
              "#7201a8"
             ],
             [
              0.3333333333333333,
              "#9c179e"
             ],
             [
              0.4444444444444444,
              "#bd3786"
             ],
             [
              0.5555555555555556,
              "#d8576b"
             ],
             [
              0.6666666666666666,
              "#ed7953"
             ],
             [
              0.7777777777777778,
              "#fb9f3a"
             ],
             [
              0.8888888888888888,
              "#fdca26"
             ],
             [
              1,
              "#f0f921"
             ]
            ],
            "type": "surface"
           }
          ],
          "table": [
           {
            "cells": {
             "fill": {
              "color": "#EBF0F8"
             },
             "line": {
              "color": "white"
             }
            },
            "header": {
             "fill": {
              "color": "#C8D4E3"
             },
             "line": {
              "color": "white"
             }
            },
            "type": "table"
           }
          ]
         },
         "layout": {
          "annotationdefaults": {
           "arrowcolor": "#2a3f5f",
           "arrowhead": 0,
           "arrowwidth": 1
          },
          "autotypenumbers": "strict",
          "coloraxis": {
           "colorbar": {
            "outlinewidth": 0,
            "ticks": ""
           }
          },
          "colorscale": {
           "diverging": [
            [
             0,
             "#8e0152"
            ],
            [
             0.1,
             "#c51b7d"
            ],
            [
             0.2,
             "#de77ae"
            ],
            [
             0.3,
             "#f1b6da"
            ],
            [
             0.4,
             "#fde0ef"
            ],
            [
             0.5,
             "#f7f7f7"
            ],
            [
             0.6,
             "#e6f5d0"
            ],
            [
             0.7,
             "#b8e186"
            ],
            [
             0.8,
             "#7fbc41"
            ],
            [
             0.9,
             "#4d9221"
            ],
            [
             1,
             "#276419"
            ]
           ],
           "sequential": [
            [
             0,
             "#0d0887"
            ],
            [
             0.1111111111111111,
             "#46039f"
            ],
            [
             0.2222222222222222,
             "#7201a8"
            ],
            [
             0.3333333333333333,
             "#9c179e"
            ],
            [
             0.4444444444444444,
             "#bd3786"
            ],
            [
             0.5555555555555556,
             "#d8576b"
            ],
            [
             0.6666666666666666,
             "#ed7953"
            ],
            [
             0.7777777777777778,
             "#fb9f3a"
            ],
            [
             0.8888888888888888,
             "#fdca26"
            ],
            [
             1,
             "#f0f921"
            ]
           ],
           "sequentialminus": [
            [
             0,
             "#0d0887"
            ],
            [
             0.1111111111111111,
             "#46039f"
            ],
            [
             0.2222222222222222,
             "#7201a8"
            ],
            [
             0.3333333333333333,
             "#9c179e"
            ],
            [
             0.4444444444444444,
             "#bd3786"
            ],
            [
             0.5555555555555556,
             "#d8576b"
            ],
            [
             0.6666666666666666,
             "#ed7953"
            ],
            [
             0.7777777777777778,
             "#fb9f3a"
            ],
            [
             0.8888888888888888,
             "#fdca26"
            ],
            [
             1,
             "#f0f921"
            ]
           ]
          },
          "colorway": [
           "#636efa",
           "#EF553B",
           "#00cc96",
           "#ab63fa",
           "#FFA15A",
           "#19d3f3",
           "#FF6692",
           "#B6E880",
           "#FF97FF",
           "#FECB52"
          ],
          "font": {
           "color": "#2a3f5f"
          },
          "geo": {
           "bgcolor": "white",
           "lakecolor": "white",
           "landcolor": "#E5ECF6",
           "showlakes": true,
           "showland": true,
           "subunitcolor": "white"
          },
          "hoverlabel": {
           "align": "left"
          },
          "hovermode": "closest",
          "mapbox": {
           "style": "light"
          },
          "paper_bgcolor": "white",
          "plot_bgcolor": "#E5ECF6",
          "polar": {
           "angularaxis": {
            "gridcolor": "white",
            "linecolor": "white",
            "ticks": ""
           },
           "bgcolor": "#E5ECF6",
           "radialaxis": {
            "gridcolor": "white",
            "linecolor": "white",
            "ticks": ""
           }
          },
          "scene": {
           "xaxis": {
            "backgroundcolor": "#E5ECF6",
            "gridcolor": "white",
            "gridwidth": 2,
            "linecolor": "white",
            "showbackground": true,
            "ticks": "",
            "zerolinecolor": "white"
           },
           "yaxis": {
            "backgroundcolor": "#E5ECF6",
            "gridcolor": "white",
            "gridwidth": 2,
            "linecolor": "white",
            "showbackground": true,
            "ticks": "",
            "zerolinecolor": "white"
           },
           "zaxis": {
            "backgroundcolor": "#E5ECF6",
            "gridcolor": "white",
            "gridwidth": 2,
            "linecolor": "white",
            "showbackground": true,
            "ticks": "",
            "zerolinecolor": "white"
           }
          },
          "shapedefaults": {
           "line": {
            "color": "#2a3f5f"
           }
          },
          "ternary": {
           "aaxis": {
            "gridcolor": "white",
            "linecolor": "white",
            "ticks": ""
           },
           "baxis": {
            "gridcolor": "white",
            "linecolor": "white",
            "ticks": ""
           },
           "bgcolor": "#E5ECF6",
           "caxis": {
            "gridcolor": "white",
            "linecolor": "white",
            "ticks": ""
           }
          },
          "title": {
           "x": 0.05
          },
          "xaxis": {
           "automargin": true,
           "gridcolor": "white",
           "linecolor": "white",
           "ticks": "",
           "title": {
            "standoff": 15
           },
           "zerolinecolor": "white",
           "zerolinewidth": 2
          },
          "yaxis": {
           "automargin": true,
           "gridcolor": "white",
           "linecolor": "white",
           "ticks": "",
           "title": {
            "standoff": 15
           },
           "zerolinecolor": "white",
           "zerolinewidth": 2
          }
         }
        },
        "title": {
         "text": "NaN Containing Rows Distribution",
         "x": 0.5
        },
        "width": 550
       }
      }
     },
     "metadata": {},
     "output_type": "display_data"
    }
   ],
   "source": [
    "# Rows containing NaN values\n",
    "total_rows = len(risk_factor_df)\n",
    "nan_rows = risk_factor_df.isna().any(axis=1).tolist().count(True)\n",
    "print(\"\\nTotal Rows containing NaN values in dataset: {}/{}\".format(nan_rows, total_rows))\n",
    "\n",
    "rows_fig=go.Figure(data=[go.Pie(labels=[\"Has NaN Values\",\"Is Filled\"],\n",
    "    values=[nan_rows, total_rows],\n",
    "    marker_colors=[px.colors.sequential.Agsunset[0], px.colors.sequential.Agsunset[1]])])\n",
    "\n",
    "rows_fig.update_layout(\n",
    "    title=\"NaN Containing Rows Distribution\",\n",
    "    margin=dict(l=50, r=50, t=50, b=50),\n",
    "    title_x=0.5,\n",
    "    width=550, height= 350    \n",
    ")\n",
    "\n",
    "rows_fig.show()"
   ]
  },
  {
   "cell_type": "markdown",
   "metadata": {},
   "source": [
    "We identified that the features “STDs: Time since first diagnosis” and “STDs: Time since last diagnosis” were filled with NaN values of about 92%. Because of the high percentage, it was impractical to either eliminate the affected observations or fill the missing values with the mean of columns. Consequently, these features were excluded from the dataset."
   ]
  },
  {
   "cell_type": "code",
   "execution_count": 110,
   "metadata": {},
   "outputs": [],
   "source": [
    "risk_factor_df.drop(columns=[\"STDs: Time since first diagnosis\", \"STDs: Time since last diagnosis\"], inplace=True)"
   ]
  },
  {
   "cell_type": "markdown",
   "metadata": {},
   "source": [
    "To ensure the optimal performance of future models, we also set a missing value threshold of 10 per row. Any rows that exceeded this threshold were eliminated from the dataset because we determined they were missing significant information."
   ]
  },
  {
   "cell_type": "code",
   "execution_count": 111,
   "metadata": {},
   "outputs": [
    {
     "name": "stdout",
     "output_type": "stream",
     "text": [
      "\n",
      "Total Rows containing NaN values in dataset: 190/858\n",
      "\n",
      "Rows containing >10 NaN values: 105/858\n"
     ]
    }
   ],
   "source": [
    "# Rows containing NaN values\n",
    "nan_rows = risk_factor_df.isna().any(axis=1).tolist().count(True)\n",
    "print(\"\\nTotal Rows containing NaN values in dataset: {}/{}\".format(nan_rows, total_rows))\n",
    "\n",
    "# Find rows that contain more than 10 NaN values\n",
    "rows_to_del = risk_factor_df[risk_factor_df.isna().sum(axis=1) > 10].index\n",
    "\n",
    "print(\"\\nRows containing >10 NaN values: {}/{}\".format(len(rows_to_del), total_rows))\n",
    "\n",
    "# Remove rows\n",
    "risk_factor_df.drop(rows_to_del, inplace=True)\n",
    "risk_factor_df.reset_index(drop=True, inplace=True)"
   ]
  },
  {
   "cell_type": "code",
   "execution_count": 112,
   "metadata": {},
   "outputs": [
    {
     "data": {
      "application/vnd.plotly.v1+json": {
       "config": {
        "plotlyServerURL": "https://plot.ly"
       },
       "data": [
        {
         "domain": {
          "x": [
           0,
           0.45
          ],
          "y": [
           0,
           1
          ]
         },
         "labels": [
          "Has NaN Values",
          "Is Filled"
         ],
         "marker": {
          "colors": [
           "rgb(75, 41, 145)",
           "rgb(135, 44, 162)"
          ]
         },
         "pull": [
          0.1,
          0
         ],
         "type": "pie",
         "values": [
          190,
          668
         ]
        },
        {
         "domain": {
          "x": [
           0.55,
           1
          ],
          "y": [
           0,
           1
          ]
         },
         "labels": [
          ">10 NaN",
          "<10 NaN"
         ],
         "marker": {
          "colors": [
           "rgb(192, 54, 157)",
           "rgb(234, 79, 136)"
          ]
         },
         "type": "pie",
         "values": [
          105,
          85
         ]
        }
       ],
       "layout": {
        "annotations": [
         {
          "font": {
           "size": 16
          },
          "showarrow": false,
          "text": "Contain NaN Values",
          "x": 0.225,
          "xanchor": "center",
          "xref": "paper",
          "y": 1,
          "yanchor": "bottom",
          "yref": "paper"
         },
         {
          "font": {
           "size": 16
          },
          "showarrow": false,
          "text": "Contain >10 NaN Values",
          "x": 0.775,
          "xanchor": "center",
          "xref": "paper",
          "y": 1,
          "yanchor": "bottom",
          "yref": "paper"
         }
        ],
        "height": 400,
        "template": {
         "data": {
          "bar": [
           {
            "error_x": {
             "color": "#2a3f5f"
            },
            "error_y": {
             "color": "#2a3f5f"
            },
            "marker": {
             "line": {
              "color": "#E5ECF6",
              "width": 0.5
             },
             "pattern": {
              "fillmode": "overlay",
              "size": 10,
              "solidity": 0.2
             }
            },
            "type": "bar"
           }
          ],
          "barpolar": [
           {
            "marker": {
             "line": {
              "color": "#E5ECF6",
              "width": 0.5
             },
             "pattern": {
              "fillmode": "overlay",
              "size": 10,
              "solidity": 0.2
             }
            },
            "type": "barpolar"
           }
          ],
          "carpet": [
           {
            "aaxis": {
             "endlinecolor": "#2a3f5f",
             "gridcolor": "white",
             "linecolor": "white",
             "minorgridcolor": "white",
             "startlinecolor": "#2a3f5f"
            },
            "baxis": {
             "endlinecolor": "#2a3f5f",
             "gridcolor": "white",
             "linecolor": "white",
             "minorgridcolor": "white",
             "startlinecolor": "#2a3f5f"
            },
            "type": "carpet"
           }
          ],
          "choropleth": [
           {
            "colorbar": {
             "outlinewidth": 0,
             "ticks": ""
            },
            "type": "choropleth"
           }
          ],
          "contour": [
           {
            "colorbar": {
             "outlinewidth": 0,
             "ticks": ""
            },
            "colorscale": [
             [
              0,
              "#0d0887"
             ],
             [
              0.1111111111111111,
              "#46039f"
             ],
             [
              0.2222222222222222,
              "#7201a8"
             ],
             [
              0.3333333333333333,
              "#9c179e"
             ],
             [
              0.4444444444444444,
              "#bd3786"
             ],
             [
              0.5555555555555556,
              "#d8576b"
             ],
             [
              0.6666666666666666,
              "#ed7953"
             ],
             [
              0.7777777777777778,
              "#fb9f3a"
             ],
             [
              0.8888888888888888,
              "#fdca26"
             ],
             [
              1,
              "#f0f921"
             ]
            ],
            "type": "contour"
           }
          ],
          "contourcarpet": [
           {
            "colorbar": {
             "outlinewidth": 0,
             "ticks": ""
            },
            "type": "contourcarpet"
           }
          ],
          "heatmap": [
           {
            "colorbar": {
             "outlinewidth": 0,
             "ticks": ""
            },
            "colorscale": [
             [
              0,
              "#0d0887"
             ],
             [
              0.1111111111111111,
              "#46039f"
             ],
             [
              0.2222222222222222,
              "#7201a8"
             ],
             [
              0.3333333333333333,
              "#9c179e"
             ],
             [
              0.4444444444444444,
              "#bd3786"
             ],
             [
              0.5555555555555556,
              "#d8576b"
             ],
             [
              0.6666666666666666,
              "#ed7953"
             ],
             [
              0.7777777777777778,
              "#fb9f3a"
             ],
             [
              0.8888888888888888,
              "#fdca26"
             ],
             [
              1,
              "#f0f921"
             ]
            ],
            "type": "heatmap"
           }
          ],
          "heatmapgl": [
           {
            "colorbar": {
             "outlinewidth": 0,
             "ticks": ""
            },
            "colorscale": [
             [
              0,
              "#0d0887"
             ],
             [
              0.1111111111111111,
              "#46039f"
             ],
             [
              0.2222222222222222,
              "#7201a8"
             ],
             [
              0.3333333333333333,
              "#9c179e"
             ],
             [
              0.4444444444444444,
              "#bd3786"
             ],
             [
              0.5555555555555556,
              "#d8576b"
             ],
             [
              0.6666666666666666,
              "#ed7953"
             ],
             [
              0.7777777777777778,
              "#fb9f3a"
             ],
             [
              0.8888888888888888,
              "#fdca26"
             ],
             [
              1,
              "#f0f921"
             ]
            ],
            "type": "heatmapgl"
           }
          ],
          "histogram": [
           {
            "marker": {
             "pattern": {
              "fillmode": "overlay",
              "size": 10,
              "solidity": 0.2
             }
            },
            "type": "histogram"
           }
          ],
          "histogram2d": [
           {
            "colorbar": {
             "outlinewidth": 0,
             "ticks": ""
            },
            "colorscale": [
             [
              0,
              "#0d0887"
             ],
             [
              0.1111111111111111,
              "#46039f"
             ],
             [
              0.2222222222222222,
              "#7201a8"
             ],
             [
              0.3333333333333333,
              "#9c179e"
             ],
             [
              0.4444444444444444,
              "#bd3786"
             ],
             [
              0.5555555555555556,
              "#d8576b"
             ],
             [
              0.6666666666666666,
              "#ed7953"
             ],
             [
              0.7777777777777778,
              "#fb9f3a"
             ],
             [
              0.8888888888888888,
              "#fdca26"
             ],
             [
              1,
              "#f0f921"
             ]
            ],
            "type": "histogram2d"
           }
          ],
          "histogram2dcontour": [
           {
            "colorbar": {
             "outlinewidth": 0,
             "ticks": ""
            },
            "colorscale": [
             [
              0,
              "#0d0887"
             ],
             [
              0.1111111111111111,
              "#46039f"
             ],
             [
              0.2222222222222222,
              "#7201a8"
             ],
             [
              0.3333333333333333,
              "#9c179e"
             ],
             [
              0.4444444444444444,
              "#bd3786"
             ],
             [
              0.5555555555555556,
              "#d8576b"
             ],
             [
              0.6666666666666666,
              "#ed7953"
             ],
             [
              0.7777777777777778,
              "#fb9f3a"
             ],
             [
              0.8888888888888888,
              "#fdca26"
             ],
             [
              1,
              "#f0f921"
             ]
            ],
            "type": "histogram2dcontour"
           }
          ],
          "mesh3d": [
           {
            "colorbar": {
             "outlinewidth": 0,
             "ticks": ""
            },
            "type": "mesh3d"
           }
          ],
          "parcoords": [
           {
            "line": {
             "colorbar": {
              "outlinewidth": 0,
              "ticks": ""
             }
            },
            "type": "parcoords"
           }
          ],
          "pie": [
           {
            "automargin": true,
            "type": "pie"
           }
          ],
          "scatter": [
           {
            "fillpattern": {
             "fillmode": "overlay",
             "size": 10,
             "solidity": 0.2
            },
            "type": "scatter"
           }
          ],
          "scatter3d": [
           {
            "line": {
             "colorbar": {
              "outlinewidth": 0,
              "ticks": ""
             }
            },
            "marker": {
             "colorbar": {
              "outlinewidth": 0,
              "ticks": ""
             }
            },
            "type": "scatter3d"
           }
          ],
          "scattercarpet": [
           {
            "marker": {
             "colorbar": {
              "outlinewidth": 0,
              "ticks": ""
             }
            },
            "type": "scattercarpet"
           }
          ],
          "scattergeo": [
           {
            "marker": {
             "colorbar": {
              "outlinewidth": 0,
              "ticks": ""
             }
            },
            "type": "scattergeo"
           }
          ],
          "scattergl": [
           {
            "marker": {
             "colorbar": {
              "outlinewidth": 0,
              "ticks": ""
             }
            },
            "type": "scattergl"
           }
          ],
          "scattermapbox": [
           {
            "marker": {
             "colorbar": {
              "outlinewidth": 0,
              "ticks": ""
             }
            },
            "type": "scattermapbox"
           }
          ],
          "scatterpolar": [
           {
            "marker": {
             "colorbar": {
              "outlinewidth": 0,
              "ticks": ""
             }
            },
            "type": "scatterpolar"
           }
          ],
          "scatterpolargl": [
           {
            "marker": {
             "colorbar": {
              "outlinewidth": 0,
              "ticks": ""
             }
            },
            "type": "scatterpolargl"
           }
          ],
          "scatterternary": [
           {
            "marker": {
             "colorbar": {
              "outlinewidth": 0,
              "ticks": ""
             }
            },
            "type": "scatterternary"
           }
          ],
          "surface": [
           {
            "colorbar": {
             "outlinewidth": 0,
             "ticks": ""
            },
            "colorscale": [
             [
              0,
              "#0d0887"
             ],
             [
              0.1111111111111111,
              "#46039f"
             ],
             [
              0.2222222222222222,
              "#7201a8"
             ],
             [
              0.3333333333333333,
              "#9c179e"
             ],
             [
              0.4444444444444444,
              "#bd3786"
             ],
             [
              0.5555555555555556,
              "#d8576b"
             ],
             [
              0.6666666666666666,
              "#ed7953"
             ],
             [
              0.7777777777777778,
              "#fb9f3a"
             ],
             [
              0.8888888888888888,
              "#fdca26"
             ],
             [
              1,
              "#f0f921"
             ]
            ],
            "type": "surface"
           }
          ],
          "table": [
           {
            "cells": {
             "fill": {
              "color": "#EBF0F8"
             },
             "line": {
              "color": "white"
             }
            },
            "header": {
             "fill": {
              "color": "#C8D4E3"
             },
             "line": {
              "color": "white"
             }
            },
            "type": "table"
           }
          ]
         },
         "layout": {
          "annotationdefaults": {
           "arrowcolor": "#2a3f5f",
           "arrowhead": 0,
           "arrowwidth": 1
          },
          "autotypenumbers": "strict",
          "coloraxis": {
           "colorbar": {
            "outlinewidth": 0,
            "ticks": ""
           }
          },
          "colorscale": {
           "diverging": [
            [
             0,
             "#8e0152"
            ],
            [
             0.1,
             "#c51b7d"
            ],
            [
             0.2,
             "#de77ae"
            ],
            [
             0.3,
             "#f1b6da"
            ],
            [
             0.4,
             "#fde0ef"
            ],
            [
             0.5,
             "#f7f7f7"
            ],
            [
             0.6,
             "#e6f5d0"
            ],
            [
             0.7,
             "#b8e186"
            ],
            [
             0.8,
             "#7fbc41"
            ],
            [
             0.9,
             "#4d9221"
            ],
            [
             1,
             "#276419"
            ]
           ],
           "sequential": [
            [
             0,
             "#0d0887"
            ],
            [
             0.1111111111111111,
             "#46039f"
            ],
            [
             0.2222222222222222,
             "#7201a8"
            ],
            [
             0.3333333333333333,
             "#9c179e"
            ],
            [
             0.4444444444444444,
             "#bd3786"
            ],
            [
             0.5555555555555556,
             "#d8576b"
            ],
            [
             0.6666666666666666,
             "#ed7953"
            ],
            [
             0.7777777777777778,
             "#fb9f3a"
            ],
            [
             0.8888888888888888,
             "#fdca26"
            ],
            [
             1,
             "#f0f921"
            ]
           ],
           "sequentialminus": [
            [
             0,
             "#0d0887"
            ],
            [
             0.1111111111111111,
             "#46039f"
            ],
            [
             0.2222222222222222,
             "#7201a8"
            ],
            [
             0.3333333333333333,
             "#9c179e"
            ],
            [
             0.4444444444444444,
             "#bd3786"
            ],
            [
             0.5555555555555556,
             "#d8576b"
            ],
            [
             0.6666666666666666,
             "#ed7953"
            ],
            [
             0.7777777777777778,
             "#fb9f3a"
            ],
            [
             0.8888888888888888,
             "#fdca26"
            ],
            [
             1,
             "#f0f921"
            ]
           ]
          },
          "colorway": [
           "#636efa",
           "#EF553B",
           "#00cc96",
           "#ab63fa",
           "#FFA15A",
           "#19d3f3",
           "#FF6692",
           "#B6E880",
           "#FF97FF",
           "#FECB52"
          ],
          "font": {
           "color": "#2a3f5f"
          },
          "geo": {
           "bgcolor": "white",
           "lakecolor": "white",
           "landcolor": "#E5ECF6",
           "showlakes": true,
           "showland": true,
           "subunitcolor": "white"
          },
          "hoverlabel": {
           "align": "left"
          },
          "hovermode": "closest",
          "mapbox": {
           "style": "light"
          },
          "paper_bgcolor": "white",
          "plot_bgcolor": "#E5ECF6",
          "polar": {
           "angularaxis": {
            "gridcolor": "white",
            "linecolor": "white",
            "ticks": ""
           },
           "bgcolor": "#E5ECF6",
           "radialaxis": {
            "gridcolor": "white",
            "linecolor": "white",
            "ticks": ""
           }
          },
          "scene": {
           "xaxis": {
            "backgroundcolor": "#E5ECF6",
            "gridcolor": "white",
            "gridwidth": 2,
            "linecolor": "white",
            "showbackground": true,
            "ticks": "",
            "zerolinecolor": "white"
           },
           "yaxis": {
            "backgroundcolor": "#E5ECF6",
            "gridcolor": "white",
            "gridwidth": 2,
            "linecolor": "white",
            "showbackground": true,
            "ticks": "",
            "zerolinecolor": "white"
           },
           "zaxis": {
            "backgroundcolor": "#E5ECF6",
            "gridcolor": "white",
            "gridwidth": 2,
            "linecolor": "white",
            "showbackground": true,
            "ticks": "",
            "zerolinecolor": "white"
           }
          },
          "shapedefaults": {
           "line": {
            "color": "#2a3f5f"
           }
          },
          "ternary": {
           "aaxis": {
            "gridcolor": "white",
            "linecolor": "white",
            "ticks": ""
           },
           "baxis": {
            "gridcolor": "white",
            "linecolor": "white",
            "ticks": ""
           },
           "bgcolor": "#E5ECF6",
           "caxis": {
            "gridcolor": "white",
            "linecolor": "white",
            "ticks": ""
           }
          },
          "title": {
           "x": 0.05
          },
          "xaxis": {
           "automargin": true,
           "gridcolor": "white",
           "linecolor": "white",
           "ticks": "",
           "title": {
            "standoff": 15
           },
           "zerolinecolor": "white",
           "zerolinewidth": 2
          },
          "yaxis": {
           "automargin": true,
           "gridcolor": "white",
           "linecolor": "white",
           "ticks": "",
           "title": {
            "standoff": 15
           },
           "zerolinecolor": "white",
           "zerolinewidth": 2
          }
         }
        },
        "title": {
         "text": "Rows Containing NaN Values",
         "x": 0.5
        },
        "width": 650
       }
      }
     },
     "metadata": {},
     "output_type": "display_data"
    }
   ],
   "source": [
    "#Plot\n",
    "color_1 = [px.colors.sequential.Agsunset[0], px.colors.sequential.Agsunset[1]]\n",
    "color_2 = [px.colors.sequential.Agsunset[2], px.colors.sequential.Agsunset[3]]\n",
    "\n",
    "\n",
    "row_figure = make_subplots(1, 2, specs=[[{\"type\":\"domain\"}, {\"type\":\"domain\"}]],\n",
    "    subplot_titles=[\"Contain NaN Values\", \"Contain >10 NaN Values\"])\n",
    "\n",
    "row_figure.add_trace(go.Pie(labels=[\"Has NaN Values\",\"Is Filled\"],\n",
    "    values=[nan_rows, total_rows - nan_rows],\n",
    "    marker_colors=color_1,\n",
    "    pull=[0.1, 0]), 1, 1)\n",
    "\n",
    "row_figure.add_trace(go.Pie(labels=[\">10 NaN\", \"<10 NaN\"],\n",
    "    values=[len(rows_to_del), nan_rows - len(rows_to_del)],\n",
    "    marker_colors=color_2), 1, 2)\n",
    "\n",
    "row_figure.update_layout(title_text=\"Rows Containing NaN Values\",\n",
    "    width=650, height= 400,\n",
    "    title_x=0.5)\n",
    "\n",
    "row_figure.show()"
   ]
  },
  {
   "cell_type": "markdown",
   "metadata": {},
   "source": [
    "For the remaining columns, we managed the missing values depending on the column. In more detail, if the column contained binary values (0,1) then the row containing the missing value was deleted. Otherwise, the missing value was replaced with the mean of the column."
   ]
  },
  {
   "cell_type": "code",
   "execution_count": 113,
   "metadata": {},
   "outputs": [
    {
     "name": "stdout",
     "output_type": "stream",
     "text": [
      "--------------------------- Handling Missing Values ---------------------------\n",
      "----------------------------------- BEFORE -----------------------------------\n",
      "Number of rows before filling missing values:  753\n",
      "\n",
      "Number of missing values per column before filling:\n",
      "Age                                    0\n",
      "Number of sexual partners             14\n",
      "First sexual intercourse               6\n",
      "Num of pregnancies                    47\n",
      "Smokes                                10\n",
      "Smokes (years)                        10\n",
      "Smokes (packs/year)                   10\n",
      "Hormonal Contraceptives               13\n",
      "Hormonal Contraceptives (years)       13\n",
      "IUD                                   16\n",
      "IUD (years)                           16\n",
      "STDs                                   0\n",
      "STDs (number)                          0\n",
      "STDs:condylomatosis                    0\n",
      "STDs:cervical condylomatosis           0\n",
      "STDs:vaginal condylomatosis            0\n",
      "STDs:vulvo-perineal condylomatosis     0\n",
      "STDs:syphilis                          0\n",
      "STDs:pelvic inflammatory disease       0\n",
      "STDs:genital herpes                    0\n",
      "STDs:molluscum contagiosum             0\n",
      "STDs:AIDS                              0\n",
      "STDs:HIV                               0\n",
      "STDs:Hepatitis B                       0\n",
      "STDs:HPV                               0\n",
      "STDs: Number of diagnosis              0\n",
      "Dx:Cancer                              0\n",
      "Dx:CIN                                 0\n",
      "Dx:HPV                                 0\n",
      "Dx                                     0\n",
      "Hinselmann                             0\n",
      "Schiller                               0\n",
      "Citology                               0\n",
      "Biopsy                                 0\n",
      "dtype: int64\n"
     ]
    }
   ],
   "source": [
    "print(\"--------------------------- Handling Missing Values ---------------------------\")\n",
    "print(\"----------------------------------- BEFORE -----------------------------------\")\n",
    "print(\"Number of rows before filling missing values: \", len(risk_factor_df))\n",
    "\n",
    "# Display the number of missing values before filling\n",
    "print(\"\\nNumber of missing values per column before filling:\")\n",
    "print(risk_factor_df.isnull().sum())\n",
    "\n",
    "# Fill missing values depending on the column\n",
    "for col in risk_factor_df.columns:\n",
    "    # If the column has more than 3 unique values, fill with mean of the column\n",
    "    if risk_factor_df[col].nunique() > 3:\n",
    "        risk_factor_df[col].fillna(risk_factor_df[col].median(), inplace=True)\n",
    "    \n",
    "# Drop rest NaN containing rows\n",
    "risk_factor_df=risk_factor_df.dropna()\n",
    "risk_factor_df.reset_index(drop=True, inplace=True)"
   ]
  },
  {
   "cell_type": "code",
   "execution_count": 114,
   "metadata": {},
   "outputs": [
    {
     "name": "stdout",
     "output_type": "stream",
     "text": [
      "\n",
      "----------------------------------- AFTER -----------------------------------\n",
      "Number of rows after filling missing values:  726\n",
      "\n",
      "Number of missing values per column after filling:\n",
      "Age                                   0\n",
      "Number of sexual partners             0\n",
      "First sexual intercourse              0\n",
      "Num of pregnancies                    0\n",
      "Smokes                                0\n",
      "Smokes (years)                        0\n",
      "Smokes (packs/year)                   0\n",
      "Hormonal Contraceptives               0\n",
      "Hormonal Contraceptives (years)       0\n",
      "IUD                                   0\n",
      "IUD (years)                           0\n",
      "STDs                                  0\n",
      "STDs (number)                         0\n",
      "STDs:condylomatosis                   0\n",
      "STDs:cervical condylomatosis          0\n",
      "STDs:vaginal condylomatosis           0\n",
      "STDs:vulvo-perineal condylomatosis    0\n",
      "STDs:syphilis                         0\n",
      "STDs:pelvic inflammatory disease      0\n",
      "STDs:genital herpes                   0\n",
      "STDs:molluscum contagiosum            0\n",
      "STDs:AIDS                             0\n",
      "STDs:HIV                              0\n",
      "STDs:Hepatitis B                      0\n",
      "STDs:HPV                              0\n",
      "STDs: Number of diagnosis             0\n",
      "Dx:Cancer                             0\n",
      "Dx:CIN                                0\n",
      "Dx:HPV                                0\n",
      "Dx                                    0\n",
      "Hinselmann                            0\n",
      "Schiller                              0\n",
      "Citology                              0\n",
      "Biopsy                                0\n",
      "dtype: int64\n"
     ]
    }
   ],
   "source": [
    "print(\"\\n----------------------------------- AFTER -----------------------------------\")\n",
    "print(\"Number of rows after filling missing values: \", len(risk_factor_df))\n",
    "\n",
    "# Display the number of missing values after filling\n",
    "print(\"\\nNumber of missing values per column after filling:\")\n",
    "print(risk_factor_df.isnull().sum())"
   ]
  },
  {
   "attachments": {},
   "cell_type": "markdown",
   "metadata": {},
   "source": [
    "### Duplicate Rows\n",
    "\n",
    "Following the missing value analysis, we examined if the dataset contained any duplicate rows and removed them from the dataset."
   ]
  },
  {
   "cell_type": "code",
   "execution_count": 115,
   "metadata": {},
   "outputs": [
    {
     "name": "stdout",
     "output_type": "stream",
     "text": [
      "----------------------------------- Duplicate Rows -----------------------------------\n",
      "Found 18 duplicate rows in the dataset.\n",
      "\n",
      "Duplicate rows indexes: [ 63 222 296 332 340 360 364 368 370 377 387 405 441 447 480 484 536 607]\n",
      "\n",
      "----------------------------- Removing Duplicates ----------------------------\n",
      "----------------------------------- BEFORE -----------------------------------\n",
      "Number of rows before removing duplicates:  726\n",
      "\n",
      "----------------------------------- AFTER -----------------------------------\n",
      "Number of rows after removing duplicates:  708\n"
     ]
    }
   ],
   "source": [
    "print(\"----------------------------------- Duplicate Rows -----------------------------------\")\n",
    "# Check for duplicate rows\n",
    "duplicate_rows = risk_factor_df.duplicated()\n",
    "\n",
    "# Count the number of duplicate rows\n",
    "num_duplicates = duplicate_rows.sum()\n",
    "\n",
    "if num_duplicates == 0:\n",
    "    print(\"No duplicate rows found in the dataset.\")\n",
    "else:\n",
    "    print(f\"Found {num_duplicates} duplicate rows in the dataset.\\n\")\n",
    "\n",
    "    # Display the duplicate rows indexes (if any)\n",
    "    print(\"Duplicate rows indexes: {}\\n\".format(risk_factor_df[duplicate_rows].index.values))\n",
    "\n",
    "    # Removing duplicate rows\n",
    "    print(\"----------------------------- Removing Duplicates ----------------------------\")\n",
    "    print(\"----------------------------------- BEFORE -----------------------------------\")\n",
    "    print(\"Number of rows before removing duplicates: \", len(risk_factor_df))\n",
    "\n",
    "    risk_factor_df.drop_duplicates(inplace=True)\n",
    "    risk_factor_df.reset_index(drop=True, inplace=True)\n",
    "\n",
    "    print(\"\\n----------------------------------- AFTER -----------------------------------\")\n",
    "    print(\"Number of rows after removing duplicates: \", len(risk_factor_df))\n"
   ]
  },
  {
   "cell_type": "markdown",
   "metadata": {},
   "source": [
    "This concluded the first phase of the preliminary analysis. After managing all the missing values and duplicate rows, the dataset had 34 features and 708 observations."
   ]
  },
  {
   "cell_type": "code",
   "execution_count": 116,
   "metadata": {},
   "outputs": [
    {
     "name": "stdout",
     "output_type": "stream",
     "text": [
      "\n",
      "Final dataset size: 34 cols, 708 rows\n"
     ]
    }
   ],
   "source": [
    "print(\"\\nFinal dataset size: {} cols, {} rows\".format(risk_factor_df.shape[1], risk_factor_df.shape[0]))"
   ]
  },
  {
   "cell_type": "markdown",
   "metadata": {},
   "source": [
    "## Understanding features\n",
    "\n",
    "Once the first part of the analysis was completed, we moved on to exploring the features and some statistical properties of the dataset. This would allow us to identify possible connections between the features as well as possible imbalances.\n",
    "\n",
    "#### Unique Features"
   ]
  },
  {
   "cell_type": "code",
   "execution_count": 117,
   "metadata": {},
   "outputs": [
    {
     "name": "stdout",
     "output_type": "stream",
     "text": [
      "----------------------------------- Unique Values -----------------------------------\n",
      "Age:\n",
      "[18 15 34 52 46 42 51 26 45 44 27 43 40 41 39 37 38 36 35 33 31 32 30 23\n",
      " 28 29 25 21 24 22 20 48 19 17 16 14 59 79 84 47 13 70 50 49]\n",
      "int64\n",
      "\n",
      "Number of sexual partners:\n",
      "[     4      1      5      3      2      6      8      7     28      9]\n",
      "float64\n",
      "\n",
      "First sexual intercourse:\n",
      "[    15     14     17     16     21     23     26     20     25     18\n",
      "     27     19     24     32     29     11     13     22     28     10\n",
      "     12]\n",
      "float64\n",
      "\n",
      "Num of pregnancies:\n",
      "[     1      4      2      6      3      5      8      7      0     11\n",
      "     10]\n",
      "float64\n",
      "\n",
      "Smokes:\n",
      "[     0      1]\n",
      "float64\n",
      "\n",
      "Smokes (years):\n",
      "[     0     37     34      3  1.267     12     18      7     19     21\n",
      "     13     16     15      8      4     10     22     14    0.5     11\n",
      "      2      6      5      1     32      9     24     28     20   0.16]\n",
      "float64\n",
      "\n",
      "Smokes (packs/year):\n",
      "[     0     37    3.4   0.04 0.5132    2.4      6      9    1.6     19\n",
      "     21    2.6    0.8     15      2      1    3.3    3.5  0.025   2.75\n",
      "     12    0.2    1.4    2.1    0.7    1.2    7.5   1.25      3   0.75\n",
      "    0.1      8   2.25  0.003      7   0.15   0.05      5   0.25    4.8\n",
      "    4.5    0.4   0.37    2.2   0.16    0.9     22   1.35    0.5    2.5\n",
      "      4    1.3   1.65    2.7    2.8  0.001    5.5    0.3]\n",
      "float64\n",
      "\n",
      "Hormonal Contraceptives:\n",
      "[     0      1]\n",
      "float64\n",
      "\n",
      "Hormonal Contraceptives (years):\n",
      "[     0      3     15      2      8     10      5   0.25      7     22\n",
      "     19    0.5      1   0.58      9     13     11      4     12     16\n",
      "   0.33   0.16     14   0.08 2.2822   0.66      6    1.5   0.42   0.67\n",
      "   0.75    2.5    4.5    6.5   0.17     20    3.5   0.41     17]\n",
      "float64\n",
      "\n",
      "IUD:\n",
      "[     0      1]\n",
      "float64\n",
      "\n",
      "IUD (years):\n",
      "[     0      7      5      8      6      1   0.58      2     19    0.5\n",
      "     17   0.08   0.25     10     11      3     15     12      9    1.5\n",
      "   0.91      4   0.33   0.41   0.16   0.17]\n",
      "float64\n",
      "\n",
      "STDs:\n",
      "[     0      1]\n",
      "float64\n",
      "\n",
      "STDs (number):\n",
      "[     0      2      1      3      4]\n",
      "float64\n",
      "\n",
      "STDs:condylomatosis:\n",
      "[     0      1]\n",
      "float64\n",
      "\n",
      "STDs:cervical condylomatosis:\n",
      "[     0]\n",
      "float64\n",
      "\n",
      "STDs:vaginal condylomatosis:\n",
      "[     0      1]\n",
      "float64\n",
      "\n",
      "STDs:vulvo-perineal condylomatosis:\n",
      "[     0      1]\n",
      "float64\n",
      "\n",
      "STDs:syphilis:\n",
      "[     0      1]\n",
      "float64\n",
      "\n",
      "STDs:pelvic inflammatory disease:\n",
      "[     0      1]\n",
      "float64\n",
      "\n",
      "STDs:genital herpes:\n",
      "[     0      1]\n",
      "float64\n",
      "\n",
      "STDs:molluscum contagiosum:\n",
      "[     0      1]\n",
      "float64\n",
      "\n",
      "STDs:AIDS:\n",
      "[     0]\n",
      "float64\n",
      "\n",
      "STDs:HIV:\n",
      "[     0      1]\n",
      "float64\n",
      "\n",
      "STDs:Hepatitis B:\n",
      "[     0      1]\n",
      "float64\n",
      "\n",
      "STDs:HPV:\n",
      "[     0      1]\n",
      "float64\n",
      "\n",
      "STDs: Number of diagnosis:\n",
      "[0 1 3 2]\n",
      "int64\n",
      "\n",
      "Dx:Cancer:\n",
      "[0 1]\n",
      "int64\n",
      "\n",
      "Dx:CIN:\n",
      "[0 1]\n",
      "int64\n",
      "\n",
      "Dx:HPV:\n",
      "[0 1]\n",
      "int64\n",
      "\n",
      "Dx:\n",
      "[0 1]\n",
      "int64\n",
      "\n",
      "Hinselmann:\n",
      "[0 1]\n",
      "int64\n",
      "\n",
      "Schiller:\n",
      "[0 1]\n",
      "int64\n",
      "\n",
      "Citology:\n",
      "[0 1]\n",
      "int64\n",
      "\n",
      "Biopsy:\n",
      "[0 1]\n",
      "int64\n",
      "\n"
     ]
    }
   ],
   "source": [
    "# Function finding the unique values of each column in the dataframe\n",
    "def find_unique_values_df(feat: pd.DataFrame):\n",
    "    return {col: feat[col].unique() for col in feat}\n",
    "\n",
    "print(\"----------------------------------- Unique Values -----------------------------------\")    \n",
    "# Unique Values\n",
    "unique_vals = find_unique_values_df(risk_factor_df)\n",
    "\n",
    "# Print unique values for each column\n",
    "for col, col_unique_vals in unique_vals.items():\n",
    "    print(f\"{col}:\")\n",
    "    print(col_unique_vals)\n",
    "    print(risk_factor_df[col].dtypes)\n",
    "    print()\n"
   ]
  },
  {
   "cell_type": "markdown",
   "metadata": {},
   "source": [
    "### Target Values Distribution\n",
    "\n",
    "First, we analyzed the dataset's balance. As shown in the graph, the dataset has a large imbalance across all four target variables. This imbalance complicates model training and evaluation, and it should be handled during the preprocessing step."
   ]
  },
  {
   "cell_type": "code",
   "execution_count": 118,
   "metadata": {},
   "outputs": [
    {
     "data": {
      "application/vnd.plotly.v1+json": {
       "config": {
        "plotlyServerURL": "https://plot.ly"
       },
       "data": [
        {
         "alignmentgroup": "True",
         "bingroup": "x",
         "histfunc": "sum",
         "hovertemplate": "Result=Healthy<br>Exam=%{x}<br>sum of Occurrences=%{y}<extra></extra>",
         "legendgroup": "Healthy",
         "marker": {
          "color": "rgb(127, 60, 141)",
          "pattern": {
           "shape": ""
          }
         },
         "name": "Healthy",
         "offsetgroup": "Healthy",
         "orientation": "v",
         "showlegend": true,
         "texttemplate": "%{value}",
         "type": "histogram",
         "x": [
          "Hinselmann",
          "Schiller",
          "Citology",
          "Biopsy"
         ],
         "xaxis": "x",
         "y": [
          675,
          640,
          669,
          659
         ],
         "yaxis": "y"
        },
        {
         "alignmentgroup": "True",
         "bingroup": "x",
         "histfunc": "sum",
         "hovertemplate": "Result=Cervical Cancer<br>Exam=%{x}<br>sum of Occurrences=%{y}<extra></extra>",
         "legendgroup": "Cervical Cancer",
         "marker": {
          "color": "rgb(17, 165, 121)",
          "pattern": {
           "shape": ""
          }
         },
         "name": "Cervical Cancer",
         "offsetgroup": "Cervical Cancer",
         "orientation": "v",
         "showlegend": true,
         "texttemplate": "%{value}",
         "type": "histogram",
         "x": [
          "Hinselmann",
          "Schiller",
          "Citology",
          "Biopsy"
         ],
         "xaxis": "x",
         "y": [
          33,
          68,
          39,
          49
         ],
         "yaxis": "y"
        }
       ],
       "layout": {
        "barmode": "group",
        "legend": {
         "title": {
          "text": "Result"
         },
         "tracegroupgap": 0
        },
        "template": {
         "data": {
          "bar": [
           {
            "error_x": {
             "color": "#2a3f5f"
            },
            "error_y": {
             "color": "#2a3f5f"
            },
            "marker": {
             "line": {
              "color": "#E5ECF6",
              "width": 0.5
             },
             "pattern": {
              "fillmode": "overlay",
              "size": 10,
              "solidity": 0.2
             }
            },
            "type": "bar"
           }
          ],
          "barpolar": [
           {
            "marker": {
             "line": {
              "color": "#E5ECF6",
              "width": 0.5
             },
             "pattern": {
              "fillmode": "overlay",
              "size": 10,
              "solidity": 0.2
             }
            },
            "type": "barpolar"
           }
          ],
          "carpet": [
           {
            "aaxis": {
             "endlinecolor": "#2a3f5f",
             "gridcolor": "white",
             "linecolor": "white",
             "minorgridcolor": "white",
             "startlinecolor": "#2a3f5f"
            },
            "baxis": {
             "endlinecolor": "#2a3f5f",
             "gridcolor": "white",
             "linecolor": "white",
             "minorgridcolor": "white",
             "startlinecolor": "#2a3f5f"
            },
            "type": "carpet"
           }
          ],
          "choropleth": [
           {
            "colorbar": {
             "outlinewidth": 0,
             "ticks": ""
            },
            "type": "choropleth"
           }
          ],
          "contour": [
           {
            "colorbar": {
             "outlinewidth": 0,
             "ticks": ""
            },
            "colorscale": [
             [
              0,
              "#0d0887"
             ],
             [
              0.1111111111111111,
              "#46039f"
             ],
             [
              0.2222222222222222,
              "#7201a8"
             ],
             [
              0.3333333333333333,
              "#9c179e"
             ],
             [
              0.4444444444444444,
              "#bd3786"
             ],
             [
              0.5555555555555556,
              "#d8576b"
             ],
             [
              0.6666666666666666,
              "#ed7953"
             ],
             [
              0.7777777777777778,
              "#fb9f3a"
             ],
             [
              0.8888888888888888,
              "#fdca26"
             ],
             [
              1,
              "#f0f921"
             ]
            ],
            "type": "contour"
           }
          ],
          "contourcarpet": [
           {
            "colorbar": {
             "outlinewidth": 0,
             "ticks": ""
            },
            "type": "contourcarpet"
           }
          ],
          "heatmap": [
           {
            "colorbar": {
             "outlinewidth": 0,
             "ticks": ""
            },
            "colorscale": [
             [
              0,
              "#0d0887"
             ],
             [
              0.1111111111111111,
              "#46039f"
             ],
             [
              0.2222222222222222,
              "#7201a8"
             ],
             [
              0.3333333333333333,
              "#9c179e"
             ],
             [
              0.4444444444444444,
              "#bd3786"
             ],
             [
              0.5555555555555556,
              "#d8576b"
             ],
             [
              0.6666666666666666,
              "#ed7953"
             ],
             [
              0.7777777777777778,
              "#fb9f3a"
             ],
             [
              0.8888888888888888,
              "#fdca26"
             ],
             [
              1,
              "#f0f921"
             ]
            ],
            "type": "heatmap"
           }
          ],
          "heatmapgl": [
           {
            "colorbar": {
             "outlinewidth": 0,
             "ticks": ""
            },
            "colorscale": [
             [
              0,
              "#0d0887"
             ],
             [
              0.1111111111111111,
              "#46039f"
             ],
             [
              0.2222222222222222,
              "#7201a8"
             ],
             [
              0.3333333333333333,
              "#9c179e"
             ],
             [
              0.4444444444444444,
              "#bd3786"
             ],
             [
              0.5555555555555556,
              "#d8576b"
             ],
             [
              0.6666666666666666,
              "#ed7953"
             ],
             [
              0.7777777777777778,
              "#fb9f3a"
             ],
             [
              0.8888888888888888,
              "#fdca26"
             ],
             [
              1,
              "#f0f921"
             ]
            ],
            "type": "heatmapgl"
           }
          ],
          "histogram": [
           {
            "marker": {
             "pattern": {
              "fillmode": "overlay",
              "size": 10,
              "solidity": 0.2
             }
            },
            "type": "histogram"
           }
          ],
          "histogram2d": [
           {
            "colorbar": {
             "outlinewidth": 0,
             "ticks": ""
            },
            "colorscale": [
             [
              0,
              "#0d0887"
             ],
             [
              0.1111111111111111,
              "#46039f"
             ],
             [
              0.2222222222222222,
              "#7201a8"
             ],
             [
              0.3333333333333333,
              "#9c179e"
             ],
             [
              0.4444444444444444,
              "#bd3786"
             ],
             [
              0.5555555555555556,
              "#d8576b"
             ],
             [
              0.6666666666666666,
              "#ed7953"
             ],
             [
              0.7777777777777778,
              "#fb9f3a"
             ],
             [
              0.8888888888888888,
              "#fdca26"
             ],
             [
              1,
              "#f0f921"
             ]
            ],
            "type": "histogram2d"
           }
          ],
          "histogram2dcontour": [
           {
            "colorbar": {
             "outlinewidth": 0,
             "ticks": ""
            },
            "colorscale": [
             [
              0,
              "#0d0887"
             ],
             [
              0.1111111111111111,
              "#46039f"
             ],
             [
              0.2222222222222222,
              "#7201a8"
             ],
             [
              0.3333333333333333,
              "#9c179e"
             ],
             [
              0.4444444444444444,
              "#bd3786"
             ],
             [
              0.5555555555555556,
              "#d8576b"
             ],
             [
              0.6666666666666666,
              "#ed7953"
             ],
             [
              0.7777777777777778,
              "#fb9f3a"
             ],
             [
              0.8888888888888888,
              "#fdca26"
             ],
             [
              1,
              "#f0f921"
             ]
            ],
            "type": "histogram2dcontour"
           }
          ],
          "mesh3d": [
           {
            "colorbar": {
             "outlinewidth": 0,
             "ticks": ""
            },
            "type": "mesh3d"
           }
          ],
          "parcoords": [
           {
            "line": {
             "colorbar": {
              "outlinewidth": 0,
              "ticks": ""
             }
            },
            "type": "parcoords"
           }
          ],
          "pie": [
           {
            "automargin": true,
            "type": "pie"
           }
          ],
          "scatter": [
           {
            "fillpattern": {
             "fillmode": "overlay",
             "size": 10,
             "solidity": 0.2
            },
            "type": "scatter"
           }
          ],
          "scatter3d": [
           {
            "line": {
             "colorbar": {
              "outlinewidth": 0,
              "ticks": ""
             }
            },
            "marker": {
             "colorbar": {
              "outlinewidth": 0,
              "ticks": ""
             }
            },
            "type": "scatter3d"
           }
          ],
          "scattercarpet": [
           {
            "marker": {
             "colorbar": {
              "outlinewidth": 0,
              "ticks": ""
             }
            },
            "type": "scattercarpet"
           }
          ],
          "scattergeo": [
           {
            "marker": {
             "colorbar": {
              "outlinewidth": 0,
              "ticks": ""
             }
            },
            "type": "scattergeo"
           }
          ],
          "scattergl": [
           {
            "marker": {
             "colorbar": {
              "outlinewidth": 0,
              "ticks": ""
             }
            },
            "type": "scattergl"
           }
          ],
          "scattermapbox": [
           {
            "marker": {
             "colorbar": {
              "outlinewidth": 0,
              "ticks": ""
             }
            },
            "type": "scattermapbox"
           }
          ],
          "scatterpolar": [
           {
            "marker": {
             "colorbar": {
              "outlinewidth": 0,
              "ticks": ""
             }
            },
            "type": "scatterpolar"
           }
          ],
          "scatterpolargl": [
           {
            "marker": {
             "colorbar": {
              "outlinewidth": 0,
              "ticks": ""
             }
            },
            "type": "scatterpolargl"
           }
          ],
          "scatterternary": [
           {
            "marker": {
             "colorbar": {
              "outlinewidth": 0,
              "ticks": ""
             }
            },
            "type": "scatterternary"
           }
          ],
          "surface": [
           {
            "colorbar": {
             "outlinewidth": 0,
             "ticks": ""
            },
            "colorscale": [
             [
              0,
              "#0d0887"
             ],
             [
              0.1111111111111111,
              "#46039f"
             ],
             [
              0.2222222222222222,
              "#7201a8"
             ],
             [
              0.3333333333333333,
              "#9c179e"
             ],
             [
              0.4444444444444444,
              "#bd3786"
             ],
             [
              0.5555555555555556,
              "#d8576b"
             ],
             [
              0.6666666666666666,
              "#ed7953"
             ],
             [
              0.7777777777777778,
              "#fb9f3a"
             ],
             [
              0.8888888888888888,
              "#fdca26"
             ],
             [
              1,
              "#f0f921"
             ]
            ],
            "type": "surface"
           }
          ],
          "table": [
           {
            "cells": {
             "fill": {
              "color": "#EBF0F8"
             },
             "line": {
              "color": "white"
             }
            },
            "header": {
             "fill": {
              "color": "#C8D4E3"
             },
             "line": {
              "color": "white"
             }
            },
            "type": "table"
           }
          ]
         },
         "layout": {
          "annotationdefaults": {
           "arrowcolor": "#2a3f5f",
           "arrowhead": 0,
           "arrowwidth": 1
          },
          "autotypenumbers": "strict",
          "coloraxis": {
           "colorbar": {
            "outlinewidth": 0,
            "ticks": ""
           }
          },
          "colorscale": {
           "diverging": [
            [
             0,
             "#8e0152"
            ],
            [
             0.1,
             "#c51b7d"
            ],
            [
             0.2,
             "#de77ae"
            ],
            [
             0.3,
             "#f1b6da"
            ],
            [
             0.4,
             "#fde0ef"
            ],
            [
             0.5,
             "#f7f7f7"
            ],
            [
             0.6,
             "#e6f5d0"
            ],
            [
             0.7,
             "#b8e186"
            ],
            [
             0.8,
             "#7fbc41"
            ],
            [
             0.9,
             "#4d9221"
            ],
            [
             1,
             "#276419"
            ]
           ],
           "sequential": [
            [
             0,
             "#0d0887"
            ],
            [
             0.1111111111111111,
             "#46039f"
            ],
            [
             0.2222222222222222,
             "#7201a8"
            ],
            [
             0.3333333333333333,
             "#9c179e"
            ],
            [
             0.4444444444444444,
             "#bd3786"
            ],
            [
             0.5555555555555556,
             "#d8576b"
            ],
            [
             0.6666666666666666,
             "#ed7953"
            ],
            [
             0.7777777777777778,
             "#fb9f3a"
            ],
            [
             0.8888888888888888,
             "#fdca26"
            ],
            [
             1,
             "#f0f921"
            ]
           ],
           "sequentialminus": [
            [
             0,
             "#0d0887"
            ],
            [
             0.1111111111111111,
             "#46039f"
            ],
            [
             0.2222222222222222,
             "#7201a8"
            ],
            [
             0.3333333333333333,
             "#9c179e"
            ],
            [
             0.4444444444444444,
             "#bd3786"
            ],
            [
             0.5555555555555556,
             "#d8576b"
            ],
            [
             0.6666666666666666,
             "#ed7953"
            ],
            [
             0.7777777777777778,
             "#fb9f3a"
            ],
            [
             0.8888888888888888,
             "#fdca26"
            ],
            [
             1,
             "#f0f921"
            ]
           ]
          },
          "colorway": [
           "#636efa",
           "#EF553B",
           "#00cc96",
           "#ab63fa",
           "#FFA15A",
           "#19d3f3",
           "#FF6692",
           "#B6E880",
           "#FF97FF",
           "#FECB52"
          ],
          "font": {
           "color": "#2a3f5f"
          },
          "geo": {
           "bgcolor": "white",
           "lakecolor": "white",
           "landcolor": "#E5ECF6",
           "showlakes": true,
           "showland": true,
           "subunitcolor": "white"
          },
          "hoverlabel": {
           "align": "left"
          },
          "hovermode": "closest",
          "mapbox": {
           "style": "light"
          },
          "paper_bgcolor": "white",
          "plot_bgcolor": "#E5ECF6",
          "polar": {
           "angularaxis": {
            "gridcolor": "white",
            "linecolor": "white",
            "ticks": ""
           },
           "bgcolor": "#E5ECF6",
           "radialaxis": {
            "gridcolor": "white",
            "linecolor": "white",
            "ticks": ""
           }
          },
          "scene": {
           "xaxis": {
            "backgroundcolor": "#E5ECF6",
            "gridcolor": "white",
            "gridwidth": 2,
            "linecolor": "white",
            "showbackground": true,
            "ticks": "",
            "zerolinecolor": "white"
           },
           "yaxis": {
            "backgroundcolor": "#E5ECF6",
            "gridcolor": "white",
            "gridwidth": 2,
            "linecolor": "white",
            "showbackground": true,
            "ticks": "",
            "zerolinecolor": "white"
           },
           "zaxis": {
            "backgroundcolor": "#E5ECF6",
            "gridcolor": "white",
            "gridwidth": 2,
            "linecolor": "white",
            "showbackground": true,
            "ticks": "",
            "zerolinecolor": "white"
           }
          },
          "shapedefaults": {
           "line": {
            "color": "#2a3f5f"
           }
          },
          "ternary": {
           "aaxis": {
            "gridcolor": "white",
            "linecolor": "white",
            "ticks": ""
           },
           "baxis": {
            "gridcolor": "white",
            "linecolor": "white",
            "ticks": ""
           },
           "bgcolor": "#E5ECF6",
           "caxis": {
            "gridcolor": "white",
            "linecolor": "white",
            "ticks": ""
           }
          },
          "title": {
           "x": 0.05
          },
          "xaxis": {
           "automargin": true,
           "gridcolor": "white",
           "linecolor": "white",
           "ticks": "",
           "title": {
            "standoff": 15
           },
           "zerolinecolor": "white",
           "zerolinewidth": 2
          },
          "yaxis": {
           "automargin": true,
           "gridcolor": "white",
           "linecolor": "white",
           "ticks": "",
           "title": {
            "standoff": 15
           },
           "zerolinecolor": "white",
           "zerolinewidth": 2
          }
         }
        },
        "title": {
         "text": "Class Distribution",
         "x": 0.5
        },
        "width": 600,
        "xaxis": {
         "anchor": "y",
         "domain": [
          0,
          1
         ],
         "title": {
          "text": "Exam"
         }
        },
        "yaxis": {
         "anchor": "x",
         "domain": [
          0,
          1
         ],
         "title": {
          "text": "sum of Occurrences"
         }
        }
       }
      }
     },
     "metadata": {},
     "output_type": "display_data"
    }
   ],
   "source": [
    "def getCount(col, value):\n",
    "    return risk_factor_df[col].value_counts()[value]\n",
    "\n",
    "# Plot occurrences of each class in the dataset\n",
    "classes_df = pd.DataFrame(\n",
    "    [[\"Hinselmann\", getCount(\"Hinselmann\", 0), getCount(\"Hinselmann\", 1)],\n",
    "        [\"Schiller\", getCount(\"Schiller\", 0), getCount(\"Schiller\", 1)],\n",
    "        [\"Citology\", getCount(\"Citology\", 0), getCount(\"Citology\", 1)],\n",
    "        [\"Biopsy\", getCount(\"Biopsy\", 0), getCount(\"Biopsy\", 1)]],\n",
    "    columns =[\"Exam\", \"Healthy\", \"Cervical Cancer\"])\n",
    "\n",
    "\n",
    "balance_fig = px.histogram(classes_df, x=\"Exam\", y=[\"Healthy\", \"Cervical Cancer\"],\n",
    "    title=\"Class Distribution\",\n",
    "    labels={\n",
    "        \"value\":\"Occurrences\",\n",
    "        \"variable\": \"Result\"\n",
    "    },\n",
    "    barmode=\"group\",\n",
    "    text_auto=True,\n",
    "    color_discrete_sequence=px.colors.qualitative.Bold,\n",
    "    width=600)\n",
    "\n",
    "balance_fig.update_layout(\n",
    "    title_x=0.5    \n",
    ")\n",
    "\n",
    "balance_fig.show()"
   ]
  },
  {
   "cell_type": "markdown",
   "metadata": {},
   "source": [
    "### Statistical Properties\n",
    "\n",
    "Moving on to the statistical properties of the dataset, we calculated the mean and standard deviation for each column. Columns with a standard deviation of 0 were omitted from the dataset because they did not add significant variability to the data since they contained the same value for all observations."
   ]
  },
  {
   "cell_type": "code",
   "execution_count": 119,
   "metadata": {},
   "outputs": [
    {
     "name": "stdout",
     "output_type": "stream",
     "text": [
      "Columns containing 1 value: ['STDs:cervical condylomatosis' 'STDs:AIDS']\n",
      "\n"
     ]
    }
   ],
   "source": [
    "mean_df = risk_factor_df.mean()\n",
    "std_df = risk_factor_df.std()\n",
    "\n",
    "# Print columns that have a standard deviation 0 (contain only one value)\n",
    "print(\"Columns containing 1 value: {}\\n\".format(std_df[std_df==0].index.values))\n"
   ]
  },
  {
   "cell_type": "code",
   "execution_count": 120,
   "metadata": {},
   "outputs": [],
   "source": [
    "risk_factor_df.drop(columns=[\"STDs:cervical condylomatosis\", \"STDs:AIDS\"], inplace=True)"
   ]
  },
  {
   "cell_type": "code",
   "execution_count": 121,
   "metadata": {},
   "outputs": [
    {
     "data": {
      "application/vnd.plotly.v1+json": {
       "config": {
        "plotlyServerURL": "https://plot.ly"
       },
       "data": [
        {
         "cells": {
          "align": [
           "left",
           "center"
          ],
          "format": [
           "",
           ".2"
          ],
          "values": [
           [
            "Age",
            "Number of sexual partners",
            "First sexual intercourse",
            "Num of pregnancies",
            "Smokes",
            "Smokes (years)",
            "Smokes (packs/year)",
            "Hormonal Contraceptives",
            "Hormonal Contraceptives (years)",
            "IUD",
            "IUD (years)",
            "STDs",
            "STDs (number)",
            "STDs:condylomatosis",
            "STDs:vaginal condylomatosis",
            "STDs:vulvo-perineal condylomatosis",
            "STDs:syphilis",
            "STDs:pelvic inflammatory disease",
            "STDs:genital herpes",
            "STDs:molluscum contagiosum",
            "STDs:HIV",
            "STDs:Hepatitis B",
            "STDs:HPV",
            "STDs: Number of diagnosis",
            "Dx:Cancer",
            "Dx:CIN",
            "Dx:HPV",
            "Dx",
            "Hinselmann",
            "Schiller",
            "Citology",
            "Biopsy"
           ],
           [
            27.467514124293785,
            2.5268361581920904,
            17.12146892655367,
            2.3262711864406778,
            0.14689265536723164,
            1.274854098868644,
            0.4756082311583334,
            0.652542372881356,
            2.282463843279661,
            0.11440677966101695,
            0.5275,
            0.096045197740113,
            0.1638418079096045,
            0.05508474576271186,
            0.005649717514124294,
            0.05367231638418079,
            0.0211864406779661,
            0.0014124293785310734,
            0.0014124293785310734,
            0.0014124293785310734,
            0.01977401129943503,
            0.0014124293785310734,
            0.002824858757062147,
            0.0903954802259887,
            0.02401129943502825,
            0.00847457627118644,
            0.022598870056497175,
            0.026836158192090395,
            0.046610169491525424,
            0.096045197740113,
            0.05508474576271186,
            0.0692090395480226
           ],
           [
            8.705479003161283,
            1.6317613608018362,
            2.8412882490460936,
            1.433895277242832,
            0.35424913887395415,
            4.230413544025245,
            2.347988808141401,
            0.47649923264491406,
            3.6887807102570767,
            0.31852970846249995,
            1.9734144890020433,
            0.2948615251762057,
            0.5462930889306776,
            0.22830689448561792,
            0.07500496098579168,
            0.22552924390172,
            0.14410727670452386,
            0.03758230140014145,
            0.03758230140014156,
            0.037582301400141495,
            0.13932126764364808,
            0.03758230140014154,
            0.053111799066887795,
            0.30603244058364987,
            0.1531923747811738,
            0.09173136277782064,
            0.1487259332585119,
            0.16171863824319657,
            0.2109514527725391,
            0.2948615251762058,
            0.2283068944856179,
            0.2539887095635964
           ]
          ]
         },
         "header": {
          "values": [
           "Feature",
           "Mean",
           "Standard Deviation"
          ]
         },
         "type": "table"
        }
       ],
       "layout": {
        "template": {
         "data": {
          "bar": [
           {
            "error_x": {
             "color": "#2a3f5f"
            },
            "error_y": {
             "color": "#2a3f5f"
            },
            "marker": {
             "line": {
              "color": "#E5ECF6",
              "width": 0.5
             },
             "pattern": {
              "fillmode": "overlay",
              "size": 10,
              "solidity": 0.2
             }
            },
            "type": "bar"
           }
          ],
          "barpolar": [
           {
            "marker": {
             "line": {
              "color": "#E5ECF6",
              "width": 0.5
             },
             "pattern": {
              "fillmode": "overlay",
              "size": 10,
              "solidity": 0.2
             }
            },
            "type": "barpolar"
           }
          ],
          "carpet": [
           {
            "aaxis": {
             "endlinecolor": "#2a3f5f",
             "gridcolor": "white",
             "linecolor": "white",
             "minorgridcolor": "white",
             "startlinecolor": "#2a3f5f"
            },
            "baxis": {
             "endlinecolor": "#2a3f5f",
             "gridcolor": "white",
             "linecolor": "white",
             "minorgridcolor": "white",
             "startlinecolor": "#2a3f5f"
            },
            "type": "carpet"
           }
          ],
          "choropleth": [
           {
            "colorbar": {
             "outlinewidth": 0,
             "ticks": ""
            },
            "type": "choropleth"
           }
          ],
          "contour": [
           {
            "colorbar": {
             "outlinewidth": 0,
             "ticks": ""
            },
            "colorscale": [
             [
              0,
              "#0d0887"
             ],
             [
              0.1111111111111111,
              "#46039f"
             ],
             [
              0.2222222222222222,
              "#7201a8"
             ],
             [
              0.3333333333333333,
              "#9c179e"
             ],
             [
              0.4444444444444444,
              "#bd3786"
             ],
             [
              0.5555555555555556,
              "#d8576b"
             ],
             [
              0.6666666666666666,
              "#ed7953"
             ],
             [
              0.7777777777777778,
              "#fb9f3a"
             ],
             [
              0.8888888888888888,
              "#fdca26"
             ],
             [
              1,
              "#f0f921"
             ]
            ],
            "type": "contour"
           }
          ],
          "contourcarpet": [
           {
            "colorbar": {
             "outlinewidth": 0,
             "ticks": ""
            },
            "type": "contourcarpet"
           }
          ],
          "heatmap": [
           {
            "colorbar": {
             "outlinewidth": 0,
             "ticks": ""
            },
            "colorscale": [
             [
              0,
              "#0d0887"
             ],
             [
              0.1111111111111111,
              "#46039f"
             ],
             [
              0.2222222222222222,
              "#7201a8"
             ],
             [
              0.3333333333333333,
              "#9c179e"
             ],
             [
              0.4444444444444444,
              "#bd3786"
             ],
             [
              0.5555555555555556,
              "#d8576b"
             ],
             [
              0.6666666666666666,
              "#ed7953"
             ],
             [
              0.7777777777777778,
              "#fb9f3a"
             ],
             [
              0.8888888888888888,
              "#fdca26"
             ],
             [
              1,
              "#f0f921"
             ]
            ],
            "type": "heatmap"
           }
          ],
          "heatmapgl": [
           {
            "colorbar": {
             "outlinewidth": 0,
             "ticks": ""
            },
            "colorscale": [
             [
              0,
              "#0d0887"
             ],
             [
              0.1111111111111111,
              "#46039f"
             ],
             [
              0.2222222222222222,
              "#7201a8"
             ],
             [
              0.3333333333333333,
              "#9c179e"
             ],
             [
              0.4444444444444444,
              "#bd3786"
             ],
             [
              0.5555555555555556,
              "#d8576b"
             ],
             [
              0.6666666666666666,
              "#ed7953"
             ],
             [
              0.7777777777777778,
              "#fb9f3a"
             ],
             [
              0.8888888888888888,
              "#fdca26"
             ],
             [
              1,
              "#f0f921"
             ]
            ],
            "type": "heatmapgl"
           }
          ],
          "histogram": [
           {
            "marker": {
             "pattern": {
              "fillmode": "overlay",
              "size": 10,
              "solidity": 0.2
             }
            },
            "type": "histogram"
           }
          ],
          "histogram2d": [
           {
            "colorbar": {
             "outlinewidth": 0,
             "ticks": ""
            },
            "colorscale": [
             [
              0,
              "#0d0887"
             ],
             [
              0.1111111111111111,
              "#46039f"
             ],
             [
              0.2222222222222222,
              "#7201a8"
             ],
             [
              0.3333333333333333,
              "#9c179e"
             ],
             [
              0.4444444444444444,
              "#bd3786"
             ],
             [
              0.5555555555555556,
              "#d8576b"
             ],
             [
              0.6666666666666666,
              "#ed7953"
             ],
             [
              0.7777777777777778,
              "#fb9f3a"
             ],
             [
              0.8888888888888888,
              "#fdca26"
             ],
             [
              1,
              "#f0f921"
             ]
            ],
            "type": "histogram2d"
           }
          ],
          "histogram2dcontour": [
           {
            "colorbar": {
             "outlinewidth": 0,
             "ticks": ""
            },
            "colorscale": [
             [
              0,
              "#0d0887"
             ],
             [
              0.1111111111111111,
              "#46039f"
             ],
             [
              0.2222222222222222,
              "#7201a8"
             ],
             [
              0.3333333333333333,
              "#9c179e"
             ],
             [
              0.4444444444444444,
              "#bd3786"
             ],
             [
              0.5555555555555556,
              "#d8576b"
             ],
             [
              0.6666666666666666,
              "#ed7953"
             ],
             [
              0.7777777777777778,
              "#fb9f3a"
             ],
             [
              0.8888888888888888,
              "#fdca26"
             ],
             [
              1,
              "#f0f921"
             ]
            ],
            "type": "histogram2dcontour"
           }
          ],
          "mesh3d": [
           {
            "colorbar": {
             "outlinewidth": 0,
             "ticks": ""
            },
            "type": "mesh3d"
           }
          ],
          "parcoords": [
           {
            "line": {
             "colorbar": {
              "outlinewidth": 0,
              "ticks": ""
             }
            },
            "type": "parcoords"
           }
          ],
          "pie": [
           {
            "automargin": true,
            "type": "pie"
           }
          ],
          "scatter": [
           {
            "fillpattern": {
             "fillmode": "overlay",
             "size": 10,
             "solidity": 0.2
            },
            "type": "scatter"
           }
          ],
          "scatter3d": [
           {
            "line": {
             "colorbar": {
              "outlinewidth": 0,
              "ticks": ""
             }
            },
            "marker": {
             "colorbar": {
              "outlinewidth": 0,
              "ticks": ""
             }
            },
            "type": "scatter3d"
           }
          ],
          "scattercarpet": [
           {
            "marker": {
             "colorbar": {
              "outlinewidth": 0,
              "ticks": ""
             }
            },
            "type": "scattercarpet"
           }
          ],
          "scattergeo": [
           {
            "marker": {
             "colorbar": {
              "outlinewidth": 0,
              "ticks": ""
             }
            },
            "type": "scattergeo"
           }
          ],
          "scattergl": [
           {
            "marker": {
             "colorbar": {
              "outlinewidth": 0,
              "ticks": ""
             }
            },
            "type": "scattergl"
           }
          ],
          "scattermapbox": [
           {
            "marker": {
             "colorbar": {
              "outlinewidth": 0,
              "ticks": ""
             }
            },
            "type": "scattermapbox"
           }
          ],
          "scatterpolar": [
           {
            "marker": {
             "colorbar": {
              "outlinewidth": 0,
              "ticks": ""
             }
            },
            "type": "scatterpolar"
           }
          ],
          "scatterpolargl": [
           {
            "marker": {
             "colorbar": {
              "outlinewidth": 0,
              "ticks": ""
             }
            },
            "type": "scatterpolargl"
           }
          ],
          "scatterternary": [
           {
            "marker": {
             "colorbar": {
              "outlinewidth": 0,
              "ticks": ""
             }
            },
            "type": "scatterternary"
           }
          ],
          "surface": [
           {
            "colorbar": {
             "outlinewidth": 0,
             "ticks": ""
            },
            "colorscale": [
             [
              0,
              "#0d0887"
             ],
             [
              0.1111111111111111,
              "#46039f"
             ],
             [
              0.2222222222222222,
              "#7201a8"
             ],
             [
              0.3333333333333333,
              "#9c179e"
             ],
             [
              0.4444444444444444,
              "#bd3786"
             ],
             [
              0.5555555555555556,
              "#d8576b"
             ],
             [
              0.6666666666666666,
              "#ed7953"
             ],
             [
              0.7777777777777778,
              "#fb9f3a"
             ],
             [
              0.8888888888888888,
              "#fdca26"
             ],
             [
              1,
              "#f0f921"
             ]
            ],
            "type": "surface"
           }
          ],
          "table": [
           {
            "cells": {
             "fill": {
              "color": "#EBF0F8"
             },
             "line": {
              "color": "white"
             }
            },
            "header": {
             "fill": {
              "color": "#C8D4E3"
             },
             "line": {
              "color": "white"
             }
            },
            "type": "table"
           }
          ]
         },
         "layout": {
          "annotationdefaults": {
           "arrowcolor": "#2a3f5f",
           "arrowhead": 0,
           "arrowwidth": 1
          },
          "autotypenumbers": "strict",
          "coloraxis": {
           "colorbar": {
            "outlinewidth": 0,
            "ticks": ""
           }
          },
          "colorscale": {
           "diverging": [
            [
             0,
             "#8e0152"
            ],
            [
             0.1,
             "#c51b7d"
            ],
            [
             0.2,
             "#de77ae"
            ],
            [
             0.3,
             "#f1b6da"
            ],
            [
             0.4,
             "#fde0ef"
            ],
            [
             0.5,
             "#f7f7f7"
            ],
            [
             0.6,
             "#e6f5d0"
            ],
            [
             0.7,
             "#b8e186"
            ],
            [
             0.8,
             "#7fbc41"
            ],
            [
             0.9,
             "#4d9221"
            ],
            [
             1,
             "#276419"
            ]
           ],
           "sequential": [
            [
             0,
             "#0d0887"
            ],
            [
             0.1111111111111111,
             "#46039f"
            ],
            [
             0.2222222222222222,
             "#7201a8"
            ],
            [
             0.3333333333333333,
             "#9c179e"
            ],
            [
             0.4444444444444444,
             "#bd3786"
            ],
            [
             0.5555555555555556,
             "#d8576b"
            ],
            [
             0.6666666666666666,
             "#ed7953"
            ],
            [
             0.7777777777777778,
             "#fb9f3a"
            ],
            [
             0.8888888888888888,
             "#fdca26"
            ],
            [
             1,
             "#f0f921"
            ]
           ],
           "sequentialminus": [
            [
             0,
             "#0d0887"
            ],
            [
             0.1111111111111111,
             "#46039f"
            ],
            [
             0.2222222222222222,
             "#7201a8"
            ],
            [
             0.3333333333333333,
             "#9c179e"
            ],
            [
             0.4444444444444444,
             "#bd3786"
            ],
            [
             0.5555555555555556,
             "#d8576b"
            ],
            [
             0.6666666666666666,
             "#ed7953"
            ],
            [
             0.7777777777777778,
             "#fb9f3a"
            ],
            [
             0.8888888888888888,
             "#fdca26"
            ],
            [
             1,
             "#f0f921"
            ]
           ]
          },
          "colorway": [
           "#636efa",
           "#EF553B",
           "#00cc96",
           "#ab63fa",
           "#FFA15A",
           "#19d3f3",
           "#FF6692",
           "#B6E880",
           "#FF97FF",
           "#FECB52"
          ],
          "font": {
           "color": "#2a3f5f"
          },
          "geo": {
           "bgcolor": "white",
           "lakecolor": "white",
           "landcolor": "#E5ECF6",
           "showlakes": true,
           "showland": true,
           "subunitcolor": "white"
          },
          "hoverlabel": {
           "align": "left"
          },
          "hovermode": "closest",
          "mapbox": {
           "style": "light"
          },
          "paper_bgcolor": "white",
          "plot_bgcolor": "#E5ECF6",
          "polar": {
           "angularaxis": {
            "gridcolor": "white",
            "linecolor": "white",
            "ticks": ""
           },
           "bgcolor": "#E5ECF6",
           "radialaxis": {
            "gridcolor": "white",
            "linecolor": "white",
            "ticks": ""
           }
          },
          "scene": {
           "xaxis": {
            "backgroundcolor": "#E5ECF6",
            "gridcolor": "white",
            "gridwidth": 2,
            "linecolor": "white",
            "showbackground": true,
            "ticks": "",
            "zerolinecolor": "white"
           },
           "yaxis": {
            "backgroundcolor": "#E5ECF6",
            "gridcolor": "white",
            "gridwidth": 2,
            "linecolor": "white",
            "showbackground": true,
            "ticks": "",
            "zerolinecolor": "white"
           },
           "zaxis": {
            "backgroundcolor": "#E5ECF6",
            "gridcolor": "white",
            "gridwidth": 2,
            "linecolor": "white",
            "showbackground": true,
            "ticks": "",
            "zerolinecolor": "white"
           }
          },
          "shapedefaults": {
           "line": {
            "color": "#2a3f5f"
           }
          },
          "ternary": {
           "aaxis": {
            "gridcolor": "white",
            "linecolor": "white",
            "ticks": ""
           },
           "baxis": {
            "gridcolor": "white",
            "linecolor": "white",
            "ticks": ""
           },
           "bgcolor": "#E5ECF6",
           "caxis": {
            "gridcolor": "white",
            "linecolor": "white",
            "ticks": ""
           }
          },
          "title": {
           "x": 0.05
          },
          "xaxis": {
           "automargin": true,
           "gridcolor": "white",
           "linecolor": "white",
           "ticks": "",
           "title": {
            "standoff": 15
           },
           "zerolinecolor": "white",
           "zerolinewidth": 2
          },
          "yaxis": {
           "automargin": true,
           "gridcolor": "white",
           "linecolor": "white",
           "ticks": "",
           "title": {
            "standoff": 15
           },
           "zerolinecolor": "white",
           "zerolinewidth": 2
          }
         }
        }
       }
      }
     },
     "metadata": {},
     "output_type": "display_data"
    }
   ],
   "source": [
    "# Plot\n",
    "mean_df = risk_factor_df.mean()\n",
    "std_df = risk_factor_df.std()\n",
    "\n",
    "statistic_fig = go.Figure(data=[go.Table(\n",
    "        header=dict(values=[\"Feature\", \"Mean\", \"Standard Deviation\"]),\n",
    "        cells=dict(values=[list(risk_factor_df.columns), mean_df.values, std_df.values],\n",
    "                    align=['left', 'center'],\n",
    "                    format=[\"\",\".2\"])\n",
    "    )\n",
    "])\n",
    "\n",
    "statistic_fig.show()"
   ]
  },
  {
   "cell_type": "markdown",
   "metadata": {},
   "source": [
    "#### Remove Outliers\n",
    "\n",
    "IQR (Inter Quartile Range) Inter Quartile Range approach to finding the outliers is the most commonly used and most trusted approach used in the research field. We utilised IQR to identify and remove outliers."
   ]
  },
  {
   "cell_type": "code",
   "execution_count": 122,
   "metadata": {},
   "outputs": [
    {
     "data": {
      "application/vnd.plotly.v1+json": {
       "config": {
        "plotlyServerURL": "https://plot.ly"
       },
       "data": [
        {
         "alignmentgroup": "True",
         "bingroup": "x",
         "hovertemplate": "Age=%{x}<br>count=%{y}<extra></extra>",
         "legendgroup": "",
         "marker": {
          "color": "rgb(3, 35, 51)",
          "pattern": {
           "shape": ""
          }
         },
         "name": "",
         "offsetgroup": "",
         "orientation": "v",
         "showlegend": false,
         "type": "histogram",
         "x": [
          18,
          15,
          34,
          52,
          46,
          42,
          51,
          26,
          45,
          44,
          27,
          45,
          44,
          43,
          40,
          41,
          43,
          42,
          40,
          43,
          41,
          40,
          40,
          40,
          44,
          39,
          39,
          37,
          37,
          41,
          40,
          37,
          37,
          38,
          37,
          39,
          37,
          39,
          36,
          37,
          36,
          36,
          37,
          36,
          40,
          41,
          37,
          36,
          36,
          36,
          35,
          36,
          41,
          35,
          33,
          35,
          35,
          34,
          35,
          35,
          33,
          38,
          37,
          36,
          35,
          35,
          36,
          34,
          35,
          35,
          34,
          33,
          35,
          35,
          33,
          31,
          32,
          32,
          36,
          34,
          36,
          35,
          32,
          33,
          35,
          33,
          33,
          33,
          35,
          35,
          33,
          34,
          30,
          38,
          33,
          34,
          30,
          33,
          32,
          32,
          30,
          23,
          34,
          34,
          31,
          30,
          28,
          33,
          30,
          31,
          30,
          31,
          31,
          29,
          29,
          30,
          28,
          30,
          30,
          33,
          30,
          27,
          29,
          29,
          30,
          30,
          30,
          31,
          30,
          29,
          33,
          28,
          30,
          26,
          26,
          27,
          28,
          27,
          29,
          32,
          27,
          28,
          28,
          28,
          28,
          30,
          29,
          27,
          29,
          18,
          26,
          26,
          29,
          29,
          28,
          26,
          27,
          30,
          26,
          27,
          25,
          28,
          26,
          28,
          28,
          27,
          28,
          29,
          27,
          25,
          26,
          28,
          27,
          27,
          26,
          26,
          27,
          28,
          21,
          25,
          28,
          26,
          27,
          25,
          25,
          27,
          28,
          30,
          25,
          29,
          26,
          28,
          23,
          25,
          23,
          24,
          26,
          25,
          27,
          23,
          26,
          23,
          24,
          25,
          24,
          29,
          28,
          24,
          24,
          30,
          25,
          22,
          28,
          23,
          25,
          22,
          25,
          23,
          24,
          23,
          25,
          22,
          21,
          23,
          28,
          21,
          23,
          22,
          21,
          21,
          23,
          26,
          21,
          24,
          24,
          21,
          21,
          20,
          22,
          23,
          21,
          25,
          26,
          21,
          22,
          23,
          26,
          21,
          23,
          22,
          21,
          23,
          23,
          24,
          24,
          23,
          20,
          23,
          25,
          20,
          26,
          25,
          23,
          24,
          24,
          21,
          20,
          20,
          23,
          22,
          20,
          33,
          20,
          21,
          20,
          23,
          27,
          31,
          22,
          21,
          29,
          22,
          48,
          20,
          19,
          21,
          18,
          19,
          19,
          21,
          19,
          19,
          45,
          19,
          21,
          37,
          24,
          20,
          20,
          18,
          19,
          20,
          19,
          19,
          20,
          18,
          21,
          24,
          21,
          23,
          21,
          22,
          41,
          20,
          18,
          21,
          18,
          25,
          19,
          18,
          21,
          18,
          22,
          20,
          17,
          20,
          19,
          19,
          20,
          19,
          21,
          17,
          21,
          18,
          17,
          18,
          17,
          17,
          20,
          17,
          35,
          20,
          18,
          18,
          17,
          18,
          18,
          17,
          20,
          16,
          18,
          20,
          16,
          18,
          19,
          31,
          16,
          20,
          16,
          20,
          18,
          15,
          18,
          18,
          17,
          17,
          18,
          16,
          18,
          16,
          16,
          14,
          15,
          17,
          14,
          16,
          17,
          16,
          15,
          15,
          39,
          18,
          35,
          41,
          33,
          19,
          38,
          29,
          28,
          31,
          39,
          20,
          25,
          23,
          28,
          24,
          19,
          34,
          18,
          20,
          27,
          24,
          34,
          32,
          39,
          32,
          24,
          37,
          26,
          36,
          18,
          31,
          25,
          15,
          16,
          18,
          27,
          31,
          20,
          29,
          24,
          19,
          17,
          42,
          16,
          32,
          33,
          27,
          33,
          19,
          24,
          26,
          18,
          22,
          24,
          24,
          18,
          20,
          27,
          16,
          29,
          21,
          17,
          34,
          20,
          33,
          15,
          26,
          40,
          27,
          22,
          20,
          38,
          21,
          23,
          36,
          24,
          27,
          25,
          24,
          44,
          30,
          22,
          25,
          29,
          23,
          20,
          19,
          36,
          17,
          20,
          23,
          30,
          33,
          35,
          45,
          41,
          17,
          21,
          23,
          15,
          20,
          18,
          19,
          17,
          20,
          28,
          28,
          34,
          23,
          20,
          29,
          19,
          26,
          21,
          23,
          21,
          23,
          24,
          35,
          25,
          19,
          19,
          24,
          31,
          36,
          22,
          19,
          18,
          32,
          23,
          41,
          24,
          26,
          20,
          21,
          27,
          36,
          37,
          28,
          17,
          32,
          39,
          28,
          15,
          23,
          27,
          16,
          22,
          32,
          26,
          41,
          59,
          21,
          45,
          21,
          23,
          22,
          18,
          27,
          16,
          23,
          28,
          23,
          38,
          21,
          17,
          79,
          84,
          47,
          52,
          13,
          48,
          42,
          45,
          70,
          46,
          32,
          50,
          49,
          42,
          70,
          39,
          46,
          49,
          35,
          33,
          28,
          24,
          15,
          26,
          18,
          18,
          28,
          29,
          18,
          27,
          18,
          26,
          17,
          41,
          18,
          21,
          22,
          25,
          27,
          19,
          23,
          16,
          29,
          19,
          37,
          21,
          40,
          26,
          34,
          23,
          19,
          30,
          21,
          29,
          31,
          32,
          23,
          40,
          23,
          31,
          30,
          36,
          20,
          27,
          28,
          40,
          19,
          29,
          17,
          16,
          24,
          21,
          25,
          29,
          18,
          34,
          20,
          28,
          30,
          25,
          30,
          18,
          17,
          41,
          23,
          25,
          21,
          26,
          43,
          27,
          17,
          37,
          34,
          18,
          29,
          25,
          25,
          22,
          20,
          24,
          15,
          24,
          35,
          31,
          33,
          25,
          19,
          23,
          35,
          15,
          18,
          29,
          34,
          17,
          29,
          29,
          19,
          17,
          14,
          20,
          30,
          29,
          35,
          24,
          31,
          36,
          33,
          36,
          42,
          33,
          35,
          33,
          34,
          35,
          40,
          30,
          34,
          30,
          24,
          37,
          31,
          35,
          31,
          24,
          23,
          36,
          30,
          26,
          19,
          35,
          30,
          31,
          32,
          19,
          23,
          43,
          34,
          32,
          25,
          33,
          29
         ],
         "xaxis": "x",
         "yaxis": "y"
        },
        {
         "alignmentgroup": "True",
         "hovertemplate": "Age=%{x}<extra></extra>",
         "legendgroup": "",
         "marker": {
          "color": "rgb(3, 35, 51)"
         },
         "name": "",
         "notched": true,
         "offsetgroup": "",
         "showlegend": false,
         "type": "box",
         "x": [
          18,
          15,
          34,
          52,
          46,
          42,
          51,
          26,
          45,
          44,
          27,
          45,
          44,
          43,
          40,
          41,
          43,
          42,
          40,
          43,
          41,
          40,
          40,
          40,
          44,
          39,
          39,
          37,
          37,
          41,
          40,
          37,
          37,
          38,
          37,
          39,
          37,
          39,
          36,
          37,
          36,
          36,
          37,
          36,
          40,
          41,
          37,
          36,
          36,
          36,
          35,
          36,
          41,
          35,
          33,
          35,
          35,
          34,
          35,
          35,
          33,
          38,
          37,
          36,
          35,
          35,
          36,
          34,
          35,
          35,
          34,
          33,
          35,
          35,
          33,
          31,
          32,
          32,
          36,
          34,
          36,
          35,
          32,
          33,
          35,
          33,
          33,
          33,
          35,
          35,
          33,
          34,
          30,
          38,
          33,
          34,
          30,
          33,
          32,
          32,
          30,
          23,
          34,
          34,
          31,
          30,
          28,
          33,
          30,
          31,
          30,
          31,
          31,
          29,
          29,
          30,
          28,
          30,
          30,
          33,
          30,
          27,
          29,
          29,
          30,
          30,
          30,
          31,
          30,
          29,
          33,
          28,
          30,
          26,
          26,
          27,
          28,
          27,
          29,
          32,
          27,
          28,
          28,
          28,
          28,
          30,
          29,
          27,
          29,
          18,
          26,
          26,
          29,
          29,
          28,
          26,
          27,
          30,
          26,
          27,
          25,
          28,
          26,
          28,
          28,
          27,
          28,
          29,
          27,
          25,
          26,
          28,
          27,
          27,
          26,
          26,
          27,
          28,
          21,
          25,
          28,
          26,
          27,
          25,
          25,
          27,
          28,
          30,
          25,
          29,
          26,
          28,
          23,
          25,
          23,
          24,
          26,
          25,
          27,
          23,
          26,
          23,
          24,
          25,
          24,
          29,
          28,
          24,
          24,
          30,
          25,
          22,
          28,
          23,
          25,
          22,
          25,
          23,
          24,
          23,
          25,
          22,
          21,
          23,
          28,
          21,
          23,
          22,
          21,
          21,
          23,
          26,
          21,
          24,
          24,
          21,
          21,
          20,
          22,
          23,
          21,
          25,
          26,
          21,
          22,
          23,
          26,
          21,
          23,
          22,
          21,
          23,
          23,
          24,
          24,
          23,
          20,
          23,
          25,
          20,
          26,
          25,
          23,
          24,
          24,
          21,
          20,
          20,
          23,
          22,
          20,
          33,
          20,
          21,
          20,
          23,
          27,
          31,
          22,
          21,
          29,
          22,
          48,
          20,
          19,
          21,
          18,
          19,
          19,
          21,
          19,
          19,
          45,
          19,
          21,
          37,
          24,
          20,
          20,
          18,
          19,
          20,
          19,
          19,
          20,
          18,
          21,
          24,
          21,
          23,
          21,
          22,
          41,
          20,
          18,
          21,
          18,
          25,
          19,
          18,
          21,
          18,
          22,
          20,
          17,
          20,
          19,
          19,
          20,
          19,
          21,
          17,
          21,
          18,
          17,
          18,
          17,
          17,
          20,
          17,
          35,
          20,
          18,
          18,
          17,
          18,
          18,
          17,
          20,
          16,
          18,
          20,
          16,
          18,
          19,
          31,
          16,
          20,
          16,
          20,
          18,
          15,
          18,
          18,
          17,
          17,
          18,
          16,
          18,
          16,
          16,
          14,
          15,
          17,
          14,
          16,
          17,
          16,
          15,
          15,
          39,
          18,
          35,
          41,
          33,
          19,
          38,
          29,
          28,
          31,
          39,
          20,
          25,
          23,
          28,
          24,
          19,
          34,
          18,
          20,
          27,
          24,
          34,
          32,
          39,
          32,
          24,
          37,
          26,
          36,
          18,
          31,
          25,
          15,
          16,
          18,
          27,
          31,
          20,
          29,
          24,
          19,
          17,
          42,
          16,
          32,
          33,
          27,
          33,
          19,
          24,
          26,
          18,
          22,
          24,
          24,
          18,
          20,
          27,
          16,
          29,
          21,
          17,
          34,
          20,
          33,
          15,
          26,
          40,
          27,
          22,
          20,
          38,
          21,
          23,
          36,
          24,
          27,
          25,
          24,
          44,
          30,
          22,
          25,
          29,
          23,
          20,
          19,
          36,
          17,
          20,
          23,
          30,
          33,
          35,
          45,
          41,
          17,
          21,
          23,
          15,
          20,
          18,
          19,
          17,
          20,
          28,
          28,
          34,
          23,
          20,
          29,
          19,
          26,
          21,
          23,
          21,
          23,
          24,
          35,
          25,
          19,
          19,
          24,
          31,
          36,
          22,
          19,
          18,
          32,
          23,
          41,
          24,
          26,
          20,
          21,
          27,
          36,
          37,
          28,
          17,
          32,
          39,
          28,
          15,
          23,
          27,
          16,
          22,
          32,
          26,
          41,
          59,
          21,
          45,
          21,
          23,
          22,
          18,
          27,
          16,
          23,
          28,
          23,
          38,
          21,
          17,
          79,
          84,
          47,
          52,
          13,
          48,
          42,
          45,
          70,
          46,
          32,
          50,
          49,
          42,
          70,
          39,
          46,
          49,
          35,
          33,
          28,
          24,
          15,
          26,
          18,
          18,
          28,
          29,
          18,
          27,
          18,
          26,
          17,
          41,
          18,
          21,
          22,
          25,
          27,
          19,
          23,
          16,
          29,
          19,
          37,
          21,
          40,
          26,
          34,
          23,
          19,
          30,
          21,
          29,
          31,
          32,
          23,
          40,
          23,
          31,
          30,
          36,
          20,
          27,
          28,
          40,
          19,
          29,
          17,
          16,
          24,
          21,
          25,
          29,
          18,
          34,
          20,
          28,
          30,
          25,
          30,
          18,
          17,
          41,
          23,
          25,
          21,
          26,
          43,
          27,
          17,
          37,
          34,
          18,
          29,
          25,
          25,
          22,
          20,
          24,
          15,
          24,
          35,
          31,
          33,
          25,
          19,
          23,
          35,
          15,
          18,
          29,
          34,
          17,
          29,
          29,
          19,
          17,
          14,
          20,
          30,
          29,
          35,
          24,
          31,
          36,
          33,
          36,
          42,
          33,
          35,
          33,
          34,
          35,
          40,
          30,
          34,
          30,
          24,
          37,
          31,
          35,
          31,
          24,
          23,
          36,
          30,
          26,
          19,
          35,
          30,
          31,
          32,
          19,
          23,
          43,
          34,
          32,
          25,
          33,
          29
         ],
         "xaxis": "x2",
         "yaxis": "y2"
        }
       ],
       "layout": {
        "bargap": 0.2,
        "barmode": "relative",
        "legend": {
         "tracegroupgap": 0
        },
        "margin": {
         "t": 60
        },
        "template": {
         "data": {
          "bar": [
           {
            "error_x": {
             "color": "#2a3f5f"
            },
            "error_y": {
             "color": "#2a3f5f"
            },
            "marker": {
             "line": {
              "color": "#E5ECF6",
              "width": 0.5
             },
             "pattern": {
              "fillmode": "overlay",
              "size": 10,
              "solidity": 0.2
             }
            },
            "type": "bar"
           }
          ],
          "barpolar": [
           {
            "marker": {
             "line": {
              "color": "#E5ECF6",
              "width": 0.5
             },
             "pattern": {
              "fillmode": "overlay",
              "size": 10,
              "solidity": 0.2
             }
            },
            "type": "barpolar"
           }
          ],
          "carpet": [
           {
            "aaxis": {
             "endlinecolor": "#2a3f5f",
             "gridcolor": "white",
             "linecolor": "white",
             "minorgridcolor": "white",
             "startlinecolor": "#2a3f5f"
            },
            "baxis": {
             "endlinecolor": "#2a3f5f",
             "gridcolor": "white",
             "linecolor": "white",
             "minorgridcolor": "white",
             "startlinecolor": "#2a3f5f"
            },
            "type": "carpet"
           }
          ],
          "choropleth": [
           {
            "colorbar": {
             "outlinewidth": 0,
             "ticks": ""
            },
            "type": "choropleth"
           }
          ],
          "contour": [
           {
            "colorbar": {
             "outlinewidth": 0,
             "ticks": ""
            },
            "colorscale": [
             [
              0,
              "#0d0887"
             ],
             [
              0.1111111111111111,
              "#46039f"
             ],
             [
              0.2222222222222222,
              "#7201a8"
             ],
             [
              0.3333333333333333,
              "#9c179e"
             ],
             [
              0.4444444444444444,
              "#bd3786"
             ],
             [
              0.5555555555555556,
              "#d8576b"
             ],
             [
              0.6666666666666666,
              "#ed7953"
             ],
             [
              0.7777777777777778,
              "#fb9f3a"
             ],
             [
              0.8888888888888888,
              "#fdca26"
             ],
             [
              1,
              "#f0f921"
             ]
            ],
            "type": "contour"
           }
          ],
          "contourcarpet": [
           {
            "colorbar": {
             "outlinewidth": 0,
             "ticks": ""
            },
            "type": "contourcarpet"
           }
          ],
          "heatmap": [
           {
            "colorbar": {
             "outlinewidth": 0,
             "ticks": ""
            },
            "colorscale": [
             [
              0,
              "#0d0887"
             ],
             [
              0.1111111111111111,
              "#46039f"
             ],
             [
              0.2222222222222222,
              "#7201a8"
             ],
             [
              0.3333333333333333,
              "#9c179e"
             ],
             [
              0.4444444444444444,
              "#bd3786"
             ],
             [
              0.5555555555555556,
              "#d8576b"
             ],
             [
              0.6666666666666666,
              "#ed7953"
             ],
             [
              0.7777777777777778,
              "#fb9f3a"
             ],
             [
              0.8888888888888888,
              "#fdca26"
             ],
             [
              1,
              "#f0f921"
             ]
            ],
            "type": "heatmap"
           }
          ],
          "heatmapgl": [
           {
            "colorbar": {
             "outlinewidth": 0,
             "ticks": ""
            },
            "colorscale": [
             [
              0,
              "#0d0887"
             ],
             [
              0.1111111111111111,
              "#46039f"
             ],
             [
              0.2222222222222222,
              "#7201a8"
             ],
             [
              0.3333333333333333,
              "#9c179e"
             ],
             [
              0.4444444444444444,
              "#bd3786"
             ],
             [
              0.5555555555555556,
              "#d8576b"
             ],
             [
              0.6666666666666666,
              "#ed7953"
             ],
             [
              0.7777777777777778,
              "#fb9f3a"
             ],
             [
              0.8888888888888888,
              "#fdca26"
             ],
             [
              1,
              "#f0f921"
             ]
            ],
            "type": "heatmapgl"
           }
          ],
          "histogram": [
           {
            "marker": {
             "pattern": {
              "fillmode": "overlay",
              "size": 10,
              "solidity": 0.2
             }
            },
            "type": "histogram"
           }
          ],
          "histogram2d": [
           {
            "colorbar": {
             "outlinewidth": 0,
             "ticks": ""
            },
            "colorscale": [
             [
              0,
              "#0d0887"
             ],
             [
              0.1111111111111111,
              "#46039f"
             ],
             [
              0.2222222222222222,
              "#7201a8"
             ],
             [
              0.3333333333333333,
              "#9c179e"
             ],
             [
              0.4444444444444444,
              "#bd3786"
             ],
             [
              0.5555555555555556,
              "#d8576b"
             ],
             [
              0.6666666666666666,
              "#ed7953"
             ],
             [
              0.7777777777777778,
              "#fb9f3a"
             ],
             [
              0.8888888888888888,
              "#fdca26"
             ],
             [
              1,
              "#f0f921"
             ]
            ],
            "type": "histogram2d"
           }
          ],
          "histogram2dcontour": [
           {
            "colorbar": {
             "outlinewidth": 0,
             "ticks": ""
            },
            "colorscale": [
             [
              0,
              "#0d0887"
             ],
             [
              0.1111111111111111,
              "#46039f"
             ],
             [
              0.2222222222222222,
              "#7201a8"
             ],
             [
              0.3333333333333333,
              "#9c179e"
             ],
             [
              0.4444444444444444,
              "#bd3786"
             ],
             [
              0.5555555555555556,
              "#d8576b"
             ],
             [
              0.6666666666666666,
              "#ed7953"
             ],
             [
              0.7777777777777778,
              "#fb9f3a"
             ],
             [
              0.8888888888888888,
              "#fdca26"
             ],
             [
              1,
              "#f0f921"
             ]
            ],
            "type": "histogram2dcontour"
           }
          ],
          "mesh3d": [
           {
            "colorbar": {
             "outlinewidth": 0,
             "ticks": ""
            },
            "type": "mesh3d"
           }
          ],
          "parcoords": [
           {
            "line": {
             "colorbar": {
              "outlinewidth": 0,
              "ticks": ""
             }
            },
            "type": "parcoords"
           }
          ],
          "pie": [
           {
            "automargin": true,
            "type": "pie"
           }
          ],
          "scatter": [
           {
            "fillpattern": {
             "fillmode": "overlay",
             "size": 10,
             "solidity": 0.2
            },
            "type": "scatter"
           }
          ],
          "scatter3d": [
           {
            "line": {
             "colorbar": {
              "outlinewidth": 0,
              "ticks": ""
             }
            },
            "marker": {
             "colorbar": {
              "outlinewidth": 0,
              "ticks": ""
             }
            },
            "type": "scatter3d"
           }
          ],
          "scattercarpet": [
           {
            "marker": {
             "colorbar": {
              "outlinewidth": 0,
              "ticks": ""
             }
            },
            "type": "scattercarpet"
           }
          ],
          "scattergeo": [
           {
            "marker": {
             "colorbar": {
              "outlinewidth": 0,
              "ticks": ""
             }
            },
            "type": "scattergeo"
           }
          ],
          "scattergl": [
           {
            "marker": {
             "colorbar": {
              "outlinewidth": 0,
              "ticks": ""
             }
            },
            "type": "scattergl"
           }
          ],
          "scattermapbox": [
           {
            "marker": {
             "colorbar": {
              "outlinewidth": 0,
              "ticks": ""
             }
            },
            "type": "scattermapbox"
           }
          ],
          "scatterpolar": [
           {
            "marker": {
             "colorbar": {
              "outlinewidth": 0,
              "ticks": ""
             }
            },
            "type": "scatterpolar"
           }
          ],
          "scatterpolargl": [
           {
            "marker": {
             "colorbar": {
              "outlinewidth": 0,
              "ticks": ""
             }
            },
            "type": "scatterpolargl"
           }
          ],
          "scatterternary": [
           {
            "marker": {
             "colorbar": {
              "outlinewidth": 0,
              "ticks": ""
             }
            },
            "type": "scatterternary"
           }
          ],
          "surface": [
           {
            "colorbar": {
             "outlinewidth": 0,
             "ticks": ""
            },
            "colorscale": [
             [
              0,
              "#0d0887"
             ],
             [
              0.1111111111111111,
              "#46039f"
             ],
             [
              0.2222222222222222,
              "#7201a8"
             ],
             [
              0.3333333333333333,
              "#9c179e"
             ],
             [
              0.4444444444444444,
              "#bd3786"
             ],
             [
              0.5555555555555556,
              "#d8576b"
             ],
             [
              0.6666666666666666,
              "#ed7953"
             ],
             [
              0.7777777777777778,
              "#fb9f3a"
             ],
             [
              0.8888888888888888,
              "#fdca26"
             ],
             [
              1,
              "#f0f921"
             ]
            ],
            "type": "surface"
           }
          ],
          "table": [
           {
            "cells": {
             "fill": {
              "color": "#EBF0F8"
             },
             "line": {
              "color": "white"
             }
            },
            "header": {
             "fill": {
              "color": "#C8D4E3"
             },
             "line": {
              "color": "white"
             }
            },
            "type": "table"
           }
          ]
         },
         "layout": {
          "annotationdefaults": {
           "arrowcolor": "#2a3f5f",
           "arrowhead": 0,
           "arrowwidth": 1
          },
          "autotypenumbers": "strict",
          "coloraxis": {
           "colorbar": {
            "outlinewidth": 0,
            "ticks": ""
           }
          },
          "colorscale": {
           "diverging": [
            [
             0,
             "#8e0152"
            ],
            [
             0.1,
             "#c51b7d"
            ],
            [
             0.2,
             "#de77ae"
            ],
            [
             0.3,
             "#f1b6da"
            ],
            [
             0.4,
             "#fde0ef"
            ],
            [
             0.5,
             "#f7f7f7"
            ],
            [
             0.6,
             "#e6f5d0"
            ],
            [
             0.7,
             "#b8e186"
            ],
            [
             0.8,
             "#7fbc41"
            ],
            [
             0.9,
             "#4d9221"
            ],
            [
             1,
             "#276419"
            ]
           ],
           "sequential": [
            [
             0,
             "#0d0887"
            ],
            [
             0.1111111111111111,
             "#46039f"
            ],
            [
             0.2222222222222222,
             "#7201a8"
            ],
            [
             0.3333333333333333,
             "#9c179e"
            ],
            [
             0.4444444444444444,
             "#bd3786"
            ],
            [
             0.5555555555555556,
             "#d8576b"
            ],
            [
             0.6666666666666666,
             "#ed7953"
            ],
            [
             0.7777777777777778,
             "#fb9f3a"
            ],
            [
             0.8888888888888888,
             "#fdca26"
            ],
            [
             1,
             "#f0f921"
            ]
           ],
           "sequentialminus": [
            [
             0,
             "#0d0887"
            ],
            [
             0.1111111111111111,
             "#46039f"
            ],
            [
             0.2222222222222222,
             "#7201a8"
            ],
            [
             0.3333333333333333,
             "#9c179e"
            ],
            [
             0.4444444444444444,
             "#bd3786"
            ],
            [
             0.5555555555555556,
             "#d8576b"
            ],
            [
             0.6666666666666666,
             "#ed7953"
            ],
            [
             0.7777777777777778,
             "#fb9f3a"
            ],
            [
             0.8888888888888888,
             "#fdca26"
            ],
            [
             1,
             "#f0f921"
            ]
           ]
          },
          "colorway": [
           "#636efa",
           "#EF553B",
           "#00cc96",
           "#ab63fa",
           "#FFA15A",
           "#19d3f3",
           "#FF6692",
           "#B6E880",
           "#FF97FF",
           "#FECB52"
          ],
          "font": {
           "color": "#2a3f5f"
          },
          "geo": {
           "bgcolor": "white",
           "lakecolor": "white",
           "landcolor": "#E5ECF6",
           "showlakes": true,
           "showland": true,
           "subunitcolor": "white"
          },
          "hoverlabel": {
           "align": "left"
          },
          "hovermode": "closest",
          "mapbox": {
           "style": "light"
          },
          "paper_bgcolor": "white",
          "plot_bgcolor": "#E5ECF6",
          "polar": {
           "angularaxis": {
            "gridcolor": "white",
            "linecolor": "white",
            "ticks": ""
           },
           "bgcolor": "#E5ECF6",
           "radialaxis": {
            "gridcolor": "white",
            "linecolor": "white",
            "ticks": ""
           }
          },
          "scene": {
           "xaxis": {
            "backgroundcolor": "#E5ECF6",
            "gridcolor": "white",
            "gridwidth": 2,
            "linecolor": "white",
            "showbackground": true,
            "ticks": "",
            "zerolinecolor": "white"
           },
           "yaxis": {
            "backgroundcolor": "#E5ECF6",
            "gridcolor": "white",
            "gridwidth": 2,
            "linecolor": "white",
            "showbackground": true,
            "ticks": "",
            "zerolinecolor": "white"
           },
           "zaxis": {
            "backgroundcolor": "#E5ECF6",
            "gridcolor": "white",
            "gridwidth": 2,
            "linecolor": "white",
            "showbackground": true,
            "ticks": "",
            "zerolinecolor": "white"
           }
          },
          "shapedefaults": {
           "line": {
            "color": "#2a3f5f"
           }
          },
          "ternary": {
           "aaxis": {
            "gridcolor": "white",
            "linecolor": "white",
            "ticks": ""
           },
           "baxis": {
            "gridcolor": "white",
            "linecolor": "white",
            "ticks": ""
           },
           "bgcolor": "#E5ECF6",
           "caxis": {
            "gridcolor": "white",
            "linecolor": "white",
            "ticks": ""
           }
          },
          "title": {
           "x": 0.05
          },
          "xaxis": {
           "automargin": true,
           "gridcolor": "white",
           "linecolor": "white",
           "ticks": "",
           "title": {
            "standoff": 15
           },
           "zerolinecolor": "white",
           "zerolinewidth": 2
          },
          "yaxis": {
           "automargin": true,
           "gridcolor": "white",
           "linecolor": "white",
           "ticks": "",
           "title": {
            "standoff": 15
           },
           "zerolinecolor": "white",
           "zerolinewidth": 2
          }
         }
        },
        "width": 700,
        "xaxis": {
         "anchor": "y",
         "domain": [
          0,
          1
         ],
         "title": {
          "text": "Age"
         }
        },
        "xaxis2": {
         "anchor": "y2",
         "domain": [
          0,
          1
         ],
         "matches": "x",
         "showgrid": true,
         "showticklabels": false
        },
        "yaxis": {
         "anchor": "x",
         "domain": [
          0,
          0.8316
         ],
         "title": {
          "text": "count"
         }
        },
        "yaxis2": {
         "anchor": "x2",
         "domain": [
          0.8416,
          1
         ],
         "matches": "y2",
         "showgrid": false,
         "showline": false,
         "showticklabels": false,
         "ticks": ""
        }
       }
      }
     },
     "metadata": {},
     "output_type": "display_data"
    },
    {
     "name": "stdout",
     "output_type": "stream",
     "text": [
      "Age\n",
      "median: 26.0, upper fence: 51.0, lower fence: 3.0\n"
     ]
    },
    {
     "data": {
      "application/vnd.plotly.v1+json": {
       "config": {
        "plotlyServerURL": "https://plot.ly"
       },
       "data": [
        {
         "alignmentgroup": "True",
         "bingroup": "x",
         "hovertemplate": "Number of sexual partners=%{x}<br>count=%{y}<extra></extra>",
         "legendgroup": "",
         "marker": {
          "color": "rgb(3, 35, 51)",
          "pattern": {
           "shape": ""
          }
         },
         "name": "",
         "offsetgroup": "",
         "orientation": "v",
         "showlegend": false,
         "type": "histogram",
         "x": [
          4,
          1,
          1,
          5,
          3,
          3,
          3,
          1,
          1,
          3,
          1,
          4,
          2,
          2,
          3,
          4,
          3,
          2,
          2,
          2,
          3,
          1,
          1,
          3,
          3,
          5,
          2,
          3,
          6,
          3,
          2,
          3,
          3,
          2,
          3,
          2,
          2,
          1,
          2,
          2,
          3,
          3,
          3,
          1,
          2,
          2,
          3,
          3,
          2,
          5,
          3,
          1,
          4,
          5,
          3,
          2,
          3,
          3,
          3,
          1,
          1,
          2,
          3,
          4,
          3,
          5,
          4,
          2,
          2,
          2,
          5,
          3,
          3,
          2,
          1,
          3,
          2,
          3,
          2,
          1,
          2,
          5,
          3,
          1,
          3,
          4,
          1,
          3,
          5,
          1,
          3,
          3,
          5,
          3,
          2,
          4,
          4,
          5,
          2,
          3,
          3,
          5,
          3,
          3,
          3,
          2,
          3,
          1,
          5,
          3,
          3,
          3,
          2,
          2,
          1,
          2,
          2,
          2,
          2,
          4,
          3,
          3,
          4,
          1,
          2,
          1,
          2,
          3,
          4,
          4,
          3,
          2,
          1,
          3,
          2,
          2,
          4,
          1,
          2,
          2,
          2,
          2,
          2,
          1,
          5,
          3,
          1,
          2,
          4,
          3,
          3,
          2,
          2,
          3,
          3,
          1,
          3,
          1,
          2,
          2,
          3,
          2,
          1,
          2,
          3,
          5,
          8,
          3,
          2,
          4,
          2,
          3,
          1,
          2,
          7,
          4,
          2,
          2,
          1,
          3,
          2,
          3,
          4,
          3,
          5,
          1,
          3,
          1,
          1,
          3,
          1,
          3,
          4,
          2,
          1,
          2,
          1,
          4,
          3,
          2,
          3,
          3,
          2,
          2,
          2,
          4,
          3,
          1,
          2,
          1,
          3,
          1,
          2,
          1,
          2,
          3,
          2,
          1,
          2,
          1,
          3,
          3,
          5,
          8,
          2,
          2,
          2,
          2,
          2,
          2,
          2,
          1,
          1,
          3,
          2,
          3,
          4,
          1,
          2,
          2,
          1,
          3,
          2,
          4,
          3,
          2,
          2,
          1,
          1,
          2,
          1,
          1,
          1,
          3,
          1,
          2,
          2,
          4,
          3,
          5,
          3,
          2,
          2,
          4,
          5,
          1,
          3,
          1,
          2,
          3,
          2,
          2,
          1,
          1,
          2,
          1,
          1,
          1,
          3,
          2,
          2,
          1,
          2,
          2,
          3,
          2,
          1,
          2,
          1,
          3,
          4,
          4,
          2,
          3,
          1,
          2,
          1,
          4,
          1,
          1,
          3,
          2,
          3,
          1,
          2,
          1,
          4,
          4,
          5,
          2,
          5,
          1,
          3,
          2,
          2,
          2,
          3,
          5,
          2,
          1,
          3,
          2,
          2,
          3,
          1,
          2,
          1,
          3,
          2,
          2,
          1,
          2,
          1,
          3,
          3,
          2,
          2,
          2,
          2,
          1,
          3,
          3,
          3,
          1,
          1,
          2,
          2,
          2,
          2,
          2,
          7,
          1,
          1,
          1,
          4,
          3,
          1,
          3,
          1,
          3,
          5,
          1,
          1,
          3,
          3,
          3,
          1,
          2,
          1,
          1,
          2,
          2,
          3,
          5,
          1,
          1,
          1,
          28,
          2,
          2,
          5,
          2,
          2,
          3,
          3,
          4,
          2,
          4,
          1,
          2,
          1,
          3,
          1,
          1,
          1,
          1,
          1,
          1,
          2,
          1,
          1,
          3,
          2,
          2,
          4,
          1,
          5,
          3,
          2,
          1,
          1,
          2,
          2,
          3,
          2,
          2,
          5,
          4,
          2,
          1,
          3,
          1,
          2,
          2,
          2,
          4,
          1,
          3,
          4,
          1,
          3,
          2,
          2,
          3,
          4,
          3,
          1,
          3,
          4,
          3,
          3,
          1,
          2,
          2,
          3,
          3,
          4,
          3,
          2,
          2,
          1,
          1,
          1,
          1,
          1,
          1,
          1,
          2,
          2,
          1,
          2,
          2,
          2,
          2,
          2,
          2,
          4,
          1,
          6,
          2,
          4,
          3,
          2,
          3,
          3,
          5,
          3,
          2,
          5,
          4,
          2,
          3,
          1,
          2,
          2,
          2,
          3,
          3,
          3,
          3,
          2,
          5,
          2,
          2,
          2,
          2,
          2,
          2,
          1,
          6,
          2,
          2,
          2,
          3,
          1,
          1,
          1,
          1,
          2,
          3,
          1,
          2,
          1,
          2,
          3,
          2,
          6,
          2,
          3,
          2,
          2,
          4,
          2,
          6,
          4,
          1,
          4,
          1,
          2,
          2,
          2,
          3,
          1,
          2,
          3,
          1,
          2,
          2,
          3,
          2,
          5,
          3,
          2,
          4,
          1,
          4,
          2,
          2,
          1,
          4,
          3,
          1,
          4,
          1,
          1,
          2,
          3,
          2,
          1,
          2,
          1,
          2,
          5,
          3,
          5,
          1,
          1,
          2,
          1,
          2,
          2,
          4,
          2,
          4,
          5,
          4,
          1,
          3,
          1,
          2,
          1,
          2,
          1,
          2,
          3,
          1,
          2,
          3,
          2,
          5,
          2,
          2,
          1,
          5,
          1,
          1,
          1,
          3,
          2,
          3,
          5,
          3,
          1,
          2,
          2,
          3,
          2,
          6,
          2,
          1,
          7,
          5,
          4,
          1,
          2,
          1,
          4,
          5,
          3,
          2,
          1,
          4,
          2,
          4,
          4,
          3,
          1,
          3,
          1,
          5,
          1,
          2,
          4,
          2,
          1,
          4,
          1,
          5,
          3,
          7,
          6,
          2,
          1,
          2,
          2,
          2,
          3,
          7,
          3,
          4,
          3,
          2,
          3,
          2,
          3,
          8,
          3,
          3,
          2,
          2,
          1,
          1,
          5,
          1,
          1,
          1,
          4,
          2,
          3,
          3,
          3,
          2,
          3,
          4,
          3,
          2,
          3,
          4,
          3,
          2,
          1,
          3,
          1,
          3,
          9,
          3,
          3,
          2,
          2,
          3,
          3,
          8,
          2,
          2,
          3,
          3,
          3,
          1,
          2,
          3,
          3,
          2,
          2,
          2,
          2
         ],
         "xaxis": "x",
         "yaxis": "y"
        },
        {
         "alignmentgroup": "True",
         "hovertemplate": "Number of sexual partners=%{x}<extra></extra>",
         "legendgroup": "",
         "marker": {
          "color": "rgb(3, 35, 51)"
         },
         "name": "",
         "notched": true,
         "offsetgroup": "",
         "showlegend": false,
         "type": "box",
         "x": [
          4,
          1,
          1,
          5,
          3,
          3,
          3,
          1,
          1,
          3,
          1,
          4,
          2,
          2,
          3,
          4,
          3,
          2,
          2,
          2,
          3,
          1,
          1,
          3,
          3,
          5,
          2,
          3,
          6,
          3,
          2,
          3,
          3,
          2,
          3,
          2,
          2,
          1,
          2,
          2,
          3,
          3,
          3,
          1,
          2,
          2,
          3,
          3,
          2,
          5,
          3,
          1,
          4,
          5,
          3,
          2,
          3,
          3,
          3,
          1,
          1,
          2,
          3,
          4,
          3,
          5,
          4,
          2,
          2,
          2,
          5,
          3,
          3,
          2,
          1,
          3,
          2,
          3,
          2,
          1,
          2,
          5,
          3,
          1,
          3,
          4,
          1,
          3,
          5,
          1,
          3,
          3,
          5,
          3,
          2,
          4,
          4,
          5,
          2,
          3,
          3,
          5,
          3,
          3,
          3,
          2,
          3,
          1,
          5,
          3,
          3,
          3,
          2,
          2,
          1,
          2,
          2,
          2,
          2,
          4,
          3,
          3,
          4,
          1,
          2,
          1,
          2,
          3,
          4,
          4,
          3,
          2,
          1,
          3,
          2,
          2,
          4,
          1,
          2,
          2,
          2,
          2,
          2,
          1,
          5,
          3,
          1,
          2,
          4,
          3,
          3,
          2,
          2,
          3,
          3,
          1,
          3,
          1,
          2,
          2,
          3,
          2,
          1,
          2,
          3,
          5,
          8,
          3,
          2,
          4,
          2,
          3,
          1,
          2,
          7,
          4,
          2,
          2,
          1,
          3,
          2,
          3,
          4,
          3,
          5,
          1,
          3,
          1,
          1,
          3,
          1,
          3,
          4,
          2,
          1,
          2,
          1,
          4,
          3,
          2,
          3,
          3,
          2,
          2,
          2,
          4,
          3,
          1,
          2,
          1,
          3,
          1,
          2,
          1,
          2,
          3,
          2,
          1,
          2,
          1,
          3,
          3,
          5,
          8,
          2,
          2,
          2,
          2,
          2,
          2,
          2,
          1,
          1,
          3,
          2,
          3,
          4,
          1,
          2,
          2,
          1,
          3,
          2,
          4,
          3,
          2,
          2,
          1,
          1,
          2,
          1,
          1,
          1,
          3,
          1,
          2,
          2,
          4,
          3,
          5,
          3,
          2,
          2,
          4,
          5,
          1,
          3,
          1,
          2,
          3,
          2,
          2,
          1,
          1,
          2,
          1,
          1,
          1,
          3,
          2,
          2,
          1,
          2,
          2,
          3,
          2,
          1,
          2,
          1,
          3,
          4,
          4,
          2,
          3,
          1,
          2,
          1,
          4,
          1,
          1,
          3,
          2,
          3,
          1,
          2,
          1,
          4,
          4,
          5,
          2,
          5,
          1,
          3,
          2,
          2,
          2,
          3,
          5,
          2,
          1,
          3,
          2,
          2,
          3,
          1,
          2,
          1,
          3,
          2,
          2,
          1,
          2,
          1,
          3,
          3,
          2,
          2,
          2,
          2,
          1,
          3,
          3,
          3,
          1,
          1,
          2,
          2,
          2,
          2,
          2,
          7,
          1,
          1,
          1,
          4,
          3,
          1,
          3,
          1,
          3,
          5,
          1,
          1,
          3,
          3,
          3,
          1,
          2,
          1,
          1,
          2,
          2,
          3,
          5,
          1,
          1,
          1,
          28,
          2,
          2,
          5,
          2,
          2,
          3,
          3,
          4,
          2,
          4,
          1,
          2,
          1,
          3,
          1,
          1,
          1,
          1,
          1,
          1,
          2,
          1,
          1,
          3,
          2,
          2,
          4,
          1,
          5,
          3,
          2,
          1,
          1,
          2,
          2,
          3,
          2,
          2,
          5,
          4,
          2,
          1,
          3,
          1,
          2,
          2,
          2,
          4,
          1,
          3,
          4,
          1,
          3,
          2,
          2,
          3,
          4,
          3,
          1,
          3,
          4,
          3,
          3,
          1,
          2,
          2,
          3,
          3,
          4,
          3,
          2,
          2,
          1,
          1,
          1,
          1,
          1,
          1,
          1,
          2,
          2,
          1,
          2,
          2,
          2,
          2,
          2,
          2,
          4,
          1,
          6,
          2,
          4,
          3,
          2,
          3,
          3,
          5,
          3,
          2,
          5,
          4,
          2,
          3,
          1,
          2,
          2,
          2,
          3,
          3,
          3,
          3,
          2,
          5,
          2,
          2,
          2,
          2,
          2,
          2,
          1,
          6,
          2,
          2,
          2,
          3,
          1,
          1,
          1,
          1,
          2,
          3,
          1,
          2,
          1,
          2,
          3,
          2,
          6,
          2,
          3,
          2,
          2,
          4,
          2,
          6,
          4,
          1,
          4,
          1,
          2,
          2,
          2,
          3,
          1,
          2,
          3,
          1,
          2,
          2,
          3,
          2,
          5,
          3,
          2,
          4,
          1,
          4,
          2,
          2,
          1,
          4,
          3,
          1,
          4,
          1,
          1,
          2,
          3,
          2,
          1,
          2,
          1,
          2,
          5,
          3,
          5,
          1,
          1,
          2,
          1,
          2,
          2,
          4,
          2,
          4,
          5,
          4,
          1,
          3,
          1,
          2,
          1,
          2,
          1,
          2,
          3,
          1,
          2,
          3,
          2,
          5,
          2,
          2,
          1,
          5,
          1,
          1,
          1,
          3,
          2,
          3,
          5,
          3,
          1,
          2,
          2,
          3,
          2,
          6,
          2,
          1,
          7,
          5,
          4,
          1,
          2,
          1,
          4,
          5,
          3,
          2,
          1,
          4,
          2,
          4,
          4,
          3,
          1,
          3,
          1,
          5,
          1,
          2,
          4,
          2,
          1,
          4,
          1,
          5,
          3,
          7,
          6,
          2,
          1,
          2,
          2,
          2,
          3,
          7,
          3,
          4,
          3,
          2,
          3,
          2,
          3,
          8,
          3,
          3,
          2,
          2,
          1,
          1,
          5,
          1,
          1,
          1,
          4,
          2,
          3,
          3,
          3,
          2,
          3,
          4,
          3,
          2,
          3,
          4,
          3,
          2,
          1,
          3,
          1,
          3,
          9,
          3,
          3,
          2,
          2,
          3,
          3,
          8,
          2,
          2,
          3,
          3,
          3,
          1,
          2,
          3,
          3,
          2,
          2,
          2,
          2
         ],
         "xaxis": "x2",
         "yaxis": "y2"
        }
       ],
       "layout": {
        "bargap": 0.2,
        "barmode": "relative",
        "legend": {
         "tracegroupgap": 0
        },
        "margin": {
         "t": 60
        },
        "template": {
         "data": {
          "bar": [
           {
            "error_x": {
             "color": "#2a3f5f"
            },
            "error_y": {
             "color": "#2a3f5f"
            },
            "marker": {
             "line": {
              "color": "#E5ECF6",
              "width": 0.5
             },
             "pattern": {
              "fillmode": "overlay",
              "size": 10,
              "solidity": 0.2
             }
            },
            "type": "bar"
           }
          ],
          "barpolar": [
           {
            "marker": {
             "line": {
              "color": "#E5ECF6",
              "width": 0.5
             },
             "pattern": {
              "fillmode": "overlay",
              "size": 10,
              "solidity": 0.2
             }
            },
            "type": "barpolar"
           }
          ],
          "carpet": [
           {
            "aaxis": {
             "endlinecolor": "#2a3f5f",
             "gridcolor": "white",
             "linecolor": "white",
             "minorgridcolor": "white",
             "startlinecolor": "#2a3f5f"
            },
            "baxis": {
             "endlinecolor": "#2a3f5f",
             "gridcolor": "white",
             "linecolor": "white",
             "minorgridcolor": "white",
             "startlinecolor": "#2a3f5f"
            },
            "type": "carpet"
           }
          ],
          "choropleth": [
           {
            "colorbar": {
             "outlinewidth": 0,
             "ticks": ""
            },
            "type": "choropleth"
           }
          ],
          "contour": [
           {
            "colorbar": {
             "outlinewidth": 0,
             "ticks": ""
            },
            "colorscale": [
             [
              0,
              "#0d0887"
             ],
             [
              0.1111111111111111,
              "#46039f"
             ],
             [
              0.2222222222222222,
              "#7201a8"
             ],
             [
              0.3333333333333333,
              "#9c179e"
             ],
             [
              0.4444444444444444,
              "#bd3786"
             ],
             [
              0.5555555555555556,
              "#d8576b"
             ],
             [
              0.6666666666666666,
              "#ed7953"
             ],
             [
              0.7777777777777778,
              "#fb9f3a"
             ],
             [
              0.8888888888888888,
              "#fdca26"
             ],
             [
              1,
              "#f0f921"
             ]
            ],
            "type": "contour"
           }
          ],
          "contourcarpet": [
           {
            "colorbar": {
             "outlinewidth": 0,
             "ticks": ""
            },
            "type": "contourcarpet"
           }
          ],
          "heatmap": [
           {
            "colorbar": {
             "outlinewidth": 0,
             "ticks": ""
            },
            "colorscale": [
             [
              0,
              "#0d0887"
             ],
             [
              0.1111111111111111,
              "#46039f"
             ],
             [
              0.2222222222222222,
              "#7201a8"
             ],
             [
              0.3333333333333333,
              "#9c179e"
             ],
             [
              0.4444444444444444,
              "#bd3786"
             ],
             [
              0.5555555555555556,
              "#d8576b"
             ],
             [
              0.6666666666666666,
              "#ed7953"
             ],
             [
              0.7777777777777778,
              "#fb9f3a"
             ],
             [
              0.8888888888888888,
              "#fdca26"
             ],
             [
              1,
              "#f0f921"
             ]
            ],
            "type": "heatmap"
           }
          ],
          "heatmapgl": [
           {
            "colorbar": {
             "outlinewidth": 0,
             "ticks": ""
            },
            "colorscale": [
             [
              0,
              "#0d0887"
             ],
             [
              0.1111111111111111,
              "#46039f"
             ],
             [
              0.2222222222222222,
              "#7201a8"
             ],
             [
              0.3333333333333333,
              "#9c179e"
             ],
             [
              0.4444444444444444,
              "#bd3786"
             ],
             [
              0.5555555555555556,
              "#d8576b"
             ],
             [
              0.6666666666666666,
              "#ed7953"
             ],
             [
              0.7777777777777778,
              "#fb9f3a"
             ],
             [
              0.8888888888888888,
              "#fdca26"
             ],
             [
              1,
              "#f0f921"
             ]
            ],
            "type": "heatmapgl"
           }
          ],
          "histogram": [
           {
            "marker": {
             "pattern": {
              "fillmode": "overlay",
              "size": 10,
              "solidity": 0.2
             }
            },
            "type": "histogram"
           }
          ],
          "histogram2d": [
           {
            "colorbar": {
             "outlinewidth": 0,
             "ticks": ""
            },
            "colorscale": [
             [
              0,
              "#0d0887"
             ],
             [
              0.1111111111111111,
              "#46039f"
             ],
             [
              0.2222222222222222,
              "#7201a8"
             ],
             [
              0.3333333333333333,
              "#9c179e"
             ],
             [
              0.4444444444444444,
              "#bd3786"
             ],
             [
              0.5555555555555556,
              "#d8576b"
             ],
             [
              0.6666666666666666,
              "#ed7953"
             ],
             [
              0.7777777777777778,
              "#fb9f3a"
             ],
             [
              0.8888888888888888,
              "#fdca26"
             ],
             [
              1,
              "#f0f921"
             ]
            ],
            "type": "histogram2d"
           }
          ],
          "histogram2dcontour": [
           {
            "colorbar": {
             "outlinewidth": 0,
             "ticks": ""
            },
            "colorscale": [
             [
              0,
              "#0d0887"
             ],
             [
              0.1111111111111111,
              "#46039f"
             ],
             [
              0.2222222222222222,
              "#7201a8"
             ],
             [
              0.3333333333333333,
              "#9c179e"
             ],
             [
              0.4444444444444444,
              "#bd3786"
             ],
             [
              0.5555555555555556,
              "#d8576b"
             ],
             [
              0.6666666666666666,
              "#ed7953"
             ],
             [
              0.7777777777777778,
              "#fb9f3a"
             ],
             [
              0.8888888888888888,
              "#fdca26"
             ],
             [
              1,
              "#f0f921"
             ]
            ],
            "type": "histogram2dcontour"
           }
          ],
          "mesh3d": [
           {
            "colorbar": {
             "outlinewidth": 0,
             "ticks": ""
            },
            "type": "mesh3d"
           }
          ],
          "parcoords": [
           {
            "line": {
             "colorbar": {
              "outlinewidth": 0,
              "ticks": ""
             }
            },
            "type": "parcoords"
           }
          ],
          "pie": [
           {
            "automargin": true,
            "type": "pie"
           }
          ],
          "scatter": [
           {
            "fillpattern": {
             "fillmode": "overlay",
             "size": 10,
             "solidity": 0.2
            },
            "type": "scatter"
           }
          ],
          "scatter3d": [
           {
            "line": {
             "colorbar": {
              "outlinewidth": 0,
              "ticks": ""
             }
            },
            "marker": {
             "colorbar": {
              "outlinewidth": 0,
              "ticks": ""
             }
            },
            "type": "scatter3d"
           }
          ],
          "scattercarpet": [
           {
            "marker": {
             "colorbar": {
              "outlinewidth": 0,
              "ticks": ""
             }
            },
            "type": "scattercarpet"
           }
          ],
          "scattergeo": [
           {
            "marker": {
             "colorbar": {
              "outlinewidth": 0,
              "ticks": ""
             }
            },
            "type": "scattergeo"
           }
          ],
          "scattergl": [
           {
            "marker": {
             "colorbar": {
              "outlinewidth": 0,
              "ticks": ""
             }
            },
            "type": "scattergl"
           }
          ],
          "scattermapbox": [
           {
            "marker": {
             "colorbar": {
              "outlinewidth": 0,
              "ticks": ""
             }
            },
            "type": "scattermapbox"
           }
          ],
          "scatterpolar": [
           {
            "marker": {
             "colorbar": {
              "outlinewidth": 0,
              "ticks": ""
             }
            },
            "type": "scatterpolar"
           }
          ],
          "scatterpolargl": [
           {
            "marker": {
             "colorbar": {
              "outlinewidth": 0,
              "ticks": ""
             }
            },
            "type": "scatterpolargl"
           }
          ],
          "scatterternary": [
           {
            "marker": {
             "colorbar": {
              "outlinewidth": 0,
              "ticks": ""
             }
            },
            "type": "scatterternary"
           }
          ],
          "surface": [
           {
            "colorbar": {
             "outlinewidth": 0,
             "ticks": ""
            },
            "colorscale": [
             [
              0,
              "#0d0887"
             ],
             [
              0.1111111111111111,
              "#46039f"
             ],
             [
              0.2222222222222222,
              "#7201a8"
             ],
             [
              0.3333333333333333,
              "#9c179e"
             ],
             [
              0.4444444444444444,
              "#bd3786"
             ],
             [
              0.5555555555555556,
              "#d8576b"
             ],
             [
              0.6666666666666666,
              "#ed7953"
             ],
             [
              0.7777777777777778,
              "#fb9f3a"
             ],
             [
              0.8888888888888888,
              "#fdca26"
             ],
             [
              1,
              "#f0f921"
             ]
            ],
            "type": "surface"
           }
          ],
          "table": [
           {
            "cells": {
             "fill": {
              "color": "#EBF0F8"
             },
             "line": {
              "color": "white"
             }
            },
            "header": {
             "fill": {
              "color": "#C8D4E3"
             },
             "line": {
              "color": "white"
             }
            },
            "type": "table"
           }
          ]
         },
         "layout": {
          "annotationdefaults": {
           "arrowcolor": "#2a3f5f",
           "arrowhead": 0,
           "arrowwidth": 1
          },
          "autotypenumbers": "strict",
          "coloraxis": {
           "colorbar": {
            "outlinewidth": 0,
            "ticks": ""
           }
          },
          "colorscale": {
           "diverging": [
            [
             0,
             "#8e0152"
            ],
            [
             0.1,
             "#c51b7d"
            ],
            [
             0.2,
             "#de77ae"
            ],
            [
             0.3,
             "#f1b6da"
            ],
            [
             0.4,
             "#fde0ef"
            ],
            [
             0.5,
             "#f7f7f7"
            ],
            [
             0.6,
             "#e6f5d0"
            ],
            [
             0.7,
             "#b8e186"
            ],
            [
             0.8,
             "#7fbc41"
            ],
            [
             0.9,
             "#4d9221"
            ],
            [
             1,
             "#276419"
            ]
           ],
           "sequential": [
            [
             0,
             "#0d0887"
            ],
            [
             0.1111111111111111,
             "#46039f"
            ],
            [
             0.2222222222222222,
             "#7201a8"
            ],
            [
             0.3333333333333333,
             "#9c179e"
            ],
            [
             0.4444444444444444,
             "#bd3786"
            ],
            [
             0.5555555555555556,
             "#d8576b"
            ],
            [
             0.6666666666666666,
             "#ed7953"
            ],
            [
             0.7777777777777778,
             "#fb9f3a"
            ],
            [
             0.8888888888888888,
             "#fdca26"
            ],
            [
             1,
             "#f0f921"
            ]
           ],
           "sequentialminus": [
            [
             0,
             "#0d0887"
            ],
            [
             0.1111111111111111,
             "#46039f"
            ],
            [
             0.2222222222222222,
             "#7201a8"
            ],
            [
             0.3333333333333333,
             "#9c179e"
            ],
            [
             0.4444444444444444,
             "#bd3786"
            ],
            [
             0.5555555555555556,
             "#d8576b"
            ],
            [
             0.6666666666666666,
             "#ed7953"
            ],
            [
             0.7777777777777778,
             "#fb9f3a"
            ],
            [
             0.8888888888888888,
             "#fdca26"
            ],
            [
             1,
             "#f0f921"
            ]
           ]
          },
          "colorway": [
           "#636efa",
           "#EF553B",
           "#00cc96",
           "#ab63fa",
           "#FFA15A",
           "#19d3f3",
           "#FF6692",
           "#B6E880",
           "#FF97FF",
           "#FECB52"
          ],
          "font": {
           "color": "#2a3f5f"
          },
          "geo": {
           "bgcolor": "white",
           "lakecolor": "white",
           "landcolor": "#E5ECF6",
           "showlakes": true,
           "showland": true,
           "subunitcolor": "white"
          },
          "hoverlabel": {
           "align": "left"
          },
          "hovermode": "closest",
          "mapbox": {
           "style": "light"
          },
          "paper_bgcolor": "white",
          "plot_bgcolor": "#E5ECF6",
          "polar": {
           "angularaxis": {
            "gridcolor": "white",
            "linecolor": "white",
            "ticks": ""
           },
           "bgcolor": "#E5ECF6",
           "radialaxis": {
            "gridcolor": "white",
            "linecolor": "white",
            "ticks": ""
           }
          },
          "scene": {
           "xaxis": {
            "backgroundcolor": "#E5ECF6",
            "gridcolor": "white",
            "gridwidth": 2,
            "linecolor": "white",
            "showbackground": true,
            "ticks": "",
            "zerolinecolor": "white"
           },
           "yaxis": {
            "backgroundcolor": "#E5ECF6",
            "gridcolor": "white",
            "gridwidth": 2,
            "linecolor": "white",
            "showbackground": true,
            "ticks": "",
            "zerolinecolor": "white"
           },
           "zaxis": {
            "backgroundcolor": "#E5ECF6",
            "gridcolor": "white",
            "gridwidth": 2,
            "linecolor": "white",
            "showbackground": true,
            "ticks": "",
            "zerolinecolor": "white"
           }
          },
          "shapedefaults": {
           "line": {
            "color": "#2a3f5f"
           }
          },
          "ternary": {
           "aaxis": {
            "gridcolor": "white",
            "linecolor": "white",
            "ticks": ""
           },
           "baxis": {
            "gridcolor": "white",
            "linecolor": "white",
            "ticks": ""
           },
           "bgcolor": "#E5ECF6",
           "caxis": {
            "gridcolor": "white",
            "linecolor": "white",
            "ticks": ""
           }
          },
          "title": {
           "x": 0.05
          },
          "xaxis": {
           "automargin": true,
           "gridcolor": "white",
           "linecolor": "white",
           "ticks": "",
           "title": {
            "standoff": 15
           },
           "zerolinecolor": "white",
           "zerolinewidth": 2
          },
          "yaxis": {
           "automargin": true,
           "gridcolor": "white",
           "linecolor": "white",
           "ticks": "",
           "title": {
            "standoff": 15
           },
           "zerolinecolor": "white",
           "zerolinewidth": 2
          }
         }
        },
        "width": 700,
        "xaxis": {
         "anchor": "y",
         "domain": [
          0,
          1
         ],
         "title": {
          "text": "Number of sexual partners"
         }
        },
        "xaxis2": {
         "anchor": "y2",
         "domain": [
          0,
          1
         ],
         "matches": "x",
         "showgrid": true,
         "showticklabels": false
        },
        "yaxis": {
         "anchor": "x",
         "domain": [
          0,
          0.8316
         ],
         "title": {
          "text": "count"
         }
        },
        "yaxis2": {
         "anchor": "x2",
         "domain": [
          0.8416,
          1
         ],
         "matches": "y2",
         "showgrid": false,
         "showline": false,
         "showticklabels": false,
         "ticks": ""
        }
       }
      }
     },
     "metadata": {},
     "output_type": "display_data"
    },
    {
     "name": "stdout",
     "output_type": "stream",
     "text": [
      "Number of sexual partners\n",
      "median: 2.0, upper fence: 4.5, lower fence: 0.5\n"
     ]
    },
    {
     "data": {
      "application/vnd.plotly.v1+json": {
       "config": {
        "plotlyServerURL": "https://plot.ly"
       },
       "data": [
        {
         "alignmentgroup": "True",
         "bingroup": "x",
         "hovertemplate": "First sexual intercourse=%{x}<br>count=%{y}<extra></extra>",
         "legendgroup": "",
         "marker": {
          "color": "rgb(3, 35, 51)",
          "pattern": {
           "shape": ""
          }
         },
         "name": "",
         "offsetgroup": "",
         "orientation": "v",
         "showlegend": false,
         "type": "histogram",
         "x": [
          15,
          14,
          17,
          16,
          21,
          23,
          17,
          26,
          20,
          26,
          17,
          14,
          25,
          18,
          18,
          21,
          15,
          20,
          27,
          18,
          17,
          18,
          20,
          15,
          19,
          23,
          17,
          24,
          26,
          17,
          21,
          17,
          15,
          15,
          17,
          17,
          18,
          24,
          20,
          17,
          18,
          17,
          19,
          17,
          20,
          17,
          18,
          15,
          17,
          17,
          18,
          16,
          16,
          15,
          21,
          18,
          17,
          19,
          20,
          21,
          19,
          15,
          17,
          19,
          20,
          23,
          17,
          21,
          20,
          27,
          14,
          21,
          17,
          19,
          27,
          15,
          18,
          18,
          15,
          20,
          20,
          18,
          16,
          32,
          16,
          16,
          29,
          16,
          11,
          18,
          18,
          15,
          16,
          18,
          17,
          18,
          16,
          19,
          15,
          17,
          19,
          23,
          15,
          13,
          17,
          17,
          15,
          16,
          15,
          14,
          17,
          16,
          19,
          14,
          29,
          14,
          18,
          13,
          22,
          18,
          14,
          15,
          18,
          28,
          14,
          21,
          17,
          15,
          15,
          10,
          18,
          18,
          18,
          19,
          18,
          15,
          16,
          16,
          17,
          21,
          19,
          15,
          18,
          23,
          14,
          19,
          20,
          18,
          16,
          18,
          17,
          17,
          17,
          15,
          15,
          19,
          20,
          16,
          15,
          19,
          17,
          18,
          18,
          17,
          16,
          19,
          18,
          14,
          17,
          17,
          20,
          18,
          16,
          18,
          17,
          17,
          13,
          19,
          20,
          17,
          20,
          18,
          16,
          15,
          15,
          26,
          15,
          17,
          24,
          17,
          16,
          17,
          18,
          17,
          13,
          18,
          18,
          15,
          15,
          17,
          15,
          17,
          16,
          17,
          15,
          16,
          15,
          16,
          19,
          23,
          18,
          20,
          17,
          19,
          18,
          13,
          18,
          17,
          16,
          15,
          18,
          17,
          16,
          15,
          15,
          16,
          14,
          15,
          16,
          19,
          17,
          18,
          17,
          14,
          18,
          17,
          17,
          19,
          18,
          16,
          18,
          17,
          21,
          15,
          16,
          15,
          17,
          13,
          18,
          17,
          20,
          18,
          17,
          17,
          16,
          15,
          16,
          16,
          15,
          17,
          18,
          18,
          18,
          18,
          15,
          17,
          16,
          20,
          18,
          15,
          17,
          16,
          19,
          18,
          15,
          18,
          15,
          17,
          17,
          18,
          18,
          18,
          16,
          18,
          18,
          16,
          17,
          15,
          17,
          16,
          15,
          15,
          18,
          13,
          17,
          21,
          20,
          17,
          15,
          15,
          16,
          16,
          15,
          19,
          16,
          18,
          15,
          17,
          13,
          19,
          14,
          16,
          19,
          14,
          15,
          15,
          15,
          16,
          15,
          16,
          14,
          15,
          18,
          14,
          17,
          17,
          16,
          15,
          18,
          16,
          15,
          15,
          16,
          15,
          15,
          15,
          15,
          15,
          11,
          17,
          21,
          15,
          15,
          14,
          16,
          17,
          15,
          13,
          18,
          15,
          16,
          16,
          15,
          15,
          15,
          19,
          15,
          17,
          15,
          18,
          16,
          15,
          17,
          17,
          14,
          16,
          16,
          14,
          16,
          14,
          15,
          14,
          15,
          15,
          14,
          14,
          15,
          13,
          15,
          18,
          16,
          17,
          20,
          17,
          15,
          19,
          16,
          24,
          18,
          18,
          16,
          18,
          17,
          26,
          18,
          17,
          26,
          15,
          18,
          18,
          15,
          21,
          17,
          29,
          22,
          15,
          16,
          20,
          22,
          15,
          20,
          20,
          14,
          16,
          17,
          21,
          15,
          16,
          19,
          18,
          17,
          14,
          18,
          15,
          17,
          17,
          20,
          18,
          15,
          19,
          19,
          16,
          18,
          14,
          18,
          16,
          16,
          17,
          14,
          17,
          17,
          15,
          17,
          17,
          15,
          12,
          17,
          21,
          17,
          22,
          16,
          24,
          15,
          15,
          28,
          17,
          15,
          18,
          19,
          25,
          17,
          15,
          14,
          17,
          18,
          14,
          18,
          15,
          15,
          15,
          16,
          18,
          28,
          14,
          15,
          18,
          15,
          15,
          15,
          14,
          18,
          18,
          15,
          15,
          16,
          21,
          18,
          16,
          17,
          18,
          17,
          16,
          16,
          18,
          19,
          15,
          15,
          23,
          12,
          16,
          17,
          15,
          18,
          15,
          18,
          17,
          14,
          16,
          18,
          15,
          15,
          17,
          18,
          15,
          15,
          19,
          16,
          20,
          18,
          14,
          18,
          18,
          17,
          14,
          17,
          16,
          15,
          15,
          17,
          17,
          20,
          17,
          17,
          17,
          19,
          16,
          14,
          16,
          14,
          16,
          16,
          18,
          18,
          14,
          15,
          17,
          19,
          13,
          16,
          18,
          19,
          27,
          13,
          19,
          17,
          15,
          29,
          16,
          18,
          15,
          15,
          19,
          16,
          15,
          21,
          14,
          17,
          15,
          17,
          15,
          18,
          15,
          16,
          14,
          13,
          14,
          16,
          17,
          18,
          21,
          16,
          17,
          14,
          17,
          16,
          17,
          15,
          15,
          17,
          17,
          19,
          15,
          15,
          17,
          22,
          17,
          17,
          19,
          21,
          20,
          17,
          19,
          18,
          18,
          18,
          16,
          17,
          19,
          20,
          14,
          17,
          14,
          15,
          13,
          18,
          15,
          20,
          13,
          15,
          18,
          18,
          18,
          16,
          19,
          14,
          15,
          18,
          15,
          15,
          14,
          18,
          16,
          14,
          16,
          26,
          15,
          14,
          15,
          14,
          17,
          14,
          18,
          18,
          14,
          19,
          17,
          16,
          19,
          17,
          14,
          16,
          17,
          14,
          17,
          17,
          15,
          13,
          14,
          13,
          13,
          16,
          16,
          17,
          16,
          22,
          18,
          18,
          20,
          20,
          19,
          27,
          17,
          17,
          16,
          21,
          14,
          16,
          23,
          18,
          17,
          15,
          14,
          17,
          18,
          19,
          16,
          15,
          16,
          14,
          15,
          15,
          17,
          22,
          18,
          18,
          14,
          15,
          17,
          18,
          19,
          17,
          24,
          20
         ],
         "xaxis": "x",
         "yaxis": "y"
        },
        {
         "alignmentgroup": "True",
         "hovertemplate": "First sexual intercourse=%{x}<extra></extra>",
         "legendgroup": "",
         "marker": {
          "color": "rgb(3, 35, 51)"
         },
         "name": "",
         "notched": true,
         "offsetgroup": "",
         "showlegend": false,
         "type": "box",
         "x": [
          15,
          14,
          17,
          16,
          21,
          23,
          17,
          26,
          20,
          26,
          17,
          14,
          25,
          18,
          18,
          21,
          15,
          20,
          27,
          18,
          17,
          18,
          20,
          15,
          19,
          23,
          17,
          24,
          26,
          17,
          21,
          17,
          15,
          15,
          17,
          17,
          18,
          24,
          20,
          17,
          18,
          17,
          19,
          17,
          20,
          17,
          18,
          15,
          17,
          17,
          18,
          16,
          16,
          15,
          21,
          18,
          17,
          19,
          20,
          21,
          19,
          15,
          17,
          19,
          20,
          23,
          17,
          21,
          20,
          27,
          14,
          21,
          17,
          19,
          27,
          15,
          18,
          18,
          15,
          20,
          20,
          18,
          16,
          32,
          16,
          16,
          29,
          16,
          11,
          18,
          18,
          15,
          16,
          18,
          17,
          18,
          16,
          19,
          15,
          17,
          19,
          23,
          15,
          13,
          17,
          17,
          15,
          16,
          15,
          14,
          17,
          16,
          19,
          14,
          29,
          14,
          18,
          13,
          22,
          18,
          14,
          15,
          18,
          28,
          14,
          21,
          17,
          15,
          15,
          10,
          18,
          18,
          18,
          19,
          18,
          15,
          16,
          16,
          17,
          21,
          19,
          15,
          18,
          23,
          14,
          19,
          20,
          18,
          16,
          18,
          17,
          17,
          17,
          15,
          15,
          19,
          20,
          16,
          15,
          19,
          17,
          18,
          18,
          17,
          16,
          19,
          18,
          14,
          17,
          17,
          20,
          18,
          16,
          18,
          17,
          17,
          13,
          19,
          20,
          17,
          20,
          18,
          16,
          15,
          15,
          26,
          15,
          17,
          24,
          17,
          16,
          17,
          18,
          17,
          13,
          18,
          18,
          15,
          15,
          17,
          15,
          17,
          16,
          17,
          15,
          16,
          15,
          16,
          19,
          23,
          18,
          20,
          17,
          19,
          18,
          13,
          18,
          17,
          16,
          15,
          18,
          17,
          16,
          15,
          15,
          16,
          14,
          15,
          16,
          19,
          17,
          18,
          17,
          14,
          18,
          17,
          17,
          19,
          18,
          16,
          18,
          17,
          21,
          15,
          16,
          15,
          17,
          13,
          18,
          17,
          20,
          18,
          17,
          17,
          16,
          15,
          16,
          16,
          15,
          17,
          18,
          18,
          18,
          18,
          15,
          17,
          16,
          20,
          18,
          15,
          17,
          16,
          19,
          18,
          15,
          18,
          15,
          17,
          17,
          18,
          18,
          18,
          16,
          18,
          18,
          16,
          17,
          15,
          17,
          16,
          15,
          15,
          18,
          13,
          17,
          21,
          20,
          17,
          15,
          15,
          16,
          16,
          15,
          19,
          16,
          18,
          15,
          17,
          13,
          19,
          14,
          16,
          19,
          14,
          15,
          15,
          15,
          16,
          15,
          16,
          14,
          15,
          18,
          14,
          17,
          17,
          16,
          15,
          18,
          16,
          15,
          15,
          16,
          15,
          15,
          15,
          15,
          15,
          11,
          17,
          21,
          15,
          15,
          14,
          16,
          17,
          15,
          13,
          18,
          15,
          16,
          16,
          15,
          15,
          15,
          19,
          15,
          17,
          15,
          18,
          16,
          15,
          17,
          17,
          14,
          16,
          16,
          14,
          16,
          14,
          15,
          14,
          15,
          15,
          14,
          14,
          15,
          13,
          15,
          18,
          16,
          17,
          20,
          17,
          15,
          19,
          16,
          24,
          18,
          18,
          16,
          18,
          17,
          26,
          18,
          17,
          26,
          15,
          18,
          18,
          15,
          21,
          17,
          29,
          22,
          15,
          16,
          20,
          22,
          15,
          20,
          20,
          14,
          16,
          17,
          21,
          15,
          16,
          19,
          18,
          17,
          14,
          18,
          15,
          17,
          17,
          20,
          18,
          15,
          19,
          19,
          16,
          18,
          14,
          18,
          16,
          16,
          17,
          14,
          17,
          17,
          15,
          17,
          17,
          15,
          12,
          17,
          21,
          17,
          22,
          16,
          24,
          15,
          15,
          28,
          17,
          15,
          18,
          19,
          25,
          17,
          15,
          14,
          17,
          18,
          14,
          18,
          15,
          15,
          15,
          16,
          18,
          28,
          14,
          15,
          18,
          15,
          15,
          15,
          14,
          18,
          18,
          15,
          15,
          16,
          21,
          18,
          16,
          17,
          18,
          17,
          16,
          16,
          18,
          19,
          15,
          15,
          23,
          12,
          16,
          17,
          15,
          18,
          15,
          18,
          17,
          14,
          16,
          18,
          15,
          15,
          17,
          18,
          15,
          15,
          19,
          16,
          20,
          18,
          14,
          18,
          18,
          17,
          14,
          17,
          16,
          15,
          15,
          17,
          17,
          20,
          17,
          17,
          17,
          19,
          16,
          14,
          16,
          14,
          16,
          16,
          18,
          18,
          14,
          15,
          17,
          19,
          13,
          16,
          18,
          19,
          27,
          13,
          19,
          17,
          15,
          29,
          16,
          18,
          15,
          15,
          19,
          16,
          15,
          21,
          14,
          17,
          15,
          17,
          15,
          18,
          15,
          16,
          14,
          13,
          14,
          16,
          17,
          18,
          21,
          16,
          17,
          14,
          17,
          16,
          17,
          15,
          15,
          17,
          17,
          19,
          15,
          15,
          17,
          22,
          17,
          17,
          19,
          21,
          20,
          17,
          19,
          18,
          18,
          18,
          16,
          17,
          19,
          20,
          14,
          17,
          14,
          15,
          13,
          18,
          15,
          20,
          13,
          15,
          18,
          18,
          18,
          16,
          19,
          14,
          15,
          18,
          15,
          15,
          14,
          18,
          16,
          14,
          16,
          26,
          15,
          14,
          15,
          14,
          17,
          14,
          18,
          18,
          14,
          19,
          17,
          16,
          19,
          17,
          14,
          16,
          17,
          14,
          17,
          17,
          15,
          13,
          14,
          13,
          13,
          16,
          16,
          17,
          16,
          22,
          18,
          18,
          20,
          20,
          19,
          27,
          17,
          17,
          16,
          21,
          14,
          16,
          23,
          18,
          17,
          15,
          14,
          17,
          18,
          19,
          16,
          15,
          16,
          14,
          15,
          15,
          17,
          22,
          18,
          18,
          14,
          15,
          17,
          18,
          19,
          17,
          24,
          20
         ],
         "xaxis": "x2",
         "yaxis": "y2"
        }
       ],
       "layout": {
        "bargap": 0.2,
        "barmode": "relative",
        "legend": {
         "tracegroupgap": 0
        },
        "margin": {
         "t": 60
        },
        "template": {
         "data": {
          "bar": [
           {
            "error_x": {
             "color": "#2a3f5f"
            },
            "error_y": {
             "color": "#2a3f5f"
            },
            "marker": {
             "line": {
              "color": "#E5ECF6",
              "width": 0.5
             },
             "pattern": {
              "fillmode": "overlay",
              "size": 10,
              "solidity": 0.2
             }
            },
            "type": "bar"
           }
          ],
          "barpolar": [
           {
            "marker": {
             "line": {
              "color": "#E5ECF6",
              "width": 0.5
             },
             "pattern": {
              "fillmode": "overlay",
              "size": 10,
              "solidity": 0.2
             }
            },
            "type": "barpolar"
           }
          ],
          "carpet": [
           {
            "aaxis": {
             "endlinecolor": "#2a3f5f",
             "gridcolor": "white",
             "linecolor": "white",
             "minorgridcolor": "white",
             "startlinecolor": "#2a3f5f"
            },
            "baxis": {
             "endlinecolor": "#2a3f5f",
             "gridcolor": "white",
             "linecolor": "white",
             "minorgridcolor": "white",
             "startlinecolor": "#2a3f5f"
            },
            "type": "carpet"
           }
          ],
          "choropleth": [
           {
            "colorbar": {
             "outlinewidth": 0,
             "ticks": ""
            },
            "type": "choropleth"
           }
          ],
          "contour": [
           {
            "colorbar": {
             "outlinewidth": 0,
             "ticks": ""
            },
            "colorscale": [
             [
              0,
              "#0d0887"
             ],
             [
              0.1111111111111111,
              "#46039f"
             ],
             [
              0.2222222222222222,
              "#7201a8"
             ],
             [
              0.3333333333333333,
              "#9c179e"
             ],
             [
              0.4444444444444444,
              "#bd3786"
             ],
             [
              0.5555555555555556,
              "#d8576b"
             ],
             [
              0.6666666666666666,
              "#ed7953"
             ],
             [
              0.7777777777777778,
              "#fb9f3a"
             ],
             [
              0.8888888888888888,
              "#fdca26"
             ],
             [
              1,
              "#f0f921"
             ]
            ],
            "type": "contour"
           }
          ],
          "contourcarpet": [
           {
            "colorbar": {
             "outlinewidth": 0,
             "ticks": ""
            },
            "type": "contourcarpet"
           }
          ],
          "heatmap": [
           {
            "colorbar": {
             "outlinewidth": 0,
             "ticks": ""
            },
            "colorscale": [
             [
              0,
              "#0d0887"
             ],
             [
              0.1111111111111111,
              "#46039f"
             ],
             [
              0.2222222222222222,
              "#7201a8"
             ],
             [
              0.3333333333333333,
              "#9c179e"
             ],
             [
              0.4444444444444444,
              "#bd3786"
             ],
             [
              0.5555555555555556,
              "#d8576b"
             ],
             [
              0.6666666666666666,
              "#ed7953"
             ],
             [
              0.7777777777777778,
              "#fb9f3a"
             ],
             [
              0.8888888888888888,
              "#fdca26"
             ],
             [
              1,
              "#f0f921"
             ]
            ],
            "type": "heatmap"
           }
          ],
          "heatmapgl": [
           {
            "colorbar": {
             "outlinewidth": 0,
             "ticks": ""
            },
            "colorscale": [
             [
              0,
              "#0d0887"
             ],
             [
              0.1111111111111111,
              "#46039f"
             ],
             [
              0.2222222222222222,
              "#7201a8"
             ],
             [
              0.3333333333333333,
              "#9c179e"
             ],
             [
              0.4444444444444444,
              "#bd3786"
             ],
             [
              0.5555555555555556,
              "#d8576b"
             ],
             [
              0.6666666666666666,
              "#ed7953"
             ],
             [
              0.7777777777777778,
              "#fb9f3a"
             ],
             [
              0.8888888888888888,
              "#fdca26"
             ],
             [
              1,
              "#f0f921"
             ]
            ],
            "type": "heatmapgl"
           }
          ],
          "histogram": [
           {
            "marker": {
             "pattern": {
              "fillmode": "overlay",
              "size": 10,
              "solidity": 0.2
             }
            },
            "type": "histogram"
           }
          ],
          "histogram2d": [
           {
            "colorbar": {
             "outlinewidth": 0,
             "ticks": ""
            },
            "colorscale": [
             [
              0,
              "#0d0887"
             ],
             [
              0.1111111111111111,
              "#46039f"
             ],
             [
              0.2222222222222222,
              "#7201a8"
             ],
             [
              0.3333333333333333,
              "#9c179e"
             ],
             [
              0.4444444444444444,
              "#bd3786"
             ],
             [
              0.5555555555555556,
              "#d8576b"
             ],
             [
              0.6666666666666666,
              "#ed7953"
             ],
             [
              0.7777777777777778,
              "#fb9f3a"
             ],
             [
              0.8888888888888888,
              "#fdca26"
             ],
             [
              1,
              "#f0f921"
             ]
            ],
            "type": "histogram2d"
           }
          ],
          "histogram2dcontour": [
           {
            "colorbar": {
             "outlinewidth": 0,
             "ticks": ""
            },
            "colorscale": [
             [
              0,
              "#0d0887"
             ],
             [
              0.1111111111111111,
              "#46039f"
             ],
             [
              0.2222222222222222,
              "#7201a8"
             ],
             [
              0.3333333333333333,
              "#9c179e"
             ],
             [
              0.4444444444444444,
              "#bd3786"
             ],
             [
              0.5555555555555556,
              "#d8576b"
             ],
             [
              0.6666666666666666,
              "#ed7953"
             ],
             [
              0.7777777777777778,
              "#fb9f3a"
             ],
             [
              0.8888888888888888,
              "#fdca26"
             ],
             [
              1,
              "#f0f921"
             ]
            ],
            "type": "histogram2dcontour"
           }
          ],
          "mesh3d": [
           {
            "colorbar": {
             "outlinewidth": 0,
             "ticks": ""
            },
            "type": "mesh3d"
           }
          ],
          "parcoords": [
           {
            "line": {
             "colorbar": {
              "outlinewidth": 0,
              "ticks": ""
             }
            },
            "type": "parcoords"
           }
          ],
          "pie": [
           {
            "automargin": true,
            "type": "pie"
           }
          ],
          "scatter": [
           {
            "fillpattern": {
             "fillmode": "overlay",
             "size": 10,
             "solidity": 0.2
            },
            "type": "scatter"
           }
          ],
          "scatter3d": [
           {
            "line": {
             "colorbar": {
              "outlinewidth": 0,
              "ticks": ""
             }
            },
            "marker": {
             "colorbar": {
              "outlinewidth": 0,
              "ticks": ""
             }
            },
            "type": "scatter3d"
           }
          ],
          "scattercarpet": [
           {
            "marker": {
             "colorbar": {
              "outlinewidth": 0,
              "ticks": ""
             }
            },
            "type": "scattercarpet"
           }
          ],
          "scattergeo": [
           {
            "marker": {
             "colorbar": {
              "outlinewidth": 0,
              "ticks": ""
             }
            },
            "type": "scattergeo"
           }
          ],
          "scattergl": [
           {
            "marker": {
             "colorbar": {
              "outlinewidth": 0,
              "ticks": ""
             }
            },
            "type": "scattergl"
           }
          ],
          "scattermapbox": [
           {
            "marker": {
             "colorbar": {
              "outlinewidth": 0,
              "ticks": ""
             }
            },
            "type": "scattermapbox"
           }
          ],
          "scatterpolar": [
           {
            "marker": {
             "colorbar": {
              "outlinewidth": 0,
              "ticks": ""
             }
            },
            "type": "scatterpolar"
           }
          ],
          "scatterpolargl": [
           {
            "marker": {
             "colorbar": {
              "outlinewidth": 0,
              "ticks": ""
             }
            },
            "type": "scatterpolargl"
           }
          ],
          "scatterternary": [
           {
            "marker": {
             "colorbar": {
              "outlinewidth": 0,
              "ticks": ""
             }
            },
            "type": "scatterternary"
           }
          ],
          "surface": [
           {
            "colorbar": {
             "outlinewidth": 0,
             "ticks": ""
            },
            "colorscale": [
             [
              0,
              "#0d0887"
             ],
             [
              0.1111111111111111,
              "#46039f"
             ],
             [
              0.2222222222222222,
              "#7201a8"
             ],
             [
              0.3333333333333333,
              "#9c179e"
             ],
             [
              0.4444444444444444,
              "#bd3786"
             ],
             [
              0.5555555555555556,
              "#d8576b"
             ],
             [
              0.6666666666666666,
              "#ed7953"
             ],
             [
              0.7777777777777778,
              "#fb9f3a"
             ],
             [
              0.8888888888888888,
              "#fdca26"
             ],
             [
              1,
              "#f0f921"
             ]
            ],
            "type": "surface"
           }
          ],
          "table": [
           {
            "cells": {
             "fill": {
              "color": "#EBF0F8"
             },
             "line": {
              "color": "white"
             }
            },
            "header": {
             "fill": {
              "color": "#C8D4E3"
             },
             "line": {
              "color": "white"
             }
            },
            "type": "table"
           }
          ]
         },
         "layout": {
          "annotationdefaults": {
           "arrowcolor": "#2a3f5f",
           "arrowhead": 0,
           "arrowwidth": 1
          },
          "autotypenumbers": "strict",
          "coloraxis": {
           "colorbar": {
            "outlinewidth": 0,
            "ticks": ""
           }
          },
          "colorscale": {
           "diverging": [
            [
             0,
             "#8e0152"
            ],
            [
             0.1,
             "#c51b7d"
            ],
            [
             0.2,
             "#de77ae"
            ],
            [
             0.3,
             "#f1b6da"
            ],
            [
             0.4,
             "#fde0ef"
            ],
            [
             0.5,
             "#f7f7f7"
            ],
            [
             0.6,
             "#e6f5d0"
            ],
            [
             0.7,
             "#b8e186"
            ],
            [
             0.8,
             "#7fbc41"
            ],
            [
             0.9,
             "#4d9221"
            ],
            [
             1,
             "#276419"
            ]
           ],
           "sequential": [
            [
             0,
             "#0d0887"
            ],
            [
             0.1111111111111111,
             "#46039f"
            ],
            [
             0.2222222222222222,
             "#7201a8"
            ],
            [
             0.3333333333333333,
             "#9c179e"
            ],
            [
             0.4444444444444444,
             "#bd3786"
            ],
            [
             0.5555555555555556,
             "#d8576b"
            ],
            [
             0.6666666666666666,
             "#ed7953"
            ],
            [
             0.7777777777777778,
             "#fb9f3a"
            ],
            [
             0.8888888888888888,
             "#fdca26"
            ],
            [
             1,
             "#f0f921"
            ]
           ],
           "sequentialminus": [
            [
             0,
             "#0d0887"
            ],
            [
             0.1111111111111111,
             "#46039f"
            ],
            [
             0.2222222222222222,
             "#7201a8"
            ],
            [
             0.3333333333333333,
             "#9c179e"
            ],
            [
             0.4444444444444444,
             "#bd3786"
            ],
            [
             0.5555555555555556,
             "#d8576b"
            ],
            [
             0.6666666666666666,
             "#ed7953"
            ],
            [
             0.7777777777777778,
             "#fb9f3a"
            ],
            [
             0.8888888888888888,
             "#fdca26"
            ],
            [
             1,
             "#f0f921"
            ]
           ]
          },
          "colorway": [
           "#636efa",
           "#EF553B",
           "#00cc96",
           "#ab63fa",
           "#FFA15A",
           "#19d3f3",
           "#FF6692",
           "#B6E880",
           "#FF97FF",
           "#FECB52"
          ],
          "font": {
           "color": "#2a3f5f"
          },
          "geo": {
           "bgcolor": "white",
           "lakecolor": "white",
           "landcolor": "#E5ECF6",
           "showlakes": true,
           "showland": true,
           "subunitcolor": "white"
          },
          "hoverlabel": {
           "align": "left"
          },
          "hovermode": "closest",
          "mapbox": {
           "style": "light"
          },
          "paper_bgcolor": "white",
          "plot_bgcolor": "#E5ECF6",
          "polar": {
           "angularaxis": {
            "gridcolor": "white",
            "linecolor": "white",
            "ticks": ""
           },
           "bgcolor": "#E5ECF6",
           "radialaxis": {
            "gridcolor": "white",
            "linecolor": "white",
            "ticks": ""
           }
          },
          "scene": {
           "xaxis": {
            "backgroundcolor": "#E5ECF6",
            "gridcolor": "white",
            "gridwidth": 2,
            "linecolor": "white",
            "showbackground": true,
            "ticks": "",
            "zerolinecolor": "white"
           },
           "yaxis": {
            "backgroundcolor": "#E5ECF6",
            "gridcolor": "white",
            "gridwidth": 2,
            "linecolor": "white",
            "showbackground": true,
            "ticks": "",
            "zerolinecolor": "white"
           },
           "zaxis": {
            "backgroundcolor": "#E5ECF6",
            "gridcolor": "white",
            "gridwidth": 2,
            "linecolor": "white",
            "showbackground": true,
            "ticks": "",
            "zerolinecolor": "white"
           }
          },
          "shapedefaults": {
           "line": {
            "color": "#2a3f5f"
           }
          },
          "ternary": {
           "aaxis": {
            "gridcolor": "white",
            "linecolor": "white",
            "ticks": ""
           },
           "baxis": {
            "gridcolor": "white",
            "linecolor": "white",
            "ticks": ""
           },
           "bgcolor": "#E5ECF6",
           "caxis": {
            "gridcolor": "white",
            "linecolor": "white",
            "ticks": ""
           }
          },
          "title": {
           "x": 0.05
          },
          "xaxis": {
           "automargin": true,
           "gridcolor": "white",
           "linecolor": "white",
           "ticks": "",
           "title": {
            "standoff": 15
           },
           "zerolinecolor": "white",
           "zerolinewidth": 2
          },
          "yaxis": {
           "automargin": true,
           "gridcolor": "white",
           "linecolor": "white",
           "ticks": "",
           "title": {
            "standoff": 15
           },
           "zerolinecolor": "white",
           "zerolinewidth": 2
          }
         }
        },
        "width": 700,
        "xaxis": {
         "anchor": "y",
         "domain": [
          0,
          1
         ],
         "title": {
          "text": "First sexual intercourse"
         }
        },
        "xaxis2": {
         "anchor": "y2",
         "domain": [
          0,
          1
         ],
         "matches": "x",
         "showgrid": true,
         "showticklabels": false
        },
        "yaxis": {
         "anchor": "x",
         "domain": [
          0,
          0.8316
         ],
         "title": {
          "text": "count"
         }
        },
        "yaxis2": {
         "anchor": "x2",
         "domain": [
          0.8416,
          1
         ],
         "matches": "y2",
         "showgrid": false,
         "showline": false,
         "showticklabels": false,
         "ticks": ""
        }
       }
      }
     },
     "metadata": {},
     "output_type": "display_data"
    },
    {
     "name": "stdout",
     "output_type": "stream",
     "text": [
      "First sexual intercourse\n",
      "median: 17.0, upper fence: 22.5, lower fence: 10.5\n"
     ]
    },
    {
     "data": {
      "application/vnd.plotly.v1+json": {
       "config": {
        "plotlyServerURL": "https://plot.ly"
       },
       "data": [
        {
         "alignmentgroup": "True",
         "bingroup": "x",
         "hovertemplate": "Num of pregnancies=%{x}<br>count=%{y}<extra></extra>",
         "legendgroup": "",
         "marker": {
          "color": "rgb(3, 35, 51)",
          "pattern": {
           "shape": ""
          }
         },
         "name": "",
         "offsetgroup": "",
         "orientation": "v",
         "showlegend": false,
         "type": "histogram",
         "x": [
          1,
          1,
          1,
          4,
          4,
          2,
          6,
          3,
          5,
          4,
          3,
          6,
          2,
          5,
          2,
          3,
          8,
          2,
          2,
          4,
          4,
          1,
          2,
          3,
          1,
          2,
          4,
          1,
          1,
          3,
          2,
          5,
          3,
          2,
          5,
          4,
          1,
          4,
          3,
          5,
          3,
          3,
          3,
          4,
          3,
          4,
          3,
          4,
          1,
          3,
          4,
          3,
          5,
          4,
          6,
          6,
          4,
          3,
          5,
          1,
          2,
          4,
          3,
          2,
          2,
          2,
          3,
          2,
          2,
          2,
          5,
          1,
          6,
          3,
          3,
          3,
          2,
          2,
          3,
          1,
          2,
          2,
          2,
          5,
          3,
          2,
          2,
          2,
          2,
          2,
          7,
          4,
          4,
          3,
          4,
          2,
          1,
          2,
          1,
          2,
          2,
          4,
          3,
          2,
          2,
          3,
          4,
          3,
          4,
          4,
          4,
          2,
          4,
          1,
          6,
          6,
          3,
          2,
          2,
          3,
          2,
          3,
          1,
          3,
          2,
          1,
          6,
          3,
          5,
          2,
          2,
          2,
          2,
          3,
          2,
          2,
          2,
          2,
          2,
          3,
          2,
          3,
          4,
          2,
          2,
          2,
          3,
          4,
          3,
          2,
          2,
          3,
          5,
          3,
          2,
          2,
          2,
          1,
          4,
          3,
          2,
          2,
          3,
          2,
          3,
          2,
          4,
          3,
          2,
          3,
          2,
          2,
          2,
          4,
          2,
          2,
          2,
          2,
          2,
          2,
          1,
          2,
          4,
          1,
          6,
          3,
          1,
          3,
          2,
          4,
          1,
          2,
          2,
          4,
          1,
          3,
          4,
          1,
          5,
          1,
          2,
          1,
          3,
          5,
          2,
          3,
          1,
          1,
          3,
          1,
          2,
          2,
          2,
          1,
          2,
          2,
          1,
          2,
          1,
          1,
          1,
          1,
          4,
          1,
          2,
          2,
          2,
          1,
          3,
          2,
          1,
          2,
          1,
          1,
          3,
          1,
          2,
          2,
          1,
          3,
          2,
          2,
          3,
          2,
          2,
          2,
          2,
          3,
          1,
          2,
          1,
          1,
          3,
          3,
          1,
          3,
          2,
          1,
          1,
          3,
          1,
          4,
          3,
          2,
          2,
          1,
          1,
          1,
          2,
          4,
          1,
          1,
          1,
          5,
          4,
          5,
          4,
          2,
          4,
          2,
          7,
          1,
          1,
          1,
          1,
          2,
          2,
          2,
          2,
          1,
          4,
          4,
          1,
          4,
          2,
          1,
          2,
          1,
          2,
          2,
          1,
          1,
          1,
          1,
          1,
          1,
          3,
          2,
          2,
          3,
          2,
          4,
          1,
          1,
          1,
          1,
          3,
          2,
          3,
          3,
          1,
          3,
          1,
          1,
          1,
          1,
          1,
          2,
          3,
          1,
          3,
          1,
          1,
          2,
          2,
          1,
          3,
          1,
          5,
          1,
          2,
          2,
          2,
          1,
          2,
          2,
          1,
          1,
          1,
          1,
          1,
          2,
          1,
          1,
          1,
          2,
          1,
          2,
          2,
          1,
          1,
          1,
          1,
          1,
          1,
          2,
          2,
          1,
          1,
          1,
          2,
          1,
          2,
          2,
          2,
          1,
          1,
          4,
          1,
          3,
          4,
          6,
          2,
          2,
          1,
          2,
          2,
          4,
          4,
          1,
          3,
          2,
          2,
          1,
          3,
          1,
          1,
          3,
          3,
          1,
          5,
          1,
          2,
          2,
          5,
          1,
          4,
          1,
          2,
          1,
          1,
          1,
          1,
          1,
          4,
          1,
          2,
          2,
          1,
          2,
          2,
          1,
          2,
          3,
          4,
          3,
          1,
          1,
          1,
          1,
          1,
          2,
          2,
          1,
          1,
          1,
          2,
          2,
          1,
          2,
          3,
          1,
          4,
          1,
          3,
          4,
          3,
          1,
          2,
          3,
          2,
          3,
          1,
          1,
          3,
          3,
          1,
          1,
          2,
          2,
          3,
          2,
          2,
          1,
          1,
          4,
          2,
          2,
          1,
          1,
          2,
          6,
          7,
          4,
          2,
          1,
          2,
          1,
          1,
          1,
          2,
          1,
          1,
          1,
          2,
          2,
          2,
          1,
          5,
          1,
          3,
          3,
          1,
          1,
          2,
          1,
          6,
          2,
          1,
          1,
          2,
          5,
          3,
          2,
          2,
          1,
          3,
          3,
          6,
          3,
          4,
          2,
          2,
          3,
          5,
          5,
          6,
          1,
          3,
          2,
          4,
          1,
          2,
          4,
          1,
          3,
          2,
          2,
          2,
          2,
          2,
          0,
          3,
          2,
          2,
          3,
          1,
          1,
          5,
          3,
          4,
          1,
          1,
          3,
          5,
          0,
          4,
          4,
          2,
          3,
          0,
          1,
          7,
          2,
          0,
          10,
          3,
          6,
          6,
          2,
          4,
          4,
          2,
          2,
          2,
          2,
          2,
          2,
          2,
          2,
          2,
          2,
          2,
          2,
          2,
          2,
          2,
          2,
          1,
          1,
          2,
          1,
          1,
          2,
          2,
          4,
          1,
          3,
          3,
          4,
          1,
          1,
          2,
          1,
          3,
          2,
          2,
          1,
          2,
          1,
          4,
          3,
          4,
          2,
          2,
          2,
          7,
          2,
          6,
          2,
          2,
          5,
          1,
          3,
          1,
          1,
          5,
          1,
          4,
          1,
          3,
          1,
          2,
          2,
          5,
          3,
          4,
          2,
          1,
          3,
          3,
          1,
          1,
          4,
          1,
          2,
          3,
          2,
          3,
          1,
          2,
          2,
          1,
          3,
          5,
          3,
          2,
          2,
          1,
          3,
          1,
          1,
          2,
          5,
          1,
          2,
          2,
          2,
          2,
          2,
          2,
          2,
          2,
          2,
          2,
          1,
          2,
          0,
          2,
          1,
          0,
          3,
          0,
          4,
          4,
          2,
          0,
          0,
          0,
          0,
          0,
          3,
          1,
          3,
          0,
          3,
          3,
          1,
          2,
          1,
          1,
          1,
          1,
          0,
          2,
          3,
          0,
          1,
          0,
          2,
          1
         ],
         "xaxis": "x",
         "yaxis": "y"
        },
        {
         "alignmentgroup": "True",
         "hovertemplate": "Num of pregnancies=%{x}<extra></extra>",
         "legendgroup": "",
         "marker": {
          "color": "rgb(3, 35, 51)"
         },
         "name": "",
         "notched": true,
         "offsetgroup": "",
         "showlegend": false,
         "type": "box",
         "x": [
          1,
          1,
          1,
          4,
          4,
          2,
          6,
          3,
          5,
          4,
          3,
          6,
          2,
          5,
          2,
          3,
          8,
          2,
          2,
          4,
          4,
          1,
          2,
          3,
          1,
          2,
          4,
          1,
          1,
          3,
          2,
          5,
          3,
          2,
          5,
          4,
          1,
          4,
          3,
          5,
          3,
          3,
          3,
          4,
          3,
          4,
          3,
          4,
          1,
          3,
          4,
          3,
          5,
          4,
          6,
          6,
          4,
          3,
          5,
          1,
          2,
          4,
          3,
          2,
          2,
          2,
          3,
          2,
          2,
          2,
          5,
          1,
          6,
          3,
          3,
          3,
          2,
          2,
          3,
          1,
          2,
          2,
          2,
          5,
          3,
          2,
          2,
          2,
          2,
          2,
          7,
          4,
          4,
          3,
          4,
          2,
          1,
          2,
          1,
          2,
          2,
          4,
          3,
          2,
          2,
          3,
          4,
          3,
          4,
          4,
          4,
          2,
          4,
          1,
          6,
          6,
          3,
          2,
          2,
          3,
          2,
          3,
          1,
          3,
          2,
          1,
          6,
          3,
          5,
          2,
          2,
          2,
          2,
          3,
          2,
          2,
          2,
          2,
          2,
          3,
          2,
          3,
          4,
          2,
          2,
          2,
          3,
          4,
          3,
          2,
          2,
          3,
          5,
          3,
          2,
          2,
          2,
          1,
          4,
          3,
          2,
          2,
          3,
          2,
          3,
          2,
          4,
          3,
          2,
          3,
          2,
          2,
          2,
          4,
          2,
          2,
          2,
          2,
          2,
          2,
          1,
          2,
          4,
          1,
          6,
          3,
          1,
          3,
          2,
          4,
          1,
          2,
          2,
          4,
          1,
          3,
          4,
          1,
          5,
          1,
          2,
          1,
          3,
          5,
          2,
          3,
          1,
          1,
          3,
          1,
          2,
          2,
          2,
          1,
          2,
          2,
          1,
          2,
          1,
          1,
          1,
          1,
          4,
          1,
          2,
          2,
          2,
          1,
          3,
          2,
          1,
          2,
          1,
          1,
          3,
          1,
          2,
          2,
          1,
          3,
          2,
          2,
          3,
          2,
          2,
          2,
          2,
          3,
          1,
          2,
          1,
          1,
          3,
          3,
          1,
          3,
          2,
          1,
          1,
          3,
          1,
          4,
          3,
          2,
          2,
          1,
          1,
          1,
          2,
          4,
          1,
          1,
          1,
          5,
          4,
          5,
          4,
          2,
          4,
          2,
          7,
          1,
          1,
          1,
          1,
          2,
          2,
          2,
          2,
          1,
          4,
          4,
          1,
          4,
          2,
          1,
          2,
          1,
          2,
          2,
          1,
          1,
          1,
          1,
          1,
          1,
          3,
          2,
          2,
          3,
          2,
          4,
          1,
          1,
          1,
          1,
          3,
          2,
          3,
          3,
          1,
          3,
          1,
          1,
          1,
          1,
          1,
          2,
          3,
          1,
          3,
          1,
          1,
          2,
          2,
          1,
          3,
          1,
          5,
          1,
          2,
          2,
          2,
          1,
          2,
          2,
          1,
          1,
          1,
          1,
          1,
          2,
          1,
          1,
          1,
          2,
          1,
          2,
          2,
          1,
          1,
          1,
          1,
          1,
          1,
          2,
          2,
          1,
          1,
          1,
          2,
          1,
          2,
          2,
          2,
          1,
          1,
          4,
          1,
          3,
          4,
          6,
          2,
          2,
          1,
          2,
          2,
          4,
          4,
          1,
          3,
          2,
          2,
          1,
          3,
          1,
          1,
          3,
          3,
          1,
          5,
          1,
          2,
          2,
          5,
          1,
          4,
          1,
          2,
          1,
          1,
          1,
          1,
          1,
          4,
          1,
          2,
          2,
          1,
          2,
          2,
          1,
          2,
          3,
          4,
          3,
          1,
          1,
          1,
          1,
          1,
          2,
          2,
          1,
          1,
          1,
          2,
          2,
          1,
          2,
          3,
          1,
          4,
          1,
          3,
          4,
          3,
          1,
          2,
          3,
          2,
          3,
          1,
          1,
          3,
          3,
          1,
          1,
          2,
          2,
          3,
          2,
          2,
          1,
          1,
          4,
          2,
          2,
          1,
          1,
          2,
          6,
          7,
          4,
          2,
          1,
          2,
          1,
          1,
          1,
          2,
          1,
          1,
          1,
          2,
          2,
          2,
          1,
          5,
          1,
          3,
          3,
          1,
          1,
          2,
          1,
          6,
          2,
          1,
          1,
          2,
          5,
          3,
          2,
          2,
          1,
          3,
          3,
          6,
          3,
          4,
          2,
          2,
          3,
          5,
          5,
          6,
          1,
          3,
          2,
          4,
          1,
          2,
          4,
          1,
          3,
          2,
          2,
          2,
          2,
          2,
          0,
          3,
          2,
          2,
          3,
          1,
          1,
          5,
          3,
          4,
          1,
          1,
          3,
          5,
          0,
          4,
          4,
          2,
          3,
          0,
          1,
          7,
          2,
          0,
          10,
          3,
          6,
          6,
          2,
          4,
          4,
          2,
          2,
          2,
          2,
          2,
          2,
          2,
          2,
          2,
          2,
          2,
          2,
          2,
          2,
          2,
          2,
          1,
          1,
          2,
          1,
          1,
          2,
          2,
          4,
          1,
          3,
          3,
          4,
          1,
          1,
          2,
          1,
          3,
          2,
          2,
          1,
          2,
          1,
          4,
          3,
          4,
          2,
          2,
          2,
          7,
          2,
          6,
          2,
          2,
          5,
          1,
          3,
          1,
          1,
          5,
          1,
          4,
          1,
          3,
          1,
          2,
          2,
          5,
          3,
          4,
          2,
          1,
          3,
          3,
          1,
          1,
          4,
          1,
          2,
          3,
          2,
          3,
          1,
          2,
          2,
          1,
          3,
          5,
          3,
          2,
          2,
          1,
          3,
          1,
          1,
          2,
          5,
          1,
          2,
          2,
          2,
          2,
          2,
          2,
          2,
          2,
          2,
          2,
          1,
          2,
          0,
          2,
          1,
          0,
          3,
          0,
          4,
          4,
          2,
          0,
          0,
          0,
          0,
          0,
          3,
          1,
          3,
          0,
          3,
          3,
          1,
          2,
          1,
          1,
          1,
          1,
          0,
          2,
          3,
          0,
          1,
          0,
          2,
          1
         ],
         "xaxis": "x2",
         "yaxis": "y2"
        }
       ],
       "layout": {
        "bargap": 0.2,
        "barmode": "relative",
        "legend": {
         "tracegroupgap": 0
        },
        "margin": {
         "t": 60
        },
        "template": {
         "data": {
          "bar": [
           {
            "error_x": {
             "color": "#2a3f5f"
            },
            "error_y": {
             "color": "#2a3f5f"
            },
            "marker": {
             "line": {
              "color": "#E5ECF6",
              "width": 0.5
             },
             "pattern": {
              "fillmode": "overlay",
              "size": 10,
              "solidity": 0.2
             }
            },
            "type": "bar"
           }
          ],
          "barpolar": [
           {
            "marker": {
             "line": {
              "color": "#E5ECF6",
              "width": 0.5
             },
             "pattern": {
              "fillmode": "overlay",
              "size": 10,
              "solidity": 0.2
             }
            },
            "type": "barpolar"
           }
          ],
          "carpet": [
           {
            "aaxis": {
             "endlinecolor": "#2a3f5f",
             "gridcolor": "white",
             "linecolor": "white",
             "minorgridcolor": "white",
             "startlinecolor": "#2a3f5f"
            },
            "baxis": {
             "endlinecolor": "#2a3f5f",
             "gridcolor": "white",
             "linecolor": "white",
             "minorgridcolor": "white",
             "startlinecolor": "#2a3f5f"
            },
            "type": "carpet"
           }
          ],
          "choropleth": [
           {
            "colorbar": {
             "outlinewidth": 0,
             "ticks": ""
            },
            "type": "choropleth"
           }
          ],
          "contour": [
           {
            "colorbar": {
             "outlinewidth": 0,
             "ticks": ""
            },
            "colorscale": [
             [
              0,
              "#0d0887"
             ],
             [
              0.1111111111111111,
              "#46039f"
             ],
             [
              0.2222222222222222,
              "#7201a8"
             ],
             [
              0.3333333333333333,
              "#9c179e"
             ],
             [
              0.4444444444444444,
              "#bd3786"
             ],
             [
              0.5555555555555556,
              "#d8576b"
             ],
             [
              0.6666666666666666,
              "#ed7953"
             ],
             [
              0.7777777777777778,
              "#fb9f3a"
             ],
             [
              0.8888888888888888,
              "#fdca26"
             ],
             [
              1,
              "#f0f921"
             ]
            ],
            "type": "contour"
           }
          ],
          "contourcarpet": [
           {
            "colorbar": {
             "outlinewidth": 0,
             "ticks": ""
            },
            "type": "contourcarpet"
           }
          ],
          "heatmap": [
           {
            "colorbar": {
             "outlinewidth": 0,
             "ticks": ""
            },
            "colorscale": [
             [
              0,
              "#0d0887"
             ],
             [
              0.1111111111111111,
              "#46039f"
             ],
             [
              0.2222222222222222,
              "#7201a8"
             ],
             [
              0.3333333333333333,
              "#9c179e"
             ],
             [
              0.4444444444444444,
              "#bd3786"
             ],
             [
              0.5555555555555556,
              "#d8576b"
             ],
             [
              0.6666666666666666,
              "#ed7953"
             ],
             [
              0.7777777777777778,
              "#fb9f3a"
             ],
             [
              0.8888888888888888,
              "#fdca26"
             ],
             [
              1,
              "#f0f921"
             ]
            ],
            "type": "heatmap"
           }
          ],
          "heatmapgl": [
           {
            "colorbar": {
             "outlinewidth": 0,
             "ticks": ""
            },
            "colorscale": [
             [
              0,
              "#0d0887"
             ],
             [
              0.1111111111111111,
              "#46039f"
             ],
             [
              0.2222222222222222,
              "#7201a8"
             ],
             [
              0.3333333333333333,
              "#9c179e"
             ],
             [
              0.4444444444444444,
              "#bd3786"
             ],
             [
              0.5555555555555556,
              "#d8576b"
             ],
             [
              0.6666666666666666,
              "#ed7953"
             ],
             [
              0.7777777777777778,
              "#fb9f3a"
             ],
             [
              0.8888888888888888,
              "#fdca26"
             ],
             [
              1,
              "#f0f921"
             ]
            ],
            "type": "heatmapgl"
           }
          ],
          "histogram": [
           {
            "marker": {
             "pattern": {
              "fillmode": "overlay",
              "size": 10,
              "solidity": 0.2
             }
            },
            "type": "histogram"
           }
          ],
          "histogram2d": [
           {
            "colorbar": {
             "outlinewidth": 0,
             "ticks": ""
            },
            "colorscale": [
             [
              0,
              "#0d0887"
             ],
             [
              0.1111111111111111,
              "#46039f"
             ],
             [
              0.2222222222222222,
              "#7201a8"
             ],
             [
              0.3333333333333333,
              "#9c179e"
             ],
             [
              0.4444444444444444,
              "#bd3786"
             ],
             [
              0.5555555555555556,
              "#d8576b"
             ],
             [
              0.6666666666666666,
              "#ed7953"
             ],
             [
              0.7777777777777778,
              "#fb9f3a"
             ],
             [
              0.8888888888888888,
              "#fdca26"
             ],
             [
              1,
              "#f0f921"
             ]
            ],
            "type": "histogram2d"
           }
          ],
          "histogram2dcontour": [
           {
            "colorbar": {
             "outlinewidth": 0,
             "ticks": ""
            },
            "colorscale": [
             [
              0,
              "#0d0887"
             ],
             [
              0.1111111111111111,
              "#46039f"
             ],
             [
              0.2222222222222222,
              "#7201a8"
             ],
             [
              0.3333333333333333,
              "#9c179e"
             ],
             [
              0.4444444444444444,
              "#bd3786"
             ],
             [
              0.5555555555555556,
              "#d8576b"
             ],
             [
              0.6666666666666666,
              "#ed7953"
             ],
             [
              0.7777777777777778,
              "#fb9f3a"
             ],
             [
              0.8888888888888888,
              "#fdca26"
             ],
             [
              1,
              "#f0f921"
             ]
            ],
            "type": "histogram2dcontour"
           }
          ],
          "mesh3d": [
           {
            "colorbar": {
             "outlinewidth": 0,
             "ticks": ""
            },
            "type": "mesh3d"
           }
          ],
          "parcoords": [
           {
            "line": {
             "colorbar": {
              "outlinewidth": 0,
              "ticks": ""
             }
            },
            "type": "parcoords"
           }
          ],
          "pie": [
           {
            "automargin": true,
            "type": "pie"
           }
          ],
          "scatter": [
           {
            "fillpattern": {
             "fillmode": "overlay",
             "size": 10,
             "solidity": 0.2
            },
            "type": "scatter"
           }
          ],
          "scatter3d": [
           {
            "line": {
             "colorbar": {
              "outlinewidth": 0,
              "ticks": ""
             }
            },
            "marker": {
             "colorbar": {
              "outlinewidth": 0,
              "ticks": ""
             }
            },
            "type": "scatter3d"
           }
          ],
          "scattercarpet": [
           {
            "marker": {
             "colorbar": {
              "outlinewidth": 0,
              "ticks": ""
             }
            },
            "type": "scattercarpet"
           }
          ],
          "scattergeo": [
           {
            "marker": {
             "colorbar": {
              "outlinewidth": 0,
              "ticks": ""
             }
            },
            "type": "scattergeo"
           }
          ],
          "scattergl": [
           {
            "marker": {
             "colorbar": {
              "outlinewidth": 0,
              "ticks": ""
             }
            },
            "type": "scattergl"
           }
          ],
          "scattermapbox": [
           {
            "marker": {
             "colorbar": {
              "outlinewidth": 0,
              "ticks": ""
             }
            },
            "type": "scattermapbox"
           }
          ],
          "scatterpolar": [
           {
            "marker": {
             "colorbar": {
              "outlinewidth": 0,
              "ticks": ""
             }
            },
            "type": "scatterpolar"
           }
          ],
          "scatterpolargl": [
           {
            "marker": {
             "colorbar": {
              "outlinewidth": 0,
              "ticks": ""
             }
            },
            "type": "scatterpolargl"
           }
          ],
          "scatterternary": [
           {
            "marker": {
             "colorbar": {
              "outlinewidth": 0,
              "ticks": ""
             }
            },
            "type": "scatterternary"
           }
          ],
          "surface": [
           {
            "colorbar": {
             "outlinewidth": 0,
             "ticks": ""
            },
            "colorscale": [
             [
              0,
              "#0d0887"
             ],
             [
              0.1111111111111111,
              "#46039f"
             ],
             [
              0.2222222222222222,
              "#7201a8"
             ],
             [
              0.3333333333333333,
              "#9c179e"
             ],
             [
              0.4444444444444444,
              "#bd3786"
             ],
             [
              0.5555555555555556,
              "#d8576b"
             ],
             [
              0.6666666666666666,
              "#ed7953"
             ],
             [
              0.7777777777777778,
              "#fb9f3a"
             ],
             [
              0.8888888888888888,
              "#fdca26"
             ],
             [
              1,
              "#f0f921"
             ]
            ],
            "type": "surface"
           }
          ],
          "table": [
           {
            "cells": {
             "fill": {
              "color": "#EBF0F8"
             },
             "line": {
              "color": "white"
             }
            },
            "header": {
             "fill": {
              "color": "#C8D4E3"
             },
             "line": {
              "color": "white"
             }
            },
            "type": "table"
           }
          ]
         },
         "layout": {
          "annotationdefaults": {
           "arrowcolor": "#2a3f5f",
           "arrowhead": 0,
           "arrowwidth": 1
          },
          "autotypenumbers": "strict",
          "coloraxis": {
           "colorbar": {
            "outlinewidth": 0,
            "ticks": ""
           }
          },
          "colorscale": {
           "diverging": [
            [
             0,
             "#8e0152"
            ],
            [
             0.1,
             "#c51b7d"
            ],
            [
             0.2,
             "#de77ae"
            ],
            [
             0.3,
             "#f1b6da"
            ],
            [
             0.4,
             "#fde0ef"
            ],
            [
             0.5,
             "#f7f7f7"
            ],
            [
             0.6,
             "#e6f5d0"
            ],
            [
             0.7,
             "#b8e186"
            ],
            [
             0.8,
             "#7fbc41"
            ],
            [
             0.9,
             "#4d9221"
            ],
            [
             1,
             "#276419"
            ]
           ],
           "sequential": [
            [
             0,
             "#0d0887"
            ],
            [
             0.1111111111111111,
             "#46039f"
            ],
            [
             0.2222222222222222,
             "#7201a8"
            ],
            [
             0.3333333333333333,
             "#9c179e"
            ],
            [
             0.4444444444444444,
             "#bd3786"
            ],
            [
             0.5555555555555556,
             "#d8576b"
            ],
            [
             0.6666666666666666,
             "#ed7953"
            ],
            [
             0.7777777777777778,
             "#fb9f3a"
            ],
            [
             0.8888888888888888,
             "#fdca26"
            ],
            [
             1,
             "#f0f921"
            ]
           ],
           "sequentialminus": [
            [
             0,
             "#0d0887"
            ],
            [
             0.1111111111111111,
             "#46039f"
            ],
            [
             0.2222222222222222,
             "#7201a8"
            ],
            [
             0.3333333333333333,
             "#9c179e"
            ],
            [
             0.4444444444444444,
             "#bd3786"
            ],
            [
             0.5555555555555556,
             "#d8576b"
            ],
            [
             0.6666666666666666,
             "#ed7953"
            ],
            [
             0.7777777777777778,
             "#fb9f3a"
            ],
            [
             0.8888888888888888,
             "#fdca26"
            ],
            [
             1,
             "#f0f921"
            ]
           ]
          },
          "colorway": [
           "#636efa",
           "#EF553B",
           "#00cc96",
           "#ab63fa",
           "#FFA15A",
           "#19d3f3",
           "#FF6692",
           "#B6E880",
           "#FF97FF",
           "#FECB52"
          ],
          "font": {
           "color": "#2a3f5f"
          },
          "geo": {
           "bgcolor": "white",
           "lakecolor": "white",
           "landcolor": "#E5ECF6",
           "showlakes": true,
           "showland": true,
           "subunitcolor": "white"
          },
          "hoverlabel": {
           "align": "left"
          },
          "hovermode": "closest",
          "mapbox": {
           "style": "light"
          },
          "paper_bgcolor": "white",
          "plot_bgcolor": "#E5ECF6",
          "polar": {
           "angularaxis": {
            "gridcolor": "white",
            "linecolor": "white",
            "ticks": ""
           },
           "bgcolor": "#E5ECF6",
           "radialaxis": {
            "gridcolor": "white",
            "linecolor": "white",
            "ticks": ""
           }
          },
          "scene": {
           "xaxis": {
            "backgroundcolor": "#E5ECF6",
            "gridcolor": "white",
            "gridwidth": 2,
            "linecolor": "white",
            "showbackground": true,
            "ticks": "",
            "zerolinecolor": "white"
           },
           "yaxis": {
            "backgroundcolor": "#E5ECF6",
            "gridcolor": "white",
            "gridwidth": 2,
            "linecolor": "white",
            "showbackground": true,
            "ticks": "",
            "zerolinecolor": "white"
           },
           "zaxis": {
            "backgroundcolor": "#E5ECF6",
            "gridcolor": "white",
            "gridwidth": 2,
            "linecolor": "white",
            "showbackground": true,
            "ticks": "",
            "zerolinecolor": "white"
           }
          },
          "shapedefaults": {
           "line": {
            "color": "#2a3f5f"
           }
          },
          "ternary": {
           "aaxis": {
            "gridcolor": "white",
            "linecolor": "white",
            "ticks": ""
           },
           "baxis": {
            "gridcolor": "white",
            "linecolor": "white",
            "ticks": ""
           },
           "bgcolor": "#E5ECF6",
           "caxis": {
            "gridcolor": "white",
            "linecolor": "white",
            "ticks": ""
           }
          },
          "title": {
           "x": 0.05
          },
          "xaxis": {
           "automargin": true,
           "gridcolor": "white",
           "linecolor": "white",
           "ticks": "",
           "title": {
            "standoff": 15
           },
           "zerolinecolor": "white",
           "zerolinewidth": 2
          },
          "yaxis": {
           "automargin": true,
           "gridcolor": "white",
           "linecolor": "white",
           "ticks": "",
           "title": {
            "standoff": 15
           },
           "zerolinecolor": "white",
           "zerolinewidth": 2
          }
         }
        },
        "width": 700,
        "xaxis": {
         "anchor": "y",
         "domain": [
          0,
          1
         ],
         "title": {
          "text": "Num of pregnancies"
         }
        },
        "xaxis2": {
         "anchor": "y2",
         "domain": [
          0,
          1
         ],
         "matches": "x",
         "showgrid": true,
         "showticklabels": false
        },
        "yaxis": {
         "anchor": "x",
         "domain": [
          0,
          0.8316
         ],
         "title": {
          "text": "count"
         }
        },
        "yaxis2": {
         "anchor": "x2",
         "domain": [
          0.8416,
          1
         ],
         "matches": "y2",
         "showgrid": false,
         "showline": false,
         "showticklabels": false,
         "ticks": ""
        }
       }
      }
     },
     "metadata": {},
     "output_type": "display_data"
    },
    {
     "name": "stdout",
     "output_type": "stream",
     "text": [
      "Num of pregnancies\n",
      "median: 2.0, upper fence: 6.0, lower fence: -2.0\n"
     ]
    },
    {
     "data": {
      "application/vnd.plotly.v1+json": {
       "config": {
        "plotlyServerURL": "https://plot.ly"
       },
       "data": [
        {
         "alignmentgroup": "True",
         "bingroup": "x",
         "hovertemplate": "Hormonal Contraceptives (years)=%{x}<br>count=%{y}<extra></extra>",
         "legendgroup": "",
         "marker": {
          "color": "rgb(3, 35, 51)",
          "pattern": {
           "shape": ""
          }
         },
         "name": "",
         "offsetgroup": "",
         "orientation": "v",
         "showlegend": false,
         "type": "histogram",
         "x": [
          0,
          0,
          0,
          3,
          15,
          0,
          0,
          2,
          0,
          2,
          8,
          10,
          5,
          0,
          15,
          0.25,
          7,
          0,
          15,
          10,
          0.25,
          15,
          3,
          0,
          0,
          0,
          0,
          0.25,
          22,
          19,
          10,
          0.5,
          0.5,
          1,
          1,
          0.58,
          0,
          2,
          0,
          9,
          0,
          13,
          0.25,
          0,
          0,
          0.25,
          0.25,
          0,
          0.5,
          0,
          11,
          15,
          0,
          0.25,
          1,
          7,
          5,
          4,
          5,
          12,
          16,
          3,
          0,
          0,
          0.33,
          15,
          0.33,
          2,
          1,
          1,
          2,
          7,
          0.5,
          0.16,
          0,
          2,
          8,
          0,
          4,
          5,
          10,
          2,
          4,
          8,
          0.5,
          0,
          14,
          2,
          9,
          0.08,
          0,
          10,
          10,
          0,
          13,
          2.282200521,
          10,
          8,
          9,
          2,
          0.66,
          0,
          0,
          11,
          3,
          0,
          6,
          4,
          12,
          0,
          0,
          0,
          0,
          5,
          5,
          0,
          0.08,
          0.08,
          12,
          0,
          1,
          0,
          0.5,
          0,
          1,
          6,
          0.5,
          1,
          3,
          0,
          5,
          2,
          6,
          6,
          7,
          5,
          0,
          7,
          5,
          6,
          3,
          3,
          5,
          7,
          0,
          0,
          5,
          0.25,
          4,
          9,
          0,
          0,
          1,
          1,
          9,
          1,
          0,
          0.25,
          0,
          0.25,
          9,
          7,
          3,
          1,
          2,
          2,
          1.5,
          6,
          0,
          0,
          0,
          0,
          0,
          3,
          0.42,
          0,
          0.08,
          1,
          1,
          0.67,
          9,
          3,
          0,
          7,
          4,
          0.08,
          6,
          4,
          1,
          2,
          3,
          0.16,
          0,
          0,
          0,
          6,
          1,
          0,
          1,
          0.16,
          0.5,
          4,
          6,
          8,
          3,
          6,
          0.08,
          0,
          1,
          7,
          0.67,
          7,
          0.25,
          0.25,
          0.5,
          8,
          0,
          0,
          0,
          0.42,
          8,
          5,
          0,
          0,
          6,
          0,
          1,
          3,
          0,
          1,
          0,
          5,
          0,
          3,
          0,
          0,
          0,
          4,
          3,
          2,
          0,
          1,
          5,
          2,
          4,
          1,
          0.08,
          0,
          0,
          7,
          0,
          0.25,
          5,
          0,
          7,
          0,
          0,
          0.66,
          5,
          0.58,
          4,
          1,
          3,
          4,
          0.25,
          6,
          1,
          1,
          3,
          0.25,
          0.25,
          0,
          0.25,
          2.282200521,
          1,
          5,
          1,
          0,
          7,
          7,
          0.08,
          1,
          0.5,
          0,
          0.5,
          0,
          1,
          4,
          0,
          0,
          0,
          2,
          4,
          3,
          0.16,
          0.42,
          0.33,
          0,
          0.75,
          0.25,
          0,
          3,
          0,
          0,
          1,
          0.75,
          0.5,
          0,
          1,
          4,
          0.5,
          0,
          0,
          0.58,
          0,
          0.58,
          0,
          1,
          1,
          0,
          0,
          0,
          0.08,
          0,
          0,
          0,
          3,
          0.5,
          0.33,
          5,
          0.58,
          0,
          0,
          0,
          0,
          0.42,
          0,
          0,
          0,
          0,
          0,
          0,
          0.25,
          0.33,
          0,
          0,
          0,
          2,
          4,
          0,
          0.08,
          0.42,
          0,
          1,
          0.25,
          0,
          0,
          1,
          0,
          0.16,
          0,
          0,
          0.25,
          1,
          0.66,
          0,
          0,
          0,
          0,
          0,
          0,
          0,
          0.08,
          0,
          1,
          0,
          3,
          1,
          1,
          8,
          0,
          3,
          0,
          0,
          0.5,
          0,
          8,
          3,
          0,
          0,
          2,
          6,
          1,
          2,
          0,
          0.5,
          0.5,
          4,
          0,
          0.33,
          0.08,
          7,
          5,
          4,
          0,
          0,
          0,
          6,
          2.5,
          1,
          0.08,
          0,
          1,
          1,
          1,
          5,
          5,
          2,
          1,
          0.66,
          0.08,
          0.16,
          0.16,
          0,
          5,
          4,
          2,
          0,
          0.08,
          0,
          0,
          0.16,
          0,
          0,
          1,
          1,
          4.5,
          4,
          0.16,
          9,
          3,
          0.08,
          1,
          0.42,
          0.25,
          0.25,
          0,
          0,
          6.5,
          0.25,
          1,
          0,
          0,
          0,
          10,
          0,
          0,
          6,
          0,
          7,
          0.25,
          2,
          0,
          1,
          5,
          2,
          5,
          0,
          0,
          1,
          8,
          0.66,
          1,
          0,
          0.17,
          0.08,
          0,
          1,
          0.08,
          1,
          0,
          1,
          0,
          6,
          1,
          0,
          2,
          0.58,
          2,
          2,
          0,
          0,
          0.33,
          1,
          0.75,
          20,
          3,
          0.25,
          0.25,
          1,
          1.5,
          0.25,
          0.16,
          1.5,
          0,
          0.08,
          0,
          20,
          6,
          3.5,
          0,
          3,
          0,
          0.16,
          0,
          7,
          0,
          8,
          3,
          0,
          0.08,
          6,
          0,
          0.25,
          6,
          10,
          3,
          8,
          3,
          6,
          0,
          1,
          9,
          1,
          0.41,
          0,
          0.25,
          0.25,
          0,
          16,
          5,
          0.25,
          20,
          0,
          0,
          10,
          1,
          6,
          0,
          0,
          0.25,
          5,
          0,
          8,
          3,
          0,
          2,
          0,
          1,
          0,
          1,
          0.08,
          3,
          0.42,
          0,
          0,
          0.75,
          1,
          0,
          0,
          0.25,
          2,
          0,
          0.25,
          0,
          0,
          9,
          4,
          0.5,
          0,
          0,
          7,
          0,
          12,
          0,
          19,
          1,
          0,
          8,
          1,
          0.16,
          5,
          10,
          9,
          8,
          1,
          20,
          0,
          3,
          8,
          2,
          0,
          0,
          0,
          0,
          0.16,
          0.5,
          0,
          0,
          2,
          2,
          1,
          3,
          0,
          0.5,
          14,
          0,
          0,
          1,
          0,
          0,
          0.16,
          1,
          0.25,
          3,
          4,
          0,
          0,
          1,
          0,
          0,
          9,
          2,
          0.25,
          2,
          2,
          7,
          0,
          0.5,
          0,
          0,
          17,
          1,
          0.16,
          0,
          0,
          6,
          2,
          0.16,
          0,
          0,
          7,
          0,
          0,
          0,
          0.75,
          0.25,
          0.08,
          1,
          2,
          0,
          2,
          0.66,
          3,
          6,
          0,
          0,
          0,
          0.75,
          0,
          0,
          0,
          0,
          0,
          1,
          0,
          0,
          0,
          0.25,
          5,
          0.08,
          5,
          0,
          2,
          2,
          5,
          0.75,
          0,
          0,
          0.5,
          6,
          0,
          0,
          5,
          0,
          8,
          0.08,
          0.08,
          0.5
         ],
         "xaxis": "x",
         "yaxis": "y"
        },
        {
         "alignmentgroup": "True",
         "hovertemplate": "Hormonal Contraceptives (years)=%{x}<extra></extra>",
         "legendgroup": "",
         "marker": {
          "color": "rgb(3, 35, 51)"
         },
         "name": "",
         "notched": true,
         "offsetgroup": "",
         "showlegend": false,
         "type": "box",
         "x": [
          0,
          0,
          0,
          3,
          15,
          0,
          0,
          2,
          0,
          2,
          8,
          10,
          5,
          0,
          15,
          0.25,
          7,
          0,
          15,
          10,
          0.25,
          15,
          3,
          0,
          0,
          0,
          0,
          0.25,
          22,
          19,
          10,
          0.5,
          0.5,
          1,
          1,
          0.58,
          0,
          2,
          0,
          9,
          0,
          13,
          0.25,
          0,
          0,
          0.25,
          0.25,
          0,
          0.5,
          0,
          11,
          15,
          0,
          0.25,
          1,
          7,
          5,
          4,
          5,
          12,
          16,
          3,
          0,
          0,
          0.33,
          15,
          0.33,
          2,
          1,
          1,
          2,
          7,
          0.5,
          0.16,
          0,
          2,
          8,
          0,
          4,
          5,
          10,
          2,
          4,
          8,
          0.5,
          0,
          14,
          2,
          9,
          0.08,
          0,
          10,
          10,
          0,
          13,
          2.282200521,
          10,
          8,
          9,
          2,
          0.66,
          0,
          0,
          11,
          3,
          0,
          6,
          4,
          12,
          0,
          0,
          0,
          0,
          5,
          5,
          0,
          0.08,
          0.08,
          12,
          0,
          1,
          0,
          0.5,
          0,
          1,
          6,
          0.5,
          1,
          3,
          0,
          5,
          2,
          6,
          6,
          7,
          5,
          0,
          7,
          5,
          6,
          3,
          3,
          5,
          7,
          0,
          0,
          5,
          0.25,
          4,
          9,
          0,
          0,
          1,
          1,
          9,
          1,
          0,
          0.25,
          0,
          0.25,
          9,
          7,
          3,
          1,
          2,
          2,
          1.5,
          6,
          0,
          0,
          0,
          0,
          0,
          3,
          0.42,
          0,
          0.08,
          1,
          1,
          0.67,
          9,
          3,
          0,
          7,
          4,
          0.08,
          6,
          4,
          1,
          2,
          3,
          0.16,
          0,
          0,
          0,
          6,
          1,
          0,
          1,
          0.16,
          0.5,
          4,
          6,
          8,
          3,
          6,
          0.08,
          0,
          1,
          7,
          0.67,
          7,
          0.25,
          0.25,
          0.5,
          8,
          0,
          0,
          0,
          0.42,
          8,
          5,
          0,
          0,
          6,
          0,
          1,
          3,
          0,
          1,
          0,
          5,
          0,
          3,
          0,
          0,
          0,
          4,
          3,
          2,
          0,
          1,
          5,
          2,
          4,
          1,
          0.08,
          0,
          0,
          7,
          0,
          0.25,
          5,
          0,
          7,
          0,
          0,
          0.66,
          5,
          0.58,
          4,
          1,
          3,
          4,
          0.25,
          6,
          1,
          1,
          3,
          0.25,
          0.25,
          0,
          0.25,
          2.282200521,
          1,
          5,
          1,
          0,
          7,
          7,
          0.08,
          1,
          0.5,
          0,
          0.5,
          0,
          1,
          4,
          0,
          0,
          0,
          2,
          4,
          3,
          0.16,
          0.42,
          0.33,
          0,
          0.75,
          0.25,
          0,
          3,
          0,
          0,
          1,
          0.75,
          0.5,
          0,
          1,
          4,
          0.5,
          0,
          0,
          0.58,
          0,
          0.58,
          0,
          1,
          1,
          0,
          0,
          0,
          0.08,
          0,
          0,
          0,
          3,
          0.5,
          0.33,
          5,
          0.58,
          0,
          0,
          0,
          0,
          0.42,
          0,
          0,
          0,
          0,
          0,
          0,
          0.25,
          0.33,
          0,
          0,
          0,
          2,
          4,
          0,
          0.08,
          0.42,
          0,
          1,
          0.25,
          0,
          0,
          1,
          0,
          0.16,
          0,
          0,
          0.25,
          1,
          0.66,
          0,
          0,
          0,
          0,
          0,
          0,
          0,
          0.08,
          0,
          1,
          0,
          3,
          1,
          1,
          8,
          0,
          3,
          0,
          0,
          0.5,
          0,
          8,
          3,
          0,
          0,
          2,
          6,
          1,
          2,
          0,
          0.5,
          0.5,
          4,
          0,
          0.33,
          0.08,
          7,
          5,
          4,
          0,
          0,
          0,
          6,
          2.5,
          1,
          0.08,
          0,
          1,
          1,
          1,
          5,
          5,
          2,
          1,
          0.66,
          0.08,
          0.16,
          0.16,
          0,
          5,
          4,
          2,
          0,
          0.08,
          0,
          0,
          0.16,
          0,
          0,
          1,
          1,
          4.5,
          4,
          0.16,
          9,
          3,
          0.08,
          1,
          0.42,
          0.25,
          0.25,
          0,
          0,
          6.5,
          0.25,
          1,
          0,
          0,
          0,
          10,
          0,
          0,
          6,
          0,
          7,
          0.25,
          2,
          0,
          1,
          5,
          2,
          5,
          0,
          0,
          1,
          8,
          0.66,
          1,
          0,
          0.17,
          0.08,
          0,
          1,
          0.08,
          1,
          0,
          1,
          0,
          6,
          1,
          0,
          2,
          0.58,
          2,
          2,
          0,
          0,
          0.33,
          1,
          0.75,
          20,
          3,
          0.25,
          0.25,
          1,
          1.5,
          0.25,
          0.16,
          1.5,
          0,
          0.08,
          0,
          20,
          6,
          3.5,
          0,
          3,
          0,
          0.16,
          0,
          7,
          0,
          8,
          3,
          0,
          0.08,
          6,
          0,
          0.25,
          6,
          10,
          3,
          8,
          3,
          6,
          0,
          1,
          9,
          1,
          0.41,
          0,
          0.25,
          0.25,
          0,
          16,
          5,
          0.25,
          20,
          0,
          0,
          10,
          1,
          6,
          0,
          0,
          0.25,
          5,
          0,
          8,
          3,
          0,
          2,
          0,
          1,
          0,
          1,
          0.08,
          3,
          0.42,
          0,
          0,
          0.75,
          1,
          0,
          0,
          0.25,
          2,
          0,
          0.25,
          0,
          0,
          9,
          4,
          0.5,
          0,
          0,
          7,
          0,
          12,
          0,
          19,
          1,
          0,
          8,
          1,
          0.16,
          5,
          10,
          9,
          8,
          1,
          20,
          0,
          3,
          8,
          2,
          0,
          0,
          0,
          0,
          0.16,
          0.5,
          0,
          0,
          2,
          2,
          1,
          3,
          0,
          0.5,
          14,
          0,
          0,
          1,
          0,
          0,
          0.16,
          1,
          0.25,
          3,
          4,
          0,
          0,
          1,
          0,
          0,
          9,
          2,
          0.25,
          2,
          2,
          7,
          0,
          0.5,
          0,
          0,
          17,
          1,
          0.16,
          0,
          0,
          6,
          2,
          0.16,
          0,
          0,
          7,
          0,
          0,
          0,
          0.75,
          0.25,
          0.08,
          1,
          2,
          0,
          2,
          0.66,
          3,
          6,
          0,
          0,
          0,
          0.75,
          0,
          0,
          0,
          0,
          0,
          1,
          0,
          0,
          0,
          0.25,
          5,
          0.08,
          5,
          0,
          2,
          2,
          5,
          0.75,
          0,
          0,
          0.5,
          6,
          0,
          0,
          5,
          0,
          8,
          0.08,
          0.08,
          0.5
         ],
         "xaxis": "x2",
         "yaxis": "y2"
        }
       ],
       "layout": {
        "bargap": 0.2,
        "barmode": "relative",
        "legend": {
         "tracegroupgap": 0
        },
        "margin": {
         "t": 60
        },
        "template": {
         "data": {
          "bar": [
           {
            "error_x": {
             "color": "#2a3f5f"
            },
            "error_y": {
             "color": "#2a3f5f"
            },
            "marker": {
             "line": {
              "color": "#E5ECF6",
              "width": 0.5
             },
             "pattern": {
              "fillmode": "overlay",
              "size": 10,
              "solidity": 0.2
             }
            },
            "type": "bar"
           }
          ],
          "barpolar": [
           {
            "marker": {
             "line": {
              "color": "#E5ECF6",
              "width": 0.5
             },
             "pattern": {
              "fillmode": "overlay",
              "size": 10,
              "solidity": 0.2
             }
            },
            "type": "barpolar"
           }
          ],
          "carpet": [
           {
            "aaxis": {
             "endlinecolor": "#2a3f5f",
             "gridcolor": "white",
             "linecolor": "white",
             "minorgridcolor": "white",
             "startlinecolor": "#2a3f5f"
            },
            "baxis": {
             "endlinecolor": "#2a3f5f",
             "gridcolor": "white",
             "linecolor": "white",
             "minorgridcolor": "white",
             "startlinecolor": "#2a3f5f"
            },
            "type": "carpet"
           }
          ],
          "choropleth": [
           {
            "colorbar": {
             "outlinewidth": 0,
             "ticks": ""
            },
            "type": "choropleth"
           }
          ],
          "contour": [
           {
            "colorbar": {
             "outlinewidth": 0,
             "ticks": ""
            },
            "colorscale": [
             [
              0,
              "#0d0887"
             ],
             [
              0.1111111111111111,
              "#46039f"
             ],
             [
              0.2222222222222222,
              "#7201a8"
             ],
             [
              0.3333333333333333,
              "#9c179e"
             ],
             [
              0.4444444444444444,
              "#bd3786"
             ],
             [
              0.5555555555555556,
              "#d8576b"
             ],
             [
              0.6666666666666666,
              "#ed7953"
             ],
             [
              0.7777777777777778,
              "#fb9f3a"
             ],
             [
              0.8888888888888888,
              "#fdca26"
             ],
             [
              1,
              "#f0f921"
             ]
            ],
            "type": "contour"
           }
          ],
          "contourcarpet": [
           {
            "colorbar": {
             "outlinewidth": 0,
             "ticks": ""
            },
            "type": "contourcarpet"
           }
          ],
          "heatmap": [
           {
            "colorbar": {
             "outlinewidth": 0,
             "ticks": ""
            },
            "colorscale": [
             [
              0,
              "#0d0887"
             ],
             [
              0.1111111111111111,
              "#46039f"
             ],
             [
              0.2222222222222222,
              "#7201a8"
             ],
             [
              0.3333333333333333,
              "#9c179e"
             ],
             [
              0.4444444444444444,
              "#bd3786"
             ],
             [
              0.5555555555555556,
              "#d8576b"
             ],
             [
              0.6666666666666666,
              "#ed7953"
             ],
             [
              0.7777777777777778,
              "#fb9f3a"
             ],
             [
              0.8888888888888888,
              "#fdca26"
             ],
             [
              1,
              "#f0f921"
             ]
            ],
            "type": "heatmap"
           }
          ],
          "heatmapgl": [
           {
            "colorbar": {
             "outlinewidth": 0,
             "ticks": ""
            },
            "colorscale": [
             [
              0,
              "#0d0887"
             ],
             [
              0.1111111111111111,
              "#46039f"
             ],
             [
              0.2222222222222222,
              "#7201a8"
             ],
             [
              0.3333333333333333,
              "#9c179e"
             ],
             [
              0.4444444444444444,
              "#bd3786"
             ],
             [
              0.5555555555555556,
              "#d8576b"
             ],
             [
              0.6666666666666666,
              "#ed7953"
             ],
             [
              0.7777777777777778,
              "#fb9f3a"
             ],
             [
              0.8888888888888888,
              "#fdca26"
             ],
             [
              1,
              "#f0f921"
             ]
            ],
            "type": "heatmapgl"
           }
          ],
          "histogram": [
           {
            "marker": {
             "pattern": {
              "fillmode": "overlay",
              "size": 10,
              "solidity": 0.2
             }
            },
            "type": "histogram"
           }
          ],
          "histogram2d": [
           {
            "colorbar": {
             "outlinewidth": 0,
             "ticks": ""
            },
            "colorscale": [
             [
              0,
              "#0d0887"
             ],
             [
              0.1111111111111111,
              "#46039f"
             ],
             [
              0.2222222222222222,
              "#7201a8"
             ],
             [
              0.3333333333333333,
              "#9c179e"
             ],
             [
              0.4444444444444444,
              "#bd3786"
             ],
             [
              0.5555555555555556,
              "#d8576b"
             ],
             [
              0.6666666666666666,
              "#ed7953"
             ],
             [
              0.7777777777777778,
              "#fb9f3a"
             ],
             [
              0.8888888888888888,
              "#fdca26"
             ],
             [
              1,
              "#f0f921"
             ]
            ],
            "type": "histogram2d"
           }
          ],
          "histogram2dcontour": [
           {
            "colorbar": {
             "outlinewidth": 0,
             "ticks": ""
            },
            "colorscale": [
             [
              0,
              "#0d0887"
             ],
             [
              0.1111111111111111,
              "#46039f"
             ],
             [
              0.2222222222222222,
              "#7201a8"
             ],
             [
              0.3333333333333333,
              "#9c179e"
             ],
             [
              0.4444444444444444,
              "#bd3786"
             ],
             [
              0.5555555555555556,
              "#d8576b"
             ],
             [
              0.6666666666666666,
              "#ed7953"
             ],
             [
              0.7777777777777778,
              "#fb9f3a"
             ],
             [
              0.8888888888888888,
              "#fdca26"
             ],
             [
              1,
              "#f0f921"
             ]
            ],
            "type": "histogram2dcontour"
           }
          ],
          "mesh3d": [
           {
            "colorbar": {
             "outlinewidth": 0,
             "ticks": ""
            },
            "type": "mesh3d"
           }
          ],
          "parcoords": [
           {
            "line": {
             "colorbar": {
              "outlinewidth": 0,
              "ticks": ""
             }
            },
            "type": "parcoords"
           }
          ],
          "pie": [
           {
            "automargin": true,
            "type": "pie"
           }
          ],
          "scatter": [
           {
            "fillpattern": {
             "fillmode": "overlay",
             "size": 10,
             "solidity": 0.2
            },
            "type": "scatter"
           }
          ],
          "scatter3d": [
           {
            "line": {
             "colorbar": {
              "outlinewidth": 0,
              "ticks": ""
             }
            },
            "marker": {
             "colorbar": {
              "outlinewidth": 0,
              "ticks": ""
             }
            },
            "type": "scatter3d"
           }
          ],
          "scattercarpet": [
           {
            "marker": {
             "colorbar": {
              "outlinewidth": 0,
              "ticks": ""
             }
            },
            "type": "scattercarpet"
           }
          ],
          "scattergeo": [
           {
            "marker": {
             "colorbar": {
              "outlinewidth": 0,
              "ticks": ""
             }
            },
            "type": "scattergeo"
           }
          ],
          "scattergl": [
           {
            "marker": {
             "colorbar": {
              "outlinewidth": 0,
              "ticks": ""
             }
            },
            "type": "scattergl"
           }
          ],
          "scattermapbox": [
           {
            "marker": {
             "colorbar": {
              "outlinewidth": 0,
              "ticks": ""
             }
            },
            "type": "scattermapbox"
           }
          ],
          "scatterpolar": [
           {
            "marker": {
             "colorbar": {
              "outlinewidth": 0,
              "ticks": ""
             }
            },
            "type": "scatterpolar"
           }
          ],
          "scatterpolargl": [
           {
            "marker": {
             "colorbar": {
              "outlinewidth": 0,
              "ticks": ""
             }
            },
            "type": "scatterpolargl"
           }
          ],
          "scatterternary": [
           {
            "marker": {
             "colorbar": {
              "outlinewidth": 0,
              "ticks": ""
             }
            },
            "type": "scatterternary"
           }
          ],
          "surface": [
           {
            "colorbar": {
             "outlinewidth": 0,
             "ticks": ""
            },
            "colorscale": [
             [
              0,
              "#0d0887"
             ],
             [
              0.1111111111111111,
              "#46039f"
             ],
             [
              0.2222222222222222,
              "#7201a8"
             ],
             [
              0.3333333333333333,
              "#9c179e"
             ],
             [
              0.4444444444444444,
              "#bd3786"
             ],
             [
              0.5555555555555556,
              "#d8576b"
             ],
             [
              0.6666666666666666,
              "#ed7953"
             ],
             [
              0.7777777777777778,
              "#fb9f3a"
             ],
             [
              0.8888888888888888,
              "#fdca26"
             ],
             [
              1,
              "#f0f921"
             ]
            ],
            "type": "surface"
           }
          ],
          "table": [
           {
            "cells": {
             "fill": {
              "color": "#EBF0F8"
             },
             "line": {
              "color": "white"
             }
            },
            "header": {
             "fill": {
              "color": "#C8D4E3"
             },
             "line": {
              "color": "white"
             }
            },
            "type": "table"
           }
          ]
         },
         "layout": {
          "annotationdefaults": {
           "arrowcolor": "#2a3f5f",
           "arrowhead": 0,
           "arrowwidth": 1
          },
          "autotypenumbers": "strict",
          "coloraxis": {
           "colorbar": {
            "outlinewidth": 0,
            "ticks": ""
           }
          },
          "colorscale": {
           "diverging": [
            [
             0,
             "#8e0152"
            ],
            [
             0.1,
             "#c51b7d"
            ],
            [
             0.2,
             "#de77ae"
            ],
            [
             0.3,
             "#f1b6da"
            ],
            [
             0.4,
             "#fde0ef"
            ],
            [
             0.5,
             "#f7f7f7"
            ],
            [
             0.6,
             "#e6f5d0"
            ],
            [
             0.7,
             "#b8e186"
            ],
            [
             0.8,
             "#7fbc41"
            ],
            [
             0.9,
             "#4d9221"
            ],
            [
             1,
             "#276419"
            ]
           ],
           "sequential": [
            [
             0,
             "#0d0887"
            ],
            [
             0.1111111111111111,
             "#46039f"
            ],
            [
             0.2222222222222222,
             "#7201a8"
            ],
            [
             0.3333333333333333,
             "#9c179e"
            ],
            [
             0.4444444444444444,
             "#bd3786"
            ],
            [
             0.5555555555555556,
             "#d8576b"
            ],
            [
             0.6666666666666666,
             "#ed7953"
            ],
            [
             0.7777777777777778,
             "#fb9f3a"
            ],
            [
             0.8888888888888888,
             "#fdca26"
            ],
            [
             1,
             "#f0f921"
            ]
           ],
           "sequentialminus": [
            [
             0,
             "#0d0887"
            ],
            [
             0.1111111111111111,
             "#46039f"
            ],
            [
             0.2222222222222222,
             "#7201a8"
            ],
            [
             0.3333333333333333,
             "#9c179e"
            ],
            [
             0.4444444444444444,
             "#bd3786"
            ],
            [
             0.5555555555555556,
             "#d8576b"
            ],
            [
             0.6666666666666666,
             "#ed7953"
            ],
            [
             0.7777777777777778,
             "#fb9f3a"
            ],
            [
             0.8888888888888888,
             "#fdca26"
            ],
            [
             1,
             "#f0f921"
            ]
           ]
          },
          "colorway": [
           "#636efa",
           "#EF553B",
           "#00cc96",
           "#ab63fa",
           "#FFA15A",
           "#19d3f3",
           "#FF6692",
           "#B6E880",
           "#FF97FF",
           "#FECB52"
          ],
          "font": {
           "color": "#2a3f5f"
          },
          "geo": {
           "bgcolor": "white",
           "lakecolor": "white",
           "landcolor": "#E5ECF6",
           "showlakes": true,
           "showland": true,
           "subunitcolor": "white"
          },
          "hoverlabel": {
           "align": "left"
          },
          "hovermode": "closest",
          "mapbox": {
           "style": "light"
          },
          "paper_bgcolor": "white",
          "plot_bgcolor": "#E5ECF6",
          "polar": {
           "angularaxis": {
            "gridcolor": "white",
            "linecolor": "white",
            "ticks": ""
           },
           "bgcolor": "#E5ECF6",
           "radialaxis": {
            "gridcolor": "white",
            "linecolor": "white",
            "ticks": ""
           }
          },
          "scene": {
           "xaxis": {
            "backgroundcolor": "#E5ECF6",
            "gridcolor": "white",
            "gridwidth": 2,
            "linecolor": "white",
            "showbackground": true,
            "ticks": "",
            "zerolinecolor": "white"
           },
           "yaxis": {
            "backgroundcolor": "#E5ECF6",
            "gridcolor": "white",
            "gridwidth": 2,
            "linecolor": "white",
            "showbackground": true,
            "ticks": "",
            "zerolinecolor": "white"
           },
           "zaxis": {
            "backgroundcolor": "#E5ECF6",
            "gridcolor": "white",
            "gridwidth": 2,
            "linecolor": "white",
            "showbackground": true,
            "ticks": "",
            "zerolinecolor": "white"
           }
          },
          "shapedefaults": {
           "line": {
            "color": "#2a3f5f"
           }
          },
          "ternary": {
           "aaxis": {
            "gridcolor": "white",
            "linecolor": "white",
            "ticks": ""
           },
           "baxis": {
            "gridcolor": "white",
            "linecolor": "white",
            "ticks": ""
           },
           "bgcolor": "#E5ECF6",
           "caxis": {
            "gridcolor": "white",
            "linecolor": "white",
            "ticks": ""
           }
          },
          "title": {
           "x": 0.05
          },
          "xaxis": {
           "automargin": true,
           "gridcolor": "white",
           "linecolor": "white",
           "ticks": "",
           "title": {
            "standoff": 15
           },
           "zerolinecolor": "white",
           "zerolinewidth": 2
          },
          "yaxis": {
           "automargin": true,
           "gridcolor": "white",
           "linecolor": "white",
           "ticks": "",
           "title": {
            "standoff": 15
           },
           "zerolinecolor": "white",
           "zerolinewidth": 2
          }
         }
        },
        "width": 700,
        "xaxis": {
         "anchor": "y",
         "domain": [
          0,
          1
         ],
         "title": {
          "text": "Hormonal Contraceptives (years)"
         }
        },
        "xaxis2": {
         "anchor": "y2",
         "domain": [
          0,
          1
         ],
         "matches": "x",
         "showgrid": true,
         "showticklabels": false
        },
        "yaxis": {
         "anchor": "x",
         "domain": [
          0,
          0.8316
         ],
         "title": {
          "text": "count"
         }
        },
        "yaxis2": {
         "anchor": "x2",
         "domain": [
          0.8416,
          1
         ],
         "matches": "y2",
         "showgrid": false,
         "showline": false,
         "showticklabels": false,
         "ticks": ""
        }
       }
      }
     },
     "metadata": {},
     "output_type": "display_data"
    },
    {
     "name": "stdout",
     "output_type": "stream",
     "text": [
      "Hormonal Contraceptives (years)\n",
      "median: 0.5, upper fence: 7.5, lower fence: -4.5\n"
     ]
    }
   ],
   "source": [
    "def find_outliers(col, indices):\n",
    "    obs = risk_factor_df[col].iloc[indices]\n",
    "    unique_items, counts = np.unique(obs, return_counts=True)\n",
    "    unique_items, counts = unique_items[::-1], counts[::-1]\n",
    "\n",
    "    values_to_delete = unique_items[counts < 2 ]\n",
    "    return values_to_delete\n",
    "\n",
    "def delete_outliers(col, to_delete):\n",
    "    if (to_delete.size != 0):\n",
    "        rows_to_del = risk_factor_df.loc[risk_factor_df[col].isin(to_delete)].index.values.tolist()\n",
    "\n",
    "        # Remove rows\n",
    "        risk_factor_df.drop(rows_to_del, inplace=True)\n",
    "        risk_factor_df.reset_index(drop=True, inplace=True)\n",
    "\n",
    "# Identify non-binary columns\n",
    "non_binary_cols = [col for col, vals in unique_vals.items() if len(vals) > 2]\n",
    "\n",
    "for col in non_binary_cols:\n",
    "\n",
    "    # IQR cannot be applied to columns with median 0\n",
    "    if (risk_factor_df[col].median() != 0):\n",
    "\n",
    "        # Plot values distribution\n",
    "        out_dist = px.histogram(risk_factor_df, x=col,\n",
    "            marginal=\"box\",\n",
    "            color_discrete_sequence= px.colors.sequential.thermal)\n",
    "        out_dist.update_layout(bargap=0.2,\n",
    "            width=700)\n",
    "        out_dist.show()\n",
    "\n",
    "        Q3, Q1 = np.percentile(risk_factor_df[col], [75 ,25])\n",
    "        IQR = Q3-Q1\n",
    "\n",
    "        upper = Q3+(1.5*IQR)\n",
    "        lower = Q1-(1.5*IQR)\n",
    "\n",
    "        print(col)\n",
    "        print(\"median: {}, upper fence: {}, lower fence: {}\".format(risk_factor_df[col].median(), upper, lower))\n",
    "\n",
    "        #Delete one occurrence observations outside the upper fence as outliers\n",
    "        upper_to_delete = find_outliers(col, np.where(risk_factor_df[col] > upper)[0])\n",
    "        delete_outliers(col, upper_to_delete)\n",
    "\n",
    "        \n",
    "        #Delete one occurrence observations outside the lower fence as outliers\n",
    "        lower_to_delete = find_outliers(col, np.where(risk_factor_df[col] < lower)[0])\n",
    "        delete_outliers(col, lower_to_delete)\n"
   ]
  },
  {
   "cell_type": "code",
   "execution_count": 123,
   "metadata": {},
   "outputs": [
    {
     "name": "stdout",
     "output_type": "stream",
     "text": [
      "\n",
      "Final dataset size: 32 cols, 697 rows\n"
     ]
    }
   ],
   "source": [
    "print(\"\\nFinal dataset size: {} cols, {} rows\".format(risk_factor_df.shape[1], risk_factor_df.shape[0]))"
   ]
  },
  {
   "cell_type": "markdown",
   "metadata": {},
   "source": [
    "#### Correlation with label\n",
    "\n",
    "Lastly we found the correlation between each of the features and each of the target variables."
   ]
  },
  {
   "cell_type": "code",
   "execution_count": 124,
   "metadata": {},
   "outputs": [
    {
     "data": {
      "application/vnd.plotly.v1+json": {
       "config": {
        "plotlyServerURL": "https://plot.ly"
       },
       "data": [
        {
         "alignmentgroup": "True",
         "hovertemplate": "Correlation=%{x}<br>Features=%{y}<extra></extra>",
         "legendgroup": "",
         "marker": {
          "color": "#636efa",
          "pattern": {
           "shape": ""
          }
         },
         "name": "",
         "offsetgroup": "",
         "orientation": "h",
         "showlegend": false,
         "textposition": "auto",
         "type": "bar",
         "x": [
          0.008226743017384481,
          0.008450225731590325,
          0.008450225731590329,
          0.008450225731590339,
          0.008450225731590348,
          0.011959018171571589,
          0.016235007102927676,
          0.016936993022519237,
          0.018759542982458192,
          0.018949811104630454,
          0.027452601811601675,
          0.02906741215175966,
          0.03295572204579871,
          0.04226230641666096,
          0.043657006640037625,
          0.049437034203780914,
          0.051419321779474086,
          0.05658666632895179,
          0.06329864775341537,
          0.06480939071339285,
          0.06548620817940766,
          0.08067285182821851,
          0.0816985319430292,
          0.08865953230245699,
          0.09147652346455974,
          0.11253968753476284,
          0.13992660283290612,
          0.1462627996976236
         ],
         "xaxis": "x",
         "y": [
          "IUD (years)",
          "STDs:genital herpes",
          "STDs:Hepatitis B",
          "STDs:molluscum contagiosum",
          "STDs:pelvic inflammatory disease",
          "STDs:HPV",
          "STDs:syphilis",
          "STDs:vaginal condylomatosis",
          "Age",
          "Dx:CIN",
          "First sexual intercourse",
          "Smokes (packs/year)",
          "Hormonal Contraceptives",
          "Num of pregnancies",
          "Smokes",
          "IUD",
          "Hormonal Contraceptives (years)",
          "Number of sexual partners",
          "STDs:condylomatosis",
          "STDs",
          "STDs:vulvo-perineal condylomatosis",
          "STDs (number)",
          "Smokes (years)",
          "STDs: Number of diagnosis",
          "Dx",
          "STDs:HIV",
          "Dx:Cancer",
          "Dx:HPV"
         ],
         "yaxis": "y"
        }
       ],
       "layout": {
        "barmode": "relative",
        "height": 700,
        "legend": {
         "tracegroupgap": 0
        },
        "template": {
         "data": {
          "bar": [
           {
            "error_x": {
             "color": "#2a3f5f"
            },
            "error_y": {
             "color": "#2a3f5f"
            },
            "marker": {
             "line": {
              "color": "#E5ECF6",
              "width": 0.5
             },
             "pattern": {
              "fillmode": "overlay",
              "size": 10,
              "solidity": 0.2
             }
            },
            "type": "bar"
           }
          ],
          "barpolar": [
           {
            "marker": {
             "line": {
              "color": "#E5ECF6",
              "width": 0.5
             },
             "pattern": {
              "fillmode": "overlay",
              "size": 10,
              "solidity": 0.2
             }
            },
            "type": "barpolar"
           }
          ],
          "carpet": [
           {
            "aaxis": {
             "endlinecolor": "#2a3f5f",
             "gridcolor": "white",
             "linecolor": "white",
             "minorgridcolor": "white",
             "startlinecolor": "#2a3f5f"
            },
            "baxis": {
             "endlinecolor": "#2a3f5f",
             "gridcolor": "white",
             "linecolor": "white",
             "minorgridcolor": "white",
             "startlinecolor": "#2a3f5f"
            },
            "type": "carpet"
           }
          ],
          "choropleth": [
           {
            "colorbar": {
             "outlinewidth": 0,
             "ticks": ""
            },
            "type": "choropleth"
           }
          ],
          "contour": [
           {
            "colorbar": {
             "outlinewidth": 0,
             "ticks": ""
            },
            "colorscale": [
             [
              0,
              "#0d0887"
             ],
             [
              0.1111111111111111,
              "#46039f"
             ],
             [
              0.2222222222222222,
              "#7201a8"
             ],
             [
              0.3333333333333333,
              "#9c179e"
             ],
             [
              0.4444444444444444,
              "#bd3786"
             ],
             [
              0.5555555555555556,
              "#d8576b"
             ],
             [
              0.6666666666666666,
              "#ed7953"
             ],
             [
              0.7777777777777778,
              "#fb9f3a"
             ],
             [
              0.8888888888888888,
              "#fdca26"
             ],
             [
              1,
              "#f0f921"
             ]
            ],
            "type": "contour"
           }
          ],
          "contourcarpet": [
           {
            "colorbar": {
             "outlinewidth": 0,
             "ticks": ""
            },
            "type": "contourcarpet"
           }
          ],
          "heatmap": [
           {
            "colorbar": {
             "outlinewidth": 0,
             "ticks": ""
            },
            "colorscale": [
             [
              0,
              "#0d0887"
             ],
             [
              0.1111111111111111,
              "#46039f"
             ],
             [
              0.2222222222222222,
              "#7201a8"
             ],
             [
              0.3333333333333333,
              "#9c179e"
             ],
             [
              0.4444444444444444,
              "#bd3786"
             ],
             [
              0.5555555555555556,
              "#d8576b"
             ],
             [
              0.6666666666666666,
              "#ed7953"
             ],
             [
              0.7777777777777778,
              "#fb9f3a"
             ],
             [
              0.8888888888888888,
              "#fdca26"
             ],
             [
              1,
              "#f0f921"
             ]
            ],
            "type": "heatmap"
           }
          ],
          "heatmapgl": [
           {
            "colorbar": {
             "outlinewidth": 0,
             "ticks": ""
            },
            "colorscale": [
             [
              0,
              "#0d0887"
             ],
             [
              0.1111111111111111,
              "#46039f"
             ],
             [
              0.2222222222222222,
              "#7201a8"
             ],
             [
              0.3333333333333333,
              "#9c179e"
             ],
             [
              0.4444444444444444,
              "#bd3786"
             ],
             [
              0.5555555555555556,
              "#d8576b"
             ],
             [
              0.6666666666666666,
              "#ed7953"
             ],
             [
              0.7777777777777778,
              "#fb9f3a"
             ],
             [
              0.8888888888888888,
              "#fdca26"
             ],
             [
              1,
              "#f0f921"
             ]
            ],
            "type": "heatmapgl"
           }
          ],
          "histogram": [
           {
            "marker": {
             "pattern": {
              "fillmode": "overlay",
              "size": 10,
              "solidity": 0.2
             }
            },
            "type": "histogram"
           }
          ],
          "histogram2d": [
           {
            "colorbar": {
             "outlinewidth": 0,
             "ticks": ""
            },
            "colorscale": [
             [
              0,
              "#0d0887"
             ],
             [
              0.1111111111111111,
              "#46039f"
             ],
             [
              0.2222222222222222,
              "#7201a8"
             ],
             [
              0.3333333333333333,
              "#9c179e"
             ],
             [
              0.4444444444444444,
              "#bd3786"
             ],
             [
              0.5555555555555556,
              "#d8576b"
             ],
             [
              0.6666666666666666,
              "#ed7953"
             ],
             [
              0.7777777777777778,
              "#fb9f3a"
             ],
             [
              0.8888888888888888,
              "#fdca26"
             ],
             [
              1,
              "#f0f921"
             ]
            ],
            "type": "histogram2d"
           }
          ],
          "histogram2dcontour": [
           {
            "colorbar": {
             "outlinewidth": 0,
             "ticks": ""
            },
            "colorscale": [
             [
              0,
              "#0d0887"
             ],
             [
              0.1111111111111111,
              "#46039f"
             ],
             [
              0.2222222222222222,
              "#7201a8"
             ],
             [
              0.3333333333333333,
              "#9c179e"
             ],
             [
              0.4444444444444444,
              "#bd3786"
             ],
             [
              0.5555555555555556,
              "#d8576b"
             ],
             [
              0.6666666666666666,
              "#ed7953"
             ],
             [
              0.7777777777777778,
              "#fb9f3a"
             ],
             [
              0.8888888888888888,
              "#fdca26"
             ],
             [
              1,
              "#f0f921"
             ]
            ],
            "type": "histogram2dcontour"
           }
          ],
          "mesh3d": [
           {
            "colorbar": {
             "outlinewidth": 0,
             "ticks": ""
            },
            "type": "mesh3d"
           }
          ],
          "parcoords": [
           {
            "line": {
             "colorbar": {
              "outlinewidth": 0,
              "ticks": ""
             }
            },
            "type": "parcoords"
           }
          ],
          "pie": [
           {
            "automargin": true,
            "type": "pie"
           }
          ],
          "scatter": [
           {
            "fillpattern": {
             "fillmode": "overlay",
             "size": 10,
             "solidity": 0.2
            },
            "type": "scatter"
           }
          ],
          "scatter3d": [
           {
            "line": {
             "colorbar": {
              "outlinewidth": 0,
              "ticks": ""
             }
            },
            "marker": {
             "colorbar": {
              "outlinewidth": 0,
              "ticks": ""
             }
            },
            "type": "scatter3d"
           }
          ],
          "scattercarpet": [
           {
            "marker": {
             "colorbar": {
              "outlinewidth": 0,
              "ticks": ""
             }
            },
            "type": "scattercarpet"
           }
          ],
          "scattergeo": [
           {
            "marker": {
             "colorbar": {
              "outlinewidth": 0,
              "ticks": ""
             }
            },
            "type": "scattergeo"
           }
          ],
          "scattergl": [
           {
            "marker": {
             "colorbar": {
              "outlinewidth": 0,
              "ticks": ""
             }
            },
            "type": "scattergl"
           }
          ],
          "scattermapbox": [
           {
            "marker": {
             "colorbar": {
              "outlinewidth": 0,
              "ticks": ""
             }
            },
            "type": "scattermapbox"
           }
          ],
          "scatterpolar": [
           {
            "marker": {
             "colorbar": {
              "outlinewidth": 0,
              "ticks": ""
             }
            },
            "type": "scatterpolar"
           }
          ],
          "scatterpolargl": [
           {
            "marker": {
             "colorbar": {
              "outlinewidth": 0,
              "ticks": ""
             }
            },
            "type": "scatterpolargl"
           }
          ],
          "scatterternary": [
           {
            "marker": {
             "colorbar": {
              "outlinewidth": 0,
              "ticks": ""
             }
            },
            "type": "scatterternary"
           }
          ],
          "surface": [
           {
            "colorbar": {
             "outlinewidth": 0,
             "ticks": ""
            },
            "colorscale": [
             [
              0,
              "#0d0887"
             ],
             [
              0.1111111111111111,
              "#46039f"
             ],
             [
              0.2222222222222222,
              "#7201a8"
             ],
             [
              0.3333333333333333,
              "#9c179e"
             ],
             [
              0.4444444444444444,
              "#bd3786"
             ],
             [
              0.5555555555555556,
              "#d8576b"
             ],
             [
              0.6666666666666666,
              "#ed7953"
             ],
             [
              0.7777777777777778,
              "#fb9f3a"
             ],
             [
              0.8888888888888888,
              "#fdca26"
             ],
             [
              1,
              "#f0f921"
             ]
            ],
            "type": "surface"
           }
          ],
          "table": [
           {
            "cells": {
             "fill": {
              "color": "#EBF0F8"
             },
             "line": {
              "color": "white"
             }
            },
            "header": {
             "fill": {
              "color": "#C8D4E3"
             },
             "line": {
              "color": "white"
             }
            },
            "type": "table"
           }
          ]
         },
         "layout": {
          "annotationdefaults": {
           "arrowcolor": "#2a3f5f",
           "arrowhead": 0,
           "arrowwidth": 1
          },
          "autotypenumbers": "strict",
          "coloraxis": {
           "colorbar": {
            "outlinewidth": 0,
            "ticks": ""
           }
          },
          "colorscale": {
           "diverging": [
            [
             0,
             "#8e0152"
            ],
            [
             0.1,
             "#c51b7d"
            ],
            [
             0.2,
             "#de77ae"
            ],
            [
             0.3,
             "#f1b6da"
            ],
            [
             0.4,
             "#fde0ef"
            ],
            [
             0.5,
             "#f7f7f7"
            ],
            [
             0.6,
             "#e6f5d0"
            ],
            [
             0.7,
             "#b8e186"
            ],
            [
             0.8,
             "#7fbc41"
            ],
            [
             0.9,
             "#4d9221"
            ],
            [
             1,
             "#276419"
            ]
           ],
           "sequential": [
            [
             0,
             "#0d0887"
            ],
            [
             0.1111111111111111,
             "#46039f"
            ],
            [
             0.2222222222222222,
             "#7201a8"
            ],
            [
             0.3333333333333333,
             "#9c179e"
            ],
            [
             0.4444444444444444,
             "#bd3786"
            ],
            [
             0.5555555555555556,
             "#d8576b"
            ],
            [
             0.6666666666666666,
             "#ed7953"
            ],
            [
             0.7777777777777778,
             "#fb9f3a"
            ],
            [
             0.8888888888888888,
             "#fdca26"
            ],
            [
             1,
             "#f0f921"
            ]
           ],
           "sequentialminus": [
            [
             0,
             "#0d0887"
            ],
            [
             0.1111111111111111,
             "#46039f"
            ],
            [
             0.2222222222222222,
             "#7201a8"
            ],
            [
             0.3333333333333333,
             "#9c179e"
            ],
            [
             0.4444444444444444,
             "#bd3786"
            ],
            [
             0.5555555555555556,
             "#d8576b"
            ],
            [
             0.6666666666666666,
             "#ed7953"
            ],
            [
             0.7777777777777778,
             "#fb9f3a"
            ],
            [
             0.8888888888888888,
             "#fdca26"
            ],
            [
             1,
             "#f0f921"
            ]
           ]
          },
          "colorway": [
           "#636efa",
           "#EF553B",
           "#00cc96",
           "#ab63fa",
           "#FFA15A",
           "#19d3f3",
           "#FF6692",
           "#B6E880",
           "#FF97FF",
           "#FECB52"
          ],
          "font": {
           "color": "#2a3f5f"
          },
          "geo": {
           "bgcolor": "white",
           "lakecolor": "white",
           "landcolor": "#E5ECF6",
           "showlakes": true,
           "showland": true,
           "subunitcolor": "white"
          },
          "hoverlabel": {
           "align": "left"
          },
          "hovermode": "closest",
          "mapbox": {
           "style": "light"
          },
          "paper_bgcolor": "white",
          "plot_bgcolor": "#E5ECF6",
          "polar": {
           "angularaxis": {
            "gridcolor": "white",
            "linecolor": "white",
            "ticks": ""
           },
           "bgcolor": "#E5ECF6",
           "radialaxis": {
            "gridcolor": "white",
            "linecolor": "white",
            "ticks": ""
           }
          },
          "scene": {
           "xaxis": {
            "backgroundcolor": "#E5ECF6",
            "gridcolor": "white",
            "gridwidth": 2,
            "linecolor": "white",
            "showbackground": true,
            "ticks": "",
            "zerolinecolor": "white"
           },
           "yaxis": {
            "backgroundcolor": "#E5ECF6",
            "gridcolor": "white",
            "gridwidth": 2,
            "linecolor": "white",
            "showbackground": true,
            "ticks": "",
            "zerolinecolor": "white"
           },
           "zaxis": {
            "backgroundcolor": "#E5ECF6",
            "gridcolor": "white",
            "gridwidth": 2,
            "linecolor": "white",
            "showbackground": true,
            "ticks": "",
            "zerolinecolor": "white"
           }
          },
          "shapedefaults": {
           "line": {
            "color": "#2a3f5f"
           }
          },
          "ternary": {
           "aaxis": {
            "gridcolor": "white",
            "linecolor": "white",
            "ticks": ""
           },
           "baxis": {
            "gridcolor": "white",
            "linecolor": "white",
            "ticks": ""
           },
           "bgcolor": "#E5ECF6",
           "caxis": {
            "gridcolor": "white",
            "linecolor": "white",
            "ticks": ""
           }
          },
          "title": {
           "x": 0.05
          },
          "xaxis": {
           "automargin": true,
           "gridcolor": "white",
           "linecolor": "white",
           "ticks": "",
           "title": {
            "standoff": 15
           },
           "zerolinecolor": "white",
           "zerolinewidth": 2
          },
          "yaxis": {
           "automargin": true,
           "gridcolor": "white",
           "linecolor": "white",
           "ticks": "",
           "title": {
            "standoff": 15
           },
           "zerolinecolor": "white",
           "zerolinewidth": 2
          }
         }
        },
        "title": {
         "text": "Features & Hinselmann Correlations",
         "x": 0.5
        },
        "width": 900,
        "xaxis": {
         "anchor": "y",
         "domain": [
          0,
          1
         ],
         "title": {
          "text": "Correlation"
         }
        },
        "yaxis": {
         "anchor": "x",
         "domain": [
          0,
          1
         ],
         "title": {
          "text": "Features"
         }
        }
       }
      }
     },
     "metadata": {},
     "output_type": "display_data"
    },
    {
     "data": {
      "application/vnd.plotly.v1+json": {
       "config": {
        "plotlyServerURL": "https://plot.ly"
       },
       "data": [
        {
         "alignmentgroup": "True",
         "hovertemplate": "Correlation=%{x}<br>Features=%{y}<extra></extra>",
         "legendgroup": "",
         "marker": {
          "color": "#636efa",
          "pattern": {
           "shape": ""
          }
         },
         "name": "",
         "offsetgroup": "",
         "orientation": "h",
         "showlegend": false,
         "textposition": "auto",
         "type": "bar",
         "x": [
          0.0002648092428427739,
          0.012361253327841262,
          0.012361253327841264,
          0.01236125332784127,
          0.01236125332784127,
          0.017494024167710814,
          0.019803491210834,
          0.02046501304486945,
          0.02199211803652549,
          0.022697749407207476,
          0.02477596078653364,
          0.02772037375325731,
          0.060917579596913886,
          0.06965104928294015,
          0.07066884747893674,
          0.07209231910930587,
          0.07790111207220382,
          0.08495032923202428,
          0.08722043648864346,
          0.10654646093266733,
          0.12482823975361264,
          0.12677887662315276,
          0.13238373611987458,
          0.13607330606203571,
          0.13775753380098346,
          0.14138716217022293,
          0.142222247081499,
          0.14501708318827847
         ],
         "xaxis": "x",
         "y": [
          "Hormonal Contraceptives",
          "STDs:pelvic inflammatory disease",
          "STDs:molluscum contagiosum",
          "STDs:Hepatitis B",
          "STDs:genital herpes",
          "STDs:HPV",
          "Number of sexual partners",
          "First sexual intercourse",
          "Smokes (packs/year)",
          "STDs:syphilis",
          "STDs:vaginal condylomatosis",
          "Dx:CIN",
          "Smokes",
          "Dx",
          "Age",
          "IUD (years)",
          "Num of pregnancies",
          "IUD",
          "Smokes (years)",
          "Hormonal Contraceptives (years)",
          "STDs",
          "STDs:HIV",
          "STDs:condylomatosis",
          "STDs:vulvo-perineal condylomatosis",
          "Dx:Cancer",
          "STDs (number)",
          "STDs: Number of diagnosis",
          "Dx:HPV"
         ],
         "yaxis": "y"
        }
       ],
       "layout": {
        "barmode": "relative",
        "height": 700,
        "legend": {
         "tracegroupgap": 0
        },
        "template": {
         "data": {
          "bar": [
           {
            "error_x": {
             "color": "#2a3f5f"
            },
            "error_y": {
             "color": "#2a3f5f"
            },
            "marker": {
             "line": {
              "color": "#E5ECF6",
              "width": 0.5
             },
             "pattern": {
              "fillmode": "overlay",
              "size": 10,
              "solidity": 0.2
             }
            },
            "type": "bar"
           }
          ],
          "barpolar": [
           {
            "marker": {
             "line": {
              "color": "#E5ECF6",
              "width": 0.5
             },
             "pattern": {
              "fillmode": "overlay",
              "size": 10,
              "solidity": 0.2
             }
            },
            "type": "barpolar"
           }
          ],
          "carpet": [
           {
            "aaxis": {
             "endlinecolor": "#2a3f5f",
             "gridcolor": "white",
             "linecolor": "white",
             "minorgridcolor": "white",
             "startlinecolor": "#2a3f5f"
            },
            "baxis": {
             "endlinecolor": "#2a3f5f",
             "gridcolor": "white",
             "linecolor": "white",
             "minorgridcolor": "white",
             "startlinecolor": "#2a3f5f"
            },
            "type": "carpet"
           }
          ],
          "choropleth": [
           {
            "colorbar": {
             "outlinewidth": 0,
             "ticks": ""
            },
            "type": "choropleth"
           }
          ],
          "contour": [
           {
            "colorbar": {
             "outlinewidth": 0,
             "ticks": ""
            },
            "colorscale": [
             [
              0,
              "#0d0887"
             ],
             [
              0.1111111111111111,
              "#46039f"
             ],
             [
              0.2222222222222222,
              "#7201a8"
             ],
             [
              0.3333333333333333,
              "#9c179e"
             ],
             [
              0.4444444444444444,
              "#bd3786"
             ],
             [
              0.5555555555555556,
              "#d8576b"
             ],
             [
              0.6666666666666666,
              "#ed7953"
             ],
             [
              0.7777777777777778,
              "#fb9f3a"
             ],
             [
              0.8888888888888888,
              "#fdca26"
             ],
             [
              1,
              "#f0f921"
             ]
            ],
            "type": "contour"
           }
          ],
          "contourcarpet": [
           {
            "colorbar": {
             "outlinewidth": 0,
             "ticks": ""
            },
            "type": "contourcarpet"
           }
          ],
          "heatmap": [
           {
            "colorbar": {
             "outlinewidth": 0,
             "ticks": ""
            },
            "colorscale": [
             [
              0,
              "#0d0887"
             ],
             [
              0.1111111111111111,
              "#46039f"
             ],
             [
              0.2222222222222222,
              "#7201a8"
             ],
             [
              0.3333333333333333,
              "#9c179e"
             ],
             [
              0.4444444444444444,
              "#bd3786"
             ],
             [
              0.5555555555555556,
              "#d8576b"
             ],
             [
              0.6666666666666666,
              "#ed7953"
             ],
             [
              0.7777777777777778,
              "#fb9f3a"
             ],
             [
              0.8888888888888888,
              "#fdca26"
             ],
             [
              1,
              "#f0f921"
             ]
            ],
            "type": "heatmap"
           }
          ],
          "heatmapgl": [
           {
            "colorbar": {
             "outlinewidth": 0,
             "ticks": ""
            },
            "colorscale": [
             [
              0,
              "#0d0887"
             ],
             [
              0.1111111111111111,
              "#46039f"
             ],
             [
              0.2222222222222222,
              "#7201a8"
             ],
             [
              0.3333333333333333,
              "#9c179e"
             ],
             [
              0.4444444444444444,
              "#bd3786"
             ],
             [
              0.5555555555555556,
              "#d8576b"
             ],
             [
              0.6666666666666666,
              "#ed7953"
             ],
             [
              0.7777777777777778,
              "#fb9f3a"
             ],
             [
              0.8888888888888888,
              "#fdca26"
             ],
             [
              1,
              "#f0f921"
             ]
            ],
            "type": "heatmapgl"
           }
          ],
          "histogram": [
           {
            "marker": {
             "pattern": {
              "fillmode": "overlay",
              "size": 10,
              "solidity": 0.2
             }
            },
            "type": "histogram"
           }
          ],
          "histogram2d": [
           {
            "colorbar": {
             "outlinewidth": 0,
             "ticks": ""
            },
            "colorscale": [
             [
              0,
              "#0d0887"
             ],
             [
              0.1111111111111111,
              "#46039f"
             ],
             [
              0.2222222222222222,
              "#7201a8"
             ],
             [
              0.3333333333333333,
              "#9c179e"
             ],
             [
              0.4444444444444444,
              "#bd3786"
             ],
             [
              0.5555555555555556,
              "#d8576b"
             ],
             [
              0.6666666666666666,
              "#ed7953"
             ],
             [
              0.7777777777777778,
              "#fb9f3a"
             ],
             [
              0.8888888888888888,
              "#fdca26"
             ],
             [
              1,
              "#f0f921"
             ]
            ],
            "type": "histogram2d"
           }
          ],
          "histogram2dcontour": [
           {
            "colorbar": {
             "outlinewidth": 0,
             "ticks": ""
            },
            "colorscale": [
             [
              0,
              "#0d0887"
             ],
             [
              0.1111111111111111,
              "#46039f"
             ],
             [
              0.2222222222222222,
              "#7201a8"
             ],
             [
              0.3333333333333333,
              "#9c179e"
             ],
             [
              0.4444444444444444,
              "#bd3786"
             ],
             [
              0.5555555555555556,
              "#d8576b"
             ],
             [
              0.6666666666666666,
              "#ed7953"
             ],
             [
              0.7777777777777778,
              "#fb9f3a"
             ],
             [
              0.8888888888888888,
              "#fdca26"
             ],
             [
              1,
              "#f0f921"
             ]
            ],
            "type": "histogram2dcontour"
           }
          ],
          "mesh3d": [
           {
            "colorbar": {
             "outlinewidth": 0,
             "ticks": ""
            },
            "type": "mesh3d"
           }
          ],
          "parcoords": [
           {
            "line": {
             "colorbar": {
              "outlinewidth": 0,
              "ticks": ""
             }
            },
            "type": "parcoords"
           }
          ],
          "pie": [
           {
            "automargin": true,
            "type": "pie"
           }
          ],
          "scatter": [
           {
            "fillpattern": {
             "fillmode": "overlay",
             "size": 10,
             "solidity": 0.2
            },
            "type": "scatter"
           }
          ],
          "scatter3d": [
           {
            "line": {
             "colorbar": {
              "outlinewidth": 0,
              "ticks": ""
             }
            },
            "marker": {
             "colorbar": {
              "outlinewidth": 0,
              "ticks": ""
             }
            },
            "type": "scatter3d"
           }
          ],
          "scattercarpet": [
           {
            "marker": {
             "colorbar": {
              "outlinewidth": 0,
              "ticks": ""
             }
            },
            "type": "scattercarpet"
           }
          ],
          "scattergeo": [
           {
            "marker": {
             "colorbar": {
              "outlinewidth": 0,
              "ticks": ""
             }
            },
            "type": "scattergeo"
           }
          ],
          "scattergl": [
           {
            "marker": {
             "colorbar": {
              "outlinewidth": 0,
              "ticks": ""
             }
            },
            "type": "scattergl"
           }
          ],
          "scattermapbox": [
           {
            "marker": {
             "colorbar": {
              "outlinewidth": 0,
              "ticks": ""
             }
            },
            "type": "scattermapbox"
           }
          ],
          "scatterpolar": [
           {
            "marker": {
             "colorbar": {
              "outlinewidth": 0,
              "ticks": ""
             }
            },
            "type": "scatterpolar"
           }
          ],
          "scatterpolargl": [
           {
            "marker": {
             "colorbar": {
              "outlinewidth": 0,
              "ticks": ""
             }
            },
            "type": "scatterpolargl"
           }
          ],
          "scatterternary": [
           {
            "marker": {
             "colorbar": {
              "outlinewidth": 0,
              "ticks": ""
             }
            },
            "type": "scatterternary"
           }
          ],
          "surface": [
           {
            "colorbar": {
             "outlinewidth": 0,
             "ticks": ""
            },
            "colorscale": [
             [
              0,
              "#0d0887"
             ],
             [
              0.1111111111111111,
              "#46039f"
             ],
             [
              0.2222222222222222,
              "#7201a8"
             ],
             [
              0.3333333333333333,
              "#9c179e"
             ],
             [
              0.4444444444444444,
              "#bd3786"
             ],
             [
              0.5555555555555556,
              "#d8576b"
             ],
             [
              0.6666666666666666,
              "#ed7953"
             ],
             [
              0.7777777777777778,
              "#fb9f3a"
             ],
             [
              0.8888888888888888,
              "#fdca26"
             ],
             [
              1,
              "#f0f921"
             ]
            ],
            "type": "surface"
           }
          ],
          "table": [
           {
            "cells": {
             "fill": {
              "color": "#EBF0F8"
             },
             "line": {
              "color": "white"
             }
            },
            "header": {
             "fill": {
              "color": "#C8D4E3"
             },
             "line": {
              "color": "white"
             }
            },
            "type": "table"
           }
          ]
         },
         "layout": {
          "annotationdefaults": {
           "arrowcolor": "#2a3f5f",
           "arrowhead": 0,
           "arrowwidth": 1
          },
          "autotypenumbers": "strict",
          "coloraxis": {
           "colorbar": {
            "outlinewidth": 0,
            "ticks": ""
           }
          },
          "colorscale": {
           "diverging": [
            [
             0,
             "#8e0152"
            ],
            [
             0.1,
             "#c51b7d"
            ],
            [
             0.2,
             "#de77ae"
            ],
            [
             0.3,
             "#f1b6da"
            ],
            [
             0.4,
             "#fde0ef"
            ],
            [
             0.5,
             "#f7f7f7"
            ],
            [
             0.6,
             "#e6f5d0"
            ],
            [
             0.7,
             "#b8e186"
            ],
            [
             0.8,
             "#7fbc41"
            ],
            [
             0.9,
             "#4d9221"
            ],
            [
             1,
             "#276419"
            ]
           ],
           "sequential": [
            [
             0,
             "#0d0887"
            ],
            [
             0.1111111111111111,
             "#46039f"
            ],
            [
             0.2222222222222222,
             "#7201a8"
            ],
            [
             0.3333333333333333,
             "#9c179e"
            ],
            [
             0.4444444444444444,
             "#bd3786"
            ],
            [
             0.5555555555555556,
             "#d8576b"
            ],
            [
             0.6666666666666666,
             "#ed7953"
            ],
            [
             0.7777777777777778,
             "#fb9f3a"
            ],
            [
             0.8888888888888888,
             "#fdca26"
            ],
            [
             1,
             "#f0f921"
            ]
           ],
           "sequentialminus": [
            [
             0,
             "#0d0887"
            ],
            [
             0.1111111111111111,
             "#46039f"
            ],
            [
             0.2222222222222222,
             "#7201a8"
            ],
            [
             0.3333333333333333,
             "#9c179e"
            ],
            [
             0.4444444444444444,
             "#bd3786"
            ],
            [
             0.5555555555555556,
             "#d8576b"
            ],
            [
             0.6666666666666666,
             "#ed7953"
            ],
            [
             0.7777777777777778,
             "#fb9f3a"
            ],
            [
             0.8888888888888888,
             "#fdca26"
            ],
            [
             1,
             "#f0f921"
            ]
           ]
          },
          "colorway": [
           "#636efa",
           "#EF553B",
           "#00cc96",
           "#ab63fa",
           "#FFA15A",
           "#19d3f3",
           "#FF6692",
           "#B6E880",
           "#FF97FF",
           "#FECB52"
          ],
          "font": {
           "color": "#2a3f5f"
          },
          "geo": {
           "bgcolor": "white",
           "lakecolor": "white",
           "landcolor": "#E5ECF6",
           "showlakes": true,
           "showland": true,
           "subunitcolor": "white"
          },
          "hoverlabel": {
           "align": "left"
          },
          "hovermode": "closest",
          "mapbox": {
           "style": "light"
          },
          "paper_bgcolor": "white",
          "plot_bgcolor": "#E5ECF6",
          "polar": {
           "angularaxis": {
            "gridcolor": "white",
            "linecolor": "white",
            "ticks": ""
           },
           "bgcolor": "#E5ECF6",
           "radialaxis": {
            "gridcolor": "white",
            "linecolor": "white",
            "ticks": ""
           }
          },
          "scene": {
           "xaxis": {
            "backgroundcolor": "#E5ECF6",
            "gridcolor": "white",
            "gridwidth": 2,
            "linecolor": "white",
            "showbackground": true,
            "ticks": "",
            "zerolinecolor": "white"
           },
           "yaxis": {
            "backgroundcolor": "#E5ECF6",
            "gridcolor": "white",
            "gridwidth": 2,
            "linecolor": "white",
            "showbackground": true,
            "ticks": "",
            "zerolinecolor": "white"
           },
           "zaxis": {
            "backgroundcolor": "#E5ECF6",
            "gridcolor": "white",
            "gridwidth": 2,
            "linecolor": "white",
            "showbackground": true,
            "ticks": "",
            "zerolinecolor": "white"
           }
          },
          "shapedefaults": {
           "line": {
            "color": "#2a3f5f"
           }
          },
          "ternary": {
           "aaxis": {
            "gridcolor": "white",
            "linecolor": "white",
            "ticks": ""
           },
           "baxis": {
            "gridcolor": "white",
            "linecolor": "white",
            "ticks": ""
           },
           "bgcolor": "#E5ECF6",
           "caxis": {
            "gridcolor": "white",
            "linecolor": "white",
            "ticks": ""
           }
          },
          "title": {
           "x": 0.05
          },
          "xaxis": {
           "automargin": true,
           "gridcolor": "white",
           "linecolor": "white",
           "ticks": "",
           "title": {
            "standoff": 15
           },
           "zerolinecolor": "white",
           "zerolinewidth": 2
          },
          "yaxis": {
           "automargin": true,
           "gridcolor": "white",
           "linecolor": "white",
           "ticks": "",
           "title": {
            "standoff": 15
           },
           "zerolinecolor": "white",
           "zerolinewidth": 2
          }
         }
        },
        "title": {
         "text": "Features & Schiller Correlations",
         "x": 0.5
        },
        "width": 900,
        "xaxis": {
         "anchor": "y",
         "domain": [
          0,
          1
         ],
         "title": {
          "text": "Correlation"
         }
        },
        "yaxis": {
         "anchor": "x",
         "domain": [
          0,
          1
         ],
         "title": {
          "text": "Features"
         }
        }
       }
      }
     },
     "metadata": {},
     "output_type": "display_data"
    },
    {
     "data": {
      "application/vnd.plotly.v1+json": {
       "config": {
        "plotlyServerURL": "https://plot.ly"
       },
       "data": [
        {
         "alignmentgroup": "True",
         "hovertemplate": "Correlation=%{x}<br>Features=%{y}<extra></extra>",
         "legendgroup": "",
         "marker": {
          "color": "#636efa",
          "pattern": {
           "shape": ""
          }
         },
         "name": "",
         "offsetgroup": "",
         "orientation": "h",
         "showlegend": false,
         "textposition": "auto",
         "type": "bar",
         "x": [
          0.002656176151653192,
          0.004171327403612543,
          0.007510199018598269,
          0.008245262700733913,
          0.009228151948627725,
          0.009228151948627732,
          0.009228151948627744,
          0.009228151948627744,
          0.010602680651476242,
          0.012585366002611962,
          0.013059963171290667,
          0.013596823283154175,
          0.018496209465784227,
          0.02069432720803919,
          0.022766994883665313,
          0.029717286028954456,
          0.03380565928430855,
          0.03485563689269703,
          0.04555295257233996,
          0.06885048107588604,
          0.07086589929650913,
          0.07466000708220938,
          0.07653339568233197,
          0.07901348063082422,
          0.09862996153702733,
          0.11778715011923747,
          0.12337715942022771,
          0.12941316504402423
         ],
         "xaxis": "x",
         "y": [
          "Smokes (years)",
          "IUD (years)",
          "Smokes (packs/year)",
          "Hormonal Contraceptives",
          "STDs:pelvic inflammatory disease",
          "STDs:molluscum contagiosum",
          "STDs:genital herpes",
          "STDs:Hepatitis B",
          "Smokes",
          "IUD",
          "STDs:HPV",
          "First sexual intercourse",
          "STDs:vaginal condylomatosis",
          "Dx:CIN",
          "Age",
          "Number of sexual partners",
          "Num of pregnancies",
          "STDs:syphilis",
          "Hormonal Contraceptives (years)",
          "STDs",
          "STDs: Number of diagnosis",
          "STDs (number)",
          "STDs:condylomatosis",
          "STDs:vulvo-perineal condylomatosis",
          "STDs:HIV",
          "Dx",
          "Dx:Cancer",
          "Dx:HPV"
         ],
         "yaxis": "y"
        }
       ],
       "layout": {
        "barmode": "relative",
        "height": 700,
        "legend": {
         "tracegroupgap": 0
        },
        "template": {
         "data": {
          "bar": [
           {
            "error_x": {
             "color": "#2a3f5f"
            },
            "error_y": {
             "color": "#2a3f5f"
            },
            "marker": {
             "line": {
              "color": "#E5ECF6",
              "width": 0.5
             },
             "pattern": {
              "fillmode": "overlay",
              "size": 10,
              "solidity": 0.2
             }
            },
            "type": "bar"
           }
          ],
          "barpolar": [
           {
            "marker": {
             "line": {
              "color": "#E5ECF6",
              "width": 0.5
             },
             "pattern": {
              "fillmode": "overlay",
              "size": 10,
              "solidity": 0.2
             }
            },
            "type": "barpolar"
           }
          ],
          "carpet": [
           {
            "aaxis": {
             "endlinecolor": "#2a3f5f",
             "gridcolor": "white",
             "linecolor": "white",
             "minorgridcolor": "white",
             "startlinecolor": "#2a3f5f"
            },
            "baxis": {
             "endlinecolor": "#2a3f5f",
             "gridcolor": "white",
             "linecolor": "white",
             "minorgridcolor": "white",
             "startlinecolor": "#2a3f5f"
            },
            "type": "carpet"
           }
          ],
          "choropleth": [
           {
            "colorbar": {
             "outlinewidth": 0,
             "ticks": ""
            },
            "type": "choropleth"
           }
          ],
          "contour": [
           {
            "colorbar": {
             "outlinewidth": 0,
             "ticks": ""
            },
            "colorscale": [
             [
              0,
              "#0d0887"
             ],
             [
              0.1111111111111111,
              "#46039f"
             ],
             [
              0.2222222222222222,
              "#7201a8"
             ],
             [
              0.3333333333333333,
              "#9c179e"
             ],
             [
              0.4444444444444444,
              "#bd3786"
             ],
             [
              0.5555555555555556,
              "#d8576b"
             ],
             [
              0.6666666666666666,
              "#ed7953"
             ],
             [
              0.7777777777777778,
              "#fb9f3a"
             ],
             [
              0.8888888888888888,
              "#fdca26"
             ],
             [
              1,
              "#f0f921"
             ]
            ],
            "type": "contour"
           }
          ],
          "contourcarpet": [
           {
            "colorbar": {
             "outlinewidth": 0,
             "ticks": ""
            },
            "type": "contourcarpet"
           }
          ],
          "heatmap": [
           {
            "colorbar": {
             "outlinewidth": 0,
             "ticks": ""
            },
            "colorscale": [
             [
              0,
              "#0d0887"
             ],
             [
              0.1111111111111111,
              "#46039f"
             ],
             [
              0.2222222222222222,
              "#7201a8"
             ],
             [
              0.3333333333333333,
              "#9c179e"
             ],
             [
              0.4444444444444444,
              "#bd3786"
             ],
             [
              0.5555555555555556,
              "#d8576b"
             ],
             [
              0.6666666666666666,
              "#ed7953"
             ],
             [
              0.7777777777777778,
              "#fb9f3a"
             ],
             [
              0.8888888888888888,
              "#fdca26"
             ],
             [
              1,
              "#f0f921"
             ]
            ],
            "type": "heatmap"
           }
          ],
          "heatmapgl": [
           {
            "colorbar": {
             "outlinewidth": 0,
             "ticks": ""
            },
            "colorscale": [
             [
              0,
              "#0d0887"
             ],
             [
              0.1111111111111111,
              "#46039f"
             ],
             [
              0.2222222222222222,
              "#7201a8"
             ],
             [
              0.3333333333333333,
              "#9c179e"
             ],
             [
              0.4444444444444444,
              "#bd3786"
             ],
             [
              0.5555555555555556,
              "#d8576b"
             ],
             [
              0.6666666666666666,
              "#ed7953"
             ],
             [
              0.7777777777777778,
              "#fb9f3a"
             ],
             [
              0.8888888888888888,
              "#fdca26"
             ],
             [
              1,
              "#f0f921"
             ]
            ],
            "type": "heatmapgl"
           }
          ],
          "histogram": [
           {
            "marker": {
             "pattern": {
              "fillmode": "overlay",
              "size": 10,
              "solidity": 0.2
             }
            },
            "type": "histogram"
           }
          ],
          "histogram2d": [
           {
            "colorbar": {
             "outlinewidth": 0,
             "ticks": ""
            },
            "colorscale": [
             [
              0,
              "#0d0887"
             ],
             [
              0.1111111111111111,
              "#46039f"
             ],
             [
              0.2222222222222222,
              "#7201a8"
             ],
             [
              0.3333333333333333,
              "#9c179e"
             ],
             [
              0.4444444444444444,
              "#bd3786"
             ],
             [
              0.5555555555555556,
              "#d8576b"
             ],
             [
              0.6666666666666666,
              "#ed7953"
             ],
             [
              0.7777777777777778,
              "#fb9f3a"
             ],
             [
              0.8888888888888888,
              "#fdca26"
             ],
             [
              1,
              "#f0f921"
             ]
            ],
            "type": "histogram2d"
           }
          ],
          "histogram2dcontour": [
           {
            "colorbar": {
             "outlinewidth": 0,
             "ticks": ""
            },
            "colorscale": [
             [
              0,
              "#0d0887"
             ],
             [
              0.1111111111111111,
              "#46039f"
             ],
             [
              0.2222222222222222,
              "#7201a8"
             ],
             [
              0.3333333333333333,
              "#9c179e"
             ],
             [
              0.4444444444444444,
              "#bd3786"
             ],
             [
              0.5555555555555556,
              "#d8576b"
             ],
             [
              0.6666666666666666,
              "#ed7953"
             ],
             [
              0.7777777777777778,
              "#fb9f3a"
             ],
             [
              0.8888888888888888,
              "#fdca26"
             ],
             [
              1,
              "#f0f921"
             ]
            ],
            "type": "histogram2dcontour"
           }
          ],
          "mesh3d": [
           {
            "colorbar": {
             "outlinewidth": 0,
             "ticks": ""
            },
            "type": "mesh3d"
           }
          ],
          "parcoords": [
           {
            "line": {
             "colorbar": {
              "outlinewidth": 0,
              "ticks": ""
             }
            },
            "type": "parcoords"
           }
          ],
          "pie": [
           {
            "automargin": true,
            "type": "pie"
           }
          ],
          "scatter": [
           {
            "fillpattern": {
             "fillmode": "overlay",
             "size": 10,
             "solidity": 0.2
            },
            "type": "scatter"
           }
          ],
          "scatter3d": [
           {
            "line": {
             "colorbar": {
              "outlinewidth": 0,
              "ticks": ""
             }
            },
            "marker": {
             "colorbar": {
              "outlinewidth": 0,
              "ticks": ""
             }
            },
            "type": "scatter3d"
           }
          ],
          "scattercarpet": [
           {
            "marker": {
             "colorbar": {
              "outlinewidth": 0,
              "ticks": ""
             }
            },
            "type": "scattercarpet"
           }
          ],
          "scattergeo": [
           {
            "marker": {
             "colorbar": {
              "outlinewidth": 0,
              "ticks": ""
             }
            },
            "type": "scattergeo"
           }
          ],
          "scattergl": [
           {
            "marker": {
             "colorbar": {
              "outlinewidth": 0,
              "ticks": ""
             }
            },
            "type": "scattergl"
           }
          ],
          "scattermapbox": [
           {
            "marker": {
             "colorbar": {
              "outlinewidth": 0,
              "ticks": ""
             }
            },
            "type": "scattermapbox"
           }
          ],
          "scatterpolar": [
           {
            "marker": {
             "colorbar": {
              "outlinewidth": 0,
              "ticks": ""
             }
            },
            "type": "scatterpolar"
           }
          ],
          "scatterpolargl": [
           {
            "marker": {
             "colorbar": {
              "outlinewidth": 0,
              "ticks": ""
             }
            },
            "type": "scatterpolargl"
           }
          ],
          "scatterternary": [
           {
            "marker": {
             "colorbar": {
              "outlinewidth": 0,
              "ticks": ""
             }
            },
            "type": "scatterternary"
           }
          ],
          "surface": [
           {
            "colorbar": {
             "outlinewidth": 0,
             "ticks": ""
            },
            "colorscale": [
             [
              0,
              "#0d0887"
             ],
             [
              0.1111111111111111,
              "#46039f"
             ],
             [
              0.2222222222222222,
              "#7201a8"
             ],
             [
              0.3333333333333333,
              "#9c179e"
             ],
             [
              0.4444444444444444,
              "#bd3786"
             ],
             [
              0.5555555555555556,
              "#d8576b"
             ],
             [
              0.6666666666666666,
              "#ed7953"
             ],
             [
              0.7777777777777778,
              "#fb9f3a"
             ],
             [
              0.8888888888888888,
              "#fdca26"
             ],
             [
              1,
              "#f0f921"
             ]
            ],
            "type": "surface"
           }
          ],
          "table": [
           {
            "cells": {
             "fill": {
              "color": "#EBF0F8"
             },
             "line": {
              "color": "white"
             }
            },
            "header": {
             "fill": {
              "color": "#C8D4E3"
             },
             "line": {
              "color": "white"
             }
            },
            "type": "table"
           }
          ]
         },
         "layout": {
          "annotationdefaults": {
           "arrowcolor": "#2a3f5f",
           "arrowhead": 0,
           "arrowwidth": 1
          },
          "autotypenumbers": "strict",
          "coloraxis": {
           "colorbar": {
            "outlinewidth": 0,
            "ticks": ""
           }
          },
          "colorscale": {
           "diverging": [
            [
             0,
             "#8e0152"
            ],
            [
             0.1,
             "#c51b7d"
            ],
            [
             0.2,
             "#de77ae"
            ],
            [
             0.3,
             "#f1b6da"
            ],
            [
             0.4,
             "#fde0ef"
            ],
            [
             0.5,
             "#f7f7f7"
            ],
            [
             0.6,
             "#e6f5d0"
            ],
            [
             0.7,
             "#b8e186"
            ],
            [
             0.8,
             "#7fbc41"
            ],
            [
             0.9,
             "#4d9221"
            ],
            [
             1,
             "#276419"
            ]
           ],
           "sequential": [
            [
             0,
             "#0d0887"
            ],
            [
             0.1111111111111111,
             "#46039f"
            ],
            [
             0.2222222222222222,
             "#7201a8"
            ],
            [
             0.3333333333333333,
             "#9c179e"
            ],
            [
             0.4444444444444444,
             "#bd3786"
            ],
            [
             0.5555555555555556,
             "#d8576b"
            ],
            [
             0.6666666666666666,
             "#ed7953"
            ],
            [
             0.7777777777777778,
             "#fb9f3a"
            ],
            [
             0.8888888888888888,
             "#fdca26"
            ],
            [
             1,
             "#f0f921"
            ]
           ],
           "sequentialminus": [
            [
             0,
             "#0d0887"
            ],
            [
             0.1111111111111111,
             "#46039f"
            ],
            [
             0.2222222222222222,
             "#7201a8"
            ],
            [
             0.3333333333333333,
             "#9c179e"
            ],
            [
             0.4444444444444444,
             "#bd3786"
            ],
            [
             0.5555555555555556,
             "#d8576b"
            ],
            [
             0.6666666666666666,
             "#ed7953"
            ],
            [
             0.7777777777777778,
             "#fb9f3a"
            ],
            [
             0.8888888888888888,
             "#fdca26"
            ],
            [
             1,
             "#f0f921"
            ]
           ]
          },
          "colorway": [
           "#636efa",
           "#EF553B",
           "#00cc96",
           "#ab63fa",
           "#FFA15A",
           "#19d3f3",
           "#FF6692",
           "#B6E880",
           "#FF97FF",
           "#FECB52"
          ],
          "font": {
           "color": "#2a3f5f"
          },
          "geo": {
           "bgcolor": "white",
           "lakecolor": "white",
           "landcolor": "#E5ECF6",
           "showlakes": true,
           "showland": true,
           "subunitcolor": "white"
          },
          "hoverlabel": {
           "align": "left"
          },
          "hovermode": "closest",
          "mapbox": {
           "style": "light"
          },
          "paper_bgcolor": "white",
          "plot_bgcolor": "#E5ECF6",
          "polar": {
           "angularaxis": {
            "gridcolor": "white",
            "linecolor": "white",
            "ticks": ""
           },
           "bgcolor": "#E5ECF6",
           "radialaxis": {
            "gridcolor": "white",
            "linecolor": "white",
            "ticks": ""
           }
          },
          "scene": {
           "xaxis": {
            "backgroundcolor": "#E5ECF6",
            "gridcolor": "white",
            "gridwidth": 2,
            "linecolor": "white",
            "showbackground": true,
            "ticks": "",
            "zerolinecolor": "white"
           },
           "yaxis": {
            "backgroundcolor": "#E5ECF6",
            "gridcolor": "white",
            "gridwidth": 2,
            "linecolor": "white",
            "showbackground": true,
            "ticks": "",
            "zerolinecolor": "white"
           },
           "zaxis": {
            "backgroundcolor": "#E5ECF6",
            "gridcolor": "white",
            "gridwidth": 2,
            "linecolor": "white",
            "showbackground": true,
            "ticks": "",
            "zerolinecolor": "white"
           }
          },
          "shapedefaults": {
           "line": {
            "color": "#2a3f5f"
           }
          },
          "ternary": {
           "aaxis": {
            "gridcolor": "white",
            "linecolor": "white",
            "ticks": ""
           },
           "baxis": {
            "gridcolor": "white",
            "linecolor": "white",
            "ticks": ""
           },
           "bgcolor": "#E5ECF6",
           "caxis": {
            "gridcolor": "white",
            "linecolor": "white",
            "ticks": ""
           }
          },
          "title": {
           "x": 0.05
          },
          "xaxis": {
           "automargin": true,
           "gridcolor": "white",
           "linecolor": "white",
           "ticks": "",
           "title": {
            "standoff": 15
           },
           "zerolinecolor": "white",
           "zerolinewidth": 2
          },
          "yaxis": {
           "automargin": true,
           "gridcolor": "white",
           "linecolor": "white",
           "ticks": "",
           "title": {
            "standoff": 15
           },
           "zerolinecolor": "white",
           "zerolinewidth": 2
          }
         }
        },
        "title": {
         "text": "Features & Citology Correlations",
         "x": 0.5
        },
        "width": 900,
        "xaxis": {
         "anchor": "y",
         "domain": [
          0,
          1
         ],
         "title": {
          "text": "Correlation"
         }
        },
        "yaxis": {
         "anchor": "x",
         "domain": [
          0,
          1
         ],
         "title": {
          "text": "Features"
         }
        }
       }
      }
     },
     "metadata": {},
     "output_type": "display_data"
    },
    {
     "data": {
      "application/vnd.plotly.v1+json": {
       "config": {
        "plotlyServerURL": "https://plot.ly"
       },
       "data": [
        {
         "alignmentgroup": "True",
         "hovertemplate": "Correlation=%{x}<br>Features=%{y}<extra></extra>",
         "legendgroup": "",
         "marker": {
          "color": "#636efa",
          "pattern": {
           "shape": ""
          }
         },
         "name": "",
         "offsetgroup": "",
         "orientation": "h",
         "showlegend": false,
         "textposition": "auto",
         "type": "bar",
         "x": [
          0.0026771486223456328,
          0.009481882636351753,
          0.010423316310923005,
          0.010423316310923022,
          0.010423316310923046,
          0.011488446692758794,
          0.014751396368544915,
          0.020891706474732062,
          0.03154921956054808,
          0.03683354944373275,
          0.039369890155014686,
          0.04754421015708695,
          0.05742699716909073,
          0.06259867524061943,
          0.06300820102030921,
          0.07894248007145165,
          0.10213868492644,
          0.10397599937938684,
          0.10699297453932392,
          0.10962167565925819,
          0.11042992167149474,
          0.11159178442874756,
          0.11975049752626755,
          0.12063485292396649,
          0.13784304019343072,
          0.16751637144814863,
          0.1748037268124837,
          0.1826855867085685
         ],
         "xaxis": "x",
         "y": [
          "Number of sexual partners",
          "Hormonal Contraceptives",
          "STDs:pelvic inflammatory disease",
          "STDs:molluscum contagiosum",
          "STDs:Hepatitis B",
          "First sexual intercourse",
          "STDs:HPV",
          "STDs:vaginal condylomatosis",
          "Smokes (packs/year)",
          "IUD (years)",
          "STDs:syphilis",
          "Smokes",
          "Num of pregnancies",
          "IUD",
          "Age",
          "Smokes (years)",
          "STDs: Number of diagnosis",
          "STDs:condylomatosis",
          "STDs:vulvo-perineal condylomatosis",
          "Dx:CIN",
          "Hormonal Contraceptives (years)",
          "STDs (number)",
          "STDs",
          "STDs:HIV",
          "STDs:genital herpes",
          "Dx",
          "Dx:Cancer",
          "Dx:HPV"
         ],
         "yaxis": "y"
        }
       ],
       "layout": {
        "barmode": "relative",
        "height": 700,
        "legend": {
         "tracegroupgap": 0
        },
        "template": {
         "data": {
          "bar": [
           {
            "error_x": {
             "color": "#2a3f5f"
            },
            "error_y": {
             "color": "#2a3f5f"
            },
            "marker": {
             "line": {
              "color": "#E5ECF6",
              "width": 0.5
             },
             "pattern": {
              "fillmode": "overlay",
              "size": 10,
              "solidity": 0.2
             }
            },
            "type": "bar"
           }
          ],
          "barpolar": [
           {
            "marker": {
             "line": {
              "color": "#E5ECF6",
              "width": 0.5
             },
             "pattern": {
              "fillmode": "overlay",
              "size": 10,
              "solidity": 0.2
             }
            },
            "type": "barpolar"
           }
          ],
          "carpet": [
           {
            "aaxis": {
             "endlinecolor": "#2a3f5f",
             "gridcolor": "white",
             "linecolor": "white",
             "minorgridcolor": "white",
             "startlinecolor": "#2a3f5f"
            },
            "baxis": {
             "endlinecolor": "#2a3f5f",
             "gridcolor": "white",
             "linecolor": "white",
             "minorgridcolor": "white",
             "startlinecolor": "#2a3f5f"
            },
            "type": "carpet"
           }
          ],
          "choropleth": [
           {
            "colorbar": {
             "outlinewidth": 0,
             "ticks": ""
            },
            "type": "choropleth"
           }
          ],
          "contour": [
           {
            "colorbar": {
             "outlinewidth": 0,
             "ticks": ""
            },
            "colorscale": [
             [
              0,
              "#0d0887"
             ],
             [
              0.1111111111111111,
              "#46039f"
             ],
             [
              0.2222222222222222,
              "#7201a8"
             ],
             [
              0.3333333333333333,
              "#9c179e"
             ],
             [
              0.4444444444444444,
              "#bd3786"
             ],
             [
              0.5555555555555556,
              "#d8576b"
             ],
             [
              0.6666666666666666,
              "#ed7953"
             ],
             [
              0.7777777777777778,
              "#fb9f3a"
             ],
             [
              0.8888888888888888,
              "#fdca26"
             ],
             [
              1,
              "#f0f921"
             ]
            ],
            "type": "contour"
           }
          ],
          "contourcarpet": [
           {
            "colorbar": {
             "outlinewidth": 0,
             "ticks": ""
            },
            "type": "contourcarpet"
           }
          ],
          "heatmap": [
           {
            "colorbar": {
             "outlinewidth": 0,
             "ticks": ""
            },
            "colorscale": [
             [
              0,
              "#0d0887"
             ],
             [
              0.1111111111111111,
              "#46039f"
             ],
             [
              0.2222222222222222,
              "#7201a8"
             ],
             [
              0.3333333333333333,
              "#9c179e"
             ],
             [
              0.4444444444444444,
              "#bd3786"
             ],
             [
              0.5555555555555556,
              "#d8576b"
             ],
             [
              0.6666666666666666,
              "#ed7953"
             ],
             [
              0.7777777777777778,
              "#fb9f3a"
             ],
             [
              0.8888888888888888,
              "#fdca26"
             ],
             [
              1,
              "#f0f921"
             ]
            ],
            "type": "heatmap"
           }
          ],
          "heatmapgl": [
           {
            "colorbar": {
             "outlinewidth": 0,
             "ticks": ""
            },
            "colorscale": [
             [
              0,
              "#0d0887"
             ],
             [
              0.1111111111111111,
              "#46039f"
             ],
             [
              0.2222222222222222,
              "#7201a8"
             ],
             [
              0.3333333333333333,
              "#9c179e"
             ],
             [
              0.4444444444444444,
              "#bd3786"
             ],
             [
              0.5555555555555556,
              "#d8576b"
             ],
             [
              0.6666666666666666,
              "#ed7953"
             ],
             [
              0.7777777777777778,
              "#fb9f3a"
             ],
             [
              0.8888888888888888,
              "#fdca26"
             ],
             [
              1,
              "#f0f921"
             ]
            ],
            "type": "heatmapgl"
           }
          ],
          "histogram": [
           {
            "marker": {
             "pattern": {
              "fillmode": "overlay",
              "size": 10,
              "solidity": 0.2
             }
            },
            "type": "histogram"
           }
          ],
          "histogram2d": [
           {
            "colorbar": {
             "outlinewidth": 0,
             "ticks": ""
            },
            "colorscale": [
             [
              0,
              "#0d0887"
             ],
             [
              0.1111111111111111,
              "#46039f"
             ],
             [
              0.2222222222222222,
              "#7201a8"
             ],
             [
              0.3333333333333333,
              "#9c179e"
             ],
             [
              0.4444444444444444,
              "#bd3786"
             ],
             [
              0.5555555555555556,
              "#d8576b"
             ],
             [
              0.6666666666666666,
              "#ed7953"
             ],
             [
              0.7777777777777778,
              "#fb9f3a"
             ],
             [
              0.8888888888888888,
              "#fdca26"
             ],
             [
              1,
              "#f0f921"
             ]
            ],
            "type": "histogram2d"
           }
          ],
          "histogram2dcontour": [
           {
            "colorbar": {
             "outlinewidth": 0,
             "ticks": ""
            },
            "colorscale": [
             [
              0,
              "#0d0887"
             ],
             [
              0.1111111111111111,
              "#46039f"
             ],
             [
              0.2222222222222222,
              "#7201a8"
             ],
             [
              0.3333333333333333,
              "#9c179e"
             ],
             [
              0.4444444444444444,
              "#bd3786"
             ],
             [
              0.5555555555555556,
              "#d8576b"
             ],
             [
              0.6666666666666666,
              "#ed7953"
             ],
             [
              0.7777777777777778,
              "#fb9f3a"
             ],
             [
              0.8888888888888888,
              "#fdca26"
             ],
             [
              1,
              "#f0f921"
             ]
            ],
            "type": "histogram2dcontour"
           }
          ],
          "mesh3d": [
           {
            "colorbar": {
             "outlinewidth": 0,
             "ticks": ""
            },
            "type": "mesh3d"
           }
          ],
          "parcoords": [
           {
            "line": {
             "colorbar": {
              "outlinewidth": 0,
              "ticks": ""
             }
            },
            "type": "parcoords"
           }
          ],
          "pie": [
           {
            "automargin": true,
            "type": "pie"
           }
          ],
          "scatter": [
           {
            "fillpattern": {
             "fillmode": "overlay",
             "size": 10,
             "solidity": 0.2
            },
            "type": "scatter"
           }
          ],
          "scatter3d": [
           {
            "line": {
             "colorbar": {
              "outlinewidth": 0,
              "ticks": ""
             }
            },
            "marker": {
             "colorbar": {
              "outlinewidth": 0,
              "ticks": ""
             }
            },
            "type": "scatter3d"
           }
          ],
          "scattercarpet": [
           {
            "marker": {
             "colorbar": {
              "outlinewidth": 0,
              "ticks": ""
             }
            },
            "type": "scattercarpet"
           }
          ],
          "scattergeo": [
           {
            "marker": {
             "colorbar": {
              "outlinewidth": 0,
              "ticks": ""
             }
            },
            "type": "scattergeo"
           }
          ],
          "scattergl": [
           {
            "marker": {
             "colorbar": {
              "outlinewidth": 0,
              "ticks": ""
             }
            },
            "type": "scattergl"
           }
          ],
          "scattermapbox": [
           {
            "marker": {
             "colorbar": {
              "outlinewidth": 0,
              "ticks": ""
             }
            },
            "type": "scattermapbox"
           }
          ],
          "scatterpolar": [
           {
            "marker": {
             "colorbar": {
              "outlinewidth": 0,
              "ticks": ""
             }
            },
            "type": "scatterpolar"
           }
          ],
          "scatterpolargl": [
           {
            "marker": {
             "colorbar": {
              "outlinewidth": 0,
              "ticks": ""
             }
            },
            "type": "scatterpolargl"
           }
          ],
          "scatterternary": [
           {
            "marker": {
             "colorbar": {
              "outlinewidth": 0,
              "ticks": ""
             }
            },
            "type": "scatterternary"
           }
          ],
          "surface": [
           {
            "colorbar": {
             "outlinewidth": 0,
             "ticks": ""
            },
            "colorscale": [
             [
              0,
              "#0d0887"
             ],
             [
              0.1111111111111111,
              "#46039f"
             ],
             [
              0.2222222222222222,
              "#7201a8"
             ],
             [
              0.3333333333333333,
              "#9c179e"
             ],
             [
              0.4444444444444444,
              "#bd3786"
             ],
             [
              0.5555555555555556,
              "#d8576b"
             ],
             [
              0.6666666666666666,
              "#ed7953"
             ],
             [
              0.7777777777777778,
              "#fb9f3a"
             ],
             [
              0.8888888888888888,
              "#fdca26"
             ],
             [
              1,
              "#f0f921"
             ]
            ],
            "type": "surface"
           }
          ],
          "table": [
           {
            "cells": {
             "fill": {
              "color": "#EBF0F8"
             },
             "line": {
              "color": "white"
             }
            },
            "header": {
             "fill": {
              "color": "#C8D4E3"
             },
             "line": {
              "color": "white"
             }
            },
            "type": "table"
           }
          ]
         },
         "layout": {
          "annotationdefaults": {
           "arrowcolor": "#2a3f5f",
           "arrowhead": 0,
           "arrowwidth": 1
          },
          "autotypenumbers": "strict",
          "coloraxis": {
           "colorbar": {
            "outlinewidth": 0,
            "ticks": ""
           }
          },
          "colorscale": {
           "diverging": [
            [
             0,
             "#8e0152"
            ],
            [
             0.1,
             "#c51b7d"
            ],
            [
             0.2,
             "#de77ae"
            ],
            [
             0.3,
             "#f1b6da"
            ],
            [
             0.4,
             "#fde0ef"
            ],
            [
             0.5,
             "#f7f7f7"
            ],
            [
             0.6,
             "#e6f5d0"
            ],
            [
             0.7,
             "#b8e186"
            ],
            [
             0.8,
             "#7fbc41"
            ],
            [
             0.9,
             "#4d9221"
            ],
            [
             1,
             "#276419"
            ]
           ],
           "sequential": [
            [
             0,
             "#0d0887"
            ],
            [
             0.1111111111111111,
             "#46039f"
            ],
            [
             0.2222222222222222,
             "#7201a8"
            ],
            [
             0.3333333333333333,
             "#9c179e"
            ],
            [
             0.4444444444444444,
             "#bd3786"
            ],
            [
             0.5555555555555556,
             "#d8576b"
            ],
            [
             0.6666666666666666,
             "#ed7953"
            ],
            [
             0.7777777777777778,
             "#fb9f3a"
            ],
            [
             0.8888888888888888,
             "#fdca26"
            ],
            [
             1,
             "#f0f921"
            ]
           ],
           "sequentialminus": [
            [
             0,
             "#0d0887"
            ],
            [
             0.1111111111111111,
             "#46039f"
            ],
            [
             0.2222222222222222,
             "#7201a8"
            ],
            [
             0.3333333333333333,
             "#9c179e"
            ],
            [
             0.4444444444444444,
             "#bd3786"
            ],
            [
             0.5555555555555556,
             "#d8576b"
            ],
            [
             0.6666666666666666,
             "#ed7953"
            ],
            [
             0.7777777777777778,
             "#fb9f3a"
            ],
            [
             0.8888888888888888,
             "#fdca26"
            ],
            [
             1,
             "#f0f921"
            ]
           ]
          },
          "colorway": [
           "#636efa",
           "#EF553B",
           "#00cc96",
           "#ab63fa",
           "#FFA15A",
           "#19d3f3",
           "#FF6692",
           "#B6E880",
           "#FF97FF",
           "#FECB52"
          ],
          "font": {
           "color": "#2a3f5f"
          },
          "geo": {
           "bgcolor": "white",
           "lakecolor": "white",
           "landcolor": "#E5ECF6",
           "showlakes": true,
           "showland": true,
           "subunitcolor": "white"
          },
          "hoverlabel": {
           "align": "left"
          },
          "hovermode": "closest",
          "mapbox": {
           "style": "light"
          },
          "paper_bgcolor": "white",
          "plot_bgcolor": "#E5ECF6",
          "polar": {
           "angularaxis": {
            "gridcolor": "white",
            "linecolor": "white",
            "ticks": ""
           },
           "bgcolor": "#E5ECF6",
           "radialaxis": {
            "gridcolor": "white",
            "linecolor": "white",
            "ticks": ""
           }
          },
          "scene": {
           "xaxis": {
            "backgroundcolor": "#E5ECF6",
            "gridcolor": "white",
            "gridwidth": 2,
            "linecolor": "white",
            "showbackground": true,
            "ticks": "",
            "zerolinecolor": "white"
           },
           "yaxis": {
            "backgroundcolor": "#E5ECF6",
            "gridcolor": "white",
            "gridwidth": 2,
            "linecolor": "white",
            "showbackground": true,
            "ticks": "",
            "zerolinecolor": "white"
           },
           "zaxis": {
            "backgroundcolor": "#E5ECF6",
            "gridcolor": "white",
            "gridwidth": 2,
            "linecolor": "white",
            "showbackground": true,
            "ticks": "",
            "zerolinecolor": "white"
           }
          },
          "shapedefaults": {
           "line": {
            "color": "#2a3f5f"
           }
          },
          "ternary": {
           "aaxis": {
            "gridcolor": "white",
            "linecolor": "white",
            "ticks": ""
           },
           "baxis": {
            "gridcolor": "white",
            "linecolor": "white",
            "ticks": ""
           },
           "bgcolor": "#E5ECF6",
           "caxis": {
            "gridcolor": "white",
            "linecolor": "white",
            "ticks": ""
           }
          },
          "title": {
           "x": 0.05
          },
          "xaxis": {
           "automargin": true,
           "gridcolor": "white",
           "linecolor": "white",
           "ticks": "",
           "title": {
            "standoff": 15
           },
           "zerolinecolor": "white",
           "zerolinewidth": 2
          },
          "yaxis": {
           "automargin": true,
           "gridcolor": "white",
           "linecolor": "white",
           "ticks": "",
           "title": {
            "standoff": 15
           },
           "zerolinecolor": "white",
           "zerolinewidth": 2
          }
         }
        },
        "title": {
         "text": "Features & Biopsy Correlations",
         "x": 0.5
        },
        "width": 900,
        "xaxis": {
         "anchor": "y",
         "domain": [
          0,
          1
         ],
         "title": {
          "text": "Correlation"
         }
        },
        "yaxis": {
         "anchor": "x",
         "domain": [
          0,
          1
         ],
         "title": {
          "text": "Features"
         }
        }
       }
      }
     },
     "metadata": {},
     "output_type": "display_data"
    }
   ],
   "source": [
    "def find_corr(target, col):\n",
    "    return risk_factor_df[target].corr(risk_factor_df[col])\n",
    "\n",
    "# Create dictionaries\n",
    "target_variables = [\"Hinselmann\", \"Schiller\", \"Citology\", \"Biopsy\"]\n",
    "correlations = {target: {} for target in target_variables}\n",
    "\n",
    "# Calculate correlations\n",
    "for target in target_variables:\n",
    "    target_corr = risk_factor_df.iloc[:, :-4].corrwith(risk_factor_df[target])\n",
    "    correlations[target] = dict(target_corr.abs().sort_values())\n",
    "    \n",
    "# Plot graphs\n",
    "for target in correlations:\n",
    "    target_df = pd.DataFrame.from_dict(correlations[target], orient=\"index\", columns=[\"Correlation\"])\n",
    "\n",
    "    target_fig = px.bar(target_df, x=\"Correlation\",\n",
    "        orientation='h',\n",
    "        title=\"Features & {} Correlations\".format(target),\n",
    "        labels={\n",
    "            \"index\": \"Features\"\n",
    "        },\n",
    "        width=900, height=700)\n",
    "    \n",
    "    target_fig.update_layout(\n",
    "        title_x=0.5    \n",
    "    )\n",
    "    \n",
    "    target_fig.show()"
   ]
  },
  {
   "cell_type": "markdown",
   "metadata": {},
   "source": [
    "# Data pre-processing steps\n",
    "---\n",
    "Up to this point the dataset has 32 cols, 697 rows. <-- I checked many times this should be 30 columns... \n",
    "\n",
    "- Re-encoded missing values from \"?\" to \"NaN\"\n",
    "- Imputed missing data in columns with median\n",
    "- Dropped near zero variance and redundant features\n",
    "- Oversampled minority class (cancer) to reflect major class\n",
    "- Build-out baseline logistic regression model to test statistical significance\n",
    "- Assigned target to its own dataframe and split data into 80:20 train/test set"
   ]
  },
  {
   "cell_type": "markdown",
   "metadata": {},
   "source": [
    "#### Data Clearning\n",
    "\n",
    "Sections related above:\n",
    "- Droped $1^st$ and $2^nd$ of Top 15 columns contain missing values. **36 columns -> 34 columns**\n",
    "- Droped columns \"STDs: Time since first diagnosis\", \"STDs: Time since last diagnosis\". more than 92% are NaN values. **34 columns -> 32 columns**\n",
    "- Droped rows has more than 10 values are missing. **858 rows -> 753 rows**\n",
    "- If the column contained binary values then the row containing the missing value was deleted. Otherwise, the missing value was replaced with the mean of the column. **753 rows -> 726 rows**\n",
    "- 18 Duplicated Rows are removed. **726 rows -> 708 rows**\n",
    "- Droped \"STDs:cervical condylomatosis\", \"STDs:AIDS\" because have a standard deviation of 0. **32 columns -> 30 columns**\n",
    "- Remove outliers. **708 rows -> 697 rows**"
   ]
  },
  {
   "cell_type": "markdown",
   "metadata": {},
   "source": [
    "#### Split dataset"
   ]
  },
  {
   "cell_type": "code",
   "execution_count": 125,
   "metadata": {},
   "outputs": [],
   "source": [
    "import plotly.express as px\n",
    "import pandas as pd\n",
    "from sklearn.model_selection import train_test_split"
   ]
  },
  {
   "cell_type": "code",
   "execution_count": 126,
   "metadata": {},
   "outputs": [
    {
     "data": {
      "text/plain": [
       "Biopsy\n",
       "0    648\n",
       "1     49\n",
       "Name: count, dtype: int64"
      ]
     },
     "execution_count": 126,
     "metadata": {},
     "output_type": "execute_result"
    }
   ],
   "source": [
    "risk_factor_df[target].value_counts()"
   ]
  },
  {
   "cell_type": "code",
   "execution_count": 127,
   "metadata": {},
   "outputs": [
    {
     "data": {
      "application/vnd.plotly.v1+json": {
       "config": {
        "plotlyServerURL": "https://plot.ly"
       },
       "data": [
        {
         "alignmentgroup": "True",
         "bingroup": "x",
         "hovertemplate": "Biopsy=%{x}<br>count=%{y}<extra></extra>",
         "legendgroup": "",
         "marker": {
          "color": "#636efa",
          "pattern": {
           "shape": ""
          }
         },
         "name": "",
         "offsetgroup": "",
         "orientation": "v",
         "showlegend": false,
         "type": "histogram",
         "x": [
          0,
          0,
          0,
          0,
          0,
          0,
          1,
          0,
          0,
          0,
          0,
          0,
          0,
          0,
          0,
          0,
          0,
          0,
          0,
          0,
          1,
          1,
          0,
          0,
          0,
          0,
          0,
          0,
          0,
          0,
          0,
          0,
          0,
          0,
          0,
          0,
          0,
          0,
          0,
          0,
          1,
          0,
          0,
          0,
          0,
          0,
          0,
          0,
          0,
          0,
          0,
          0,
          0,
          0,
          0,
          0,
          0,
          0,
          0,
          1,
          0,
          0,
          0,
          0,
          0,
          0,
          0,
          0,
          0,
          0,
          0,
          0,
          0,
          0,
          0,
          0,
          0,
          0,
          0,
          0,
          0,
          0,
          0,
          1,
          0,
          1,
          0,
          0,
          0,
          0,
          1,
          0,
          0,
          0,
          0,
          0,
          0,
          0,
          0,
          0,
          0,
          0,
          0,
          0,
          0,
          0,
          0,
          0,
          0,
          0,
          0,
          0,
          0,
          0,
          1,
          0,
          0,
          0,
          0,
          0,
          0,
          0,
          0,
          0,
          0,
          0,
          0,
          0,
          0,
          0,
          0,
          0,
          0,
          0,
          0,
          0,
          0,
          0,
          0,
          0,
          1,
          0,
          0,
          0,
          0,
          0,
          0,
          0,
          0,
          0,
          0,
          0,
          0,
          0,
          0,
          0,
          0,
          0,
          0,
          1,
          0,
          0,
          0,
          0,
          0,
          0,
          0,
          0,
          0,
          0,
          0,
          0,
          0,
          1,
          0,
          1,
          0,
          0,
          0,
          0,
          0,
          0,
          0,
          1,
          0,
          1,
          0,
          0,
          0,
          0,
          0,
          1,
          0,
          0,
          0,
          0,
          0,
          0,
          0,
          0,
          0,
          0,
          0,
          0,
          0,
          0,
          0,
          0,
          0,
          0,
          0,
          0,
          0,
          0,
          0,
          0,
          0,
          1,
          0,
          0,
          0,
          0,
          0,
          1,
          0,
          0,
          0,
          0,
          0,
          0,
          0,
          0,
          0,
          0,
          0,
          0,
          0,
          0,
          0,
          0,
          0,
          0,
          0,
          0,
          0,
          0,
          0,
          0,
          0,
          0,
          0,
          0,
          0,
          0,
          0,
          0,
          0,
          0,
          0,
          0,
          0,
          1,
          0,
          0,
          0,
          1,
          0,
          0,
          1,
          0,
          0,
          0,
          0,
          0,
          0,
          0,
          1,
          0,
          0,
          0,
          0,
          0,
          0,
          0,
          0,
          0,
          0,
          0,
          0,
          0,
          0,
          0,
          0,
          0,
          0,
          0,
          0,
          0,
          0,
          0,
          0,
          0,
          1,
          0,
          0,
          0,
          0,
          0,
          0,
          1,
          0,
          0,
          0,
          0,
          1,
          0,
          0,
          0,
          0,
          0,
          0,
          0,
          0,
          0,
          0,
          0,
          0,
          0,
          0,
          0,
          0,
          0,
          0,
          0,
          0,
          0,
          0,
          0,
          0,
          0,
          0,
          0,
          0,
          0,
          0,
          0,
          0,
          0,
          0,
          0,
          0,
          0,
          0,
          1,
          0,
          0,
          0,
          0,
          0,
          0,
          0,
          0,
          0,
          0,
          0,
          0,
          0,
          0,
          0,
          0,
          0,
          0,
          0,
          0,
          0,
          0,
          0,
          1,
          0,
          0,
          0,
          0,
          0,
          0,
          0,
          0,
          0,
          0,
          0,
          0,
          0,
          0,
          0,
          0,
          0,
          1,
          0,
          0,
          0,
          0,
          0,
          0,
          0,
          0,
          0,
          0,
          0,
          0,
          0,
          0,
          0,
          0,
          0,
          0,
          0,
          0,
          0,
          0,
          0,
          0,
          0,
          0,
          0,
          0,
          0,
          0,
          0,
          0,
          0,
          0,
          0,
          1,
          0,
          0,
          0,
          0,
          0,
          0,
          1,
          0,
          0,
          0,
          0,
          0,
          0,
          0,
          0,
          0,
          0,
          0,
          0,
          0,
          0,
          0,
          0,
          0,
          0,
          0,
          0,
          0,
          0,
          0,
          1,
          0,
          0,
          0,
          0,
          0,
          0,
          0,
          0,
          0,
          0,
          0,
          0,
          0,
          0,
          0,
          0,
          1,
          0,
          0,
          0,
          0,
          0,
          0,
          0,
          0,
          0,
          1,
          0,
          0,
          0,
          1,
          0,
          0,
          0,
          0,
          0,
          0,
          0,
          0,
          0,
          0,
          0,
          0,
          0,
          0,
          0,
          0,
          0,
          0,
          0,
          0,
          0,
          0,
          0,
          0,
          0,
          0,
          0,
          0,
          0,
          0,
          0,
          0,
          0,
          1,
          0,
          1,
          0,
          0,
          0,
          0,
          0,
          0,
          0,
          0,
          1,
          0,
          0,
          1,
          1,
          0,
          1,
          0,
          0,
          0,
          0,
          0,
          0,
          0,
          0,
          0,
          0,
          0,
          1,
          1,
          1,
          0,
          0,
          0,
          0,
          1,
          0,
          0,
          0,
          0,
          0,
          0,
          0,
          0,
          0,
          0,
          0,
          0,
          0,
          0,
          0,
          0,
          0,
          0,
          0,
          0,
          0,
          0,
          0,
          0,
          0,
          0,
          0,
          0,
          0,
          0,
          0,
          0,
          0,
          0,
          0,
          0,
          0,
          0,
          1,
          0,
          0,
          0,
          0,
          0,
          0,
          0,
          0,
          0,
          0,
          0,
          1,
          1,
          0,
          0,
          0,
          0,
          0,
          0,
          0,
          0,
          0,
          0,
          0,
          0,
          0,
          0,
          0,
          0,
          0,
          0,
          1,
          0,
          0,
          0,
          0,
          0,
          0,
          1,
          0,
          0,
          0,
          0,
          0,
          0,
          0,
          0,
          0,
          0,
          0,
          0,
          0,
          0,
          0,
          0,
          0,
          0,
          0,
          0,
          0,
          0,
          0,
          0,
          0,
          0,
          0,
          0,
          0,
          0,
          0,
          0,
          0,
          0,
          0,
          0,
          0,
          0,
          0,
          0,
          0,
          0,
          0,
          0,
          0,
          0,
          0,
          0,
          0,
          0,
          0,
          0,
          0,
          0,
          0
         ],
         "xaxis": "x",
         "yaxis": "y"
        }
       ],
       "layout": {
        "barmode": "relative",
        "legend": {
         "tracegroupgap": 0
        },
        "margin": {
         "t": 60
        },
        "template": {
         "data": {
          "bar": [
           {
            "error_x": {
             "color": "#2a3f5f"
            },
            "error_y": {
             "color": "#2a3f5f"
            },
            "marker": {
             "line": {
              "color": "#E5ECF6",
              "width": 0.5
             },
             "pattern": {
              "fillmode": "overlay",
              "size": 10,
              "solidity": 0.2
             }
            },
            "type": "bar"
           }
          ],
          "barpolar": [
           {
            "marker": {
             "line": {
              "color": "#E5ECF6",
              "width": 0.5
             },
             "pattern": {
              "fillmode": "overlay",
              "size": 10,
              "solidity": 0.2
             }
            },
            "type": "barpolar"
           }
          ],
          "carpet": [
           {
            "aaxis": {
             "endlinecolor": "#2a3f5f",
             "gridcolor": "white",
             "linecolor": "white",
             "minorgridcolor": "white",
             "startlinecolor": "#2a3f5f"
            },
            "baxis": {
             "endlinecolor": "#2a3f5f",
             "gridcolor": "white",
             "linecolor": "white",
             "minorgridcolor": "white",
             "startlinecolor": "#2a3f5f"
            },
            "type": "carpet"
           }
          ],
          "choropleth": [
           {
            "colorbar": {
             "outlinewidth": 0,
             "ticks": ""
            },
            "type": "choropleth"
           }
          ],
          "contour": [
           {
            "colorbar": {
             "outlinewidth": 0,
             "ticks": ""
            },
            "colorscale": [
             [
              0,
              "#0d0887"
             ],
             [
              0.1111111111111111,
              "#46039f"
             ],
             [
              0.2222222222222222,
              "#7201a8"
             ],
             [
              0.3333333333333333,
              "#9c179e"
             ],
             [
              0.4444444444444444,
              "#bd3786"
             ],
             [
              0.5555555555555556,
              "#d8576b"
             ],
             [
              0.6666666666666666,
              "#ed7953"
             ],
             [
              0.7777777777777778,
              "#fb9f3a"
             ],
             [
              0.8888888888888888,
              "#fdca26"
             ],
             [
              1,
              "#f0f921"
             ]
            ],
            "type": "contour"
           }
          ],
          "contourcarpet": [
           {
            "colorbar": {
             "outlinewidth": 0,
             "ticks": ""
            },
            "type": "contourcarpet"
           }
          ],
          "heatmap": [
           {
            "colorbar": {
             "outlinewidth": 0,
             "ticks": ""
            },
            "colorscale": [
             [
              0,
              "#0d0887"
             ],
             [
              0.1111111111111111,
              "#46039f"
             ],
             [
              0.2222222222222222,
              "#7201a8"
             ],
             [
              0.3333333333333333,
              "#9c179e"
             ],
             [
              0.4444444444444444,
              "#bd3786"
             ],
             [
              0.5555555555555556,
              "#d8576b"
             ],
             [
              0.6666666666666666,
              "#ed7953"
             ],
             [
              0.7777777777777778,
              "#fb9f3a"
             ],
             [
              0.8888888888888888,
              "#fdca26"
             ],
             [
              1,
              "#f0f921"
             ]
            ],
            "type": "heatmap"
           }
          ],
          "heatmapgl": [
           {
            "colorbar": {
             "outlinewidth": 0,
             "ticks": ""
            },
            "colorscale": [
             [
              0,
              "#0d0887"
             ],
             [
              0.1111111111111111,
              "#46039f"
             ],
             [
              0.2222222222222222,
              "#7201a8"
             ],
             [
              0.3333333333333333,
              "#9c179e"
             ],
             [
              0.4444444444444444,
              "#bd3786"
             ],
             [
              0.5555555555555556,
              "#d8576b"
             ],
             [
              0.6666666666666666,
              "#ed7953"
             ],
             [
              0.7777777777777778,
              "#fb9f3a"
             ],
             [
              0.8888888888888888,
              "#fdca26"
             ],
             [
              1,
              "#f0f921"
             ]
            ],
            "type": "heatmapgl"
           }
          ],
          "histogram": [
           {
            "marker": {
             "pattern": {
              "fillmode": "overlay",
              "size": 10,
              "solidity": 0.2
             }
            },
            "type": "histogram"
           }
          ],
          "histogram2d": [
           {
            "colorbar": {
             "outlinewidth": 0,
             "ticks": ""
            },
            "colorscale": [
             [
              0,
              "#0d0887"
             ],
             [
              0.1111111111111111,
              "#46039f"
             ],
             [
              0.2222222222222222,
              "#7201a8"
             ],
             [
              0.3333333333333333,
              "#9c179e"
             ],
             [
              0.4444444444444444,
              "#bd3786"
             ],
             [
              0.5555555555555556,
              "#d8576b"
             ],
             [
              0.6666666666666666,
              "#ed7953"
             ],
             [
              0.7777777777777778,
              "#fb9f3a"
             ],
             [
              0.8888888888888888,
              "#fdca26"
             ],
             [
              1,
              "#f0f921"
             ]
            ],
            "type": "histogram2d"
           }
          ],
          "histogram2dcontour": [
           {
            "colorbar": {
             "outlinewidth": 0,
             "ticks": ""
            },
            "colorscale": [
             [
              0,
              "#0d0887"
             ],
             [
              0.1111111111111111,
              "#46039f"
             ],
             [
              0.2222222222222222,
              "#7201a8"
             ],
             [
              0.3333333333333333,
              "#9c179e"
             ],
             [
              0.4444444444444444,
              "#bd3786"
             ],
             [
              0.5555555555555556,
              "#d8576b"
             ],
             [
              0.6666666666666666,
              "#ed7953"
             ],
             [
              0.7777777777777778,
              "#fb9f3a"
             ],
             [
              0.8888888888888888,
              "#fdca26"
             ],
             [
              1,
              "#f0f921"
             ]
            ],
            "type": "histogram2dcontour"
           }
          ],
          "mesh3d": [
           {
            "colorbar": {
             "outlinewidth": 0,
             "ticks": ""
            },
            "type": "mesh3d"
           }
          ],
          "parcoords": [
           {
            "line": {
             "colorbar": {
              "outlinewidth": 0,
              "ticks": ""
             }
            },
            "type": "parcoords"
           }
          ],
          "pie": [
           {
            "automargin": true,
            "type": "pie"
           }
          ],
          "scatter": [
           {
            "fillpattern": {
             "fillmode": "overlay",
             "size": 10,
             "solidity": 0.2
            },
            "type": "scatter"
           }
          ],
          "scatter3d": [
           {
            "line": {
             "colorbar": {
              "outlinewidth": 0,
              "ticks": ""
             }
            },
            "marker": {
             "colorbar": {
              "outlinewidth": 0,
              "ticks": ""
             }
            },
            "type": "scatter3d"
           }
          ],
          "scattercarpet": [
           {
            "marker": {
             "colorbar": {
              "outlinewidth": 0,
              "ticks": ""
             }
            },
            "type": "scattercarpet"
           }
          ],
          "scattergeo": [
           {
            "marker": {
             "colorbar": {
              "outlinewidth": 0,
              "ticks": ""
             }
            },
            "type": "scattergeo"
           }
          ],
          "scattergl": [
           {
            "marker": {
             "colorbar": {
              "outlinewidth": 0,
              "ticks": ""
             }
            },
            "type": "scattergl"
           }
          ],
          "scattermapbox": [
           {
            "marker": {
             "colorbar": {
              "outlinewidth": 0,
              "ticks": ""
             }
            },
            "type": "scattermapbox"
           }
          ],
          "scatterpolar": [
           {
            "marker": {
             "colorbar": {
              "outlinewidth": 0,
              "ticks": ""
             }
            },
            "type": "scatterpolar"
           }
          ],
          "scatterpolargl": [
           {
            "marker": {
             "colorbar": {
              "outlinewidth": 0,
              "ticks": ""
             }
            },
            "type": "scatterpolargl"
           }
          ],
          "scatterternary": [
           {
            "marker": {
             "colorbar": {
              "outlinewidth": 0,
              "ticks": ""
             }
            },
            "type": "scatterternary"
           }
          ],
          "surface": [
           {
            "colorbar": {
             "outlinewidth": 0,
             "ticks": ""
            },
            "colorscale": [
             [
              0,
              "#0d0887"
             ],
             [
              0.1111111111111111,
              "#46039f"
             ],
             [
              0.2222222222222222,
              "#7201a8"
             ],
             [
              0.3333333333333333,
              "#9c179e"
             ],
             [
              0.4444444444444444,
              "#bd3786"
             ],
             [
              0.5555555555555556,
              "#d8576b"
             ],
             [
              0.6666666666666666,
              "#ed7953"
             ],
             [
              0.7777777777777778,
              "#fb9f3a"
             ],
             [
              0.8888888888888888,
              "#fdca26"
             ],
             [
              1,
              "#f0f921"
             ]
            ],
            "type": "surface"
           }
          ],
          "table": [
           {
            "cells": {
             "fill": {
              "color": "#EBF0F8"
             },
             "line": {
              "color": "white"
             }
            },
            "header": {
             "fill": {
              "color": "#C8D4E3"
             },
             "line": {
              "color": "white"
             }
            },
            "type": "table"
           }
          ]
         },
         "layout": {
          "annotationdefaults": {
           "arrowcolor": "#2a3f5f",
           "arrowhead": 0,
           "arrowwidth": 1
          },
          "autotypenumbers": "strict",
          "coloraxis": {
           "colorbar": {
            "outlinewidth": 0,
            "ticks": ""
           }
          },
          "colorscale": {
           "diverging": [
            [
             0,
             "#8e0152"
            ],
            [
             0.1,
             "#c51b7d"
            ],
            [
             0.2,
             "#de77ae"
            ],
            [
             0.3,
             "#f1b6da"
            ],
            [
             0.4,
             "#fde0ef"
            ],
            [
             0.5,
             "#f7f7f7"
            ],
            [
             0.6,
             "#e6f5d0"
            ],
            [
             0.7,
             "#b8e186"
            ],
            [
             0.8,
             "#7fbc41"
            ],
            [
             0.9,
             "#4d9221"
            ],
            [
             1,
             "#276419"
            ]
           ],
           "sequential": [
            [
             0,
             "#0d0887"
            ],
            [
             0.1111111111111111,
             "#46039f"
            ],
            [
             0.2222222222222222,
             "#7201a8"
            ],
            [
             0.3333333333333333,
             "#9c179e"
            ],
            [
             0.4444444444444444,
             "#bd3786"
            ],
            [
             0.5555555555555556,
             "#d8576b"
            ],
            [
             0.6666666666666666,
             "#ed7953"
            ],
            [
             0.7777777777777778,
             "#fb9f3a"
            ],
            [
             0.8888888888888888,
             "#fdca26"
            ],
            [
             1,
             "#f0f921"
            ]
           ],
           "sequentialminus": [
            [
             0,
             "#0d0887"
            ],
            [
             0.1111111111111111,
             "#46039f"
            ],
            [
             0.2222222222222222,
             "#7201a8"
            ],
            [
             0.3333333333333333,
             "#9c179e"
            ],
            [
             0.4444444444444444,
             "#bd3786"
            ],
            [
             0.5555555555555556,
             "#d8576b"
            ],
            [
             0.6666666666666666,
             "#ed7953"
            ],
            [
             0.7777777777777778,
             "#fb9f3a"
            ],
            [
             0.8888888888888888,
             "#fdca26"
            ],
            [
             1,
             "#f0f921"
            ]
           ]
          },
          "colorway": [
           "#636efa",
           "#EF553B",
           "#00cc96",
           "#ab63fa",
           "#FFA15A",
           "#19d3f3",
           "#FF6692",
           "#B6E880",
           "#FF97FF",
           "#FECB52"
          ],
          "font": {
           "color": "#2a3f5f"
          },
          "geo": {
           "bgcolor": "white",
           "lakecolor": "white",
           "landcolor": "#E5ECF6",
           "showlakes": true,
           "showland": true,
           "subunitcolor": "white"
          },
          "hoverlabel": {
           "align": "left"
          },
          "hovermode": "closest",
          "mapbox": {
           "style": "light"
          },
          "paper_bgcolor": "white",
          "plot_bgcolor": "#E5ECF6",
          "polar": {
           "angularaxis": {
            "gridcolor": "white",
            "linecolor": "white",
            "ticks": ""
           },
           "bgcolor": "#E5ECF6",
           "radialaxis": {
            "gridcolor": "white",
            "linecolor": "white",
            "ticks": ""
           }
          },
          "scene": {
           "xaxis": {
            "backgroundcolor": "#E5ECF6",
            "gridcolor": "white",
            "gridwidth": 2,
            "linecolor": "white",
            "showbackground": true,
            "ticks": "",
            "zerolinecolor": "white"
           },
           "yaxis": {
            "backgroundcolor": "#E5ECF6",
            "gridcolor": "white",
            "gridwidth": 2,
            "linecolor": "white",
            "showbackground": true,
            "ticks": "",
            "zerolinecolor": "white"
           },
           "zaxis": {
            "backgroundcolor": "#E5ECF6",
            "gridcolor": "white",
            "gridwidth": 2,
            "linecolor": "white",
            "showbackground": true,
            "ticks": "",
            "zerolinecolor": "white"
           }
          },
          "shapedefaults": {
           "line": {
            "color": "#2a3f5f"
           }
          },
          "ternary": {
           "aaxis": {
            "gridcolor": "white",
            "linecolor": "white",
            "ticks": ""
           },
           "baxis": {
            "gridcolor": "white",
            "linecolor": "white",
            "ticks": ""
           },
           "bgcolor": "#E5ECF6",
           "caxis": {
            "gridcolor": "white",
            "linecolor": "white",
            "ticks": ""
           }
          },
          "title": {
           "x": 0.05
          },
          "xaxis": {
           "automargin": true,
           "gridcolor": "white",
           "linecolor": "white",
           "ticks": "",
           "title": {
            "standoff": 15
           },
           "zerolinecolor": "white",
           "zerolinewidth": 2
          },
          "yaxis": {
           "automargin": true,
           "gridcolor": "white",
           "linecolor": "white",
           "ticks": "",
           "title": {
            "standoff": 15
           },
           "zerolinecolor": "white",
           "zerolinewidth": 2
          }
         }
        },
        "xaxis": {
         "anchor": "y",
         "domain": [
          0,
          1
         ],
         "title": {
          "text": "Biopsy"
         }
        },
        "yaxis": {
         "anchor": "x",
         "domain": [
          0,
          1
         ],
         "title": {
          "text": "count"
         }
        }
       }
      }
     },
     "metadata": {},
     "output_type": "display_data"
    }
   ],
   "source": [
    "# Show the distribution of the Target Class\n",
    "fig = px.histogram(risk_factor_df, x=target)\n",
    "\n",
    "fig.show()"
   ]
  },
  {
   "cell_type": "code",
   "execution_count": 128,
   "metadata": {},
   "outputs": [
    {
     "data": {
      "application/vnd.plotly.v1+json": {
       "config": {
        "plotlyServerURL": "https://plot.ly"
       },
       "data": [
        {
         "domain": {
          "x": [
           0,
           1
          ],
          "y": [
           0,
           1
          ]
         },
         "hovertemplate": "Class=%{label}<br>Count=%{value}<extra></extra>",
         "labels": [
          0,
          1
         ],
         "legendgroup": "",
         "name": "",
         "showlegend": true,
         "type": "pie",
         "values": [
          215,
          16
         ]
        }
       ],
       "layout": {
        "legend": {
         "tracegroupgap": 0
        },
        "template": {
         "data": {
          "bar": [
           {
            "error_x": {
             "color": "#2a3f5f"
            },
            "error_y": {
             "color": "#2a3f5f"
            },
            "marker": {
             "line": {
              "color": "#E5ECF6",
              "width": 0.5
             },
             "pattern": {
              "fillmode": "overlay",
              "size": 10,
              "solidity": 0.2
             }
            },
            "type": "bar"
           }
          ],
          "barpolar": [
           {
            "marker": {
             "line": {
              "color": "#E5ECF6",
              "width": 0.5
             },
             "pattern": {
              "fillmode": "overlay",
              "size": 10,
              "solidity": 0.2
             }
            },
            "type": "barpolar"
           }
          ],
          "carpet": [
           {
            "aaxis": {
             "endlinecolor": "#2a3f5f",
             "gridcolor": "white",
             "linecolor": "white",
             "minorgridcolor": "white",
             "startlinecolor": "#2a3f5f"
            },
            "baxis": {
             "endlinecolor": "#2a3f5f",
             "gridcolor": "white",
             "linecolor": "white",
             "minorgridcolor": "white",
             "startlinecolor": "#2a3f5f"
            },
            "type": "carpet"
           }
          ],
          "choropleth": [
           {
            "colorbar": {
             "outlinewidth": 0,
             "ticks": ""
            },
            "type": "choropleth"
           }
          ],
          "contour": [
           {
            "colorbar": {
             "outlinewidth": 0,
             "ticks": ""
            },
            "colorscale": [
             [
              0,
              "#0d0887"
             ],
             [
              0.1111111111111111,
              "#46039f"
             ],
             [
              0.2222222222222222,
              "#7201a8"
             ],
             [
              0.3333333333333333,
              "#9c179e"
             ],
             [
              0.4444444444444444,
              "#bd3786"
             ],
             [
              0.5555555555555556,
              "#d8576b"
             ],
             [
              0.6666666666666666,
              "#ed7953"
             ],
             [
              0.7777777777777778,
              "#fb9f3a"
             ],
             [
              0.8888888888888888,
              "#fdca26"
             ],
             [
              1,
              "#f0f921"
             ]
            ],
            "type": "contour"
           }
          ],
          "contourcarpet": [
           {
            "colorbar": {
             "outlinewidth": 0,
             "ticks": ""
            },
            "type": "contourcarpet"
           }
          ],
          "heatmap": [
           {
            "colorbar": {
             "outlinewidth": 0,
             "ticks": ""
            },
            "colorscale": [
             [
              0,
              "#0d0887"
             ],
             [
              0.1111111111111111,
              "#46039f"
             ],
             [
              0.2222222222222222,
              "#7201a8"
             ],
             [
              0.3333333333333333,
              "#9c179e"
             ],
             [
              0.4444444444444444,
              "#bd3786"
             ],
             [
              0.5555555555555556,
              "#d8576b"
             ],
             [
              0.6666666666666666,
              "#ed7953"
             ],
             [
              0.7777777777777778,
              "#fb9f3a"
             ],
             [
              0.8888888888888888,
              "#fdca26"
             ],
             [
              1,
              "#f0f921"
             ]
            ],
            "type": "heatmap"
           }
          ],
          "heatmapgl": [
           {
            "colorbar": {
             "outlinewidth": 0,
             "ticks": ""
            },
            "colorscale": [
             [
              0,
              "#0d0887"
             ],
             [
              0.1111111111111111,
              "#46039f"
             ],
             [
              0.2222222222222222,
              "#7201a8"
             ],
             [
              0.3333333333333333,
              "#9c179e"
             ],
             [
              0.4444444444444444,
              "#bd3786"
             ],
             [
              0.5555555555555556,
              "#d8576b"
             ],
             [
              0.6666666666666666,
              "#ed7953"
             ],
             [
              0.7777777777777778,
              "#fb9f3a"
             ],
             [
              0.8888888888888888,
              "#fdca26"
             ],
             [
              1,
              "#f0f921"
             ]
            ],
            "type": "heatmapgl"
           }
          ],
          "histogram": [
           {
            "marker": {
             "pattern": {
              "fillmode": "overlay",
              "size": 10,
              "solidity": 0.2
             }
            },
            "type": "histogram"
           }
          ],
          "histogram2d": [
           {
            "colorbar": {
             "outlinewidth": 0,
             "ticks": ""
            },
            "colorscale": [
             [
              0,
              "#0d0887"
             ],
             [
              0.1111111111111111,
              "#46039f"
             ],
             [
              0.2222222222222222,
              "#7201a8"
             ],
             [
              0.3333333333333333,
              "#9c179e"
             ],
             [
              0.4444444444444444,
              "#bd3786"
             ],
             [
              0.5555555555555556,
              "#d8576b"
             ],
             [
              0.6666666666666666,
              "#ed7953"
             ],
             [
              0.7777777777777778,
              "#fb9f3a"
             ],
             [
              0.8888888888888888,
              "#fdca26"
             ],
             [
              1,
              "#f0f921"
             ]
            ],
            "type": "histogram2d"
           }
          ],
          "histogram2dcontour": [
           {
            "colorbar": {
             "outlinewidth": 0,
             "ticks": ""
            },
            "colorscale": [
             [
              0,
              "#0d0887"
             ],
             [
              0.1111111111111111,
              "#46039f"
             ],
             [
              0.2222222222222222,
              "#7201a8"
             ],
             [
              0.3333333333333333,
              "#9c179e"
             ],
             [
              0.4444444444444444,
              "#bd3786"
             ],
             [
              0.5555555555555556,
              "#d8576b"
             ],
             [
              0.6666666666666666,
              "#ed7953"
             ],
             [
              0.7777777777777778,
              "#fb9f3a"
             ],
             [
              0.8888888888888888,
              "#fdca26"
             ],
             [
              1,
              "#f0f921"
             ]
            ],
            "type": "histogram2dcontour"
           }
          ],
          "mesh3d": [
           {
            "colorbar": {
             "outlinewidth": 0,
             "ticks": ""
            },
            "type": "mesh3d"
           }
          ],
          "parcoords": [
           {
            "line": {
             "colorbar": {
              "outlinewidth": 0,
              "ticks": ""
             }
            },
            "type": "parcoords"
           }
          ],
          "pie": [
           {
            "automargin": true,
            "type": "pie"
           }
          ],
          "scatter": [
           {
            "fillpattern": {
             "fillmode": "overlay",
             "size": 10,
             "solidity": 0.2
            },
            "type": "scatter"
           }
          ],
          "scatter3d": [
           {
            "line": {
             "colorbar": {
              "outlinewidth": 0,
              "ticks": ""
             }
            },
            "marker": {
             "colorbar": {
              "outlinewidth": 0,
              "ticks": ""
             }
            },
            "type": "scatter3d"
           }
          ],
          "scattercarpet": [
           {
            "marker": {
             "colorbar": {
              "outlinewidth": 0,
              "ticks": ""
             }
            },
            "type": "scattercarpet"
           }
          ],
          "scattergeo": [
           {
            "marker": {
             "colorbar": {
              "outlinewidth": 0,
              "ticks": ""
             }
            },
            "type": "scattergeo"
           }
          ],
          "scattergl": [
           {
            "marker": {
             "colorbar": {
              "outlinewidth": 0,
              "ticks": ""
             }
            },
            "type": "scattergl"
           }
          ],
          "scattermapbox": [
           {
            "marker": {
             "colorbar": {
              "outlinewidth": 0,
              "ticks": ""
             }
            },
            "type": "scattermapbox"
           }
          ],
          "scatterpolar": [
           {
            "marker": {
             "colorbar": {
              "outlinewidth": 0,
              "ticks": ""
             }
            },
            "type": "scatterpolar"
           }
          ],
          "scatterpolargl": [
           {
            "marker": {
             "colorbar": {
              "outlinewidth": 0,
              "ticks": ""
             }
            },
            "type": "scatterpolargl"
           }
          ],
          "scatterternary": [
           {
            "marker": {
             "colorbar": {
              "outlinewidth": 0,
              "ticks": ""
             }
            },
            "type": "scatterternary"
           }
          ],
          "surface": [
           {
            "colorbar": {
             "outlinewidth": 0,
             "ticks": ""
            },
            "colorscale": [
             [
              0,
              "#0d0887"
             ],
             [
              0.1111111111111111,
              "#46039f"
             ],
             [
              0.2222222222222222,
              "#7201a8"
             ],
             [
              0.3333333333333333,
              "#9c179e"
             ],
             [
              0.4444444444444444,
              "#bd3786"
             ],
             [
              0.5555555555555556,
              "#d8576b"
             ],
             [
              0.6666666666666666,
              "#ed7953"
             ],
             [
              0.7777777777777778,
              "#fb9f3a"
             ],
             [
              0.8888888888888888,
              "#fdca26"
             ],
             [
              1,
              "#f0f921"
             ]
            ],
            "type": "surface"
           }
          ],
          "table": [
           {
            "cells": {
             "fill": {
              "color": "#EBF0F8"
             },
             "line": {
              "color": "white"
             }
            },
            "header": {
             "fill": {
              "color": "#C8D4E3"
             },
             "line": {
              "color": "white"
             }
            },
            "type": "table"
           }
          ]
         },
         "layout": {
          "annotationdefaults": {
           "arrowcolor": "#2a3f5f",
           "arrowhead": 0,
           "arrowwidth": 1
          },
          "autotypenumbers": "strict",
          "coloraxis": {
           "colorbar": {
            "outlinewidth": 0,
            "ticks": ""
           }
          },
          "colorscale": {
           "diverging": [
            [
             0,
             "#8e0152"
            ],
            [
             0.1,
             "#c51b7d"
            ],
            [
             0.2,
             "#de77ae"
            ],
            [
             0.3,
             "#f1b6da"
            ],
            [
             0.4,
             "#fde0ef"
            ],
            [
             0.5,
             "#f7f7f7"
            ],
            [
             0.6,
             "#e6f5d0"
            ],
            [
             0.7,
             "#b8e186"
            ],
            [
             0.8,
             "#7fbc41"
            ],
            [
             0.9,
             "#4d9221"
            ],
            [
             1,
             "#276419"
            ]
           ],
           "sequential": [
            [
             0,
             "#0d0887"
            ],
            [
             0.1111111111111111,
             "#46039f"
            ],
            [
             0.2222222222222222,
             "#7201a8"
            ],
            [
             0.3333333333333333,
             "#9c179e"
            ],
            [
             0.4444444444444444,
             "#bd3786"
            ],
            [
             0.5555555555555556,
             "#d8576b"
            ],
            [
             0.6666666666666666,
             "#ed7953"
            ],
            [
             0.7777777777777778,
             "#fb9f3a"
            ],
            [
             0.8888888888888888,
             "#fdca26"
            ],
            [
             1,
             "#f0f921"
            ]
           ],
           "sequentialminus": [
            [
             0,
             "#0d0887"
            ],
            [
             0.1111111111111111,
             "#46039f"
            ],
            [
             0.2222222222222222,
             "#7201a8"
            ],
            [
             0.3333333333333333,
             "#9c179e"
            ],
            [
             0.4444444444444444,
             "#bd3786"
            ],
            [
             0.5555555555555556,
             "#d8576b"
            ],
            [
             0.6666666666666666,
             "#ed7953"
            ],
            [
             0.7777777777777778,
             "#fb9f3a"
            ],
            [
             0.8888888888888888,
             "#fdca26"
            ],
            [
             1,
             "#f0f921"
            ]
           ]
          },
          "colorway": [
           "#636efa",
           "#EF553B",
           "#00cc96",
           "#ab63fa",
           "#FFA15A",
           "#19d3f3",
           "#FF6692",
           "#B6E880",
           "#FF97FF",
           "#FECB52"
          ],
          "font": {
           "color": "#2a3f5f"
          },
          "geo": {
           "bgcolor": "white",
           "lakecolor": "white",
           "landcolor": "#E5ECF6",
           "showlakes": true,
           "showland": true,
           "subunitcolor": "white"
          },
          "hoverlabel": {
           "align": "left"
          },
          "hovermode": "closest",
          "mapbox": {
           "style": "light"
          },
          "paper_bgcolor": "white",
          "plot_bgcolor": "#E5ECF6",
          "polar": {
           "angularaxis": {
            "gridcolor": "white",
            "linecolor": "white",
            "ticks": ""
           },
           "bgcolor": "#E5ECF6",
           "radialaxis": {
            "gridcolor": "white",
            "linecolor": "white",
            "ticks": ""
           }
          },
          "scene": {
           "xaxis": {
            "backgroundcolor": "#E5ECF6",
            "gridcolor": "white",
            "gridwidth": 2,
            "linecolor": "white",
            "showbackground": true,
            "ticks": "",
            "zerolinecolor": "white"
           },
           "yaxis": {
            "backgroundcolor": "#E5ECF6",
            "gridcolor": "white",
            "gridwidth": 2,
            "linecolor": "white",
            "showbackground": true,
            "ticks": "",
            "zerolinecolor": "white"
           },
           "zaxis": {
            "backgroundcolor": "#E5ECF6",
            "gridcolor": "white",
            "gridwidth": 2,
            "linecolor": "white",
            "showbackground": true,
            "ticks": "",
            "zerolinecolor": "white"
           }
          },
          "shapedefaults": {
           "line": {
            "color": "#2a3f5f"
           }
          },
          "ternary": {
           "aaxis": {
            "gridcolor": "white",
            "linecolor": "white",
            "ticks": ""
           },
           "baxis": {
            "gridcolor": "white",
            "linecolor": "white",
            "ticks": ""
           },
           "bgcolor": "#E5ECF6",
           "caxis": {
            "gridcolor": "white",
            "linecolor": "white",
            "ticks": ""
           }
          },
          "title": {
           "x": 0.05
          },
          "xaxis": {
           "automargin": true,
           "gridcolor": "white",
           "linecolor": "white",
           "ticks": "",
           "title": {
            "standoff": 15
           },
           "zerolinecolor": "white",
           "zerolinewidth": 2
          },
          "yaxis": {
           "automargin": true,
           "gridcolor": "white",
           "linecolor": "white",
           "ticks": "",
           "title": {
            "standoff": 15
           },
           "zerolinecolor": "white",
           "zerolinewidth": 2
          }
         }
        },
        "title": {
         "text": "Test Set Target Variable Distribution"
        }
       }
      }
     },
     "metadata": {},
     "output_type": "display_data"
    },
    {
     "data": {
      "application/vnd.plotly.v1+json": {
       "config": {
        "plotlyServerURL": "https://plot.ly"
       },
       "data": [
        {
         "alignmentgroup": "True",
         "hovertemplate": "Class=%{x}<br>Count=%{y}<extra></extra>",
         "legendgroup": "",
         "marker": {
          "color": "#636efa",
          "pattern": {
           "shape": ""
          }
         },
         "name": "",
         "offsetgroup": "",
         "orientation": "v",
         "showlegend": false,
         "textposition": "auto",
         "type": "bar",
         "x": [
          0,
          1
         ],
         "xaxis": "x",
         "y": [
          215,
          16
         ],
         "yaxis": "y"
        }
       ],
       "layout": {
        "barmode": "relative",
        "legend": {
         "tracegroupgap": 0
        },
        "template": {
         "data": {
          "bar": [
           {
            "error_x": {
             "color": "#2a3f5f"
            },
            "error_y": {
             "color": "#2a3f5f"
            },
            "marker": {
             "line": {
              "color": "#E5ECF6",
              "width": 0.5
             },
             "pattern": {
              "fillmode": "overlay",
              "size": 10,
              "solidity": 0.2
             }
            },
            "type": "bar"
           }
          ],
          "barpolar": [
           {
            "marker": {
             "line": {
              "color": "#E5ECF6",
              "width": 0.5
             },
             "pattern": {
              "fillmode": "overlay",
              "size": 10,
              "solidity": 0.2
             }
            },
            "type": "barpolar"
           }
          ],
          "carpet": [
           {
            "aaxis": {
             "endlinecolor": "#2a3f5f",
             "gridcolor": "white",
             "linecolor": "white",
             "minorgridcolor": "white",
             "startlinecolor": "#2a3f5f"
            },
            "baxis": {
             "endlinecolor": "#2a3f5f",
             "gridcolor": "white",
             "linecolor": "white",
             "minorgridcolor": "white",
             "startlinecolor": "#2a3f5f"
            },
            "type": "carpet"
           }
          ],
          "choropleth": [
           {
            "colorbar": {
             "outlinewidth": 0,
             "ticks": ""
            },
            "type": "choropleth"
           }
          ],
          "contour": [
           {
            "colorbar": {
             "outlinewidth": 0,
             "ticks": ""
            },
            "colorscale": [
             [
              0,
              "#0d0887"
             ],
             [
              0.1111111111111111,
              "#46039f"
             ],
             [
              0.2222222222222222,
              "#7201a8"
             ],
             [
              0.3333333333333333,
              "#9c179e"
             ],
             [
              0.4444444444444444,
              "#bd3786"
             ],
             [
              0.5555555555555556,
              "#d8576b"
             ],
             [
              0.6666666666666666,
              "#ed7953"
             ],
             [
              0.7777777777777778,
              "#fb9f3a"
             ],
             [
              0.8888888888888888,
              "#fdca26"
             ],
             [
              1,
              "#f0f921"
             ]
            ],
            "type": "contour"
           }
          ],
          "contourcarpet": [
           {
            "colorbar": {
             "outlinewidth": 0,
             "ticks": ""
            },
            "type": "contourcarpet"
           }
          ],
          "heatmap": [
           {
            "colorbar": {
             "outlinewidth": 0,
             "ticks": ""
            },
            "colorscale": [
             [
              0,
              "#0d0887"
             ],
             [
              0.1111111111111111,
              "#46039f"
             ],
             [
              0.2222222222222222,
              "#7201a8"
             ],
             [
              0.3333333333333333,
              "#9c179e"
             ],
             [
              0.4444444444444444,
              "#bd3786"
             ],
             [
              0.5555555555555556,
              "#d8576b"
             ],
             [
              0.6666666666666666,
              "#ed7953"
             ],
             [
              0.7777777777777778,
              "#fb9f3a"
             ],
             [
              0.8888888888888888,
              "#fdca26"
             ],
             [
              1,
              "#f0f921"
             ]
            ],
            "type": "heatmap"
           }
          ],
          "heatmapgl": [
           {
            "colorbar": {
             "outlinewidth": 0,
             "ticks": ""
            },
            "colorscale": [
             [
              0,
              "#0d0887"
             ],
             [
              0.1111111111111111,
              "#46039f"
             ],
             [
              0.2222222222222222,
              "#7201a8"
             ],
             [
              0.3333333333333333,
              "#9c179e"
             ],
             [
              0.4444444444444444,
              "#bd3786"
             ],
             [
              0.5555555555555556,
              "#d8576b"
             ],
             [
              0.6666666666666666,
              "#ed7953"
             ],
             [
              0.7777777777777778,
              "#fb9f3a"
             ],
             [
              0.8888888888888888,
              "#fdca26"
             ],
             [
              1,
              "#f0f921"
             ]
            ],
            "type": "heatmapgl"
           }
          ],
          "histogram": [
           {
            "marker": {
             "pattern": {
              "fillmode": "overlay",
              "size": 10,
              "solidity": 0.2
             }
            },
            "type": "histogram"
           }
          ],
          "histogram2d": [
           {
            "colorbar": {
             "outlinewidth": 0,
             "ticks": ""
            },
            "colorscale": [
             [
              0,
              "#0d0887"
             ],
             [
              0.1111111111111111,
              "#46039f"
             ],
             [
              0.2222222222222222,
              "#7201a8"
             ],
             [
              0.3333333333333333,
              "#9c179e"
             ],
             [
              0.4444444444444444,
              "#bd3786"
             ],
             [
              0.5555555555555556,
              "#d8576b"
             ],
             [
              0.6666666666666666,
              "#ed7953"
             ],
             [
              0.7777777777777778,
              "#fb9f3a"
             ],
             [
              0.8888888888888888,
              "#fdca26"
             ],
             [
              1,
              "#f0f921"
             ]
            ],
            "type": "histogram2d"
           }
          ],
          "histogram2dcontour": [
           {
            "colorbar": {
             "outlinewidth": 0,
             "ticks": ""
            },
            "colorscale": [
             [
              0,
              "#0d0887"
             ],
             [
              0.1111111111111111,
              "#46039f"
             ],
             [
              0.2222222222222222,
              "#7201a8"
             ],
             [
              0.3333333333333333,
              "#9c179e"
             ],
             [
              0.4444444444444444,
              "#bd3786"
             ],
             [
              0.5555555555555556,
              "#d8576b"
             ],
             [
              0.6666666666666666,
              "#ed7953"
             ],
             [
              0.7777777777777778,
              "#fb9f3a"
             ],
             [
              0.8888888888888888,
              "#fdca26"
             ],
             [
              1,
              "#f0f921"
             ]
            ],
            "type": "histogram2dcontour"
           }
          ],
          "mesh3d": [
           {
            "colorbar": {
             "outlinewidth": 0,
             "ticks": ""
            },
            "type": "mesh3d"
           }
          ],
          "parcoords": [
           {
            "line": {
             "colorbar": {
              "outlinewidth": 0,
              "ticks": ""
             }
            },
            "type": "parcoords"
           }
          ],
          "pie": [
           {
            "automargin": true,
            "type": "pie"
           }
          ],
          "scatter": [
           {
            "fillpattern": {
             "fillmode": "overlay",
             "size": 10,
             "solidity": 0.2
            },
            "type": "scatter"
           }
          ],
          "scatter3d": [
           {
            "line": {
             "colorbar": {
              "outlinewidth": 0,
              "ticks": ""
             }
            },
            "marker": {
             "colorbar": {
              "outlinewidth": 0,
              "ticks": ""
             }
            },
            "type": "scatter3d"
           }
          ],
          "scattercarpet": [
           {
            "marker": {
             "colorbar": {
              "outlinewidth": 0,
              "ticks": ""
             }
            },
            "type": "scattercarpet"
           }
          ],
          "scattergeo": [
           {
            "marker": {
             "colorbar": {
              "outlinewidth": 0,
              "ticks": ""
             }
            },
            "type": "scattergeo"
           }
          ],
          "scattergl": [
           {
            "marker": {
             "colorbar": {
              "outlinewidth": 0,
              "ticks": ""
             }
            },
            "type": "scattergl"
           }
          ],
          "scattermapbox": [
           {
            "marker": {
             "colorbar": {
              "outlinewidth": 0,
              "ticks": ""
             }
            },
            "type": "scattermapbox"
           }
          ],
          "scatterpolar": [
           {
            "marker": {
             "colorbar": {
              "outlinewidth": 0,
              "ticks": ""
             }
            },
            "type": "scatterpolar"
           }
          ],
          "scatterpolargl": [
           {
            "marker": {
             "colorbar": {
              "outlinewidth": 0,
              "ticks": ""
             }
            },
            "type": "scatterpolargl"
           }
          ],
          "scatterternary": [
           {
            "marker": {
             "colorbar": {
              "outlinewidth": 0,
              "ticks": ""
             }
            },
            "type": "scatterternary"
           }
          ],
          "surface": [
           {
            "colorbar": {
             "outlinewidth": 0,
             "ticks": ""
            },
            "colorscale": [
             [
              0,
              "#0d0887"
             ],
             [
              0.1111111111111111,
              "#46039f"
             ],
             [
              0.2222222222222222,
              "#7201a8"
             ],
             [
              0.3333333333333333,
              "#9c179e"
             ],
             [
              0.4444444444444444,
              "#bd3786"
             ],
             [
              0.5555555555555556,
              "#d8576b"
             ],
             [
              0.6666666666666666,
              "#ed7953"
             ],
             [
              0.7777777777777778,
              "#fb9f3a"
             ],
             [
              0.8888888888888888,
              "#fdca26"
             ],
             [
              1,
              "#f0f921"
             ]
            ],
            "type": "surface"
           }
          ],
          "table": [
           {
            "cells": {
             "fill": {
              "color": "#EBF0F8"
             },
             "line": {
              "color": "white"
             }
            },
            "header": {
             "fill": {
              "color": "#C8D4E3"
             },
             "line": {
              "color": "white"
             }
            },
            "type": "table"
           }
          ]
         },
         "layout": {
          "annotationdefaults": {
           "arrowcolor": "#2a3f5f",
           "arrowhead": 0,
           "arrowwidth": 1
          },
          "autotypenumbers": "strict",
          "coloraxis": {
           "colorbar": {
            "outlinewidth": 0,
            "ticks": ""
           }
          },
          "colorscale": {
           "diverging": [
            [
             0,
             "#8e0152"
            ],
            [
             0.1,
             "#c51b7d"
            ],
            [
             0.2,
             "#de77ae"
            ],
            [
             0.3,
             "#f1b6da"
            ],
            [
             0.4,
             "#fde0ef"
            ],
            [
             0.5,
             "#f7f7f7"
            ],
            [
             0.6,
             "#e6f5d0"
            ],
            [
             0.7,
             "#b8e186"
            ],
            [
             0.8,
             "#7fbc41"
            ],
            [
             0.9,
             "#4d9221"
            ],
            [
             1,
             "#276419"
            ]
           ],
           "sequential": [
            [
             0,
             "#0d0887"
            ],
            [
             0.1111111111111111,
             "#46039f"
            ],
            [
             0.2222222222222222,
             "#7201a8"
            ],
            [
             0.3333333333333333,
             "#9c179e"
            ],
            [
             0.4444444444444444,
             "#bd3786"
            ],
            [
             0.5555555555555556,
             "#d8576b"
            ],
            [
             0.6666666666666666,
             "#ed7953"
            ],
            [
             0.7777777777777778,
             "#fb9f3a"
            ],
            [
             0.8888888888888888,
             "#fdca26"
            ],
            [
             1,
             "#f0f921"
            ]
           ],
           "sequentialminus": [
            [
             0,
             "#0d0887"
            ],
            [
             0.1111111111111111,
             "#46039f"
            ],
            [
             0.2222222222222222,
             "#7201a8"
            ],
            [
             0.3333333333333333,
             "#9c179e"
            ],
            [
             0.4444444444444444,
             "#bd3786"
            ],
            [
             0.5555555555555556,
             "#d8576b"
            ],
            [
             0.6666666666666666,
             "#ed7953"
            ],
            [
             0.7777777777777778,
             "#fb9f3a"
            ],
            [
             0.8888888888888888,
             "#fdca26"
            ],
            [
             1,
             "#f0f921"
            ]
           ]
          },
          "colorway": [
           "#636efa",
           "#EF553B",
           "#00cc96",
           "#ab63fa",
           "#FFA15A",
           "#19d3f3",
           "#FF6692",
           "#B6E880",
           "#FF97FF",
           "#FECB52"
          ],
          "font": {
           "color": "#2a3f5f"
          },
          "geo": {
           "bgcolor": "white",
           "lakecolor": "white",
           "landcolor": "#E5ECF6",
           "showlakes": true,
           "showland": true,
           "subunitcolor": "white"
          },
          "hoverlabel": {
           "align": "left"
          },
          "hovermode": "closest",
          "mapbox": {
           "style": "light"
          },
          "paper_bgcolor": "white",
          "plot_bgcolor": "#E5ECF6",
          "polar": {
           "angularaxis": {
            "gridcolor": "white",
            "linecolor": "white",
            "ticks": ""
           },
           "bgcolor": "#E5ECF6",
           "radialaxis": {
            "gridcolor": "white",
            "linecolor": "white",
            "ticks": ""
           }
          },
          "scene": {
           "xaxis": {
            "backgroundcolor": "#E5ECF6",
            "gridcolor": "white",
            "gridwidth": 2,
            "linecolor": "white",
            "showbackground": true,
            "ticks": "",
            "zerolinecolor": "white"
           },
           "yaxis": {
            "backgroundcolor": "#E5ECF6",
            "gridcolor": "white",
            "gridwidth": 2,
            "linecolor": "white",
            "showbackground": true,
            "ticks": "",
            "zerolinecolor": "white"
           },
           "zaxis": {
            "backgroundcolor": "#E5ECF6",
            "gridcolor": "white",
            "gridwidth": 2,
            "linecolor": "white",
            "showbackground": true,
            "ticks": "",
            "zerolinecolor": "white"
           }
          },
          "shapedefaults": {
           "line": {
            "color": "#2a3f5f"
           }
          },
          "ternary": {
           "aaxis": {
            "gridcolor": "white",
            "linecolor": "white",
            "ticks": ""
           },
           "baxis": {
            "gridcolor": "white",
            "linecolor": "white",
            "ticks": ""
           },
           "bgcolor": "#E5ECF6",
           "caxis": {
            "gridcolor": "white",
            "linecolor": "white",
            "ticks": ""
           }
          },
          "title": {
           "x": 0.05
          },
          "xaxis": {
           "automargin": true,
           "gridcolor": "white",
           "linecolor": "white",
           "ticks": "",
           "title": {
            "standoff": 15
           },
           "zerolinecolor": "white",
           "zerolinewidth": 2
          },
          "yaxis": {
           "automargin": true,
           "gridcolor": "white",
           "linecolor": "white",
           "ticks": "",
           "title": {
            "standoff": 15
           },
           "zerolinecolor": "white",
           "zerolinewidth": 2
          }
         }
        },
        "title": {
         "text": "Test Set Target Variable Distribution"
        },
        "xaxis": {
         "anchor": "y",
         "domain": [
          0,
          1
         ],
         "title": {
          "text": "Class"
         }
        },
        "yaxis": {
         "anchor": "x",
         "domain": [
          0,
          1
         ],
         "title": {
          "text": "Count"
         }
        }
       }
      }
     },
     "metadata": {},
     "output_type": "display_data"
    }
   ],
   "source": [
    "X = risk_factor_df.drop(columns=target)\n",
    "y = risk_factor_df[target]\n",
    "\n",
    "X_train, X_test, y_train, y_test = train_test_split(X, \n",
    "                                                    y, \n",
    "                                                    test_size=0.33, \n",
    "                                                    random_state=42,\n",
    "                                                    stratify = y, \n",
    "                                                    shuffle=True)\n",
    "\n",
    "y_test.value_counts()\n",
    "\n",
    "# Create a count data frame for the test set target variable\n",
    "y_test_counts = y_test.value_counts().reset_index()\n",
    "y_test_counts.columns = ['Class', 'Count']\n",
    "\n",
    "# Use Pie chart\n",
    "fig_pie = px.pie(y_test_counts, names='Class', values='Count', title='Test Set Target Variable Distribution')\n",
    "\n",
    "# Bar Chart\n",
    "fig_bar = px.bar(y_test_counts, x='Class', y='Count', title='Test Set Target Variable Distribution')\n",
    "\n",
    "# Show Images\n",
    "fig_pie.show()\n",
    "fig_bar.show()"
   ]
  },
  {
   "cell_type": "markdown",
   "metadata": {},
   "source": [
    "#### Dimensionality Reduction (PCA - Principal Component Analysis)"
   ]
  },
  {
   "cell_type": "code",
   "execution_count": 129,
   "metadata": {},
   "outputs": [
    {
     "data": {
      "application/vnd.plotly.v1+json": {
       "config": {
        "plotlyServerURL": "https://plot.ly"
       },
       "data": [
        {
         "hovertemplate": "PCA1=%{x}<br>PCA2=%{y}<br>Class=%{marker.color}<extra></extra>",
         "legendgroup": "",
         "marker": {
          "color": [
           0,
           0,
           0,
           0,
           0,
           0,
           0,
           0,
           0,
           0,
           0,
           0,
           0,
           0,
           0,
           0,
           0,
           0,
           0,
           0,
           0,
           0,
           0,
           1,
           0,
           0,
           0,
           0,
           0,
           0,
           0,
           0,
           0,
           0,
           0,
           0,
           0,
           0,
           0,
           0,
           1,
           0,
           0,
           0,
           0,
           0,
           0,
           0,
           0,
           1,
           0,
           0,
           0,
           0,
           0,
           0,
           0,
           0,
           1,
           0,
           0,
           0,
           0,
           0,
           0,
           1,
           0,
           0,
           0,
           0,
           0,
           0,
           0,
           0,
           0,
           0,
           1,
           0,
           0,
           0,
           0,
           0,
           0,
           0,
           0,
           0,
           0,
           0,
           0,
           0,
           0,
           0,
           0,
           1,
           0,
           0,
           0,
           0,
           0,
           0,
           0,
           0,
           0,
           0,
           0,
           0,
           0,
           0,
           0,
           0,
           0,
           0,
           0,
           0,
           0,
           0,
           0,
           0,
           0,
           0,
           0,
           0,
           0,
           0,
           0,
           1,
           1,
           1,
           0,
           0,
           0,
           0,
           0,
           0,
           0,
           0,
           1,
           0,
           0,
           0,
           0,
           1,
           0,
           0,
           0,
           0,
           1,
           0,
           0,
           1,
           0,
           0,
           1,
           0,
           0,
           0,
           0,
           0,
           0,
           0,
           0,
           0,
           0,
           0,
           0,
           0,
           0,
           0,
           0,
           0,
           0,
           0,
           0,
           0,
           0,
           0,
           0,
           0,
           1,
           0,
           0,
           0,
           0,
           0,
           0,
           0,
           0,
           0,
           0,
           0,
           0,
           0,
           0,
           0,
           0,
           0,
           0,
           1,
           0,
           0,
           0,
           0,
           0,
           0,
           0,
           0,
           0,
           0,
           0,
           0,
           0,
           0,
           0,
           0,
           0,
           1,
           0,
           0,
           0,
           0,
           0,
           0,
           0,
           0,
           0,
           0,
           0,
           0,
           0,
           0,
           0,
           0,
           0,
           0,
           0,
           0,
           0,
           0,
           0,
           0,
           0,
           0,
           0,
           0,
           0,
           0,
           0,
           0,
           0,
           0,
           0,
           0,
           0,
           0,
           0,
           0,
           0,
           0,
           1,
           0,
           0,
           1,
           0,
           0,
           1,
           0,
           0,
           0,
           0,
           0,
           0,
           0,
           0,
           0,
           0,
           0,
           0,
           0,
           0,
           0,
           1,
           0,
           0,
           0,
           0,
           0,
           0,
           1,
           0,
           0,
           0,
           0,
           0,
           0,
           0,
           0,
           0,
           0,
           0,
           0,
           0,
           0,
           0,
           0,
           0,
           0,
           0,
           0,
           0,
           0,
           0,
           0,
           0,
           0,
           1,
           0,
           0,
           0,
           0,
           0,
           0,
           0,
           0,
           0,
           0,
           0,
           0,
           0,
           0,
           0,
           0,
           0,
           1,
           0,
           0,
           0,
           0,
           0,
           1,
           0,
           0,
           0,
           0,
           0,
           0,
           0,
           0,
           0,
           0,
           0,
           0,
           0,
           0,
           0,
           0,
           0,
           0,
           0,
           0,
           0,
           0,
           0,
           0,
           0,
           0,
           0,
           0,
           0,
           1,
           1,
           0,
           0,
           0,
           0,
           0,
           0,
           0,
           0,
           0,
           1,
           0,
           1,
           0,
           0,
           0,
           0,
           0,
           0,
           0,
           0,
           0,
           0,
           0,
           1,
           0,
           0,
           0,
           0,
           0,
           0,
           0,
           0,
           0,
           0,
           0,
           0,
           0,
           0,
           0,
           0,
           0,
           0,
           0,
           0,
           0,
           0,
           0,
           0,
           0,
           0,
           1,
           0,
           0,
           0,
           0,
           0,
           0,
           0,
           0,
           0,
           0,
           0,
           0,
           0,
           0,
           0,
           0,
           0,
           0,
           0,
           0,
           0,
           0,
           0,
           0,
           0,
           1,
           0,
           0,
           0,
           0,
           0,
           0,
           0,
           0,
           0,
           0,
           0,
           0,
           0,
           0,
           0,
           0,
           0,
           0,
           0
          ],
          "coloraxis": "coloraxis",
          "symbol": "circle"
         },
         "mode": "markers",
         "name": "",
         "orientation": "v",
         "showlegend": false,
         "type": "scatter",
         "x": [
          -0.8098396913934254,
          4.787088702054452,
          -0.8332286051783053,
          -0.7882319590992684,
          -0.7706744810910637,
          -0.8165737089655083,
          5.00910487449201,
          -0.0692955665819887,
          -0.8784539105816443,
          -0.8049433410182992,
          -0.7423828052910125,
          -0.83144736173275,
          -0.7959383770534867,
          -0.8526361135124276,
          -0.7873556550006253,
          6.100793985211203,
          -0.8023536310729293,
          -0.8792863759272954,
          -0.8407629544308015,
          -0.7843182553120934,
          4.203793035034981,
          -0.48252846125577425,
          -0.600922594868501,
          -0.2682086345135427,
          -0.8510993602188067,
          -0.579848313522883,
          -0.7751633530216576,
          7.1770114422799764,
          -0.8090193173294388,
          -0.28463172742673726,
          0.0280182428946972,
          -0.8083434833673061,
          -0.21933244144460717,
          -0.07519780438190836,
          -0.7815462304591849,
          -0.7723448149671499,
          3.4824959693522923,
          -0.8432061342086632,
          8.02240151694636,
          -0.7095456879771631,
          0.39895937089320144,
          -0.5280831357910302,
          -0.6822897772207508,
          -0.6604257315080838,
          -0.8396175815009892,
          -0.7833236198121193,
          -0.8163914270821628,
          -0.8487326136777028,
          -0.610151564338553,
          -0.18463895873088682,
          -0.8687052462998517,
          -0.08645736800118532,
          -0.6781048943511986,
          4.2305096388743735,
          -0.7942734463621919,
          -0.8471500884332845,
          -0.45926986894095084,
          -0.5658937985043877,
          -0.1962735142468233,
          -0.8141020303187738,
          -0.8626535126565066,
          -0.8126857467303726,
          -0.8449530959631426,
          -0.48259783011450824,
          -0.6198243980152511,
          -0.16479502674563243,
          0.28961083040280255,
          -0.7782663523911367,
          -0.8456613737643714,
          -0.8185495354685511,
          -0.8216564219548433,
          -0.7146812020323265,
          -0.516294948669103,
          -0.8135470738365544,
          -0.006372371532980893,
          -0.37903443815107435,
          -0.01402387375360322,
          -0.8451742619302424,
          -0.6679076899951851,
          -0.6003016950608798,
          -0.7657900382801173,
          -0.2042041735487767,
          -1.0033041756260503,
          -0.5712268707879171,
          0.5697013204738554,
          -0.8018965152675342,
          -0.23942838120116974,
          -0.8424838319279673,
          -0.7533346766376972,
          -0.8190527571936261,
          -0.7851429794483098,
          -0.03318051331993096,
          -0.8066981373148772,
          -0.19053402432193323,
          -0.8377360135962103,
          -0.8472900736065323,
          7.745361530852038,
          8.101786096431942,
          8.02003495939542,
          7.501385388322392,
          -0.8225912235321364,
          -0.3003417208206191,
          -0.7718496254996406,
          -0.8035912508285841,
          -0.87797038082608,
          -0.7957498598569632,
          -0.8222246479930253,
          -0.4049456693189482,
          -0.7657232153158615,
          -0.549072915698887,
          -0.8403620235615552,
          -0.47772183438507404,
          -0.44812847143144213,
          -0.6011048767518472,
          -0.7542275841518347,
          -0.42150991685470107,
          -0.7581250303026101,
          -0.8375537317128641,
          -0.8364041352422912,
          -0.8018840566259893,
          14.650693451443118,
          -0.4986794275957811,
          -0.861006567375157,
          -0.8045901029946654,
          -0.8763838254803413,
          3.5324568637865466,
          1.115278226362269,
          -0.1827507470145092,
          -0.7680062983660617,
          -0.8470495945218414,
          -0.4937119102709966,
          -0.8270445851431755,
          -0.8149706933147578,
          -0.8468565605565119,
          -0.8219373554294326,
          3.9669814258034766,
          0.3365373775600179,
          -0.1741967228246979,
          -0.7992750340558087,
          -0.6113514770781091,
          -0.8173999389979778,
          1.00257841248387,
          3.62819501289722,
          -0.8380507181247594,
          -0.8003840398830663,
          -0.8365926524388172,
          -0.2545520599651824,
          -0.7468299264611183,
          -0.8273508611315,
          -0.23563638615915075,
          -0.8831437703351159,
          -0.8012102699155351,
          7.754847828126937,
          -0.807312089928043,
          -0.7906092553719196,
          -0.8038643998978339,
          -0.15592481339133435,
          -0.7427016879845083,
          -0.2640052283068806,
          -0.6795161584892627,
          -0.35539303113480153,
          -0.7757007845942809,
          -0.8463813804483827,
          -0.7929236611729402,
          -0.8338848545015701,
          0.15197235618429988,
          -0.05654476650000184,
          -0.11971710830700913,
          -0.8548586419357457,
          -0.8476249350653096,
          -0.04317916002423503,
          7.20227034214365,
          -0.8363777217848974,
          -0.8643607400579026,
          -0.8051020196534905,
          -0.827200631757737,
          -0.8612651556456193,
          -0.8599574648160274,
          5.554574548234899,
          -0.8775553186395053,
          -0.2805867390040476,
          -0.8011566019605871,
          -0.852501264270848,
          -0.9027463452712141,
          -0.5810761647417944,
          -0.8425201319479433,
          -0.8817335166356376,
          -0.8414048908075051,
          -0.2593041988215845,
          -0.8489311624266198,
          -0.8325467408344706,
          -0.8200478336670969,
          -0.8432926940254636,
          -0.8046163806914202,
          -0.8319090279985282,
          -0.8146921410607301,
          -0.7754478473608232,
          -0.005781518713934997,
          -0.7856282489622384,
          -0.8145978824624671,
          -0.8781229604015122,
          7.439494743508509,
          -0.4747031541757009,
          -0.8175682992642754,
          -0.3232008683456505,
          -0.8195662944699641,
          -0.3645372861094199,
          -0.42849188816997263,
          -0.6419163870440708,
          3.103217528890758,
          -0.8103209876738836,
          -0.7945445836590237,
          -0.5620354979083434,
          -0.7451464592824986,
          -0.431618449751978,
          7.7390469103355155,
          -0.8587160363435665,
          -0.8741314372817053,
          -0.24667523757492738,
          -0.5731607425625967,
          -0.8667296252210669,
          -0.8096976208086963,
          -0.4136185645160167,
          -0.7525907734774924,
          -0.7436727202363307,
          -0.8431922001140205,
          -0.810046289512475,
          -0.8141663145950659,
          -0.8395295582159062,
          -0.5589851542073276,
          7.257953661972525,
          -0.8012122816879531,
          -0.8010596689137207,
          -0.6131072744992362,
          -0.6505320873766753,
          -0.8091231594573348,
          -0.7994593277115732,
          -0.49863783441583803,
          -0.8309479487244811,
          -0.7866331669892812,
          -0.8098799026920426,
          4.26022543297955,
          -0.8868709473095931,
          -0.25370637182531486,
          -0.8003732878010829,
          -0.8376715935592797,
          -0.8383918934713329,
          -0.8123330448514562,
          -0.8856031265937239,
          -0.8337905959033068,
          -0.19184718939355086,
          -0.7231378822357544,
          -0.2942647334153526,
          -0.6825834297633212,
          -0.8234216771053658,
          -0.8397887704599065,
          -0.78697613928024,
          -0.779664662554406,
          -0.06570487451346105,
          -0.7777731746960466,
          -0.666970176923772,
          -0.41544068908924203,
          -0.8619332913190689,
          -0.83178041407013,
          -0.2603157873553172,
          -0.7794761453578795,
          -0.8480785189367577,
          2.6225148603031343,
          0.2585623620707531,
          -0.8369097835637421,
          6.181668629054609,
          -0.787206829236435,
          -0.08406949088653262,
          -0.7475618978953236,
          0.8636738549292825,
          -0.8622262349196663,
          -0.827002531031578,
          -0.7454676376213116,
          -0.025089695445414548,
          -0.8357664224063492,
          -0.2249235369772351,
          -0.835952558382314,
          -0.8598991438388585,
          -0.8614300695939936,
          -0.7527714732444857,
          -0.7518768257797884,
          7.141047483900044,
          -1.1656028299771175,
          -0.2947981430348726,
          -0.8115848851262951,
          -0.892363071448498,
          -0.86895804777267,
          -0.8007589862835991,
          -0.7243700988066328,
          -0.7524181444692248,
          -0.8655983598135587,
          -0.8355779052098224,
          -0.7772459087493226,
          -0.8316560907650716,
          -0.881412713047326,
          -0.7689470750526866,
          -0.8604045702830154,
          -0.7946288319188811,
          -0.5932589744113166,
          -0.8184615121834682,
          -0.7823241741406933,
          -0.8110232638494358,
          -0.8685927422623994,
          -0.5893501057379382,
          -0.3177602205422121,
          -0.7708505276612407,
          -0.7388001090445998,
          4.1207672819480194,
          -0.7440075818697143,
          -0.08655024568937998,
          4.2190098295454,
          -0.4790846661959887,
          -0.8538095393766155,
          7.451804472622506,
          -0.8255483771170566,
          -0.8113697516291575,
          -0.7723737671125074,
          -0.5589334132478724,
          -0.8475385152851713,
          -0.049173981030918544,
          -0.38694332232190776,
          -0.7712337973674733,
          -0.8253130339640345,
          -0.04888531759620618,
          0.0311178347486337,
          -0.7907053109145681,
          -0.8547643833374826,
          -0.21975058280090098,
          -0.3895749435251428,
          -0.8246592968610226,
          -0.49432385140413815,
          -0.7837123257273239,
          -0.8722696971070744,
          -0.38958880445677885,
          -0.5933587274020605,
          -0.5618475936719984,
          -0.7876684955022112,
          -0.8151610074556702,
          -0.6727444922786286,
          -0.8168541035397372,
          4.88463612991091,
          -0.7736444735391758,
          -0.8140200728946526,
          -0.7833556701417944,
          -0.8624791721531238,
          -0.6230426136573569,
          -0.9385188394991809,
          -0.8785783489261376,
          -0.8330180338257864,
          -0.4307482893421819,
          -0.731753410526594,
          -0.8549567546266281,
          4.479153968727309,
          -0.8343482273269078,
          -0.8203368447750662,
          -0.8703683014721478,
          -0.7742584593511426,
          -0.8506540516962047,
          -0.5154542031480671,
          -0.8374012883908506,
          -0.8574139965509789,
          -0.2378952816850239,
          -0.7720918106511141,
          0.27223707444642087,
          -0.1674952097953531,
          -0.6295239446123644,
          -0.8290805792196093,
          -0.8287191849879824,
          -0.8668879626713647,
          -1.0717061691099885,
          -0.8395233229027261,
          -0.8298362684486207,
          0.3919719218313893,
          -0.08253075495335233,
          -0.7517384352004877,
          -0.8439664807359183,
          -0.17755164505081727,
          -0.8385747142550396,
          -0.8136492738147804,
          -0.8262418221054413,
          5.833648321954713,
          -0.8017096829238056,
          7.290018768412199,
          7.565871128165446,
          -0.8557808371260393,
          -0.856190520289665,
          -0.811414274765101,
          -0.3323511758763144,
          8.086073180342682,
          -0.3595382163531603,
          -0.769233998168137,
          -0.8242004744960676,
          -0.8603103116847521,
          0.3211273301037442,
          -0.7366098214425532,
          -0.8452661393079444,
          7.19110712978492,
          -0.8267915902309156,
          4.398500269828507,
          -0.8195501060044021,
          -0.7896218984011171,
          -0.8460947505609744,
          -0.5025800637832085,
          -0.7778535568784691,
          7.17793816622389,
          -0.31284521605102317,
          -0.8444273932733014,
          -0.8538875523232928,
          -0.39433971305682664,
          -0.8605033456500818,
          -0.7980285045383687,
          -0.843386952623727,
          -0.8586217777453032,
          -0.7896724420222083,
          -0.810357218348414,
          -0.2713660553917575,
          -0.821383499523836,
          -0.7668233219964345,
          -0.8515828233845737,
          -0.7887238333745213,
          -0.8737921828299476,
          -0.8146041177756477,
          10.709079470697338,
          -0.8306069882059408,
          -0.8086398139120405,
          -0.853456108231715,
          -0.8622098530146629,
          -0.4711510305420182,
          -0.8646293391595483,
          -0.8145777043182535,
          -0.7910985789743905,
          -0.8577449467311133,
          -0.7919750525252535,
          7.747228841866488,
          -0.7493492072018393,
          -0.8688856858629973,
          11.016296512033987,
          -0.8019863928576326,
          -0.7596716581739964,
          -0.8593898230540208,
          -0.8490316563380637,
          7.878421094249799,
          -0.7621186797414891,
          -0.7852151076704789,
          -0.8720131777950552,
          -0.5969222892419185,
          -0.5844571065511553,
          -0.4555481791622092,
          -0.3068199695314158,
          -0.7798776151274864,
          -0.4222630257273125,
          -0.8649421104902943,
          -0.6203663887846483,
          -0.8062391454977034,
          -0.8461890091592377,
          -0.8085680336975033,
          -0.2822010167633956,
          -0.8151332260425713,
          -0.8504454921161039,
          -1.0797657725367886,
          -0.8003778045698862
         ],
         "xaxis": "x",
         "y": [
          -0.6749865938260327,
          0.9997525435173058,
          -0.7639884011288516,
          -0.47514932331306675,
          -0.7659011794492334,
          -1.0924313433395247,
          2.1135148010161737,
          0.6584788833894959,
          -1.1763734544267246,
          -0.6553074633033733,
          -0.12905212971587848,
          -1.1241022591771865,
          -0.08553151744000562,
          -1.1372845781405783,
          -0.6635362591068761,
          -0.3421245170767301,
          -0.7767908069629692,
          -1.1058358733705225,
          -0.9835107264812156,
          -0.36168504566034754,
          -0.8872323352055644,
          -0.4255371782793222,
          -0.8399444364148982,
          0.7761424102274885,
          -1.038324258660544,
          -0.6090348988540942,
          -0.5866014436628886,
          -2.1977385486224144,
          -0.7451133211495556,
          0.5255415854604287,
          1.6564288515765042,
          -0.7845234855829826,
          0.6908027186610157,
          1.7200804004702348,
          -0.3790311122888715,
          0.06024949645127521,
          9.933619499091716,
          -0.7965661183676802,
          0.0695358705713847,
          0.513884287329526,
          3.863301721716661,
          0.595589165483399,
          0.28704054868265666,
          4.772179816663934,
          -1.2291696687835005,
          -0.3405363678514198,
          -1.2437671813725732,
          -1.061073697574579,
          0.38503831603747096,
          9.228477665408537,
          -1.1592026370331674,
          0.988850537451038,
          5.006744360373002,
          -0.9843106280412136,
          -0.22660667955241512,
          -1.4500034714743817,
          -0.536705862533543,
          0.638501893968692,
          8.583620907366338,
          -0.312423431952127,
          -1.113041868585789,
          -0.07145538692435766,
          -0.7852703314362836,
          -0.10589326449440774,
          0.42219498140088113,
          2.234604992160547,
          2.9568565947425482,
          -0.21594644009834962,
          -1.0224643115891947,
          -1.0965424562534005,
          -0.6597414541420991,
          0.43535013964893793,
          0.2610136073551935,
          -0.8325609793434257,
          1.1450681548460875,
          0.29679454855710274,
          1.3169328686888002,
          -1.4458923585605086,
          -0.25301402884560803,
          0.2737772565619582,
          -0.43746480721432024,
          0.8553793977307371,
          6.56688583729128,
          0.488609137739553,
          3.523037703026576,
          -0.7153625689641626,
          0.41112508706455936,
          -0.9298237305896869,
          0.04971207979137101,
          -0.65422212131224,
          -0.6789125767617865,
          0.7572575109924681,
          -0.38811174232057233,
          6.934303267066686,
          -1.1985317993684559,
          -0.7227526382391531,
          0.5044876205157562,
          1.4353687522647343,
          -0.04303365275498502,
          -0.055508875127404975,
          -0.6596479642769095,
          1.396969724613591,
          -0.26620770282785194,
          -0.8249127444318737,
          -1.0447624725091071,
          -0.13858503044235027,
          -1.282627276615364,
          1.505651135371299,
          -0.0028895741090248324,
          1.0010549952514043,
          -1.2834411692591712,
          -0.61463681486562,
          -0.41063729512404884,
          -0.6886085983818502,
          0.04861237092914238,
          -0.12899764004692918,
          0.01374510998912551,
          -1.3498676374015017,
          -1.1769366184007215,
          -0.22697203035775337,
          -1.0306944617124394,
          -0.7546818889363367,
          -1.0708123844054858,
          -0.5157694377328446,
          -1.1987890980140246,
          -2.224851423472739,
          5.419381255540228,
          1.3756517048622108,
          -0.3676439000804318,
          -1.3782479029448491,
          1.0472580016387922,
          -0.7998633386377461,
          -0.5636232431179032,
          -0.6505665318054168,
          -0.581472661977103,
          -1.4787961167394772,
          2.512651476920041,
          0.928901217863999,
          -1.1193621946702201,
          0.7817554375638325,
          -0.9236114372526202,
          4.8876549960504825,
          -1.4089308610704128,
          -0.8092649774296383,
          -0.8709620190797989,
          -1.123883105398379,
          0.7164859231342416,
          -0.12535826447000592,
          -0.1571091264874043,
          1.2656213481138237,
          -1.1405848556994405,
          -0.7021421129928914,
          -0.20507135828326006,
          -0.3102734880597806,
          -0.6005429094290853,
          -1.0118180274134012,
          0.666136888701141,
          0.054458714274091366,
          0.742553791612,
          7.4961471175219865,
          1.5344319222696388,
          -0.20267436012606643,
          -0.8493463128580355,
          -0.43804924724726313,
          -1.2620651420702416,
          1.9056035676843148,
          1.7597063062875724,
          0.7267602860968675,
          -1.4212191111015136,
          -0.7218716988048396,
          1.5606670069704054,
          -0.4073483382408628,
          -0.5615434033048579,
          -1.5478817016755635,
          -1.0599399648823071,
          -0.6798994938577001,
          -0.9131535551796333,
          -0.9696369339342378,
          2.2101630085093404,
          -1.2063784479688935,
          0.02284287768104631,
          -1.150000064085264,
          -0.7424801400505501,
          6.6098846960591615,
          0.010367558588910305,
          -1.1362164441399982,
          -1.1060382113391953,
          -1.2863342946997158,
          0.2519451366501086,
          -1.4088857723598935,
          -1.1421876360718037,
          -1.1350050266424265,
          -1.4152544891454637,
          -0.7418474596011567,
          -1.257954029156369,
          -1.0617934739244825,
          0.17543138495169677,
          1.5402292589160222,
          -0.2567960071289907,
          -1.0883202304256545,
          -1.195217371107839,
          -1.6175034903341663,
          -0.7447198571839245,
          -0.48217204174577344,
          -0.04026969266487836,
          -0.5543614008917884,
          1.6418773911807727,
          2.0102243258747263,
          0.11179513435311969,
          0.8446607943746713,
          -0.4841854417846208,
          -0.7338195988063045,
          0.3391159450438401,
          0.34740970744354094,
          1.5638817839145482,
          -0.6511337988867416,
          -1.4559680934304302,
          -1.2438155720737127,
          1.039998438059736,
          -0.5142281651684154,
          -1.046952448482473,
          -1.0506781226561916,
          -0.11631659134181238,
          -0.31722933571305945,
          -0.5226583031468165,
          -1.3434989206159316,
          -0.6607365589803202,
          -0.35426749680468134,
          -1.3539787503153748,
          0.4288502175811346,
          -1.3922849773120483,
          -0.38183447672052945,
          -0.39448045910614277,
          0.5399983334093661,
          0.6140193189626129,
          -0.32950997515222386,
          -0.6477187203648115,
          0.8758572452326655,
          -1.0319694971532458,
          -0.364931184394509,
          -0.8993422846231461,
          -0.7809674633799502,
          -1.2766439985699476,
          0.04141481455062431,
          0.00805519009267965,
          -0.7673725412883501,
          -0.9563994653959004,
          -1.0655070619845917,
          -1.2763069505309332,
          -1.2885918985714133,
          1.286890416856763,
          0.4124859542231713,
          0.32023873371924877,
          7.396508803592619,
          -0.9094180194930683,
          4.08529381494635,
          -0.29792021166803506,
          -0.3483932428738272,
          0.8069966810050235,
          -0.2220960031051153,
          0.7951791337668971,
          6.400746921716929,
          -0.9737480468481108,
          -0.9614319160970417,
          0.27571457554920975,
          -0.40144675587617,
          -0.962312463350937,
          -1.5564882983727981,
          2.7156911811017492,
          -1.3673517054553626,
          0.1904489614283129,
          -0.5582146081437845,
          1.2488223602178363,
          0.016934885115729097,
          10.682009767036762,
          -1.1391380871827557,
          -1.1220295963562028,
          0.1152369329606698,
          1.310305654438725,
          -1.292703011485286,
          0.2435399917385589,
          -0.8197480598413598,
          -0.7926552788343336,
          -1.4160683817892707,
          -0.27387678279312244,
          -0.15874387259774297,
          -2.061385661918595,
          2.2374785041117193,
          0.7489252595840223,
          -0.7583854011218386,
          -1.218102708216349,
          -1.1479931888833792,
          -0.7070984772722392,
          -0.3207114970338413,
          0.2913292094858413,
          -1.5960036391444696,
          -1.3457565244876282,
          -0.7607504501369974,
          -0.8798482840786056,
          -1.241127430297811,
          -0.3591609274713542,
          -0.7589245917060424,
          -0.4351522620781322,
          0.1359927447438599,
          -1.221351537785275,
          0.4049181208895287,
          -0.9739909785932228,
          -0.8437882360039943,
          0.907741511733436,
          1.4476117489837073,
          -0.5162830163854893,
          0.08224796980873891,
          0.22027492540442226,
          -0.10320336766403951,
          2.3691289714190646,
          -1.2415685510282273,
          1.1612504202680989,
          -1.3200436606302648,
          -0.10371103879967582,
          -0.9094002303946931,
          -0.010381986062941537,
          -0.9478748868973296,
          -0.58019788719365,
          -0.44884850673579774,
          2.1491030024677267,
          -0.5041839386008115,
          -0.5084583154115082,
          -0.4428402237751313,
          1.3314027154822408,
          2.4583806777869923,
          -0.35987069223517815,
          -1.447745867602684,
          8.138754634091137,
          0.316628024039003,
          -0.9575399569619738,
          2.5430932821706307,
          0.09689073184655164,
          -1.0285615790274398,
          7.902065227352011,
          0.46651819357700236,
          0.9823422861339767,
          -0.6920663781229698,
          -0.2964242694228249,
          -0.18934235483853248,
          -0.5929496351944299,
          0.8599670440965508,
          0.0008697395438480183,
          -0.8545109974485495,
          -0.6217479508455703,
          -1.5172438322605188,
          0.5745695516796325,
          7.163439875341931,
          -0.9733368009350081,
          -1.009553853565948,
          0.2663827914483013,
          0.30398542615231383,
          -1.073073240989461,
          0.16463185372709643,
          -1.0052902414833573,
          -1.1537070821696163,
          -1.1825398332436237,
          0.24180887478898574,
          -1.0348911401960033,
          0.9222801111024767,
          -1.0435174608532705,
          -0.9766868978814192,
          0.978945581864755,
          0.23470376126686301,
          2.559874856872851,
          1.7282528316387022,
          1.0962221575543827,
          -0.9359946147941954,
          -0.6497526391616097,
          -1.1704088324706772,
          3.092889732834791,
          -1.2556964252846714,
          -0.498323311263374,
          2.7867298584008244,
          1.2924942066397453,
          0.059024939002190364,
          -0.9400844065103254,
          1.101987271804094,
          -1.2262765433429554,
          -1.058900348483938,
          -0.5686101830621711,
          -1.8115851216692067,
          -0.7942748750168297,
          -1.0256360529655961,
          -0.25129826397377153,
          -0.835245777947365,
          -1.4428142920692473,
          -0.5784011654615985,
          0.29154149901553555,
          -0.2311496892047967,
          0.11450304862935565,
          -0.32010646719566965,
          -1.286738389529237,
          -0.7854513482072136,
          3.483882757601842,
          -0.14333192489975477,
          -0.999464163417753,
          -1.7600301640021152,
          -0.6273859738793531,
          -0.6231439232194904,
          -0.5235205864917633,
          -0.1484803555576501,
          -1.2505456959724295,
          -0.44523689517133874,
          -0.5368736685328249,
          -2.29480288617979,
          0.5075470964155957,
          -0.7588854360890354,
          -0.9230939988713887,
          1.1044759465063005,
          -1.5131327193466464,
          -0.19091157069031836,
          -1.3887277326442928,
          -1.482494849931602,
          -0.9209440355666371,
          -1.061395949070718,
          0.8610306284354602,
          -0.49342210308440654,
          -0.8294345221510251,
          -0.8283762496632895,
          -0.8915241536249211,
          -1.145102709138805,
          -1.1866025554563573,
          -2.1521740052562692,
          -0.7786728336073573,
          0.03896508996287367,
          -0.8701823470229691,
          -0.9246104598745493,
          -0.3665190433209255,
          -1.1171529814996621,
          -0.5712093403604939,
          -0.9160124600331996,
          -0.9578429812003061,
          -0.4086293653055474,
          -0.5061424678223042,
          -0.04022974080048618,
          -1.0091782763386392,
          -0.8530463175814385,
          -0.2974161215487677,
          0.03195940350963943,
          -0.9807980107952919,
          -1.4806413408894257,
          -0.5747797583354415,
          0.122060761560465,
          -0.4668336076201315,
          -1.2054948628386102,
          0.6477600494820294,
          -0.10395807200857357,
          -0.41750973818262294,
          0.20690364411072962,
          -0.5227292290783149,
          -0.03645762724225917,
          -1.0979268982030785,
          -0.23206283432538471,
          -1.0363063338216807,
          -1.2240189394712584,
          -0.7500696854289032,
          -0.0712135530748778,
          -0.6466366310859576,
          -0.9601489563607372,
          3.091714218241947,
          -0.7726796940490954
         ],
         "yaxis": "y"
        }
       ],
       "layout": {
        "coloraxis": {
         "colorbar": {
          "title": {
           "text": "Class"
          }
         },
         "colorscale": [
          [
           0,
           "#0d0887"
          ],
          [
           0.1111111111111111,
           "#46039f"
          ],
          [
           0.2222222222222222,
           "#7201a8"
          ],
          [
           0.3333333333333333,
           "#9c179e"
          ],
          [
           0.4444444444444444,
           "#bd3786"
          ],
          [
           0.5555555555555556,
           "#d8576b"
          ],
          [
           0.6666666666666666,
           "#ed7953"
          ],
          [
           0.7777777777777778,
           "#fb9f3a"
          ],
          [
           0.8888888888888888,
           "#fdca26"
          ],
          [
           1,
           "#f0f921"
          ]
         ]
        },
        "legend": {
         "tracegroupgap": 0
        },
        "template": {
         "data": {
          "bar": [
           {
            "error_x": {
             "color": "#2a3f5f"
            },
            "error_y": {
             "color": "#2a3f5f"
            },
            "marker": {
             "line": {
              "color": "#E5ECF6",
              "width": 0.5
             },
             "pattern": {
              "fillmode": "overlay",
              "size": 10,
              "solidity": 0.2
             }
            },
            "type": "bar"
           }
          ],
          "barpolar": [
           {
            "marker": {
             "line": {
              "color": "#E5ECF6",
              "width": 0.5
             },
             "pattern": {
              "fillmode": "overlay",
              "size": 10,
              "solidity": 0.2
             }
            },
            "type": "barpolar"
           }
          ],
          "carpet": [
           {
            "aaxis": {
             "endlinecolor": "#2a3f5f",
             "gridcolor": "white",
             "linecolor": "white",
             "minorgridcolor": "white",
             "startlinecolor": "#2a3f5f"
            },
            "baxis": {
             "endlinecolor": "#2a3f5f",
             "gridcolor": "white",
             "linecolor": "white",
             "minorgridcolor": "white",
             "startlinecolor": "#2a3f5f"
            },
            "type": "carpet"
           }
          ],
          "choropleth": [
           {
            "colorbar": {
             "outlinewidth": 0,
             "ticks": ""
            },
            "type": "choropleth"
           }
          ],
          "contour": [
           {
            "colorbar": {
             "outlinewidth": 0,
             "ticks": ""
            },
            "colorscale": [
             [
              0,
              "#0d0887"
             ],
             [
              0.1111111111111111,
              "#46039f"
             ],
             [
              0.2222222222222222,
              "#7201a8"
             ],
             [
              0.3333333333333333,
              "#9c179e"
             ],
             [
              0.4444444444444444,
              "#bd3786"
             ],
             [
              0.5555555555555556,
              "#d8576b"
             ],
             [
              0.6666666666666666,
              "#ed7953"
             ],
             [
              0.7777777777777778,
              "#fb9f3a"
             ],
             [
              0.8888888888888888,
              "#fdca26"
             ],
             [
              1,
              "#f0f921"
             ]
            ],
            "type": "contour"
           }
          ],
          "contourcarpet": [
           {
            "colorbar": {
             "outlinewidth": 0,
             "ticks": ""
            },
            "type": "contourcarpet"
           }
          ],
          "heatmap": [
           {
            "colorbar": {
             "outlinewidth": 0,
             "ticks": ""
            },
            "colorscale": [
             [
              0,
              "#0d0887"
             ],
             [
              0.1111111111111111,
              "#46039f"
             ],
             [
              0.2222222222222222,
              "#7201a8"
             ],
             [
              0.3333333333333333,
              "#9c179e"
             ],
             [
              0.4444444444444444,
              "#bd3786"
             ],
             [
              0.5555555555555556,
              "#d8576b"
             ],
             [
              0.6666666666666666,
              "#ed7953"
             ],
             [
              0.7777777777777778,
              "#fb9f3a"
             ],
             [
              0.8888888888888888,
              "#fdca26"
             ],
             [
              1,
              "#f0f921"
             ]
            ],
            "type": "heatmap"
           }
          ],
          "heatmapgl": [
           {
            "colorbar": {
             "outlinewidth": 0,
             "ticks": ""
            },
            "colorscale": [
             [
              0,
              "#0d0887"
             ],
             [
              0.1111111111111111,
              "#46039f"
             ],
             [
              0.2222222222222222,
              "#7201a8"
             ],
             [
              0.3333333333333333,
              "#9c179e"
             ],
             [
              0.4444444444444444,
              "#bd3786"
             ],
             [
              0.5555555555555556,
              "#d8576b"
             ],
             [
              0.6666666666666666,
              "#ed7953"
             ],
             [
              0.7777777777777778,
              "#fb9f3a"
             ],
             [
              0.8888888888888888,
              "#fdca26"
             ],
             [
              1,
              "#f0f921"
             ]
            ],
            "type": "heatmapgl"
           }
          ],
          "histogram": [
           {
            "marker": {
             "pattern": {
              "fillmode": "overlay",
              "size": 10,
              "solidity": 0.2
             }
            },
            "type": "histogram"
           }
          ],
          "histogram2d": [
           {
            "colorbar": {
             "outlinewidth": 0,
             "ticks": ""
            },
            "colorscale": [
             [
              0,
              "#0d0887"
             ],
             [
              0.1111111111111111,
              "#46039f"
             ],
             [
              0.2222222222222222,
              "#7201a8"
             ],
             [
              0.3333333333333333,
              "#9c179e"
             ],
             [
              0.4444444444444444,
              "#bd3786"
             ],
             [
              0.5555555555555556,
              "#d8576b"
             ],
             [
              0.6666666666666666,
              "#ed7953"
             ],
             [
              0.7777777777777778,
              "#fb9f3a"
             ],
             [
              0.8888888888888888,
              "#fdca26"
             ],
             [
              1,
              "#f0f921"
             ]
            ],
            "type": "histogram2d"
           }
          ],
          "histogram2dcontour": [
           {
            "colorbar": {
             "outlinewidth": 0,
             "ticks": ""
            },
            "colorscale": [
             [
              0,
              "#0d0887"
             ],
             [
              0.1111111111111111,
              "#46039f"
             ],
             [
              0.2222222222222222,
              "#7201a8"
             ],
             [
              0.3333333333333333,
              "#9c179e"
             ],
             [
              0.4444444444444444,
              "#bd3786"
             ],
             [
              0.5555555555555556,
              "#d8576b"
             ],
             [
              0.6666666666666666,
              "#ed7953"
             ],
             [
              0.7777777777777778,
              "#fb9f3a"
             ],
             [
              0.8888888888888888,
              "#fdca26"
             ],
             [
              1,
              "#f0f921"
             ]
            ],
            "type": "histogram2dcontour"
           }
          ],
          "mesh3d": [
           {
            "colorbar": {
             "outlinewidth": 0,
             "ticks": ""
            },
            "type": "mesh3d"
           }
          ],
          "parcoords": [
           {
            "line": {
             "colorbar": {
              "outlinewidth": 0,
              "ticks": ""
             }
            },
            "type": "parcoords"
           }
          ],
          "pie": [
           {
            "automargin": true,
            "type": "pie"
           }
          ],
          "scatter": [
           {
            "fillpattern": {
             "fillmode": "overlay",
             "size": 10,
             "solidity": 0.2
            },
            "type": "scatter"
           }
          ],
          "scatter3d": [
           {
            "line": {
             "colorbar": {
              "outlinewidth": 0,
              "ticks": ""
             }
            },
            "marker": {
             "colorbar": {
              "outlinewidth": 0,
              "ticks": ""
             }
            },
            "type": "scatter3d"
           }
          ],
          "scattercarpet": [
           {
            "marker": {
             "colorbar": {
              "outlinewidth": 0,
              "ticks": ""
             }
            },
            "type": "scattercarpet"
           }
          ],
          "scattergeo": [
           {
            "marker": {
             "colorbar": {
              "outlinewidth": 0,
              "ticks": ""
             }
            },
            "type": "scattergeo"
           }
          ],
          "scattergl": [
           {
            "marker": {
             "colorbar": {
              "outlinewidth": 0,
              "ticks": ""
             }
            },
            "type": "scattergl"
           }
          ],
          "scattermapbox": [
           {
            "marker": {
             "colorbar": {
              "outlinewidth": 0,
              "ticks": ""
             }
            },
            "type": "scattermapbox"
           }
          ],
          "scatterpolar": [
           {
            "marker": {
             "colorbar": {
              "outlinewidth": 0,
              "ticks": ""
             }
            },
            "type": "scatterpolar"
           }
          ],
          "scatterpolargl": [
           {
            "marker": {
             "colorbar": {
              "outlinewidth": 0,
              "ticks": ""
             }
            },
            "type": "scatterpolargl"
           }
          ],
          "scatterternary": [
           {
            "marker": {
             "colorbar": {
              "outlinewidth": 0,
              "ticks": ""
             }
            },
            "type": "scatterternary"
           }
          ],
          "surface": [
           {
            "colorbar": {
             "outlinewidth": 0,
             "ticks": ""
            },
            "colorscale": [
             [
              0,
              "#0d0887"
             ],
             [
              0.1111111111111111,
              "#46039f"
             ],
             [
              0.2222222222222222,
              "#7201a8"
             ],
             [
              0.3333333333333333,
              "#9c179e"
             ],
             [
              0.4444444444444444,
              "#bd3786"
             ],
             [
              0.5555555555555556,
              "#d8576b"
             ],
             [
              0.6666666666666666,
              "#ed7953"
             ],
             [
              0.7777777777777778,
              "#fb9f3a"
             ],
             [
              0.8888888888888888,
              "#fdca26"
             ],
             [
              1,
              "#f0f921"
             ]
            ],
            "type": "surface"
           }
          ],
          "table": [
           {
            "cells": {
             "fill": {
              "color": "#EBF0F8"
             },
             "line": {
              "color": "white"
             }
            },
            "header": {
             "fill": {
              "color": "#C8D4E3"
             },
             "line": {
              "color": "white"
             }
            },
            "type": "table"
           }
          ]
         },
         "layout": {
          "annotationdefaults": {
           "arrowcolor": "#2a3f5f",
           "arrowhead": 0,
           "arrowwidth": 1
          },
          "autotypenumbers": "strict",
          "coloraxis": {
           "colorbar": {
            "outlinewidth": 0,
            "ticks": ""
           }
          },
          "colorscale": {
           "diverging": [
            [
             0,
             "#8e0152"
            ],
            [
             0.1,
             "#c51b7d"
            ],
            [
             0.2,
             "#de77ae"
            ],
            [
             0.3,
             "#f1b6da"
            ],
            [
             0.4,
             "#fde0ef"
            ],
            [
             0.5,
             "#f7f7f7"
            ],
            [
             0.6,
             "#e6f5d0"
            ],
            [
             0.7,
             "#b8e186"
            ],
            [
             0.8,
             "#7fbc41"
            ],
            [
             0.9,
             "#4d9221"
            ],
            [
             1,
             "#276419"
            ]
           ],
           "sequential": [
            [
             0,
             "#0d0887"
            ],
            [
             0.1111111111111111,
             "#46039f"
            ],
            [
             0.2222222222222222,
             "#7201a8"
            ],
            [
             0.3333333333333333,
             "#9c179e"
            ],
            [
             0.4444444444444444,
             "#bd3786"
            ],
            [
             0.5555555555555556,
             "#d8576b"
            ],
            [
             0.6666666666666666,
             "#ed7953"
            ],
            [
             0.7777777777777778,
             "#fb9f3a"
            ],
            [
             0.8888888888888888,
             "#fdca26"
            ],
            [
             1,
             "#f0f921"
            ]
           ],
           "sequentialminus": [
            [
             0,
             "#0d0887"
            ],
            [
             0.1111111111111111,
             "#46039f"
            ],
            [
             0.2222222222222222,
             "#7201a8"
            ],
            [
             0.3333333333333333,
             "#9c179e"
            ],
            [
             0.4444444444444444,
             "#bd3786"
            ],
            [
             0.5555555555555556,
             "#d8576b"
            ],
            [
             0.6666666666666666,
             "#ed7953"
            ],
            [
             0.7777777777777778,
             "#fb9f3a"
            ],
            [
             0.8888888888888888,
             "#fdca26"
            ],
            [
             1,
             "#f0f921"
            ]
           ]
          },
          "colorway": [
           "#636efa",
           "#EF553B",
           "#00cc96",
           "#ab63fa",
           "#FFA15A",
           "#19d3f3",
           "#FF6692",
           "#B6E880",
           "#FF97FF",
           "#FECB52"
          ],
          "font": {
           "color": "#2a3f5f"
          },
          "geo": {
           "bgcolor": "white",
           "lakecolor": "white",
           "landcolor": "#E5ECF6",
           "showlakes": true,
           "showland": true,
           "subunitcolor": "white"
          },
          "hoverlabel": {
           "align": "left"
          },
          "hovermode": "closest",
          "mapbox": {
           "style": "light"
          },
          "paper_bgcolor": "white",
          "plot_bgcolor": "#E5ECF6",
          "polar": {
           "angularaxis": {
            "gridcolor": "white",
            "linecolor": "white",
            "ticks": ""
           },
           "bgcolor": "#E5ECF6",
           "radialaxis": {
            "gridcolor": "white",
            "linecolor": "white",
            "ticks": ""
           }
          },
          "scene": {
           "xaxis": {
            "backgroundcolor": "#E5ECF6",
            "gridcolor": "white",
            "gridwidth": 2,
            "linecolor": "white",
            "showbackground": true,
            "ticks": "",
            "zerolinecolor": "white"
           },
           "yaxis": {
            "backgroundcolor": "#E5ECF6",
            "gridcolor": "white",
            "gridwidth": 2,
            "linecolor": "white",
            "showbackground": true,
            "ticks": "",
            "zerolinecolor": "white"
           },
           "zaxis": {
            "backgroundcolor": "#E5ECF6",
            "gridcolor": "white",
            "gridwidth": 2,
            "linecolor": "white",
            "showbackground": true,
            "ticks": "",
            "zerolinecolor": "white"
           }
          },
          "shapedefaults": {
           "line": {
            "color": "#2a3f5f"
           }
          },
          "ternary": {
           "aaxis": {
            "gridcolor": "white",
            "linecolor": "white",
            "ticks": ""
           },
           "baxis": {
            "gridcolor": "white",
            "linecolor": "white",
            "ticks": ""
           },
           "bgcolor": "#E5ECF6",
           "caxis": {
            "gridcolor": "white",
            "linecolor": "white",
            "ticks": ""
           }
          },
          "title": {
           "x": 0.05
          },
          "xaxis": {
           "automargin": true,
           "gridcolor": "white",
           "linecolor": "white",
           "ticks": "",
           "title": {
            "standoff": 15
           },
           "zerolinecolor": "white",
           "zerolinewidth": 2
          },
          "yaxis": {
           "automargin": true,
           "gridcolor": "white",
           "linecolor": "white",
           "ticks": "",
           "title": {
            "standoff": 15
           },
           "zerolinecolor": "white",
           "zerolinewidth": 2
          }
         }
        },
        "title": {
         "text": "PCA Visualization of Original Training Set (No SMOTE)"
        },
        "xaxis": {
         "anchor": "y",
         "domain": [
          0,
          1
         ],
         "title": {
          "text": "PCA1"
         }
        },
        "yaxis": {
         "anchor": "x",
         "domain": [
          0,
          1
         ],
         "title": {
          "text": "PCA2"
         }
        }
       }
      }
     },
     "metadata": {},
     "output_type": "display_data"
    }
   ],
   "source": [
    "import plotly.express as px\n",
    "import pandas as pd\n",
    "from sklearn.decomposition import PCA\n",
    "from sklearn.preprocessing import StandardScaler\n",
    "from sklearn.model_selection import train_test_split\n",
    "\n",
    "X = risk_factor_df.drop(columns=target)\n",
    "y = risk_factor_df[target]\n",
    "\n",
    "# Split the dataset into training and testing sets\n",
    "X_train, X_test, y_train, y_test = train_test_split(X, \n",
    "                                                    y, \n",
    "                                                    test_size=0.33, \n",
    "                                                    random_state=42,\n",
    "                                                    stratify=y, \n",
    "                                                    shuffle=True)\n",
    "\n",
    "# Standardize the data\n",
    "scaler = StandardScaler()\n",
    "X_train_scaled = scaler.fit_transform(X_train)\n",
    "\n",
    "# Use PCA for dimensionality reduction\n",
    "pca = PCA(n_components=2)\n",
    "X_train_pca = pca.fit_transform(X_train_scaled)\n",
    "\n",
    "# Combine the reduced-dimensional data and target variable into a DataFrame\n",
    "df_pca_no_smote = pd.DataFrame(data={'PCA1': X_train_pca[:, 0], 'PCA2': X_train_pca[:, 1], 'Class': y_train})\n",
    "\n",
    "# Create a scatter plot using Plotly Express\n",
    "fig_no_smote = px.scatter(df_pca_no_smote, x='PCA1', y='PCA2', color='Class', title='PCA Visualization of Original Training Set (No SMOTE)')\n",
    "\n",
    "# Show the plot\n",
    "fig_no_smote.show()\n"
   ]
  },
  {
   "cell_type": "markdown",
   "metadata": {},
   "source": [
    "#### Handling Imbalanced Data -- SMOTE"
   ]
  },
  {
   "cell_type": "code",
   "execution_count": 130,
   "metadata": {},
   "outputs": [
    {
     "data": {
      "application/vnd.plotly.v1+json": {
       "config": {
        "plotlyServerURL": "https://plot.ly"
       },
       "data": [
        {
         "domain": {
          "x": [
           0,
           1
          ],
          "y": [
           0,
           1
          ]
         },
         "hovertemplate": "Class=%{label}<br>Count=%{value}<extra></extra>",
         "labels": [
          0,
          1
         ],
         "legendgroup": "",
         "name": "",
         "showlegend": true,
         "type": "pie",
         "values": [
          433,
          433
         ]
        }
       ],
       "layout": {
        "legend": {
         "tracegroupgap": 0
        },
        "template": {
         "data": {
          "bar": [
           {
            "error_x": {
             "color": "#2a3f5f"
            },
            "error_y": {
             "color": "#2a3f5f"
            },
            "marker": {
             "line": {
              "color": "#E5ECF6",
              "width": 0.5
             },
             "pattern": {
              "fillmode": "overlay",
              "size": 10,
              "solidity": 0.2
             }
            },
            "type": "bar"
           }
          ],
          "barpolar": [
           {
            "marker": {
             "line": {
              "color": "#E5ECF6",
              "width": 0.5
             },
             "pattern": {
              "fillmode": "overlay",
              "size": 10,
              "solidity": 0.2
             }
            },
            "type": "barpolar"
           }
          ],
          "carpet": [
           {
            "aaxis": {
             "endlinecolor": "#2a3f5f",
             "gridcolor": "white",
             "linecolor": "white",
             "minorgridcolor": "white",
             "startlinecolor": "#2a3f5f"
            },
            "baxis": {
             "endlinecolor": "#2a3f5f",
             "gridcolor": "white",
             "linecolor": "white",
             "minorgridcolor": "white",
             "startlinecolor": "#2a3f5f"
            },
            "type": "carpet"
           }
          ],
          "choropleth": [
           {
            "colorbar": {
             "outlinewidth": 0,
             "ticks": ""
            },
            "type": "choropleth"
           }
          ],
          "contour": [
           {
            "colorbar": {
             "outlinewidth": 0,
             "ticks": ""
            },
            "colorscale": [
             [
              0,
              "#0d0887"
             ],
             [
              0.1111111111111111,
              "#46039f"
             ],
             [
              0.2222222222222222,
              "#7201a8"
             ],
             [
              0.3333333333333333,
              "#9c179e"
             ],
             [
              0.4444444444444444,
              "#bd3786"
             ],
             [
              0.5555555555555556,
              "#d8576b"
             ],
             [
              0.6666666666666666,
              "#ed7953"
             ],
             [
              0.7777777777777778,
              "#fb9f3a"
             ],
             [
              0.8888888888888888,
              "#fdca26"
             ],
             [
              1,
              "#f0f921"
             ]
            ],
            "type": "contour"
           }
          ],
          "contourcarpet": [
           {
            "colorbar": {
             "outlinewidth": 0,
             "ticks": ""
            },
            "type": "contourcarpet"
           }
          ],
          "heatmap": [
           {
            "colorbar": {
             "outlinewidth": 0,
             "ticks": ""
            },
            "colorscale": [
             [
              0,
              "#0d0887"
             ],
             [
              0.1111111111111111,
              "#46039f"
             ],
             [
              0.2222222222222222,
              "#7201a8"
             ],
             [
              0.3333333333333333,
              "#9c179e"
             ],
             [
              0.4444444444444444,
              "#bd3786"
             ],
             [
              0.5555555555555556,
              "#d8576b"
             ],
             [
              0.6666666666666666,
              "#ed7953"
             ],
             [
              0.7777777777777778,
              "#fb9f3a"
             ],
             [
              0.8888888888888888,
              "#fdca26"
             ],
             [
              1,
              "#f0f921"
             ]
            ],
            "type": "heatmap"
           }
          ],
          "heatmapgl": [
           {
            "colorbar": {
             "outlinewidth": 0,
             "ticks": ""
            },
            "colorscale": [
             [
              0,
              "#0d0887"
             ],
             [
              0.1111111111111111,
              "#46039f"
             ],
             [
              0.2222222222222222,
              "#7201a8"
             ],
             [
              0.3333333333333333,
              "#9c179e"
             ],
             [
              0.4444444444444444,
              "#bd3786"
             ],
             [
              0.5555555555555556,
              "#d8576b"
             ],
             [
              0.6666666666666666,
              "#ed7953"
             ],
             [
              0.7777777777777778,
              "#fb9f3a"
             ],
             [
              0.8888888888888888,
              "#fdca26"
             ],
             [
              1,
              "#f0f921"
             ]
            ],
            "type": "heatmapgl"
           }
          ],
          "histogram": [
           {
            "marker": {
             "pattern": {
              "fillmode": "overlay",
              "size": 10,
              "solidity": 0.2
             }
            },
            "type": "histogram"
           }
          ],
          "histogram2d": [
           {
            "colorbar": {
             "outlinewidth": 0,
             "ticks": ""
            },
            "colorscale": [
             [
              0,
              "#0d0887"
             ],
             [
              0.1111111111111111,
              "#46039f"
             ],
             [
              0.2222222222222222,
              "#7201a8"
             ],
             [
              0.3333333333333333,
              "#9c179e"
             ],
             [
              0.4444444444444444,
              "#bd3786"
             ],
             [
              0.5555555555555556,
              "#d8576b"
             ],
             [
              0.6666666666666666,
              "#ed7953"
             ],
             [
              0.7777777777777778,
              "#fb9f3a"
             ],
             [
              0.8888888888888888,
              "#fdca26"
             ],
             [
              1,
              "#f0f921"
             ]
            ],
            "type": "histogram2d"
           }
          ],
          "histogram2dcontour": [
           {
            "colorbar": {
             "outlinewidth": 0,
             "ticks": ""
            },
            "colorscale": [
             [
              0,
              "#0d0887"
             ],
             [
              0.1111111111111111,
              "#46039f"
             ],
             [
              0.2222222222222222,
              "#7201a8"
             ],
             [
              0.3333333333333333,
              "#9c179e"
             ],
             [
              0.4444444444444444,
              "#bd3786"
             ],
             [
              0.5555555555555556,
              "#d8576b"
             ],
             [
              0.6666666666666666,
              "#ed7953"
             ],
             [
              0.7777777777777778,
              "#fb9f3a"
             ],
             [
              0.8888888888888888,
              "#fdca26"
             ],
             [
              1,
              "#f0f921"
             ]
            ],
            "type": "histogram2dcontour"
           }
          ],
          "mesh3d": [
           {
            "colorbar": {
             "outlinewidth": 0,
             "ticks": ""
            },
            "type": "mesh3d"
           }
          ],
          "parcoords": [
           {
            "line": {
             "colorbar": {
              "outlinewidth": 0,
              "ticks": ""
             }
            },
            "type": "parcoords"
           }
          ],
          "pie": [
           {
            "automargin": true,
            "type": "pie"
           }
          ],
          "scatter": [
           {
            "fillpattern": {
             "fillmode": "overlay",
             "size": 10,
             "solidity": 0.2
            },
            "type": "scatter"
           }
          ],
          "scatter3d": [
           {
            "line": {
             "colorbar": {
              "outlinewidth": 0,
              "ticks": ""
             }
            },
            "marker": {
             "colorbar": {
              "outlinewidth": 0,
              "ticks": ""
             }
            },
            "type": "scatter3d"
           }
          ],
          "scattercarpet": [
           {
            "marker": {
             "colorbar": {
              "outlinewidth": 0,
              "ticks": ""
             }
            },
            "type": "scattercarpet"
           }
          ],
          "scattergeo": [
           {
            "marker": {
             "colorbar": {
              "outlinewidth": 0,
              "ticks": ""
             }
            },
            "type": "scattergeo"
           }
          ],
          "scattergl": [
           {
            "marker": {
             "colorbar": {
              "outlinewidth": 0,
              "ticks": ""
             }
            },
            "type": "scattergl"
           }
          ],
          "scattermapbox": [
           {
            "marker": {
             "colorbar": {
              "outlinewidth": 0,
              "ticks": ""
             }
            },
            "type": "scattermapbox"
           }
          ],
          "scatterpolar": [
           {
            "marker": {
             "colorbar": {
              "outlinewidth": 0,
              "ticks": ""
             }
            },
            "type": "scatterpolar"
           }
          ],
          "scatterpolargl": [
           {
            "marker": {
             "colorbar": {
              "outlinewidth": 0,
              "ticks": ""
             }
            },
            "type": "scatterpolargl"
           }
          ],
          "scatterternary": [
           {
            "marker": {
             "colorbar": {
              "outlinewidth": 0,
              "ticks": ""
             }
            },
            "type": "scatterternary"
           }
          ],
          "surface": [
           {
            "colorbar": {
             "outlinewidth": 0,
             "ticks": ""
            },
            "colorscale": [
             [
              0,
              "#0d0887"
             ],
             [
              0.1111111111111111,
              "#46039f"
             ],
             [
              0.2222222222222222,
              "#7201a8"
             ],
             [
              0.3333333333333333,
              "#9c179e"
             ],
             [
              0.4444444444444444,
              "#bd3786"
             ],
             [
              0.5555555555555556,
              "#d8576b"
             ],
             [
              0.6666666666666666,
              "#ed7953"
             ],
             [
              0.7777777777777778,
              "#fb9f3a"
             ],
             [
              0.8888888888888888,
              "#fdca26"
             ],
             [
              1,
              "#f0f921"
             ]
            ],
            "type": "surface"
           }
          ],
          "table": [
           {
            "cells": {
             "fill": {
              "color": "#EBF0F8"
             },
             "line": {
              "color": "white"
             }
            },
            "header": {
             "fill": {
              "color": "#C8D4E3"
             },
             "line": {
              "color": "white"
             }
            },
            "type": "table"
           }
          ]
         },
         "layout": {
          "annotationdefaults": {
           "arrowcolor": "#2a3f5f",
           "arrowhead": 0,
           "arrowwidth": 1
          },
          "autotypenumbers": "strict",
          "coloraxis": {
           "colorbar": {
            "outlinewidth": 0,
            "ticks": ""
           }
          },
          "colorscale": {
           "diverging": [
            [
             0,
             "#8e0152"
            ],
            [
             0.1,
             "#c51b7d"
            ],
            [
             0.2,
             "#de77ae"
            ],
            [
             0.3,
             "#f1b6da"
            ],
            [
             0.4,
             "#fde0ef"
            ],
            [
             0.5,
             "#f7f7f7"
            ],
            [
             0.6,
             "#e6f5d0"
            ],
            [
             0.7,
             "#b8e186"
            ],
            [
             0.8,
             "#7fbc41"
            ],
            [
             0.9,
             "#4d9221"
            ],
            [
             1,
             "#276419"
            ]
           ],
           "sequential": [
            [
             0,
             "#0d0887"
            ],
            [
             0.1111111111111111,
             "#46039f"
            ],
            [
             0.2222222222222222,
             "#7201a8"
            ],
            [
             0.3333333333333333,
             "#9c179e"
            ],
            [
             0.4444444444444444,
             "#bd3786"
            ],
            [
             0.5555555555555556,
             "#d8576b"
            ],
            [
             0.6666666666666666,
             "#ed7953"
            ],
            [
             0.7777777777777778,
             "#fb9f3a"
            ],
            [
             0.8888888888888888,
             "#fdca26"
            ],
            [
             1,
             "#f0f921"
            ]
           ],
           "sequentialminus": [
            [
             0,
             "#0d0887"
            ],
            [
             0.1111111111111111,
             "#46039f"
            ],
            [
             0.2222222222222222,
             "#7201a8"
            ],
            [
             0.3333333333333333,
             "#9c179e"
            ],
            [
             0.4444444444444444,
             "#bd3786"
            ],
            [
             0.5555555555555556,
             "#d8576b"
            ],
            [
             0.6666666666666666,
             "#ed7953"
            ],
            [
             0.7777777777777778,
             "#fb9f3a"
            ],
            [
             0.8888888888888888,
             "#fdca26"
            ],
            [
             1,
             "#f0f921"
            ]
           ]
          },
          "colorway": [
           "#636efa",
           "#EF553B",
           "#00cc96",
           "#ab63fa",
           "#FFA15A",
           "#19d3f3",
           "#FF6692",
           "#B6E880",
           "#FF97FF",
           "#FECB52"
          ],
          "font": {
           "color": "#2a3f5f"
          },
          "geo": {
           "bgcolor": "white",
           "lakecolor": "white",
           "landcolor": "#E5ECF6",
           "showlakes": true,
           "showland": true,
           "subunitcolor": "white"
          },
          "hoverlabel": {
           "align": "left"
          },
          "hovermode": "closest",
          "mapbox": {
           "style": "light"
          },
          "paper_bgcolor": "white",
          "plot_bgcolor": "#E5ECF6",
          "polar": {
           "angularaxis": {
            "gridcolor": "white",
            "linecolor": "white",
            "ticks": ""
           },
           "bgcolor": "#E5ECF6",
           "radialaxis": {
            "gridcolor": "white",
            "linecolor": "white",
            "ticks": ""
           }
          },
          "scene": {
           "xaxis": {
            "backgroundcolor": "#E5ECF6",
            "gridcolor": "white",
            "gridwidth": 2,
            "linecolor": "white",
            "showbackground": true,
            "ticks": "",
            "zerolinecolor": "white"
           },
           "yaxis": {
            "backgroundcolor": "#E5ECF6",
            "gridcolor": "white",
            "gridwidth": 2,
            "linecolor": "white",
            "showbackground": true,
            "ticks": "",
            "zerolinecolor": "white"
           },
           "zaxis": {
            "backgroundcolor": "#E5ECF6",
            "gridcolor": "white",
            "gridwidth": 2,
            "linecolor": "white",
            "showbackground": true,
            "ticks": "",
            "zerolinecolor": "white"
           }
          },
          "shapedefaults": {
           "line": {
            "color": "#2a3f5f"
           }
          },
          "ternary": {
           "aaxis": {
            "gridcolor": "white",
            "linecolor": "white",
            "ticks": ""
           },
           "baxis": {
            "gridcolor": "white",
            "linecolor": "white",
            "ticks": ""
           },
           "bgcolor": "#E5ECF6",
           "caxis": {
            "gridcolor": "white",
            "linecolor": "white",
            "ticks": ""
           }
          },
          "title": {
           "x": 0.05
          },
          "xaxis": {
           "automargin": true,
           "gridcolor": "white",
           "linecolor": "white",
           "ticks": "",
           "title": {
            "standoff": 15
           },
           "zerolinecolor": "white",
           "zerolinewidth": 2
          },
          "yaxis": {
           "automargin": true,
           "gridcolor": "white",
           "linecolor": "white",
           "ticks": "",
           "title": {
            "standoff": 15
           },
           "zerolinecolor": "white",
           "zerolinewidth": 2
          }
         }
        },
        "title": {
         "text": "SMOTE Resampled Training Set Target Variable Distribution"
        }
       }
      }
     },
     "metadata": {},
     "output_type": "display_data"
    },
    {
     "data": {
      "application/vnd.plotly.v1+json": {
       "config": {
        "plotlyServerURL": "https://plot.ly"
       },
       "data": [
        {
         "alignmentgroup": "True",
         "hovertemplate": "Class=%{x}<br>Count=%{y}<extra></extra>",
         "legendgroup": "",
         "marker": {
          "color": "#636efa",
          "pattern": {
           "shape": ""
          }
         },
         "name": "",
         "offsetgroup": "",
         "orientation": "v",
         "showlegend": false,
         "textposition": "auto",
         "type": "bar",
         "x": [
          0,
          1
         ],
         "xaxis": "x",
         "y": [
          433,
          433
         ],
         "yaxis": "y"
        }
       ],
       "layout": {
        "barmode": "relative",
        "legend": {
         "tracegroupgap": 0
        },
        "template": {
         "data": {
          "bar": [
           {
            "error_x": {
             "color": "#2a3f5f"
            },
            "error_y": {
             "color": "#2a3f5f"
            },
            "marker": {
             "line": {
              "color": "#E5ECF6",
              "width": 0.5
             },
             "pattern": {
              "fillmode": "overlay",
              "size": 10,
              "solidity": 0.2
             }
            },
            "type": "bar"
           }
          ],
          "barpolar": [
           {
            "marker": {
             "line": {
              "color": "#E5ECF6",
              "width": 0.5
             },
             "pattern": {
              "fillmode": "overlay",
              "size": 10,
              "solidity": 0.2
             }
            },
            "type": "barpolar"
           }
          ],
          "carpet": [
           {
            "aaxis": {
             "endlinecolor": "#2a3f5f",
             "gridcolor": "white",
             "linecolor": "white",
             "minorgridcolor": "white",
             "startlinecolor": "#2a3f5f"
            },
            "baxis": {
             "endlinecolor": "#2a3f5f",
             "gridcolor": "white",
             "linecolor": "white",
             "minorgridcolor": "white",
             "startlinecolor": "#2a3f5f"
            },
            "type": "carpet"
           }
          ],
          "choropleth": [
           {
            "colorbar": {
             "outlinewidth": 0,
             "ticks": ""
            },
            "type": "choropleth"
           }
          ],
          "contour": [
           {
            "colorbar": {
             "outlinewidth": 0,
             "ticks": ""
            },
            "colorscale": [
             [
              0,
              "#0d0887"
             ],
             [
              0.1111111111111111,
              "#46039f"
             ],
             [
              0.2222222222222222,
              "#7201a8"
             ],
             [
              0.3333333333333333,
              "#9c179e"
             ],
             [
              0.4444444444444444,
              "#bd3786"
             ],
             [
              0.5555555555555556,
              "#d8576b"
             ],
             [
              0.6666666666666666,
              "#ed7953"
             ],
             [
              0.7777777777777778,
              "#fb9f3a"
             ],
             [
              0.8888888888888888,
              "#fdca26"
             ],
             [
              1,
              "#f0f921"
             ]
            ],
            "type": "contour"
           }
          ],
          "contourcarpet": [
           {
            "colorbar": {
             "outlinewidth": 0,
             "ticks": ""
            },
            "type": "contourcarpet"
           }
          ],
          "heatmap": [
           {
            "colorbar": {
             "outlinewidth": 0,
             "ticks": ""
            },
            "colorscale": [
             [
              0,
              "#0d0887"
             ],
             [
              0.1111111111111111,
              "#46039f"
             ],
             [
              0.2222222222222222,
              "#7201a8"
             ],
             [
              0.3333333333333333,
              "#9c179e"
             ],
             [
              0.4444444444444444,
              "#bd3786"
             ],
             [
              0.5555555555555556,
              "#d8576b"
             ],
             [
              0.6666666666666666,
              "#ed7953"
             ],
             [
              0.7777777777777778,
              "#fb9f3a"
             ],
             [
              0.8888888888888888,
              "#fdca26"
             ],
             [
              1,
              "#f0f921"
             ]
            ],
            "type": "heatmap"
           }
          ],
          "heatmapgl": [
           {
            "colorbar": {
             "outlinewidth": 0,
             "ticks": ""
            },
            "colorscale": [
             [
              0,
              "#0d0887"
             ],
             [
              0.1111111111111111,
              "#46039f"
             ],
             [
              0.2222222222222222,
              "#7201a8"
             ],
             [
              0.3333333333333333,
              "#9c179e"
             ],
             [
              0.4444444444444444,
              "#bd3786"
             ],
             [
              0.5555555555555556,
              "#d8576b"
             ],
             [
              0.6666666666666666,
              "#ed7953"
             ],
             [
              0.7777777777777778,
              "#fb9f3a"
             ],
             [
              0.8888888888888888,
              "#fdca26"
             ],
             [
              1,
              "#f0f921"
             ]
            ],
            "type": "heatmapgl"
           }
          ],
          "histogram": [
           {
            "marker": {
             "pattern": {
              "fillmode": "overlay",
              "size": 10,
              "solidity": 0.2
             }
            },
            "type": "histogram"
           }
          ],
          "histogram2d": [
           {
            "colorbar": {
             "outlinewidth": 0,
             "ticks": ""
            },
            "colorscale": [
             [
              0,
              "#0d0887"
             ],
             [
              0.1111111111111111,
              "#46039f"
             ],
             [
              0.2222222222222222,
              "#7201a8"
             ],
             [
              0.3333333333333333,
              "#9c179e"
             ],
             [
              0.4444444444444444,
              "#bd3786"
             ],
             [
              0.5555555555555556,
              "#d8576b"
             ],
             [
              0.6666666666666666,
              "#ed7953"
             ],
             [
              0.7777777777777778,
              "#fb9f3a"
             ],
             [
              0.8888888888888888,
              "#fdca26"
             ],
             [
              1,
              "#f0f921"
             ]
            ],
            "type": "histogram2d"
           }
          ],
          "histogram2dcontour": [
           {
            "colorbar": {
             "outlinewidth": 0,
             "ticks": ""
            },
            "colorscale": [
             [
              0,
              "#0d0887"
             ],
             [
              0.1111111111111111,
              "#46039f"
             ],
             [
              0.2222222222222222,
              "#7201a8"
             ],
             [
              0.3333333333333333,
              "#9c179e"
             ],
             [
              0.4444444444444444,
              "#bd3786"
             ],
             [
              0.5555555555555556,
              "#d8576b"
             ],
             [
              0.6666666666666666,
              "#ed7953"
             ],
             [
              0.7777777777777778,
              "#fb9f3a"
             ],
             [
              0.8888888888888888,
              "#fdca26"
             ],
             [
              1,
              "#f0f921"
             ]
            ],
            "type": "histogram2dcontour"
           }
          ],
          "mesh3d": [
           {
            "colorbar": {
             "outlinewidth": 0,
             "ticks": ""
            },
            "type": "mesh3d"
           }
          ],
          "parcoords": [
           {
            "line": {
             "colorbar": {
              "outlinewidth": 0,
              "ticks": ""
             }
            },
            "type": "parcoords"
           }
          ],
          "pie": [
           {
            "automargin": true,
            "type": "pie"
           }
          ],
          "scatter": [
           {
            "fillpattern": {
             "fillmode": "overlay",
             "size": 10,
             "solidity": 0.2
            },
            "type": "scatter"
           }
          ],
          "scatter3d": [
           {
            "line": {
             "colorbar": {
              "outlinewidth": 0,
              "ticks": ""
             }
            },
            "marker": {
             "colorbar": {
              "outlinewidth": 0,
              "ticks": ""
             }
            },
            "type": "scatter3d"
           }
          ],
          "scattercarpet": [
           {
            "marker": {
             "colorbar": {
              "outlinewidth": 0,
              "ticks": ""
             }
            },
            "type": "scattercarpet"
           }
          ],
          "scattergeo": [
           {
            "marker": {
             "colorbar": {
              "outlinewidth": 0,
              "ticks": ""
             }
            },
            "type": "scattergeo"
           }
          ],
          "scattergl": [
           {
            "marker": {
             "colorbar": {
              "outlinewidth": 0,
              "ticks": ""
             }
            },
            "type": "scattergl"
           }
          ],
          "scattermapbox": [
           {
            "marker": {
             "colorbar": {
              "outlinewidth": 0,
              "ticks": ""
             }
            },
            "type": "scattermapbox"
           }
          ],
          "scatterpolar": [
           {
            "marker": {
             "colorbar": {
              "outlinewidth": 0,
              "ticks": ""
             }
            },
            "type": "scatterpolar"
           }
          ],
          "scatterpolargl": [
           {
            "marker": {
             "colorbar": {
              "outlinewidth": 0,
              "ticks": ""
             }
            },
            "type": "scatterpolargl"
           }
          ],
          "scatterternary": [
           {
            "marker": {
             "colorbar": {
              "outlinewidth": 0,
              "ticks": ""
             }
            },
            "type": "scatterternary"
           }
          ],
          "surface": [
           {
            "colorbar": {
             "outlinewidth": 0,
             "ticks": ""
            },
            "colorscale": [
             [
              0,
              "#0d0887"
             ],
             [
              0.1111111111111111,
              "#46039f"
             ],
             [
              0.2222222222222222,
              "#7201a8"
             ],
             [
              0.3333333333333333,
              "#9c179e"
             ],
             [
              0.4444444444444444,
              "#bd3786"
             ],
             [
              0.5555555555555556,
              "#d8576b"
             ],
             [
              0.6666666666666666,
              "#ed7953"
             ],
             [
              0.7777777777777778,
              "#fb9f3a"
             ],
             [
              0.8888888888888888,
              "#fdca26"
             ],
             [
              1,
              "#f0f921"
             ]
            ],
            "type": "surface"
           }
          ],
          "table": [
           {
            "cells": {
             "fill": {
              "color": "#EBF0F8"
             },
             "line": {
              "color": "white"
             }
            },
            "header": {
             "fill": {
              "color": "#C8D4E3"
             },
             "line": {
              "color": "white"
             }
            },
            "type": "table"
           }
          ]
         },
         "layout": {
          "annotationdefaults": {
           "arrowcolor": "#2a3f5f",
           "arrowhead": 0,
           "arrowwidth": 1
          },
          "autotypenumbers": "strict",
          "coloraxis": {
           "colorbar": {
            "outlinewidth": 0,
            "ticks": ""
           }
          },
          "colorscale": {
           "diverging": [
            [
             0,
             "#8e0152"
            ],
            [
             0.1,
             "#c51b7d"
            ],
            [
             0.2,
             "#de77ae"
            ],
            [
             0.3,
             "#f1b6da"
            ],
            [
             0.4,
             "#fde0ef"
            ],
            [
             0.5,
             "#f7f7f7"
            ],
            [
             0.6,
             "#e6f5d0"
            ],
            [
             0.7,
             "#b8e186"
            ],
            [
             0.8,
             "#7fbc41"
            ],
            [
             0.9,
             "#4d9221"
            ],
            [
             1,
             "#276419"
            ]
           ],
           "sequential": [
            [
             0,
             "#0d0887"
            ],
            [
             0.1111111111111111,
             "#46039f"
            ],
            [
             0.2222222222222222,
             "#7201a8"
            ],
            [
             0.3333333333333333,
             "#9c179e"
            ],
            [
             0.4444444444444444,
             "#bd3786"
            ],
            [
             0.5555555555555556,
             "#d8576b"
            ],
            [
             0.6666666666666666,
             "#ed7953"
            ],
            [
             0.7777777777777778,
             "#fb9f3a"
            ],
            [
             0.8888888888888888,
             "#fdca26"
            ],
            [
             1,
             "#f0f921"
            ]
           ],
           "sequentialminus": [
            [
             0,
             "#0d0887"
            ],
            [
             0.1111111111111111,
             "#46039f"
            ],
            [
             0.2222222222222222,
             "#7201a8"
            ],
            [
             0.3333333333333333,
             "#9c179e"
            ],
            [
             0.4444444444444444,
             "#bd3786"
            ],
            [
             0.5555555555555556,
             "#d8576b"
            ],
            [
             0.6666666666666666,
             "#ed7953"
            ],
            [
             0.7777777777777778,
             "#fb9f3a"
            ],
            [
             0.8888888888888888,
             "#fdca26"
            ],
            [
             1,
             "#f0f921"
            ]
           ]
          },
          "colorway": [
           "#636efa",
           "#EF553B",
           "#00cc96",
           "#ab63fa",
           "#FFA15A",
           "#19d3f3",
           "#FF6692",
           "#B6E880",
           "#FF97FF",
           "#FECB52"
          ],
          "font": {
           "color": "#2a3f5f"
          },
          "geo": {
           "bgcolor": "white",
           "lakecolor": "white",
           "landcolor": "#E5ECF6",
           "showlakes": true,
           "showland": true,
           "subunitcolor": "white"
          },
          "hoverlabel": {
           "align": "left"
          },
          "hovermode": "closest",
          "mapbox": {
           "style": "light"
          },
          "paper_bgcolor": "white",
          "plot_bgcolor": "#E5ECF6",
          "polar": {
           "angularaxis": {
            "gridcolor": "white",
            "linecolor": "white",
            "ticks": ""
           },
           "bgcolor": "#E5ECF6",
           "radialaxis": {
            "gridcolor": "white",
            "linecolor": "white",
            "ticks": ""
           }
          },
          "scene": {
           "xaxis": {
            "backgroundcolor": "#E5ECF6",
            "gridcolor": "white",
            "gridwidth": 2,
            "linecolor": "white",
            "showbackground": true,
            "ticks": "",
            "zerolinecolor": "white"
           },
           "yaxis": {
            "backgroundcolor": "#E5ECF6",
            "gridcolor": "white",
            "gridwidth": 2,
            "linecolor": "white",
            "showbackground": true,
            "ticks": "",
            "zerolinecolor": "white"
           },
           "zaxis": {
            "backgroundcolor": "#E5ECF6",
            "gridcolor": "white",
            "gridwidth": 2,
            "linecolor": "white",
            "showbackground": true,
            "ticks": "",
            "zerolinecolor": "white"
           }
          },
          "shapedefaults": {
           "line": {
            "color": "#2a3f5f"
           }
          },
          "ternary": {
           "aaxis": {
            "gridcolor": "white",
            "linecolor": "white",
            "ticks": ""
           },
           "baxis": {
            "gridcolor": "white",
            "linecolor": "white",
            "ticks": ""
           },
           "bgcolor": "#E5ECF6",
           "caxis": {
            "gridcolor": "white",
            "linecolor": "white",
            "ticks": ""
           }
          },
          "title": {
           "x": 0.05
          },
          "xaxis": {
           "automargin": true,
           "gridcolor": "white",
           "linecolor": "white",
           "ticks": "",
           "title": {
            "standoff": 15
           },
           "zerolinecolor": "white",
           "zerolinewidth": 2
          },
          "yaxis": {
           "automargin": true,
           "gridcolor": "white",
           "linecolor": "white",
           "ticks": "",
           "title": {
            "standoff": 15
           },
           "zerolinecolor": "white",
           "zerolinewidth": 2
          }
         }
        },
        "title": {
         "text": "SMOTE Resampled Training Set Target Variable Distribution"
        },
        "xaxis": {
         "anchor": "y",
         "domain": [
          0,
          1
         ],
         "title": {
          "text": "Class"
         }
        },
        "yaxis": {
         "anchor": "x",
         "domain": [
          0,
          1
         ],
         "title": {
          "text": "Count"
         }
        }
       }
      }
     },
     "metadata": {},
     "output_type": "display_data"
    }
   ],
   "source": [
    "from imblearn.over_sampling import SMOTE\n",
    "\n",
    "smote = SMOTE()\n",
    "\n",
    "x_train_sm, y_train_sm = smote.fit_resample(X_train, y_train)\n",
    "\n",
    "# Create a data frame of the counts of the target variables of the training set after SMOTE oversampling\n",
    "y_train_sm_counts = y_train_sm.value_counts().reset_index()\n",
    "y_train_sm_counts.columns = ['Class', 'Count']\n",
    "\n",
    "# Pie Chart\n",
    "fig_pie_sm = px.pie(y_train_sm_counts, names='Class', values='Count', title='SMOTE Resampled Training Set Target Variable Distribution')\n",
    "\n",
    "# Bar Chart\n",
    "fig_bar_sm = px.bar(y_train_sm_counts, x='Class', y='Count', title='SMOTE Resampled Training Set Target Variable Distribution')\n",
    "\n",
    "# Show Images\n",
    "fig_pie_sm.show()\n",
    "fig_bar_sm.show()"
   ]
  },
  {
   "cell_type": "markdown",
   "metadata": {},
   "source": [
    "Use PCA to visualize the data again"
   ]
  },
  {
   "cell_type": "code",
   "execution_count": 131,
   "metadata": {},
   "outputs": [
    {
     "data": {
      "application/vnd.plotly.v1+json": {
       "config": {
        "plotlyServerURL": "https://plot.ly"
       },
       "data": [
        {
         "hovertemplate": "PCA1=%{x}<br>PCA2=%{y}<br>Class=%{marker.color}<extra></extra>",
         "legendgroup": "",
         "marker": {
          "color": [
           0,
           0,
           0,
           0,
           0,
           0,
           0,
           0,
           0,
           0,
           0,
           0,
           0,
           0,
           0,
           0,
           0,
           0,
           0,
           0,
           0,
           0,
           0,
           1,
           0,
           0,
           0,
           0,
           0,
           0,
           0,
           0,
           0,
           0,
           0,
           0,
           0,
           0,
           0,
           0,
           1,
           0,
           0,
           0,
           0,
           0,
           0,
           0,
           0,
           1,
           0,
           0,
           0,
           0,
           0,
           0,
           0,
           0,
           1,
           0,
           0,
           0,
           0,
           0,
           0,
           1,
           0,
           0,
           0,
           0,
           0,
           0,
           0,
           0,
           0,
           0,
           1,
           0,
           0,
           0,
           0,
           0,
           0,
           0,
           0,
           0,
           0,
           0,
           0,
           0,
           0,
           0,
           0,
           1,
           0,
           0,
           0,
           0,
           0,
           0,
           0,
           0,
           0,
           0,
           0,
           0,
           0,
           0,
           0,
           0,
           0,
           0,
           0,
           0,
           0,
           0,
           0,
           0,
           0,
           0,
           0,
           0,
           0,
           0,
           0,
           1,
           1,
           1,
           0,
           0,
           0,
           0,
           0,
           0,
           0,
           0,
           1,
           0,
           0,
           0,
           0,
           1,
           0,
           0,
           0,
           0,
           1,
           0,
           0,
           1,
           0,
           0,
           1,
           0,
           0,
           0,
           0,
           0,
           0,
           0,
           0,
           0,
           0,
           0,
           0,
           0,
           0,
           0,
           0,
           0,
           0,
           0,
           0,
           0,
           0,
           0,
           0,
           0,
           1,
           0,
           0,
           0,
           0,
           0,
           0,
           0,
           0,
           0,
           0,
           0,
           0,
           0,
           0,
           0,
           0,
           0,
           0,
           1,
           0,
           0,
           0,
           0,
           0,
           0,
           0,
           0,
           0,
           0,
           0,
           0,
           0,
           0,
           0,
           0,
           0,
           1,
           0,
           0,
           0,
           0,
           0,
           0,
           0,
           0,
           0,
           0,
           0,
           0,
           0,
           0,
           0,
           0,
           0,
           0,
           0,
           0,
           0,
           0,
           0,
           0,
           0,
           0,
           0,
           0,
           0,
           0,
           0,
           0,
           0,
           0,
           0,
           0,
           0,
           0,
           0,
           0,
           0,
           0,
           1,
           0,
           0,
           1,
           0,
           0,
           1,
           0,
           0,
           0,
           0,
           0,
           0,
           0,
           0,
           0,
           0,
           0,
           0,
           0,
           0,
           0,
           1,
           0,
           0,
           0,
           0,
           0,
           0,
           1,
           0,
           0,
           0,
           0,
           0,
           0,
           0,
           0,
           0,
           0,
           0,
           0,
           0,
           0,
           0,
           0,
           0,
           0,
           0,
           0,
           0,
           0,
           0,
           0,
           0,
           0,
           1,
           0,
           0,
           0,
           0,
           0,
           0,
           0,
           0,
           0,
           0,
           0,
           0,
           0,
           0,
           0,
           0,
           0,
           1,
           0,
           0,
           0,
           0,
           0,
           1,
           0,
           0,
           0,
           0,
           0,
           0,
           0,
           0,
           0,
           0,
           0,
           0,
           0,
           0,
           0,
           0,
           0,
           0,
           0,
           0,
           0,
           0,
           0,
           0,
           0,
           0,
           0,
           0,
           0,
           1,
           1,
           0,
           0,
           0,
           0,
           0,
           0,
           0,
           0,
           0,
           1,
           0,
           1,
           0,
           0,
           0,
           0,
           0,
           0,
           0,
           0,
           0,
           0,
           0,
           1,
           0,
           0,
           0,
           0,
           0,
           0,
           0,
           0,
           0,
           0,
           0,
           0,
           0,
           0,
           0,
           0,
           0,
           0,
           0,
           0,
           0,
           0,
           0,
           0,
           0,
           0,
           1,
           0,
           0,
           0,
           0,
           0,
           0,
           0,
           0,
           0,
           0,
           0,
           0,
           0,
           0,
           0,
           0,
           0,
           0,
           0,
           0,
           0,
           0,
           0,
           0,
           0,
           1,
           0,
           0,
           0,
           0,
           0,
           0,
           0,
           0,
           0,
           0,
           0,
           0,
           0,
           0,
           0,
           0,
           0,
           0,
           0,
           1,
           1,
           1,
           1,
           1,
           1,
           1,
           1,
           1,
           1,
           1,
           1,
           1,
           1,
           1,
           1,
           1,
           1,
           1,
           1,
           1,
           1,
           1,
           1,
           1,
           1,
           1,
           1,
           1,
           1,
           1,
           1,
           1,
           1,
           1,
           1,
           1,
           1,
           1,
           1,
           1,
           1,
           1,
           1,
           1,
           1,
           1,
           1,
           1,
           1,
           1,
           1,
           1,
           1,
           1,
           1,
           1,
           1,
           1,
           1,
           1,
           1,
           1,
           1,
           1,
           1,
           1,
           1,
           1,
           1,
           1,
           1,
           1,
           1,
           1,
           1,
           1,
           1,
           1,
           1,
           1,
           1,
           1,
           1,
           1,
           1,
           1,
           1,
           1,
           1,
           1,
           1,
           1,
           1,
           1,
           1,
           1,
           1,
           1,
           1,
           1,
           1,
           1,
           1,
           1,
           1,
           1,
           1,
           1,
           1,
           1,
           1,
           1,
           1,
           1,
           1,
           1,
           1,
           1,
           1,
           1,
           1,
           1,
           1,
           1,
           1,
           1,
           1,
           1,
           1,
           1,
           1,
           1,
           1,
           1,
           1,
           1,
           1,
           1,
           1,
           1,
           1,
           1,
           1,
           1,
           1,
           1,
           1,
           1,
           1,
           1,
           1,
           1,
           1,
           1,
           1,
           1,
           1,
           1,
           1,
           1,
           1,
           1,
           1,
           1,
           1,
           1,
           1,
           1,
           1,
           1,
           1,
           1,
           1,
           1,
           1,
           1,
           1,
           1,
           1,
           1,
           1,
           1,
           1,
           1,
           1,
           1,
           1,
           1,
           1,
           1,
           1,
           1,
           1,
           1,
           1,
           1,
           1,
           1,
           1,
           1,
           1,
           1,
           1,
           1,
           1,
           1,
           1,
           1,
           1,
           1,
           1,
           1,
           1,
           1,
           1,
           1,
           1,
           1,
           1,
           1,
           1,
           1,
           1,
           1,
           1,
           1,
           1,
           1,
           1,
           1,
           1,
           1,
           1,
           1,
           1,
           1,
           1,
           1,
           1,
           1,
           1,
           1,
           1,
           1,
           1,
           1,
           1,
           1,
           1,
           1,
           1,
           1,
           1,
           1,
           1,
           1,
           1,
           1,
           1,
           1,
           1,
           1,
           1,
           1,
           1,
           1,
           1,
           1,
           1,
           1,
           1,
           1,
           1,
           1,
           1,
           1,
           1,
           1,
           1,
           1,
           1,
           1,
           1,
           1,
           1,
           1,
           1,
           1,
           1,
           1,
           1,
           1,
           1,
           1,
           1,
           1,
           1,
           1,
           1,
           1,
           1,
           1,
           1,
           1,
           1,
           1,
           1,
           1,
           1,
           1,
           1,
           1,
           1,
           1,
           1,
           1,
           1,
           1,
           1,
           1,
           1,
           1,
           1,
           1,
           1,
           1,
           1,
           1,
           1,
           1,
           1,
           1,
           1,
           1,
           1,
           1,
           1,
           1,
           1,
           1,
           1,
           1,
           1,
           1,
           1,
           1,
           1,
           1,
           1,
           1,
           1,
           1,
           1,
           1,
           1,
           1,
           1,
           1,
           1,
           1,
           1,
           1,
           1,
           1,
           1,
           1,
           1,
           1,
           1,
           1,
           1,
           1,
           1,
           1,
           1,
           1,
           1,
           1,
           1,
           1,
           1,
           1,
           1,
           1,
           1,
           1,
           1,
           1,
           1,
           1,
           1,
           1,
           1,
           1,
           1,
           1,
           1,
           1,
           1
          ],
          "coloraxis": "coloraxis",
          "symbol": "circle"
         },
         "mode": "markers",
         "name": "",
         "orientation": "v",
         "showlegend": false,
         "type": "scatter",
         "x": [
          -0.7513548952187231,
          3.426258270621511,
          -0.689786829970184,
          -0.805457714511439,
          -0.4652381721798555,
          -0.29731810334760234,
          3.7712663718361847,
          0.2078875332055925,
          -0.46244182183388166,
          -0.7477150766165073,
          -1.0226454168483203,
          -0.24676535958299306,
          -1.036264166818209,
          -0.5988297708109624,
          -0.7316105972747183,
          5.187489716653807,
          -0.4567820805993761,
          -0.5394109065119883,
          -0.6166893025339701,
          -0.7013812268566166,
          3.8095123574200302,
          -0.313468212538915,
          -0.19657478657547214,
          -0.6388685429566826,
          -0.5809023736057368,
          -0.2178333584738762,
          -0.39376135547492036,
          7.460680671735298,
          -0.5489015332575518,
          -0.34141951627487144,
          -0.16732998697157236,
          -0.7517764606648291,
          -0.4979421962588884,
          -0.8587035936581658,
          -0.8918241643269976,
          -1.0893410692514238,
          1.8989219971423192,
          -0.6631825192002953,
          7.487557382973401,
          -1.2689178232834142,
          -1.8308601299204292,
          -1.22820047548082,
          -1.2239331614046272,
          -1.605023628406201,
          -0.2364010452790724,
          -0.9745590896524693,
          -0.303621751598422,
          -0.6054635001655193,
          -1.1905585963684022,
          -2.328258249234839,
          -0.5027606325691867,
          -0.30574874495255855,
          -1.8997801834624146,
          4.065215144922207,
          -0.8823259974619954,
          -0.24754319993825302,
          -0.02993330260254265,
          -1.4638297972736125,
          -1.8891019354468774,
          -0.9341125002675943,
          -0.5107828765363223,
          -1.0348378942282042,
          -0.6621991340107686,
          -0.36249085667654357,
          -1.1561165019260973,
          -1.764540012797877,
          -0.3837357677952847,
          -0.8810269478840461,
          -0.5636776906377164,
          -0.31004921812349084,
          -0.6825290703576445,
          -1.3723967899667333,
          -1.017295127626762,
          -0.7595564250933226,
          -0.16570445479433585,
          -0.4386326413963553,
          -0.6024937771606914,
          -0.23481208516236404,
          -0.9176511100360026,
          -0.8944689070322371,
          -0.8161401899088722,
          -0.5006573431473241,
          -1.9576143716502399,
          -1.268242121813436,
          -0.41886744892071104,
          -0.761873019619915,
          0.053175607268610654,
          -0.5440733693929809,
          -0.8998662665782702,
          -0.699120405682504,
          -0.5328495066479747,
          -0.11084935760495214,
          -0.7880669392789085,
          -1.900475159206859,
          -0.2467129068507809,
          -0.7344848236903145,
          6.239865146494568,
          6.531829038971519,
          7.57672878711813,
          6.360654514660373,
          -0.750691050233967,
          -0.5273512296590745,
          -0.7923255449254523,
          -0.4155870870447547,
          -0.5901802542057433,
          -0.9901782141230157,
          -0.3187721195784909,
          -1.8086687137997166,
          -0.9238875287852566,
          -1.586348465344107,
          -0.3427167545555964,
          0.07088037801664407,
          -0.13767382738585632,
          -0.1902711383246519,
          -0.934167448260765,
          -0.2771343791316106,
          -1.0546871817541683,
          -0.2530165551016005,
          -0.2648649240578051,
          -0.9802112907675363,
          13.885849695123333,
          0.07255104381049894,
          -0.558127708244488,
          -0.8309071062584683,
          -0.42666773071039615,
          4.25504727341077,
          -0.9217187216849803,
          -0.9396841792982095,
          -0.8399852087891873,
          -0.17211062264464155,
          -1.533174092698365,
          -0.6519689989990786,
          -0.7688955201732035,
          -0.712279160909579,
          -0.8358976814958311,
          4.069467121351466,
          -0.5336590479256456,
          -0.33960148557235953,
          -0.40273215399461776,
          -1.4272844831456082,
          -0.3218975870796948,
          -0.7693076133280146,
          3.6428637721174786,
          -0.5896981417146003,
          -0.49644056676950166,
          -0.3109508767529991,
          -0.47856451442983655,
          -0.8405114882180934,
          -1.0188847282786002,
          -0.8543982340638783,
          -0.5418301597161685,
          -0.5210200505015943,
          7.156805562418424,
          -0.8882086359042194,
          -0.86850411524539,
          -0.40668791458329384,
          0.03169172927553168,
          -1.0973997698834617,
          -0.32577681334053143,
          -2.0118785880374968,
          -1.5525753029590688,
          -0.742355197183619,
          -0.7118500193465658,
          -0.80060637029833,
          -0.2966832545926145,
          -0.7249836547604981,
          -1.1309551118316963,
          -0.21474755815851088,
          -0.19999210540059897,
          -0.5970182270820427,
          -0.251414637726287,
          7.39636951100018,
          -0.790727526547417,
          -0.17147577388965415,
          -0.3654929210286729,
          -0.5761609083489084,
          -0.5989011363529991,
          -0.6454086544943032,
          4.678929488780134,
          -0.47521125022471056,
          0.1455595245922893,
          -0.3924202924229094,
          -0.6813435761944537,
          -1.78964245819607,
          -0.9035895874098501,
          -0.3491442210806652,
          -0.5695565310623266,
          -0.20304620735976667,
          -0.20629276942483957,
          -0.1617987610729332,
          -0.26244567085362497,
          -0.15517585021538,
          -0.24512394673407262,
          -0.7048108047307475,
          -0.2839521398167258,
          -0.3076299649193106,
          -1.1015343764238563,
          -0.6777952551844645,
          -0.9459547942187226,
          -0.28458698857171366,
          -0.459017305848292,
          7.545905581646894,
          0.0894073167070826,
          -0.8484353712469799,
          -0.37943757436977277,
          -0.8252408817078937,
          -1.7954654699315047,
          -2.0991097994963774,
          -1.05776233133748,
          2.3380637872065533,
          -0.8548645790403215,
          -0.4289005978434185,
          -1.231597214382344,
          -1.0581704252763495,
          -1.8396331575493963,
          7.371676230272964,
          -0.20241135860477957,
          -0.4949976598012658,
          -0.8438092997581591,
          -0.3884394903848308,
          -0.6154181413537642,
          -0.4218382825633626,
          0.024451059405884396,
          -0.569893295281435,
          -0.4483033997505939,
          -0.1696913694404614,
          -0.7538855688481487,
          -0.928613669294054,
          -0.2657476698774893,
          -1.118789850323547,
          6.780079934544913,
          -0.9655462776587106,
          -0.8713921249400479,
          -1.2526682993012581,
          -1.4165602928192396,
          -0.7332056323965019,
          -0.8409547329009137,
          -1.5130678738728351,
          -0.3418864614681244,
          -0.8848985051259382,
          -0.41553463431254234,
          4.148807140457864,
          -0.4417579074836421,
          -0.28490792676874355,
          -1.0303054567836185,
          -0.6519780387862125,
          -0.6060325027460329,
          -0.15033734380701946,
          -0.42682284212019533,
          -0.27364027824501724,
          -0.7218569679047477,
          -1.2626820405148127,
          -0.21325718125767676,
          -1.9953437815019344,
          -0.38313390775495765,
          -2.1665365740370457,
          -0.9408989284443994,
          -0.902136025898706,
          -0.351876726977769,
          -1.0285376507151915,
          -1.4445131411172332,
          -2.2108894387378673,
          -0.6581397692701917,
          -0.41885554614623133,
          -0.24819705858804017,
          -0.8560500732035119,
          -0.6630818798304529,
          3.0432845919172538,
          -0.6731927560609523,
          -0.22213342311868764,
          4.996952246258481,
          -0.516233996825446,
          -0.6852413207908737,
          -0.8420479956025892,
          -1.3284083504782056,
          -0.5409668147016007,
          -0.368813832862361,
          -1.1290849443990925,
          -0.4877559368650652,
          -0.2863713930209061,
          -0.3537175932048016,
          -0.6403542898318069,
          -0.7996145791993512,
          -0.26906858171117803,
          -0.9287837496136742,
          -1.0259791664867566,
          7.193452640100478,
          -1.3692917819354582,
          -0.7966222409825352,
          -0.6875732839579796,
          -0.541985271125968,
          -0.54334775429084,
          -0.7023915515265673,
          -0.7513223192448371,
          -1.2597872680204825,
          -0.13028078033503285,
          -0.24028544032571192,
          -0.5343146484904342,
          -0.643131319056964,
          -0.477630503428891,
          -0.67958236912386,
          -0.7322680352980084,
          -0.8438938940152603,
          -0.710177548983673,
          -0.33939584272190754,
          -1.3277199218446754,
          -0.35129666441032414,
          -0.6978696209823535,
          -1.5171979513286928,
          -1.4202435221639262,
          -0.40654492298302136,
          -1.1212051738363122,
          3.2805864166956766,
          -1.011226189455129,
          -1.521717618260002,
          4.343725946226393,
          -1.366275921025751,
          -0.28727305165041417,
          6.282254696159341,
          -0.6523905644451887,
          -1.0856072419219591,
          -0.46122995885896706,
          -0.44864877128673086,
          -0.8637597634466718,
          -1.6741447376404277,
          0.15761707708782174,
          -0.5511064293194234,
          -0.6594717925350685,
          -0.8929543318774273,
          -1.1108860950792419,
          -0.9312131538800159,
          -0.17694912905300225,
          -1.5147236895892795,
          -0.5441193409150604,
          -0.3419389142003364,
          -0.9408036723276445,
          -1.114213038467533,
          -0.6223528403419579,
          -1.664898646774212,
          -1.2815325932716988,
          -1.6094424561232663,
          -0.553420777059179,
          -0.8546475351554259,
          -0.9164951587448179,
          -0.6743439765061001,
          4.162866542555723,
          -0.9507778878770766,
          -0.4870828165595138,
          -0.56620434456728,
          -0.18178763546136262,
          -1.3426751233565424,
          -1.9059017296476357,
          -0.639415229063082,
          -0.37766055259160997,
          -0.652863626991806,
          -1.299511044727568,
          -0.5833216268099167,
          3.399077852019042,
          -0.6493966536928435,
          -0.27669438020418546,
          -0.5156213829446826,
          -1.2762366855785015,
          -0.5337090550890603,
          -1.5449823481168516,
          -0.68762831163545,
          -0.648871484094833,
          -0.7421404131335289,
          -0.9670112556993316,
          -0.7340307501500977,
          -1.5188059125764917,
          -1.6711978246883568,
          -0.6747037718348212,
          -0.6883345259324738,
          -0.5075736631673547,
          -1.8796938120995954,
          -0.2133580689314751,
          -0.7501928575579758,
          -0.4957887675058658,
          -0.4263807974616315,
          -1.2001760223295748,
          -0.7043151870000147,
          -0.8236952177809825,
          -0.3760715924749016,
          -0.44730051211513977,
          -0.6998592144276027,
          5.852393391147753,
          -0.4258989486164632,
          6.740113736301232,
          6.64509656943428,
          -0.5631411843467854,
          -0.18184008819357486,
          -0.7413589756334751,
          -0.32111033299086644,
          7.991410334820281,
          -0.33444483185694207,
          -0.9148799784793425,
          -0.33150323435437984,
          -0.7092250589504112,
          -0.9152149606502628,
          -0.8422642451376565,
          -0.5657520056256679,
          7.043983474601927,
          -0.8091107267566084,
          4.481841157029083,
          -0.6636239429305427,
          -1.0525347384245094,
          -0.2824345452420541,
          -0.24531597761548962,
          -0.7601269287856627,
          7.5606927327610025,
          -0.4729400826944893,
          -0.5602990643839707,
          -0.6498767468762415,
          -1.4351760332897667,
          -0.16905652068547403,
          -0.8935523554679602,
          -0.2681669230816698,
          -0.17936838225718263,
          -0.3558159082119515,
          -0.1376062290311311,
          -0.7355474099814637,
          -0.719016494416036,
          -0.5152085199216896,
          -0.6748700575798344,
          -0.5185294317553781,
          -0.4958349733681273,
          -0.33697658951772747,
          10.35583422538867,
          -0.7304122653067794,
          -1.0841330602923651,
          -0.5710196535970417,
          -0.5770787254034335,
          -0.40468600656758236,
          -0.5235139913122109,
          -0.8628391920073396,
          -0.36070686735252416,
          -0.6522960000804221,
          -0.9633198938417569,
          7.336253709784549,
          -0.8086931576832839,
          -0.5806966664137625,
          11.29315271284085,
          -0.9714041859657518,
          -1.0804305600970416,
          -0.6616025988707219,
          -0.23723133836654448,
          7.779569650321409,
          -1.161267125959955,
          -0.8481574648359842,
          -0.524927981734982,
          -1.3191471801118735,
          -0.8704837488349975,
          -0.10949281338150323,
          -0.22979871067982977,
          -0.9063653591615752,
          -0.28511503768006613,
          -0.5233843557126039,
          -0.7228551087475941,
          -0.24886535018044,
          -0.3054775215896511,
          -0.7302730342825245,
          -0.16629296875285157,
          -0.7469599096470894,
          -0.6661090048676008,
          -1.8562930597310217,
          -0.4440509658234876,
          -1.1537397370680094,
          6.165968510410176,
          -0.7784970814635132,
          -1.6250474381574027,
          -0.8008010819698372,
          5.410277475709072,
          -0.7652191156721039,
          -1.3052290090264447,
          -0.6399306184266708,
          -0.5777230958287459,
          -0.7893434243757249,
          1.535396295044069,
          -0.6401394527318042,
          -1.658917348460431,
          -0.5664358049371641,
          -1.929982326942507,
          4.460274299325581,
          -0.5259647688131971,
          -0.826628492251058,
          -0.8826730256916686,
          -1.5176546113579135,
          0.9095867337285867,
          -1.4731242767349806,
          -0.641492396252918,
          -0.5060103430715618,
          -0.8776653330355869,
          4.687408164824754,
          -0.46353390675549816,
          -0.6680389777849077,
          5.441855921116696,
          1.472395475361513,
          2.2105726674337363,
          -2.065208145061832,
          -0.29941358798341433,
          -0.6902703008671721,
          -0.8581780948868645,
          -0.9068747609109269,
          -0.5327287954650626,
          -0.023267982640728116,
          -0.9233765003867453,
          -1.8422295350795606,
          -1.5872196325226449,
          -0.8466354244994457,
          -0.6050324257793315,
          -0.9389293567671229,
          0.6144058706200163,
          0.45249742957625866,
          5.118669109488922,
          -0.6707336904428084,
          -0.7869250423416554,
          -0.6665431548563524,
          -1.5382378976241085,
          -1.2143537330728384,
          -0.8500937881346198,
          -0.7259922713262221,
          -0.5898331450948839,
          -2.1220890157324495,
          -0.3729783407960417,
          -1.8906939435450867,
          -1.595137298105973,
          -0.7963338617964205,
          5.16387147382764,
          -0.544350504286054,
          -0.6473081298816284,
          -0.6579167460435354,
          6.040575995781541,
          -0.6426999797998015,
          4.854790525801084,
          -0.9010780408072452,
          -1.8075820764389292,
          3.505276407861725,
          7.294297513372745,
          2.6843157052897886,
          -0.35041362054872177,
          -2.0597720534194943,
          1.902349730848493,
          -0.6403948055033549,
          -0.3623201473439963,
          -0.7728633829521467,
          -0.7377000639342934,
          -1.560711147105675,
          -0.7685322342109301,
          1.2435674219912785,
          -0.7978380444321688,
          -0.904617526049382,
          -1.8002840691623405,
          -0.32358732708071597,
          -1.6495531802436025,
          -1.071814304593602,
          -1.645947681683292,
          -1.8438265040595803,
          -1.7363970312263959,
          -1.510698041253389,
          -1.1818747869603852,
          -0.6821891702422737,
          -1.088482349484454,
          -1.032808844313553,
          -1.5200116002272663,
          -1.7971501191648245,
          4.9407841663504835,
          -0.6611735636022559,
          -1.4333057165382472,
          -1.1386260841287956,
          -1.6186964357941866,
          -0.6592468667170391,
          2.516193417759218,
          2.1545356168431695,
          -0.43261972335479243,
          -0.3274434024772544,
          -1.6270378361151518,
          -1.7901925211155445,
          -0.7805230521645091,
          1.9736325079840162,
          -0.6442218016927735,
          -0.9577127453206192,
          5.55142915798306,
          -1.678966872722588,
          -1.4383797759426011,
          -1.7717793960013681,
          -0.7360902761354629,
          -0.7655811725125828,
          -0.37636997814619905,
          -0.6378326754954666,
          -0.9022472603993517,
          2.470133051706461,
          -1.5068242958304976,
          -0.2828579183728005,
          2.954154098931842,
          -1.3276439122388222,
          4.902719077304832,
          -0.6288210834024133,
          1.899521561906516,
          -1.0563562457731217,
          -0.3071958500022018,
          -1.355950567069756,
          -1.362510570606839,
          -0.6833651275042528,
          -1.614713224945891,
          3.9126214204540313,
          -0.8554754787509768,
          -0.784564697620178,
          -1.4492200743283665,
          5.364033299013356,
          0.7673095674112991,
          7.31431290585072,
          -1.6636836188954183,
          -0.6402696348947872,
          1.317652447243843,
          -1.4450449395209741,
          -1.8537559753413995,
          -0.7828314875279457,
          -0.7447459396771999,
          2.318144396841948,
          0.480445931478073,
          -0.7213777658984439,
          -1.8385740746392167,
          -0.7016073792959749,
          -0.8715794599930314,
          -1.2913152612809868,
          -0.7459365834943877,
          -1.5737754057942304,
          -0.7479891304860625,
          -0.9728106639451866,
          0.5090108523493225,
          -0.3978687219379482,
          -0.8768570300769312,
          3.514716191577624,
          -1.5211678141246656,
          -1.5844452478384718,
          3.4552089488749735,
          -2.0675649905638114,
          -1.9077491061073533,
          1.5139714913070628,
          -0.7727589357935191,
          -0.6362071688682899,
          2.9568537977006244,
          5.157592996728261,
          -1.9754665966408123,
          1.2092769009319988,
          -1.4447957226901522,
          -0.8474689157182717,
          -0.6832487743922226,
          -0.2865133434870184,
          4.821782789506583,
          -0.49618182269960315,
          6.247150156728125,
          -1.359998225692737,
          -1.2118062530987253,
          -0.35996571918253145,
          3.8250174466938955,
          -0.7608449580864196,
          -0.5842430271919591,
          -0.7723383792524201,
          1.617353915452767,
          -0.6394899146081492,
          -0.943758630747742,
          1.2527067243044905,
          -0.9001149545959611,
          -0.975799789108315,
          -0.5398907837407764,
          2.9294723227134,
          -1.954203552710173,
          -0.6646971598537439,
          -0.40191126901426893,
          -0.5752724620226564,
          3.3817887276346053,
          -0.35325752017383,
          -0.5797905913784024,
          -0.599760056244457,
          -1.9248229194449966,
          2.441454232178205,
          -0.9594474310052488,
          -0.7253823508502746,
          -0.24470796972628284,
          -0.46827128103632415,
          -0.7692076394081417,
          -0.8890412135401335,
          -1.2969009624387948,
          -1.5900606866241238,
          5.263529248830554,
          2.315584608965034,
          7.726941831353144,
          -1.0431900005960961,
          0.7945904601675622,
          -0.7064246019939493,
          -0.6391353186984956,
          -1.196416735135212,
          -1.197577451841201,
          -0.7700002555774125,
          -0.5455174042265887,
          5.470974406385515,
          -0.4401696043288422,
          7.534520597758627,
          -0.5675423976999601,
          -0.8959198484506017,
          -1.8119966385333848,
          -0.49855339076319427,
          -1.3415079784790378,
          -0.6614254251578521,
          -1.3327501418336916,
          -0.3827428655198752,
          -1.4169846933437786,
          -0.6461072926744237,
          -0.7523603633538981,
          6.355250814246982,
          -0.7991835264361508,
          -1.7507764111423327,
          0.7084826864590854,
          -1.688424069001255,
          -1.005893408263952,
          1.7662326866371538,
          -0.5243427904383482,
          -0.6844592387341808,
          -0.37148240574636787,
          -0.9608258788270886,
          -0.9300236703327515,
          -0.47490710902887573,
          -1.7974514272421833,
          5.801661594289359,
          -0.5524140120969957,
          -0.7017705476972146,
          -0.3494400660675315,
          1.0234279891092184,
          -0.41568525280778384,
          -0.6390580098839944,
          -0.3778489583995981,
          -0.5567396256977752,
          3.453234059112703,
          -1.1861324488135112,
          2.1981802031201085,
          -0.4816275016230002,
          7.286450804606856,
          -0.5257801844653912,
          6.364728234475132,
          -0.5915756633979518,
          -0.8721407659282567,
          -1.4572612721155467,
          -0.6166026844861561,
          5.076508353361029,
          -1.0829126376202025,
          -0.7111941659805416,
          -1.8241244718025282,
          -0.8568936323234266,
          -0.6566109408826275,
          -0.6599996028290785,
          2.967201383379998,
          -1.7673155097664808,
          6.330087357407104,
          -0.649325890819906,
          3.0879823920330414,
          -0.5570262341864045,
          -0.6556269274006034,
          -0.5578835715885352,
          -1.3267466660628133,
          0.2915587188029524,
          7.4007317127082555,
          -0.5948863663587893,
          2.802253323680758,
          1.2590142015501213,
          1.0645845036267005,
          -1.8229344508249758,
          -1.5535304590971095,
          -0.7083797656917282,
          -0.9459378349903422,
          -0.3088108056320307,
          -0.3188899673912283,
          -0.5401434180894286,
          -0.744082100550179,
          -0.2718538884052172,
          -1.4811291373297137,
          0.9857387589089042,
          -1.698846163869264,
          -1.1015676998066133,
          -1.3567675531272592,
          -1.4230880529977104,
          -1.592500134050709,
          -0.9700644256560275,
          -0.6469488297263963,
          -1.7608515477898512,
          -0.4236404251512982,
          -1.8477692180201093,
          -1.43839528409404,
          -1.318324564389485,
          -1.3403912342164588,
          -1.0499167149597861,
          -0.7979809692790475,
          0.9017568581078009,
          -0.5389356740603274,
          -0.0751325551243492,
          0.8387874629269902,
          -0.9901504230104106,
          -0.6088668246249506,
          -0.37382210887785544,
          -0.7208162876318678,
          -0.9374227506495036,
          -1.5146690275068373,
          0.9300188488953031,
          0.8577141485453205,
          6.320300158113559,
          -1.8286503254887765,
          -0.5563632652312325,
          1.1062666726170673,
          -1.5367847560593428,
          -0.37245312349525517,
          6.790222943567369,
          -0.46040602037064565,
          -1.203585669647193,
          -0.7001046810806901,
          -0.5193695424526922,
          -0.6468003214626801,
          -0.7328364347570893,
          1.675215800495031,
          1.0283201693904154,
          -0.8507787633037684,
          1.7734358038766307,
          -0.6477725696046572,
          2.4250350474656166,
          -1.7714879635878376,
          -0.9890065760777654,
          3.724315115046873,
          -1.1327003860537368,
          -0.6036751042445414,
          3.2722517147726577,
          -0.10992066643978186,
          -0.6575539752355283,
          -0.7979146306196505,
          -0.6510096567498941,
          -1.090296399617934,
          -2.1614480816565975,
          -0.519261149758294,
          -0.37037757301000473,
          -1.7999587250320275,
          -0.33159401780711506,
          -0.7994377188666624,
          -0.5822999583293537,
          -1.5157905205154887,
          -0.5997953995129193,
          -0.5809185345278082,
          7.523404067768421,
          6.629259427776937,
          -0.769197148998926,
          -0.6391250663249963,
          -0.3237769337967654,
          -0.9128192535868218,
          -0.8593546464570707,
          -1.6831529056376329,
          2.5661320335114026,
          4.016702838788529,
          -0.7190621820247073,
          1.4572275800023982,
          4.3315007780996915,
          -0.9691760969276112,
          -1.442128606278637,
          5.6867912460440735,
          -1.8592824300996018,
          -0.9666430375631627,
          6.608245139748877,
          -1.6313520108573705,
          -0.636859247270075,
          6.473195917016931
         ],
         "xaxis": "x",
         "y": [
          -1.2043286498843828,
          3.074599374294673,
          -1.440355985586519,
          -1.1447434729571295,
          -1.1307789249979678,
          -1.691955817783788,
          4.018063728814597,
          1.41252351443476,
          -2.096049897436623,
          -1.2040331106976838,
          -0.6803479285143818,
          -1.7731121515880315,
          -0.3145192300284388,
          -1.901507428348185,
          -1.2462931795253271,
          0.9295810173402929,
          -1.1524388227579432,
          -1.9264000956498515,
          -1.795155296504954,
          -0.9881968457650925,
          0.4304688190638642,
          -1.2632579492449962,
          -2.244199646508821,
          -1.0319058250468323,
          -1.936474179081703,
          -1.9811633461462979,
          -1.0576161878572692,
          -1.0268737088630127,
          -0.9987236732652229,
          0.8784160555727635,
          3.0402894577117,
          -1.30185940605332,
          1.0441220077477613,
          2.8070868477969864,
          -0.9600257888497199,
          -0.0808150402517002,
          0.8249092057108787,
          -1.456838292210201,
          1.6932338097874213,
          0.4168859451040722,
          2.6502020315448034,
          1.4429971262451016,
          0.053231872572654,
          0.8613265420327183,
          -1.9111614915913964,
          -0.756591785116605,
          -1.8434026160788846,
          -1.7976137658266338,
          0.6325750104963229,
          1.9330891398140844,
          -2.0914624826797876,
          2.040955684822204,
          0.9903608197135124,
          0.6742019014981441,
          -0.653818833601982,
          -2.1247763413354304,
          -0.462668225260194,
          1.0607769651820984,
          1.209483133424017,
          -0.6538717638945516,
          -1.962118118644452,
          -0.2076647606947998,
          -1.4297940269129377,
          -0.22809912161625648,
          0.54101196334748,
          2.5529923951022866,
          5.026500480530057,
          -0.7292122469146817,
          -1.872256808872179,
          -1.6768064443533708,
          -1.3471039084131158,
          0.7332173068857228,
          0.8835197620221062,
          -1.351654196642492,
          1.4529421479157598,
          0.44406941202813904,
          -1.116443870596484,
          -2.1399257147658473,
          -0.443084120113551,
          0.5552671623233855,
          -0.9517379084891764,
          1.3135271424747232,
          -0.34705280882903744,
          0.8163147764522685,
          6.309339110486583,
          -1.2207977599334563,
          0.7329245727378286,
          -1.7499262086507381,
          -0.4350919208276908,
          -1.2457719183449014,
          -0.9491678012443855,
          -1.7893001743021235,
          -0.9158539425887438,
          1.0007025270697256,
          -1.8649280924365126,
          -1.268100695262253,
          1.7927891751900502,
          4.805008107133774,
          1.994812436649435,
          2.119330950895117,
          -1.2859370483399422,
          2.2989864608507005,
          -0.17861823184646983,
          -1.245556478528998,
          -1.7956780803431642,
          -0.4372847751990392,
          -1.8593372683729372,
          1.8308727855300435,
          -0.5220598163291237,
          1.2204578753904842,
          -1.8315757155144228,
          -0.6474338582420558,
          -0.16544646513340638,
          -2.0927528482137223,
          0.3161015003494122,
          -0.20444461898357116,
          -0.2638246253045841,
          -2.01637489073161,
          -1.833193209250758,
          -0.4663194821629186,
          1.5547503738787904,
          -0.8220108027115114,
          -1.8659288111160501,
          -1.1792314626573295,
          -2.172582043452339,
          -2.7926015799682467,
          7.222973282754404,
          -0.23933378984114767,
          -1.0517887994056312,
          -2.157477860796233,
          1.7375084284480091,
          -1.4694504716382992,
          -1.1623862243057064,
          -1.25852894932081,
          -1.0217711294828145,
          -1.0691998678300205,
          1.9092495333955455,
          1.5424754715077842,
          -1.578748821980027,
          1.2032124712579566,
          -1.493624762872518,
          4.639616571542311,
          -1.0816619079579703,
          -1.556659111598644,
          -1.196269449312857,
          -1.7104276640801568,
          -1.1120537596436095,
          0.02543806853072324,
          -0.3569618254295134,
          -0.27580184132547614,
          -1.9574841213743188,
          -0.9979383944015879,
          -0.04225597089171605,
          -0.6327944290606873,
          -1.1099926347357387,
          -1.472884565378526,
          1.4823934090532647,
          -0.1681697755312107,
          1.5727164978318255,
          -0.30715191202930847,
          3.131278220271663,
          -0.18102100444643995,
          -1.5667414072449786,
          -1.1473621580692268,
          -1.8625253198365417,
          3.78885968467159,
          0.729228432736745,
          0.22224234766845605,
          -2.158263139659869,
          -1.4515584218388997,
          3.037285874988873,
          3.0933545880961186,
          -1.0289772293517463,
          -2.3280473628489884,
          -1.5660022211495812,
          -1.5185056253385707,
          -1.6752803991760525,
          -1.6500456101743957,
          3.9479919934720913,
          -2.138265248186181,
          0.29230906705760995,
          -1.624982221134911,
          -1.3972291467854618,
          0.03163777248716819,
          0.4073269879818515,
          -1.6649795437889081,
          -1.888144878652933,
          -2.0187776633315813,
          0.3893833499201714,
          -2.203711259951117,
          -1.8021091835262903,
          -1.9398896807249588,
          -2.093692315610962,
          -1.5463455493819565,
          -1.8776746932669581,
          -1.6457224186289028,
          0.11956533342015707,
          -0.757900338437538,
          -0.540314434176317,
          -1.7071051912142035,
          -2.1305826052149097,
          -1.2202919660498017,
          -0.7497232534650599,
          -0.8791325102874019,
          -1.990831634448416,
          -1.0852032208287026,
          2.0831331063891287,
          3.137329954941529,
          0.004448120534634808,
          2.2666797986226133,
          -1.0866831732377829,
          -1.1516535438943083,
          0.6843119796881841,
          0.18387330894787154,
          2.7042316918447784,
          -0.8343358417687455,
          -2.1893471653843353,
          -2.116752968403156,
          -0.41061931378107824,
          -1.6552612008644878,
          -1.7584253487563364,
          -1.488819217672578,
          -0.049240117816480196,
          -0.5314966511231587,
          -0.9131907449266943,
          -2.1263938350717653,
          -1.4406972052925817,
          -0.640121753757365,
          -2.001225517301194,
          0.5326050581552922,
          0.17422126753028755,
          -0.7274317709587894,
          -0.805834998248589,
          0.668085305946223,
          0.4537074504277831,
          -0.9479046045882595,
          -1.1567954002421312,
          1.6522336725843858,
          -1.5717274666155048,
          -0.9143617560463447,
          -1.3373724193774796,
          0.768373678937531,
          -2.2238129703664344,
          -1.491867983885842,
          -0.14587373954233607,
          -1.4415762093993145,
          -1.858587387850842,
          -1.8777216292760235,
          -2.242706565037362,
          -1.923908092421843,
          0.3721671555238268,
          0.4969473622894571,
          0.5236236621024362,
          -0.2085371574377752,
          -1.3867938699959688,
          1.2333894663439209,
          -0.8543774447603456,
          -0.9137923896948359,
          0.5061723903441547,
          -0.5565088150666526,
          0.6791492007362792,
          1.6196662625170382,
          -1.634896236743979,
          -1.4020776648287332,
          -1.4203724484602904,
          -1.0365579348654368,
          -1.5978263349633743,
          -1.2736245020431185,
          2.3849858777727664,
          -2.0632591473477815,
          2.0720770098497945,
          -0.8439544021041713,
          2.34367628240933,
          0.16238635085669192,
          9.992319220419365,
          -1.9812276258275063,
          -1.630707466600835,
          -0.28271918241679544,
          0.7626509219552714,
          -1.908758718991426,
          -1.1953448851988806,
          -1.6279897584279306,
          -1.25375831271735,
          -2.0659307627524477,
          -0.8333684044616572,
          -0.6802664374046032,
          -1.0621247927087467,
          -1.781227799873097,
          0.4045730918401186,
          -1.546914915733465,
          -2.0276086429593416,
          -1.9549469273720013,
          -1.5152615236574887,
          -0.3068345746543223,
          0.19762734100389337,
          -2.421165018620043,
          -2.0315242641620266,
          -1.0384465480905487,
          -1.5770883554003614,
          -2.169349273910648,
          -0.4248001796489579,
          -1.3366316530637972,
          -0.8452157513739227,
          0.1560209224894641,
          -1.7668704700631688,
          0.6779229928243587,
          -1.4918728477338346,
          -1.452499834126761,
          1.3354893965103134,
          0.8910532822758437,
          -0.9506508735783724,
          -0.29524987073511494,
          1.3611811796071291,
          -0.5553171520710661,
          3.5225186170493727,
          0.0399497569649105,
          2.269286257588882,
          -1.9423799387182121,
          1.925266710338388,
          -1.5669812278072415,
          -0.0769427453881124,
          -1.3284591224479503,
          -1.8052222294207625,
          -0.8307805958428254,
          3.1635569836311146,
          -0.4625127666458601,
          -0.7338010363616688,
          -1.0954044657053212,
          2.2418393782207753,
          0.717023679147655,
          -0.6866972746122404,
          -2.219645912245169,
          -1.0754612584170027,
          0.4467045690371242,
          -1.479911525767024,
          0.6245453246309893,
          0.04289876600209231,
          -1.7762151193207285,
          0.23380699514734749,
          0.4175257625629437,
          1.6916220258146923,
          -0.9485169437830988,
          -0.6777080915969083,
          -0.40603320507142665,
          -1.3498040846349906,
          3.3543210774510395,
          -0.43928116366705794,
          -1.1843081273460463,
          -0.8415516295042013,
          -2.2818139636941037,
          0.927447897534389,
          0.7573844740311468,
          -1.6388478550493415,
          -1.4951953205997883,
          0.38544581933385375,
          0.31039939185849263,
          -1.9675582048061702,
          2.1654812499375113,
          -1.671170429515486,
          -1.784422616093555,
          -2.0242861700933874,
          0.2570861020225416,
          -1.8879755486541037,
          1.3051318956611389,
          -1.6830870334042107,
          -1.672877626576083,
          -0.7990307302178866,
          0.5711911400574542,
          3.054897483590881,
          1.859056531222666,
          1.2864250712746337,
          -1.5707471610696309,
          -1.2862905021793243,
          -2.0314790733877173,
          -0.22710761241814664,
          -1.9725442641766973,
          -1.0736768438110524,
          4.92591396148416,
          2.0604792552035844,
          0.04897746530739772,
          -1.562073403372293,
          -0.8716588028828226,
          -1.723959543774238,
          -1.4585204708117452,
          -1.1527489502582278,
          -1.1885381214749007,
          -1.199323079374114,
          0.2682916458258737,
          2.3359534063249705,
          -1.602631880163315,
          -2.1899980228456233,
          -1.1444022532510665,
          0.5544541484787158,
          0.2612891678855776,
          0.004681977079570455,
          -0.8338562797033875,
          -1.8441878949425206,
          -1.3980144256490972,
          5.510824887438775,
          -0.5369022579861009,
          -1.9205395267876508,
          -0.6637658657080986,
          -1.2570367627784114,
          0.8947464749103736,
          -1.15877954439245,
          -0.43693132135965757,
          -1.880211887269276,
          -0.7301377133119409,
          -1.0765089563362074,
          -1.257906283235084,
          0.8500639140933669,
          -1.5584110267373275,
          -1.6072608930733292,
          2.4892718280861312,
          -2.29696333712452,
          -0.5764199176128516,
          -2.0323095430256615,
          -2.2507299379696364,
          -1.4416661182517096,
          -1.892871002706439,
          -0.7260142951170889,
          -1.055397333569719,
          -1.128376152397998,
          -1.4499409281025646,
          -1.1930813978492518,
          -2.0457984498764126,
          -1.7357864443387006,
          0.4500757454889208,
          -1.3612051544587056,
          -0.015538260780934178,
          -1.6744951203124179,
          -1.7058746852235793,
          -1.07592158002549,
          -1.946968745214036,
          -0.9315704644396897,
          -1.4120182288521645,
          -1.6383449187977976,
          -0.8987774376667679,
          1.7028356818612767,
          0.054770179116507695,
          -1.798831223210289,
          2.367643133875032,
          -0.5748024238765168,
          -0.03681100133176736,
          -1.6577282531456667,
          -2.1710097404903137,
          0.9843800419093662,
          -0.1604415124879247,
          -1.1138753597447884,
          -2.0436695044412576,
          1.0686880826775578,
          0.21218670981758564,
          -0.6359123006830967,
          0.3827947511269226,
          -1.016956470074462,
          -0.03112232190720449,
          -1.9989956843700194,
          -0.17172334860771094,
          -1.691821396381439,
          -1.818829114683977,
          -1.5160468025211236,
          -1.0149063468884956,
          -1.3950331724892064,
          -1.6723082602245745,
          -0.37047581375548405,
          -1.1675881961883596,
          0.5182709975934838,
          -1.6009451208905892,
          -1.554229905134699,
          2.0846099004617695,
          5.60036773990335,
          0.6554626813879081,
          0.2856373066655271,
          0.6085634042799021,
          -1.020651794671204,
          1.5925266440725219,
          -0.6480238545888682,
          -2.4671350162088457,
          -1.0184389315745095,
          2.919433577614568,
          -1.2313251369627158,
          0.9084240274029298,
          -0.18582701997891604,
          -1.3244027624264814,
          -0.8486738134031666,
          -0.5477909948376901,
          1.8490681075440336,
          2.5831676419900353,
          1.1172369587753836,
          -1.0096729457346705,
          -1.4011353116193037,
          0.07383875773816025,
          -2.585062653166056,
          -1.1243744710525871,
          -0.29801022207297184,
          -0.05075289576175027,
          1.9678461301815087,
          0.06448373981853671,
          1.1738261537046684,
          -1.4748863367518992,
          -0.3267479582945497,
          -0.3048799218193699,
          -0.3295709675473177,
          -0.9976582673232153,
          1.4569057567235992,
          -0.2591868227431162,
          0.9186421940169817,
          3.1921750408897904,
          5.711443084272505,
          -1.001857945536555,
          -1.8198019581658313,
          -1.1492705565382915,
          -2.0871267780485603,
          -2.2591615806276826,
          -0.873972333922031,
          5.459134776266867,
          -0.808792839623312,
          1.895380467237717,
          0.35375942983342734,
          -2.0596695496777877,
          -0.8030438024470175,
          1.5272862983616673,
          1.388691762601471,
          -0.3774733476208522,
          0.8062329071291373,
          3.17030667919235,
          -0.12620887265890018,
          -0.2749003464544932,
          -1.0606134469955768,
          -1.6462679068874404,
          -0.28492552960186573,
          0.8222727485394908,
          -0.8875326948460105,
          0.09965083822550823,
          6.7991254845045335,
          2.393783449445963,
          -0.9972934456785876,
          0.3016971090431312,
          0.4369033481313708,
          -1.2885538178926388,
          1.2266021157355562,
          0.6059671545544522,
          -1.0157331466008925,
          -0.05457649599281636,
          -0.9254450967933732,
          -0.9626521859715087,
          1.9613210079562022,
          -0.5081223533345582,
          2.739118649505262,
          4.672116133349796,
          -0.2820240724062207,
          0.5671053017789843,
          -1.5006163994542703,
          2.127667049093077,
          0.678775780448419,
          1.984820884026798,
          2.5987254684234165,
          2.4184071772544766,
          1.82506278780798,
          3.8552353831225163,
          -0.8886072755686459,
          1.9712659571694615,
          -0.5559807276226644,
          2.785076327744208,
          2.5380482437555436,
          3.507933545826192,
          -0.9451222879004377,
          1.503580237089105,
          -0.12999043499139767,
          2.072738061176817,
          -0.8573467964805225,
          3.98455850690575,
          1.1616993511608784,
          0.16931104412806147,
          -1.2982882036051027,
          2.157800699721613,
          2.327411620647118,
          4.1788624104244985,
          -2.620919803032315,
          -0.963066175472456,
          0.47878120075495034,
          -0.19287320425201698,
          2.1854007402197344,
          0.9846253988241036,
          2.5321031426784786,
          -0.8306077586423577,
          -0.5119311326618736,
          0.6847868723924203,
          -1.0466380484704996,
          -1.9102575462933566,
          0.20569447477385666,
          1.3149195867220684,
          -1.8518299037586516,
          3.857721294899012,
          1.0635726879879122,
          -2.405861481954579,
          -0.9908502129120719,
          -0.994390858208017,
          2.915164709421994,
          -1.820537058619769,
          3.495787346099502,
          1.4906489045665974,
          -0.8750021877125177,
          2.0652923012282898,
          -0.9980297688681,
          5.739267528706411,
          4.290744257256524,
          3.8431988113512356,
          -0.23253580778253738,
          -1.104441653808866,
          1.3918754054247813,
          2.0943719741805547,
          -1.0170594872148746,
          1.4519242841428452,
          1.089433555018902,
          2.566046711479574,
          4.220701211290979,
          0.18917811038679444,
          1.6130146407581316,
          1.3069191190032101,
          -1.425803437048173,
          2.5120725925799112,
          -0.841274272453332,
          6.292820946949392,
          4.774883086261849,
          3.4113445008018917,
          1.9618102308332885,
          2.9340345048936003,
          -0.13760327942768166,
          -0.6278518534403764,
          -1.5224709405163641,
          -0.2821401121312218,
          0.11803092573418314,
          1.8601439141353802,
          1.9817552163175842,
          -0.5442140947076087,
          1.24687194890597,
          0.8505942683757828,
          -2.647351030536189,
          -0.9255556146527226,
          -1.0150452203334879,
          0.0041772309879853165,
          0.3204452156921332,
          0.9603926748983025,
          -2.3526939909771025,
          1.0172949632177513,
          5.805765680859892,
          0.8340307862726359,
          -1.461155564758699,
          0.5654296049964265,
          -0.9411570237287112,
          2.326550458611925,
          2.3250675984981184,
          0.5253324918536382,
          0.5816818839857464,
          0.26354612330592714,
          0.06751099694734986,
          -1.0028660125933186,
          -0.926000614873583,
          -0.317538179380493,
          -1.025321607975857,
          -0.6630736002603594,
          0.019401058674451778,
          -0.2875055207284215,
          0.43063877935526146,
          1.9822240007314016,
          3.862373348593488,
          0.9156338097956276,
          -0.8179401748156667,
          -1.0360252334842401,
          1.1567158734807235,
          0.24462088350746064,
          -1.2848863206997883,
          -1.198393129758213,
          0.06229505554740986,
          0.8537873589658771,
          3.9986454470565334,
          -0.18609754118229582,
          -1.610431781800437,
          -1.575239335496029,
          -1.4941973061561762,
          0.4712948746825869,
          -0.3009867369531693,
          1.7492952355468734,
          -0.7457304504362253,
          -0.10072298412588075,
          1.6140920922299535,
          1.0304741447383203,
          -0.4074886093497791,
          1.6559179593228468,
          -0.824915036242342,
          -1.0290789992828635,
          0.11472821396672263,
          0.09442702694524768,
          0.48043611635682426,
          2.101045856461808,
          0.6297898389260439,
          -1.155993324969434,
          0.023157633896751705,
          1.6398464404764406,
          -1.9258605195643224,
          2.487986571224818,
          1.5752189847856637,
          1.1217003384738253,
          -0.9442962276973865,
          4.530405252440714,
          -1.1184325337187337,
          2.7588270504171915,
          -1.6589922930426204,
          4.995085887308123,
          0.37158351160661396,
          -0.4675366794993369,
          2.5051698682425694,
          -1.1720370020614002,
          2.641154146801619,
          0.39337350865063664,
          -0.7574641230470525,
          -1.3559287265933586,
          -1.6537334360378326,
          -0.28170537141262164,
          -0.6307278795663801,
          -0.40914543221549926,
          -1.4701796961097218,
          2.460797412578785,
          -0.13991114860009532,
          1.9325518881503783,
          -1.10750763656839,
          0.2647157840504909,
          -2.2874763424986626,
          -1.2043794237018564,
          -1.0298981837676613,
          -1.1893457773126033,
          -1.1646080676661033,
          0.04325521428662737,
          0.5730426904588469,
          -0.9541455118020297,
          -0.06625816352143453,
          1.4162784414035232,
          -1.352384209377559,
          -0.02073728299957073,
          -1.1370742583551532,
          -0.42803549294990134,
          1.1954196373617412,
          -1.0465309486646635,
          -2.3471062053325986,
          0.21412592126726224,
          -0.6787013935604264,
          2.6196936588515354,
          6.409601435264405,
          -0.9242072804860092,
          -0.7882013276933525,
          0.00628906156525738,
          2.520635863408562,
          0.7914412156079652,
          1.6001588089779633,
          -0.7142652613316477,
          -0.4414059402877512,
          -0.8386313900670124,
          1.735128872854858,
          1.0036297908851919,
          0.8662179859124112,
          -0.45254193345593896,
          -0.9057697598195754,
          -2.9693064446454005,
          0.7010546306946445,
          4.302449473119869,
          2.5845423709286273,
          1.5414839322698188,
          1.0384042808730556,
          -0.27915432288739733,
          -1.4848885543796104,
          -1.3236936349101727,
          1.985182383045822,
          -1.2068919016398127,
          1.5309250822677811,
          1.1477896225480906,
          -1.6817849640770133,
          2.2095025473997945,
          0.048324112350913065,
          1.1036062519531749,
          0.9617051844037621,
          2.058928120892211,
          -0.6559362418331713,
          -1.6500751456150204,
          2.36542419177838,
          0.08920872354918288,
          2.5548557503223215,
          0.9855812856469572,
          1.6155809571584994,
          0.9976858396092613,
          0.6606090960225183,
          -0.8988676205906857,
          -0.5819040672447927,
          -0.9667217173126532,
          1.6237784281191368,
          -2.4786153175932344,
          -0.7101720199101397,
          -0.22152022987227205,
          -1.2090371599088974,
          -0.08680254835761562,
          0.08833774017176764,
          2.34363135799398,
          -2.501415017093044,
          -2.2293244442932316,
          -0.030140549368639854,
          2.5794826302869662,
          -0.9819752518738291,
          -0.0030026242634936897,
          1.6871880911297592,
          -1.1906871931614953,
          -1.176874502234827,
          -1.0456491556473415,
          0.21593208929820878,
          -0.8422600149657271,
          -1.0065230048636846,
          -1.6516487781469134,
          0.8774093125506149,
          -2.516200137266026,
          -2.5259815688771154,
          -2.057980446875242,
          0.9650793688282331,
          -1.641346581710173,
          -0.10436123712555337,
          2.5510977353513637,
          -0.5487872576366286,
          0.07252420446200397,
          2.6635501100605725,
          -1.1105901197507289,
          3.797765837241534,
          6.570031574114706,
          -0.8533363183325038,
          2.501739029783972,
          -0.9784580581746474,
          -0.43343942134860347,
          1.4910667317884914,
          -1.0668507130347793,
          -1.1551599521497038,
          2.5650065261019632,
          -1.285960037017526,
          -0.4678652661061955,
          6.936880442032193,
          3.456335317686491,
          -0.6275811202618885,
          2.111566066809047,
          0.6076828249999997,
          -1.2862207785232105,
          5.215234544180014,
          -1.0291876361227519,
          -1.5008182131940937,
          7.1376194977552805,
          6.0301070470525815,
          1.9188666693199052,
          3.930856204923378,
          0.22048098353610596,
          -0.7802088767580605,
          3.3295141454203705,
          0.16878399225300272,
          -0.6584615646474857,
          2.9397331979355092,
          0.8268273576744825,
          2.5911114982771704,
          -1.7514618810216367,
          -1.3004962752619347,
          2.0963949494310183,
          -1.7041000446729344,
          -1.3922383669332257
         ],
         "yaxis": "y"
        }
       ],
       "layout": {
        "coloraxis": {
         "colorbar": {
          "title": {
           "text": "Class"
          }
         },
         "colorscale": [
          [
           0,
           "#0d0887"
          ],
          [
           0.1111111111111111,
           "#46039f"
          ],
          [
           0.2222222222222222,
           "#7201a8"
          ],
          [
           0.3333333333333333,
           "#9c179e"
          ],
          [
           0.4444444444444444,
           "#bd3786"
          ],
          [
           0.5555555555555556,
           "#d8576b"
          ],
          [
           0.6666666666666666,
           "#ed7953"
          ],
          [
           0.7777777777777778,
           "#fb9f3a"
          ],
          [
           0.8888888888888888,
           "#fdca26"
          ],
          [
           1,
           "#f0f921"
          ]
         ]
        },
        "legend": {
         "tracegroupgap": 0
        },
        "template": {
         "data": {
          "bar": [
           {
            "error_x": {
             "color": "#2a3f5f"
            },
            "error_y": {
             "color": "#2a3f5f"
            },
            "marker": {
             "line": {
              "color": "#E5ECF6",
              "width": 0.5
             },
             "pattern": {
              "fillmode": "overlay",
              "size": 10,
              "solidity": 0.2
             }
            },
            "type": "bar"
           }
          ],
          "barpolar": [
           {
            "marker": {
             "line": {
              "color": "#E5ECF6",
              "width": 0.5
             },
             "pattern": {
              "fillmode": "overlay",
              "size": 10,
              "solidity": 0.2
             }
            },
            "type": "barpolar"
           }
          ],
          "carpet": [
           {
            "aaxis": {
             "endlinecolor": "#2a3f5f",
             "gridcolor": "white",
             "linecolor": "white",
             "minorgridcolor": "white",
             "startlinecolor": "#2a3f5f"
            },
            "baxis": {
             "endlinecolor": "#2a3f5f",
             "gridcolor": "white",
             "linecolor": "white",
             "minorgridcolor": "white",
             "startlinecolor": "#2a3f5f"
            },
            "type": "carpet"
           }
          ],
          "choropleth": [
           {
            "colorbar": {
             "outlinewidth": 0,
             "ticks": ""
            },
            "type": "choropleth"
           }
          ],
          "contour": [
           {
            "colorbar": {
             "outlinewidth": 0,
             "ticks": ""
            },
            "colorscale": [
             [
              0,
              "#0d0887"
             ],
             [
              0.1111111111111111,
              "#46039f"
             ],
             [
              0.2222222222222222,
              "#7201a8"
             ],
             [
              0.3333333333333333,
              "#9c179e"
             ],
             [
              0.4444444444444444,
              "#bd3786"
             ],
             [
              0.5555555555555556,
              "#d8576b"
             ],
             [
              0.6666666666666666,
              "#ed7953"
             ],
             [
              0.7777777777777778,
              "#fb9f3a"
             ],
             [
              0.8888888888888888,
              "#fdca26"
             ],
             [
              1,
              "#f0f921"
             ]
            ],
            "type": "contour"
           }
          ],
          "contourcarpet": [
           {
            "colorbar": {
             "outlinewidth": 0,
             "ticks": ""
            },
            "type": "contourcarpet"
           }
          ],
          "heatmap": [
           {
            "colorbar": {
             "outlinewidth": 0,
             "ticks": ""
            },
            "colorscale": [
             [
              0,
              "#0d0887"
             ],
             [
              0.1111111111111111,
              "#46039f"
             ],
             [
              0.2222222222222222,
              "#7201a8"
             ],
             [
              0.3333333333333333,
              "#9c179e"
             ],
             [
              0.4444444444444444,
              "#bd3786"
             ],
             [
              0.5555555555555556,
              "#d8576b"
             ],
             [
              0.6666666666666666,
              "#ed7953"
             ],
             [
              0.7777777777777778,
              "#fb9f3a"
             ],
             [
              0.8888888888888888,
              "#fdca26"
             ],
             [
              1,
              "#f0f921"
             ]
            ],
            "type": "heatmap"
           }
          ],
          "heatmapgl": [
           {
            "colorbar": {
             "outlinewidth": 0,
             "ticks": ""
            },
            "colorscale": [
             [
              0,
              "#0d0887"
             ],
             [
              0.1111111111111111,
              "#46039f"
             ],
             [
              0.2222222222222222,
              "#7201a8"
             ],
             [
              0.3333333333333333,
              "#9c179e"
             ],
             [
              0.4444444444444444,
              "#bd3786"
             ],
             [
              0.5555555555555556,
              "#d8576b"
             ],
             [
              0.6666666666666666,
              "#ed7953"
             ],
             [
              0.7777777777777778,
              "#fb9f3a"
             ],
             [
              0.8888888888888888,
              "#fdca26"
             ],
             [
              1,
              "#f0f921"
             ]
            ],
            "type": "heatmapgl"
           }
          ],
          "histogram": [
           {
            "marker": {
             "pattern": {
              "fillmode": "overlay",
              "size": 10,
              "solidity": 0.2
             }
            },
            "type": "histogram"
           }
          ],
          "histogram2d": [
           {
            "colorbar": {
             "outlinewidth": 0,
             "ticks": ""
            },
            "colorscale": [
             [
              0,
              "#0d0887"
             ],
             [
              0.1111111111111111,
              "#46039f"
             ],
             [
              0.2222222222222222,
              "#7201a8"
             ],
             [
              0.3333333333333333,
              "#9c179e"
             ],
             [
              0.4444444444444444,
              "#bd3786"
             ],
             [
              0.5555555555555556,
              "#d8576b"
             ],
             [
              0.6666666666666666,
              "#ed7953"
             ],
             [
              0.7777777777777778,
              "#fb9f3a"
             ],
             [
              0.8888888888888888,
              "#fdca26"
             ],
             [
              1,
              "#f0f921"
             ]
            ],
            "type": "histogram2d"
           }
          ],
          "histogram2dcontour": [
           {
            "colorbar": {
             "outlinewidth": 0,
             "ticks": ""
            },
            "colorscale": [
             [
              0,
              "#0d0887"
             ],
             [
              0.1111111111111111,
              "#46039f"
             ],
             [
              0.2222222222222222,
              "#7201a8"
             ],
             [
              0.3333333333333333,
              "#9c179e"
             ],
             [
              0.4444444444444444,
              "#bd3786"
             ],
             [
              0.5555555555555556,
              "#d8576b"
             ],
             [
              0.6666666666666666,
              "#ed7953"
             ],
             [
              0.7777777777777778,
              "#fb9f3a"
             ],
             [
              0.8888888888888888,
              "#fdca26"
             ],
             [
              1,
              "#f0f921"
             ]
            ],
            "type": "histogram2dcontour"
           }
          ],
          "mesh3d": [
           {
            "colorbar": {
             "outlinewidth": 0,
             "ticks": ""
            },
            "type": "mesh3d"
           }
          ],
          "parcoords": [
           {
            "line": {
             "colorbar": {
              "outlinewidth": 0,
              "ticks": ""
             }
            },
            "type": "parcoords"
           }
          ],
          "pie": [
           {
            "automargin": true,
            "type": "pie"
           }
          ],
          "scatter": [
           {
            "fillpattern": {
             "fillmode": "overlay",
             "size": 10,
             "solidity": 0.2
            },
            "type": "scatter"
           }
          ],
          "scatter3d": [
           {
            "line": {
             "colorbar": {
              "outlinewidth": 0,
              "ticks": ""
             }
            },
            "marker": {
             "colorbar": {
              "outlinewidth": 0,
              "ticks": ""
             }
            },
            "type": "scatter3d"
           }
          ],
          "scattercarpet": [
           {
            "marker": {
             "colorbar": {
              "outlinewidth": 0,
              "ticks": ""
             }
            },
            "type": "scattercarpet"
           }
          ],
          "scattergeo": [
           {
            "marker": {
             "colorbar": {
              "outlinewidth": 0,
              "ticks": ""
             }
            },
            "type": "scattergeo"
           }
          ],
          "scattergl": [
           {
            "marker": {
             "colorbar": {
              "outlinewidth": 0,
              "ticks": ""
             }
            },
            "type": "scattergl"
           }
          ],
          "scattermapbox": [
           {
            "marker": {
             "colorbar": {
              "outlinewidth": 0,
              "ticks": ""
             }
            },
            "type": "scattermapbox"
           }
          ],
          "scatterpolar": [
           {
            "marker": {
             "colorbar": {
              "outlinewidth": 0,
              "ticks": ""
             }
            },
            "type": "scatterpolar"
           }
          ],
          "scatterpolargl": [
           {
            "marker": {
             "colorbar": {
              "outlinewidth": 0,
              "ticks": ""
             }
            },
            "type": "scatterpolargl"
           }
          ],
          "scatterternary": [
           {
            "marker": {
             "colorbar": {
              "outlinewidth": 0,
              "ticks": ""
             }
            },
            "type": "scatterternary"
           }
          ],
          "surface": [
           {
            "colorbar": {
             "outlinewidth": 0,
             "ticks": ""
            },
            "colorscale": [
             [
              0,
              "#0d0887"
             ],
             [
              0.1111111111111111,
              "#46039f"
             ],
             [
              0.2222222222222222,
              "#7201a8"
             ],
             [
              0.3333333333333333,
              "#9c179e"
             ],
             [
              0.4444444444444444,
              "#bd3786"
             ],
             [
              0.5555555555555556,
              "#d8576b"
             ],
             [
              0.6666666666666666,
              "#ed7953"
             ],
             [
              0.7777777777777778,
              "#fb9f3a"
             ],
             [
              0.8888888888888888,
              "#fdca26"
             ],
             [
              1,
              "#f0f921"
             ]
            ],
            "type": "surface"
           }
          ],
          "table": [
           {
            "cells": {
             "fill": {
              "color": "#EBF0F8"
             },
             "line": {
              "color": "white"
             }
            },
            "header": {
             "fill": {
              "color": "#C8D4E3"
             },
             "line": {
              "color": "white"
             }
            },
            "type": "table"
           }
          ]
         },
         "layout": {
          "annotationdefaults": {
           "arrowcolor": "#2a3f5f",
           "arrowhead": 0,
           "arrowwidth": 1
          },
          "autotypenumbers": "strict",
          "coloraxis": {
           "colorbar": {
            "outlinewidth": 0,
            "ticks": ""
           }
          },
          "colorscale": {
           "diverging": [
            [
             0,
             "#8e0152"
            ],
            [
             0.1,
             "#c51b7d"
            ],
            [
             0.2,
             "#de77ae"
            ],
            [
             0.3,
             "#f1b6da"
            ],
            [
             0.4,
             "#fde0ef"
            ],
            [
             0.5,
             "#f7f7f7"
            ],
            [
             0.6,
             "#e6f5d0"
            ],
            [
             0.7,
             "#b8e186"
            ],
            [
             0.8,
             "#7fbc41"
            ],
            [
             0.9,
             "#4d9221"
            ],
            [
             1,
             "#276419"
            ]
           ],
           "sequential": [
            [
             0,
             "#0d0887"
            ],
            [
             0.1111111111111111,
             "#46039f"
            ],
            [
             0.2222222222222222,
             "#7201a8"
            ],
            [
             0.3333333333333333,
             "#9c179e"
            ],
            [
             0.4444444444444444,
             "#bd3786"
            ],
            [
             0.5555555555555556,
             "#d8576b"
            ],
            [
             0.6666666666666666,
             "#ed7953"
            ],
            [
             0.7777777777777778,
             "#fb9f3a"
            ],
            [
             0.8888888888888888,
             "#fdca26"
            ],
            [
             1,
             "#f0f921"
            ]
           ],
           "sequentialminus": [
            [
             0,
             "#0d0887"
            ],
            [
             0.1111111111111111,
             "#46039f"
            ],
            [
             0.2222222222222222,
             "#7201a8"
            ],
            [
             0.3333333333333333,
             "#9c179e"
            ],
            [
             0.4444444444444444,
             "#bd3786"
            ],
            [
             0.5555555555555556,
             "#d8576b"
            ],
            [
             0.6666666666666666,
             "#ed7953"
            ],
            [
             0.7777777777777778,
             "#fb9f3a"
            ],
            [
             0.8888888888888888,
             "#fdca26"
            ],
            [
             1,
             "#f0f921"
            ]
           ]
          },
          "colorway": [
           "#636efa",
           "#EF553B",
           "#00cc96",
           "#ab63fa",
           "#FFA15A",
           "#19d3f3",
           "#FF6692",
           "#B6E880",
           "#FF97FF",
           "#FECB52"
          ],
          "font": {
           "color": "#2a3f5f"
          },
          "geo": {
           "bgcolor": "white",
           "lakecolor": "white",
           "landcolor": "#E5ECF6",
           "showlakes": true,
           "showland": true,
           "subunitcolor": "white"
          },
          "hoverlabel": {
           "align": "left"
          },
          "hovermode": "closest",
          "mapbox": {
           "style": "light"
          },
          "paper_bgcolor": "white",
          "plot_bgcolor": "#E5ECF6",
          "polar": {
           "angularaxis": {
            "gridcolor": "white",
            "linecolor": "white",
            "ticks": ""
           },
           "bgcolor": "#E5ECF6",
           "radialaxis": {
            "gridcolor": "white",
            "linecolor": "white",
            "ticks": ""
           }
          },
          "scene": {
           "xaxis": {
            "backgroundcolor": "#E5ECF6",
            "gridcolor": "white",
            "gridwidth": 2,
            "linecolor": "white",
            "showbackground": true,
            "ticks": "",
            "zerolinecolor": "white"
           },
           "yaxis": {
            "backgroundcolor": "#E5ECF6",
            "gridcolor": "white",
            "gridwidth": 2,
            "linecolor": "white",
            "showbackground": true,
            "ticks": "",
            "zerolinecolor": "white"
           },
           "zaxis": {
            "backgroundcolor": "#E5ECF6",
            "gridcolor": "white",
            "gridwidth": 2,
            "linecolor": "white",
            "showbackground": true,
            "ticks": "",
            "zerolinecolor": "white"
           }
          },
          "shapedefaults": {
           "line": {
            "color": "#2a3f5f"
           }
          },
          "ternary": {
           "aaxis": {
            "gridcolor": "white",
            "linecolor": "white",
            "ticks": ""
           },
           "baxis": {
            "gridcolor": "white",
            "linecolor": "white",
            "ticks": ""
           },
           "bgcolor": "#E5ECF6",
           "caxis": {
            "gridcolor": "white",
            "linecolor": "white",
            "ticks": ""
           }
          },
          "title": {
           "x": 0.05
          },
          "xaxis": {
           "automargin": true,
           "gridcolor": "white",
           "linecolor": "white",
           "ticks": "",
           "title": {
            "standoff": 15
           },
           "zerolinecolor": "white",
           "zerolinewidth": 2
          },
          "yaxis": {
           "automargin": true,
           "gridcolor": "white",
           "linecolor": "white",
           "ticks": "",
           "title": {
            "standoff": 15
           },
           "zerolinecolor": "white",
           "zerolinewidth": 2
          }
         }
        },
        "title": {
         "text": "PCA Visualization of SMOTE Resampled Training Set"
        },
        "xaxis": {
         "anchor": "y",
         "domain": [
          0,
          1
         ],
         "title": {
          "text": "PCA1"
         }
        },
        "yaxis": {
         "anchor": "x",
         "domain": [
          0,
          1
         ],
         "title": {
          "text": "PCA2"
         }
        }
       }
      }
     },
     "metadata": {},
     "output_type": "display_data"
    }
   ],
   "source": [
    "from sklearn.decomposition import PCA\n",
    "from sklearn.preprocessing import StandardScaler\n",
    "\n",
    "# Perform SMOTE oversampling\n",
    "smote = SMOTE()\n",
    "X_train_sm, y_train_sm = smote.fit_resample(X_train, y_train)\n",
    "\n",
    "# Standardized data\n",
    "scaler = StandardScaler()\n",
    "X_train_sm_scaled = scaler.fit_transform(X_train_sm)\n",
    "\n",
    "# Dimensionality reduction using PCA\n",
    "pca = PCA(n_components=2)\n",
    "X_train_sm_pca = pca.fit_transform(X_train_sm_scaled)\n",
    "\n",
    "# Combine the downscaled data and the target variable into a data frame\n",
    "df_pca = pd.DataFrame(data={'PCA1': X_train_sm_pca[:, 0], 'PCA2': X_train_sm_pca[:, 1], 'Class': y_train_sm})\n",
    "\n",
    "# Create scatter graph\n",
    "fig = px.scatter(df_pca, x='PCA1', y='PCA2', color='Class', title='PCA Visualization of SMOTE oversampling Training Set')\n",
    "\n",
    "# show image\n",
    "fig.show()"
   ]
  }
 ],
 "metadata": {
  "kernelspec": {
   "display_name": "mai644",
   "language": "python",
   "name": "python3"
  },
  "language_info": {
   "codemirror_mode": {
    "name": "ipython",
    "version": 3
   },
   "file_extension": ".py",
   "mimetype": "text/x-python",
   "name": "python",
   "nbconvert_exporter": "python",
   "pygments_lexer": "ipython3",
   "version": "3.10.13"
  },
  "vscode": {
   "interpreter": {
    "hash": "32bdd95e8c4ecada84a0073ec4e8d048a8aaf2397f6888f3b1d4c4db30935bf8"
   }
  }
 },
 "nbformat": 4,
 "nbformat_minor": 2
}
