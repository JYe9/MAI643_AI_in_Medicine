{
 "cells": [
  {
   "cell_type": "markdown",
   "metadata": {},
   "source": [
    "MAI643 - Artificial Intelligence in Medicine\n",
    "\n",
    "Project Assignment 1 - Spring Semester 2024\n",
    "\n",
    "Student Name:    \n",
    "Christina Ioanna Saroglaki   \n",
    "Jianlin Ye \n",
    "\n",
    "UCY Email:     \n",
    "saroglaki.christina-ioanna@ucy.ac.cy    \n",
    "jye00001@ucy.ac.cy "
   ]
  },
  {
   "cell_type": "markdown",
   "metadata": {},
   "source": [
    "### Import Libararies"
   ]
  },
  {
   "cell_type": "code",
   "execution_count": 68,
   "metadata": {},
   "outputs": [],
   "source": [
    "import pandas as pd \n",
    "import numpy as np\n",
    "from sklearn.decomposition import PCA\n",
    "from sklearn.preprocessing import StandardScaler\n",
    "from sklearn.model_selection import train_test_split\n",
    "from imblearn.over_sampling import SMOTE\n",
    "\n",
    "# Visualization\n",
    "import plotly.express as px\n",
    "import plotly.graph_objects as go\n",
    "from plotly.subplots import make_subplots\n",
    "\n",
    "np.set_printoptions(formatter={'float':\"{:6.5g}\".format})"
   ]
  },
  {
   "cell_type": "markdown",
   "metadata": {},
   "source": [
    "# Overview\n",
    "\n",
    "As per the authors, the chosen dataset focuses on indicators associated with the diagnosis of cervical cancer, encompassing various features such as demographic information, habits, and medical records​. In more detail, the data was gathered at \"Hospital Universitario de Caracas\" in Venezuela from a total of 858 patients​.\n",
    "\n",
    "C. J. Fernandes Kelwin and J. Fernandes, “Cervical cancer (Risk Factors),” UCI Machine \n",
    "Learning Repository. 2017."
   ]
  },
  {
   "cell_type": "code",
   "execution_count": 69,
   "metadata": {},
   "outputs": [
    {
     "name": "stdout",
     "output_type": "stream",
     "text": [
      "----------------------------------- Information -----------------------------------\n",
      "<class 'pandas.core.frame.DataFrame'>\n",
      "RangeIndex: 858 entries, 0 to 857\n",
      "Data columns (total 36 columns):\n",
      " #   Column                              Non-Null Count  Dtype  \n",
      "---  ------                              --------------  -----  \n",
      " 0   Age                                 858 non-null    int64  \n",
      " 1   Number of sexual partners           832 non-null    float64\n",
      " 2   First sexual intercourse            851 non-null    float64\n",
      " 3   Num of pregnancies                  802 non-null    float64\n",
      " 4   Smokes                              845 non-null    float64\n",
      " 5   Smokes (years)                      845 non-null    float64\n",
      " 6   Smokes (packs/year)                 845 non-null    float64\n",
      " 7   Hormonal Contraceptives             750 non-null    float64\n",
      " 8   Hormonal Contraceptives (years)     750 non-null    float64\n",
      " 9   IUD                                 741 non-null    float64\n",
      " 10  IUD (years)                         741 non-null    float64\n",
      " 11  STDs                                753 non-null    float64\n",
      " 12  STDs (number)                       753 non-null    float64\n",
      " 13  STDs:condylomatosis                 753 non-null    float64\n",
      " 14  STDs:cervical condylomatosis        753 non-null    float64\n",
      " 15  STDs:vaginal condylomatosis         753 non-null    float64\n",
      " 16  STDs:vulvo-perineal condylomatosis  753 non-null    float64\n",
      " 17  STDs:syphilis                       753 non-null    float64\n",
      " 18  STDs:pelvic inflammatory disease    753 non-null    float64\n",
      " 19  STDs:genital herpes                 753 non-null    float64\n",
      " 20  STDs:molluscum contagiosum          753 non-null    float64\n",
      " 21  STDs:AIDS                           753 non-null    float64\n",
      " 22  STDs:HIV                            753 non-null    float64\n",
      " 23  STDs:Hepatitis B                    753 non-null    float64\n",
      " 24  STDs:HPV                            753 non-null    float64\n",
      " 25  STDs: Number of diagnosis           858 non-null    int64  \n",
      " 26  STDs: Time since first diagnosis    71 non-null     float64\n",
      " 27  STDs: Time since last diagnosis     71 non-null     float64\n",
      " 28  Dx:Cancer                           858 non-null    int64  \n",
      " 29  Dx:CIN                              858 non-null    int64  \n",
      " 30  Dx:HPV                              858 non-null    int64  \n",
      " 31  Dx                                  858 non-null    int64  \n",
      " 32  Hinselmann                          858 non-null    int64  \n",
      " 33  Schiller                            858 non-null    int64  \n",
      " 34  Citology                            858 non-null    int64  \n",
      " 35  Biopsy                              858 non-null    int64  \n",
      "dtypes: float64(26), int64(10)\n",
      "memory usage: 241.4 KB\n"
     ]
    }
   ],
   "source": [
    "risk_factor_df = pd.read_csv(\"risk_factors_cervical_cancer.csv\", \n",
    "            na_values=[\"?\"])\n",
    "\n",
    "print(\"----------------------------------- Information -----------------------------------\")\n",
    "risk_factor_df.info()"
   ]
  },
  {
   "cell_type": "markdown",
   "metadata": {},
   "source": [
    "## Preliminary analysis of the dataset\n",
    "\n",
    "To gain a better understanding of the dataset, we conducted a preliminary analysis.\n",
    "### Missing Values\n",
    "\n",
    "First, we needed to find the volume of missing values contained in the dataset as well as the features that contained the largest amount."
   ]
  },
  {
   "cell_type": "code",
   "execution_count": 70,
   "metadata": {},
   "outputs": [
    {
     "name": "stdout",
     "output_type": "stream",
     "text": [
      "----------------------------------- Missing Values -----------------------------------\n",
      "\n",
      "NaN values found in the dataset.\n",
      "\n",
      "Total NaN values in dataset: 3622/30888\n",
      "\n",
      "Top 15 columns with missing values:\n",
      "\n",
      " 1. STDs: Time since last diagnosis     : 787\n",
      " 2. STDs: Time since first diagnosis    : 787\n",
      " 3. IUD                                 : 117\n",
      " 4. IUD (years)                         : 117\n",
      " 5. Hormonal Contraceptives             : 108\n",
      " 6. Hormonal Contraceptives (years)     : 108\n",
      " 7. STDs:pelvic inflammatory disease    : 105\n",
      " 8. STDs:vulvo-perineal condylomatosis  : 105\n",
      " 9. STDs:HPV                            : 105\n",
      "10. STDs:Hepatitis B                    : 105\n",
      "11. STDs:HIV                            : 105\n",
      "12. STDs:AIDS                           : 105\n",
      "13. STDs:molluscum contagiosum          : 105\n",
      "14. STDs:genital herpes                 : 105\n",
      "15. STDs:syphilis                       : 105\n"
     ]
    }
   ],
   "source": [
    "print(\"----------------------------------- Missing Values -----------------------------------\")\n",
    "missing_info = risk_factor_df.isnull().sum()\n",
    "total_nan = missing_info.sum()\n",
    "total_entries = risk_factor_df.size\n",
    "\n",
    "# Print total NaN values\n",
    "if (total_nan == 0):\n",
    "    print(\"\\nNo NaN values in the dataset.\")\n",
    "else:\n",
    "    print(\"\\nNaN values found in the dataset.\")\n",
    "\n",
    "    print(\"\\nTotal NaN values in dataset: {}/{}\".format(total_nan, total_entries))\n",
    "\n",
    "    # Sort columns by the number of missing values\n",
    "    nan_columns = missing_info.sort_values(ascending=False)\n",
    "\n",
    "    print(\"\\nTop 15 columns with missing values:\\n\")\n",
    "    for i, (col, count) in enumerate(nan_columns.head(15).items(), 1):\n",
    "        print(\"{:2}. {:35} : {:}\".format(i, col, count))"
   ]
  },
  {
   "cell_type": "code",
   "execution_count": 71,
   "metadata": {},
   "outputs": [
    {
     "data": {
      "application/vnd.plotly.v1+json": {
       "config": {
        "plotlyServerURL": "https://plot.ly"
       },
       "data": [
        {
         "domain": {
          "x": [
           0,
           1
          ],
          "y": [
           0,
           1
          ]
         },
         "hovertemplate": "label=%{label}<br>value=%{value}<extra></extra>",
         "labels": [
          "NaN values",
          "Valid Values"
         ],
         "legendgroup": "",
         "name": "",
         "showlegend": true,
         "type": "pie",
         "values": [
          3622,
          27266
         ]
        }
       ],
       "layout": {
        "height": 350,
        "legend": {
         "tracegroupgap": 0
        },
        "margin": {
         "b": 50,
         "l": 50,
         "r": 50,
         "t": 50
        },
        "piecolorway": [
         "rgb(36, 86, 104)",
         "rgb(15, 114, 121)",
         "rgb(13, 143, 129)",
         "rgb(57, 171, 126)",
         "rgb(110, 197, 116)",
         "rgb(169, 220, 103)",
         "rgb(237, 239, 93)"
        ],
        "template": {
         "data": {
          "bar": [
           {
            "error_x": {
             "color": "#2a3f5f"
            },
            "error_y": {
             "color": "#2a3f5f"
            },
            "marker": {
             "line": {
              "color": "#E5ECF6",
              "width": 0.5
             },
             "pattern": {
              "fillmode": "overlay",
              "size": 10,
              "solidity": 0.2
             }
            },
            "type": "bar"
           }
          ],
          "barpolar": [
           {
            "marker": {
             "line": {
              "color": "#E5ECF6",
              "width": 0.5
             },
             "pattern": {
              "fillmode": "overlay",
              "size": 10,
              "solidity": 0.2
             }
            },
            "type": "barpolar"
           }
          ],
          "carpet": [
           {
            "aaxis": {
             "endlinecolor": "#2a3f5f",
             "gridcolor": "white",
             "linecolor": "white",
             "minorgridcolor": "white",
             "startlinecolor": "#2a3f5f"
            },
            "baxis": {
             "endlinecolor": "#2a3f5f",
             "gridcolor": "white",
             "linecolor": "white",
             "minorgridcolor": "white",
             "startlinecolor": "#2a3f5f"
            },
            "type": "carpet"
           }
          ],
          "choropleth": [
           {
            "colorbar": {
             "outlinewidth": 0,
             "ticks": ""
            },
            "type": "choropleth"
           }
          ],
          "contour": [
           {
            "colorbar": {
             "outlinewidth": 0,
             "ticks": ""
            },
            "colorscale": [
             [
              0,
              "#0d0887"
             ],
             [
              0.1111111111111111,
              "#46039f"
             ],
             [
              0.2222222222222222,
              "#7201a8"
             ],
             [
              0.3333333333333333,
              "#9c179e"
             ],
             [
              0.4444444444444444,
              "#bd3786"
             ],
             [
              0.5555555555555556,
              "#d8576b"
             ],
             [
              0.6666666666666666,
              "#ed7953"
             ],
             [
              0.7777777777777778,
              "#fb9f3a"
             ],
             [
              0.8888888888888888,
              "#fdca26"
             ],
             [
              1,
              "#f0f921"
             ]
            ],
            "type": "contour"
           }
          ],
          "contourcarpet": [
           {
            "colorbar": {
             "outlinewidth": 0,
             "ticks": ""
            },
            "type": "contourcarpet"
           }
          ],
          "heatmap": [
           {
            "colorbar": {
             "outlinewidth": 0,
             "ticks": ""
            },
            "colorscale": [
             [
              0,
              "#0d0887"
             ],
             [
              0.1111111111111111,
              "#46039f"
             ],
             [
              0.2222222222222222,
              "#7201a8"
             ],
             [
              0.3333333333333333,
              "#9c179e"
             ],
             [
              0.4444444444444444,
              "#bd3786"
             ],
             [
              0.5555555555555556,
              "#d8576b"
             ],
             [
              0.6666666666666666,
              "#ed7953"
             ],
             [
              0.7777777777777778,
              "#fb9f3a"
             ],
             [
              0.8888888888888888,
              "#fdca26"
             ],
             [
              1,
              "#f0f921"
             ]
            ],
            "type": "heatmap"
           }
          ],
          "heatmapgl": [
           {
            "colorbar": {
             "outlinewidth": 0,
             "ticks": ""
            },
            "colorscale": [
             [
              0,
              "#0d0887"
             ],
             [
              0.1111111111111111,
              "#46039f"
             ],
             [
              0.2222222222222222,
              "#7201a8"
             ],
             [
              0.3333333333333333,
              "#9c179e"
             ],
             [
              0.4444444444444444,
              "#bd3786"
             ],
             [
              0.5555555555555556,
              "#d8576b"
             ],
             [
              0.6666666666666666,
              "#ed7953"
             ],
             [
              0.7777777777777778,
              "#fb9f3a"
             ],
             [
              0.8888888888888888,
              "#fdca26"
             ],
             [
              1,
              "#f0f921"
             ]
            ],
            "type": "heatmapgl"
           }
          ],
          "histogram": [
           {
            "marker": {
             "pattern": {
              "fillmode": "overlay",
              "size": 10,
              "solidity": 0.2
             }
            },
            "type": "histogram"
           }
          ],
          "histogram2d": [
           {
            "colorbar": {
             "outlinewidth": 0,
             "ticks": ""
            },
            "colorscale": [
             [
              0,
              "#0d0887"
             ],
             [
              0.1111111111111111,
              "#46039f"
             ],
             [
              0.2222222222222222,
              "#7201a8"
             ],
             [
              0.3333333333333333,
              "#9c179e"
             ],
             [
              0.4444444444444444,
              "#bd3786"
             ],
             [
              0.5555555555555556,
              "#d8576b"
             ],
             [
              0.6666666666666666,
              "#ed7953"
             ],
             [
              0.7777777777777778,
              "#fb9f3a"
             ],
             [
              0.8888888888888888,
              "#fdca26"
             ],
             [
              1,
              "#f0f921"
             ]
            ],
            "type": "histogram2d"
           }
          ],
          "histogram2dcontour": [
           {
            "colorbar": {
             "outlinewidth": 0,
             "ticks": ""
            },
            "colorscale": [
             [
              0,
              "#0d0887"
             ],
             [
              0.1111111111111111,
              "#46039f"
             ],
             [
              0.2222222222222222,
              "#7201a8"
             ],
             [
              0.3333333333333333,
              "#9c179e"
             ],
             [
              0.4444444444444444,
              "#bd3786"
             ],
             [
              0.5555555555555556,
              "#d8576b"
             ],
             [
              0.6666666666666666,
              "#ed7953"
             ],
             [
              0.7777777777777778,
              "#fb9f3a"
             ],
             [
              0.8888888888888888,
              "#fdca26"
             ],
             [
              1,
              "#f0f921"
             ]
            ],
            "type": "histogram2dcontour"
           }
          ],
          "mesh3d": [
           {
            "colorbar": {
             "outlinewidth": 0,
             "ticks": ""
            },
            "type": "mesh3d"
           }
          ],
          "parcoords": [
           {
            "line": {
             "colorbar": {
              "outlinewidth": 0,
              "ticks": ""
             }
            },
            "type": "parcoords"
           }
          ],
          "pie": [
           {
            "automargin": true,
            "type": "pie"
           }
          ],
          "scatter": [
           {
            "fillpattern": {
             "fillmode": "overlay",
             "size": 10,
             "solidity": 0.2
            },
            "type": "scatter"
           }
          ],
          "scatter3d": [
           {
            "line": {
             "colorbar": {
              "outlinewidth": 0,
              "ticks": ""
             }
            },
            "marker": {
             "colorbar": {
              "outlinewidth": 0,
              "ticks": ""
             }
            },
            "type": "scatter3d"
           }
          ],
          "scattercarpet": [
           {
            "marker": {
             "colorbar": {
              "outlinewidth": 0,
              "ticks": ""
             }
            },
            "type": "scattercarpet"
           }
          ],
          "scattergeo": [
           {
            "marker": {
             "colorbar": {
              "outlinewidth": 0,
              "ticks": ""
             }
            },
            "type": "scattergeo"
           }
          ],
          "scattergl": [
           {
            "marker": {
             "colorbar": {
              "outlinewidth": 0,
              "ticks": ""
             }
            },
            "type": "scattergl"
           }
          ],
          "scattermapbox": [
           {
            "marker": {
             "colorbar": {
              "outlinewidth": 0,
              "ticks": ""
             }
            },
            "type": "scattermapbox"
           }
          ],
          "scatterpolar": [
           {
            "marker": {
             "colorbar": {
              "outlinewidth": 0,
              "ticks": ""
             }
            },
            "type": "scatterpolar"
           }
          ],
          "scatterpolargl": [
           {
            "marker": {
             "colorbar": {
              "outlinewidth": 0,
              "ticks": ""
             }
            },
            "type": "scatterpolargl"
           }
          ],
          "scatterternary": [
           {
            "marker": {
             "colorbar": {
              "outlinewidth": 0,
              "ticks": ""
             }
            },
            "type": "scatterternary"
           }
          ],
          "surface": [
           {
            "colorbar": {
             "outlinewidth": 0,
             "ticks": ""
            },
            "colorscale": [
             [
              0,
              "#0d0887"
             ],
             [
              0.1111111111111111,
              "#46039f"
             ],
             [
              0.2222222222222222,
              "#7201a8"
             ],
             [
              0.3333333333333333,
              "#9c179e"
             ],
             [
              0.4444444444444444,
              "#bd3786"
             ],
             [
              0.5555555555555556,
              "#d8576b"
             ],
             [
              0.6666666666666666,
              "#ed7953"
             ],
             [
              0.7777777777777778,
              "#fb9f3a"
             ],
             [
              0.8888888888888888,
              "#fdca26"
             ],
             [
              1,
              "#f0f921"
             ]
            ],
            "type": "surface"
           }
          ],
          "table": [
           {
            "cells": {
             "fill": {
              "color": "#EBF0F8"
             },
             "line": {
              "color": "white"
             }
            },
            "header": {
             "fill": {
              "color": "#C8D4E3"
             },
             "line": {
              "color": "white"
             }
            },
            "type": "table"
           }
          ]
         },
         "layout": {
          "annotationdefaults": {
           "arrowcolor": "#2a3f5f",
           "arrowhead": 0,
           "arrowwidth": 1
          },
          "autotypenumbers": "strict",
          "coloraxis": {
           "colorbar": {
            "outlinewidth": 0,
            "ticks": ""
           }
          },
          "colorscale": {
           "diverging": [
            [
             0,
             "#8e0152"
            ],
            [
             0.1,
             "#c51b7d"
            ],
            [
             0.2,
             "#de77ae"
            ],
            [
             0.3,
             "#f1b6da"
            ],
            [
             0.4,
             "#fde0ef"
            ],
            [
             0.5,
             "#f7f7f7"
            ],
            [
             0.6,
             "#e6f5d0"
            ],
            [
             0.7,
             "#b8e186"
            ],
            [
             0.8,
             "#7fbc41"
            ],
            [
             0.9,
             "#4d9221"
            ],
            [
             1,
             "#276419"
            ]
           ],
           "sequential": [
            [
             0,
             "#0d0887"
            ],
            [
             0.1111111111111111,
             "#46039f"
            ],
            [
             0.2222222222222222,
             "#7201a8"
            ],
            [
             0.3333333333333333,
             "#9c179e"
            ],
            [
             0.4444444444444444,
             "#bd3786"
            ],
            [
             0.5555555555555556,
             "#d8576b"
            ],
            [
             0.6666666666666666,
             "#ed7953"
            ],
            [
             0.7777777777777778,
             "#fb9f3a"
            ],
            [
             0.8888888888888888,
             "#fdca26"
            ],
            [
             1,
             "#f0f921"
            ]
           ],
           "sequentialminus": [
            [
             0,
             "#0d0887"
            ],
            [
             0.1111111111111111,
             "#46039f"
            ],
            [
             0.2222222222222222,
             "#7201a8"
            ],
            [
             0.3333333333333333,
             "#9c179e"
            ],
            [
             0.4444444444444444,
             "#bd3786"
            ],
            [
             0.5555555555555556,
             "#d8576b"
            ],
            [
             0.6666666666666666,
             "#ed7953"
            ],
            [
             0.7777777777777778,
             "#fb9f3a"
            ],
            [
             0.8888888888888888,
             "#fdca26"
            ],
            [
             1,
             "#f0f921"
            ]
           ]
          },
          "colorway": [
           "#636efa",
           "#EF553B",
           "#00cc96",
           "#ab63fa",
           "#FFA15A",
           "#19d3f3",
           "#FF6692",
           "#B6E880",
           "#FF97FF",
           "#FECB52"
          ],
          "font": {
           "color": "#2a3f5f"
          },
          "geo": {
           "bgcolor": "white",
           "lakecolor": "white",
           "landcolor": "#E5ECF6",
           "showlakes": true,
           "showland": true,
           "subunitcolor": "white"
          },
          "hoverlabel": {
           "align": "left"
          },
          "hovermode": "closest",
          "mapbox": {
           "style": "light"
          },
          "paper_bgcolor": "white",
          "plot_bgcolor": "#E5ECF6",
          "polar": {
           "angularaxis": {
            "gridcolor": "white",
            "linecolor": "white",
            "ticks": ""
           },
           "bgcolor": "#E5ECF6",
           "radialaxis": {
            "gridcolor": "white",
            "linecolor": "white",
            "ticks": ""
           }
          },
          "scene": {
           "xaxis": {
            "backgroundcolor": "#E5ECF6",
            "gridcolor": "white",
            "gridwidth": 2,
            "linecolor": "white",
            "showbackground": true,
            "ticks": "",
            "zerolinecolor": "white"
           },
           "yaxis": {
            "backgroundcolor": "#E5ECF6",
            "gridcolor": "white",
            "gridwidth": 2,
            "linecolor": "white",
            "showbackground": true,
            "ticks": "",
            "zerolinecolor": "white"
           },
           "zaxis": {
            "backgroundcolor": "#E5ECF6",
            "gridcolor": "white",
            "gridwidth": 2,
            "linecolor": "white",
            "showbackground": true,
            "ticks": "",
            "zerolinecolor": "white"
           }
          },
          "shapedefaults": {
           "line": {
            "color": "#2a3f5f"
           }
          },
          "ternary": {
           "aaxis": {
            "gridcolor": "white",
            "linecolor": "white",
            "ticks": ""
           },
           "baxis": {
            "gridcolor": "white",
            "linecolor": "white",
            "ticks": ""
           },
           "bgcolor": "#E5ECF6",
           "caxis": {
            "gridcolor": "white",
            "linecolor": "white",
            "ticks": ""
           }
          },
          "title": {
           "x": 0.05
          },
          "xaxis": {
           "automargin": true,
           "gridcolor": "white",
           "linecolor": "white",
           "ticks": "",
           "title": {
            "standoff": 15
           },
           "zerolinecolor": "white",
           "zerolinewidth": 2
          },
          "yaxis": {
           "automargin": true,
           "gridcolor": "white",
           "linecolor": "white",
           "ticks": "",
           "title": {
            "standoff": 15
           },
           "zerolinecolor": "white",
           "zerolinewidth": 2
          }
         }
        },
        "title": {
         "text": "Total NaN Values Distribution",
         "x": 0.5
        },
        "width": 550
       }
      }
     },
     "metadata": {},
     "output_type": "display_data"
    }
   ],
   "source": [
    "# Plot\n",
    "total_figure = px.pie(values=[total_nan, total_entries-total_nan], names=[\"NaN values\", \"Valid Values\"],\n",
    "        color_discrete_sequence=px.colors.sequential.Aggrnyl,\n",
    "        title=\"Total NaN Values Distribution\",\n",
    "        width=550, height= 350)\n",
    "\n",
    "total_figure.update_layout(\n",
    "    margin=dict(l=50, r=50, t=50, b=50),\n",
    "    title_x=0.5    \n",
    ")\n",
    "\n",
    "total_figure.show()"
   ]
  },
  {
   "cell_type": "code",
   "execution_count": 72,
   "metadata": {},
   "outputs": [
    {
     "name": "stdout",
     "output_type": "stream",
     "text": [
      "\n",
      "Total Rows containing NaN values in dataset: 799/858\n"
     ]
    },
    {
     "data": {
      "application/vnd.plotly.v1+json": {
       "config": {
        "plotlyServerURL": "https://plot.ly"
       },
       "data": [
        {
         "labels": [
          "Has NaN Values",
          "Is Filled"
         ],
         "marker": {
          "colors": [
           "rgb(75, 41, 145)",
           "rgb(135, 44, 162)"
          ]
         },
         "type": "pie",
         "values": [
          799,
          858
         ]
        }
       ],
       "layout": {
        "height": 350,
        "margin": {
         "b": 50,
         "l": 50,
         "r": 50,
         "t": 50
        },
        "template": {
         "data": {
          "bar": [
           {
            "error_x": {
             "color": "#2a3f5f"
            },
            "error_y": {
             "color": "#2a3f5f"
            },
            "marker": {
             "line": {
              "color": "#E5ECF6",
              "width": 0.5
             },
             "pattern": {
              "fillmode": "overlay",
              "size": 10,
              "solidity": 0.2
             }
            },
            "type": "bar"
           }
          ],
          "barpolar": [
           {
            "marker": {
             "line": {
              "color": "#E5ECF6",
              "width": 0.5
             },
             "pattern": {
              "fillmode": "overlay",
              "size": 10,
              "solidity": 0.2
             }
            },
            "type": "barpolar"
           }
          ],
          "carpet": [
           {
            "aaxis": {
             "endlinecolor": "#2a3f5f",
             "gridcolor": "white",
             "linecolor": "white",
             "minorgridcolor": "white",
             "startlinecolor": "#2a3f5f"
            },
            "baxis": {
             "endlinecolor": "#2a3f5f",
             "gridcolor": "white",
             "linecolor": "white",
             "minorgridcolor": "white",
             "startlinecolor": "#2a3f5f"
            },
            "type": "carpet"
           }
          ],
          "choropleth": [
           {
            "colorbar": {
             "outlinewidth": 0,
             "ticks": ""
            },
            "type": "choropleth"
           }
          ],
          "contour": [
           {
            "colorbar": {
             "outlinewidth": 0,
             "ticks": ""
            },
            "colorscale": [
             [
              0,
              "#0d0887"
             ],
             [
              0.1111111111111111,
              "#46039f"
             ],
             [
              0.2222222222222222,
              "#7201a8"
             ],
             [
              0.3333333333333333,
              "#9c179e"
             ],
             [
              0.4444444444444444,
              "#bd3786"
             ],
             [
              0.5555555555555556,
              "#d8576b"
             ],
             [
              0.6666666666666666,
              "#ed7953"
             ],
             [
              0.7777777777777778,
              "#fb9f3a"
             ],
             [
              0.8888888888888888,
              "#fdca26"
             ],
             [
              1,
              "#f0f921"
             ]
            ],
            "type": "contour"
           }
          ],
          "contourcarpet": [
           {
            "colorbar": {
             "outlinewidth": 0,
             "ticks": ""
            },
            "type": "contourcarpet"
           }
          ],
          "heatmap": [
           {
            "colorbar": {
             "outlinewidth": 0,
             "ticks": ""
            },
            "colorscale": [
             [
              0,
              "#0d0887"
             ],
             [
              0.1111111111111111,
              "#46039f"
             ],
             [
              0.2222222222222222,
              "#7201a8"
             ],
             [
              0.3333333333333333,
              "#9c179e"
             ],
             [
              0.4444444444444444,
              "#bd3786"
             ],
             [
              0.5555555555555556,
              "#d8576b"
             ],
             [
              0.6666666666666666,
              "#ed7953"
             ],
             [
              0.7777777777777778,
              "#fb9f3a"
             ],
             [
              0.8888888888888888,
              "#fdca26"
             ],
             [
              1,
              "#f0f921"
             ]
            ],
            "type": "heatmap"
           }
          ],
          "heatmapgl": [
           {
            "colorbar": {
             "outlinewidth": 0,
             "ticks": ""
            },
            "colorscale": [
             [
              0,
              "#0d0887"
             ],
             [
              0.1111111111111111,
              "#46039f"
             ],
             [
              0.2222222222222222,
              "#7201a8"
             ],
             [
              0.3333333333333333,
              "#9c179e"
             ],
             [
              0.4444444444444444,
              "#bd3786"
             ],
             [
              0.5555555555555556,
              "#d8576b"
             ],
             [
              0.6666666666666666,
              "#ed7953"
             ],
             [
              0.7777777777777778,
              "#fb9f3a"
             ],
             [
              0.8888888888888888,
              "#fdca26"
             ],
             [
              1,
              "#f0f921"
             ]
            ],
            "type": "heatmapgl"
           }
          ],
          "histogram": [
           {
            "marker": {
             "pattern": {
              "fillmode": "overlay",
              "size": 10,
              "solidity": 0.2
             }
            },
            "type": "histogram"
           }
          ],
          "histogram2d": [
           {
            "colorbar": {
             "outlinewidth": 0,
             "ticks": ""
            },
            "colorscale": [
             [
              0,
              "#0d0887"
             ],
             [
              0.1111111111111111,
              "#46039f"
             ],
             [
              0.2222222222222222,
              "#7201a8"
             ],
             [
              0.3333333333333333,
              "#9c179e"
             ],
             [
              0.4444444444444444,
              "#bd3786"
             ],
             [
              0.5555555555555556,
              "#d8576b"
             ],
             [
              0.6666666666666666,
              "#ed7953"
             ],
             [
              0.7777777777777778,
              "#fb9f3a"
             ],
             [
              0.8888888888888888,
              "#fdca26"
             ],
             [
              1,
              "#f0f921"
             ]
            ],
            "type": "histogram2d"
           }
          ],
          "histogram2dcontour": [
           {
            "colorbar": {
             "outlinewidth": 0,
             "ticks": ""
            },
            "colorscale": [
             [
              0,
              "#0d0887"
             ],
             [
              0.1111111111111111,
              "#46039f"
             ],
             [
              0.2222222222222222,
              "#7201a8"
             ],
             [
              0.3333333333333333,
              "#9c179e"
             ],
             [
              0.4444444444444444,
              "#bd3786"
             ],
             [
              0.5555555555555556,
              "#d8576b"
             ],
             [
              0.6666666666666666,
              "#ed7953"
             ],
             [
              0.7777777777777778,
              "#fb9f3a"
             ],
             [
              0.8888888888888888,
              "#fdca26"
             ],
             [
              1,
              "#f0f921"
             ]
            ],
            "type": "histogram2dcontour"
           }
          ],
          "mesh3d": [
           {
            "colorbar": {
             "outlinewidth": 0,
             "ticks": ""
            },
            "type": "mesh3d"
           }
          ],
          "parcoords": [
           {
            "line": {
             "colorbar": {
              "outlinewidth": 0,
              "ticks": ""
             }
            },
            "type": "parcoords"
           }
          ],
          "pie": [
           {
            "automargin": true,
            "type": "pie"
           }
          ],
          "scatter": [
           {
            "fillpattern": {
             "fillmode": "overlay",
             "size": 10,
             "solidity": 0.2
            },
            "type": "scatter"
           }
          ],
          "scatter3d": [
           {
            "line": {
             "colorbar": {
              "outlinewidth": 0,
              "ticks": ""
             }
            },
            "marker": {
             "colorbar": {
              "outlinewidth": 0,
              "ticks": ""
             }
            },
            "type": "scatter3d"
           }
          ],
          "scattercarpet": [
           {
            "marker": {
             "colorbar": {
              "outlinewidth": 0,
              "ticks": ""
             }
            },
            "type": "scattercarpet"
           }
          ],
          "scattergeo": [
           {
            "marker": {
             "colorbar": {
              "outlinewidth": 0,
              "ticks": ""
             }
            },
            "type": "scattergeo"
           }
          ],
          "scattergl": [
           {
            "marker": {
             "colorbar": {
              "outlinewidth": 0,
              "ticks": ""
             }
            },
            "type": "scattergl"
           }
          ],
          "scattermapbox": [
           {
            "marker": {
             "colorbar": {
              "outlinewidth": 0,
              "ticks": ""
             }
            },
            "type": "scattermapbox"
           }
          ],
          "scatterpolar": [
           {
            "marker": {
             "colorbar": {
              "outlinewidth": 0,
              "ticks": ""
             }
            },
            "type": "scatterpolar"
           }
          ],
          "scatterpolargl": [
           {
            "marker": {
             "colorbar": {
              "outlinewidth": 0,
              "ticks": ""
             }
            },
            "type": "scatterpolargl"
           }
          ],
          "scatterternary": [
           {
            "marker": {
             "colorbar": {
              "outlinewidth": 0,
              "ticks": ""
             }
            },
            "type": "scatterternary"
           }
          ],
          "surface": [
           {
            "colorbar": {
             "outlinewidth": 0,
             "ticks": ""
            },
            "colorscale": [
             [
              0,
              "#0d0887"
             ],
             [
              0.1111111111111111,
              "#46039f"
             ],
             [
              0.2222222222222222,
              "#7201a8"
             ],
             [
              0.3333333333333333,
              "#9c179e"
             ],
             [
              0.4444444444444444,
              "#bd3786"
             ],
             [
              0.5555555555555556,
              "#d8576b"
             ],
             [
              0.6666666666666666,
              "#ed7953"
             ],
             [
              0.7777777777777778,
              "#fb9f3a"
             ],
             [
              0.8888888888888888,
              "#fdca26"
             ],
             [
              1,
              "#f0f921"
             ]
            ],
            "type": "surface"
           }
          ],
          "table": [
           {
            "cells": {
             "fill": {
              "color": "#EBF0F8"
             },
             "line": {
              "color": "white"
             }
            },
            "header": {
             "fill": {
              "color": "#C8D4E3"
             },
             "line": {
              "color": "white"
             }
            },
            "type": "table"
           }
          ]
         },
         "layout": {
          "annotationdefaults": {
           "arrowcolor": "#2a3f5f",
           "arrowhead": 0,
           "arrowwidth": 1
          },
          "autotypenumbers": "strict",
          "coloraxis": {
           "colorbar": {
            "outlinewidth": 0,
            "ticks": ""
           }
          },
          "colorscale": {
           "diverging": [
            [
             0,
             "#8e0152"
            ],
            [
             0.1,
             "#c51b7d"
            ],
            [
             0.2,
             "#de77ae"
            ],
            [
             0.3,
             "#f1b6da"
            ],
            [
             0.4,
             "#fde0ef"
            ],
            [
             0.5,
             "#f7f7f7"
            ],
            [
             0.6,
             "#e6f5d0"
            ],
            [
             0.7,
             "#b8e186"
            ],
            [
             0.8,
             "#7fbc41"
            ],
            [
             0.9,
             "#4d9221"
            ],
            [
             1,
             "#276419"
            ]
           ],
           "sequential": [
            [
             0,
             "#0d0887"
            ],
            [
             0.1111111111111111,
             "#46039f"
            ],
            [
             0.2222222222222222,
             "#7201a8"
            ],
            [
             0.3333333333333333,
             "#9c179e"
            ],
            [
             0.4444444444444444,
             "#bd3786"
            ],
            [
             0.5555555555555556,
             "#d8576b"
            ],
            [
             0.6666666666666666,
             "#ed7953"
            ],
            [
             0.7777777777777778,
             "#fb9f3a"
            ],
            [
             0.8888888888888888,
             "#fdca26"
            ],
            [
             1,
             "#f0f921"
            ]
           ],
           "sequentialminus": [
            [
             0,
             "#0d0887"
            ],
            [
             0.1111111111111111,
             "#46039f"
            ],
            [
             0.2222222222222222,
             "#7201a8"
            ],
            [
             0.3333333333333333,
             "#9c179e"
            ],
            [
             0.4444444444444444,
             "#bd3786"
            ],
            [
             0.5555555555555556,
             "#d8576b"
            ],
            [
             0.6666666666666666,
             "#ed7953"
            ],
            [
             0.7777777777777778,
             "#fb9f3a"
            ],
            [
             0.8888888888888888,
             "#fdca26"
            ],
            [
             1,
             "#f0f921"
            ]
           ]
          },
          "colorway": [
           "#636efa",
           "#EF553B",
           "#00cc96",
           "#ab63fa",
           "#FFA15A",
           "#19d3f3",
           "#FF6692",
           "#B6E880",
           "#FF97FF",
           "#FECB52"
          ],
          "font": {
           "color": "#2a3f5f"
          },
          "geo": {
           "bgcolor": "white",
           "lakecolor": "white",
           "landcolor": "#E5ECF6",
           "showlakes": true,
           "showland": true,
           "subunitcolor": "white"
          },
          "hoverlabel": {
           "align": "left"
          },
          "hovermode": "closest",
          "mapbox": {
           "style": "light"
          },
          "paper_bgcolor": "white",
          "plot_bgcolor": "#E5ECF6",
          "polar": {
           "angularaxis": {
            "gridcolor": "white",
            "linecolor": "white",
            "ticks": ""
           },
           "bgcolor": "#E5ECF6",
           "radialaxis": {
            "gridcolor": "white",
            "linecolor": "white",
            "ticks": ""
           }
          },
          "scene": {
           "xaxis": {
            "backgroundcolor": "#E5ECF6",
            "gridcolor": "white",
            "gridwidth": 2,
            "linecolor": "white",
            "showbackground": true,
            "ticks": "",
            "zerolinecolor": "white"
           },
           "yaxis": {
            "backgroundcolor": "#E5ECF6",
            "gridcolor": "white",
            "gridwidth": 2,
            "linecolor": "white",
            "showbackground": true,
            "ticks": "",
            "zerolinecolor": "white"
           },
           "zaxis": {
            "backgroundcolor": "#E5ECF6",
            "gridcolor": "white",
            "gridwidth": 2,
            "linecolor": "white",
            "showbackground": true,
            "ticks": "",
            "zerolinecolor": "white"
           }
          },
          "shapedefaults": {
           "line": {
            "color": "#2a3f5f"
           }
          },
          "ternary": {
           "aaxis": {
            "gridcolor": "white",
            "linecolor": "white",
            "ticks": ""
           },
           "baxis": {
            "gridcolor": "white",
            "linecolor": "white",
            "ticks": ""
           },
           "bgcolor": "#E5ECF6",
           "caxis": {
            "gridcolor": "white",
            "linecolor": "white",
            "ticks": ""
           }
          },
          "title": {
           "x": 0.05
          },
          "xaxis": {
           "automargin": true,
           "gridcolor": "white",
           "linecolor": "white",
           "ticks": "",
           "title": {
            "standoff": 15
           },
           "zerolinecolor": "white",
           "zerolinewidth": 2
          },
          "yaxis": {
           "automargin": true,
           "gridcolor": "white",
           "linecolor": "white",
           "ticks": "",
           "title": {
            "standoff": 15
           },
           "zerolinecolor": "white",
           "zerolinewidth": 2
          }
         }
        },
        "title": {
         "text": "NaN Containing Rows Distribution",
         "x": 0.5
        },
        "width": 550
       }
      }
     },
     "metadata": {},
     "output_type": "display_data"
    }
   ],
   "source": [
    "# Rows containing NaN values\n",
    "total_rows = len(risk_factor_df)\n",
    "nan_rows = risk_factor_df.isna().any(axis=1).tolist().count(True)\n",
    "print(\"\\nTotal Rows containing NaN values in dataset: {}/{}\".format(nan_rows, total_rows))\n",
    "\n",
    "rows_fig=go.Figure(data=[go.Pie(labels=[\"Has NaN Values\",\"Is Filled\"],\n",
    "    values=[nan_rows, total_rows],\n",
    "    marker_colors=[px.colors.sequential.Agsunset[0], px.colors.sequential.Agsunset[1]])])\n",
    "\n",
    "rows_fig.update_layout(\n",
    "    title=\"NaN Containing Rows Distribution\",\n",
    "    margin=dict(l=50, r=50, t=50, b=50),\n",
    "    title_x=0.5,\n",
    "    width=550, height= 350    \n",
    ")\n",
    "\n",
    "rows_fig.show()"
   ]
  },
  {
   "cell_type": "markdown",
   "metadata": {},
   "source": [
    "We identified that the features “STDs: Time since first diagnosis” and “STDs: Time since last diagnosis” were filled with NaN values of about 92%. Because of the high percentage, it was impractical to either eliminate the affected observations or fill the missing values with the mean of columns. Consequently, these features were excluded from the dataset."
   ]
  },
  {
   "cell_type": "code",
   "execution_count": 73,
   "metadata": {},
   "outputs": [],
   "source": [
    "risk_factor_df.drop(columns=[\"STDs: Time since first diagnosis\", \"STDs: Time since last diagnosis\"], inplace=True)"
   ]
  },
  {
   "cell_type": "markdown",
   "metadata": {},
   "source": [
    "To ensure the optimal performance of future models, we also set a missing value threshold of 10 per row. Any rows that exceeded this threshold were eliminated from the dataset because we determined they were missing significant information."
   ]
  },
  {
   "cell_type": "code",
   "execution_count": 74,
   "metadata": {},
   "outputs": [
    {
     "name": "stdout",
     "output_type": "stream",
     "text": [
      "\n",
      "Total Rows containing NaN values in dataset: 190/858\n",
      "\n",
      "Rows containing >10 NaN values: 105/858\n"
     ]
    }
   ],
   "source": [
    "# Rows containing NaN values\n",
    "nan_rows = risk_factor_df.isna().any(axis=1).tolist().count(True)\n",
    "print(\"\\nTotal Rows containing NaN values in dataset: {}/{}\".format(nan_rows, total_rows))\n",
    "\n",
    "# Find rows that contain more than 10 NaN values\n",
    "rows_to_del = risk_factor_df[risk_factor_df.isna().sum(axis=1) > 10].index\n",
    "\n",
    "print(\"\\nRows containing >10 NaN values: {}/{}\".format(len(rows_to_del), total_rows))\n",
    "\n",
    "# Remove rows\n",
    "risk_factor_df.drop(rows_to_del, inplace=True)\n",
    "risk_factor_df.reset_index(drop=True, inplace=True)"
   ]
  },
  {
   "cell_type": "code",
   "execution_count": 75,
   "metadata": {},
   "outputs": [
    {
     "data": {
      "application/vnd.plotly.v1+json": {
       "config": {
        "plotlyServerURL": "https://plot.ly"
       },
       "data": [
        {
         "domain": {
          "x": [
           0,
           0.45
          ],
          "y": [
           0,
           1
          ]
         },
         "labels": [
          "Has NaN Values",
          "Is Filled"
         ],
         "marker": {
          "colors": [
           "rgb(75, 41, 145)",
           "rgb(135, 44, 162)"
          ]
         },
         "pull": [
          0.1,
          0
         ],
         "type": "pie",
         "values": [
          190,
          668
         ]
        },
        {
         "domain": {
          "x": [
           0.55,
           1
          ],
          "y": [
           0,
           1
          ]
         },
         "labels": [
          ">10 NaN",
          "<10 NaN"
         ],
         "marker": {
          "colors": [
           "rgb(192, 54, 157)",
           "rgb(234, 79, 136)"
          ]
         },
         "type": "pie",
         "values": [
          105,
          85
         ]
        }
       ],
       "layout": {
        "annotations": [
         {
          "font": {
           "size": 16
          },
          "showarrow": false,
          "text": "Contain NaN Values",
          "x": 0.225,
          "xanchor": "center",
          "xref": "paper",
          "y": 1,
          "yanchor": "bottom",
          "yref": "paper"
         },
         {
          "font": {
           "size": 16
          },
          "showarrow": false,
          "text": "Contain >10 NaN Values",
          "x": 0.775,
          "xanchor": "center",
          "xref": "paper",
          "y": 1,
          "yanchor": "bottom",
          "yref": "paper"
         }
        ],
        "height": 400,
        "template": {
         "data": {
          "bar": [
           {
            "error_x": {
             "color": "#2a3f5f"
            },
            "error_y": {
             "color": "#2a3f5f"
            },
            "marker": {
             "line": {
              "color": "#E5ECF6",
              "width": 0.5
             },
             "pattern": {
              "fillmode": "overlay",
              "size": 10,
              "solidity": 0.2
             }
            },
            "type": "bar"
           }
          ],
          "barpolar": [
           {
            "marker": {
             "line": {
              "color": "#E5ECF6",
              "width": 0.5
             },
             "pattern": {
              "fillmode": "overlay",
              "size": 10,
              "solidity": 0.2
             }
            },
            "type": "barpolar"
           }
          ],
          "carpet": [
           {
            "aaxis": {
             "endlinecolor": "#2a3f5f",
             "gridcolor": "white",
             "linecolor": "white",
             "minorgridcolor": "white",
             "startlinecolor": "#2a3f5f"
            },
            "baxis": {
             "endlinecolor": "#2a3f5f",
             "gridcolor": "white",
             "linecolor": "white",
             "minorgridcolor": "white",
             "startlinecolor": "#2a3f5f"
            },
            "type": "carpet"
           }
          ],
          "choropleth": [
           {
            "colorbar": {
             "outlinewidth": 0,
             "ticks": ""
            },
            "type": "choropleth"
           }
          ],
          "contour": [
           {
            "colorbar": {
             "outlinewidth": 0,
             "ticks": ""
            },
            "colorscale": [
             [
              0,
              "#0d0887"
             ],
             [
              0.1111111111111111,
              "#46039f"
             ],
             [
              0.2222222222222222,
              "#7201a8"
             ],
             [
              0.3333333333333333,
              "#9c179e"
             ],
             [
              0.4444444444444444,
              "#bd3786"
             ],
             [
              0.5555555555555556,
              "#d8576b"
             ],
             [
              0.6666666666666666,
              "#ed7953"
             ],
             [
              0.7777777777777778,
              "#fb9f3a"
             ],
             [
              0.8888888888888888,
              "#fdca26"
             ],
             [
              1,
              "#f0f921"
             ]
            ],
            "type": "contour"
           }
          ],
          "contourcarpet": [
           {
            "colorbar": {
             "outlinewidth": 0,
             "ticks": ""
            },
            "type": "contourcarpet"
           }
          ],
          "heatmap": [
           {
            "colorbar": {
             "outlinewidth": 0,
             "ticks": ""
            },
            "colorscale": [
             [
              0,
              "#0d0887"
             ],
             [
              0.1111111111111111,
              "#46039f"
             ],
             [
              0.2222222222222222,
              "#7201a8"
             ],
             [
              0.3333333333333333,
              "#9c179e"
             ],
             [
              0.4444444444444444,
              "#bd3786"
             ],
             [
              0.5555555555555556,
              "#d8576b"
             ],
             [
              0.6666666666666666,
              "#ed7953"
             ],
             [
              0.7777777777777778,
              "#fb9f3a"
             ],
             [
              0.8888888888888888,
              "#fdca26"
             ],
             [
              1,
              "#f0f921"
             ]
            ],
            "type": "heatmap"
           }
          ],
          "heatmapgl": [
           {
            "colorbar": {
             "outlinewidth": 0,
             "ticks": ""
            },
            "colorscale": [
             [
              0,
              "#0d0887"
             ],
             [
              0.1111111111111111,
              "#46039f"
             ],
             [
              0.2222222222222222,
              "#7201a8"
             ],
             [
              0.3333333333333333,
              "#9c179e"
             ],
             [
              0.4444444444444444,
              "#bd3786"
             ],
             [
              0.5555555555555556,
              "#d8576b"
             ],
             [
              0.6666666666666666,
              "#ed7953"
             ],
             [
              0.7777777777777778,
              "#fb9f3a"
             ],
             [
              0.8888888888888888,
              "#fdca26"
             ],
             [
              1,
              "#f0f921"
             ]
            ],
            "type": "heatmapgl"
           }
          ],
          "histogram": [
           {
            "marker": {
             "pattern": {
              "fillmode": "overlay",
              "size": 10,
              "solidity": 0.2
             }
            },
            "type": "histogram"
           }
          ],
          "histogram2d": [
           {
            "colorbar": {
             "outlinewidth": 0,
             "ticks": ""
            },
            "colorscale": [
             [
              0,
              "#0d0887"
             ],
             [
              0.1111111111111111,
              "#46039f"
             ],
             [
              0.2222222222222222,
              "#7201a8"
             ],
             [
              0.3333333333333333,
              "#9c179e"
             ],
             [
              0.4444444444444444,
              "#bd3786"
             ],
             [
              0.5555555555555556,
              "#d8576b"
             ],
             [
              0.6666666666666666,
              "#ed7953"
             ],
             [
              0.7777777777777778,
              "#fb9f3a"
             ],
             [
              0.8888888888888888,
              "#fdca26"
             ],
             [
              1,
              "#f0f921"
             ]
            ],
            "type": "histogram2d"
           }
          ],
          "histogram2dcontour": [
           {
            "colorbar": {
             "outlinewidth": 0,
             "ticks": ""
            },
            "colorscale": [
             [
              0,
              "#0d0887"
             ],
             [
              0.1111111111111111,
              "#46039f"
             ],
             [
              0.2222222222222222,
              "#7201a8"
             ],
             [
              0.3333333333333333,
              "#9c179e"
             ],
             [
              0.4444444444444444,
              "#bd3786"
             ],
             [
              0.5555555555555556,
              "#d8576b"
             ],
             [
              0.6666666666666666,
              "#ed7953"
             ],
             [
              0.7777777777777778,
              "#fb9f3a"
             ],
             [
              0.8888888888888888,
              "#fdca26"
             ],
             [
              1,
              "#f0f921"
             ]
            ],
            "type": "histogram2dcontour"
           }
          ],
          "mesh3d": [
           {
            "colorbar": {
             "outlinewidth": 0,
             "ticks": ""
            },
            "type": "mesh3d"
           }
          ],
          "parcoords": [
           {
            "line": {
             "colorbar": {
              "outlinewidth": 0,
              "ticks": ""
             }
            },
            "type": "parcoords"
           }
          ],
          "pie": [
           {
            "automargin": true,
            "type": "pie"
           }
          ],
          "scatter": [
           {
            "fillpattern": {
             "fillmode": "overlay",
             "size": 10,
             "solidity": 0.2
            },
            "type": "scatter"
           }
          ],
          "scatter3d": [
           {
            "line": {
             "colorbar": {
              "outlinewidth": 0,
              "ticks": ""
             }
            },
            "marker": {
             "colorbar": {
              "outlinewidth": 0,
              "ticks": ""
             }
            },
            "type": "scatter3d"
           }
          ],
          "scattercarpet": [
           {
            "marker": {
             "colorbar": {
              "outlinewidth": 0,
              "ticks": ""
             }
            },
            "type": "scattercarpet"
           }
          ],
          "scattergeo": [
           {
            "marker": {
             "colorbar": {
              "outlinewidth": 0,
              "ticks": ""
             }
            },
            "type": "scattergeo"
           }
          ],
          "scattergl": [
           {
            "marker": {
             "colorbar": {
              "outlinewidth": 0,
              "ticks": ""
             }
            },
            "type": "scattergl"
           }
          ],
          "scattermapbox": [
           {
            "marker": {
             "colorbar": {
              "outlinewidth": 0,
              "ticks": ""
             }
            },
            "type": "scattermapbox"
           }
          ],
          "scatterpolar": [
           {
            "marker": {
             "colorbar": {
              "outlinewidth": 0,
              "ticks": ""
             }
            },
            "type": "scatterpolar"
           }
          ],
          "scatterpolargl": [
           {
            "marker": {
             "colorbar": {
              "outlinewidth": 0,
              "ticks": ""
             }
            },
            "type": "scatterpolargl"
           }
          ],
          "scatterternary": [
           {
            "marker": {
             "colorbar": {
              "outlinewidth": 0,
              "ticks": ""
             }
            },
            "type": "scatterternary"
           }
          ],
          "surface": [
           {
            "colorbar": {
             "outlinewidth": 0,
             "ticks": ""
            },
            "colorscale": [
             [
              0,
              "#0d0887"
             ],
             [
              0.1111111111111111,
              "#46039f"
             ],
             [
              0.2222222222222222,
              "#7201a8"
             ],
             [
              0.3333333333333333,
              "#9c179e"
             ],
             [
              0.4444444444444444,
              "#bd3786"
             ],
             [
              0.5555555555555556,
              "#d8576b"
             ],
             [
              0.6666666666666666,
              "#ed7953"
             ],
             [
              0.7777777777777778,
              "#fb9f3a"
             ],
             [
              0.8888888888888888,
              "#fdca26"
             ],
             [
              1,
              "#f0f921"
             ]
            ],
            "type": "surface"
           }
          ],
          "table": [
           {
            "cells": {
             "fill": {
              "color": "#EBF0F8"
             },
             "line": {
              "color": "white"
             }
            },
            "header": {
             "fill": {
              "color": "#C8D4E3"
             },
             "line": {
              "color": "white"
             }
            },
            "type": "table"
           }
          ]
         },
         "layout": {
          "annotationdefaults": {
           "arrowcolor": "#2a3f5f",
           "arrowhead": 0,
           "arrowwidth": 1
          },
          "autotypenumbers": "strict",
          "coloraxis": {
           "colorbar": {
            "outlinewidth": 0,
            "ticks": ""
           }
          },
          "colorscale": {
           "diverging": [
            [
             0,
             "#8e0152"
            ],
            [
             0.1,
             "#c51b7d"
            ],
            [
             0.2,
             "#de77ae"
            ],
            [
             0.3,
             "#f1b6da"
            ],
            [
             0.4,
             "#fde0ef"
            ],
            [
             0.5,
             "#f7f7f7"
            ],
            [
             0.6,
             "#e6f5d0"
            ],
            [
             0.7,
             "#b8e186"
            ],
            [
             0.8,
             "#7fbc41"
            ],
            [
             0.9,
             "#4d9221"
            ],
            [
             1,
             "#276419"
            ]
           ],
           "sequential": [
            [
             0,
             "#0d0887"
            ],
            [
             0.1111111111111111,
             "#46039f"
            ],
            [
             0.2222222222222222,
             "#7201a8"
            ],
            [
             0.3333333333333333,
             "#9c179e"
            ],
            [
             0.4444444444444444,
             "#bd3786"
            ],
            [
             0.5555555555555556,
             "#d8576b"
            ],
            [
             0.6666666666666666,
             "#ed7953"
            ],
            [
             0.7777777777777778,
             "#fb9f3a"
            ],
            [
             0.8888888888888888,
             "#fdca26"
            ],
            [
             1,
             "#f0f921"
            ]
           ],
           "sequentialminus": [
            [
             0,
             "#0d0887"
            ],
            [
             0.1111111111111111,
             "#46039f"
            ],
            [
             0.2222222222222222,
             "#7201a8"
            ],
            [
             0.3333333333333333,
             "#9c179e"
            ],
            [
             0.4444444444444444,
             "#bd3786"
            ],
            [
             0.5555555555555556,
             "#d8576b"
            ],
            [
             0.6666666666666666,
             "#ed7953"
            ],
            [
             0.7777777777777778,
             "#fb9f3a"
            ],
            [
             0.8888888888888888,
             "#fdca26"
            ],
            [
             1,
             "#f0f921"
            ]
           ]
          },
          "colorway": [
           "#636efa",
           "#EF553B",
           "#00cc96",
           "#ab63fa",
           "#FFA15A",
           "#19d3f3",
           "#FF6692",
           "#B6E880",
           "#FF97FF",
           "#FECB52"
          ],
          "font": {
           "color": "#2a3f5f"
          },
          "geo": {
           "bgcolor": "white",
           "lakecolor": "white",
           "landcolor": "#E5ECF6",
           "showlakes": true,
           "showland": true,
           "subunitcolor": "white"
          },
          "hoverlabel": {
           "align": "left"
          },
          "hovermode": "closest",
          "mapbox": {
           "style": "light"
          },
          "paper_bgcolor": "white",
          "plot_bgcolor": "#E5ECF6",
          "polar": {
           "angularaxis": {
            "gridcolor": "white",
            "linecolor": "white",
            "ticks": ""
           },
           "bgcolor": "#E5ECF6",
           "radialaxis": {
            "gridcolor": "white",
            "linecolor": "white",
            "ticks": ""
           }
          },
          "scene": {
           "xaxis": {
            "backgroundcolor": "#E5ECF6",
            "gridcolor": "white",
            "gridwidth": 2,
            "linecolor": "white",
            "showbackground": true,
            "ticks": "",
            "zerolinecolor": "white"
           },
           "yaxis": {
            "backgroundcolor": "#E5ECF6",
            "gridcolor": "white",
            "gridwidth": 2,
            "linecolor": "white",
            "showbackground": true,
            "ticks": "",
            "zerolinecolor": "white"
           },
           "zaxis": {
            "backgroundcolor": "#E5ECF6",
            "gridcolor": "white",
            "gridwidth": 2,
            "linecolor": "white",
            "showbackground": true,
            "ticks": "",
            "zerolinecolor": "white"
           }
          },
          "shapedefaults": {
           "line": {
            "color": "#2a3f5f"
           }
          },
          "ternary": {
           "aaxis": {
            "gridcolor": "white",
            "linecolor": "white",
            "ticks": ""
           },
           "baxis": {
            "gridcolor": "white",
            "linecolor": "white",
            "ticks": ""
           },
           "bgcolor": "#E5ECF6",
           "caxis": {
            "gridcolor": "white",
            "linecolor": "white",
            "ticks": ""
           }
          },
          "title": {
           "x": 0.05
          },
          "xaxis": {
           "automargin": true,
           "gridcolor": "white",
           "linecolor": "white",
           "ticks": "",
           "title": {
            "standoff": 15
           },
           "zerolinecolor": "white",
           "zerolinewidth": 2
          },
          "yaxis": {
           "automargin": true,
           "gridcolor": "white",
           "linecolor": "white",
           "ticks": "",
           "title": {
            "standoff": 15
           },
           "zerolinecolor": "white",
           "zerolinewidth": 2
          }
         }
        },
        "title": {
         "text": "Rows Containing NaN Values",
         "x": 0.5
        },
        "width": 650
       }
      }
     },
     "metadata": {},
     "output_type": "display_data"
    }
   ],
   "source": [
    "#Plot\n",
    "color_1 = [px.colors.sequential.Agsunset[0], px.colors.sequential.Agsunset[1]]\n",
    "color_2 = [px.colors.sequential.Agsunset[2], px.colors.sequential.Agsunset[3]]\n",
    "\n",
    "\n",
    "row_figure = make_subplots(1, 2, specs=[[{\"type\":\"domain\"}, {\"type\":\"domain\"}]],\n",
    "    subplot_titles=[\"Contain NaN Values\", \"Contain >10 NaN Values\"])\n",
    "\n",
    "row_figure.add_trace(go.Pie(labels=[\"Has NaN Values\",\"Is Filled\"],\n",
    "    values=[nan_rows, total_rows - nan_rows],\n",
    "    marker_colors=color_1,\n",
    "    pull=[0.1, 0]), 1, 1)\n",
    "\n",
    "row_figure.add_trace(go.Pie(labels=[\">10 NaN\", \"<10 NaN\"],\n",
    "    values=[len(rows_to_del), nan_rows - len(rows_to_del)],\n",
    "    marker_colors=color_2), 1, 2)\n",
    "\n",
    "row_figure.update_layout(title_text=\"Rows Containing NaN Values\",\n",
    "    width=650, height= 400,\n",
    "    title_x=0.5)\n",
    "\n",
    "row_figure.show()"
   ]
  },
  {
   "cell_type": "markdown",
   "metadata": {},
   "source": [
    "For the remaining columns, we managed the missing values depending on the column. In more detail, if the column contained binary values (0,1) then the row containing the missing value was deleted. Otherwise, the missing value was replaced with the mean of the column."
   ]
  },
  {
   "cell_type": "code",
   "execution_count": 76,
   "metadata": {},
   "outputs": [
    {
     "name": "stdout",
     "output_type": "stream",
     "text": [
      "--------------------------- Handling Missing Values ---------------------------\n",
      "----------------------------------- BEFORE -----------------------------------\n",
      "Number of rows before filling missing values:  753\n",
      "\n",
      "Number of missing values per column before filling:\n",
      "Age                                    0\n",
      "Number of sexual partners             14\n",
      "First sexual intercourse               6\n",
      "Num of pregnancies                    47\n",
      "Smokes                                10\n",
      "Smokes (years)                        10\n",
      "Smokes (packs/year)                   10\n",
      "Hormonal Contraceptives               13\n",
      "Hormonal Contraceptives (years)       13\n",
      "IUD                                   16\n",
      "IUD (years)                           16\n",
      "STDs                                   0\n",
      "STDs (number)                          0\n",
      "STDs:condylomatosis                    0\n",
      "STDs:cervical condylomatosis           0\n",
      "STDs:vaginal condylomatosis            0\n",
      "STDs:vulvo-perineal condylomatosis     0\n",
      "STDs:syphilis                          0\n",
      "STDs:pelvic inflammatory disease       0\n",
      "STDs:genital herpes                    0\n",
      "STDs:molluscum contagiosum             0\n",
      "STDs:AIDS                              0\n",
      "STDs:HIV                               0\n",
      "STDs:Hepatitis B                       0\n",
      "STDs:HPV                               0\n",
      "STDs: Number of diagnosis              0\n",
      "Dx:Cancer                              0\n",
      "Dx:CIN                                 0\n",
      "Dx:HPV                                 0\n",
      "Dx                                     0\n",
      "Hinselmann                             0\n",
      "Schiller                               0\n",
      "Citology                               0\n",
      "Biopsy                                 0\n",
      "dtype: int64\n"
     ]
    }
   ],
   "source": [
    "print(\"--------------------------- Handling Missing Values ---------------------------\")\n",
    "print(\"----------------------------------- BEFORE -----------------------------------\")\n",
    "print(\"Number of rows before filling missing values: \", len(risk_factor_df))\n",
    "\n",
    "# Display the number of missing values before filling\n",
    "print(\"\\nNumber of missing values per column before filling:\")\n",
    "print(risk_factor_df.isnull().sum())\n",
    "\n",
    "# Fill missing values depending on the column\n",
    "for col in risk_factor_df.columns:\n",
    "    # If the column has more than 3 unique values, fill with mean of the column\n",
    "    if risk_factor_df[col].nunique() > 3:\n",
    "        risk_factor_df[col].fillna(risk_factor_df[col].median(), inplace=True)\n",
    "    \n",
    "# Drop rest NaN containing rows\n",
    "risk_factor_df=risk_factor_df.dropna()\n",
    "risk_factor_df.reset_index(drop=True, inplace=True)"
   ]
  },
  {
   "cell_type": "code",
   "execution_count": 77,
   "metadata": {},
   "outputs": [
    {
     "name": "stdout",
     "output_type": "stream",
     "text": [
      "\n",
      "----------------------------------- AFTER -----------------------------------\n",
      "Number of rows after filling missing values:  726\n",
      "\n",
      "Number of missing values per column after filling:\n",
      "Age                                   0\n",
      "Number of sexual partners             0\n",
      "First sexual intercourse              0\n",
      "Num of pregnancies                    0\n",
      "Smokes                                0\n",
      "Smokes (years)                        0\n",
      "Smokes (packs/year)                   0\n",
      "Hormonal Contraceptives               0\n",
      "Hormonal Contraceptives (years)       0\n",
      "IUD                                   0\n",
      "IUD (years)                           0\n",
      "STDs                                  0\n",
      "STDs (number)                         0\n",
      "STDs:condylomatosis                   0\n",
      "STDs:cervical condylomatosis          0\n",
      "STDs:vaginal condylomatosis           0\n",
      "STDs:vulvo-perineal condylomatosis    0\n",
      "STDs:syphilis                         0\n",
      "STDs:pelvic inflammatory disease      0\n",
      "STDs:genital herpes                   0\n",
      "STDs:molluscum contagiosum            0\n",
      "STDs:AIDS                             0\n",
      "STDs:HIV                              0\n",
      "STDs:Hepatitis B                      0\n",
      "STDs:HPV                              0\n",
      "STDs: Number of diagnosis             0\n",
      "Dx:Cancer                             0\n",
      "Dx:CIN                                0\n",
      "Dx:HPV                                0\n",
      "Dx                                    0\n",
      "Hinselmann                            0\n",
      "Schiller                              0\n",
      "Citology                              0\n",
      "Biopsy                                0\n",
      "dtype: int64\n"
     ]
    }
   ],
   "source": [
    "print(\"\\n----------------------------------- AFTER -----------------------------------\")\n",
    "print(\"Number of rows after filling missing values: \", len(risk_factor_df))\n",
    "\n",
    "# Display the number of missing values after filling\n",
    "print(\"\\nNumber of missing values per column after filling:\")\n",
    "print(risk_factor_df.isnull().sum())"
   ]
  },
  {
   "attachments": {},
   "cell_type": "markdown",
   "metadata": {},
   "source": [
    "### Duplicate Rows\n",
    "\n",
    "Following the missing value analysis, we examined if the dataset contained any duplicate rows and removed them from the dataset."
   ]
  },
  {
   "cell_type": "code",
   "execution_count": 78,
   "metadata": {},
   "outputs": [
    {
     "name": "stdout",
     "output_type": "stream",
     "text": [
      "----------------------------------- Duplicate Rows -----------------------------------\n",
      "Found 18 duplicate rows in the dataset.\n",
      "\n",
      "Duplicate rows indexes: [ 63 222 296 332 340 360 364 368 370 377 387 405 441 447 480 484 536 607]\n",
      "\n",
      "----------------------------- Removing Duplicates ----------------------------\n",
      "----------------------------------- BEFORE -----------------------------------\n",
      "Number of rows before removing duplicates:  726\n",
      "\n",
      "----------------------------------- AFTER -----------------------------------\n",
      "Number of rows after removing duplicates:  708\n"
     ]
    }
   ],
   "source": [
    "print(\"----------------------------------- Duplicate Rows -----------------------------------\")\n",
    "# Check for duplicate rows\n",
    "duplicate_rows = risk_factor_df.duplicated()\n",
    "\n",
    "# Count the number of duplicate rows\n",
    "num_duplicates = duplicate_rows.sum()\n",
    "\n",
    "if num_duplicates == 0:\n",
    "    print(\"No duplicate rows found in the dataset.\")\n",
    "else:\n",
    "    print(f\"Found {num_duplicates} duplicate rows in the dataset.\\n\")\n",
    "\n",
    "    # Display the duplicate rows indexes (if any)\n",
    "    print(\"Duplicate rows indexes: {}\\n\".format(risk_factor_df[duplicate_rows].index.values))\n",
    "\n",
    "    # Removing duplicate rows\n",
    "    print(\"----------------------------- Removing Duplicates ----------------------------\")\n",
    "    print(\"----------------------------------- BEFORE -----------------------------------\")\n",
    "    print(\"Number of rows before removing duplicates: \", len(risk_factor_df))\n",
    "\n",
    "    risk_factor_df.drop_duplicates(inplace=True)\n",
    "    risk_factor_df.reset_index(drop=True, inplace=True)\n",
    "\n",
    "    print(\"\\n----------------------------------- AFTER -----------------------------------\")\n",
    "    print(\"Number of rows after removing duplicates: \", len(risk_factor_df))\n"
   ]
  },
  {
   "cell_type": "markdown",
   "metadata": {},
   "source": [
    "This concluded the first phase of the preliminary analysis. After managing all the missing values and duplicate rows, the dataset had 34 features and 708 observations."
   ]
  },
  {
   "cell_type": "code",
   "execution_count": 79,
   "metadata": {},
   "outputs": [
    {
     "name": "stdout",
     "output_type": "stream",
     "text": [
      "\n",
      "Final dataset size: 34 cols, 708 rows\n"
     ]
    }
   ],
   "source": [
    "print(\"\\nFinal dataset size: {} cols, {} rows\".format(risk_factor_df.shape[1], risk_factor_df.shape[0]))"
   ]
  },
  {
   "cell_type": "markdown",
   "metadata": {},
   "source": [
    "## Understanding features\n",
    "\n",
    "Once the first part of the analysis was completed, we moved on to exploring the features and some statistical properties of the dataset. This would allow us to identify possible connections between the features as well as possible imbalances.\n",
    "\n",
    "#### Unique Features"
   ]
  },
  {
   "cell_type": "code",
   "execution_count": 80,
   "metadata": {},
   "outputs": [
    {
     "name": "stdout",
     "output_type": "stream",
     "text": [
      "----------------------------------- Unique Values -----------------------------------\n",
      "Age:\n",
      "[18 15 34 52 46 42 51 26 45 44 27 43 40 41 39 37 38 36 35 33 31 32 30 23\n",
      " 28 29 25 21 24 22 20 48 19 17 16 14 59 79 84 47 13 70 50 49]\n",
      "int64\n",
      "\n",
      "Number of sexual partners:\n",
      "[     4      1      5      3      2      6      8      7     28      9]\n",
      "float64\n",
      "\n",
      "First sexual intercourse:\n",
      "[    15     14     17     16     21     23     26     20     25     18\n",
      "     27     19     24     32     29     11     13     22     28     10\n",
      "     12]\n",
      "float64\n",
      "\n",
      "Num of pregnancies:\n",
      "[     1      4      2      6      3      5      8      7      0     11\n",
      "     10]\n",
      "float64\n",
      "\n",
      "Smokes:\n",
      "[     0      1]\n",
      "float64\n",
      "\n",
      "Smokes (years):\n",
      "[     0     37     34      3  1.267     12     18      7     19     21\n",
      "     13     16     15      8      4     10     22     14    0.5     11\n",
      "      2      6      5      1     32      9     24     28     20   0.16]\n",
      "float64\n",
      "\n",
      "Smokes (packs/year):\n",
      "[     0     37    3.4   0.04 0.5132    2.4      6      9    1.6     19\n",
      "     21    2.6    0.8     15      2      1    3.3    3.5  0.025   2.75\n",
      "     12    0.2    1.4    2.1    0.7    1.2    7.5   1.25      3   0.75\n",
      "    0.1      8   2.25  0.003      7   0.15   0.05      5   0.25    4.8\n",
      "    4.5    0.4   0.37    2.2   0.16    0.9     22   1.35    0.5    2.5\n",
      "      4    1.3   1.65    2.7    2.8  0.001    5.5    0.3]\n",
      "float64\n",
      "\n",
      "Hormonal Contraceptives:\n",
      "[     0      1]\n",
      "float64\n",
      "\n",
      "Hormonal Contraceptives (years):\n",
      "[     0      3     15      2      8     10      5   0.25      7     22\n",
      "     19    0.5      1   0.58      9     13     11      4     12     16\n",
      "   0.33   0.16     14   0.08 2.2822   0.66      6    1.5   0.42   0.67\n",
      "   0.75    2.5    4.5    6.5   0.17     20    3.5   0.41     17]\n",
      "float64\n",
      "\n",
      "IUD:\n",
      "[     0      1]\n",
      "float64\n",
      "\n",
      "IUD (years):\n",
      "[     0      7      5      8      6      1   0.58      2     19    0.5\n",
      "     17   0.08   0.25     10     11      3     15     12      9    1.5\n",
      "   0.91      4   0.33   0.41   0.16   0.17]\n",
      "float64\n",
      "\n",
      "STDs:\n",
      "[     0      1]\n",
      "float64\n",
      "\n",
      "STDs (number):\n",
      "[     0      2      1      3      4]\n",
      "float64\n",
      "\n",
      "STDs:condylomatosis:\n",
      "[     0      1]\n",
      "float64\n",
      "\n",
      "STDs:cervical condylomatosis:\n",
      "[     0]\n",
      "float64\n",
      "\n",
      "STDs:vaginal condylomatosis:\n",
      "[     0      1]\n",
      "float64\n",
      "\n",
      "STDs:vulvo-perineal condylomatosis:\n",
      "[     0      1]\n",
      "float64\n",
      "\n",
      "STDs:syphilis:\n",
      "[     0      1]\n",
      "float64\n",
      "\n",
      "STDs:pelvic inflammatory disease:\n",
      "[     0      1]\n",
      "float64\n",
      "\n",
      "STDs:genital herpes:\n",
      "[     0      1]\n",
      "float64\n",
      "\n",
      "STDs:molluscum contagiosum:\n",
      "[     0      1]\n",
      "float64\n",
      "\n",
      "STDs:AIDS:\n",
      "[     0]\n",
      "float64\n",
      "\n",
      "STDs:HIV:\n",
      "[     0      1]\n",
      "float64\n",
      "\n",
      "STDs:Hepatitis B:\n",
      "[     0      1]\n",
      "float64\n",
      "\n",
      "STDs:HPV:\n",
      "[     0      1]\n",
      "float64\n",
      "\n",
      "STDs: Number of diagnosis:\n",
      "[0 1 3 2]\n",
      "int64\n",
      "\n",
      "Dx:Cancer:\n",
      "[0 1]\n",
      "int64\n",
      "\n",
      "Dx:CIN:\n",
      "[0 1]\n",
      "int64\n",
      "\n",
      "Dx:HPV:\n",
      "[0 1]\n",
      "int64\n",
      "\n",
      "Dx:\n",
      "[0 1]\n",
      "int64\n",
      "\n",
      "Hinselmann:\n",
      "[0 1]\n",
      "int64\n",
      "\n",
      "Schiller:\n",
      "[0 1]\n",
      "int64\n",
      "\n",
      "Citology:\n",
      "[0 1]\n",
      "int64\n",
      "\n",
      "Biopsy:\n",
      "[0 1]\n",
      "int64\n",
      "\n"
     ]
    }
   ],
   "source": [
    "# Function finding the unique values of each column in the dataframe\n",
    "def find_unique_values_df(feat: pd.DataFrame):\n",
    "    return {col: feat[col].unique() for col in feat}\n",
    "\n",
    "print(\"----------------------------------- Unique Values -----------------------------------\")    \n",
    "# Unique Values\n",
    "unique_vals = find_unique_values_df(risk_factor_df)\n",
    "\n",
    "# Print unique values for each column\n",
    "for col, col_unique_vals in unique_vals.items():\n",
    "    print(f\"{col}:\")\n",
    "    print(col_unique_vals)\n",
    "    print(risk_factor_df[col].dtypes)\n",
    "    print()\n"
   ]
  },
  {
   "cell_type": "markdown",
   "metadata": {},
   "source": [
    "### Target Values Distribution\n",
    "\n",
    "First, we analyzed the dataset's balance. As shown in the graph, the dataset has a large imbalance across all four target variables. This imbalance complicates model training and evaluation, and it should be handled during the preprocessing step."
   ]
  },
  {
   "cell_type": "code",
   "execution_count": 81,
   "metadata": {},
   "outputs": [
    {
     "data": {
      "application/vnd.plotly.v1+json": {
       "config": {
        "plotlyServerURL": "https://plot.ly"
       },
       "data": [
        {
         "alignmentgroup": "True",
         "bingroup": "x",
         "histfunc": "sum",
         "hovertemplate": "Result=Healthy<br>Exam=%{x}<br>sum of Occurrences=%{y}<extra></extra>",
         "legendgroup": "Healthy",
         "marker": {
          "color": "rgb(127, 60, 141)",
          "pattern": {
           "shape": ""
          }
         },
         "name": "Healthy",
         "offsetgroup": "Healthy",
         "orientation": "v",
         "showlegend": true,
         "texttemplate": "%{value}",
         "type": "histogram",
         "x": [
          "Hinselmann",
          "Schiller",
          "Citology",
          "Biopsy"
         ],
         "xaxis": "x",
         "y": [
          675,
          640,
          669,
          659
         ],
         "yaxis": "y"
        },
        {
         "alignmentgroup": "True",
         "bingroup": "x",
         "histfunc": "sum",
         "hovertemplate": "Result=Cervical Cancer<br>Exam=%{x}<br>sum of Occurrences=%{y}<extra></extra>",
         "legendgroup": "Cervical Cancer",
         "marker": {
          "color": "rgb(17, 165, 121)",
          "pattern": {
           "shape": ""
          }
         },
         "name": "Cervical Cancer",
         "offsetgroup": "Cervical Cancer",
         "orientation": "v",
         "showlegend": true,
         "texttemplate": "%{value}",
         "type": "histogram",
         "x": [
          "Hinselmann",
          "Schiller",
          "Citology",
          "Biopsy"
         ],
         "xaxis": "x",
         "y": [
          33,
          68,
          39,
          49
         ],
         "yaxis": "y"
        }
       ],
       "layout": {
        "barmode": "group",
        "legend": {
         "title": {
          "text": "Result"
         },
         "tracegroupgap": 0
        },
        "template": {
         "data": {
          "bar": [
           {
            "error_x": {
             "color": "#2a3f5f"
            },
            "error_y": {
             "color": "#2a3f5f"
            },
            "marker": {
             "line": {
              "color": "#E5ECF6",
              "width": 0.5
             },
             "pattern": {
              "fillmode": "overlay",
              "size": 10,
              "solidity": 0.2
             }
            },
            "type": "bar"
           }
          ],
          "barpolar": [
           {
            "marker": {
             "line": {
              "color": "#E5ECF6",
              "width": 0.5
             },
             "pattern": {
              "fillmode": "overlay",
              "size": 10,
              "solidity": 0.2
             }
            },
            "type": "barpolar"
           }
          ],
          "carpet": [
           {
            "aaxis": {
             "endlinecolor": "#2a3f5f",
             "gridcolor": "white",
             "linecolor": "white",
             "minorgridcolor": "white",
             "startlinecolor": "#2a3f5f"
            },
            "baxis": {
             "endlinecolor": "#2a3f5f",
             "gridcolor": "white",
             "linecolor": "white",
             "minorgridcolor": "white",
             "startlinecolor": "#2a3f5f"
            },
            "type": "carpet"
           }
          ],
          "choropleth": [
           {
            "colorbar": {
             "outlinewidth": 0,
             "ticks": ""
            },
            "type": "choropleth"
           }
          ],
          "contour": [
           {
            "colorbar": {
             "outlinewidth": 0,
             "ticks": ""
            },
            "colorscale": [
             [
              0,
              "#0d0887"
             ],
             [
              0.1111111111111111,
              "#46039f"
             ],
             [
              0.2222222222222222,
              "#7201a8"
             ],
             [
              0.3333333333333333,
              "#9c179e"
             ],
             [
              0.4444444444444444,
              "#bd3786"
             ],
             [
              0.5555555555555556,
              "#d8576b"
             ],
             [
              0.6666666666666666,
              "#ed7953"
             ],
             [
              0.7777777777777778,
              "#fb9f3a"
             ],
             [
              0.8888888888888888,
              "#fdca26"
             ],
             [
              1,
              "#f0f921"
             ]
            ],
            "type": "contour"
           }
          ],
          "contourcarpet": [
           {
            "colorbar": {
             "outlinewidth": 0,
             "ticks": ""
            },
            "type": "contourcarpet"
           }
          ],
          "heatmap": [
           {
            "colorbar": {
             "outlinewidth": 0,
             "ticks": ""
            },
            "colorscale": [
             [
              0,
              "#0d0887"
             ],
             [
              0.1111111111111111,
              "#46039f"
             ],
             [
              0.2222222222222222,
              "#7201a8"
             ],
             [
              0.3333333333333333,
              "#9c179e"
             ],
             [
              0.4444444444444444,
              "#bd3786"
             ],
             [
              0.5555555555555556,
              "#d8576b"
             ],
             [
              0.6666666666666666,
              "#ed7953"
             ],
             [
              0.7777777777777778,
              "#fb9f3a"
             ],
             [
              0.8888888888888888,
              "#fdca26"
             ],
             [
              1,
              "#f0f921"
             ]
            ],
            "type": "heatmap"
           }
          ],
          "heatmapgl": [
           {
            "colorbar": {
             "outlinewidth": 0,
             "ticks": ""
            },
            "colorscale": [
             [
              0,
              "#0d0887"
             ],
             [
              0.1111111111111111,
              "#46039f"
             ],
             [
              0.2222222222222222,
              "#7201a8"
             ],
             [
              0.3333333333333333,
              "#9c179e"
             ],
             [
              0.4444444444444444,
              "#bd3786"
             ],
             [
              0.5555555555555556,
              "#d8576b"
             ],
             [
              0.6666666666666666,
              "#ed7953"
             ],
             [
              0.7777777777777778,
              "#fb9f3a"
             ],
             [
              0.8888888888888888,
              "#fdca26"
             ],
             [
              1,
              "#f0f921"
             ]
            ],
            "type": "heatmapgl"
           }
          ],
          "histogram": [
           {
            "marker": {
             "pattern": {
              "fillmode": "overlay",
              "size": 10,
              "solidity": 0.2
             }
            },
            "type": "histogram"
           }
          ],
          "histogram2d": [
           {
            "colorbar": {
             "outlinewidth": 0,
             "ticks": ""
            },
            "colorscale": [
             [
              0,
              "#0d0887"
             ],
             [
              0.1111111111111111,
              "#46039f"
             ],
             [
              0.2222222222222222,
              "#7201a8"
             ],
             [
              0.3333333333333333,
              "#9c179e"
             ],
             [
              0.4444444444444444,
              "#bd3786"
             ],
             [
              0.5555555555555556,
              "#d8576b"
             ],
             [
              0.6666666666666666,
              "#ed7953"
             ],
             [
              0.7777777777777778,
              "#fb9f3a"
             ],
             [
              0.8888888888888888,
              "#fdca26"
             ],
             [
              1,
              "#f0f921"
             ]
            ],
            "type": "histogram2d"
           }
          ],
          "histogram2dcontour": [
           {
            "colorbar": {
             "outlinewidth": 0,
             "ticks": ""
            },
            "colorscale": [
             [
              0,
              "#0d0887"
             ],
             [
              0.1111111111111111,
              "#46039f"
             ],
             [
              0.2222222222222222,
              "#7201a8"
             ],
             [
              0.3333333333333333,
              "#9c179e"
             ],
             [
              0.4444444444444444,
              "#bd3786"
             ],
             [
              0.5555555555555556,
              "#d8576b"
             ],
             [
              0.6666666666666666,
              "#ed7953"
             ],
             [
              0.7777777777777778,
              "#fb9f3a"
             ],
             [
              0.8888888888888888,
              "#fdca26"
             ],
             [
              1,
              "#f0f921"
             ]
            ],
            "type": "histogram2dcontour"
           }
          ],
          "mesh3d": [
           {
            "colorbar": {
             "outlinewidth": 0,
             "ticks": ""
            },
            "type": "mesh3d"
           }
          ],
          "parcoords": [
           {
            "line": {
             "colorbar": {
              "outlinewidth": 0,
              "ticks": ""
             }
            },
            "type": "parcoords"
           }
          ],
          "pie": [
           {
            "automargin": true,
            "type": "pie"
           }
          ],
          "scatter": [
           {
            "fillpattern": {
             "fillmode": "overlay",
             "size": 10,
             "solidity": 0.2
            },
            "type": "scatter"
           }
          ],
          "scatter3d": [
           {
            "line": {
             "colorbar": {
              "outlinewidth": 0,
              "ticks": ""
             }
            },
            "marker": {
             "colorbar": {
              "outlinewidth": 0,
              "ticks": ""
             }
            },
            "type": "scatter3d"
           }
          ],
          "scattercarpet": [
           {
            "marker": {
             "colorbar": {
              "outlinewidth": 0,
              "ticks": ""
             }
            },
            "type": "scattercarpet"
           }
          ],
          "scattergeo": [
           {
            "marker": {
             "colorbar": {
              "outlinewidth": 0,
              "ticks": ""
             }
            },
            "type": "scattergeo"
           }
          ],
          "scattergl": [
           {
            "marker": {
             "colorbar": {
              "outlinewidth": 0,
              "ticks": ""
             }
            },
            "type": "scattergl"
           }
          ],
          "scattermapbox": [
           {
            "marker": {
             "colorbar": {
              "outlinewidth": 0,
              "ticks": ""
             }
            },
            "type": "scattermapbox"
           }
          ],
          "scatterpolar": [
           {
            "marker": {
             "colorbar": {
              "outlinewidth": 0,
              "ticks": ""
             }
            },
            "type": "scatterpolar"
           }
          ],
          "scatterpolargl": [
           {
            "marker": {
             "colorbar": {
              "outlinewidth": 0,
              "ticks": ""
             }
            },
            "type": "scatterpolargl"
           }
          ],
          "scatterternary": [
           {
            "marker": {
             "colorbar": {
              "outlinewidth": 0,
              "ticks": ""
             }
            },
            "type": "scatterternary"
           }
          ],
          "surface": [
           {
            "colorbar": {
             "outlinewidth": 0,
             "ticks": ""
            },
            "colorscale": [
             [
              0,
              "#0d0887"
             ],
             [
              0.1111111111111111,
              "#46039f"
             ],
             [
              0.2222222222222222,
              "#7201a8"
             ],
             [
              0.3333333333333333,
              "#9c179e"
             ],
             [
              0.4444444444444444,
              "#bd3786"
             ],
             [
              0.5555555555555556,
              "#d8576b"
             ],
             [
              0.6666666666666666,
              "#ed7953"
             ],
             [
              0.7777777777777778,
              "#fb9f3a"
             ],
             [
              0.8888888888888888,
              "#fdca26"
             ],
             [
              1,
              "#f0f921"
             ]
            ],
            "type": "surface"
           }
          ],
          "table": [
           {
            "cells": {
             "fill": {
              "color": "#EBF0F8"
             },
             "line": {
              "color": "white"
             }
            },
            "header": {
             "fill": {
              "color": "#C8D4E3"
             },
             "line": {
              "color": "white"
             }
            },
            "type": "table"
           }
          ]
         },
         "layout": {
          "annotationdefaults": {
           "arrowcolor": "#2a3f5f",
           "arrowhead": 0,
           "arrowwidth": 1
          },
          "autotypenumbers": "strict",
          "coloraxis": {
           "colorbar": {
            "outlinewidth": 0,
            "ticks": ""
           }
          },
          "colorscale": {
           "diverging": [
            [
             0,
             "#8e0152"
            ],
            [
             0.1,
             "#c51b7d"
            ],
            [
             0.2,
             "#de77ae"
            ],
            [
             0.3,
             "#f1b6da"
            ],
            [
             0.4,
             "#fde0ef"
            ],
            [
             0.5,
             "#f7f7f7"
            ],
            [
             0.6,
             "#e6f5d0"
            ],
            [
             0.7,
             "#b8e186"
            ],
            [
             0.8,
             "#7fbc41"
            ],
            [
             0.9,
             "#4d9221"
            ],
            [
             1,
             "#276419"
            ]
           ],
           "sequential": [
            [
             0,
             "#0d0887"
            ],
            [
             0.1111111111111111,
             "#46039f"
            ],
            [
             0.2222222222222222,
             "#7201a8"
            ],
            [
             0.3333333333333333,
             "#9c179e"
            ],
            [
             0.4444444444444444,
             "#bd3786"
            ],
            [
             0.5555555555555556,
             "#d8576b"
            ],
            [
             0.6666666666666666,
             "#ed7953"
            ],
            [
             0.7777777777777778,
             "#fb9f3a"
            ],
            [
             0.8888888888888888,
             "#fdca26"
            ],
            [
             1,
             "#f0f921"
            ]
           ],
           "sequentialminus": [
            [
             0,
             "#0d0887"
            ],
            [
             0.1111111111111111,
             "#46039f"
            ],
            [
             0.2222222222222222,
             "#7201a8"
            ],
            [
             0.3333333333333333,
             "#9c179e"
            ],
            [
             0.4444444444444444,
             "#bd3786"
            ],
            [
             0.5555555555555556,
             "#d8576b"
            ],
            [
             0.6666666666666666,
             "#ed7953"
            ],
            [
             0.7777777777777778,
             "#fb9f3a"
            ],
            [
             0.8888888888888888,
             "#fdca26"
            ],
            [
             1,
             "#f0f921"
            ]
           ]
          },
          "colorway": [
           "#636efa",
           "#EF553B",
           "#00cc96",
           "#ab63fa",
           "#FFA15A",
           "#19d3f3",
           "#FF6692",
           "#B6E880",
           "#FF97FF",
           "#FECB52"
          ],
          "font": {
           "color": "#2a3f5f"
          },
          "geo": {
           "bgcolor": "white",
           "lakecolor": "white",
           "landcolor": "#E5ECF6",
           "showlakes": true,
           "showland": true,
           "subunitcolor": "white"
          },
          "hoverlabel": {
           "align": "left"
          },
          "hovermode": "closest",
          "mapbox": {
           "style": "light"
          },
          "paper_bgcolor": "white",
          "plot_bgcolor": "#E5ECF6",
          "polar": {
           "angularaxis": {
            "gridcolor": "white",
            "linecolor": "white",
            "ticks": ""
           },
           "bgcolor": "#E5ECF6",
           "radialaxis": {
            "gridcolor": "white",
            "linecolor": "white",
            "ticks": ""
           }
          },
          "scene": {
           "xaxis": {
            "backgroundcolor": "#E5ECF6",
            "gridcolor": "white",
            "gridwidth": 2,
            "linecolor": "white",
            "showbackground": true,
            "ticks": "",
            "zerolinecolor": "white"
           },
           "yaxis": {
            "backgroundcolor": "#E5ECF6",
            "gridcolor": "white",
            "gridwidth": 2,
            "linecolor": "white",
            "showbackground": true,
            "ticks": "",
            "zerolinecolor": "white"
           },
           "zaxis": {
            "backgroundcolor": "#E5ECF6",
            "gridcolor": "white",
            "gridwidth": 2,
            "linecolor": "white",
            "showbackground": true,
            "ticks": "",
            "zerolinecolor": "white"
           }
          },
          "shapedefaults": {
           "line": {
            "color": "#2a3f5f"
           }
          },
          "ternary": {
           "aaxis": {
            "gridcolor": "white",
            "linecolor": "white",
            "ticks": ""
           },
           "baxis": {
            "gridcolor": "white",
            "linecolor": "white",
            "ticks": ""
           },
           "bgcolor": "#E5ECF6",
           "caxis": {
            "gridcolor": "white",
            "linecolor": "white",
            "ticks": ""
           }
          },
          "title": {
           "x": 0.05
          },
          "xaxis": {
           "automargin": true,
           "gridcolor": "white",
           "linecolor": "white",
           "ticks": "",
           "title": {
            "standoff": 15
           },
           "zerolinecolor": "white",
           "zerolinewidth": 2
          },
          "yaxis": {
           "automargin": true,
           "gridcolor": "white",
           "linecolor": "white",
           "ticks": "",
           "title": {
            "standoff": 15
           },
           "zerolinecolor": "white",
           "zerolinewidth": 2
          }
         }
        },
        "title": {
         "text": "Class Distribution",
         "x": 0.5
        },
        "width": 600,
        "xaxis": {
         "anchor": "y",
         "domain": [
          0,
          1
         ],
         "title": {
          "text": "Exam"
         }
        },
        "yaxis": {
         "anchor": "x",
         "domain": [
          0,
          1
         ],
         "title": {
          "text": "sum of Occurrences"
         }
        }
       }
      }
     },
     "metadata": {},
     "output_type": "display_data"
    }
   ],
   "source": [
    "def getCount(col, value):\n",
    "    return risk_factor_df[col].value_counts()[value]\n",
    "\n",
    "# Plot occurrences of each class in the dataset\n",
    "classes_df = pd.DataFrame(\n",
    "    [[\"Hinselmann\", getCount(\"Hinselmann\", 0), getCount(\"Hinselmann\", 1)],\n",
    "        [\"Schiller\", getCount(\"Schiller\", 0), getCount(\"Schiller\", 1)],\n",
    "        [\"Citology\", getCount(\"Citology\", 0), getCount(\"Citology\", 1)],\n",
    "        [\"Biopsy\", getCount(\"Biopsy\", 0), getCount(\"Biopsy\", 1)]],\n",
    "    columns =[\"Exam\", \"Healthy\", \"Cervical Cancer\"])\n",
    "\n",
    "\n",
    "balance_fig = px.histogram(classes_df, x=\"Exam\", y=[\"Healthy\", \"Cervical Cancer\"],\n",
    "    title=\"Class Distribution\",\n",
    "    labels={\n",
    "        \"value\":\"Occurrences\",\n",
    "        \"variable\": \"Result\"\n",
    "    },\n",
    "    barmode=\"group\",\n",
    "    text_auto=True,\n",
    "    color_discrete_sequence=px.colors.qualitative.Bold,\n",
    "    width=600)\n",
    "\n",
    "balance_fig.update_layout(\n",
    "    title_x=0.5    \n",
    ")\n",
    "\n",
    "balance_fig.show()"
   ]
  },
  {
   "cell_type": "markdown",
   "metadata": {},
   "source": [
    "### Statistical Properties\n",
    "\n",
    "Moving on to the statistical properties of the dataset, we calculated the mean and standard deviation for each column. Columns with a standard deviation of 0 were omitted from the dataset because they did not add significant variability to the data since they contained the same value for all observations."
   ]
  },
  {
   "cell_type": "code",
   "execution_count": 82,
   "metadata": {},
   "outputs": [
    {
     "name": "stdout",
     "output_type": "stream",
     "text": [
      "Columns containing 1 value: ['STDs:cervical condylomatosis' 'STDs:AIDS']\n",
      "\n"
     ]
    }
   ],
   "source": [
    "mean_df = risk_factor_df.mean()\n",
    "std_df = risk_factor_df.std()\n",
    "\n",
    "# Print columns that have a standard deviation 0 (contain only one value)\n",
    "print(\"Columns containing 1 value: {}\\n\".format(std_df[std_df==0].index.values))\n"
   ]
  },
  {
   "cell_type": "code",
   "execution_count": 83,
   "metadata": {},
   "outputs": [],
   "source": [
    "risk_factor_df.drop(columns=[\"STDs:cervical condylomatosis\", \"STDs:AIDS\"], inplace=True)"
   ]
  },
  {
   "cell_type": "code",
   "execution_count": 84,
   "metadata": {},
   "outputs": [
    {
     "data": {
      "application/vnd.plotly.v1+json": {
       "config": {
        "plotlyServerURL": "https://plot.ly"
       },
       "data": [
        {
         "cells": {
          "align": [
           "left",
           "center"
          ],
          "format": [
           "",
           ".2"
          ],
          "values": [
           [
            "Age",
            "Number of sexual partners",
            "First sexual intercourse",
            "Num of pregnancies",
            "Smokes",
            "Smokes (years)",
            "Smokes (packs/year)",
            "Hormonal Contraceptives",
            "Hormonal Contraceptives (years)",
            "IUD",
            "IUD (years)",
            "STDs",
            "STDs (number)",
            "STDs:condylomatosis",
            "STDs:vaginal condylomatosis",
            "STDs:vulvo-perineal condylomatosis",
            "STDs:syphilis",
            "STDs:pelvic inflammatory disease",
            "STDs:genital herpes",
            "STDs:molluscum contagiosum",
            "STDs:HIV",
            "STDs:Hepatitis B",
            "STDs:HPV",
            "STDs: Number of diagnosis",
            "Dx:Cancer",
            "Dx:CIN",
            "Dx:HPV",
            "Dx",
            "Hinselmann",
            "Schiller",
            "Citology",
            "Biopsy"
           ],
           [
            27.467514124293785,
            2.5268361581920904,
            17.12146892655367,
            2.3262711864406778,
            0.14689265536723164,
            1.274854098868644,
            0.4756082311583334,
            0.652542372881356,
            2.282463843279661,
            0.11440677966101695,
            0.5275,
            0.096045197740113,
            0.1638418079096045,
            0.05508474576271186,
            0.005649717514124294,
            0.05367231638418079,
            0.0211864406779661,
            0.0014124293785310734,
            0.0014124293785310734,
            0.0014124293785310734,
            0.01977401129943503,
            0.0014124293785310734,
            0.002824858757062147,
            0.0903954802259887,
            0.02401129943502825,
            0.00847457627118644,
            0.022598870056497175,
            0.026836158192090395,
            0.046610169491525424,
            0.096045197740113,
            0.05508474576271186,
            0.0692090395480226
           ],
           [
            8.705479003161283,
            1.6317613608018362,
            2.8412882490460936,
            1.433895277242832,
            0.35424913887395415,
            4.230413544025245,
            2.347988808141401,
            0.47649923264491406,
            3.6887807102570767,
            0.31852970846249995,
            1.9734144890020433,
            0.2948615251762057,
            0.5462930889306776,
            0.22830689448561792,
            0.07500496098579168,
            0.22552924390172,
            0.14410727670452386,
            0.03758230140014145,
            0.03758230140014156,
            0.037582301400141495,
            0.13932126764364808,
            0.03758230140014154,
            0.053111799066887795,
            0.30603244058364987,
            0.1531923747811738,
            0.09173136277782064,
            0.1487259332585119,
            0.16171863824319657,
            0.2109514527725391,
            0.2948615251762058,
            0.2283068944856179,
            0.2539887095635964
           ]
          ]
         },
         "header": {
          "values": [
           "Feature",
           "Mean",
           "Standard Deviation"
          ]
         },
         "type": "table"
        }
       ],
       "layout": {
        "template": {
         "data": {
          "bar": [
           {
            "error_x": {
             "color": "#2a3f5f"
            },
            "error_y": {
             "color": "#2a3f5f"
            },
            "marker": {
             "line": {
              "color": "#E5ECF6",
              "width": 0.5
             },
             "pattern": {
              "fillmode": "overlay",
              "size": 10,
              "solidity": 0.2
             }
            },
            "type": "bar"
           }
          ],
          "barpolar": [
           {
            "marker": {
             "line": {
              "color": "#E5ECF6",
              "width": 0.5
             },
             "pattern": {
              "fillmode": "overlay",
              "size": 10,
              "solidity": 0.2
             }
            },
            "type": "barpolar"
           }
          ],
          "carpet": [
           {
            "aaxis": {
             "endlinecolor": "#2a3f5f",
             "gridcolor": "white",
             "linecolor": "white",
             "minorgridcolor": "white",
             "startlinecolor": "#2a3f5f"
            },
            "baxis": {
             "endlinecolor": "#2a3f5f",
             "gridcolor": "white",
             "linecolor": "white",
             "minorgridcolor": "white",
             "startlinecolor": "#2a3f5f"
            },
            "type": "carpet"
           }
          ],
          "choropleth": [
           {
            "colorbar": {
             "outlinewidth": 0,
             "ticks": ""
            },
            "type": "choropleth"
           }
          ],
          "contour": [
           {
            "colorbar": {
             "outlinewidth": 0,
             "ticks": ""
            },
            "colorscale": [
             [
              0,
              "#0d0887"
             ],
             [
              0.1111111111111111,
              "#46039f"
             ],
             [
              0.2222222222222222,
              "#7201a8"
             ],
             [
              0.3333333333333333,
              "#9c179e"
             ],
             [
              0.4444444444444444,
              "#bd3786"
             ],
             [
              0.5555555555555556,
              "#d8576b"
             ],
             [
              0.6666666666666666,
              "#ed7953"
             ],
             [
              0.7777777777777778,
              "#fb9f3a"
             ],
             [
              0.8888888888888888,
              "#fdca26"
             ],
             [
              1,
              "#f0f921"
             ]
            ],
            "type": "contour"
           }
          ],
          "contourcarpet": [
           {
            "colorbar": {
             "outlinewidth": 0,
             "ticks": ""
            },
            "type": "contourcarpet"
           }
          ],
          "heatmap": [
           {
            "colorbar": {
             "outlinewidth": 0,
             "ticks": ""
            },
            "colorscale": [
             [
              0,
              "#0d0887"
             ],
             [
              0.1111111111111111,
              "#46039f"
             ],
             [
              0.2222222222222222,
              "#7201a8"
             ],
             [
              0.3333333333333333,
              "#9c179e"
             ],
             [
              0.4444444444444444,
              "#bd3786"
             ],
             [
              0.5555555555555556,
              "#d8576b"
             ],
             [
              0.6666666666666666,
              "#ed7953"
             ],
             [
              0.7777777777777778,
              "#fb9f3a"
             ],
             [
              0.8888888888888888,
              "#fdca26"
             ],
             [
              1,
              "#f0f921"
             ]
            ],
            "type": "heatmap"
           }
          ],
          "heatmapgl": [
           {
            "colorbar": {
             "outlinewidth": 0,
             "ticks": ""
            },
            "colorscale": [
             [
              0,
              "#0d0887"
             ],
             [
              0.1111111111111111,
              "#46039f"
             ],
             [
              0.2222222222222222,
              "#7201a8"
             ],
             [
              0.3333333333333333,
              "#9c179e"
             ],
             [
              0.4444444444444444,
              "#bd3786"
             ],
             [
              0.5555555555555556,
              "#d8576b"
             ],
             [
              0.6666666666666666,
              "#ed7953"
             ],
             [
              0.7777777777777778,
              "#fb9f3a"
             ],
             [
              0.8888888888888888,
              "#fdca26"
             ],
             [
              1,
              "#f0f921"
             ]
            ],
            "type": "heatmapgl"
           }
          ],
          "histogram": [
           {
            "marker": {
             "pattern": {
              "fillmode": "overlay",
              "size": 10,
              "solidity": 0.2
             }
            },
            "type": "histogram"
           }
          ],
          "histogram2d": [
           {
            "colorbar": {
             "outlinewidth": 0,
             "ticks": ""
            },
            "colorscale": [
             [
              0,
              "#0d0887"
             ],
             [
              0.1111111111111111,
              "#46039f"
             ],
             [
              0.2222222222222222,
              "#7201a8"
             ],
             [
              0.3333333333333333,
              "#9c179e"
             ],
             [
              0.4444444444444444,
              "#bd3786"
             ],
             [
              0.5555555555555556,
              "#d8576b"
             ],
             [
              0.6666666666666666,
              "#ed7953"
             ],
             [
              0.7777777777777778,
              "#fb9f3a"
             ],
             [
              0.8888888888888888,
              "#fdca26"
             ],
             [
              1,
              "#f0f921"
             ]
            ],
            "type": "histogram2d"
           }
          ],
          "histogram2dcontour": [
           {
            "colorbar": {
             "outlinewidth": 0,
             "ticks": ""
            },
            "colorscale": [
             [
              0,
              "#0d0887"
             ],
             [
              0.1111111111111111,
              "#46039f"
             ],
             [
              0.2222222222222222,
              "#7201a8"
             ],
             [
              0.3333333333333333,
              "#9c179e"
             ],
             [
              0.4444444444444444,
              "#bd3786"
             ],
             [
              0.5555555555555556,
              "#d8576b"
             ],
             [
              0.6666666666666666,
              "#ed7953"
             ],
             [
              0.7777777777777778,
              "#fb9f3a"
             ],
             [
              0.8888888888888888,
              "#fdca26"
             ],
             [
              1,
              "#f0f921"
             ]
            ],
            "type": "histogram2dcontour"
           }
          ],
          "mesh3d": [
           {
            "colorbar": {
             "outlinewidth": 0,
             "ticks": ""
            },
            "type": "mesh3d"
           }
          ],
          "parcoords": [
           {
            "line": {
             "colorbar": {
              "outlinewidth": 0,
              "ticks": ""
             }
            },
            "type": "parcoords"
           }
          ],
          "pie": [
           {
            "automargin": true,
            "type": "pie"
           }
          ],
          "scatter": [
           {
            "fillpattern": {
             "fillmode": "overlay",
             "size": 10,
             "solidity": 0.2
            },
            "type": "scatter"
           }
          ],
          "scatter3d": [
           {
            "line": {
             "colorbar": {
              "outlinewidth": 0,
              "ticks": ""
             }
            },
            "marker": {
             "colorbar": {
              "outlinewidth": 0,
              "ticks": ""
             }
            },
            "type": "scatter3d"
           }
          ],
          "scattercarpet": [
           {
            "marker": {
             "colorbar": {
              "outlinewidth": 0,
              "ticks": ""
             }
            },
            "type": "scattercarpet"
           }
          ],
          "scattergeo": [
           {
            "marker": {
             "colorbar": {
              "outlinewidth": 0,
              "ticks": ""
             }
            },
            "type": "scattergeo"
           }
          ],
          "scattergl": [
           {
            "marker": {
             "colorbar": {
              "outlinewidth": 0,
              "ticks": ""
             }
            },
            "type": "scattergl"
           }
          ],
          "scattermapbox": [
           {
            "marker": {
             "colorbar": {
              "outlinewidth": 0,
              "ticks": ""
             }
            },
            "type": "scattermapbox"
           }
          ],
          "scatterpolar": [
           {
            "marker": {
             "colorbar": {
              "outlinewidth": 0,
              "ticks": ""
             }
            },
            "type": "scatterpolar"
           }
          ],
          "scatterpolargl": [
           {
            "marker": {
             "colorbar": {
              "outlinewidth": 0,
              "ticks": ""
             }
            },
            "type": "scatterpolargl"
           }
          ],
          "scatterternary": [
           {
            "marker": {
             "colorbar": {
              "outlinewidth": 0,
              "ticks": ""
             }
            },
            "type": "scatterternary"
           }
          ],
          "surface": [
           {
            "colorbar": {
             "outlinewidth": 0,
             "ticks": ""
            },
            "colorscale": [
             [
              0,
              "#0d0887"
             ],
             [
              0.1111111111111111,
              "#46039f"
             ],
             [
              0.2222222222222222,
              "#7201a8"
             ],
             [
              0.3333333333333333,
              "#9c179e"
             ],
             [
              0.4444444444444444,
              "#bd3786"
             ],
             [
              0.5555555555555556,
              "#d8576b"
             ],
             [
              0.6666666666666666,
              "#ed7953"
             ],
             [
              0.7777777777777778,
              "#fb9f3a"
             ],
             [
              0.8888888888888888,
              "#fdca26"
             ],
             [
              1,
              "#f0f921"
             ]
            ],
            "type": "surface"
           }
          ],
          "table": [
           {
            "cells": {
             "fill": {
              "color": "#EBF0F8"
             },
             "line": {
              "color": "white"
             }
            },
            "header": {
             "fill": {
              "color": "#C8D4E3"
             },
             "line": {
              "color": "white"
             }
            },
            "type": "table"
           }
          ]
         },
         "layout": {
          "annotationdefaults": {
           "arrowcolor": "#2a3f5f",
           "arrowhead": 0,
           "arrowwidth": 1
          },
          "autotypenumbers": "strict",
          "coloraxis": {
           "colorbar": {
            "outlinewidth": 0,
            "ticks": ""
           }
          },
          "colorscale": {
           "diverging": [
            [
             0,
             "#8e0152"
            ],
            [
             0.1,
             "#c51b7d"
            ],
            [
             0.2,
             "#de77ae"
            ],
            [
             0.3,
             "#f1b6da"
            ],
            [
             0.4,
             "#fde0ef"
            ],
            [
             0.5,
             "#f7f7f7"
            ],
            [
             0.6,
             "#e6f5d0"
            ],
            [
             0.7,
             "#b8e186"
            ],
            [
             0.8,
             "#7fbc41"
            ],
            [
             0.9,
             "#4d9221"
            ],
            [
             1,
             "#276419"
            ]
           ],
           "sequential": [
            [
             0,
             "#0d0887"
            ],
            [
             0.1111111111111111,
             "#46039f"
            ],
            [
             0.2222222222222222,
             "#7201a8"
            ],
            [
             0.3333333333333333,
             "#9c179e"
            ],
            [
             0.4444444444444444,
             "#bd3786"
            ],
            [
             0.5555555555555556,
             "#d8576b"
            ],
            [
             0.6666666666666666,
             "#ed7953"
            ],
            [
             0.7777777777777778,
             "#fb9f3a"
            ],
            [
             0.8888888888888888,
             "#fdca26"
            ],
            [
             1,
             "#f0f921"
            ]
           ],
           "sequentialminus": [
            [
             0,
             "#0d0887"
            ],
            [
             0.1111111111111111,
             "#46039f"
            ],
            [
             0.2222222222222222,
             "#7201a8"
            ],
            [
             0.3333333333333333,
             "#9c179e"
            ],
            [
             0.4444444444444444,
             "#bd3786"
            ],
            [
             0.5555555555555556,
             "#d8576b"
            ],
            [
             0.6666666666666666,
             "#ed7953"
            ],
            [
             0.7777777777777778,
             "#fb9f3a"
            ],
            [
             0.8888888888888888,
             "#fdca26"
            ],
            [
             1,
             "#f0f921"
            ]
           ]
          },
          "colorway": [
           "#636efa",
           "#EF553B",
           "#00cc96",
           "#ab63fa",
           "#FFA15A",
           "#19d3f3",
           "#FF6692",
           "#B6E880",
           "#FF97FF",
           "#FECB52"
          ],
          "font": {
           "color": "#2a3f5f"
          },
          "geo": {
           "bgcolor": "white",
           "lakecolor": "white",
           "landcolor": "#E5ECF6",
           "showlakes": true,
           "showland": true,
           "subunitcolor": "white"
          },
          "hoverlabel": {
           "align": "left"
          },
          "hovermode": "closest",
          "mapbox": {
           "style": "light"
          },
          "paper_bgcolor": "white",
          "plot_bgcolor": "#E5ECF6",
          "polar": {
           "angularaxis": {
            "gridcolor": "white",
            "linecolor": "white",
            "ticks": ""
           },
           "bgcolor": "#E5ECF6",
           "radialaxis": {
            "gridcolor": "white",
            "linecolor": "white",
            "ticks": ""
           }
          },
          "scene": {
           "xaxis": {
            "backgroundcolor": "#E5ECF6",
            "gridcolor": "white",
            "gridwidth": 2,
            "linecolor": "white",
            "showbackground": true,
            "ticks": "",
            "zerolinecolor": "white"
           },
           "yaxis": {
            "backgroundcolor": "#E5ECF6",
            "gridcolor": "white",
            "gridwidth": 2,
            "linecolor": "white",
            "showbackground": true,
            "ticks": "",
            "zerolinecolor": "white"
           },
           "zaxis": {
            "backgroundcolor": "#E5ECF6",
            "gridcolor": "white",
            "gridwidth": 2,
            "linecolor": "white",
            "showbackground": true,
            "ticks": "",
            "zerolinecolor": "white"
           }
          },
          "shapedefaults": {
           "line": {
            "color": "#2a3f5f"
           }
          },
          "ternary": {
           "aaxis": {
            "gridcolor": "white",
            "linecolor": "white",
            "ticks": ""
           },
           "baxis": {
            "gridcolor": "white",
            "linecolor": "white",
            "ticks": ""
           },
           "bgcolor": "#E5ECF6",
           "caxis": {
            "gridcolor": "white",
            "linecolor": "white",
            "ticks": ""
           }
          },
          "title": {
           "x": 0.05
          },
          "xaxis": {
           "automargin": true,
           "gridcolor": "white",
           "linecolor": "white",
           "ticks": "",
           "title": {
            "standoff": 15
           },
           "zerolinecolor": "white",
           "zerolinewidth": 2
          },
          "yaxis": {
           "automargin": true,
           "gridcolor": "white",
           "linecolor": "white",
           "ticks": "",
           "title": {
            "standoff": 15
           },
           "zerolinecolor": "white",
           "zerolinewidth": 2
          }
         }
        }
       }
      }
     },
     "metadata": {},
     "output_type": "display_data"
    }
   ],
   "source": [
    "# Plot\n",
    "mean_df = risk_factor_df.mean()\n",
    "std_df = risk_factor_df.std()\n",
    "\n",
    "statistic_fig = go.Figure(data=[go.Table(\n",
    "        header=dict(values=[\"Feature\", \"Mean\", \"Standard Deviation\"]),\n",
    "        cells=dict(values=[list(risk_factor_df.columns), mean_df.values, std_df.values],\n",
    "                    align=['left', 'center'],\n",
    "                    format=[\"\",\".2\"])\n",
    "    )\n",
    "])\n",
    "\n",
    "statistic_fig.show()"
   ]
  },
  {
   "cell_type": "markdown",
   "metadata": {},
   "source": [
    "#### Remove Outliers\n",
    "\n",
    "IQR (Inter Quartile Range) Inter Quartile Range approach to finding the outliers is the most commonly used and most trusted approach used in the research field. We utilised IQR to identify and remove outliers."
   ]
  },
  {
   "cell_type": "code",
   "execution_count": 85,
   "metadata": {},
   "outputs": [
    {
     "data": {
      "application/vnd.plotly.v1+json": {
       "config": {
        "plotlyServerURL": "https://plot.ly"
       },
       "data": [
        {
         "alignmentgroup": "True",
         "bingroup": "x",
         "hovertemplate": "Age=%{x}<br>count=%{y}<extra></extra>",
         "legendgroup": "",
         "marker": {
          "color": "rgb(3, 35, 51)",
          "pattern": {
           "shape": ""
          }
         },
         "name": "",
         "offsetgroup": "",
         "orientation": "v",
         "showlegend": false,
         "type": "histogram",
         "x": [
          18,
          15,
          34,
          52,
          46,
          42,
          51,
          26,
          45,
          44,
          27,
          45,
          44,
          43,
          40,
          41,
          43,
          42,
          40,
          43,
          41,
          40,
          40,
          40,
          44,
          39,
          39,
          37,
          37,
          41,
          40,
          37,
          37,
          38,
          37,
          39,
          37,
          39,
          36,
          37,
          36,
          36,
          37,
          36,
          40,
          41,
          37,
          36,
          36,
          36,
          35,
          36,
          41,
          35,
          33,
          35,
          35,
          34,
          35,
          35,
          33,
          38,
          37,
          36,
          35,
          35,
          36,
          34,
          35,
          35,
          34,
          33,
          35,
          35,
          33,
          31,
          32,
          32,
          36,
          34,
          36,
          35,
          32,
          33,
          35,
          33,
          33,
          33,
          35,
          35,
          33,
          34,
          30,
          38,
          33,
          34,
          30,
          33,
          32,
          32,
          30,
          23,
          34,
          34,
          31,
          30,
          28,
          33,
          30,
          31,
          30,
          31,
          31,
          29,
          29,
          30,
          28,
          30,
          30,
          33,
          30,
          27,
          29,
          29,
          30,
          30,
          30,
          31,
          30,
          29,
          33,
          28,
          30,
          26,
          26,
          27,
          28,
          27,
          29,
          32,
          27,
          28,
          28,
          28,
          28,
          30,
          29,
          27,
          29,
          18,
          26,
          26,
          29,
          29,
          28,
          26,
          27,
          30,
          26,
          27,
          25,
          28,
          26,
          28,
          28,
          27,
          28,
          29,
          27,
          25,
          26,
          28,
          27,
          27,
          26,
          26,
          27,
          28,
          21,
          25,
          28,
          26,
          27,
          25,
          25,
          27,
          28,
          30,
          25,
          29,
          26,
          28,
          23,
          25,
          23,
          24,
          26,
          25,
          27,
          23,
          26,
          23,
          24,
          25,
          24,
          29,
          28,
          24,
          24,
          30,
          25,
          22,
          28,
          23,
          25,
          22,
          25,
          23,
          24,
          23,
          25,
          22,
          21,
          23,
          28,
          21,
          23,
          22,
          21,
          21,
          23,
          26,
          21,
          24,
          24,
          21,
          21,
          20,
          22,
          23,
          21,
          25,
          26,
          21,
          22,
          23,
          26,
          21,
          23,
          22,
          21,
          23,
          23,
          24,
          24,
          23,
          20,
          23,
          25,
          20,
          26,
          25,
          23,
          24,
          24,
          21,
          20,
          20,
          23,
          22,
          20,
          33,
          20,
          21,
          20,
          23,
          27,
          31,
          22,
          21,
          29,
          22,
          48,
          20,
          19,
          21,
          18,
          19,
          19,
          21,
          19,
          19,
          45,
          19,
          21,
          37,
          24,
          20,
          20,
          18,
          19,
          20,
          19,
          19,
          20,
          18,
          21,
          24,
          21,
          23,
          21,
          22,
          41,
          20,
          18,
          21,
          18,
          25,
          19,
          18,
          21,
          18,
          22,
          20,
          17,
          20,
          19,
          19,
          20,
          19,
          21,
          17,
          21,
          18,
          17,
          18,
          17,
          17,
          20,
          17,
          35,
          20,
          18,
          18,
          17,
          18,
          18,
          17,
          20,
          16,
          18,
          20,
          16,
          18,
          19,
          31,
          16,
          20,
          16,
          20,
          18,
          15,
          18,
          18,
          17,
          17,
          18,
          16,
          18,
          16,
          16,
          14,
          15,
          17,
          14,
          16,
          17,
          16,
          15,
          15,
          39,
          18,
          35,
          41,
          33,
          19,
          38,
          29,
          28,
          31,
          39,
          20,
          25,
          23,
          28,
          24,
          19,
          34,
          18,
          20,
          27,
          24,
          34,
          32,
          39,
          32,
          24,
          37,
          26,
          36,
          18,
          31,
          25,
          15,
          16,
          18,
          27,
          31,
          20,
          29,
          24,
          19,
          17,
          42,
          16,
          32,
          33,
          27,
          33,
          19,
          24,
          26,
          18,
          22,
          24,
          24,
          18,
          20,
          27,
          16,
          29,
          21,
          17,
          34,
          20,
          33,
          15,
          26,
          40,
          27,
          22,
          20,
          38,
          21,
          23,
          36,
          24,
          27,
          25,
          24,
          44,
          30,
          22,
          25,
          29,
          23,
          20,
          19,
          36,
          17,
          20,
          23,
          30,
          33,
          35,
          45,
          41,
          17,
          21,
          23,
          15,
          20,
          18,
          19,
          17,
          20,
          28,
          28,
          34,
          23,
          20,
          29,
          19,
          26,
          21,
          23,
          21,
          23,
          24,
          35,
          25,
          19,
          19,
          24,
          31,
          36,
          22,
          19,
          18,
          32,
          23,
          41,
          24,
          26,
          20,
          21,
          27,
          36,
          37,
          28,
          17,
          32,
          39,
          28,
          15,
          23,
          27,
          16,
          22,
          32,
          26,
          41,
          59,
          21,
          45,
          21,
          23,
          22,
          18,
          27,
          16,
          23,
          28,
          23,
          38,
          21,
          17,
          79,
          84,
          47,
          52,
          13,
          48,
          42,
          45,
          70,
          46,
          32,
          50,
          49,
          42,
          70,
          39,
          46,
          49,
          35,
          33,
          28,
          24,
          15,
          26,
          18,
          18,
          28,
          29,
          18,
          27,
          18,
          26,
          17,
          41,
          18,
          21,
          22,
          25,
          27,
          19,
          23,
          16,
          29,
          19,
          37,
          21,
          40,
          26,
          34,
          23,
          19,
          30,
          21,
          29,
          31,
          32,
          23,
          40,
          23,
          31,
          30,
          36,
          20,
          27,
          28,
          40,
          19,
          29,
          17,
          16,
          24,
          21,
          25,
          29,
          18,
          34,
          20,
          28,
          30,
          25,
          30,
          18,
          17,
          41,
          23,
          25,
          21,
          26,
          43,
          27,
          17,
          37,
          34,
          18,
          29,
          25,
          25,
          22,
          20,
          24,
          15,
          24,
          35,
          31,
          33,
          25,
          19,
          23,
          35,
          15,
          18,
          29,
          34,
          17,
          29,
          29,
          19,
          17,
          14,
          20,
          30,
          29,
          35,
          24,
          31,
          36,
          33,
          36,
          42,
          33,
          35,
          33,
          34,
          35,
          40,
          30,
          34,
          30,
          24,
          37,
          31,
          35,
          31,
          24,
          23,
          36,
          30,
          26,
          19,
          35,
          30,
          31,
          32,
          19,
          23,
          43,
          34,
          32,
          25,
          33,
          29
         ],
         "xaxis": "x",
         "yaxis": "y"
        },
        {
         "alignmentgroup": "True",
         "hovertemplate": "Age=%{x}<extra></extra>",
         "legendgroup": "",
         "marker": {
          "color": "rgb(3, 35, 51)"
         },
         "name": "",
         "notched": true,
         "offsetgroup": "",
         "showlegend": false,
         "type": "box",
         "x": [
          18,
          15,
          34,
          52,
          46,
          42,
          51,
          26,
          45,
          44,
          27,
          45,
          44,
          43,
          40,
          41,
          43,
          42,
          40,
          43,
          41,
          40,
          40,
          40,
          44,
          39,
          39,
          37,
          37,
          41,
          40,
          37,
          37,
          38,
          37,
          39,
          37,
          39,
          36,
          37,
          36,
          36,
          37,
          36,
          40,
          41,
          37,
          36,
          36,
          36,
          35,
          36,
          41,
          35,
          33,
          35,
          35,
          34,
          35,
          35,
          33,
          38,
          37,
          36,
          35,
          35,
          36,
          34,
          35,
          35,
          34,
          33,
          35,
          35,
          33,
          31,
          32,
          32,
          36,
          34,
          36,
          35,
          32,
          33,
          35,
          33,
          33,
          33,
          35,
          35,
          33,
          34,
          30,
          38,
          33,
          34,
          30,
          33,
          32,
          32,
          30,
          23,
          34,
          34,
          31,
          30,
          28,
          33,
          30,
          31,
          30,
          31,
          31,
          29,
          29,
          30,
          28,
          30,
          30,
          33,
          30,
          27,
          29,
          29,
          30,
          30,
          30,
          31,
          30,
          29,
          33,
          28,
          30,
          26,
          26,
          27,
          28,
          27,
          29,
          32,
          27,
          28,
          28,
          28,
          28,
          30,
          29,
          27,
          29,
          18,
          26,
          26,
          29,
          29,
          28,
          26,
          27,
          30,
          26,
          27,
          25,
          28,
          26,
          28,
          28,
          27,
          28,
          29,
          27,
          25,
          26,
          28,
          27,
          27,
          26,
          26,
          27,
          28,
          21,
          25,
          28,
          26,
          27,
          25,
          25,
          27,
          28,
          30,
          25,
          29,
          26,
          28,
          23,
          25,
          23,
          24,
          26,
          25,
          27,
          23,
          26,
          23,
          24,
          25,
          24,
          29,
          28,
          24,
          24,
          30,
          25,
          22,
          28,
          23,
          25,
          22,
          25,
          23,
          24,
          23,
          25,
          22,
          21,
          23,
          28,
          21,
          23,
          22,
          21,
          21,
          23,
          26,
          21,
          24,
          24,
          21,
          21,
          20,
          22,
          23,
          21,
          25,
          26,
          21,
          22,
          23,
          26,
          21,
          23,
          22,
          21,
          23,
          23,
          24,
          24,
          23,
          20,
          23,
          25,
          20,
          26,
          25,
          23,
          24,
          24,
          21,
          20,
          20,
          23,
          22,
          20,
          33,
          20,
          21,
          20,
          23,
          27,
          31,
          22,
          21,
          29,
          22,
          48,
          20,
          19,
          21,
          18,
          19,
          19,
          21,
          19,
          19,
          45,
          19,
          21,
          37,
          24,
          20,
          20,
          18,
          19,
          20,
          19,
          19,
          20,
          18,
          21,
          24,
          21,
          23,
          21,
          22,
          41,
          20,
          18,
          21,
          18,
          25,
          19,
          18,
          21,
          18,
          22,
          20,
          17,
          20,
          19,
          19,
          20,
          19,
          21,
          17,
          21,
          18,
          17,
          18,
          17,
          17,
          20,
          17,
          35,
          20,
          18,
          18,
          17,
          18,
          18,
          17,
          20,
          16,
          18,
          20,
          16,
          18,
          19,
          31,
          16,
          20,
          16,
          20,
          18,
          15,
          18,
          18,
          17,
          17,
          18,
          16,
          18,
          16,
          16,
          14,
          15,
          17,
          14,
          16,
          17,
          16,
          15,
          15,
          39,
          18,
          35,
          41,
          33,
          19,
          38,
          29,
          28,
          31,
          39,
          20,
          25,
          23,
          28,
          24,
          19,
          34,
          18,
          20,
          27,
          24,
          34,
          32,
          39,
          32,
          24,
          37,
          26,
          36,
          18,
          31,
          25,
          15,
          16,
          18,
          27,
          31,
          20,
          29,
          24,
          19,
          17,
          42,
          16,
          32,
          33,
          27,
          33,
          19,
          24,
          26,
          18,
          22,
          24,
          24,
          18,
          20,
          27,
          16,
          29,
          21,
          17,
          34,
          20,
          33,
          15,
          26,
          40,
          27,
          22,
          20,
          38,
          21,
          23,
          36,
          24,
          27,
          25,
          24,
          44,
          30,
          22,
          25,
          29,
          23,
          20,
          19,
          36,
          17,
          20,
          23,
          30,
          33,
          35,
          45,
          41,
          17,
          21,
          23,
          15,
          20,
          18,
          19,
          17,
          20,
          28,
          28,
          34,
          23,
          20,
          29,
          19,
          26,
          21,
          23,
          21,
          23,
          24,
          35,
          25,
          19,
          19,
          24,
          31,
          36,
          22,
          19,
          18,
          32,
          23,
          41,
          24,
          26,
          20,
          21,
          27,
          36,
          37,
          28,
          17,
          32,
          39,
          28,
          15,
          23,
          27,
          16,
          22,
          32,
          26,
          41,
          59,
          21,
          45,
          21,
          23,
          22,
          18,
          27,
          16,
          23,
          28,
          23,
          38,
          21,
          17,
          79,
          84,
          47,
          52,
          13,
          48,
          42,
          45,
          70,
          46,
          32,
          50,
          49,
          42,
          70,
          39,
          46,
          49,
          35,
          33,
          28,
          24,
          15,
          26,
          18,
          18,
          28,
          29,
          18,
          27,
          18,
          26,
          17,
          41,
          18,
          21,
          22,
          25,
          27,
          19,
          23,
          16,
          29,
          19,
          37,
          21,
          40,
          26,
          34,
          23,
          19,
          30,
          21,
          29,
          31,
          32,
          23,
          40,
          23,
          31,
          30,
          36,
          20,
          27,
          28,
          40,
          19,
          29,
          17,
          16,
          24,
          21,
          25,
          29,
          18,
          34,
          20,
          28,
          30,
          25,
          30,
          18,
          17,
          41,
          23,
          25,
          21,
          26,
          43,
          27,
          17,
          37,
          34,
          18,
          29,
          25,
          25,
          22,
          20,
          24,
          15,
          24,
          35,
          31,
          33,
          25,
          19,
          23,
          35,
          15,
          18,
          29,
          34,
          17,
          29,
          29,
          19,
          17,
          14,
          20,
          30,
          29,
          35,
          24,
          31,
          36,
          33,
          36,
          42,
          33,
          35,
          33,
          34,
          35,
          40,
          30,
          34,
          30,
          24,
          37,
          31,
          35,
          31,
          24,
          23,
          36,
          30,
          26,
          19,
          35,
          30,
          31,
          32,
          19,
          23,
          43,
          34,
          32,
          25,
          33,
          29
         ],
         "xaxis": "x2",
         "yaxis": "y2"
        }
       ],
       "layout": {
        "bargap": 0.2,
        "barmode": "relative",
        "legend": {
         "tracegroupgap": 0
        },
        "margin": {
         "t": 60
        },
        "template": {
         "data": {
          "bar": [
           {
            "error_x": {
             "color": "#2a3f5f"
            },
            "error_y": {
             "color": "#2a3f5f"
            },
            "marker": {
             "line": {
              "color": "#E5ECF6",
              "width": 0.5
             },
             "pattern": {
              "fillmode": "overlay",
              "size": 10,
              "solidity": 0.2
             }
            },
            "type": "bar"
           }
          ],
          "barpolar": [
           {
            "marker": {
             "line": {
              "color": "#E5ECF6",
              "width": 0.5
             },
             "pattern": {
              "fillmode": "overlay",
              "size": 10,
              "solidity": 0.2
             }
            },
            "type": "barpolar"
           }
          ],
          "carpet": [
           {
            "aaxis": {
             "endlinecolor": "#2a3f5f",
             "gridcolor": "white",
             "linecolor": "white",
             "minorgridcolor": "white",
             "startlinecolor": "#2a3f5f"
            },
            "baxis": {
             "endlinecolor": "#2a3f5f",
             "gridcolor": "white",
             "linecolor": "white",
             "minorgridcolor": "white",
             "startlinecolor": "#2a3f5f"
            },
            "type": "carpet"
           }
          ],
          "choropleth": [
           {
            "colorbar": {
             "outlinewidth": 0,
             "ticks": ""
            },
            "type": "choropleth"
           }
          ],
          "contour": [
           {
            "colorbar": {
             "outlinewidth": 0,
             "ticks": ""
            },
            "colorscale": [
             [
              0,
              "#0d0887"
             ],
             [
              0.1111111111111111,
              "#46039f"
             ],
             [
              0.2222222222222222,
              "#7201a8"
             ],
             [
              0.3333333333333333,
              "#9c179e"
             ],
             [
              0.4444444444444444,
              "#bd3786"
             ],
             [
              0.5555555555555556,
              "#d8576b"
             ],
             [
              0.6666666666666666,
              "#ed7953"
             ],
             [
              0.7777777777777778,
              "#fb9f3a"
             ],
             [
              0.8888888888888888,
              "#fdca26"
             ],
             [
              1,
              "#f0f921"
             ]
            ],
            "type": "contour"
           }
          ],
          "contourcarpet": [
           {
            "colorbar": {
             "outlinewidth": 0,
             "ticks": ""
            },
            "type": "contourcarpet"
           }
          ],
          "heatmap": [
           {
            "colorbar": {
             "outlinewidth": 0,
             "ticks": ""
            },
            "colorscale": [
             [
              0,
              "#0d0887"
             ],
             [
              0.1111111111111111,
              "#46039f"
             ],
             [
              0.2222222222222222,
              "#7201a8"
             ],
             [
              0.3333333333333333,
              "#9c179e"
             ],
             [
              0.4444444444444444,
              "#bd3786"
             ],
             [
              0.5555555555555556,
              "#d8576b"
             ],
             [
              0.6666666666666666,
              "#ed7953"
             ],
             [
              0.7777777777777778,
              "#fb9f3a"
             ],
             [
              0.8888888888888888,
              "#fdca26"
             ],
             [
              1,
              "#f0f921"
             ]
            ],
            "type": "heatmap"
           }
          ],
          "heatmapgl": [
           {
            "colorbar": {
             "outlinewidth": 0,
             "ticks": ""
            },
            "colorscale": [
             [
              0,
              "#0d0887"
             ],
             [
              0.1111111111111111,
              "#46039f"
             ],
             [
              0.2222222222222222,
              "#7201a8"
             ],
             [
              0.3333333333333333,
              "#9c179e"
             ],
             [
              0.4444444444444444,
              "#bd3786"
             ],
             [
              0.5555555555555556,
              "#d8576b"
             ],
             [
              0.6666666666666666,
              "#ed7953"
             ],
             [
              0.7777777777777778,
              "#fb9f3a"
             ],
             [
              0.8888888888888888,
              "#fdca26"
             ],
             [
              1,
              "#f0f921"
             ]
            ],
            "type": "heatmapgl"
           }
          ],
          "histogram": [
           {
            "marker": {
             "pattern": {
              "fillmode": "overlay",
              "size": 10,
              "solidity": 0.2
             }
            },
            "type": "histogram"
           }
          ],
          "histogram2d": [
           {
            "colorbar": {
             "outlinewidth": 0,
             "ticks": ""
            },
            "colorscale": [
             [
              0,
              "#0d0887"
             ],
             [
              0.1111111111111111,
              "#46039f"
             ],
             [
              0.2222222222222222,
              "#7201a8"
             ],
             [
              0.3333333333333333,
              "#9c179e"
             ],
             [
              0.4444444444444444,
              "#bd3786"
             ],
             [
              0.5555555555555556,
              "#d8576b"
             ],
             [
              0.6666666666666666,
              "#ed7953"
             ],
             [
              0.7777777777777778,
              "#fb9f3a"
             ],
             [
              0.8888888888888888,
              "#fdca26"
             ],
             [
              1,
              "#f0f921"
             ]
            ],
            "type": "histogram2d"
           }
          ],
          "histogram2dcontour": [
           {
            "colorbar": {
             "outlinewidth": 0,
             "ticks": ""
            },
            "colorscale": [
             [
              0,
              "#0d0887"
             ],
             [
              0.1111111111111111,
              "#46039f"
             ],
             [
              0.2222222222222222,
              "#7201a8"
             ],
             [
              0.3333333333333333,
              "#9c179e"
             ],
             [
              0.4444444444444444,
              "#bd3786"
             ],
             [
              0.5555555555555556,
              "#d8576b"
             ],
             [
              0.6666666666666666,
              "#ed7953"
             ],
             [
              0.7777777777777778,
              "#fb9f3a"
             ],
             [
              0.8888888888888888,
              "#fdca26"
             ],
             [
              1,
              "#f0f921"
             ]
            ],
            "type": "histogram2dcontour"
           }
          ],
          "mesh3d": [
           {
            "colorbar": {
             "outlinewidth": 0,
             "ticks": ""
            },
            "type": "mesh3d"
           }
          ],
          "parcoords": [
           {
            "line": {
             "colorbar": {
              "outlinewidth": 0,
              "ticks": ""
             }
            },
            "type": "parcoords"
           }
          ],
          "pie": [
           {
            "automargin": true,
            "type": "pie"
           }
          ],
          "scatter": [
           {
            "fillpattern": {
             "fillmode": "overlay",
             "size": 10,
             "solidity": 0.2
            },
            "type": "scatter"
           }
          ],
          "scatter3d": [
           {
            "line": {
             "colorbar": {
              "outlinewidth": 0,
              "ticks": ""
             }
            },
            "marker": {
             "colorbar": {
              "outlinewidth": 0,
              "ticks": ""
             }
            },
            "type": "scatter3d"
           }
          ],
          "scattercarpet": [
           {
            "marker": {
             "colorbar": {
              "outlinewidth": 0,
              "ticks": ""
             }
            },
            "type": "scattercarpet"
           }
          ],
          "scattergeo": [
           {
            "marker": {
             "colorbar": {
              "outlinewidth": 0,
              "ticks": ""
             }
            },
            "type": "scattergeo"
           }
          ],
          "scattergl": [
           {
            "marker": {
             "colorbar": {
              "outlinewidth": 0,
              "ticks": ""
             }
            },
            "type": "scattergl"
           }
          ],
          "scattermapbox": [
           {
            "marker": {
             "colorbar": {
              "outlinewidth": 0,
              "ticks": ""
             }
            },
            "type": "scattermapbox"
           }
          ],
          "scatterpolar": [
           {
            "marker": {
             "colorbar": {
              "outlinewidth": 0,
              "ticks": ""
             }
            },
            "type": "scatterpolar"
           }
          ],
          "scatterpolargl": [
           {
            "marker": {
             "colorbar": {
              "outlinewidth": 0,
              "ticks": ""
             }
            },
            "type": "scatterpolargl"
           }
          ],
          "scatterternary": [
           {
            "marker": {
             "colorbar": {
              "outlinewidth": 0,
              "ticks": ""
             }
            },
            "type": "scatterternary"
           }
          ],
          "surface": [
           {
            "colorbar": {
             "outlinewidth": 0,
             "ticks": ""
            },
            "colorscale": [
             [
              0,
              "#0d0887"
             ],
             [
              0.1111111111111111,
              "#46039f"
             ],
             [
              0.2222222222222222,
              "#7201a8"
             ],
             [
              0.3333333333333333,
              "#9c179e"
             ],
             [
              0.4444444444444444,
              "#bd3786"
             ],
             [
              0.5555555555555556,
              "#d8576b"
             ],
             [
              0.6666666666666666,
              "#ed7953"
             ],
             [
              0.7777777777777778,
              "#fb9f3a"
             ],
             [
              0.8888888888888888,
              "#fdca26"
             ],
             [
              1,
              "#f0f921"
             ]
            ],
            "type": "surface"
           }
          ],
          "table": [
           {
            "cells": {
             "fill": {
              "color": "#EBF0F8"
             },
             "line": {
              "color": "white"
             }
            },
            "header": {
             "fill": {
              "color": "#C8D4E3"
             },
             "line": {
              "color": "white"
             }
            },
            "type": "table"
           }
          ]
         },
         "layout": {
          "annotationdefaults": {
           "arrowcolor": "#2a3f5f",
           "arrowhead": 0,
           "arrowwidth": 1
          },
          "autotypenumbers": "strict",
          "coloraxis": {
           "colorbar": {
            "outlinewidth": 0,
            "ticks": ""
           }
          },
          "colorscale": {
           "diverging": [
            [
             0,
             "#8e0152"
            ],
            [
             0.1,
             "#c51b7d"
            ],
            [
             0.2,
             "#de77ae"
            ],
            [
             0.3,
             "#f1b6da"
            ],
            [
             0.4,
             "#fde0ef"
            ],
            [
             0.5,
             "#f7f7f7"
            ],
            [
             0.6,
             "#e6f5d0"
            ],
            [
             0.7,
             "#b8e186"
            ],
            [
             0.8,
             "#7fbc41"
            ],
            [
             0.9,
             "#4d9221"
            ],
            [
             1,
             "#276419"
            ]
           ],
           "sequential": [
            [
             0,
             "#0d0887"
            ],
            [
             0.1111111111111111,
             "#46039f"
            ],
            [
             0.2222222222222222,
             "#7201a8"
            ],
            [
             0.3333333333333333,
             "#9c179e"
            ],
            [
             0.4444444444444444,
             "#bd3786"
            ],
            [
             0.5555555555555556,
             "#d8576b"
            ],
            [
             0.6666666666666666,
             "#ed7953"
            ],
            [
             0.7777777777777778,
             "#fb9f3a"
            ],
            [
             0.8888888888888888,
             "#fdca26"
            ],
            [
             1,
             "#f0f921"
            ]
           ],
           "sequentialminus": [
            [
             0,
             "#0d0887"
            ],
            [
             0.1111111111111111,
             "#46039f"
            ],
            [
             0.2222222222222222,
             "#7201a8"
            ],
            [
             0.3333333333333333,
             "#9c179e"
            ],
            [
             0.4444444444444444,
             "#bd3786"
            ],
            [
             0.5555555555555556,
             "#d8576b"
            ],
            [
             0.6666666666666666,
             "#ed7953"
            ],
            [
             0.7777777777777778,
             "#fb9f3a"
            ],
            [
             0.8888888888888888,
             "#fdca26"
            ],
            [
             1,
             "#f0f921"
            ]
           ]
          },
          "colorway": [
           "#636efa",
           "#EF553B",
           "#00cc96",
           "#ab63fa",
           "#FFA15A",
           "#19d3f3",
           "#FF6692",
           "#B6E880",
           "#FF97FF",
           "#FECB52"
          ],
          "font": {
           "color": "#2a3f5f"
          },
          "geo": {
           "bgcolor": "white",
           "lakecolor": "white",
           "landcolor": "#E5ECF6",
           "showlakes": true,
           "showland": true,
           "subunitcolor": "white"
          },
          "hoverlabel": {
           "align": "left"
          },
          "hovermode": "closest",
          "mapbox": {
           "style": "light"
          },
          "paper_bgcolor": "white",
          "plot_bgcolor": "#E5ECF6",
          "polar": {
           "angularaxis": {
            "gridcolor": "white",
            "linecolor": "white",
            "ticks": ""
           },
           "bgcolor": "#E5ECF6",
           "radialaxis": {
            "gridcolor": "white",
            "linecolor": "white",
            "ticks": ""
           }
          },
          "scene": {
           "xaxis": {
            "backgroundcolor": "#E5ECF6",
            "gridcolor": "white",
            "gridwidth": 2,
            "linecolor": "white",
            "showbackground": true,
            "ticks": "",
            "zerolinecolor": "white"
           },
           "yaxis": {
            "backgroundcolor": "#E5ECF6",
            "gridcolor": "white",
            "gridwidth": 2,
            "linecolor": "white",
            "showbackground": true,
            "ticks": "",
            "zerolinecolor": "white"
           },
           "zaxis": {
            "backgroundcolor": "#E5ECF6",
            "gridcolor": "white",
            "gridwidth": 2,
            "linecolor": "white",
            "showbackground": true,
            "ticks": "",
            "zerolinecolor": "white"
           }
          },
          "shapedefaults": {
           "line": {
            "color": "#2a3f5f"
           }
          },
          "ternary": {
           "aaxis": {
            "gridcolor": "white",
            "linecolor": "white",
            "ticks": ""
           },
           "baxis": {
            "gridcolor": "white",
            "linecolor": "white",
            "ticks": ""
           },
           "bgcolor": "#E5ECF6",
           "caxis": {
            "gridcolor": "white",
            "linecolor": "white",
            "ticks": ""
           }
          },
          "title": {
           "x": 0.05
          },
          "xaxis": {
           "automargin": true,
           "gridcolor": "white",
           "linecolor": "white",
           "ticks": "",
           "title": {
            "standoff": 15
           },
           "zerolinecolor": "white",
           "zerolinewidth": 2
          },
          "yaxis": {
           "automargin": true,
           "gridcolor": "white",
           "linecolor": "white",
           "ticks": "",
           "title": {
            "standoff": 15
           },
           "zerolinecolor": "white",
           "zerolinewidth": 2
          }
         }
        },
        "width": 701,
        "xaxis": {
         "anchor": "y",
         "domain": [
          0,
          1
         ],
         "title": {
          "text": "Age"
         }
        },
        "xaxis2": {
         "anchor": "y2",
         "domain": [
          0,
          1
         ],
         "matches": "x",
         "showgrid": true,
         "showticklabels": false
        },
        "yaxis": {
         "anchor": "x",
         "domain": [
          0,
          0.8316
         ],
         "title": {
          "text": "count"
         }
        },
        "yaxis2": {
         "anchor": "x2",
         "domain": [
          0.8416,
          1
         ],
         "matches": "y2",
         "showgrid": false,
         "showline": false,
         "showticklabels": false,
         "ticks": ""
        }
       }
      }
     },
     "metadata": {},
     "output_type": "display_data"
    },
    {
     "name": "stdout",
     "output_type": "stream",
     "text": [
      "Age\n",
      "median: 26.0, upper fence: 51.0, lower fence: 3.0\n"
     ]
    },
    {
     "data": {
      "application/vnd.plotly.v1+json": {
       "config": {
        "plotlyServerURL": "https://plot.ly"
       },
       "data": [
        {
         "alignmentgroup": "True",
         "bingroup": "x",
         "hovertemplate": "Number of sexual partners=%{x}<br>count=%{y}<extra></extra>",
         "legendgroup": "",
         "marker": {
          "color": "rgb(3, 35, 51)",
          "pattern": {
           "shape": ""
          }
         },
         "name": "",
         "offsetgroup": "",
         "orientation": "v",
         "showlegend": false,
         "type": "histogram",
         "x": [
          4,
          1,
          1,
          5,
          3,
          3,
          3,
          1,
          1,
          3,
          1,
          4,
          2,
          2,
          3,
          4,
          3,
          2,
          2,
          2,
          3,
          1,
          1,
          3,
          3,
          5,
          2,
          3,
          6,
          3,
          2,
          3,
          3,
          2,
          3,
          2,
          2,
          1,
          2,
          2,
          3,
          3,
          3,
          1,
          2,
          2,
          3,
          3,
          2,
          5,
          3,
          1,
          4,
          5,
          3,
          2,
          3,
          3,
          3,
          1,
          1,
          2,
          3,
          4,
          3,
          5,
          4,
          2,
          2,
          2,
          5,
          3,
          3,
          2,
          1,
          3,
          2,
          3,
          2,
          1,
          2,
          5,
          3,
          1,
          3,
          4,
          1,
          3,
          5,
          1,
          3,
          3,
          5,
          3,
          2,
          4,
          4,
          5,
          2,
          3,
          3,
          5,
          3,
          3,
          3,
          2,
          3,
          1,
          5,
          3,
          3,
          3,
          2,
          2,
          1,
          2,
          2,
          2,
          2,
          4,
          3,
          3,
          4,
          1,
          2,
          1,
          2,
          3,
          4,
          4,
          3,
          2,
          1,
          3,
          2,
          2,
          4,
          1,
          2,
          2,
          2,
          2,
          2,
          1,
          5,
          3,
          1,
          2,
          4,
          3,
          3,
          2,
          2,
          3,
          3,
          1,
          3,
          1,
          2,
          2,
          3,
          2,
          1,
          2,
          3,
          5,
          8,
          3,
          2,
          4,
          2,
          3,
          1,
          2,
          7,
          4,
          2,
          2,
          1,
          3,
          2,
          3,
          4,
          3,
          5,
          1,
          3,
          1,
          1,
          3,
          1,
          3,
          4,
          2,
          1,
          2,
          1,
          4,
          3,
          2,
          3,
          3,
          2,
          2,
          2,
          4,
          3,
          1,
          2,
          1,
          3,
          1,
          2,
          1,
          2,
          3,
          2,
          1,
          2,
          1,
          3,
          3,
          5,
          8,
          2,
          2,
          2,
          2,
          2,
          2,
          2,
          1,
          1,
          3,
          2,
          3,
          4,
          1,
          2,
          2,
          1,
          3,
          2,
          4,
          3,
          2,
          2,
          1,
          1,
          2,
          1,
          1,
          1,
          3,
          1,
          2,
          2,
          4,
          3,
          5,
          3,
          2,
          2,
          4,
          5,
          1,
          3,
          1,
          2,
          3,
          2,
          2,
          1,
          1,
          2,
          1,
          1,
          1,
          3,
          2,
          2,
          1,
          2,
          2,
          3,
          2,
          1,
          2,
          1,
          3,
          4,
          4,
          2,
          3,
          1,
          2,
          1,
          4,
          1,
          1,
          3,
          2,
          3,
          1,
          2,
          1,
          4,
          4,
          5,
          2,
          5,
          1,
          3,
          2,
          2,
          2,
          3,
          5,
          2,
          1,
          3,
          2,
          2,
          3,
          1,
          2,
          1,
          3,
          2,
          2,
          1,
          2,
          1,
          3,
          3,
          2,
          2,
          2,
          2,
          1,
          3,
          3,
          3,
          1,
          1,
          2,
          2,
          2,
          2,
          2,
          7,
          1,
          1,
          1,
          4,
          3,
          1,
          3,
          1,
          3,
          5,
          1,
          1,
          3,
          3,
          3,
          1,
          2,
          1,
          1,
          2,
          2,
          3,
          5,
          1,
          1,
          1,
          28,
          2,
          2,
          5,
          2,
          2,
          3,
          3,
          4,
          2,
          4,
          1,
          2,
          1,
          3,
          1,
          1,
          1,
          1,
          1,
          1,
          2,
          1,
          1,
          3,
          2,
          2,
          4,
          1,
          5,
          3,
          2,
          1,
          1,
          2,
          2,
          3,
          2,
          2,
          5,
          4,
          2,
          1,
          3,
          1,
          2,
          2,
          2,
          4,
          1,
          3,
          4,
          1,
          3,
          2,
          2,
          3,
          4,
          3,
          1,
          3,
          4,
          3,
          3,
          1,
          2,
          2,
          3,
          3,
          4,
          3,
          2,
          2,
          1,
          1,
          1,
          1,
          1,
          1,
          1,
          2,
          2,
          1,
          2,
          2,
          2,
          2,
          2,
          2,
          4,
          1,
          6,
          2,
          4,
          3,
          2,
          3,
          3,
          5,
          3,
          2,
          5,
          4,
          2,
          3,
          1,
          2,
          2,
          2,
          3,
          3,
          3,
          3,
          2,
          5,
          2,
          2,
          2,
          2,
          2,
          2,
          1,
          6,
          2,
          2,
          2,
          3,
          1,
          1,
          1,
          1,
          2,
          3,
          1,
          2,
          1,
          2,
          3,
          2,
          6,
          2,
          3,
          2,
          2,
          4,
          2,
          6,
          4,
          1,
          4,
          1,
          2,
          2,
          2,
          3,
          1,
          2,
          3,
          1,
          2,
          2,
          3,
          2,
          5,
          3,
          2,
          4,
          1,
          4,
          2,
          2,
          1,
          4,
          3,
          1,
          4,
          1,
          1,
          2,
          3,
          2,
          1,
          2,
          1,
          2,
          5,
          3,
          5,
          1,
          1,
          2,
          1,
          2,
          2,
          4,
          2,
          4,
          5,
          4,
          1,
          3,
          1,
          2,
          1,
          2,
          1,
          2,
          3,
          1,
          2,
          3,
          2,
          5,
          2,
          2,
          1,
          5,
          1,
          1,
          1,
          3,
          2,
          3,
          5,
          3,
          1,
          2,
          2,
          3,
          2,
          6,
          2,
          1,
          7,
          5,
          4,
          1,
          2,
          1,
          4,
          5,
          3,
          2,
          1,
          4,
          2,
          4,
          4,
          3,
          1,
          3,
          1,
          5,
          1,
          2,
          4,
          2,
          1,
          4,
          1,
          5,
          3,
          7,
          6,
          2,
          1,
          2,
          2,
          2,
          3,
          7,
          3,
          4,
          3,
          2,
          3,
          2,
          3,
          8,
          3,
          3,
          2,
          2,
          1,
          1,
          5,
          1,
          1,
          1,
          4,
          2,
          3,
          3,
          3,
          2,
          3,
          4,
          3,
          2,
          3,
          4,
          3,
          2,
          1,
          3,
          1,
          3,
          9,
          3,
          3,
          2,
          2,
          3,
          3,
          8,
          2,
          2,
          3,
          3,
          3,
          1,
          2,
          3,
          3,
          2,
          2,
          2,
          2
         ],
         "xaxis": "x",
         "yaxis": "y"
        },
        {
         "alignmentgroup": "True",
         "hovertemplate": "Number of sexual partners=%{x}<extra></extra>",
         "legendgroup": "",
         "marker": {
          "color": "rgb(3, 35, 51)"
         },
         "name": "",
         "notched": true,
         "offsetgroup": "",
         "showlegend": false,
         "type": "box",
         "x": [
          4,
          1,
          1,
          5,
          3,
          3,
          3,
          1,
          1,
          3,
          1,
          4,
          2,
          2,
          3,
          4,
          3,
          2,
          2,
          2,
          3,
          1,
          1,
          3,
          3,
          5,
          2,
          3,
          6,
          3,
          2,
          3,
          3,
          2,
          3,
          2,
          2,
          1,
          2,
          2,
          3,
          3,
          3,
          1,
          2,
          2,
          3,
          3,
          2,
          5,
          3,
          1,
          4,
          5,
          3,
          2,
          3,
          3,
          3,
          1,
          1,
          2,
          3,
          4,
          3,
          5,
          4,
          2,
          2,
          2,
          5,
          3,
          3,
          2,
          1,
          3,
          2,
          3,
          2,
          1,
          2,
          5,
          3,
          1,
          3,
          4,
          1,
          3,
          5,
          1,
          3,
          3,
          5,
          3,
          2,
          4,
          4,
          5,
          2,
          3,
          3,
          5,
          3,
          3,
          3,
          2,
          3,
          1,
          5,
          3,
          3,
          3,
          2,
          2,
          1,
          2,
          2,
          2,
          2,
          4,
          3,
          3,
          4,
          1,
          2,
          1,
          2,
          3,
          4,
          4,
          3,
          2,
          1,
          3,
          2,
          2,
          4,
          1,
          2,
          2,
          2,
          2,
          2,
          1,
          5,
          3,
          1,
          2,
          4,
          3,
          3,
          2,
          2,
          3,
          3,
          1,
          3,
          1,
          2,
          2,
          3,
          2,
          1,
          2,
          3,
          5,
          8,
          3,
          2,
          4,
          2,
          3,
          1,
          2,
          7,
          4,
          2,
          2,
          1,
          3,
          2,
          3,
          4,
          3,
          5,
          1,
          3,
          1,
          1,
          3,
          1,
          3,
          4,
          2,
          1,
          2,
          1,
          4,
          3,
          2,
          3,
          3,
          2,
          2,
          2,
          4,
          3,
          1,
          2,
          1,
          3,
          1,
          2,
          1,
          2,
          3,
          2,
          1,
          2,
          1,
          3,
          3,
          5,
          8,
          2,
          2,
          2,
          2,
          2,
          2,
          2,
          1,
          1,
          3,
          2,
          3,
          4,
          1,
          2,
          2,
          1,
          3,
          2,
          4,
          3,
          2,
          2,
          1,
          1,
          2,
          1,
          1,
          1,
          3,
          1,
          2,
          2,
          4,
          3,
          5,
          3,
          2,
          2,
          4,
          5,
          1,
          3,
          1,
          2,
          3,
          2,
          2,
          1,
          1,
          2,
          1,
          1,
          1,
          3,
          2,
          2,
          1,
          2,
          2,
          3,
          2,
          1,
          2,
          1,
          3,
          4,
          4,
          2,
          3,
          1,
          2,
          1,
          4,
          1,
          1,
          3,
          2,
          3,
          1,
          2,
          1,
          4,
          4,
          5,
          2,
          5,
          1,
          3,
          2,
          2,
          2,
          3,
          5,
          2,
          1,
          3,
          2,
          2,
          3,
          1,
          2,
          1,
          3,
          2,
          2,
          1,
          2,
          1,
          3,
          3,
          2,
          2,
          2,
          2,
          1,
          3,
          3,
          3,
          1,
          1,
          2,
          2,
          2,
          2,
          2,
          7,
          1,
          1,
          1,
          4,
          3,
          1,
          3,
          1,
          3,
          5,
          1,
          1,
          3,
          3,
          3,
          1,
          2,
          1,
          1,
          2,
          2,
          3,
          5,
          1,
          1,
          1,
          28,
          2,
          2,
          5,
          2,
          2,
          3,
          3,
          4,
          2,
          4,
          1,
          2,
          1,
          3,
          1,
          1,
          1,
          1,
          1,
          1,
          2,
          1,
          1,
          3,
          2,
          2,
          4,
          1,
          5,
          3,
          2,
          1,
          1,
          2,
          2,
          3,
          2,
          2,
          5,
          4,
          2,
          1,
          3,
          1,
          2,
          2,
          2,
          4,
          1,
          3,
          4,
          1,
          3,
          2,
          2,
          3,
          4,
          3,
          1,
          3,
          4,
          3,
          3,
          1,
          2,
          2,
          3,
          3,
          4,
          3,
          2,
          2,
          1,
          1,
          1,
          1,
          1,
          1,
          1,
          2,
          2,
          1,
          2,
          2,
          2,
          2,
          2,
          2,
          4,
          1,
          6,
          2,
          4,
          3,
          2,
          3,
          3,
          5,
          3,
          2,
          5,
          4,
          2,
          3,
          1,
          2,
          2,
          2,
          3,
          3,
          3,
          3,
          2,
          5,
          2,
          2,
          2,
          2,
          2,
          2,
          1,
          6,
          2,
          2,
          2,
          3,
          1,
          1,
          1,
          1,
          2,
          3,
          1,
          2,
          1,
          2,
          3,
          2,
          6,
          2,
          3,
          2,
          2,
          4,
          2,
          6,
          4,
          1,
          4,
          1,
          2,
          2,
          2,
          3,
          1,
          2,
          3,
          1,
          2,
          2,
          3,
          2,
          5,
          3,
          2,
          4,
          1,
          4,
          2,
          2,
          1,
          4,
          3,
          1,
          4,
          1,
          1,
          2,
          3,
          2,
          1,
          2,
          1,
          2,
          5,
          3,
          5,
          1,
          1,
          2,
          1,
          2,
          2,
          4,
          2,
          4,
          5,
          4,
          1,
          3,
          1,
          2,
          1,
          2,
          1,
          2,
          3,
          1,
          2,
          3,
          2,
          5,
          2,
          2,
          1,
          5,
          1,
          1,
          1,
          3,
          2,
          3,
          5,
          3,
          1,
          2,
          2,
          3,
          2,
          6,
          2,
          1,
          7,
          5,
          4,
          1,
          2,
          1,
          4,
          5,
          3,
          2,
          1,
          4,
          2,
          4,
          4,
          3,
          1,
          3,
          1,
          5,
          1,
          2,
          4,
          2,
          1,
          4,
          1,
          5,
          3,
          7,
          6,
          2,
          1,
          2,
          2,
          2,
          3,
          7,
          3,
          4,
          3,
          2,
          3,
          2,
          3,
          8,
          3,
          3,
          2,
          2,
          1,
          1,
          5,
          1,
          1,
          1,
          4,
          2,
          3,
          3,
          3,
          2,
          3,
          4,
          3,
          2,
          3,
          4,
          3,
          2,
          1,
          3,
          1,
          3,
          9,
          3,
          3,
          2,
          2,
          3,
          3,
          8,
          2,
          2,
          3,
          3,
          3,
          1,
          2,
          3,
          3,
          2,
          2,
          2,
          2
         ],
         "xaxis": "x2",
         "yaxis": "y2"
        }
       ],
       "layout": {
        "bargap": 0.2,
        "barmode": "relative",
        "legend": {
         "tracegroupgap": 0
        },
        "margin": {
         "t": 60
        },
        "template": {
         "data": {
          "bar": [
           {
            "error_x": {
             "color": "#2a3f5f"
            },
            "error_y": {
             "color": "#2a3f5f"
            },
            "marker": {
             "line": {
              "color": "#E5ECF6",
              "width": 0.5
             },
             "pattern": {
              "fillmode": "overlay",
              "size": 10,
              "solidity": 0.2
             }
            },
            "type": "bar"
           }
          ],
          "barpolar": [
           {
            "marker": {
             "line": {
              "color": "#E5ECF6",
              "width": 0.5
             },
             "pattern": {
              "fillmode": "overlay",
              "size": 10,
              "solidity": 0.2
             }
            },
            "type": "barpolar"
           }
          ],
          "carpet": [
           {
            "aaxis": {
             "endlinecolor": "#2a3f5f",
             "gridcolor": "white",
             "linecolor": "white",
             "minorgridcolor": "white",
             "startlinecolor": "#2a3f5f"
            },
            "baxis": {
             "endlinecolor": "#2a3f5f",
             "gridcolor": "white",
             "linecolor": "white",
             "minorgridcolor": "white",
             "startlinecolor": "#2a3f5f"
            },
            "type": "carpet"
           }
          ],
          "choropleth": [
           {
            "colorbar": {
             "outlinewidth": 0,
             "ticks": ""
            },
            "type": "choropleth"
           }
          ],
          "contour": [
           {
            "colorbar": {
             "outlinewidth": 0,
             "ticks": ""
            },
            "colorscale": [
             [
              0,
              "#0d0887"
             ],
             [
              0.1111111111111111,
              "#46039f"
             ],
             [
              0.2222222222222222,
              "#7201a8"
             ],
             [
              0.3333333333333333,
              "#9c179e"
             ],
             [
              0.4444444444444444,
              "#bd3786"
             ],
             [
              0.5555555555555556,
              "#d8576b"
             ],
             [
              0.6666666666666666,
              "#ed7953"
             ],
             [
              0.7777777777777778,
              "#fb9f3a"
             ],
             [
              0.8888888888888888,
              "#fdca26"
             ],
             [
              1,
              "#f0f921"
             ]
            ],
            "type": "contour"
           }
          ],
          "contourcarpet": [
           {
            "colorbar": {
             "outlinewidth": 0,
             "ticks": ""
            },
            "type": "contourcarpet"
           }
          ],
          "heatmap": [
           {
            "colorbar": {
             "outlinewidth": 0,
             "ticks": ""
            },
            "colorscale": [
             [
              0,
              "#0d0887"
             ],
             [
              0.1111111111111111,
              "#46039f"
             ],
             [
              0.2222222222222222,
              "#7201a8"
             ],
             [
              0.3333333333333333,
              "#9c179e"
             ],
             [
              0.4444444444444444,
              "#bd3786"
             ],
             [
              0.5555555555555556,
              "#d8576b"
             ],
             [
              0.6666666666666666,
              "#ed7953"
             ],
             [
              0.7777777777777778,
              "#fb9f3a"
             ],
             [
              0.8888888888888888,
              "#fdca26"
             ],
             [
              1,
              "#f0f921"
             ]
            ],
            "type": "heatmap"
           }
          ],
          "heatmapgl": [
           {
            "colorbar": {
             "outlinewidth": 0,
             "ticks": ""
            },
            "colorscale": [
             [
              0,
              "#0d0887"
             ],
             [
              0.1111111111111111,
              "#46039f"
             ],
             [
              0.2222222222222222,
              "#7201a8"
             ],
             [
              0.3333333333333333,
              "#9c179e"
             ],
             [
              0.4444444444444444,
              "#bd3786"
             ],
             [
              0.5555555555555556,
              "#d8576b"
             ],
             [
              0.6666666666666666,
              "#ed7953"
             ],
             [
              0.7777777777777778,
              "#fb9f3a"
             ],
             [
              0.8888888888888888,
              "#fdca26"
             ],
             [
              1,
              "#f0f921"
             ]
            ],
            "type": "heatmapgl"
           }
          ],
          "histogram": [
           {
            "marker": {
             "pattern": {
              "fillmode": "overlay",
              "size": 10,
              "solidity": 0.2
             }
            },
            "type": "histogram"
           }
          ],
          "histogram2d": [
           {
            "colorbar": {
             "outlinewidth": 0,
             "ticks": ""
            },
            "colorscale": [
             [
              0,
              "#0d0887"
             ],
             [
              0.1111111111111111,
              "#46039f"
             ],
             [
              0.2222222222222222,
              "#7201a8"
             ],
             [
              0.3333333333333333,
              "#9c179e"
             ],
             [
              0.4444444444444444,
              "#bd3786"
             ],
             [
              0.5555555555555556,
              "#d8576b"
             ],
             [
              0.6666666666666666,
              "#ed7953"
             ],
             [
              0.7777777777777778,
              "#fb9f3a"
             ],
             [
              0.8888888888888888,
              "#fdca26"
             ],
             [
              1,
              "#f0f921"
             ]
            ],
            "type": "histogram2d"
           }
          ],
          "histogram2dcontour": [
           {
            "colorbar": {
             "outlinewidth": 0,
             "ticks": ""
            },
            "colorscale": [
             [
              0,
              "#0d0887"
             ],
             [
              0.1111111111111111,
              "#46039f"
             ],
             [
              0.2222222222222222,
              "#7201a8"
             ],
             [
              0.3333333333333333,
              "#9c179e"
             ],
             [
              0.4444444444444444,
              "#bd3786"
             ],
             [
              0.5555555555555556,
              "#d8576b"
             ],
             [
              0.6666666666666666,
              "#ed7953"
             ],
             [
              0.7777777777777778,
              "#fb9f3a"
             ],
             [
              0.8888888888888888,
              "#fdca26"
             ],
             [
              1,
              "#f0f921"
             ]
            ],
            "type": "histogram2dcontour"
           }
          ],
          "mesh3d": [
           {
            "colorbar": {
             "outlinewidth": 0,
             "ticks": ""
            },
            "type": "mesh3d"
           }
          ],
          "parcoords": [
           {
            "line": {
             "colorbar": {
              "outlinewidth": 0,
              "ticks": ""
             }
            },
            "type": "parcoords"
           }
          ],
          "pie": [
           {
            "automargin": true,
            "type": "pie"
           }
          ],
          "scatter": [
           {
            "fillpattern": {
             "fillmode": "overlay",
             "size": 10,
             "solidity": 0.2
            },
            "type": "scatter"
           }
          ],
          "scatter3d": [
           {
            "line": {
             "colorbar": {
              "outlinewidth": 0,
              "ticks": ""
             }
            },
            "marker": {
             "colorbar": {
              "outlinewidth": 0,
              "ticks": ""
             }
            },
            "type": "scatter3d"
           }
          ],
          "scattercarpet": [
           {
            "marker": {
             "colorbar": {
              "outlinewidth": 0,
              "ticks": ""
             }
            },
            "type": "scattercarpet"
           }
          ],
          "scattergeo": [
           {
            "marker": {
             "colorbar": {
              "outlinewidth": 0,
              "ticks": ""
             }
            },
            "type": "scattergeo"
           }
          ],
          "scattergl": [
           {
            "marker": {
             "colorbar": {
              "outlinewidth": 0,
              "ticks": ""
             }
            },
            "type": "scattergl"
           }
          ],
          "scattermapbox": [
           {
            "marker": {
             "colorbar": {
              "outlinewidth": 0,
              "ticks": ""
             }
            },
            "type": "scattermapbox"
           }
          ],
          "scatterpolar": [
           {
            "marker": {
             "colorbar": {
              "outlinewidth": 0,
              "ticks": ""
             }
            },
            "type": "scatterpolar"
           }
          ],
          "scatterpolargl": [
           {
            "marker": {
             "colorbar": {
              "outlinewidth": 0,
              "ticks": ""
             }
            },
            "type": "scatterpolargl"
           }
          ],
          "scatterternary": [
           {
            "marker": {
             "colorbar": {
              "outlinewidth": 0,
              "ticks": ""
             }
            },
            "type": "scatterternary"
           }
          ],
          "surface": [
           {
            "colorbar": {
             "outlinewidth": 0,
             "ticks": ""
            },
            "colorscale": [
             [
              0,
              "#0d0887"
             ],
             [
              0.1111111111111111,
              "#46039f"
             ],
             [
              0.2222222222222222,
              "#7201a8"
             ],
             [
              0.3333333333333333,
              "#9c179e"
             ],
             [
              0.4444444444444444,
              "#bd3786"
             ],
             [
              0.5555555555555556,
              "#d8576b"
             ],
             [
              0.6666666666666666,
              "#ed7953"
             ],
             [
              0.7777777777777778,
              "#fb9f3a"
             ],
             [
              0.8888888888888888,
              "#fdca26"
             ],
             [
              1,
              "#f0f921"
             ]
            ],
            "type": "surface"
           }
          ],
          "table": [
           {
            "cells": {
             "fill": {
              "color": "#EBF0F8"
             },
             "line": {
              "color": "white"
             }
            },
            "header": {
             "fill": {
              "color": "#C8D4E3"
             },
             "line": {
              "color": "white"
             }
            },
            "type": "table"
           }
          ]
         },
         "layout": {
          "annotationdefaults": {
           "arrowcolor": "#2a3f5f",
           "arrowhead": 0,
           "arrowwidth": 1
          },
          "autotypenumbers": "strict",
          "coloraxis": {
           "colorbar": {
            "outlinewidth": 0,
            "ticks": ""
           }
          },
          "colorscale": {
           "diverging": [
            [
             0,
             "#8e0152"
            ],
            [
             0.1,
             "#c51b7d"
            ],
            [
             0.2,
             "#de77ae"
            ],
            [
             0.3,
             "#f1b6da"
            ],
            [
             0.4,
             "#fde0ef"
            ],
            [
             0.5,
             "#f7f7f7"
            ],
            [
             0.6,
             "#e6f5d0"
            ],
            [
             0.7,
             "#b8e186"
            ],
            [
             0.8,
             "#7fbc41"
            ],
            [
             0.9,
             "#4d9221"
            ],
            [
             1,
             "#276419"
            ]
           ],
           "sequential": [
            [
             0,
             "#0d0887"
            ],
            [
             0.1111111111111111,
             "#46039f"
            ],
            [
             0.2222222222222222,
             "#7201a8"
            ],
            [
             0.3333333333333333,
             "#9c179e"
            ],
            [
             0.4444444444444444,
             "#bd3786"
            ],
            [
             0.5555555555555556,
             "#d8576b"
            ],
            [
             0.6666666666666666,
             "#ed7953"
            ],
            [
             0.7777777777777778,
             "#fb9f3a"
            ],
            [
             0.8888888888888888,
             "#fdca26"
            ],
            [
             1,
             "#f0f921"
            ]
           ],
           "sequentialminus": [
            [
             0,
             "#0d0887"
            ],
            [
             0.1111111111111111,
             "#46039f"
            ],
            [
             0.2222222222222222,
             "#7201a8"
            ],
            [
             0.3333333333333333,
             "#9c179e"
            ],
            [
             0.4444444444444444,
             "#bd3786"
            ],
            [
             0.5555555555555556,
             "#d8576b"
            ],
            [
             0.6666666666666666,
             "#ed7953"
            ],
            [
             0.7777777777777778,
             "#fb9f3a"
            ],
            [
             0.8888888888888888,
             "#fdca26"
            ],
            [
             1,
             "#f0f921"
            ]
           ]
          },
          "colorway": [
           "#636efa",
           "#EF553B",
           "#00cc96",
           "#ab63fa",
           "#FFA15A",
           "#19d3f3",
           "#FF6692",
           "#B6E880",
           "#FF97FF",
           "#FECB52"
          ],
          "font": {
           "color": "#2a3f5f"
          },
          "geo": {
           "bgcolor": "white",
           "lakecolor": "white",
           "landcolor": "#E5ECF6",
           "showlakes": true,
           "showland": true,
           "subunitcolor": "white"
          },
          "hoverlabel": {
           "align": "left"
          },
          "hovermode": "closest",
          "mapbox": {
           "style": "light"
          },
          "paper_bgcolor": "white",
          "plot_bgcolor": "#E5ECF6",
          "polar": {
           "angularaxis": {
            "gridcolor": "white",
            "linecolor": "white",
            "ticks": ""
           },
           "bgcolor": "#E5ECF6",
           "radialaxis": {
            "gridcolor": "white",
            "linecolor": "white",
            "ticks": ""
           }
          },
          "scene": {
           "xaxis": {
            "backgroundcolor": "#E5ECF6",
            "gridcolor": "white",
            "gridwidth": 2,
            "linecolor": "white",
            "showbackground": true,
            "ticks": "",
            "zerolinecolor": "white"
           },
           "yaxis": {
            "backgroundcolor": "#E5ECF6",
            "gridcolor": "white",
            "gridwidth": 2,
            "linecolor": "white",
            "showbackground": true,
            "ticks": "",
            "zerolinecolor": "white"
           },
           "zaxis": {
            "backgroundcolor": "#E5ECF6",
            "gridcolor": "white",
            "gridwidth": 2,
            "linecolor": "white",
            "showbackground": true,
            "ticks": "",
            "zerolinecolor": "white"
           }
          },
          "shapedefaults": {
           "line": {
            "color": "#2a3f5f"
           }
          },
          "ternary": {
           "aaxis": {
            "gridcolor": "white",
            "linecolor": "white",
            "ticks": ""
           },
           "baxis": {
            "gridcolor": "white",
            "linecolor": "white",
            "ticks": ""
           },
           "bgcolor": "#E5ECF6",
           "caxis": {
            "gridcolor": "white",
            "linecolor": "white",
            "ticks": ""
           }
          },
          "title": {
           "x": 0.05
          },
          "xaxis": {
           "automargin": true,
           "gridcolor": "white",
           "linecolor": "white",
           "ticks": "",
           "title": {
            "standoff": 15
           },
           "zerolinecolor": "white",
           "zerolinewidth": 2
          },
          "yaxis": {
           "automargin": true,
           "gridcolor": "white",
           "linecolor": "white",
           "ticks": "",
           "title": {
            "standoff": 15
           },
           "zerolinecolor": "white",
           "zerolinewidth": 2
          }
         }
        },
        "width": 701,
        "xaxis": {
         "anchor": "y",
         "domain": [
          0,
          1
         ],
         "title": {
          "text": "Number of sexual partners"
         }
        },
        "xaxis2": {
         "anchor": "y2",
         "domain": [
          0,
          1
         ],
         "matches": "x",
         "showgrid": true,
         "showticklabels": false
        },
        "yaxis": {
         "anchor": "x",
         "domain": [
          0,
          0.8316
         ],
         "title": {
          "text": "count"
         }
        },
        "yaxis2": {
         "anchor": "x2",
         "domain": [
          0.8416,
          1
         ],
         "matches": "y2",
         "showgrid": false,
         "showline": false,
         "showticklabels": false,
         "ticks": ""
        }
       }
      }
     },
     "metadata": {},
     "output_type": "display_data"
    },
    {
     "name": "stdout",
     "output_type": "stream",
     "text": [
      "Number of sexual partners\n",
      "median: 2.0, upper fence: 4.5, lower fence: 0.5\n"
     ]
    },
    {
     "data": {
      "application/vnd.plotly.v1+json": {
       "config": {
        "plotlyServerURL": "https://plot.ly"
       },
       "data": [
        {
         "alignmentgroup": "True",
         "bingroup": "x",
         "hovertemplate": "First sexual intercourse=%{x}<br>count=%{y}<extra></extra>",
         "legendgroup": "",
         "marker": {
          "color": "rgb(3, 35, 51)",
          "pattern": {
           "shape": ""
          }
         },
         "name": "",
         "offsetgroup": "",
         "orientation": "v",
         "showlegend": false,
         "type": "histogram",
         "x": [
          15,
          14,
          17,
          16,
          21,
          23,
          17,
          26,
          20,
          26,
          17,
          14,
          25,
          18,
          18,
          21,
          15,
          20,
          27,
          18,
          17,
          18,
          20,
          15,
          19,
          23,
          17,
          24,
          26,
          17,
          21,
          17,
          15,
          15,
          17,
          17,
          18,
          24,
          20,
          17,
          18,
          17,
          19,
          17,
          20,
          17,
          18,
          15,
          17,
          17,
          18,
          16,
          16,
          15,
          21,
          18,
          17,
          19,
          20,
          21,
          19,
          15,
          17,
          19,
          20,
          23,
          17,
          21,
          20,
          27,
          14,
          21,
          17,
          19,
          27,
          15,
          18,
          18,
          15,
          20,
          20,
          18,
          16,
          32,
          16,
          16,
          29,
          16,
          11,
          18,
          18,
          15,
          16,
          18,
          17,
          18,
          16,
          19,
          15,
          17,
          19,
          23,
          15,
          13,
          17,
          17,
          15,
          16,
          15,
          14,
          17,
          16,
          19,
          14,
          29,
          14,
          18,
          13,
          22,
          18,
          14,
          15,
          18,
          28,
          14,
          21,
          17,
          15,
          15,
          10,
          18,
          18,
          18,
          19,
          18,
          15,
          16,
          16,
          17,
          21,
          19,
          15,
          18,
          23,
          14,
          19,
          20,
          18,
          16,
          18,
          17,
          17,
          17,
          15,
          15,
          19,
          20,
          16,
          15,
          19,
          17,
          18,
          18,
          17,
          16,
          19,
          18,
          14,
          17,
          17,
          20,
          18,
          16,
          18,
          17,
          17,
          13,
          19,
          20,
          17,
          20,
          18,
          16,
          15,
          15,
          26,
          15,
          17,
          24,
          17,
          16,
          17,
          18,
          17,
          13,
          18,
          18,
          15,
          15,
          17,
          15,
          17,
          16,
          17,
          15,
          16,
          15,
          16,
          19,
          23,
          18,
          20,
          17,
          19,
          18,
          13,
          18,
          17,
          16,
          15,
          18,
          17,
          16,
          15,
          15,
          16,
          14,
          15,
          16,
          19,
          17,
          18,
          17,
          14,
          18,
          17,
          17,
          19,
          18,
          16,
          18,
          17,
          21,
          15,
          16,
          15,
          17,
          13,
          18,
          17,
          20,
          18,
          17,
          17,
          16,
          15,
          16,
          16,
          15,
          17,
          18,
          18,
          18,
          18,
          15,
          17,
          16,
          20,
          18,
          15,
          17,
          16,
          19,
          18,
          15,
          18,
          15,
          17,
          17,
          18,
          18,
          18,
          16,
          18,
          18,
          16,
          17,
          15,
          17,
          16,
          15,
          15,
          18,
          13,
          17,
          21,
          20,
          17,
          15,
          15,
          16,
          16,
          15,
          19,
          16,
          18,
          15,
          17,
          13,
          19,
          14,
          16,
          19,
          14,
          15,
          15,
          15,
          16,
          15,
          16,
          14,
          15,
          18,
          14,
          17,
          17,
          16,
          15,
          18,
          16,
          15,
          15,
          16,
          15,
          15,
          15,
          15,
          15,
          11,
          17,
          21,
          15,
          15,
          14,
          16,
          17,
          15,
          13,
          18,
          15,
          16,
          16,
          15,
          15,
          15,
          19,
          15,
          17,
          15,
          18,
          16,
          15,
          17,
          17,
          14,
          16,
          16,
          14,
          16,
          14,
          15,
          14,
          15,
          15,
          14,
          14,
          15,
          13,
          15,
          18,
          16,
          17,
          20,
          17,
          15,
          19,
          16,
          24,
          18,
          18,
          16,
          18,
          17,
          26,
          18,
          17,
          26,
          15,
          18,
          18,
          15,
          21,
          17,
          29,
          22,
          15,
          16,
          20,
          22,
          15,
          20,
          20,
          14,
          16,
          17,
          21,
          15,
          16,
          19,
          18,
          17,
          14,
          18,
          15,
          17,
          17,
          20,
          18,
          15,
          19,
          19,
          16,
          18,
          14,
          18,
          16,
          16,
          17,
          14,
          17,
          17,
          15,
          17,
          17,
          15,
          12,
          17,
          21,
          17,
          22,
          16,
          24,
          15,
          15,
          28,
          17,
          15,
          18,
          19,
          25,
          17,
          15,
          14,
          17,
          18,
          14,
          18,
          15,
          15,
          15,
          16,
          18,
          28,
          14,
          15,
          18,
          15,
          15,
          15,
          14,
          18,
          18,
          15,
          15,
          16,
          21,
          18,
          16,
          17,
          18,
          17,
          16,
          16,
          18,
          19,
          15,
          15,
          23,
          12,
          16,
          17,
          15,
          18,
          15,
          18,
          17,
          14,
          16,
          18,
          15,
          15,
          17,
          18,
          15,
          15,
          19,
          16,
          20,
          18,
          14,
          18,
          18,
          17,
          14,
          17,
          16,
          15,
          15,
          17,
          17,
          20,
          17,
          17,
          17,
          19,
          16,
          14,
          16,
          14,
          16,
          16,
          18,
          18,
          14,
          15,
          17,
          19,
          13,
          16,
          18,
          19,
          27,
          13,
          19,
          17,
          15,
          29,
          16,
          18,
          15,
          15,
          19,
          16,
          15,
          21,
          14,
          17,
          15,
          17,
          15,
          18,
          15,
          16,
          14,
          13,
          14,
          16,
          17,
          18,
          21,
          16,
          17,
          14,
          17,
          16,
          17,
          15,
          15,
          17,
          17,
          19,
          15,
          15,
          17,
          22,
          17,
          17,
          19,
          21,
          20,
          17,
          19,
          18,
          18,
          18,
          16,
          17,
          19,
          20,
          14,
          17,
          14,
          15,
          13,
          18,
          15,
          20,
          13,
          15,
          18,
          18,
          18,
          16,
          19,
          14,
          15,
          18,
          15,
          15,
          14,
          18,
          16,
          14,
          16,
          26,
          15,
          14,
          15,
          14,
          17,
          14,
          18,
          18,
          14,
          19,
          17,
          16,
          19,
          17,
          14,
          16,
          17,
          14,
          17,
          17,
          15,
          13,
          14,
          13,
          13,
          16,
          16,
          17,
          16,
          22,
          18,
          18,
          20,
          20,
          19,
          27,
          17,
          17,
          16,
          21,
          14,
          16,
          23,
          18,
          17,
          15,
          14,
          17,
          18,
          19,
          16,
          15,
          16,
          14,
          15,
          15,
          17,
          22,
          18,
          18,
          14,
          15,
          17,
          18,
          19,
          17,
          24,
          20
         ],
         "xaxis": "x",
         "yaxis": "y"
        },
        {
         "alignmentgroup": "True",
         "hovertemplate": "First sexual intercourse=%{x}<extra></extra>",
         "legendgroup": "",
         "marker": {
          "color": "rgb(3, 35, 51)"
         },
         "name": "",
         "notched": true,
         "offsetgroup": "",
         "showlegend": false,
         "type": "box",
         "x": [
          15,
          14,
          17,
          16,
          21,
          23,
          17,
          26,
          20,
          26,
          17,
          14,
          25,
          18,
          18,
          21,
          15,
          20,
          27,
          18,
          17,
          18,
          20,
          15,
          19,
          23,
          17,
          24,
          26,
          17,
          21,
          17,
          15,
          15,
          17,
          17,
          18,
          24,
          20,
          17,
          18,
          17,
          19,
          17,
          20,
          17,
          18,
          15,
          17,
          17,
          18,
          16,
          16,
          15,
          21,
          18,
          17,
          19,
          20,
          21,
          19,
          15,
          17,
          19,
          20,
          23,
          17,
          21,
          20,
          27,
          14,
          21,
          17,
          19,
          27,
          15,
          18,
          18,
          15,
          20,
          20,
          18,
          16,
          32,
          16,
          16,
          29,
          16,
          11,
          18,
          18,
          15,
          16,
          18,
          17,
          18,
          16,
          19,
          15,
          17,
          19,
          23,
          15,
          13,
          17,
          17,
          15,
          16,
          15,
          14,
          17,
          16,
          19,
          14,
          29,
          14,
          18,
          13,
          22,
          18,
          14,
          15,
          18,
          28,
          14,
          21,
          17,
          15,
          15,
          10,
          18,
          18,
          18,
          19,
          18,
          15,
          16,
          16,
          17,
          21,
          19,
          15,
          18,
          23,
          14,
          19,
          20,
          18,
          16,
          18,
          17,
          17,
          17,
          15,
          15,
          19,
          20,
          16,
          15,
          19,
          17,
          18,
          18,
          17,
          16,
          19,
          18,
          14,
          17,
          17,
          20,
          18,
          16,
          18,
          17,
          17,
          13,
          19,
          20,
          17,
          20,
          18,
          16,
          15,
          15,
          26,
          15,
          17,
          24,
          17,
          16,
          17,
          18,
          17,
          13,
          18,
          18,
          15,
          15,
          17,
          15,
          17,
          16,
          17,
          15,
          16,
          15,
          16,
          19,
          23,
          18,
          20,
          17,
          19,
          18,
          13,
          18,
          17,
          16,
          15,
          18,
          17,
          16,
          15,
          15,
          16,
          14,
          15,
          16,
          19,
          17,
          18,
          17,
          14,
          18,
          17,
          17,
          19,
          18,
          16,
          18,
          17,
          21,
          15,
          16,
          15,
          17,
          13,
          18,
          17,
          20,
          18,
          17,
          17,
          16,
          15,
          16,
          16,
          15,
          17,
          18,
          18,
          18,
          18,
          15,
          17,
          16,
          20,
          18,
          15,
          17,
          16,
          19,
          18,
          15,
          18,
          15,
          17,
          17,
          18,
          18,
          18,
          16,
          18,
          18,
          16,
          17,
          15,
          17,
          16,
          15,
          15,
          18,
          13,
          17,
          21,
          20,
          17,
          15,
          15,
          16,
          16,
          15,
          19,
          16,
          18,
          15,
          17,
          13,
          19,
          14,
          16,
          19,
          14,
          15,
          15,
          15,
          16,
          15,
          16,
          14,
          15,
          18,
          14,
          17,
          17,
          16,
          15,
          18,
          16,
          15,
          15,
          16,
          15,
          15,
          15,
          15,
          15,
          11,
          17,
          21,
          15,
          15,
          14,
          16,
          17,
          15,
          13,
          18,
          15,
          16,
          16,
          15,
          15,
          15,
          19,
          15,
          17,
          15,
          18,
          16,
          15,
          17,
          17,
          14,
          16,
          16,
          14,
          16,
          14,
          15,
          14,
          15,
          15,
          14,
          14,
          15,
          13,
          15,
          18,
          16,
          17,
          20,
          17,
          15,
          19,
          16,
          24,
          18,
          18,
          16,
          18,
          17,
          26,
          18,
          17,
          26,
          15,
          18,
          18,
          15,
          21,
          17,
          29,
          22,
          15,
          16,
          20,
          22,
          15,
          20,
          20,
          14,
          16,
          17,
          21,
          15,
          16,
          19,
          18,
          17,
          14,
          18,
          15,
          17,
          17,
          20,
          18,
          15,
          19,
          19,
          16,
          18,
          14,
          18,
          16,
          16,
          17,
          14,
          17,
          17,
          15,
          17,
          17,
          15,
          12,
          17,
          21,
          17,
          22,
          16,
          24,
          15,
          15,
          28,
          17,
          15,
          18,
          19,
          25,
          17,
          15,
          14,
          17,
          18,
          14,
          18,
          15,
          15,
          15,
          16,
          18,
          28,
          14,
          15,
          18,
          15,
          15,
          15,
          14,
          18,
          18,
          15,
          15,
          16,
          21,
          18,
          16,
          17,
          18,
          17,
          16,
          16,
          18,
          19,
          15,
          15,
          23,
          12,
          16,
          17,
          15,
          18,
          15,
          18,
          17,
          14,
          16,
          18,
          15,
          15,
          17,
          18,
          15,
          15,
          19,
          16,
          20,
          18,
          14,
          18,
          18,
          17,
          14,
          17,
          16,
          15,
          15,
          17,
          17,
          20,
          17,
          17,
          17,
          19,
          16,
          14,
          16,
          14,
          16,
          16,
          18,
          18,
          14,
          15,
          17,
          19,
          13,
          16,
          18,
          19,
          27,
          13,
          19,
          17,
          15,
          29,
          16,
          18,
          15,
          15,
          19,
          16,
          15,
          21,
          14,
          17,
          15,
          17,
          15,
          18,
          15,
          16,
          14,
          13,
          14,
          16,
          17,
          18,
          21,
          16,
          17,
          14,
          17,
          16,
          17,
          15,
          15,
          17,
          17,
          19,
          15,
          15,
          17,
          22,
          17,
          17,
          19,
          21,
          20,
          17,
          19,
          18,
          18,
          18,
          16,
          17,
          19,
          20,
          14,
          17,
          14,
          15,
          13,
          18,
          15,
          20,
          13,
          15,
          18,
          18,
          18,
          16,
          19,
          14,
          15,
          18,
          15,
          15,
          14,
          18,
          16,
          14,
          16,
          26,
          15,
          14,
          15,
          14,
          17,
          14,
          18,
          18,
          14,
          19,
          17,
          16,
          19,
          17,
          14,
          16,
          17,
          14,
          17,
          17,
          15,
          13,
          14,
          13,
          13,
          16,
          16,
          17,
          16,
          22,
          18,
          18,
          20,
          20,
          19,
          27,
          17,
          17,
          16,
          21,
          14,
          16,
          23,
          18,
          17,
          15,
          14,
          17,
          18,
          19,
          16,
          15,
          16,
          14,
          15,
          15,
          17,
          22,
          18,
          18,
          14,
          15,
          17,
          18,
          19,
          17,
          24,
          20
         ],
         "xaxis": "x2",
         "yaxis": "y2"
        }
       ],
       "layout": {
        "bargap": 0.2,
        "barmode": "relative",
        "legend": {
         "tracegroupgap": 0
        },
        "margin": {
         "t": 60
        },
        "template": {
         "data": {
          "bar": [
           {
            "error_x": {
             "color": "#2a3f5f"
            },
            "error_y": {
             "color": "#2a3f5f"
            },
            "marker": {
             "line": {
              "color": "#E5ECF6",
              "width": 0.5
             },
             "pattern": {
              "fillmode": "overlay",
              "size": 10,
              "solidity": 0.2
             }
            },
            "type": "bar"
           }
          ],
          "barpolar": [
           {
            "marker": {
             "line": {
              "color": "#E5ECF6",
              "width": 0.5
             },
             "pattern": {
              "fillmode": "overlay",
              "size": 10,
              "solidity": 0.2
             }
            },
            "type": "barpolar"
           }
          ],
          "carpet": [
           {
            "aaxis": {
             "endlinecolor": "#2a3f5f",
             "gridcolor": "white",
             "linecolor": "white",
             "minorgridcolor": "white",
             "startlinecolor": "#2a3f5f"
            },
            "baxis": {
             "endlinecolor": "#2a3f5f",
             "gridcolor": "white",
             "linecolor": "white",
             "minorgridcolor": "white",
             "startlinecolor": "#2a3f5f"
            },
            "type": "carpet"
           }
          ],
          "choropleth": [
           {
            "colorbar": {
             "outlinewidth": 0,
             "ticks": ""
            },
            "type": "choropleth"
           }
          ],
          "contour": [
           {
            "colorbar": {
             "outlinewidth": 0,
             "ticks": ""
            },
            "colorscale": [
             [
              0,
              "#0d0887"
             ],
             [
              0.1111111111111111,
              "#46039f"
             ],
             [
              0.2222222222222222,
              "#7201a8"
             ],
             [
              0.3333333333333333,
              "#9c179e"
             ],
             [
              0.4444444444444444,
              "#bd3786"
             ],
             [
              0.5555555555555556,
              "#d8576b"
             ],
             [
              0.6666666666666666,
              "#ed7953"
             ],
             [
              0.7777777777777778,
              "#fb9f3a"
             ],
             [
              0.8888888888888888,
              "#fdca26"
             ],
             [
              1,
              "#f0f921"
             ]
            ],
            "type": "contour"
           }
          ],
          "contourcarpet": [
           {
            "colorbar": {
             "outlinewidth": 0,
             "ticks": ""
            },
            "type": "contourcarpet"
           }
          ],
          "heatmap": [
           {
            "colorbar": {
             "outlinewidth": 0,
             "ticks": ""
            },
            "colorscale": [
             [
              0,
              "#0d0887"
             ],
             [
              0.1111111111111111,
              "#46039f"
             ],
             [
              0.2222222222222222,
              "#7201a8"
             ],
             [
              0.3333333333333333,
              "#9c179e"
             ],
             [
              0.4444444444444444,
              "#bd3786"
             ],
             [
              0.5555555555555556,
              "#d8576b"
             ],
             [
              0.6666666666666666,
              "#ed7953"
             ],
             [
              0.7777777777777778,
              "#fb9f3a"
             ],
             [
              0.8888888888888888,
              "#fdca26"
             ],
             [
              1,
              "#f0f921"
             ]
            ],
            "type": "heatmap"
           }
          ],
          "heatmapgl": [
           {
            "colorbar": {
             "outlinewidth": 0,
             "ticks": ""
            },
            "colorscale": [
             [
              0,
              "#0d0887"
             ],
             [
              0.1111111111111111,
              "#46039f"
             ],
             [
              0.2222222222222222,
              "#7201a8"
             ],
             [
              0.3333333333333333,
              "#9c179e"
             ],
             [
              0.4444444444444444,
              "#bd3786"
             ],
             [
              0.5555555555555556,
              "#d8576b"
             ],
             [
              0.6666666666666666,
              "#ed7953"
             ],
             [
              0.7777777777777778,
              "#fb9f3a"
             ],
             [
              0.8888888888888888,
              "#fdca26"
             ],
             [
              1,
              "#f0f921"
             ]
            ],
            "type": "heatmapgl"
           }
          ],
          "histogram": [
           {
            "marker": {
             "pattern": {
              "fillmode": "overlay",
              "size": 10,
              "solidity": 0.2
             }
            },
            "type": "histogram"
           }
          ],
          "histogram2d": [
           {
            "colorbar": {
             "outlinewidth": 0,
             "ticks": ""
            },
            "colorscale": [
             [
              0,
              "#0d0887"
             ],
             [
              0.1111111111111111,
              "#46039f"
             ],
             [
              0.2222222222222222,
              "#7201a8"
             ],
             [
              0.3333333333333333,
              "#9c179e"
             ],
             [
              0.4444444444444444,
              "#bd3786"
             ],
             [
              0.5555555555555556,
              "#d8576b"
             ],
             [
              0.6666666666666666,
              "#ed7953"
             ],
             [
              0.7777777777777778,
              "#fb9f3a"
             ],
             [
              0.8888888888888888,
              "#fdca26"
             ],
             [
              1,
              "#f0f921"
             ]
            ],
            "type": "histogram2d"
           }
          ],
          "histogram2dcontour": [
           {
            "colorbar": {
             "outlinewidth": 0,
             "ticks": ""
            },
            "colorscale": [
             [
              0,
              "#0d0887"
             ],
             [
              0.1111111111111111,
              "#46039f"
             ],
             [
              0.2222222222222222,
              "#7201a8"
             ],
             [
              0.3333333333333333,
              "#9c179e"
             ],
             [
              0.4444444444444444,
              "#bd3786"
             ],
             [
              0.5555555555555556,
              "#d8576b"
             ],
             [
              0.6666666666666666,
              "#ed7953"
             ],
             [
              0.7777777777777778,
              "#fb9f3a"
             ],
             [
              0.8888888888888888,
              "#fdca26"
             ],
             [
              1,
              "#f0f921"
             ]
            ],
            "type": "histogram2dcontour"
           }
          ],
          "mesh3d": [
           {
            "colorbar": {
             "outlinewidth": 0,
             "ticks": ""
            },
            "type": "mesh3d"
           }
          ],
          "parcoords": [
           {
            "line": {
             "colorbar": {
              "outlinewidth": 0,
              "ticks": ""
             }
            },
            "type": "parcoords"
           }
          ],
          "pie": [
           {
            "automargin": true,
            "type": "pie"
           }
          ],
          "scatter": [
           {
            "fillpattern": {
             "fillmode": "overlay",
             "size": 10,
             "solidity": 0.2
            },
            "type": "scatter"
           }
          ],
          "scatter3d": [
           {
            "line": {
             "colorbar": {
              "outlinewidth": 0,
              "ticks": ""
             }
            },
            "marker": {
             "colorbar": {
              "outlinewidth": 0,
              "ticks": ""
             }
            },
            "type": "scatter3d"
           }
          ],
          "scattercarpet": [
           {
            "marker": {
             "colorbar": {
              "outlinewidth": 0,
              "ticks": ""
             }
            },
            "type": "scattercarpet"
           }
          ],
          "scattergeo": [
           {
            "marker": {
             "colorbar": {
              "outlinewidth": 0,
              "ticks": ""
             }
            },
            "type": "scattergeo"
           }
          ],
          "scattergl": [
           {
            "marker": {
             "colorbar": {
              "outlinewidth": 0,
              "ticks": ""
             }
            },
            "type": "scattergl"
           }
          ],
          "scattermapbox": [
           {
            "marker": {
             "colorbar": {
              "outlinewidth": 0,
              "ticks": ""
             }
            },
            "type": "scattermapbox"
           }
          ],
          "scatterpolar": [
           {
            "marker": {
             "colorbar": {
              "outlinewidth": 0,
              "ticks": ""
             }
            },
            "type": "scatterpolar"
           }
          ],
          "scatterpolargl": [
           {
            "marker": {
             "colorbar": {
              "outlinewidth": 0,
              "ticks": ""
             }
            },
            "type": "scatterpolargl"
           }
          ],
          "scatterternary": [
           {
            "marker": {
             "colorbar": {
              "outlinewidth": 0,
              "ticks": ""
             }
            },
            "type": "scatterternary"
           }
          ],
          "surface": [
           {
            "colorbar": {
             "outlinewidth": 0,
             "ticks": ""
            },
            "colorscale": [
             [
              0,
              "#0d0887"
             ],
             [
              0.1111111111111111,
              "#46039f"
             ],
             [
              0.2222222222222222,
              "#7201a8"
             ],
             [
              0.3333333333333333,
              "#9c179e"
             ],
             [
              0.4444444444444444,
              "#bd3786"
             ],
             [
              0.5555555555555556,
              "#d8576b"
             ],
             [
              0.6666666666666666,
              "#ed7953"
             ],
             [
              0.7777777777777778,
              "#fb9f3a"
             ],
             [
              0.8888888888888888,
              "#fdca26"
             ],
             [
              1,
              "#f0f921"
             ]
            ],
            "type": "surface"
           }
          ],
          "table": [
           {
            "cells": {
             "fill": {
              "color": "#EBF0F8"
             },
             "line": {
              "color": "white"
             }
            },
            "header": {
             "fill": {
              "color": "#C8D4E3"
             },
             "line": {
              "color": "white"
             }
            },
            "type": "table"
           }
          ]
         },
         "layout": {
          "annotationdefaults": {
           "arrowcolor": "#2a3f5f",
           "arrowhead": 0,
           "arrowwidth": 1
          },
          "autotypenumbers": "strict",
          "coloraxis": {
           "colorbar": {
            "outlinewidth": 0,
            "ticks": ""
           }
          },
          "colorscale": {
           "diverging": [
            [
             0,
             "#8e0152"
            ],
            [
             0.1,
             "#c51b7d"
            ],
            [
             0.2,
             "#de77ae"
            ],
            [
             0.3,
             "#f1b6da"
            ],
            [
             0.4,
             "#fde0ef"
            ],
            [
             0.5,
             "#f7f7f7"
            ],
            [
             0.6,
             "#e6f5d0"
            ],
            [
             0.7,
             "#b8e186"
            ],
            [
             0.8,
             "#7fbc41"
            ],
            [
             0.9,
             "#4d9221"
            ],
            [
             1,
             "#276419"
            ]
           ],
           "sequential": [
            [
             0,
             "#0d0887"
            ],
            [
             0.1111111111111111,
             "#46039f"
            ],
            [
             0.2222222222222222,
             "#7201a8"
            ],
            [
             0.3333333333333333,
             "#9c179e"
            ],
            [
             0.4444444444444444,
             "#bd3786"
            ],
            [
             0.5555555555555556,
             "#d8576b"
            ],
            [
             0.6666666666666666,
             "#ed7953"
            ],
            [
             0.7777777777777778,
             "#fb9f3a"
            ],
            [
             0.8888888888888888,
             "#fdca26"
            ],
            [
             1,
             "#f0f921"
            ]
           ],
           "sequentialminus": [
            [
             0,
             "#0d0887"
            ],
            [
             0.1111111111111111,
             "#46039f"
            ],
            [
             0.2222222222222222,
             "#7201a8"
            ],
            [
             0.3333333333333333,
             "#9c179e"
            ],
            [
             0.4444444444444444,
             "#bd3786"
            ],
            [
             0.5555555555555556,
             "#d8576b"
            ],
            [
             0.6666666666666666,
             "#ed7953"
            ],
            [
             0.7777777777777778,
             "#fb9f3a"
            ],
            [
             0.8888888888888888,
             "#fdca26"
            ],
            [
             1,
             "#f0f921"
            ]
           ]
          },
          "colorway": [
           "#636efa",
           "#EF553B",
           "#00cc96",
           "#ab63fa",
           "#FFA15A",
           "#19d3f3",
           "#FF6692",
           "#B6E880",
           "#FF97FF",
           "#FECB52"
          ],
          "font": {
           "color": "#2a3f5f"
          },
          "geo": {
           "bgcolor": "white",
           "lakecolor": "white",
           "landcolor": "#E5ECF6",
           "showlakes": true,
           "showland": true,
           "subunitcolor": "white"
          },
          "hoverlabel": {
           "align": "left"
          },
          "hovermode": "closest",
          "mapbox": {
           "style": "light"
          },
          "paper_bgcolor": "white",
          "plot_bgcolor": "#E5ECF6",
          "polar": {
           "angularaxis": {
            "gridcolor": "white",
            "linecolor": "white",
            "ticks": ""
           },
           "bgcolor": "#E5ECF6",
           "radialaxis": {
            "gridcolor": "white",
            "linecolor": "white",
            "ticks": ""
           }
          },
          "scene": {
           "xaxis": {
            "backgroundcolor": "#E5ECF6",
            "gridcolor": "white",
            "gridwidth": 2,
            "linecolor": "white",
            "showbackground": true,
            "ticks": "",
            "zerolinecolor": "white"
           },
           "yaxis": {
            "backgroundcolor": "#E5ECF6",
            "gridcolor": "white",
            "gridwidth": 2,
            "linecolor": "white",
            "showbackground": true,
            "ticks": "",
            "zerolinecolor": "white"
           },
           "zaxis": {
            "backgroundcolor": "#E5ECF6",
            "gridcolor": "white",
            "gridwidth": 2,
            "linecolor": "white",
            "showbackground": true,
            "ticks": "",
            "zerolinecolor": "white"
           }
          },
          "shapedefaults": {
           "line": {
            "color": "#2a3f5f"
           }
          },
          "ternary": {
           "aaxis": {
            "gridcolor": "white",
            "linecolor": "white",
            "ticks": ""
           },
           "baxis": {
            "gridcolor": "white",
            "linecolor": "white",
            "ticks": ""
           },
           "bgcolor": "#E5ECF6",
           "caxis": {
            "gridcolor": "white",
            "linecolor": "white",
            "ticks": ""
           }
          },
          "title": {
           "x": 0.05
          },
          "xaxis": {
           "automargin": true,
           "gridcolor": "white",
           "linecolor": "white",
           "ticks": "",
           "title": {
            "standoff": 15
           },
           "zerolinecolor": "white",
           "zerolinewidth": 2
          },
          "yaxis": {
           "automargin": true,
           "gridcolor": "white",
           "linecolor": "white",
           "ticks": "",
           "title": {
            "standoff": 15
           },
           "zerolinecolor": "white",
           "zerolinewidth": 2
          }
         }
        },
        "width": 701,
        "xaxis": {
         "anchor": "y",
         "domain": [
          0,
          1
         ],
         "title": {
          "text": "First sexual intercourse"
         }
        },
        "xaxis2": {
         "anchor": "y2",
         "domain": [
          0,
          1
         ],
         "matches": "x",
         "showgrid": true,
         "showticklabels": false
        },
        "yaxis": {
         "anchor": "x",
         "domain": [
          0,
          0.8316
         ],
         "title": {
          "text": "count"
         }
        },
        "yaxis2": {
         "anchor": "x2",
         "domain": [
          0.8416,
          1
         ],
         "matches": "y2",
         "showgrid": false,
         "showline": false,
         "showticklabels": false,
         "ticks": ""
        }
       }
      }
     },
     "metadata": {},
     "output_type": "display_data"
    },
    {
     "name": "stdout",
     "output_type": "stream",
     "text": [
      "First sexual intercourse\n",
      "median: 17.0, upper fence: 22.5, lower fence: 10.5\n"
     ]
    },
    {
     "data": {
      "application/vnd.plotly.v1+json": {
       "config": {
        "plotlyServerURL": "https://plot.ly"
       },
       "data": [
        {
         "alignmentgroup": "True",
         "bingroup": "x",
         "hovertemplate": "Num of pregnancies=%{x}<br>count=%{y}<extra></extra>",
         "legendgroup": "",
         "marker": {
          "color": "rgb(3, 35, 51)",
          "pattern": {
           "shape": ""
          }
         },
         "name": "",
         "offsetgroup": "",
         "orientation": "v",
         "showlegend": false,
         "type": "histogram",
         "x": [
          1,
          1,
          1,
          4,
          4,
          2,
          6,
          3,
          5,
          4,
          3,
          6,
          2,
          5,
          2,
          3,
          8,
          2,
          2,
          4,
          4,
          1,
          2,
          3,
          1,
          2,
          4,
          1,
          1,
          3,
          2,
          5,
          3,
          2,
          5,
          4,
          1,
          4,
          3,
          5,
          3,
          3,
          3,
          4,
          3,
          4,
          3,
          4,
          1,
          3,
          4,
          3,
          5,
          4,
          6,
          6,
          4,
          3,
          5,
          1,
          2,
          4,
          3,
          2,
          2,
          2,
          3,
          2,
          2,
          2,
          5,
          1,
          6,
          3,
          3,
          3,
          2,
          2,
          3,
          1,
          2,
          2,
          2,
          5,
          3,
          2,
          2,
          2,
          2,
          2,
          7,
          4,
          4,
          3,
          4,
          2,
          1,
          2,
          1,
          2,
          2,
          4,
          3,
          2,
          2,
          3,
          4,
          3,
          4,
          4,
          4,
          2,
          4,
          1,
          6,
          6,
          3,
          2,
          2,
          3,
          2,
          3,
          1,
          3,
          2,
          1,
          6,
          3,
          5,
          2,
          2,
          2,
          2,
          3,
          2,
          2,
          2,
          2,
          2,
          3,
          2,
          3,
          4,
          2,
          2,
          2,
          3,
          4,
          3,
          2,
          2,
          3,
          5,
          3,
          2,
          2,
          2,
          1,
          4,
          3,
          2,
          2,
          3,
          2,
          3,
          2,
          4,
          3,
          2,
          3,
          2,
          2,
          2,
          4,
          2,
          2,
          2,
          2,
          2,
          2,
          1,
          2,
          4,
          1,
          6,
          3,
          1,
          3,
          2,
          4,
          1,
          2,
          2,
          4,
          1,
          3,
          4,
          1,
          5,
          1,
          2,
          1,
          3,
          5,
          2,
          3,
          1,
          1,
          3,
          1,
          2,
          2,
          2,
          1,
          2,
          2,
          1,
          2,
          1,
          1,
          1,
          1,
          4,
          1,
          2,
          2,
          2,
          1,
          3,
          2,
          1,
          2,
          1,
          1,
          3,
          1,
          2,
          2,
          1,
          3,
          2,
          2,
          3,
          2,
          2,
          2,
          2,
          3,
          1,
          2,
          1,
          1,
          3,
          3,
          1,
          3,
          2,
          1,
          1,
          3,
          1,
          4,
          3,
          2,
          2,
          1,
          1,
          1,
          2,
          4,
          1,
          1,
          1,
          5,
          4,
          5,
          4,
          2,
          4,
          2,
          7,
          1,
          1,
          1,
          1,
          2,
          2,
          2,
          2,
          1,
          4,
          4,
          1,
          4,
          2,
          1,
          2,
          1,
          2,
          2,
          1,
          1,
          1,
          1,
          1,
          1,
          3,
          2,
          2,
          3,
          2,
          4,
          1,
          1,
          1,
          1,
          3,
          2,
          3,
          3,
          1,
          3,
          1,
          1,
          1,
          1,
          1,
          2,
          3,
          1,
          3,
          1,
          1,
          2,
          2,
          1,
          3,
          1,
          5,
          1,
          2,
          2,
          2,
          1,
          2,
          2,
          1,
          1,
          1,
          1,
          1,
          2,
          1,
          1,
          1,
          2,
          1,
          2,
          2,
          1,
          1,
          1,
          1,
          1,
          1,
          2,
          2,
          1,
          1,
          1,
          2,
          1,
          2,
          2,
          2,
          1,
          1,
          4,
          1,
          3,
          4,
          6,
          2,
          2,
          1,
          2,
          2,
          4,
          4,
          1,
          3,
          2,
          2,
          1,
          3,
          1,
          1,
          3,
          3,
          1,
          5,
          1,
          2,
          2,
          5,
          1,
          4,
          1,
          2,
          1,
          1,
          1,
          1,
          1,
          4,
          1,
          2,
          2,
          1,
          2,
          2,
          1,
          2,
          3,
          4,
          3,
          1,
          1,
          1,
          1,
          1,
          2,
          2,
          1,
          1,
          1,
          2,
          2,
          1,
          2,
          3,
          1,
          4,
          1,
          3,
          4,
          3,
          1,
          2,
          3,
          2,
          3,
          1,
          1,
          3,
          3,
          1,
          1,
          2,
          2,
          3,
          2,
          2,
          1,
          1,
          4,
          2,
          2,
          1,
          1,
          2,
          6,
          7,
          4,
          2,
          1,
          2,
          1,
          1,
          1,
          2,
          1,
          1,
          1,
          2,
          2,
          2,
          1,
          5,
          1,
          3,
          3,
          1,
          1,
          2,
          1,
          6,
          2,
          1,
          1,
          2,
          5,
          3,
          2,
          2,
          1,
          3,
          3,
          6,
          3,
          4,
          2,
          2,
          3,
          5,
          5,
          6,
          1,
          3,
          2,
          4,
          1,
          2,
          4,
          1,
          3,
          2,
          2,
          2,
          2,
          2,
          0,
          3,
          2,
          2,
          3,
          1,
          1,
          5,
          3,
          4,
          1,
          1,
          3,
          5,
          0,
          4,
          4,
          2,
          3,
          0,
          1,
          7,
          2,
          0,
          10,
          3,
          6,
          6,
          2,
          4,
          4,
          2,
          2,
          2,
          2,
          2,
          2,
          2,
          2,
          2,
          2,
          2,
          2,
          2,
          2,
          2,
          2,
          1,
          1,
          2,
          1,
          1,
          2,
          2,
          4,
          1,
          3,
          3,
          4,
          1,
          1,
          2,
          1,
          3,
          2,
          2,
          1,
          2,
          1,
          4,
          3,
          4,
          2,
          2,
          2,
          7,
          2,
          6,
          2,
          2,
          5,
          1,
          3,
          1,
          1,
          5,
          1,
          4,
          1,
          3,
          1,
          2,
          2,
          5,
          3,
          4,
          2,
          1,
          3,
          3,
          1,
          1,
          4,
          1,
          2,
          3,
          2,
          3,
          1,
          2,
          2,
          1,
          3,
          5,
          3,
          2,
          2,
          1,
          3,
          1,
          1,
          2,
          5,
          1,
          2,
          2,
          2,
          2,
          2,
          2,
          2,
          2,
          2,
          2,
          1,
          2,
          0,
          2,
          1,
          0,
          3,
          0,
          4,
          4,
          2,
          0,
          0,
          0,
          0,
          0,
          3,
          1,
          3,
          0,
          3,
          3,
          1,
          2,
          1,
          1,
          1,
          1,
          0,
          2,
          3,
          0,
          1,
          0,
          2,
          1
         ],
         "xaxis": "x",
         "yaxis": "y"
        },
        {
         "alignmentgroup": "True",
         "hovertemplate": "Num of pregnancies=%{x}<extra></extra>",
         "legendgroup": "",
         "marker": {
          "color": "rgb(3, 35, 51)"
         },
         "name": "",
         "notched": true,
         "offsetgroup": "",
         "showlegend": false,
         "type": "box",
         "x": [
          1,
          1,
          1,
          4,
          4,
          2,
          6,
          3,
          5,
          4,
          3,
          6,
          2,
          5,
          2,
          3,
          8,
          2,
          2,
          4,
          4,
          1,
          2,
          3,
          1,
          2,
          4,
          1,
          1,
          3,
          2,
          5,
          3,
          2,
          5,
          4,
          1,
          4,
          3,
          5,
          3,
          3,
          3,
          4,
          3,
          4,
          3,
          4,
          1,
          3,
          4,
          3,
          5,
          4,
          6,
          6,
          4,
          3,
          5,
          1,
          2,
          4,
          3,
          2,
          2,
          2,
          3,
          2,
          2,
          2,
          5,
          1,
          6,
          3,
          3,
          3,
          2,
          2,
          3,
          1,
          2,
          2,
          2,
          5,
          3,
          2,
          2,
          2,
          2,
          2,
          7,
          4,
          4,
          3,
          4,
          2,
          1,
          2,
          1,
          2,
          2,
          4,
          3,
          2,
          2,
          3,
          4,
          3,
          4,
          4,
          4,
          2,
          4,
          1,
          6,
          6,
          3,
          2,
          2,
          3,
          2,
          3,
          1,
          3,
          2,
          1,
          6,
          3,
          5,
          2,
          2,
          2,
          2,
          3,
          2,
          2,
          2,
          2,
          2,
          3,
          2,
          3,
          4,
          2,
          2,
          2,
          3,
          4,
          3,
          2,
          2,
          3,
          5,
          3,
          2,
          2,
          2,
          1,
          4,
          3,
          2,
          2,
          3,
          2,
          3,
          2,
          4,
          3,
          2,
          3,
          2,
          2,
          2,
          4,
          2,
          2,
          2,
          2,
          2,
          2,
          1,
          2,
          4,
          1,
          6,
          3,
          1,
          3,
          2,
          4,
          1,
          2,
          2,
          4,
          1,
          3,
          4,
          1,
          5,
          1,
          2,
          1,
          3,
          5,
          2,
          3,
          1,
          1,
          3,
          1,
          2,
          2,
          2,
          1,
          2,
          2,
          1,
          2,
          1,
          1,
          1,
          1,
          4,
          1,
          2,
          2,
          2,
          1,
          3,
          2,
          1,
          2,
          1,
          1,
          3,
          1,
          2,
          2,
          1,
          3,
          2,
          2,
          3,
          2,
          2,
          2,
          2,
          3,
          1,
          2,
          1,
          1,
          3,
          3,
          1,
          3,
          2,
          1,
          1,
          3,
          1,
          4,
          3,
          2,
          2,
          1,
          1,
          1,
          2,
          4,
          1,
          1,
          1,
          5,
          4,
          5,
          4,
          2,
          4,
          2,
          7,
          1,
          1,
          1,
          1,
          2,
          2,
          2,
          2,
          1,
          4,
          4,
          1,
          4,
          2,
          1,
          2,
          1,
          2,
          2,
          1,
          1,
          1,
          1,
          1,
          1,
          3,
          2,
          2,
          3,
          2,
          4,
          1,
          1,
          1,
          1,
          3,
          2,
          3,
          3,
          1,
          3,
          1,
          1,
          1,
          1,
          1,
          2,
          3,
          1,
          3,
          1,
          1,
          2,
          2,
          1,
          3,
          1,
          5,
          1,
          2,
          2,
          2,
          1,
          2,
          2,
          1,
          1,
          1,
          1,
          1,
          2,
          1,
          1,
          1,
          2,
          1,
          2,
          2,
          1,
          1,
          1,
          1,
          1,
          1,
          2,
          2,
          1,
          1,
          1,
          2,
          1,
          2,
          2,
          2,
          1,
          1,
          4,
          1,
          3,
          4,
          6,
          2,
          2,
          1,
          2,
          2,
          4,
          4,
          1,
          3,
          2,
          2,
          1,
          3,
          1,
          1,
          3,
          3,
          1,
          5,
          1,
          2,
          2,
          5,
          1,
          4,
          1,
          2,
          1,
          1,
          1,
          1,
          1,
          4,
          1,
          2,
          2,
          1,
          2,
          2,
          1,
          2,
          3,
          4,
          3,
          1,
          1,
          1,
          1,
          1,
          2,
          2,
          1,
          1,
          1,
          2,
          2,
          1,
          2,
          3,
          1,
          4,
          1,
          3,
          4,
          3,
          1,
          2,
          3,
          2,
          3,
          1,
          1,
          3,
          3,
          1,
          1,
          2,
          2,
          3,
          2,
          2,
          1,
          1,
          4,
          2,
          2,
          1,
          1,
          2,
          6,
          7,
          4,
          2,
          1,
          2,
          1,
          1,
          1,
          2,
          1,
          1,
          1,
          2,
          2,
          2,
          1,
          5,
          1,
          3,
          3,
          1,
          1,
          2,
          1,
          6,
          2,
          1,
          1,
          2,
          5,
          3,
          2,
          2,
          1,
          3,
          3,
          6,
          3,
          4,
          2,
          2,
          3,
          5,
          5,
          6,
          1,
          3,
          2,
          4,
          1,
          2,
          4,
          1,
          3,
          2,
          2,
          2,
          2,
          2,
          0,
          3,
          2,
          2,
          3,
          1,
          1,
          5,
          3,
          4,
          1,
          1,
          3,
          5,
          0,
          4,
          4,
          2,
          3,
          0,
          1,
          7,
          2,
          0,
          10,
          3,
          6,
          6,
          2,
          4,
          4,
          2,
          2,
          2,
          2,
          2,
          2,
          2,
          2,
          2,
          2,
          2,
          2,
          2,
          2,
          2,
          2,
          1,
          1,
          2,
          1,
          1,
          2,
          2,
          4,
          1,
          3,
          3,
          4,
          1,
          1,
          2,
          1,
          3,
          2,
          2,
          1,
          2,
          1,
          4,
          3,
          4,
          2,
          2,
          2,
          7,
          2,
          6,
          2,
          2,
          5,
          1,
          3,
          1,
          1,
          5,
          1,
          4,
          1,
          3,
          1,
          2,
          2,
          5,
          3,
          4,
          2,
          1,
          3,
          3,
          1,
          1,
          4,
          1,
          2,
          3,
          2,
          3,
          1,
          2,
          2,
          1,
          3,
          5,
          3,
          2,
          2,
          1,
          3,
          1,
          1,
          2,
          5,
          1,
          2,
          2,
          2,
          2,
          2,
          2,
          2,
          2,
          2,
          2,
          1,
          2,
          0,
          2,
          1,
          0,
          3,
          0,
          4,
          4,
          2,
          0,
          0,
          0,
          0,
          0,
          3,
          1,
          3,
          0,
          3,
          3,
          1,
          2,
          1,
          1,
          1,
          1,
          0,
          2,
          3,
          0,
          1,
          0,
          2,
          1
         ],
         "xaxis": "x2",
         "yaxis": "y2"
        }
       ],
       "layout": {
        "bargap": 0.2,
        "barmode": "relative",
        "legend": {
         "tracegroupgap": 0
        },
        "margin": {
         "t": 60
        },
        "template": {
         "data": {
          "bar": [
           {
            "error_x": {
             "color": "#2a3f5f"
            },
            "error_y": {
             "color": "#2a3f5f"
            },
            "marker": {
             "line": {
              "color": "#E5ECF6",
              "width": 0.5
             },
             "pattern": {
              "fillmode": "overlay",
              "size": 10,
              "solidity": 0.2
             }
            },
            "type": "bar"
           }
          ],
          "barpolar": [
           {
            "marker": {
             "line": {
              "color": "#E5ECF6",
              "width": 0.5
             },
             "pattern": {
              "fillmode": "overlay",
              "size": 10,
              "solidity": 0.2
             }
            },
            "type": "barpolar"
           }
          ],
          "carpet": [
           {
            "aaxis": {
             "endlinecolor": "#2a3f5f",
             "gridcolor": "white",
             "linecolor": "white",
             "minorgridcolor": "white",
             "startlinecolor": "#2a3f5f"
            },
            "baxis": {
             "endlinecolor": "#2a3f5f",
             "gridcolor": "white",
             "linecolor": "white",
             "minorgridcolor": "white",
             "startlinecolor": "#2a3f5f"
            },
            "type": "carpet"
           }
          ],
          "choropleth": [
           {
            "colorbar": {
             "outlinewidth": 0,
             "ticks": ""
            },
            "type": "choropleth"
           }
          ],
          "contour": [
           {
            "colorbar": {
             "outlinewidth": 0,
             "ticks": ""
            },
            "colorscale": [
             [
              0,
              "#0d0887"
             ],
             [
              0.1111111111111111,
              "#46039f"
             ],
             [
              0.2222222222222222,
              "#7201a8"
             ],
             [
              0.3333333333333333,
              "#9c179e"
             ],
             [
              0.4444444444444444,
              "#bd3786"
             ],
             [
              0.5555555555555556,
              "#d8576b"
             ],
             [
              0.6666666666666666,
              "#ed7953"
             ],
             [
              0.7777777777777778,
              "#fb9f3a"
             ],
             [
              0.8888888888888888,
              "#fdca26"
             ],
             [
              1,
              "#f0f921"
             ]
            ],
            "type": "contour"
           }
          ],
          "contourcarpet": [
           {
            "colorbar": {
             "outlinewidth": 0,
             "ticks": ""
            },
            "type": "contourcarpet"
           }
          ],
          "heatmap": [
           {
            "colorbar": {
             "outlinewidth": 0,
             "ticks": ""
            },
            "colorscale": [
             [
              0,
              "#0d0887"
             ],
             [
              0.1111111111111111,
              "#46039f"
             ],
             [
              0.2222222222222222,
              "#7201a8"
             ],
             [
              0.3333333333333333,
              "#9c179e"
             ],
             [
              0.4444444444444444,
              "#bd3786"
             ],
             [
              0.5555555555555556,
              "#d8576b"
             ],
             [
              0.6666666666666666,
              "#ed7953"
             ],
             [
              0.7777777777777778,
              "#fb9f3a"
             ],
             [
              0.8888888888888888,
              "#fdca26"
             ],
             [
              1,
              "#f0f921"
             ]
            ],
            "type": "heatmap"
           }
          ],
          "heatmapgl": [
           {
            "colorbar": {
             "outlinewidth": 0,
             "ticks": ""
            },
            "colorscale": [
             [
              0,
              "#0d0887"
             ],
             [
              0.1111111111111111,
              "#46039f"
             ],
             [
              0.2222222222222222,
              "#7201a8"
             ],
             [
              0.3333333333333333,
              "#9c179e"
             ],
             [
              0.4444444444444444,
              "#bd3786"
             ],
             [
              0.5555555555555556,
              "#d8576b"
             ],
             [
              0.6666666666666666,
              "#ed7953"
             ],
             [
              0.7777777777777778,
              "#fb9f3a"
             ],
             [
              0.8888888888888888,
              "#fdca26"
             ],
             [
              1,
              "#f0f921"
             ]
            ],
            "type": "heatmapgl"
           }
          ],
          "histogram": [
           {
            "marker": {
             "pattern": {
              "fillmode": "overlay",
              "size": 10,
              "solidity": 0.2
             }
            },
            "type": "histogram"
           }
          ],
          "histogram2d": [
           {
            "colorbar": {
             "outlinewidth": 0,
             "ticks": ""
            },
            "colorscale": [
             [
              0,
              "#0d0887"
             ],
             [
              0.1111111111111111,
              "#46039f"
             ],
             [
              0.2222222222222222,
              "#7201a8"
             ],
             [
              0.3333333333333333,
              "#9c179e"
             ],
             [
              0.4444444444444444,
              "#bd3786"
             ],
             [
              0.5555555555555556,
              "#d8576b"
             ],
             [
              0.6666666666666666,
              "#ed7953"
             ],
             [
              0.7777777777777778,
              "#fb9f3a"
             ],
             [
              0.8888888888888888,
              "#fdca26"
             ],
             [
              1,
              "#f0f921"
             ]
            ],
            "type": "histogram2d"
           }
          ],
          "histogram2dcontour": [
           {
            "colorbar": {
             "outlinewidth": 0,
             "ticks": ""
            },
            "colorscale": [
             [
              0,
              "#0d0887"
             ],
             [
              0.1111111111111111,
              "#46039f"
             ],
             [
              0.2222222222222222,
              "#7201a8"
             ],
             [
              0.3333333333333333,
              "#9c179e"
             ],
             [
              0.4444444444444444,
              "#bd3786"
             ],
             [
              0.5555555555555556,
              "#d8576b"
             ],
             [
              0.6666666666666666,
              "#ed7953"
             ],
             [
              0.7777777777777778,
              "#fb9f3a"
             ],
             [
              0.8888888888888888,
              "#fdca26"
             ],
             [
              1,
              "#f0f921"
             ]
            ],
            "type": "histogram2dcontour"
           }
          ],
          "mesh3d": [
           {
            "colorbar": {
             "outlinewidth": 0,
             "ticks": ""
            },
            "type": "mesh3d"
           }
          ],
          "parcoords": [
           {
            "line": {
             "colorbar": {
              "outlinewidth": 0,
              "ticks": ""
             }
            },
            "type": "parcoords"
           }
          ],
          "pie": [
           {
            "automargin": true,
            "type": "pie"
           }
          ],
          "scatter": [
           {
            "fillpattern": {
             "fillmode": "overlay",
             "size": 10,
             "solidity": 0.2
            },
            "type": "scatter"
           }
          ],
          "scatter3d": [
           {
            "line": {
             "colorbar": {
              "outlinewidth": 0,
              "ticks": ""
             }
            },
            "marker": {
             "colorbar": {
              "outlinewidth": 0,
              "ticks": ""
             }
            },
            "type": "scatter3d"
           }
          ],
          "scattercarpet": [
           {
            "marker": {
             "colorbar": {
              "outlinewidth": 0,
              "ticks": ""
             }
            },
            "type": "scattercarpet"
           }
          ],
          "scattergeo": [
           {
            "marker": {
             "colorbar": {
              "outlinewidth": 0,
              "ticks": ""
             }
            },
            "type": "scattergeo"
           }
          ],
          "scattergl": [
           {
            "marker": {
             "colorbar": {
              "outlinewidth": 0,
              "ticks": ""
             }
            },
            "type": "scattergl"
           }
          ],
          "scattermapbox": [
           {
            "marker": {
             "colorbar": {
              "outlinewidth": 0,
              "ticks": ""
             }
            },
            "type": "scattermapbox"
           }
          ],
          "scatterpolar": [
           {
            "marker": {
             "colorbar": {
              "outlinewidth": 0,
              "ticks": ""
             }
            },
            "type": "scatterpolar"
           }
          ],
          "scatterpolargl": [
           {
            "marker": {
             "colorbar": {
              "outlinewidth": 0,
              "ticks": ""
             }
            },
            "type": "scatterpolargl"
           }
          ],
          "scatterternary": [
           {
            "marker": {
             "colorbar": {
              "outlinewidth": 0,
              "ticks": ""
             }
            },
            "type": "scatterternary"
           }
          ],
          "surface": [
           {
            "colorbar": {
             "outlinewidth": 0,
             "ticks": ""
            },
            "colorscale": [
             [
              0,
              "#0d0887"
             ],
             [
              0.1111111111111111,
              "#46039f"
             ],
             [
              0.2222222222222222,
              "#7201a8"
             ],
             [
              0.3333333333333333,
              "#9c179e"
             ],
             [
              0.4444444444444444,
              "#bd3786"
             ],
             [
              0.5555555555555556,
              "#d8576b"
             ],
             [
              0.6666666666666666,
              "#ed7953"
             ],
             [
              0.7777777777777778,
              "#fb9f3a"
             ],
             [
              0.8888888888888888,
              "#fdca26"
             ],
             [
              1,
              "#f0f921"
             ]
            ],
            "type": "surface"
           }
          ],
          "table": [
           {
            "cells": {
             "fill": {
              "color": "#EBF0F8"
             },
             "line": {
              "color": "white"
             }
            },
            "header": {
             "fill": {
              "color": "#C8D4E3"
             },
             "line": {
              "color": "white"
             }
            },
            "type": "table"
           }
          ]
         },
         "layout": {
          "annotationdefaults": {
           "arrowcolor": "#2a3f5f",
           "arrowhead": 0,
           "arrowwidth": 1
          },
          "autotypenumbers": "strict",
          "coloraxis": {
           "colorbar": {
            "outlinewidth": 0,
            "ticks": ""
           }
          },
          "colorscale": {
           "diverging": [
            [
             0,
             "#8e0152"
            ],
            [
             0.1,
             "#c51b7d"
            ],
            [
             0.2,
             "#de77ae"
            ],
            [
             0.3,
             "#f1b6da"
            ],
            [
             0.4,
             "#fde0ef"
            ],
            [
             0.5,
             "#f7f7f7"
            ],
            [
             0.6,
             "#e6f5d0"
            ],
            [
             0.7,
             "#b8e186"
            ],
            [
             0.8,
             "#7fbc41"
            ],
            [
             0.9,
             "#4d9221"
            ],
            [
             1,
             "#276419"
            ]
           ],
           "sequential": [
            [
             0,
             "#0d0887"
            ],
            [
             0.1111111111111111,
             "#46039f"
            ],
            [
             0.2222222222222222,
             "#7201a8"
            ],
            [
             0.3333333333333333,
             "#9c179e"
            ],
            [
             0.4444444444444444,
             "#bd3786"
            ],
            [
             0.5555555555555556,
             "#d8576b"
            ],
            [
             0.6666666666666666,
             "#ed7953"
            ],
            [
             0.7777777777777778,
             "#fb9f3a"
            ],
            [
             0.8888888888888888,
             "#fdca26"
            ],
            [
             1,
             "#f0f921"
            ]
           ],
           "sequentialminus": [
            [
             0,
             "#0d0887"
            ],
            [
             0.1111111111111111,
             "#46039f"
            ],
            [
             0.2222222222222222,
             "#7201a8"
            ],
            [
             0.3333333333333333,
             "#9c179e"
            ],
            [
             0.4444444444444444,
             "#bd3786"
            ],
            [
             0.5555555555555556,
             "#d8576b"
            ],
            [
             0.6666666666666666,
             "#ed7953"
            ],
            [
             0.7777777777777778,
             "#fb9f3a"
            ],
            [
             0.8888888888888888,
             "#fdca26"
            ],
            [
             1,
             "#f0f921"
            ]
           ]
          },
          "colorway": [
           "#636efa",
           "#EF553B",
           "#00cc96",
           "#ab63fa",
           "#FFA15A",
           "#19d3f3",
           "#FF6692",
           "#B6E880",
           "#FF97FF",
           "#FECB52"
          ],
          "font": {
           "color": "#2a3f5f"
          },
          "geo": {
           "bgcolor": "white",
           "lakecolor": "white",
           "landcolor": "#E5ECF6",
           "showlakes": true,
           "showland": true,
           "subunitcolor": "white"
          },
          "hoverlabel": {
           "align": "left"
          },
          "hovermode": "closest",
          "mapbox": {
           "style": "light"
          },
          "paper_bgcolor": "white",
          "plot_bgcolor": "#E5ECF6",
          "polar": {
           "angularaxis": {
            "gridcolor": "white",
            "linecolor": "white",
            "ticks": ""
           },
           "bgcolor": "#E5ECF6",
           "radialaxis": {
            "gridcolor": "white",
            "linecolor": "white",
            "ticks": ""
           }
          },
          "scene": {
           "xaxis": {
            "backgroundcolor": "#E5ECF6",
            "gridcolor": "white",
            "gridwidth": 2,
            "linecolor": "white",
            "showbackground": true,
            "ticks": "",
            "zerolinecolor": "white"
           },
           "yaxis": {
            "backgroundcolor": "#E5ECF6",
            "gridcolor": "white",
            "gridwidth": 2,
            "linecolor": "white",
            "showbackground": true,
            "ticks": "",
            "zerolinecolor": "white"
           },
           "zaxis": {
            "backgroundcolor": "#E5ECF6",
            "gridcolor": "white",
            "gridwidth": 2,
            "linecolor": "white",
            "showbackground": true,
            "ticks": "",
            "zerolinecolor": "white"
           }
          },
          "shapedefaults": {
           "line": {
            "color": "#2a3f5f"
           }
          },
          "ternary": {
           "aaxis": {
            "gridcolor": "white",
            "linecolor": "white",
            "ticks": ""
           },
           "baxis": {
            "gridcolor": "white",
            "linecolor": "white",
            "ticks": ""
           },
           "bgcolor": "#E5ECF6",
           "caxis": {
            "gridcolor": "white",
            "linecolor": "white",
            "ticks": ""
           }
          },
          "title": {
           "x": 0.05
          },
          "xaxis": {
           "automargin": true,
           "gridcolor": "white",
           "linecolor": "white",
           "ticks": "",
           "title": {
            "standoff": 15
           },
           "zerolinecolor": "white",
           "zerolinewidth": 2
          },
          "yaxis": {
           "automargin": true,
           "gridcolor": "white",
           "linecolor": "white",
           "ticks": "",
           "title": {
            "standoff": 15
           },
           "zerolinecolor": "white",
           "zerolinewidth": 2
          }
         }
        },
        "width": 701,
        "xaxis": {
         "anchor": "y",
         "domain": [
          0,
          1
         ],
         "title": {
          "text": "Num of pregnancies"
         }
        },
        "xaxis2": {
         "anchor": "y2",
         "domain": [
          0,
          1
         ],
         "matches": "x",
         "showgrid": true,
         "showticklabels": false
        },
        "yaxis": {
         "anchor": "x",
         "domain": [
          0,
          0.8316
         ],
         "title": {
          "text": "count"
         }
        },
        "yaxis2": {
         "anchor": "x2",
         "domain": [
          0.8416,
          1
         ],
         "matches": "y2",
         "showgrid": false,
         "showline": false,
         "showticklabels": false,
         "ticks": ""
        }
       }
      }
     },
     "metadata": {},
     "output_type": "display_data"
    },
    {
     "name": "stdout",
     "output_type": "stream",
     "text": [
      "Num of pregnancies\n",
      "median: 2.0, upper fence: 6.0, lower fence: -2.0\n"
     ]
    },
    {
     "data": {
      "application/vnd.plotly.v1+json": {
       "config": {
        "plotlyServerURL": "https://plot.ly"
       },
       "data": [
        {
         "alignmentgroup": "True",
         "bingroup": "x",
         "hovertemplate": "Hormonal Contraceptives (years)=%{x}<br>count=%{y}<extra></extra>",
         "legendgroup": "",
         "marker": {
          "color": "rgb(3, 35, 51)",
          "pattern": {
           "shape": ""
          }
         },
         "name": "",
         "offsetgroup": "",
         "orientation": "v",
         "showlegend": false,
         "type": "histogram",
         "x": [
          0,
          0,
          0,
          3,
          15,
          0,
          0,
          2,
          0,
          2,
          8,
          10,
          5,
          0,
          15,
          0.25,
          7,
          0,
          15,
          10,
          0.25,
          15,
          3,
          0,
          0,
          0,
          0,
          0.25,
          22,
          19,
          10,
          0.5,
          0.5,
          1,
          1,
          0.58,
          0,
          2,
          0,
          9,
          0,
          13,
          0.25,
          0,
          0,
          0.25,
          0.25,
          0,
          0.5,
          0,
          11,
          15,
          0,
          0.25,
          1,
          7,
          5,
          4,
          5,
          12,
          16,
          3,
          0,
          0,
          0.33,
          15,
          0.33,
          2,
          1,
          1,
          2,
          7,
          0.5,
          0.16,
          0,
          2,
          8,
          0,
          4,
          5,
          10,
          2,
          4,
          8,
          0.5,
          0,
          14,
          2,
          9,
          0.08,
          0,
          10,
          10,
          0,
          13,
          2.282200521,
          10,
          8,
          9,
          2,
          0.66,
          0,
          0,
          11,
          3,
          0,
          6,
          4,
          12,
          0,
          0,
          0,
          0,
          5,
          5,
          0,
          0.08,
          0.08,
          12,
          0,
          1,
          0,
          0.5,
          0,
          1,
          6,
          0.5,
          1,
          3,
          0,
          5,
          2,
          6,
          6,
          7,
          5,
          0,
          7,
          5,
          6,
          3,
          3,
          5,
          7,
          0,
          0,
          5,
          0.25,
          4,
          9,
          0,
          0,
          1,
          1,
          9,
          1,
          0,
          0.25,
          0,
          0.25,
          9,
          7,
          3,
          1,
          2,
          2,
          1.5,
          6,
          0,
          0,
          0,
          0,
          0,
          3,
          0.42,
          0,
          0.08,
          1,
          1,
          0.67,
          9,
          3,
          0,
          7,
          4,
          0.08,
          6,
          4,
          1,
          2,
          3,
          0.16,
          0,
          0,
          0,
          6,
          1,
          0,
          1,
          0.16,
          0.5,
          4,
          6,
          8,
          3,
          6,
          0.08,
          0,
          1,
          7,
          0.67,
          7,
          0.25,
          0.25,
          0.5,
          8,
          0,
          0,
          0,
          0.42,
          8,
          5,
          0,
          0,
          6,
          0,
          1,
          3,
          0,
          1,
          0,
          5,
          0,
          3,
          0,
          0,
          0,
          4,
          3,
          2,
          0,
          1,
          5,
          2,
          4,
          1,
          0.08,
          0,
          0,
          7,
          0,
          0.25,
          5,
          0,
          7,
          0,
          0,
          0.66,
          5,
          0.58,
          4,
          1,
          3,
          4,
          0.25,
          6,
          1,
          1,
          3,
          0.25,
          0.25,
          0,
          0.25,
          2.282200521,
          1,
          5,
          1,
          0,
          7,
          7,
          0.08,
          1,
          0.5,
          0,
          0.5,
          0,
          1,
          4,
          0,
          0,
          0,
          2,
          4,
          3,
          0.16,
          0.42,
          0.33,
          0,
          0.75,
          0.25,
          0,
          3,
          0,
          0,
          1,
          0.75,
          0.5,
          0,
          1,
          4,
          0.5,
          0,
          0,
          0.58,
          0,
          0.58,
          0,
          1,
          1,
          0,
          0,
          0,
          0.08,
          0,
          0,
          0,
          3,
          0.5,
          0.33,
          5,
          0.58,
          0,
          0,
          0,
          0,
          0.42,
          0,
          0,
          0,
          0,
          0,
          0,
          0.25,
          0.33,
          0,
          0,
          0,
          2,
          4,
          0,
          0.08,
          0.42,
          0,
          1,
          0.25,
          0,
          0,
          1,
          0,
          0.16,
          0,
          0,
          0.25,
          1,
          0.66,
          0,
          0,
          0,
          0,
          0,
          0,
          0,
          0.08,
          0,
          1,
          0,
          3,
          1,
          1,
          8,
          0,
          3,
          0,
          0,
          0.5,
          0,
          8,
          3,
          0,
          0,
          2,
          6,
          1,
          2,
          0,
          0.5,
          0.5,
          4,
          0,
          0.33,
          0.08,
          7,
          5,
          4,
          0,
          0,
          0,
          6,
          2.5,
          1,
          0.08,
          0,
          1,
          1,
          1,
          5,
          5,
          2,
          1,
          0.66,
          0.08,
          0.16,
          0.16,
          0,
          5,
          4,
          2,
          0,
          0.08,
          0,
          0,
          0.16,
          0,
          0,
          1,
          1,
          4.5,
          4,
          0.16,
          9,
          3,
          0.08,
          1,
          0.42,
          0.25,
          0.25,
          0,
          0,
          6.5,
          0.25,
          1,
          0,
          0,
          0,
          10,
          0,
          0,
          6,
          0,
          7,
          0.25,
          2,
          0,
          1,
          5,
          2,
          5,
          0,
          0,
          1,
          8,
          0.66,
          1,
          0,
          0.17,
          0.08,
          0,
          1,
          0.08,
          1,
          0,
          1,
          0,
          6,
          1,
          0,
          2,
          0.58,
          2,
          2,
          0,
          0,
          0.33,
          1,
          0.75,
          20,
          3,
          0.25,
          0.25,
          1,
          1.5,
          0.25,
          0.16,
          1.5,
          0,
          0.08,
          0,
          20,
          6,
          3.5,
          0,
          3,
          0,
          0.16,
          0,
          7,
          0,
          8,
          3,
          0,
          0.08,
          6,
          0,
          0.25,
          6,
          10,
          3,
          8,
          3,
          6,
          0,
          1,
          9,
          1,
          0.41,
          0,
          0.25,
          0.25,
          0,
          16,
          5,
          0.25,
          20,
          0,
          0,
          10,
          1,
          6,
          0,
          0,
          0.25,
          5,
          0,
          8,
          3,
          0,
          2,
          0,
          1,
          0,
          1,
          0.08,
          3,
          0.42,
          0,
          0,
          0.75,
          1,
          0,
          0,
          0.25,
          2,
          0,
          0.25,
          0,
          0,
          9,
          4,
          0.5,
          0,
          0,
          7,
          0,
          12,
          0,
          19,
          1,
          0,
          8,
          1,
          0.16,
          5,
          10,
          9,
          8,
          1,
          20,
          0,
          3,
          8,
          2,
          0,
          0,
          0,
          0,
          0.16,
          0.5,
          0,
          0,
          2,
          2,
          1,
          3,
          0,
          0.5,
          14,
          0,
          0,
          1,
          0,
          0,
          0.16,
          1,
          0.25,
          3,
          4,
          0,
          0,
          1,
          0,
          0,
          9,
          2,
          0.25,
          2,
          2,
          7,
          0,
          0.5,
          0,
          0,
          17,
          1,
          0.16,
          0,
          0,
          6,
          2,
          0.16,
          0,
          0,
          7,
          0,
          0,
          0,
          0.75,
          0.25,
          0.08,
          1,
          2,
          0,
          2,
          0.66,
          3,
          6,
          0,
          0,
          0,
          0.75,
          0,
          0,
          0,
          0,
          0,
          1,
          0,
          0,
          0,
          0.25,
          5,
          0.08,
          5,
          0,
          2,
          2,
          5,
          0.75,
          0,
          0,
          0.5,
          6,
          0,
          0,
          5,
          0,
          8,
          0.08,
          0.08,
          0.5
         ],
         "xaxis": "x",
         "yaxis": "y"
        },
        {
         "alignmentgroup": "True",
         "hovertemplate": "Hormonal Contraceptives (years)=%{x}<extra></extra>",
         "legendgroup": "",
         "marker": {
          "color": "rgb(3, 35, 51)"
         },
         "name": "",
         "notched": true,
         "offsetgroup": "",
         "showlegend": false,
         "type": "box",
         "x": [
          0,
          0,
          0,
          3,
          15,
          0,
          0,
          2,
          0,
          2,
          8,
          10,
          5,
          0,
          15,
          0.25,
          7,
          0,
          15,
          10,
          0.25,
          15,
          3,
          0,
          0,
          0,
          0,
          0.25,
          22,
          19,
          10,
          0.5,
          0.5,
          1,
          1,
          0.58,
          0,
          2,
          0,
          9,
          0,
          13,
          0.25,
          0,
          0,
          0.25,
          0.25,
          0,
          0.5,
          0,
          11,
          15,
          0,
          0.25,
          1,
          7,
          5,
          4,
          5,
          12,
          16,
          3,
          0,
          0,
          0.33,
          15,
          0.33,
          2,
          1,
          1,
          2,
          7,
          0.5,
          0.16,
          0,
          2,
          8,
          0,
          4,
          5,
          10,
          2,
          4,
          8,
          0.5,
          0,
          14,
          2,
          9,
          0.08,
          0,
          10,
          10,
          0,
          13,
          2.282200521,
          10,
          8,
          9,
          2,
          0.66,
          0,
          0,
          11,
          3,
          0,
          6,
          4,
          12,
          0,
          0,
          0,
          0,
          5,
          5,
          0,
          0.08,
          0.08,
          12,
          0,
          1,
          0,
          0.5,
          0,
          1,
          6,
          0.5,
          1,
          3,
          0,
          5,
          2,
          6,
          6,
          7,
          5,
          0,
          7,
          5,
          6,
          3,
          3,
          5,
          7,
          0,
          0,
          5,
          0.25,
          4,
          9,
          0,
          0,
          1,
          1,
          9,
          1,
          0,
          0.25,
          0,
          0.25,
          9,
          7,
          3,
          1,
          2,
          2,
          1.5,
          6,
          0,
          0,
          0,
          0,
          0,
          3,
          0.42,
          0,
          0.08,
          1,
          1,
          0.67,
          9,
          3,
          0,
          7,
          4,
          0.08,
          6,
          4,
          1,
          2,
          3,
          0.16,
          0,
          0,
          0,
          6,
          1,
          0,
          1,
          0.16,
          0.5,
          4,
          6,
          8,
          3,
          6,
          0.08,
          0,
          1,
          7,
          0.67,
          7,
          0.25,
          0.25,
          0.5,
          8,
          0,
          0,
          0,
          0.42,
          8,
          5,
          0,
          0,
          6,
          0,
          1,
          3,
          0,
          1,
          0,
          5,
          0,
          3,
          0,
          0,
          0,
          4,
          3,
          2,
          0,
          1,
          5,
          2,
          4,
          1,
          0.08,
          0,
          0,
          7,
          0,
          0.25,
          5,
          0,
          7,
          0,
          0,
          0.66,
          5,
          0.58,
          4,
          1,
          3,
          4,
          0.25,
          6,
          1,
          1,
          3,
          0.25,
          0.25,
          0,
          0.25,
          2.282200521,
          1,
          5,
          1,
          0,
          7,
          7,
          0.08,
          1,
          0.5,
          0,
          0.5,
          0,
          1,
          4,
          0,
          0,
          0,
          2,
          4,
          3,
          0.16,
          0.42,
          0.33,
          0,
          0.75,
          0.25,
          0,
          3,
          0,
          0,
          1,
          0.75,
          0.5,
          0,
          1,
          4,
          0.5,
          0,
          0,
          0.58,
          0,
          0.58,
          0,
          1,
          1,
          0,
          0,
          0,
          0.08,
          0,
          0,
          0,
          3,
          0.5,
          0.33,
          5,
          0.58,
          0,
          0,
          0,
          0,
          0.42,
          0,
          0,
          0,
          0,
          0,
          0,
          0.25,
          0.33,
          0,
          0,
          0,
          2,
          4,
          0,
          0.08,
          0.42,
          0,
          1,
          0.25,
          0,
          0,
          1,
          0,
          0.16,
          0,
          0,
          0.25,
          1,
          0.66,
          0,
          0,
          0,
          0,
          0,
          0,
          0,
          0.08,
          0,
          1,
          0,
          3,
          1,
          1,
          8,
          0,
          3,
          0,
          0,
          0.5,
          0,
          8,
          3,
          0,
          0,
          2,
          6,
          1,
          2,
          0,
          0.5,
          0.5,
          4,
          0,
          0.33,
          0.08,
          7,
          5,
          4,
          0,
          0,
          0,
          6,
          2.5,
          1,
          0.08,
          0,
          1,
          1,
          1,
          5,
          5,
          2,
          1,
          0.66,
          0.08,
          0.16,
          0.16,
          0,
          5,
          4,
          2,
          0,
          0.08,
          0,
          0,
          0.16,
          0,
          0,
          1,
          1,
          4.5,
          4,
          0.16,
          9,
          3,
          0.08,
          1,
          0.42,
          0.25,
          0.25,
          0,
          0,
          6.5,
          0.25,
          1,
          0,
          0,
          0,
          10,
          0,
          0,
          6,
          0,
          7,
          0.25,
          2,
          0,
          1,
          5,
          2,
          5,
          0,
          0,
          1,
          8,
          0.66,
          1,
          0,
          0.17,
          0.08,
          0,
          1,
          0.08,
          1,
          0,
          1,
          0,
          6,
          1,
          0,
          2,
          0.58,
          2,
          2,
          0,
          0,
          0.33,
          1,
          0.75,
          20,
          3,
          0.25,
          0.25,
          1,
          1.5,
          0.25,
          0.16,
          1.5,
          0,
          0.08,
          0,
          20,
          6,
          3.5,
          0,
          3,
          0,
          0.16,
          0,
          7,
          0,
          8,
          3,
          0,
          0.08,
          6,
          0,
          0.25,
          6,
          10,
          3,
          8,
          3,
          6,
          0,
          1,
          9,
          1,
          0.41,
          0,
          0.25,
          0.25,
          0,
          16,
          5,
          0.25,
          20,
          0,
          0,
          10,
          1,
          6,
          0,
          0,
          0.25,
          5,
          0,
          8,
          3,
          0,
          2,
          0,
          1,
          0,
          1,
          0.08,
          3,
          0.42,
          0,
          0,
          0.75,
          1,
          0,
          0,
          0.25,
          2,
          0,
          0.25,
          0,
          0,
          9,
          4,
          0.5,
          0,
          0,
          7,
          0,
          12,
          0,
          19,
          1,
          0,
          8,
          1,
          0.16,
          5,
          10,
          9,
          8,
          1,
          20,
          0,
          3,
          8,
          2,
          0,
          0,
          0,
          0,
          0.16,
          0.5,
          0,
          0,
          2,
          2,
          1,
          3,
          0,
          0.5,
          14,
          0,
          0,
          1,
          0,
          0,
          0.16,
          1,
          0.25,
          3,
          4,
          0,
          0,
          1,
          0,
          0,
          9,
          2,
          0.25,
          2,
          2,
          7,
          0,
          0.5,
          0,
          0,
          17,
          1,
          0.16,
          0,
          0,
          6,
          2,
          0.16,
          0,
          0,
          7,
          0,
          0,
          0,
          0.75,
          0.25,
          0.08,
          1,
          2,
          0,
          2,
          0.66,
          3,
          6,
          0,
          0,
          0,
          0.75,
          0,
          0,
          0,
          0,
          0,
          1,
          0,
          0,
          0,
          0.25,
          5,
          0.08,
          5,
          0,
          2,
          2,
          5,
          0.75,
          0,
          0,
          0.5,
          6,
          0,
          0,
          5,
          0,
          8,
          0.08,
          0.08,
          0.5
         ],
         "xaxis": "x2",
         "yaxis": "y2"
        }
       ],
       "layout": {
        "bargap": 0.2,
        "barmode": "relative",
        "legend": {
         "tracegroupgap": 0
        },
        "margin": {
         "t": 60
        },
        "template": {
         "data": {
          "bar": [
           {
            "error_x": {
             "color": "#2a3f5f"
            },
            "error_y": {
             "color": "#2a3f5f"
            },
            "marker": {
             "line": {
              "color": "#E5ECF6",
              "width": 0.5
             },
             "pattern": {
              "fillmode": "overlay",
              "size": 10,
              "solidity": 0.2
             }
            },
            "type": "bar"
           }
          ],
          "barpolar": [
           {
            "marker": {
             "line": {
              "color": "#E5ECF6",
              "width": 0.5
             },
             "pattern": {
              "fillmode": "overlay",
              "size": 10,
              "solidity": 0.2
             }
            },
            "type": "barpolar"
           }
          ],
          "carpet": [
           {
            "aaxis": {
             "endlinecolor": "#2a3f5f",
             "gridcolor": "white",
             "linecolor": "white",
             "minorgridcolor": "white",
             "startlinecolor": "#2a3f5f"
            },
            "baxis": {
             "endlinecolor": "#2a3f5f",
             "gridcolor": "white",
             "linecolor": "white",
             "minorgridcolor": "white",
             "startlinecolor": "#2a3f5f"
            },
            "type": "carpet"
           }
          ],
          "choropleth": [
           {
            "colorbar": {
             "outlinewidth": 0,
             "ticks": ""
            },
            "type": "choropleth"
           }
          ],
          "contour": [
           {
            "colorbar": {
             "outlinewidth": 0,
             "ticks": ""
            },
            "colorscale": [
             [
              0,
              "#0d0887"
             ],
             [
              0.1111111111111111,
              "#46039f"
             ],
             [
              0.2222222222222222,
              "#7201a8"
             ],
             [
              0.3333333333333333,
              "#9c179e"
             ],
             [
              0.4444444444444444,
              "#bd3786"
             ],
             [
              0.5555555555555556,
              "#d8576b"
             ],
             [
              0.6666666666666666,
              "#ed7953"
             ],
             [
              0.7777777777777778,
              "#fb9f3a"
             ],
             [
              0.8888888888888888,
              "#fdca26"
             ],
             [
              1,
              "#f0f921"
             ]
            ],
            "type": "contour"
           }
          ],
          "contourcarpet": [
           {
            "colorbar": {
             "outlinewidth": 0,
             "ticks": ""
            },
            "type": "contourcarpet"
           }
          ],
          "heatmap": [
           {
            "colorbar": {
             "outlinewidth": 0,
             "ticks": ""
            },
            "colorscale": [
             [
              0,
              "#0d0887"
             ],
             [
              0.1111111111111111,
              "#46039f"
             ],
             [
              0.2222222222222222,
              "#7201a8"
             ],
             [
              0.3333333333333333,
              "#9c179e"
             ],
             [
              0.4444444444444444,
              "#bd3786"
             ],
             [
              0.5555555555555556,
              "#d8576b"
             ],
             [
              0.6666666666666666,
              "#ed7953"
             ],
             [
              0.7777777777777778,
              "#fb9f3a"
             ],
             [
              0.8888888888888888,
              "#fdca26"
             ],
             [
              1,
              "#f0f921"
             ]
            ],
            "type": "heatmap"
           }
          ],
          "heatmapgl": [
           {
            "colorbar": {
             "outlinewidth": 0,
             "ticks": ""
            },
            "colorscale": [
             [
              0,
              "#0d0887"
             ],
             [
              0.1111111111111111,
              "#46039f"
             ],
             [
              0.2222222222222222,
              "#7201a8"
             ],
             [
              0.3333333333333333,
              "#9c179e"
             ],
             [
              0.4444444444444444,
              "#bd3786"
             ],
             [
              0.5555555555555556,
              "#d8576b"
             ],
             [
              0.6666666666666666,
              "#ed7953"
             ],
             [
              0.7777777777777778,
              "#fb9f3a"
             ],
             [
              0.8888888888888888,
              "#fdca26"
             ],
             [
              1,
              "#f0f921"
             ]
            ],
            "type": "heatmapgl"
           }
          ],
          "histogram": [
           {
            "marker": {
             "pattern": {
              "fillmode": "overlay",
              "size": 10,
              "solidity": 0.2
             }
            },
            "type": "histogram"
           }
          ],
          "histogram2d": [
           {
            "colorbar": {
             "outlinewidth": 0,
             "ticks": ""
            },
            "colorscale": [
             [
              0,
              "#0d0887"
             ],
             [
              0.1111111111111111,
              "#46039f"
             ],
             [
              0.2222222222222222,
              "#7201a8"
             ],
             [
              0.3333333333333333,
              "#9c179e"
             ],
             [
              0.4444444444444444,
              "#bd3786"
             ],
             [
              0.5555555555555556,
              "#d8576b"
             ],
             [
              0.6666666666666666,
              "#ed7953"
             ],
             [
              0.7777777777777778,
              "#fb9f3a"
             ],
             [
              0.8888888888888888,
              "#fdca26"
             ],
             [
              1,
              "#f0f921"
             ]
            ],
            "type": "histogram2d"
           }
          ],
          "histogram2dcontour": [
           {
            "colorbar": {
             "outlinewidth": 0,
             "ticks": ""
            },
            "colorscale": [
             [
              0,
              "#0d0887"
             ],
             [
              0.1111111111111111,
              "#46039f"
             ],
             [
              0.2222222222222222,
              "#7201a8"
             ],
             [
              0.3333333333333333,
              "#9c179e"
             ],
             [
              0.4444444444444444,
              "#bd3786"
             ],
             [
              0.5555555555555556,
              "#d8576b"
             ],
             [
              0.6666666666666666,
              "#ed7953"
             ],
             [
              0.7777777777777778,
              "#fb9f3a"
             ],
             [
              0.8888888888888888,
              "#fdca26"
             ],
             [
              1,
              "#f0f921"
             ]
            ],
            "type": "histogram2dcontour"
           }
          ],
          "mesh3d": [
           {
            "colorbar": {
             "outlinewidth": 0,
             "ticks": ""
            },
            "type": "mesh3d"
           }
          ],
          "parcoords": [
           {
            "line": {
             "colorbar": {
              "outlinewidth": 0,
              "ticks": ""
             }
            },
            "type": "parcoords"
           }
          ],
          "pie": [
           {
            "automargin": true,
            "type": "pie"
           }
          ],
          "scatter": [
           {
            "fillpattern": {
             "fillmode": "overlay",
             "size": 10,
             "solidity": 0.2
            },
            "type": "scatter"
           }
          ],
          "scatter3d": [
           {
            "line": {
             "colorbar": {
              "outlinewidth": 0,
              "ticks": ""
             }
            },
            "marker": {
             "colorbar": {
              "outlinewidth": 0,
              "ticks": ""
             }
            },
            "type": "scatter3d"
           }
          ],
          "scattercarpet": [
           {
            "marker": {
             "colorbar": {
              "outlinewidth": 0,
              "ticks": ""
             }
            },
            "type": "scattercarpet"
           }
          ],
          "scattergeo": [
           {
            "marker": {
             "colorbar": {
              "outlinewidth": 0,
              "ticks": ""
             }
            },
            "type": "scattergeo"
           }
          ],
          "scattergl": [
           {
            "marker": {
             "colorbar": {
              "outlinewidth": 0,
              "ticks": ""
             }
            },
            "type": "scattergl"
           }
          ],
          "scattermapbox": [
           {
            "marker": {
             "colorbar": {
              "outlinewidth": 0,
              "ticks": ""
             }
            },
            "type": "scattermapbox"
           }
          ],
          "scatterpolar": [
           {
            "marker": {
             "colorbar": {
              "outlinewidth": 0,
              "ticks": ""
             }
            },
            "type": "scatterpolar"
           }
          ],
          "scatterpolargl": [
           {
            "marker": {
             "colorbar": {
              "outlinewidth": 0,
              "ticks": ""
             }
            },
            "type": "scatterpolargl"
           }
          ],
          "scatterternary": [
           {
            "marker": {
             "colorbar": {
              "outlinewidth": 0,
              "ticks": ""
             }
            },
            "type": "scatterternary"
           }
          ],
          "surface": [
           {
            "colorbar": {
             "outlinewidth": 0,
             "ticks": ""
            },
            "colorscale": [
             [
              0,
              "#0d0887"
             ],
             [
              0.1111111111111111,
              "#46039f"
             ],
             [
              0.2222222222222222,
              "#7201a8"
             ],
             [
              0.3333333333333333,
              "#9c179e"
             ],
             [
              0.4444444444444444,
              "#bd3786"
             ],
             [
              0.5555555555555556,
              "#d8576b"
             ],
             [
              0.6666666666666666,
              "#ed7953"
             ],
             [
              0.7777777777777778,
              "#fb9f3a"
             ],
             [
              0.8888888888888888,
              "#fdca26"
             ],
             [
              1,
              "#f0f921"
             ]
            ],
            "type": "surface"
           }
          ],
          "table": [
           {
            "cells": {
             "fill": {
              "color": "#EBF0F8"
             },
             "line": {
              "color": "white"
             }
            },
            "header": {
             "fill": {
              "color": "#C8D4E3"
             },
             "line": {
              "color": "white"
             }
            },
            "type": "table"
           }
          ]
         },
         "layout": {
          "annotationdefaults": {
           "arrowcolor": "#2a3f5f",
           "arrowhead": 0,
           "arrowwidth": 1
          },
          "autotypenumbers": "strict",
          "coloraxis": {
           "colorbar": {
            "outlinewidth": 0,
            "ticks": ""
           }
          },
          "colorscale": {
           "diverging": [
            [
             0,
             "#8e0152"
            ],
            [
             0.1,
             "#c51b7d"
            ],
            [
             0.2,
             "#de77ae"
            ],
            [
             0.3,
             "#f1b6da"
            ],
            [
             0.4,
             "#fde0ef"
            ],
            [
             0.5,
             "#f7f7f7"
            ],
            [
             0.6,
             "#e6f5d0"
            ],
            [
             0.7,
             "#b8e186"
            ],
            [
             0.8,
             "#7fbc41"
            ],
            [
             0.9,
             "#4d9221"
            ],
            [
             1,
             "#276419"
            ]
           ],
           "sequential": [
            [
             0,
             "#0d0887"
            ],
            [
             0.1111111111111111,
             "#46039f"
            ],
            [
             0.2222222222222222,
             "#7201a8"
            ],
            [
             0.3333333333333333,
             "#9c179e"
            ],
            [
             0.4444444444444444,
             "#bd3786"
            ],
            [
             0.5555555555555556,
             "#d8576b"
            ],
            [
             0.6666666666666666,
             "#ed7953"
            ],
            [
             0.7777777777777778,
             "#fb9f3a"
            ],
            [
             0.8888888888888888,
             "#fdca26"
            ],
            [
             1,
             "#f0f921"
            ]
           ],
           "sequentialminus": [
            [
             0,
             "#0d0887"
            ],
            [
             0.1111111111111111,
             "#46039f"
            ],
            [
             0.2222222222222222,
             "#7201a8"
            ],
            [
             0.3333333333333333,
             "#9c179e"
            ],
            [
             0.4444444444444444,
             "#bd3786"
            ],
            [
             0.5555555555555556,
             "#d8576b"
            ],
            [
             0.6666666666666666,
             "#ed7953"
            ],
            [
             0.7777777777777778,
             "#fb9f3a"
            ],
            [
             0.8888888888888888,
             "#fdca26"
            ],
            [
             1,
             "#f0f921"
            ]
           ]
          },
          "colorway": [
           "#636efa",
           "#EF553B",
           "#00cc96",
           "#ab63fa",
           "#FFA15A",
           "#19d3f3",
           "#FF6692",
           "#B6E880",
           "#FF97FF",
           "#FECB52"
          ],
          "font": {
           "color": "#2a3f5f"
          },
          "geo": {
           "bgcolor": "white",
           "lakecolor": "white",
           "landcolor": "#E5ECF6",
           "showlakes": true,
           "showland": true,
           "subunitcolor": "white"
          },
          "hoverlabel": {
           "align": "left"
          },
          "hovermode": "closest",
          "mapbox": {
           "style": "light"
          },
          "paper_bgcolor": "white",
          "plot_bgcolor": "#E5ECF6",
          "polar": {
           "angularaxis": {
            "gridcolor": "white",
            "linecolor": "white",
            "ticks": ""
           },
           "bgcolor": "#E5ECF6",
           "radialaxis": {
            "gridcolor": "white",
            "linecolor": "white",
            "ticks": ""
           }
          },
          "scene": {
           "xaxis": {
            "backgroundcolor": "#E5ECF6",
            "gridcolor": "white",
            "gridwidth": 2,
            "linecolor": "white",
            "showbackground": true,
            "ticks": "",
            "zerolinecolor": "white"
           },
           "yaxis": {
            "backgroundcolor": "#E5ECF6",
            "gridcolor": "white",
            "gridwidth": 2,
            "linecolor": "white",
            "showbackground": true,
            "ticks": "",
            "zerolinecolor": "white"
           },
           "zaxis": {
            "backgroundcolor": "#E5ECF6",
            "gridcolor": "white",
            "gridwidth": 2,
            "linecolor": "white",
            "showbackground": true,
            "ticks": "",
            "zerolinecolor": "white"
           }
          },
          "shapedefaults": {
           "line": {
            "color": "#2a3f5f"
           }
          },
          "ternary": {
           "aaxis": {
            "gridcolor": "white",
            "linecolor": "white",
            "ticks": ""
           },
           "baxis": {
            "gridcolor": "white",
            "linecolor": "white",
            "ticks": ""
           },
           "bgcolor": "#E5ECF6",
           "caxis": {
            "gridcolor": "white",
            "linecolor": "white",
            "ticks": ""
           }
          },
          "title": {
           "x": 0.05
          },
          "xaxis": {
           "automargin": true,
           "gridcolor": "white",
           "linecolor": "white",
           "ticks": "",
           "title": {
            "standoff": 15
           },
           "zerolinecolor": "white",
           "zerolinewidth": 2
          },
          "yaxis": {
           "automargin": true,
           "gridcolor": "white",
           "linecolor": "white",
           "ticks": "",
           "title": {
            "standoff": 15
           },
           "zerolinecolor": "white",
           "zerolinewidth": 2
          }
         }
        },
        "width": 701,
        "xaxis": {
         "anchor": "y",
         "domain": [
          0,
          1
         ],
         "title": {
          "text": "Hormonal Contraceptives (years)"
         }
        },
        "xaxis2": {
         "anchor": "y2",
         "domain": [
          0,
          1
         ],
         "matches": "x",
         "showgrid": true,
         "showticklabels": false
        },
        "yaxis": {
         "anchor": "x",
         "domain": [
          0,
          0.8316
         ],
         "title": {
          "text": "count"
         }
        },
        "yaxis2": {
         "anchor": "x2",
         "domain": [
          0.8416,
          1
         ],
         "matches": "y2",
         "showgrid": false,
         "showline": false,
         "showticklabels": false,
         "ticks": ""
        }
       }
      }
     },
     "metadata": {},
     "output_type": "display_data"
    },
    {
     "name": "stdout",
     "output_type": "stream",
     "text": [
      "Hormonal Contraceptives (years)\n",
      "median: 0.5, upper fence: 7.5, lower fence: -4.5\n"
     ]
    }
   ],
   "source": [
    "def find_outliers(col, indices):\n",
    "    obs = risk_factor_df[col].iloc[indices]\n",
    "    unique_items, counts = np.unique(obs, return_counts=True)\n",
    "    unique_items, counts = unique_items[::-1], counts[::-1]\n",
    "\n",
    "    values_to_delete = unique_items[counts < 2 ]\n",
    "    return values_to_delete\n",
    "\n",
    "def delete_outliers(col, to_delete):\n",
    "    if (to_delete.size != 0):\n",
    "        rows_to_del = risk_factor_df.loc[risk_factor_df[col].isin(to_delete)].index.values.tolist()\n",
    "\n",
    "        # Remove rows\n",
    "        risk_factor_df.drop(rows_to_del, inplace=True)\n",
    "        risk_factor_df.reset_index(drop=True, inplace=True)\n",
    "\n",
    "# Identify non-binary columns\n",
    "non_binary_cols = [col for col, vals in unique_vals.items() if len(vals) > 2]\n",
    "\n",
    "for col in non_binary_cols:\n",
    "\n",
    "    # IQR cannot be applied to columns with median 0\n",
    "    if (risk_factor_df[col].median() != 0):\n",
    "\n",
    "        # Plot values distribution\n",
    "        out_dist = px.histogram(risk_factor_df, x=col,\n",
    "            marginal=\"box\",\n",
    "            color_discrete_sequence= px.colors.sequential.thermal)\n",
    "        out_dist.update_layout(bargap=0.2,\n",
    "            width=701)\n",
    "        out_dist.show()\n",
    "\n",
    "        Q3, Q1 = np.percentile(risk_factor_df[col], [75 ,25])\n",
    "        IQR = Q3-Q1\n",
    "\n",
    "        upper = Q3+(1.5*IQR)\n",
    "        lower = Q1-(1.5*IQR)\n",
    "\n",
    "        print(col)\n",
    "        print(\"median: {}, upper fence: {}, lower fence: {}\".format(risk_factor_df[col].median(), upper, lower))\n",
    "\n",
    "        #Delete one occurrence observations outside the upper fence as outliers\n",
    "        upper_to_delete = find_outliers(col, np.where(risk_factor_df[col] > upper)[0])\n",
    "        delete_outliers(col, upper_to_delete)\n",
    "\n",
    "        \n",
    "        #Delete one occurrence observations outside the lower fence as outliers\n",
    "        lower_to_delete = find_outliers(col, np.where(risk_factor_df[col] < lower)[0])\n",
    "        delete_outliers(col, lower_to_delete)\n"
   ]
  },
  {
   "cell_type": "code",
   "execution_count": 86,
   "metadata": {},
   "outputs": [
    {
     "name": "stdout",
     "output_type": "stream",
     "text": [
      "\n",
      "Final dataset size: 32 cols, 697 rows\n"
     ]
    }
   ],
   "source": [
    "print(\"\\nFinal dataset size: {} cols, {} rows\".format(risk_factor_df.shape[1], risk_factor_df.shape[0]))"
   ]
  },
  {
   "cell_type": "markdown",
   "metadata": {},
   "source": [
    "#### Correlation with label\n",
    "\n",
    "Lastly we found the correlation between each of the features and each of the target variables."
   ]
  },
  {
   "cell_type": "code",
   "execution_count": 87,
   "metadata": {},
   "outputs": [
    {
     "data": {
      "application/vnd.plotly.v1+json": {
       "config": {
        "plotlyServerURL": "https://plot.ly"
       },
       "data": [
        {
         "alignmentgroup": "True",
         "hovertemplate": "Correlation=%{x}<br>Features=%{y}<extra></extra>",
         "legendgroup": "",
         "marker": {
          "color": "#636efa",
          "pattern": {
           "shape": ""
          }
         },
         "name": "",
         "offsetgroup": "",
         "orientation": "h",
         "showlegend": false,
         "textposition": "auto",
         "type": "bar",
         "x": [
          0.008226743017384481,
          0.008450225731590325,
          0.008450225731590329,
          0.008450225731590339,
          0.008450225731590348,
          0.011959018171571589,
          0.016235007102927676,
          0.016936993022519237,
          0.018759542982458192,
          0.018949811104630454,
          0.027452601811601675,
          0.02906741215175966,
          0.03295572204579871,
          0.04226230641666096,
          0.043657006640037625,
          0.049437034203780914,
          0.051419321779474086,
          0.05658666632895179,
          0.06329864775341537,
          0.06480939071339285,
          0.06548620817940766,
          0.08067285182821851,
          0.0816985319430292,
          0.08865953230245699,
          0.09147652346455974,
          0.11253968753476284,
          0.13992660283290612,
          0.1462627996976236
         ],
         "xaxis": "x",
         "y": [
          "IUD (years)",
          "STDs:genital herpes",
          "STDs:Hepatitis B",
          "STDs:molluscum contagiosum",
          "STDs:pelvic inflammatory disease",
          "STDs:HPV",
          "STDs:syphilis",
          "STDs:vaginal condylomatosis",
          "Age",
          "Dx:CIN",
          "First sexual intercourse",
          "Smokes (packs/year)",
          "Hormonal Contraceptives",
          "Num of pregnancies",
          "Smokes",
          "IUD",
          "Hormonal Contraceptives (years)",
          "Number of sexual partners",
          "STDs:condylomatosis",
          "STDs",
          "STDs:vulvo-perineal condylomatosis",
          "STDs (number)",
          "Smokes (years)",
          "STDs: Number of diagnosis",
          "Dx",
          "STDs:HIV",
          "Dx:Cancer",
          "Dx:HPV"
         ],
         "yaxis": "y"
        }
       ],
       "layout": {
        "barmode": "relative",
        "height": 700,
        "legend": {
         "tracegroupgap": 0
        },
        "template": {
         "data": {
          "bar": [
           {
            "error_x": {
             "color": "#2a3f5f"
            },
            "error_y": {
             "color": "#2a3f5f"
            },
            "marker": {
             "line": {
              "color": "#E5ECF6",
              "width": 0.5
             },
             "pattern": {
              "fillmode": "overlay",
              "size": 10,
              "solidity": 0.2
             }
            },
            "type": "bar"
           }
          ],
          "barpolar": [
           {
            "marker": {
             "line": {
              "color": "#E5ECF6",
              "width": 0.5
             },
             "pattern": {
              "fillmode": "overlay",
              "size": 10,
              "solidity": 0.2
             }
            },
            "type": "barpolar"
           }
          ],
          "carpet": [
           {
            "aaxis": {
             "endlinecolor": "#2a3f5f",
             "gridcolor": "white",
             "linecolor": "white",
             "minorgridcolor": "white",
             "startlinecolor": "#2a3f5f"
            },
            "baxis": {
             "endlinecolor": "#2a3f5f",
             "gridcolor": "white",
             "linecolor": "white",
             "minorgridcolor": "white",
             "startlinecolor": "#2a3f5f"
            },
            "type": "carpet"
           }
          ],
          "choropleth": [
           {
            "colorbar": {
             "outlinewidth": 0,
             "ticks": ""
            },
            "type": "choropleth"
           }
          ],
          "contour": [
           {
            "colorbar": {
             "outlinewidth": 0,
             "ticks": ""
            },
            "colorscale": [
             [
              0,
              "#0d0887"
             ],
             [
              0.1111111111111111,
              "#46039f"
             ],
             [
              0.2222222222222222,
              "#7201a8"
             ],
             [
              0.3333333333333333,
              "#9c179e"
             ],
             [
              0.4444444444444444,
              "#bd3786"
             ],
             [
              0.5555555555555556,
              "#d8576b"
             ],
             [
              0.6666666666666666,
              "#ed7953"
             ],
             [
              0.7777777777777778,
              "#fb9f3a"
             ],
             [
              0.8888888888888888,
              "#fdca26"
             ],
             [
              1,
              "#f0f921"
             ]
            ],
            "type": "contour"
           }
          ],
          "contourcarpet": [
           {
            "colorbar": {
             "outlinewidth": 0,
             "ticks": ""
            },
            "type": "contourcarpet"
           }
          ],
          "heatmap": [
           {
            "colorbar": {
             "outlinewidth": 0,
             "ticks": ""
            },
            "colorscale": [
             [
              0,
              "#0d0887"
             ],
             [
              0.1111111111111111,
              "#46039f"
             ],
             [
              0.2222222222222222,
              "#7201a8"
             ],
             [
              0.3333333333333333,
              "#9c179e"
             ],
             [
              0.4444444444444444,
              "#bd3786"
             ],
             [
              0.5555555555555556,
              "#d8576b"
             ],
             [
              0.6666666666666666,
              "#ed7953"
             ],
             [
              0.7777777777777778,
              "#fb9f3a"
             ],
             [
              0.8888888888888888,
              "#fdca26"
             ],
             [
              1,
              "#f0f921"
             ]
            ],
            "type": "heatmap"
           }
          ],
          "heatmapgl": [
           {
            "colorbar": {
             "outlinewidth": 0,
             "ticks": ""
            },
            "colorscale": [
             [
              0,
              "#0d0887"
             ],
             [
              0.1111111111111111,
              "#46039f"
             ],
             [
              0.2222222222222222,
              "#7201a8"
             ],
             [
              0.3333333333333333,
              "#9c179e"
             ],
             [
              0.4444444444444444,
              "#bd3786"
             ],
             [
              0.5555555555555556,
              "#d8576b"
             ],
             [
              0.6666666666666666,
              "#ed7953"
             ],
             [
              0.7777777777777778,
              "#fb9f3a"
             ],
             [
              0.8888888888888888,
              "#fdca26"
             ],
             [
              1,
              "#f0f921"
             ]
            ],
            "type": "heatmapgl"
           }
          ],
          "histogram": [
           {
            "marker": {
             "pattern": {
              "fillmode": "overlay",
              "size": 10,
              "solidity": 0.2
             }
            },
            "type": "histogram"
           }
          ],
          "histogram2d": [
           {
            "colorbar": {
             "outlinewidth": 0,
             "ticks": ""
            },
            "colorscale": [
             [
              0,
              "#0d0887"
             ],
             [
              0.1111111111111111,
              "#46039f"
             ],
             [
              0.2222222222222222,
              "#7201a8"
             ],
             [
              0.3333333333333333,
              "#9c179e"
             ],
             [
              0.4444444444444444,
              "#bd3786"
             ],
             [
              0.5555555555555556,
              "#d8576b"
             ],
             [
              0.6666666666666666,
              "#ed7953"
             ],
             [
              0.7777777777777778,
              "#fb9f3a"
             ],
             [
              0.8888888888888888,
              "#fdca26"
             ],
             [
              1,
              "#f0f921"
             ]
            ],
            "type": "histogram2d"
           }
          ],
          "histogram2dcontour": [
           {
            "colorbar": {
             "outlinewidth": 0,
             "ticks": ""
            },
            "colorscale": [
             [
              0,
              "#0d0887"
             ],
             [
              0.1111111111111111,
              "#46039f"
             ],
             [
              0.2222222222222222,
              "#7201a8"
             ],
             [
              0.3333333333333333,
              "#9c179e"
             ],
             [
              0.4444444444444444,
              "#bd3786"
             ],
             [
              0.5555555555555556,
              "#d8576b"
             ],
             [
              0.6666666666666666,
              "#ed7953"
             ],
             [
              0.7777777777777778,
              "#fb9f3a"
             ],
             [
              0.8888888888888888,
              "#fdca26"
             ],
             [
              1,
              "#f0f921"
             ]
            ],
            "type": "histogram2dcontour"
           }
          ],
          "mesh3d": [
           {
            "colorbar": {
             "outlinewidth": 0,
             "ticks": ""
            },
            "type": "mesh3d"
           }
          ],
          "parcoords": [
           {
            "line": {
             "colorbar": {
              "outlinewidth": 0,
              "ticks": ""
             }
            },
            "type": "parcoords"
           }
          ],
          "pie": [
           {
            "automargin": true,
            "type": "pie"
           }
          ],
          "scatter": [
           {
            "fillpattern": {
             "fillmode": "overlay",
             "size": 10,
             "solidity": 0.2
            },
            "type": "scatter"
           }
          ],
          "scatter3d": [
           {
            "line": {
             "colorbar": {
              "outlinewidth": 0,
              "ticks": ""
             }
            },
            "marker": {
             "colorbar": {
              "outlinewidth": 0,
              "ticks": ""
             }
            },
            "type": "scatter3d"
           }
          ],
          "scattercarpet": [
           {
            "marker": {
             "colorbar": {
              "outlinewidth": 0,
              "ticks": ""
             }
            },
            "type": "scattercarpet"
           }
          ],
          "scattergeo": [
           {
            "marker": {
             "colorbar": {
              "outlinewidth": 0,
              "ticks": ""
             }
            },
            "type": "scattergeo"
           }
          ],
          "scattergl": [
           {
            "marker": {
             "colorbar": {
              "outlinewidth": 0,
              "ticks": ""
             }
            },
            "type": "scattergl"
           }
          ],
          "scattermapbox": [
           {
            "marker": {
             "colorbar": {
              "outlinewidth": 0,
              "ticks": ""
             }
            },
            "type": "scattermapbox"
           }
          ],
          "scatterpolar": [
           {
            "marker": {
             "colorbar": {
              "outlinewidth": 0,
              "ticks": ""
             }
            },
            "type": "scatterpolar"
           }
          ],
          "scatterpolargl": [
           {
            "marker": {
             "colorbar": {
              "outlinewidth": 0,
              "ticks": ""
             }
            },
            "type": "scatterpolargl"
           }
          ],
          "scatterternary": [
           {
            "marker": {
             "colorbar": {
              "outlinewidth": 0,
              "ticks": ""
             }
            },
            "type": "scatterternary"
           }
          ],
          "surface": [
           {
            "colorbar": {
             "outlinewidth": 0,
             "ticks": ""
            },
            "colorscale": [
             [
              0,
              "#0d0887"
             ],
             [
              0.1111111111111111,
              "#46039f"
             ],
             [
              0.2222222222222222,
              "#7201a8"
             ],
             [
              0.3333333333333333,
              "#9c179e"
             ],
             [
              0.4444444444444444,
              "#bd3786"
             ],
             [
              0.5555555555555556,
              "#d8576b"
             ],
             [
              0.6666666666666666,
              "#ed7953"
             ],
             [
              0.7777777777777778,
              "#fb9f3a"
             ],
             [
              0.8888888888888888,
              "#fdca26"
             ],
             [
              1,
              "#f0f921"
             ]
            ],
            "type": "surface"
           }
          ],
          "table": [
           {
            "cells": {
             "fill": {
              "color": "#EBF0F8"
             },
             "line": {
              "color": "white"
             }
            },
            "header": {
             "fill": {
              "color": "#C8D4E3"
             },
             "line": {
              "color": "white"
             }
            },
            "type": "table"
           }
          ]
         },
         "layout": {
          "annotationdefaults": {
           "arrowcolor": "#2a3f5f",
           "arrowhead": 0,
           "arrowwidth": 1
          },
          "autotypenumbers": "strict",
          "coloraxis": {
           "colorbar": {
            "outlinewidth": 0,
            "ticks": ""
           }
          },
          "colorscale": {
           "diverging": [
            [
             0,
             "#8e0152"
            ],
            [
             0.1,
             "#c51b7d"
            ],
            [
             0.2,
             "#de77ae"
            ],
            [
             0.3,
             "#f1b6da"
            ],
            [
             0.4,
             "#fde0ef"
            ],
            [
             0.5,
             "#f7f7f7"
            ],
            [
             0.6,
             "#e6f5d0"
            ],
            [
             0.7,
             "#b8e186"
            ],
            [
             0.8,
             "#7fbc41"
            ],
            [
             0.9,
             "#4d9221"
            ],
            [
             1,
             "#276419"
            ]
           ],
           "sequential": [
            [
             0,
             "#0d0887"
            ],
            [
             0.1111111111111111,
             "#46039f"
            ],
            [
             0.2222222222222222,
             "#7201a8"
            ],
            [
             0.3333333333333333,
             "#9c179e"
            ],
            [
             0.4444444444444444,
             "#bd3786"
            ],
            [
             0.5555555555555556,
             "#d8576b"
            ],
            [
             0.6666666666666666,
             "#ed7953"
            ],
            [
             0.7777777777777778,
             "#fb9f3a"
            ],
            [
             0.8888888888888888,
             "#fdca26"
            ],
            [
             1,
             "#f0f921"
            ]
           ],
           "sequentialminus": [
            [
             0,
             "#0d0887"
            ],
            [
             0.1111111111111111,
             "#46039f"
            ],
            [
             0.2222222222222222,
             "#7201a8"
            ],
            [
             0.3333333333333333,
             "#9c179e"
            ],
            [
             0.4444444444444444,
             "#bd3786"
            ],
            [
             0.5555555555555556,
             "#d8576b"
            ],
            [
             0.6666666666666666,
             "#ed7953"
            ],
            [
             0.7777777777777778,
             "#fb9f3a"
            ],
            [
             0.8888888888888888,
             "#fdca26"
            ],
            [
             1,
             "#f0f921"
            ]
           ]
          },
          "colorway": [
           "#636efa",
           "#EF553B",
           "#00cc96",
           "#ab63fa",
           "#FFA15A",
           "#19d3f3",
           "#FF6692",
           "#B6E880",
           "#FF97FF",
           "#FECB52"
          ],
          "font": {
           "color": "#2a3f5f"
          },
          "geo": {
           "bgcolor": "white",
           "lakecolor": "white",
           "landcolor": "#E5ECF6",
           "showlakes": true,
           "showland": true,
           "subunitcolor": "white"
          },
          "hoverlabel": {
           "align": "left"
          },
          "hovermode": "closest",
          "mapbox": {
           "style": "light"
          },
          "paper_bgcolor": "white",
          "plot_bgcolor": "#E5ECF6",
          "polar": {
           "angularaxis": {
            "gridcolor": "white",
            "linecolor": "white",
            "ticks": ""
           },
           "bgcolor": "#E5ECF6",
           "radialaxis": {
            "gridcolor": "white",
            "linecolor": "white",
            "ticks": ""
           }
          },
          "scene": {
           "xaxis": {
            "backgroundcolor": "#E5ECF6",
            "gridcolor": "white",
            "gridwidth": 2,
            "linecolor": "white",
            "showbackground": true,
            "ticks": "",
            "zerolinecolor": "white"
           },
           "yaxis": {
            "backgroundcolor": "#E5ECF6",
            "gridcolor": "white",
            "gridwidth": 2,
            "linecolor": "white",
            "showbackground": true,
            "ticks": "",
            "zerolinecolor": "white"
           },
           "zaxis": {
            "backgroundcolor": "#E5ECF6",
            "gridcolor": "white",
            "gridwidth": 2,
            "linecolor": "white",
            "showbackground": true,
            "ticks": "",
            "zerolinecolor": "white"
           }
          },
          "shapedefaults": {
           "line": {
            "color": "#2a3f5f"
           }
          },
          "ternary": {
           "aaxis": {
            "gridcolor": "white",
            "linecolor": "white",
            "ticks": ""
           },
           "baxis": {
            "gridcolor": "white",
            "linecolor": "white",
            "ticks": ""
           },
           "bgcolor": "#E5ECF6",
           "caxis": {
            "gridcolor": "white",
            "linecolor": "white",
            "ticks": ""
           }
          },
          "title": {
           "x": 0.05
          },
          "xaxis": {
           "automargin": true,
           "gridcolor": "white",
           "linecolor": "white",
           "ticks": "",
           "title": {
            "standoff": 15
           },
           "zerolinecolor": "white",
           "zerolinewidth": 2
          },
          "yaxis": {
           "automargin": true,
           "gridcolor": "white",
           "linecolor": "white",
           "ticks": "",
           "title": {
            "standoff": 15
           },
           "zerolinecolor": "white",
           "zerolinewidth": 2
          }
         }
        },
        "title": {
         "text": "Features & Hinselmann Correlations",
         "x": 0.5
        },
        "width": 900,
        "xaxis": {
         "anchor": "y",
         "domain": [
          0,
          1
         ],
         "title": {
          "text": "Correlation"
         }
        },
        "yaxis": {
         "anchor": "x",
         "domain": [
          0,
          1
         ],
         "title": {
          "text": "Features"
         }
        }
       }
      }
     },
     "metadata": {},
     "output_type": "display_data"
    },
    {
     "data": {
      "application/vnd.plotly.v1+json": {
       "config": {
        "plotlyServerURL": "https://plot.ly"
       },
       "data": [
        {
         "alignmentgroup": "True",
         "hovertemplate": "Correlation=%{x}<br>Features=%{y}<extra></extra>",
         "legendgroup": "",
         "marker": {
          "color": "#636efa",
          "pattern": {
           "shape": ""
          }
         },
         "name": "",
         "offsetgroup": "",
         "orientation": "h",
         "showlegend": false,
         "textposition": "auto",
         "type": "bar",
         "x": [
          0.0002648092428427739,
          0.012361253327841262,
          0.012361253327841264,
          0.01236125332784127,
          0.01236125332784127,
          0.017494024167710814,
          0.019803491210834,
          0.02046501304486945,
          0.02199211803652549,
          0.022697749407207476,
          0.02477596078653364,
          0.02772037375325731,
          0.060917579596913886,
          0.06965104928294015,
          0.07066884747893674,
          0.07209231910930587,
          0.07790111207220382,
          0.08495032923202428,
          0.08722043648864346,
          0.10654646093266733,
          0.12482823975361264,
          0.12677887662315276,
          0.13238373611987458,
          0.13607330606203571,
          0.13775753380098346,
          0.14138716217022293,
          0.142222247081499,
          0.14501708318827847
         ],
         "xaxis": "x",
         "y": [
          "Hormonal Contraceptives",
          "STDs:pelvic inflammatory disease",
          "STDs:molluscum contagiosum",
          "STDs:Hepatitis B",
          "STDs:genital herpes",
          "STDs:HPV",
          "Number of sexual partners",
          "First sexual intercourse",
          "Smokes (packs/year)",
          "STDs:syphilis",
          "STDs:vaginal condylomatosis",
          "Dx:CIN",
          "Smokes",
          "Dx",
          "Age",
          "IUD (years)",
          "Num of pregnancies",
          "IUD",
          "Smokes (years)",
          "Hormonal Contraceptives (years)",
          "STDs",
          "STDs:HIV",
          "STDs:condylomatosis",
          "STDs:vulvo-perineal condylomatosis",
          "Dx:Cancer",
          "STDs (number)",
          "STDs: Number of diagnosis",
          "Dx:HPV"
         ],
         "yaxis": "y"
        }
       ],
       "layout": {
        "barmode": "relative",
        "height": 700,
        "legend": {
         "tracegroupgap": 0
        },
        "template": {
         "data": {
          "bar": [
           {
            "error_x": {
             "color": "#2a3f5f"
            },
            "error_y": {
             "color": "#2a3f5f"
            },
            "marker": {
             "line": {
              "color": "#E5ECF6",
              "width": 0.5
             },
             "pattern": {
              "fillmode": "overlay",
              "size": 10,
              "solidity": 0.2
             }
            },
            "type": "bar"
           }
          ],
          "barpolar": [
           {
            "marker": {
             "line": {
              "color": "#E5ECF6",
              "width": 0.5
             },
             "pattern": {
              "fillmode": "overlay",
              "size": 10,
              "solidity": 0.2
             }
            },
            "type": "barpolar"
           }
          ],
          "carpet": [
           {
            "aaxis": {
             "endlinecolor": "#2a3f5f",
             "gridcolor": "white",
             "linecolor": "white",
             "minorgridcolor": "white",
             "startlinecolor": "#2a3f5f"
            },
            "baxis": {
             "endlinecolor": "#2a3f5f",
             "gridcolor": "white",
             "linecolor": "white",
             "minorgridcolor": "white",
             "startlinecolor": "#2a3f5f"
            },
            "type": "carpet"
           }
          ],
          "choropleth": [
           {
            "colorbar": {
             "outlinewidth": 0,
             "ticks": ""
            },
            "type": "choropleth"
           }
          ],
          "contour": [
           {
            "colorbar": {
             "outlinewidth": 0,
             "ticks": ""
            },
            "colorscale": [
             [
              0,
              "#0d0887"
             ],
             [
              0.1111111111111111,
              "#46039f"
             ],
             [
              0.2222222222222222,
              "#7201a8"
             ],
             [
              0.3333333333333333,
              "#9c179e"
             ],
             [
              0.4444444444444444,
              "#bd3786"
             ],
             [
              0.5555555555555556,
              "#d8576b"
             ],
             [
              0.6666666666666666,
              "#ed7953"
             ],
             [
              0.7777777777777778,
              "#fb9f3a"
             ],
             [
              0.8888888888888888,
              "#fdca26"
             ],
             [
              1,
              "#f0f921"
             ]
            ],
            "type": "contour"
           }
          ],
          "contourcarpet": [
           {
            "colorbar": {
             "outlinewidth": 0,
             "ticks": ""
            },
            "type": "contourcarpet"
           }
          ],
          "heatmap": [
           {
            "colorbar": {
             "outlinewidth": 0,
             "ticks": ""
            },
            "colorscale": [
             [
              0,
              "#0d0887"
             ],
             [
              0.1111111111111111,
              "#46039f"
             ],
             [
              0.2222222222222222,
              "#7201a8"
             ],
             [
              0.3333333333333333,
              "#9c179e"
             ],
             [
              0.4444444444444444,
              "#bd3786"
             ],
             [
              0.5555555555555556,
              "#d8576b"
             ],
             [
              0.6666666666666666,
              "#ed7953"
             ],
             [
              0.7777777777777778,
              "#fb9f3a"
             ],
             [
              0.8888888888888888,
              "#fdca26"
             ],
             [
              1,
              "#f0f921"
             ]
            ],
            "type": "heatmap"
           }
          ],
          "heatmapgl": [
           {
            "colorbar": {
             "outlinewidth": 0,
             "ticks": ""
            },
            "colorscale": [
             [
              0,
              "#0d0887"
             ],
             [
              0.1111111111111111,
              "#46039f"
             ],
             [
              0.2222222222222222,
              "#7201a8"
             ],
             [
              0.3333333333333333,
              "#9c179e"
             ],
             [
              0.4444444444444444,
              "#bd3786"
             ],
             [
              0.5555555555555556,
              "#d8576b"
             ],
             [
              0.6666666666666666,
              "#ed7953"
             ],
             [
              0.7777777777777778,
              "#fb9f3a"
             ],
             [
              0.8888888888888888,
              "#fdca26"
             ],
             [
              1,
              "#f0f921"
             ]
            ],
            "type": "heatmapgl"
           }
          ],
          "histogram": [
           {
            "marker": {
             "pattern": {
              "fillmode": "overlay",
              "size": 10,
              "solidity": 0.2
             }
            },
            "type": "histogram"
           }
          ],
          "histogram2d": [
           {
            "colorbar": {
             "outlinewidth": 0,
             "ticks": ""
            },
            "colorscale": [
             [
              0,
              "#0d0887"
             ],
             [
              0.1111111111111111,
              "#46039f"
             ],
             [
              0.2222222222222222,
              "#7201a8"
             ],
             [
              0.3333333333333333,
              "#9c179e"
             ],
             [
              0.4444444444444444,
              "#bd3786"
             ],
             [
              0.5555555555555556,
              "#d8576b"
             ],
             [
              0.6666666666666666,
              "#ed7953"
             ],
             [
              0.7777777777777778,
              "#fb9f3a"
             ],
             [
              0.8888888888888888,
              "#fdca26"
             ],
             [
              1,
              "#f0f921"
             ]
            ],
            "type": "histogram2d"
           }
          ],
          "histogram2dcontour": [
           {
            "colorbar": {
             "outlinewidth": 0,
             "ticks": ""
            },
            "colorscale": [
             [
              0,
              "#0d0887"
             ],
             [
              0.1111111111111111,
              "#46039f"
             ],
             [
              0.2222222222222222,
              "#7201a8"
             ],
             [
              0.3333333333333333,
              "#9c179e"
             ],
             [
              0.4444444444444444,
              "#bd3786"
             ],
             [
              0.5555555555555556,
              "#d8576b"
             ],
             [
              0.6666666666666666,
              "#ed7953"
             ],
             [
              0.7777777777777778,
              "#fb9f3a"
             ],
             [
              0.8888888888888888,
              "#fdca26"
             ],
             [
              1,
              "#f0f921"
             ]
            ],
            "type": "histogram2dcontour"
           }
          ],
          "mesh3d": [
           {
            "colorbar": {
             "outlinewidth": 0,
             "ticks": ""
            },
            "type": "mesh3d"
           }
          ],
          "parcoords": [
           {
            "line": {
             "colorbar": {
              "outlinewidth": 0,
              "ticks": ""
             }
            },
            "type": "parcoords"
           }
          ],
          "pie": [
           {
            "automargin": true,
            "type": "pie"
           }
          ],
          "scatter": [
           {
            "fillpattern": {
             "fillmode": "overlay",
             "size": 10,
             "solidity": 0.2
            },
            "type": "scatter"
           }
          ],
          "scatter3d": [
           {
            "line": {
             "colorbar": {
              "outlinewidth": 0,
              "ticks": ""
             }
            },
            "marker": {
             "colorbar": {
              "outlinewidth": 0,
              "ticks": ""
             }
            },
            "type": "scatter3d"
           }
          ],
          "scattercarpet": [
           {
            "marker": {
             "colorbar": {
              "outlinewidth": 0,
              "ticks": ""
             }
            },
            "type": "scattercarpet"
           }
          ],
          "scattergeo": [
           {
            "marker": {
             "colorbar": {
              "outlinewidth": 0,
              "ticks": ""
             }
            },
            "type": "scattergeo"
           }
          ],
          "scattergl": [
           {
            "marker": {
             "colorbar": {
              "outlinewidth": 0,
              "ticks": ""
             }
            },
            "type": "scattergl"
           }
          ],
          "scattermapbox": [
           {
            "marker": {
             "colorbar": {
              "outlinewidth": 0,
              "ticks": ""
             }
            },
            "type": "scattermapbox"
           }
          ],
          "scatterpolar": [
           {
            "marker": {
             "colorbar": {
              "outlinewidth": 0,
              "ticks": ""
             }
            },
            "type": "scatterpolar"
           }
          ],
          "scatterpolargl": [
           {
            "marker": {
             "colorbar": {
              "outlinewidth": 0,
              "ticks": ""
             }
            },
            "type": "scatterpolargl"
           }
          ],
          "scatterternary": [
           {
            "marker": {
             "colorbar": {
              "outlinewidth": 0,
              "ticks": ""
             }
            },
            "type": "scatterternary"
           }
          ],
          "surface": [
           {
            "colorbar": {
             "outlinewidth": 0,
             "ticks": ""
            },
            "colorscale": [
             [
              0,
              "#0d0887"
             ],
             [
              0.1111111111111111,
              "#46039f"
             ],
             [
              0.2222222222222222,
              "#7201a8"
             ],
             [
              0.3333333333333333,
              "#9c179e"
             ],
             [
              0.4444444444444444,
              "#bd3786"
             ],
             [
              0.5555555555555556,
              "#d8576b"
             ],
             [
              0.6666666666666666,
              "#ed7953"
             ],
             [
              0.7777777777777778,
              "#fb9f3a"
             ],
             [
              0.8888888888888888,
              "#fdca26"
             ],
             [
              1,
              "#f0f921"
             ]
            ],
            "type": "surface"
           }
          ],
          "table": [
           {
            "cells": {
             "fill": {
              "color": "#EBF0F8"
             },
             "line": {
              "color": "white"
             }
            },
            "header": {
             "fill": {
              "color": "#C8D4E3"
             },
             "line": {
              "color": "white"
             }
            },
            "type": "table"
           }
          ]
         },
         "layout": {
          "annotationdefaults": {
           "arrowcolor": "#2a3f5f",
           "arrowhead": 0,
           "arrowwidth": 1
          },
          "autotypenumbers": "strict",
          "coloraxis": {
           "colorbar": {
            "outlinewidth": 0,
            "ticks": ""
           }
          },
          "colorscale": {
           "diverging": [
            [
             0,
             "#8e0152"
            ],
            [
             0.1,
             "#c51b7d"
            ],
            [
             0.2,
             "#de77ae"
            ],
            [
             0.3,
             "#f1b6da"
            ],
            [
             0.4,
             "#fde0ef"
            ],
            [
             0.5,
             "#f7f7f7"
            ],
            [
             0.6,
             "#e6f5d0"
            ],
            [
             0.7,
             "#b8e186"
            ],
            [
             0.8,
             "#7fbc41"
            ],
            [
             0.9,
             "#4d9221"
            ],
            [
             1,
             "#276419"
            ]
           ],
           "sequential": [
            [
             0,
             "#0d0887"
            ],
            [
             0.1111111111111111,
             "#46039f"
            ],
            [
             0.2222222222222222,
             "#7201a8"
            ],
            [
             0.3333333333333333,
             "#9c179e"
            ],
            [
             0.4444444444444444,
             "#bd3786"
            ],
            [
             0.5555555555555556,
             "#d8576b"
            ],
            [
             0.6666666666666666,
             "#ed7953"
            ],
            [
             0.7777777777777778,
             "#fb9f3a"
            ],
            [
             0.8888888888888888,
             "#fdca26"
            ],
            [
             1,
             "#f0f921"
            ]
           ],
           "sequentialminus": [
            [
             0,
             "#0d0887"
            ],
            [
             0.1111111111111111,
             "#46039f"
            ],
            [
             0.2222222222222222,
             "#7201a8"
            ],
            [
             0.3333333333333333,
             "#9c179e"
            ],
            [
             0.4444444444444444,
             "#bd3786"
            ],
            [
             0.5555555555555556,
             "#d8576b"
            ],
            [
             0.6666666666666666,
             "#ed7953"
            ],
            [
             0.7777777777777778,
             "#fb9f3a"
            ],
            [
             0.8888888888888888,
             "#fdca26"
            ],
            [
             1,
             "#f0f921"
            ]
           ]
          },
          "colorway": [
           "#636efa",
           "#EF553B",
           "#00cc96",
           "#ab63fa",
           "#FFA15A",
           "#19d3f3",
           "#FF6692",
           "#B6E880",
           "#FF97FF",
           "#FECB52"
          ],
          "font": {
           "color": "#2a3f5f"
          },
          "geo": {
           "bgcolor": "white",
           "lakecolor": "white",
           "landcolor": "#E5ECF6",
           "showlakes": true,
           "showland": true,
           "subunitcolor": "white"
          },
          "hoverlabel": {
           "align": "left"
          },
          "hovermode": "closest",
          "mapbox": {
           "style": "light"
          },
          "paper_bgcolor": "white",
          "plot_bgcolor": "#E5ECF6",
          "polar": {
           "angularaxis": {
            "gridcolor": "white",
            "linecolor": "white",
            "ticks": ""
           },
           "bgcolor": "#E5ECF6",
           "radialaxis": {
            "gridcolor": "white",
            "linecolor": "white",
            "ticks": ""
           }
          },
          "scene": {
           "xaxis": {
            "backgroundcolor": "#E5ECF6",
            "gridcolor": "white",
            "gridwidth": 2,
            "linecolor": "white",
            "showbackground": true,
            "ticks": "",
            "zerolinecolor": "white"
           },
           "yaxis": {
            "backgroundcolor": "#E5ECF6",
            "gridcolor": "white",
            "gridwidth": 2,
            "linecolor": "white",
            "showbackground": true,
            "ticks": "",
            "zerolinecolor": "white"
           },
           "zaxis": {
            "backgroundcolor": "#E5ECF6",
            "gridcolor": "white",
            "gridwidth": 2,
            "linecolor": "white",
            "showbackground": true,
            "ticks": "",
            "zerolinecolor": "white"
           }
          },
          "shapedefaults": {
           "line": {
            "color": "#2a3f5f"
           }
          },
          "ternary": {
           "aaxis": {
            "gridcolor": "white",
            "linecolor": "white",
            "ticks": ""
           },
           "baxis": {
            "gridcolor": "white",
            "linecolor": "white",
            "ticks": ""
           },
           "bgcolor": "#E5ECF6",
           "caxis": {
            "gridcolor": "white",
            "linecolor": "white",
            "ticks": ""
           }
          },
          "title": {
           "x": 0.05
          },
          "xaxis": {
           "automargin": true,
           "gridcolor": "white",
           "linecolor": "white",
           "ticks": "",
           "title": {
            "standoff": 15
           },
           "zerolinecolor": "white",
           "zerolinewidth": 2
          },
          "yaxis": {
           "automargin": true,
           "gridcolor": "white",
           "linecolor": "white",
           "ticks": "",
           "title": {
            "standoff": 15
           },
           "zerolinecolor": "white",
           "zerolinewidth": 2
          }
         }
        },
        "title": {
         "text": "Features & Schiller Correlations",
         "x": 0.5
        },
        "width": 900,
        "xaxis": {
         "anchor": "y",
         "domain": [
          0,
          1
         ],
         "title": {
          "text": "Correlation"
         }
        },
        "yaxis": {
         "anchor": "x",
         "domain": [
          0,
          1
         ],
         "title": {
          "text": "Features"
         }
        }
       }
      }
     },
     "metadata": {},
     "output_type": "display_data"
    },
    {
     "data": {
      "application/vnd.plotly.v1+json": {
       "config": {
        "plotlyServerURL": "https://plot.ly"
       },
       "data": [
        {
         "alignmentgroup": "True",
         "hovertemplate": "Correlation=%{x}<br>Features=%{y}<extra></extra>",
         "legendgroup": "",
         "marker": {
          "color": "#636efa",
          "pattern": {
           "shape": ""
          }
         },
         "name": "",
         "offsetgroup": "",
         "orientation": "h",
         "showlegend": false,
         "textposition": "auto",
         "type": "bar",
         "x": [
          0.002656176151653192,
          0.004171327403612543,
          0.007510199018598269,
          0.008245262700733913,
          0.009228151948627725,
          0.009228151948627732,
          0.009228151948627744,
          0.009228151948627744,
          0.010602680651476242,
          0.012585366002611962,
          0.013059963171290667,
          0.013596823283154175,
          0.018496209465784227,
          0.02069432720803919,
          0.022766994883665313,
          0.029717286028954456,
          0.03380565928430855,
          0.03485563689269703,
          0.04555295257233996,
          0.06885048107588604,
          0.07086589929650913,
          0.07466000708220938,
          0.07653339568233197,
          0.07901348063082422,
          0.09862996153702733,
          0.11778715011923747,
          0.12337715942022771,
          0.12941316504402423
         ],
         "xaxis": "x",
         "y": [
          "Smokes (years)",
          "IUD (years)",
          "Smokes (packs/year)",
          "Hormonal Contraceptives",
          "STDs:pelvic inflammatory disease",
          "STDs:molluscum contagiosum",
          "STDs:genital herpes",
          "STDs:Hepatitis B",
          "Smokes",
          "IUD",
          "STDs:HPV",
          "First sexual intercourse",
          "STDs:vaginal condylomatosis",
          "Dx:CIN",
          "Age",
          "Number of sexual partners",
          "Num of pregnancies",
          "STDs:syphilis",
          "Hormonal Contraceptives (years)",
          "STDs",
          "STDs: Number of diagnosis",
          "STDs (number)",
          "STDs:condylomatosis",
          "STDs:vulvo-perineal condylomatosis",
          "STDs:HIV",
          "Dx",
          "Dx:Cancer",
          "Dx:HPV"
         ],
         "yaxis": "y"
        }
       ],
       "layout": {
        "barmode": "relative",
        "height": 700,
        "legend": {
         "tracegroupgap": 0
        },
        "template": {
         "data": {
          "bar": [
           {
            "error_x": {
             "color": "#2a3f5f"
            },
            "error_y": {
             "color": "#2a3f5f"
            },
            "marker": {
             "line": {
              "color": "#E5ECF6",
              "width": 0.5
             },
             "pattern": {
              "fillmode": "overlay",
              "size": 10,
              "solidity": 0.2
             }
            },
            "type": "bar"
           }
          ],
          "barpolar": [
           {
            "marker": {
             "line": {
              "color": "#E5ECF6",
              "width": 0.5
             },
             "pattern": {
              "fillmode": "overlay",
              "size": 10,
              "solidity": 0.2
             }
            },
            "type": "barpolar"
           }
          ],
          "carpet": [
           {
            "aaxis": {
             "endlinecolor": "#2a3f5f",
             "gridcolor": "white",
             "linecolor": "white",
             "minorgridcolor": "white",
             "startlinecolor": "#2a3f5f"
            },
            "baxis": {
             "endlinecolor": "#2a3f5f",
             "gridcolor": "white",
             "linecolor": "white",
             "minorgridcolor": "white",
             "startlinecolor": "#2a3f5f"
            },
            "type": "carpet"
           }
          ],
          "choropleth": [
           {
            "colorbar": {
             "outlinewidth": 0,
             "ticks": ""
            },
            "type": "choropleth"
           }
          ],
          "contour": [
           {
            "colorbar": {
             "outlinewidth": 0,
             "ticks": ""
            },
            "colorscale": [
             [
              0,
              "#0d0887"
             ],
             [
              0.1111111111111111,
              "#46039f"
             ],
             [
              0.2222222222222222,
              "#7201a8"
             ],
             [
              0.3333333333333333,
              "#9c179e"
             ],
             [
              0.4444444444444444,
              "#bd3786"
             ],
             [
              0.5555555555555556,
              "#d8576b"
             ],
             [
              0.6666666666666666,
              "#ed7953"
             ],
             [
              0.7777777777777778,
              "#fb9f3a"
             ],
             [
              0.8888888888888888,
              "#fdca26"
             ],
             [
              1,
              "#f0f921"
             ]
            ],
            "type": "contour"
           }
          ],
          "contourcarpet": [
           {
            "colorbar": {
             "outlinewidth": 0,
             "ticks": ""
            },
            "type": "contourcarpet"
           }
          ],
          "heatmap": [
           {
            "colorbar": {
             "outlinewidth": 0,
             "ticks": ""
            },
            "colorscale": [
             [
              0,
              "#0d0887"
             ],
             [
              0.1111111111111111,
              "#46039f"
             ],
             [
              0.2222222222222222,
              "#7201a8"
             ],
             [
              0.3333333333333333,
              "#9c179e"
             ],
             [
              0.4444444444444444,
              "#bd3786"
             ],
             [
              0.5555555555555556,
              "#d8576b"
             ],
             [
              0.6666666666666666,
              "#ed7953"
             ],
             [
              0.7777777777777778,
              "#fb9f3a"
             ],
             [
              0.8888888888888888,
              "#fdca26"
             ],
             [
              1,
              "#f0f921"
             ]
            ],
            "type": "heatmap"
           }
          ],
          "heatmapgl": [
           {
            "colorbar": {
             "outlinewidth": 0,
             "ticks": ""
            },
            "colorscale": [
             [
              0,
              "#0d0887"
             ],
             [
              0.1111111111111111,
              "#46039f"
             ],
             [
              0.2222222222222222,
              "#7201a8"
             ],
             [
              0.3333333333333333,
              "#9c179e"
             ],
             [
              0.4444444444444444,
              "#bd3786"
             ],
             [
              0.5555555555555556,
              "#d8576b"
             ],
             [
              0.6666666666666666,
              "#ed7953"
             ],
             [
              0.7777777777777778,
              "#fb9f3a"
             ],
             [
              0.8888888888888888,
              "#fdca26"
             ],
             [
              1,
              "#f0f921"
             ]
            ],
            "type": "heatmapgl"
           }
          ],
          "histogram": [
           {
            "marker": {
             "pattern": {
              "fillmode": "overlay",
              "size": 10,
              "solidity": 0.2
             }
            },
            "type": "histogram"
           }
          ],
          "histogram2d": [
           {
            "colorbar": {
             "outlinewidth": 0,
             "ticks": ""
            },
            "colorscale": [
             [
              0,
              "#0d0887"
             ],
             [
              0.1111111111111111,
              "#46039f"
             ],
             [
              0.2222222222222222,
              "#7201a8"
             ],
             [
              0.3333333333333333,
              "#9c179e"
             ],
             [
              0.4444444444444444,
              "#bd3786"
             ],
             [
              0.5555555555555556,
              "#d8576b"
             ],
             [
              0.6666666666666666,
              "#ed7953"
             ],
             [
              0.7777777777777778,
              "#fb9f3a"
             ],
             [
              0.8888888888888888,
              "#fdca26"
             ],
             [
              1,
              "#f0f921"
             ]
            ],
            "type": "histogram2d"
           }
          ],
          "histogram2dcontour": [
           {
            "colorbar": {
             "outlinewidth": 0,
             "ticks": ""
            },
            "colorscale": [
             [
              0,
              "#0d0887"
             ],
             [
              0.1111111111111111,
              "#46039f"
             ],
             [
              0.2222222222222222,
              "#7201a8"
             ],
             [
              0.3333333333333333,
              "#9c179e"
             ],
             [
              0.4444444444444444,
              "#bd3786"
             ],
             [
              0.5555555555555556,
              "#d8576b"
             ],
             [
              0.6666666666666666,
              "#ed7953"
             ],
             [
              0.7777777777777778,
              "#fb9f3a"
             ],
             [
              0.8888888888888888,
              "#fdca26"
             ],
             [
              1,
              "#f0f921"
             ]
            ],
            "type": "histogram2dcontour"
           }
          ],
          "mesh3d": [
           {
            "colorbar": {
             "outlinewidth": 0,
             "ticks": ""
            },
            "type": "mesh3d"
           }
          ],
          "parcoords": [
           {
            "line": {
             "colorbar": {
              "outlinewidth": 0,
              "ticks": ""
             }
            },
            "type": "parcoords"
           }
          ],
          "pie": [
           {
            "automargin": true,
            "type": "pie"
           }
          ],
          "scatter": [
           {
            "fillpattern": {
             "fillmode": "overlay",
             "size": 10,
             "solidity": 0.2
            },
            "type": "scatter"
           }
          ],
          "scatter3d": [
           {
            "line": {
             "colorbar": {
              "outlinewidth": 0,
              "ticks": ""
             }
            },
            "marker": {
             "colorbar": {
              "outlinewidth": 0,
              "ticks": ""
             }
            },
            "type": "scatter3d"
           }
          ],
          "scattercarpet": [
           {
            "marker": {
             "colorbar": {
              "outlinewidth": 0,
              "ticks": ""
             }
            },
            "type": "scattercarpet"
           }
          ],
          "scattergeo": [
           {
            "marker": {
             "colorbar": {
              "outlinewidth": 0,
              "ticks": ""
             }
            },
            "type": "scattergeo"
           }
          ],
          "scattergl": [
           {
            "marker": {
             "colorbar": {
              "outlinewidth": 0,
              "ticks": ""
             }
            },
            "type": "scattergl"
           }
          ],
          "scattermapbox": [
           {
            "marker": {
             "colorbar": {
              "outlinewidth": 0,
              "ticks": ""
             }
            },
            "type": "scattermapbox"
           }
          ],
          "scatterpolar": [
           {
            "marker": {
             "colorbar": {
              "outlinewidth": 0,
              "ticks": ""
             }
            },
            "type": "scatterpolar"
           }
          ],
          "scatterpolargl": [
           {
            "marker": {
             "colorbar": {
              "outlinewidth": 0,
              "ticks": ""
             }
            },
            "type": "scatterpolargl"
           }
          ],
          "scatterternary": [
           {
            "marker": {
             "colorbar": {
              "outlinewidth": 0,
              "ticks": ""
             }
            },
            "type": "scatterternary"
           }
          ],
          "surface": [
           {
            "colorbar": {
             "outlinewidth": 0,
             "ticks": ""
            },
            "colorscale": [
             [
              0,
              "#0d0887"
             ],
             [
              0.1111111111111111,
              "#46039f"
             ],
             [
              0.2222222222222222,
              "#7201a8"
             ],
             [
              0.3333333333333333,
              "#9c179e"
             ],
             [
              0.4444444444444444,
              "#bd3786"
             ],
             [
              0.5555555555555556,
              "#d8576b"
             ],
             [
              0.6666666666666666,
              "#ed7953"
             ],
             [
              0.7777777777777778,
              "#fb9f3a"
             ],
             [
              0.8888888888888888,
              "#fdca26"
             ],
             [
              1,
              "#f0f921"
             ]
            ],
            "type": "surface"
           }
          ],
          "table": [
           {
            "cells": {
             "fill": {
              "color": "#EBF0F8"
             },
             "line": {
              "color": "white"
             }
            },
            "header": {
             "fill": {
              "color": "#C8D4E3"
             },
             "line": {
              "color": "white"
             }
            },
            "type": "table"
           }
          ]
         },
         "layout": {
          "annotationdefaults": {
           "arrowcolor": "#2a3f5f",
           "arrowhead": 0,
           "arrowwidth": 1
          },
          "autotypenumbers": "strict",
          "coloraxis": {
           "colorbar": {
            "outlinewidth": 0,
            "ticks": ""
           }
          },
          "colorscale": {
           "diverging": [
            [
             0,
             "#8e0152"
            ],
            [
             0.1,
             "#c51b7d"
            ],
            [
             0.2,
             "#de77ae"
            ],
            [
             0.3,
             "#f1b6da"
            ],
            [
             0.4,
             "#fde0ef"
            ],
            [
             0.5,
             "#f7f7f7"
            ],
            [
             0.6,
             "#e6f5d0"
            ],
            [
             0.7,
             "#b8e186"
            ],
            [
             0.8,
             "#7fbc41"
            ],
            [
             0.9,
             "#4d9221"
            ],
            [
             1,
             "#276419"
            ]
           ],
           "sequential": [
            [
             0,
             "#0d0887"
            ],
            [
             0.1111111111111111,
             "#46039f"
            ],
            [
             0.2222222222222222,
             "#7201a8"
            ],
            [
             0.3333333333333333,
             "#9c179e"
            ],
            [
             0.4444444444444444,
             "#bd3786"
            ],
            [
             0.5555555555555556,
             "#d8576b"
            ],
            [
             0.6666666666666666,
             "#ed7953"
            ],
            [
             0.7777777777777778,
             "#fb9f3a"
            ],
            [
             0.8888888888888888,
             "#fdca26"
            ],
            [
             1,
             "#f0f921"
            ]
           ],
           "sequentialminus": [
            [
             0,
             "#0d0887"
            ],
            [
             0.1111111111111111,
             "#46039f"
            ],
            [
             0.2222222222222222,
             "#7201a8"
            ],
            [
             0.3333333333333333,
             "#9c179e"
            ],
            [
             0.4444444444444444,
             "#bd3786"
            ],
            [
             0.5555555555555556,
             "#d8576b"
            ],
            [
             0.6666666666666666,
             "#ed7953"
            ],
            [
             0.7777777777777778,
             "#fb9f3a"
            ],
            [
             0.8888888888888888,
             "#fdca26"
            ],
            [
             1,
             "#f0f921"
            ]
           ]
          },
          "colorway": [
           "#636efa",
           "#EF553B",
           "#00cc96",
           "#ab63fa",
           "#FFA15A",
           "#19d3f3",
           "#FF6692",
           "#B6E880",
           "#FF97FF",
           "#FECB52"
          ],
          "font": {
           "color": "#2a3f5f"
          },
          "geo": {
           "bgcolor": "white",
           "lakecolor": "white",
           "landcolor": "#E5ECF6",
           "showlakes": true,
           "showland": true,
           "subunitcolor": "white"
          },
          "hoverlabel": {
           "align": "left"
          },
          "hovermode": "closest",
          "mapbox": {
           "style": "light"
          },
          "paper_bgcolor": "white",
          "plot_bgcolor": "#E5ECF6",
          "polar": {
           "angularaxis": {
            "gridcolor": "white",
            "linecolor": "white",
            "ticks": ""
           },
           "bgcolor": "#E5ECF6",
           "radialaxis": {
            "gridcolor": "white",
            "linecolor": "white",
            "ticks": ""
           }
          },
          "scene": {
           "xaxis": {
            "backgroundcolor": "#E5ECF6",
            "gridcolor": "white",
            "gridwidth": 2,
            "linecolor": "white",
            "showbackground": true,
            "ticks": "",
            "zerolinecolor": "white"
           },
           "yaxis": {
            "backgroundcolor": "#E5ECF6",
            "gridcolor": "white",
            "gridwidth": 2,
            "linecolor": "white",
            "showbackground": true,
            "ticks": "",
            "zerolinecolor": "white"
           },
           "zaxis": {
            "backgroundcolor": "#E5ECF6",
            "gridcolor": "white",
            "gridwidth": 2,
            "linecolor": "white",
            "showbackground": true,
            "ticks": "",
            "zerolinecolor": "white"
           }
          },
          "shapedefaults": {
           "line": {
            "color": "#2a3f5f"
           }
          },
          "ternary": {
           "aaxis": {
            "gridcolor": "white",
            "linecolor": "white",
            "ticks": ""
           },
           "baxis": {
            "gridcolor": "white",
            "linecolor": "white",
            "ticks": ""
           },
           "bgcolor": "#E5ECF6",
           "caxis": {
            "gridcolor": "white",
            "linecolor": "white",
            "ticks": ""
           }
          },
          "title": {
           "x": 0.05
          },
          "xaxis": {
           "automargin": true,
           "gridcolor": "white",
           "linecolor": "white",
           "ticks": "",
           "title": {
            "standoff": 15
           },
           "zerolinecolor": "white",
           "zerolinewidth": 2
          },
          "yaxis": {
           "automargin": true,
           "gridcolor": "white",
           "linecolor": "white",
           "ticks": "",
           "title": {
            "standoff": 15
           },
           "zerolinecolor": "white",
           "zerolinewidth": 2
          }
         }
        },
        "title": {
         "text": "Features & Citology Correlations",
         "x": 0.5
        },
        "width": 900,
        "xaxis": {
         "anchor": "y",
         "domain": [
          0,
          1
         ],
         "title": {
          "text": "Correlation"
         }
        },
        "yaxis": {
         "anchor": "x",
         "domain": [
          0,
          1
         ],
         "title": {
          "text": "Features"
         }
        }
       }
      }
     },
     "metadata": {},
     "output_type": "display_data"
    },
    {
     "data": {
      "application/vnd.plotly.v1+json": {
       "config": {
        "plotlyServerURL": "https://plot.ly"
       },
       "data": [
        {
         "alignmentgroup": "True",
         "hovertemplate": "Correlation=%{x}<br>Features=%{y}<extra></extra>",
         "legendgroup": "",
         "marker": {
          "color": "#636efa",
          "pattern": {
           "shape": ""
          }
         },
         "name": "",
         "offsetgroup": "",
         "orientation": "h",
         "showlegend": false,
         "textposition": "auto",
         "type": "bar",
         "x": [
          0.0026771486223456328,
          0.009481882636351753,
          0.010423316310923005,
          0.010423316310923022,
          0.010423316310923046,
          0.011488446692758794,
          0.014751396368544915,
          0.020891706474732062,
          0.03154921956054808,
          0.03683354944373275,
          0.039369890155014686,
          0.04754421015708695,
          0.05742699716909073,
          0.06259867524061943,
          0.06300820102030921,
          0.07894248007145165,
          0.10213868492644,
          0.10397599937938684,
          0.10699297453932392,
          0.10962167565925819,
          0.11042992167149474,
          0.11159178442874756,
          0.11975049752626755,
          0.12063485292396649,
          0.13784304019343072,
          0.16751637144814863,
          0.1748037268124837,
          0.1826855867085685
         ],
         "xaxis": "x",
         "y": [
          "Number of sexual partners",
          "Hormonal Contraceptives",
          "STDs:pelvic inflammatory disease",
          "STDs:molluscum contagiosum",
          "STDs:Hepatitis B",
          "First sexual intercourse",
          "STDs:HPV",
          "STDs:vaginal condylomatosis",
          "Smokes (packs/year)",
          "IUD (years)",
          "STDs:syphilis",
          "Smokes",
          "Num of pregnancies",
          "IUD",
          "Age",
          "Smokes (years)",
          "STDs: Number of diagnosis",
          "STDs:condylomatosis",
          "STDs:vulvo-perineal condylomatosis",
          "Dx:CIN",
          "Hormonal Contraceptives (years)",
          "STDs (number)",
          "STDs",
          "STDs:HIV",
          "STDs:genital herpes",
          "Dx",
          "Dx:Cancer",
          "Dx:HPV"
         ],
         "yaxis": "y"
        }
       ],
       "layout": {
        "barmode": "relative",
        "height": 700,
        "legend": {
         "tracegroupgap": 0
        },
        "template": {
         "data": {
          "bar": [
           {
            "error_x": {
             "color": "#2a3f5f"
            },
            "error_y": {
             "color": "#2a3f5f"
            },
            "marker": {
             "line": {
              "color": "#E5ECF6",
              "width": 0.5
             },
             "pattern": {
              "fillmode": "overlay",
              "size": 10,
              "solidity": 0.2
             }
            },
            "type": "bar"
           }
          ],
          "barpolar": [
           {
            "marker": {
             "line": {
              "color": "#E5ECF6",
              "width": 0.5
             },
             "pattern": {
              "fillmode": "overlay",
              "size": 10,
              "solidity": 0.2
             }
            },
            "type": "barpolar"
           }
          ],
          "carpet": [
           {
            "aaxis": {
             "endlinecolor": "#2a3f5f",
             "gridcolor": "white",
             "linecolor": "white",
             "minorgridcolor": "white",
             "startlinecolor": "#2a3f5f"
            },
            "baxis": {
             "endlinecolor": "#2a3f5f",
             "gridcolor": "white",
             "linecolor": "white",
             "minorgridcolor": "white",
             "startlinecolor": "#2a3f5f"
            },
            "type": "carpet"
           }
          ],
          "choropleth": [
           {
            "colorbar": {
             "outlinewidth": 0,
             "ticks": ""
            },
            "type": "choropleth"
           }
          ],
          "contour": [
           {
            "colorbar": {
             "outlinewidth": 0,
             "ticks": ""
            },
            "colorscale": [
             [
              0,
              "#0d0887"
             ],
             [
              0.1111111111111111,
              "#46039f"
             ],
             [
              0.2222222222222222,
              "#7201a8"
             ],
             [
              0.3333333333333333,
              "#9c179e"
             ],
             [
              0.4444444444444444,
              "#bd3786"
             ],
             [
              0.5555555555555556,
              "#d8576b"
             ],
             [
              0.6666666666666666,
              "#ed7953"
             ],
             [
              0.7777777777777778,
              "#fb9f3a"
             ],
             [
              0.8888888888888888,
              "#fdca26"
             ],
             [
              1,
              "#f0f921"
             ]
            ],
            "type": "contour"
           }
          ],
          "contourcarpet": [
           {
            "colorbar": {
             "outlinewidth": 0,
             "ticks": ""
            },
            "type": "contourcarpet"
           }
          ],
          "heatmap": [
           {
            "colorbar": {
             "outlinewidth": 0,
             "ticks": ""
            },
            "colorscale": [
             [
              0,
              "#0d0887"
             ],
             [
              0.1111111111111111,
              "#46039f"
             ],
             [
              0.2222222222222222,
              "#7201a8"
             ],
             [
              0.3333333333333333,
              "#9c179e"
             ],
             [
              0.4444444444444444,
              "#bd3786"
             ],
             [
              0.5555555555555556,
              "#d8576b"
             ],
             [
              0.6666666666666666,
              "#ed7953"
             ],
             [
              0.7777777777777778,
              "#fb9f3a"
             ],
             [
              0.8888888888888888,
              "#fdca26"
             ],
             [
              1,
              "#f0f921"
             ]
            ],
            "type": "heatmap"
           }
          ],
          "heatmapgl": [
           {
            "colorbar": {
             "outlinewidth": 0,
             "ticks": ""
            },
            "colorscale": [
             [
              0,
              "#0d0887"
             ],
             [
              0.1111111111111111,
              "#46039f"
             ],
             [
              0.2222222222222222,
              "#7201a8"
             ],
             [
              0.3333333333333333,
              "#9c179e"
             ],
             [
              0.4444444444444444,
              "#bd3786"
             ],
             [
              0.5555555555555556,
              "#d8576b"
             ],
             [
              0.6666666666666666,
              "#ed7953"
             ],
             [
              0.7777777777777778,
              "#fb9f3a"
             ],
             [
              0.8888888888888888,
              "#fdca26"
             ],
             [
              1,
              "#f0f921"
             ]
            ],
            "type": "heatmapgl"
           }
          ],
          "histogram": [
           {
            "marker": {
             "pattern": {
              "fillmode": "overlay",
              "size": 10,
              "solidity": 0.2
             }
            },
            "type": "histogram"
           }
          ],
          "histogram2d": [
           {
            "colorbar": {
             "outlinewidth": 0,
             "ticks": ""
            },
            "colorscale": [
             [
              0,
              "#0d0887"
             ],
             [
              0.1111111111111111,
              "#46039f"
             ],
             [
              0.2222222222222222,
              "#7201a8"
             ],
             [
              0.3333333333333333,
              "#9c179e"
             ],
             [
              0.4444444444444444,
              "#bd3786"
             ],
             [
              0.5555555555555556,
              "#d8576b"
             ],
             [
              0.6666666666666666,
              "#ed7953"
             ],
             [
              0.7777777777777778,
              "#fb9f3a"
             ],
             [
              0.8888888888888888,
              "#fdca26"
             ],
             [
              1,
              "#f0f921"
             ]
            ],
            "type": "histogram2d"
           }
          ],
          "histogram2dcontour": [
           {
            "colorbar": {
             "outlinewidth": 0,
             "ticks": ""
            },
            "colorscale": [
             [
              0,
              "#0d0887"
             ],
             [
              0.1111111111111111,
              "#46039f"
             ],
             [
              0.2222222222222222,
              "#7201a8"
             ],
             [
              0.3333333333333333,
              "#9c179e"
             ],
             [
              0.4444444444444444,
              "#bd3786"
             ],
             [
              0.5555555555555556,
              "#d8576b"
             ],
             [
              0.6666666666666666,
              "#ed7953"
             ],
             [
              0.7777777777777778,
              "#fb9f3a"
             ],
             [
              0.8888888888888888,
              "#fdca26"
             ],
             [
              1,
              "#f0f921"
             ]
            ],
            "type": "histogram2dcontour"
           }
          ],
          "mesh3d": [
           {
            "colorbar": {
             "outlinewidth": 0,
             "ticks": ""
            },
            "type": "mesh3d"
           }
          ],
          "parcoords": [
           {
            "line": {
             "colorbar": {
              "outlinewidth": 0,
              "ticks": ""
             }
            },
            "type": "parcoords"
           }
          ],
          "pie": [
           {
            "automargin": true,
            "type": "pie"
           }
          ],
          "scatter": [
           {
            "fillpattern": {
             "fillmode": "overlay",
             "size": 10,
             "solidity": 0.2
            },
            "type": "scatter"
           }
          ],
          "scatter3d": [
           {
            "line": {
             "colorbar": {
              "outlinewidth": 0,
              "ticks": ""
             }
            },
            "marker": {
             "colorbar": {
              "outlinewidth": 0,
              "ticks": ""
             }
            },
            "type": "scatter3d"
           }
          ],
          "scattercarpet": [
           {
            "marker": {
             "colorbar": {
              "outlinewidth": 0,
              "ticks": ""
             }
            },
            "type": "scattercarpet"
           }
          ],
          "scattergeo": [
           {
            "marker": {
             "colorbar": {
              "outlinewidth": 0,
              "ticks": ""
             }
            },
            "type": "scattergeo"
           }
          ],
          "scattergl": [
           {
            "marker": {
             "colorbar": {
              "outlinewidth": 0,
              "ticks": ""
             }
            },
            "type": "scattergl"
           }
          ],
          "scattermapbox": [
           {
            "marker": {
             "colorbar": {
              "outlinewidth": 0,
              "ticks": ""
             }
            },
            "type": "scattermapbox"
           }
          ],
          "scatterpolar": [
           {
            "marker": {
             "colorbar": {
              "outlinewidth": 0,
              "ticks": ""
             }
            },
            "type": "scatterpolar"
           }
          ],
          "scatterpolargl": [
           {
            "marker": {
             "colorbar": {
              "outlinewidth": 0,
              "ticks": ""
             }
            },
            "type": "scatterpolargl"
           }
          ],
          "scatterternary": [
           {
            "marker": {
             "colorbar": {
              "outlinewidth": 0,
              "ticks": ""
             }
            },
            "type": "scatterternary"
           }
          ],
          "surface": [
           {
            "colorbar": {
             "outlinewidth": 0,
             "ticks": ""
            },
            "colorscale": [
             [
              0,
              "#0d0887"
             ],
             [
              0.1111111111111111,
              "#46039f"
             ],
             [
              0.2222222222222222,
              "#7201a8"
             ],
             [
              0.3333333333333333,
              "#9c179e"
             ],
             [
              0.4444444444444444,
              "#bd3786"
             ],
             [
              0.5555555555555556,
              "#d8576b"
             ],
             [
              0.6666666666666666,
              "#ed7953"
             ],
             [
              0.7777777777777778,
              "#fb9f3a"
             ],
             [
              0.8888888888888888,
              "#fdca26"
             ],
             [
              1,
              "#f0f921"
             ]
            ],
            "type": "surface"
           }
          ],
          "table": [
           {
            "cells": {
             "fill": {
              "color": "#EBF0F8"
             },
             "line": {
              "color": "white"
             }
            },
            "header": {
             "fill": {
              "color": "#C8D4E3"
             },
             "line": {
              "color": "white"
             }
            },
            "type": "table"
           }
          ]
         },
         "layout": {
          "annotationdefaults": {
           "arrowcolor": "#2a3f5f",
           "arrowhead": 0,
           "arrowwidth": 1
          },
          "autotypenumbers": "strict",
          "coloraxis": {
           "colorbar": {
            "outlinewidth": 0,
            "ticks": ""
           }
          },
          "colorscale": {
           "diverging": [
            [
             0,
             "#8e0152"
            ],
            [
             0.1,
             "#c51b7d"
            ],
            [
             0.2,
             "#de77ae"
            ],
            [
             0.3,
             "#f1b6da"
            ],
            [
             0.4,
             "#fde0ef"
            ],
            [
             0.5,
             "#f7f7f7"
            ],
            [
             0.6,
             "#e6f5d0"
            ],
            [
             0.7,
             "#b8e186"
            ],
            [
             0.8,
             "#7fbc41"
            ],
            [
             0.9,
             "#4d9221"
            ],
            [
             1,
             "#276419"
            ]
           ],
           "sequential": [
            [
             0,
             "#0d0887"
            ],
            [
             0.1111111111111111,
             "#46039f"
            ],
            [
             0.2222222222222222,
             "#7201a8"
            ],
            [
             0.3333333333333333,
             "#9c179e"
            ],
            [
             0.4444444444444444,
             "#bd3786"
            ],
            [
             0.5555555555555556,
             "#d8576b"
            ],
            [
             0.6666666666666666,
             "#ed7953"
            ],
            [
             0.7777777777777778,
             "#fb9f3a"
            ],
            [
             0.8888888888888888,
             "#fdca26"
            ],
            [
             1,
             "#f0f921"
            ]
           ],
           "sequentialminus": [
            [
             0,
             "#0d0887"
            ],
            [
             0.1111111111111111,
             "#46039f"
            ],
            [
             0.2222222222222222,
             "#7201a8"
            ],
            [
             0.3333333333333333,
             "#9c179e"
            ],
            [
             0.4444444444444444,
             "#bd3786"
            ],
            [
             0.5555555555555556,
             "#d8576b"
            ],
            [
             0.6666666666666666,
             "#ed7953"
            ],
            [
             0.7777777777777778,
             "#fb9f3a"
            ],
            [
             0.8888888888888888,
             "#fdca26"
            ],
            [
             1,
             "#f0f921"
            ]
           ]
          },
          "colorway": [
           "#636efa",
           "#EF553B",
           "#00cc96",
           "#ab63fa",
           "#FFA15A",
           "#19d3f3",
           "#FF6692",
           "#B6E880",
           "#FF97FF",
           "#FECB52"
          ],
          "font": {
           "color": "#2a3f5f"
          },
          "geo": {
           "bgcolor": "white",
           "lakecolor": "white",
           "landcolor": "#E5ECF6",
           "showlakes": true,
           "showland": true,
           "subunitcolor": "white"
          },
          "hoverlabel": {
           "align": "left"
          },
          "hovermode": "closest",
          "mapbox": {
           "style": "light"
          },
          "paper_bgcolor": "white",
          "plot_bgcolor": "#E5ECF6",
          "polar": {
           "angularaxis": {
            "gridcolor": "white",
            "linecolor": "white",
            "ticks": ""
           },
           "bgcolor": "#E5ECF6",
           "radialaxis": {
            "gridcolor": "white",
            "linecolor": "white",
            "ticks": ""
           }
          },
          "scene": {
           "xaxis": {
            "backgroundcolor": "#E5ECF6",
            "gridcolor": "white",
            "gridwidth": 2,
            "linecolor": "white",
            "showbackground": true,
            "ticks": "",
            "zerolinecolor": "white"
           },
           "yaxis": {
            "backgroundcolor": "#E5ECF6",
            "gridcolor": "white",
            "gridwidth": 2,
            "linecolor": "white",
            "showbackground": true,
            "ticks": "",
            "zerolinecolor": "white"
           },
           "zaxis": {
            "backgroundcolor": "#E5ECF6",
            "gridcolor": "white",
            "gridwidth": 2,
            "linecolor": "white",
            "showbackground": true,
            "ticks": "",
            "zerolinecolor": "white"
           }
          },
          "shapedefaults": {
           "line": {
            "color": "#2a3f5f"
           }
          },
          "ternary": {
           "aaxis": {
            "gridcolor": "white",
            "linecolor": "white",
            "ticks": ""
           },
           "baxis": {
            "gridcolor": "white",
            "linecolor": "white",
            "ticks": ""
           },
           "bgcolor": "#E5ECF6",
           "caxis": {
            "gridcolor": "white",
            "linecolor": "white",
            "ticks": ""
           }
          },
          "title": {
           "x": 0.05
          },
          "xaxis": {
           "automargin": true,
           "gridcolor": "white",
           "linecolor": "white",
           "ticks": "",
           "title": {
            "standoff": 15
           },
           "zerolinecolor": "white",
           "zerolinewidth": 2
          },
          "yaxis": {
           "automargin": true,
           "gridcolor": "white",
           "linecolor": "white",
           "ticks": "",
           "title": {
            "standoff": 15
           },
           "zerolinecolor": "white",
           "zerolinewidth": 2
          }
         }
        },
        "title": {
         "text": "Features & Biopsy Correlations",
         "x": 0.5
        },
        "width": 900,
        "xaxis": {
         "anchor": "y",
         "domain": [
          0,
          1
         ],
         "title": {
          "text": "Correlation"
         }
        },
        "yaxis": {
         "anchor": "x",
         "domain": [
          0,
          1
         ],
         "title": {
          "text": "Features"
         }
        }
       }
      }
     },
     "metadata": {},
     "output_type": "display_data"
    }
   ],
   "source": [
    "def find_corr(target, col):\n",
    "    return risk_factor_df[target].corr(risk_factor_df[col])\n",
    "\n",
    "# Create dictionaries\n",
    "target_variables = [\"Hinselmann\", \"Schiller\", \"Citology\", \"Biopsy\"]\n",
    "correlations = {target: {} for target in target_variables}\n",
    "\n",
    "# Calculate correlations\n",
    "for target in target_variables:\n",
    "    target_corr = risk_factor_df.iloc[:, :-4].corrwith(risk_factor_df[target])\n",
    "    correlations[target] = dict(target_corr.abs().sort_values())\n",
    "    \n",
    "# Plot graphs\n",
    "for target in correlations:\n",
    "    target_df = pd.DataFrame.from_dict(correlations[target], orient=\"index\", columns=[\"Correlation\"])\n",
    "\n",
    "    target_fig = px.bar(target_df, x=\"Correlation\",\n",
    "        orientation='h',\n",
    "        title=\"Features & {} Correlations\".format(target),\n",
    "        labels={\n",
    "            \"index\": \"Features\"\n",
    "        },\n",
    "        width=900, height=700)\n",
    "    \n",
    "    target_fig.update_layout(\n",
    "        title_x=0.5    \n",
    "    )\n",
    "    \n",
    "    target_fig.show()"
   ]
  },
  {
   "cell_type": "markdown",
   "metadata": {},
   "source": [
    "# Data pre-processing steps\n",
    "---\n",
    "Up to this point the dataset has 32 cols, 697 rows.\n",
    "\n",
    "- Re-encoded missing values from \"?\" to \"NaN\"\n",
    "- Imputed missing data in columns with median\n",
    "- Dropped zero variance and redundant feature\n",
    "\n",
    "- Assigned target to its own dataframe and split data into train/test set"
   ]
  },
  {
   "cell_type": "markdown",
   "metadata": {},
   "source": [
    "### Data Cleaning\n",
    "\n",
    "Sections related above:\n",
    "- Droped columns \"STDs: Time since first diagnosis\", \"STDs: Time since last diagnosis\". more than 92% are NaN values. **36 columns -> 34 columns**\n",
    "- Droped rows has more than 10 values are missing. **858 rows -> 753 rows**\n",
    "- If the column contained binary values then the row containing the missing value was deleted. Otherwise, the missing value was replaced with the mean of the column. **753 rows -> 726 rows**\n",
    "- 18 Duplicated Rows are removed. **726 rows -> 708 rows**\n",
    "- Droped \"STDs:cervical condylomatosis\", \"STDs:AIDS\" because have a standard deviation of 0 (Near zero variance). **34 columns -> 32 columns**\n",
    "- Remove outliers. **708 rows -> 697 rows**"
   ]
  },
  {
   "cell_type": "markdown",
   "metadata": {},
   "source": [
    "### Target Variable"
   ]
  },
  {
   "cell_type": "code",
   "execution_count": 88,
   "metadata": {},
   "outputs": [
    {
     "data": {
      "text/plain": [
       "Biopsy\n",
       "0    648\n",
       "1     49\n",
       "Name: count, dtype: int64"
      ]
     },
     "execution_count": 88,
     "metadata": {},
     "output_type": "execute_result"
    }
   ],
   "source": [
    "risk_factor_df[target].value_counts()"
   ]
  },
  {
   "cell_type": "code",
   "execution_count": 89,
   "metadata": {},
   "outputs": [
    {
     "data": {
      "application/vnd.plotly.v1+json": {
       "config": {
        "plotlyServerURL": "https://plot.ly"
       },
       "data": [
        {
         "alignmentgroup": "True",
         "bingroup": "x",
         "histfunc": "sum",
         "hovertemplate": "Result=Healthy<br>Exam=%{x}<br>sum of Occurrences=%{y}<extra></extra>",
         "legendgroup": "Healthy",
         "marker": {
          "color": "#636efa",
          "pattern": {
           "shape": ""
          }
         },
         "name": "Healthy",
         "offsetgroup": "Healthy",
         "orientation": "v",
         "showlegend": true,
         "texttemplate": "%{value}",
         "type": "histogram",
         "x": [
          "Biopsy"
         ],
         "xaxis": "x",
         "y": [
          648
         ],
         "yaxis": "y"
        },
        {
         "alignmentgroup": "True",
         "bingroup": "x",
         "histfunc": "sum",
         "hovertemplate": "Result=Cervical Cancer<br>Exam=%{x}<br>sum of Occurrences=%{y}<extra></extra>",
         "legendgroup": "Cervical Cancer",
         "marker": {
          "color": "#EF553B",
          "pattern": {
           "shape": ""
          }
         },
         "name": "Cervical Cancer",
         "offsetgroup": "Cervical Cancer",
         "orientation": "v",
         "showlegend": true,
         "texttemplate": "%{value}",
         "type": "histogram",
         "x": [
          "Biopsy"
         ],
         "xaxis": "x",
         "y": [
          49
         ],
         "yaxis": "y"
        }
       ],
       "layout": {
        "barmode": "group",
        "legend": {
         "title": {
          "text": "Result"
         },
         "tracegroupgap": 0
        },
        "template": {
         "data": {
          "bar": [
           {
            "error_x": {
             "color": "#2a3f5f"
            },
            "error_y": {
             "color": "#2a3f5f"
            },
            "marker": {
             "line": {
              "color": "#E5ECF6",
              "width": 0.5
             },
             "pattern": {
              "fillmode": "overlay",
              "size": 10,
              "solidity": 0.2
             }
            },
            "type": "bar"
           }
          ],
          "barpolar": [
           {
            "marker": {
             "line": {
              "color": "#E5ECF6",
              "width": 0.5
             },
             "pattern": {
              "fillmode": "overlay",
              "size": 10,
              "solidity": 0.2
             }
            },
            "type": "barpolar"
           }
          ],
          "carpet": [
           {
            "aaxis": {
             "endlinecolor": "#2a3f5f",
             "gridcolor": "white",
             "linecolor": "white",
             "minorgridcolor": "white",
             "startlinecolor": "#2a3f5f"
            },
            "baxis": {
             "endlinecolor": "#2a3f5f",
             "gridcolor": "white",
             "linecolor": "white",
             "minorgridcolor": "white",
             "startlinecolor": "#2a3f5f"
            },
            "type": "carpet"
           }
          ],
          "choropleth": [
           {
            "colorbar": {
             "outlinewidth": 0,
             "ticks": ""
            },
            "type": "choropleth"
           }
          ],
          "contour": [
           {
            "colorbar": {
             "outlinewidth": 0,
             "ticks": ""
            },
            "colorscale": [
             [
              0,
              "#0d0887"
             ],
             [
              0.1111111111111111,
              "#46039f"
             ],
             [
              0.2222222222222222,
              "#7201a8"
             ],
             [
              0.3333333333333333,
              "#9c179e"
             ],
             [
              0.4444444444444444,
              "#bd3786"
             ],
             [
              0.5555555555555556,
              "#d8576b"
             ],
             [
              0.6666666666666666,
              "#ed7953"
             ],
             [
              0.7777777777777778,
              "#fb9f3a"
             ],
             [
              0.8888888888888888,
              "#fdca26"
             ],
             [
              1,
              "#f0f921"
             ]
            ],
            "type": "contour"
           }
          ],
          "contourcarpet": [
           {
            "colorbar": {
             "outlinewidth": 0,
             "ticks": ""
            },
            "type": "contourcarpet"
           }
          ],
          "heatmap": [
           {
            "colorbar": {
             "outlinewidth": 0,
             "ticks": ""
            },
            "colorscale": [
             [
              0,
              "#0d0887"
             ],
             [
              0.1111111111111111,
              "#46039f"
             ],
             [
              0.2222222222222222,
              "#7201a8"
             ],
             [
              0.3333333333333333,
              "#9c179e"
             ],
             [
              0.4444444444444444,
              "#bd3786"
             ],
             [
              0.5555555555555556,
              "#d8576b"
             ],
             [
              0.6666666666666666,
              "#ed7953"
             ],
             [
              0.7777777777777778,
              "#fb9f3a"
             ],
             [
              0.8888888888888888,
              "#fdca26"
             ],
             [
              1,
              "#f0f921"
             ]
            ],
            "type": "heatmap"
           }
          ],
          "heatmapgl": [
           {
            "colorbar": {
             "outlinewidth": 0,
             "ticks": ""
            },
            "colorscale": [
             [
              0,
              "#0d0887"
             ],
             [
              0.1111111111111111,
              "#46039f"
             ],
             [
              0.2222222222222222,
              "#7201a8"
             ],
             [
              0.3333333333333333,
              "#9c179e"
             ],
             [
              0.4444444444444444,
              "#bd3786"
             ],
             [
              0.5555555555555556,
              "#d8576b"
             ],
             [
              0.6666666666666666,
              "#ed7953"
             ],
             [
              0.7777777777777778,
              "#fb9f3a"
             ],
             [
              0.8888888888888888,
              "#fdca26"
             ],
             [
              1,
              "#f0f921"
             ]
            ],
            "type": "heatmapgl"
           }
          ],
          "histogram": [
           {
            "marker": {
             "pattern": {
              "fillmode": "overlay",
              "size": 10,
              "solidity": 0.2
             }
            },
            "type": "histogram"
           }
          ],
          "histogram2d": [
           {
            "colorbar": {
             "outlinewidth": 0,
             "ticks": ""
            },
            "colorscale": [
             [
              0,
              "#0d0887"
             ],
             [
              0.1111111111111111,
              "#46039f"
             ],
             [
              0.2222222222222222,
              "#7201a8"
             ],
             [
              0.3333333333333333,
              "#9c179e"
             ],
             [
              0.4444444444444444,
              "#bd3786"
             ],
             [
              0.5555555555555556,
              "#d8576b"
             ],
             [
              0.6666666666666666,
              "#ed7953"
             ],
             [
              0.7777777777777778,
              "#fb9f3a"
             ],
             [
              0.8888888888888888,
              "#fdca26"
             ],
             [
              1,
              "#f0f921"
             ]
            ],
            "type": "histogram2d"
           }
          ],
          "histogram2dcontour": [
           {
            "colorbar": {
             "outlinewidth": 0,
             "ticks": ""
            },
            "colorscale": [
             [
              0,
              "#0d0887"
             ],
             [
              0.1111111111111111,
              "#46039f"
             ],
             [
              0.2222222222222222,
              "#7201a8"
             ],
             [
              0.3333333333333333,
              "#9c179e"
             ],
             [
              0.4444444444444444,
              "#bd3786"
             ],
             [
              0.5555555555555556,
              "#d8576b"
             ],
             [
              0.6666666666666666,
              "#ed7953"
             ],
             [
              0.7777777777777778,
              "#fb9f3a"
             ],
             [
              0.8888888888888888,
              "#fdca26"
             ],
             [
              1,
              "#f0f921"
             ]
            ],
            "type": "histogram2dcontour"
           }
          ],
          "mesh3d": [
           {
            "colorbar": {
             "outlinewidth": 0,
             "ticks": ""
            },
            "type": "mesh3d"
           }
          ],
          "parcoords": [
           {
            "line": {
             "colorbar": {
              "outlinewidth": 0,
              "ticks": ""
             }
            },
            "type": "parcoords"
           }
          ],
          "pie": [
           {
            "automargin": true,
            "type": "pie"
           }
          ],
          "scatter": [
           {
            "fillpattern": {
             "fillmode": "overlay",
             "size": 10,
             "solidity": 0.2
            },
            "type": "scatter"
           }
          ],
          "scatter3d": [
           {
            "line": {
             "colorbar": {
              "outlinewidth": 0,
              "ticks": ""
             }
            },
            "marker": {
             "colorbar": {
              "outlinewidth": 0,
              "ticks": ""
             }
            },
            "type": "scatter3d"
           }
          ],
          "scattercarpet": [
           {
            "marker": {
             "colorbar": {
              "outlinewidth": 0,
              "ticks": ""
             }
            },
            "type": "scattercarpet"
           }
          ],
          "scattergeo": [
           {
            "marker": {
             "colorbar": {
              "outlinewidth": 0,
              "ticks": ""
             }
            },
            "type": "scattergeo"
           }
          ],
          "scattergl": [
           {
            "marker": {
             "colorbar": {
              "outlinewidth": 0,
              "ticks": ""
             }
            },
            "type": "scattergl"
           }
          ],
          "scattermapbox": [
           {
            "marker": {
             "colorbar": {
              "outlinewidth": 0,
              "ticks": ""
             }
            },
            "type": "scattermapbox"
           }
          ],
          "scatterpolar": [
           {
            "marker": {
             "colorbar": {
              "outlinewidth": 0,
              "ticks": ""
             }
            },
            "type": "scatterpolar"
           }
          ],
          "scatterpolargl": [
           {
            "marker": {
             "colorbar": {
              "outlinewidth": 0,
              "ticks": ""
             }
            },
            "type": "scatterpolargl"
           }
          ],
          "scatterternary": [
           {
            "marker": {
             "colorbar": {
              "outlinewidth": 0,
              "ticks": ""
             }
            },
            "type": "scatterternary"
           }
          ],
          "surface": [
           {
            "colorbar": {
             "outlinewidth": 0,
             "ticks": ""
            },
            "colorscale": [
             [
              0,
              "#0d0887"
             ],
             [
              0.1111111111111111,
              "#46039f"
             ],
             [
              0.2222222222222222,
              "#7201a8"
             ],
             [
              0.3333333333333333,
              "#9c179e"
             ],
             [
              0.4444444444444444,
              "#bd3786"
             ],
             [
              0.5555555555555556,
              "#d8576b"
             ],
             [
              0.6666666666666666,
              "#ed7953"
             ],
             [
              0.7777777777777778,
              "#fb9f3a"
             ],
             [
              0.8888888888888888,
              "#fdca26"
             ],
             [
              1,
              "#f0f921"
             ]
            ],
            "type": "surface"
           }
          ],
          "table": [
           {
            "cells": {
             "fill": {
              "color": "#EBF0F8"
             },
             "line": {
              "color": "white"
             }
            },
            "header": {
             "fill": {
              "color": "#C8D4E3"
             },
             "line": {
              "color": "white"
             }
            },
            "type": "table"
           }
          ]
         },
         "layout": {
          "annotationdefaults": {
           "arrowcolor": "#2a3f5f",
           "arrowhead": 0,
           "arrowwidth": 1
          },
          "autotypenumbers": "strict",
          "coloraxis": {
           "colorbar": {
            "outlinewidth": 0,
            "ticks": ""
           }
          },
          "colorscale": {
           "diverging": [
            [
             0,
             "#8e0152"
            ],
            [
             0.1,
             "#c51b7d"
            ],
            [
             0.2,
             "#de77ae"
            ],
            [
             0.3,
             "#f1b6da"
            ],
            [
             0.4,
             "#fde0ef"
            ],
            [
             0.5,
             "#f7f7f7"
            ],
            [
             0.6,
             "#e6f5d0"
            ],
            [
             0.7,
             "#b8e186"
            ],
            [
             0.8,
             "#7fbc41"
            ],
            [
             0.9,
             "#4d9221"
            ],
            [
             1,
             "#276419"
            ]
           ],
           "sequential": [
            [
             0,
             "#0d0887"
            ],
            [
             0.1111111111111111,
             "#46039f"
            ],
            [
             0.2222222222222222,
             "#7201a8"
            ],
            [
             0.3333333333333333,
             "#9c179e"
            ],
            [
             0.4444444444444444,
             "#bd3786"
            ],
            [
             0.5555555555555556,
             "#d8576b"
            ],
            [
             0.6666666666666666,
             "#ed7953"
            ],
            [
             0.7777777777777778,
             "#fb9f3a"
            ],
            [
             0.8888888888888888,
             "#fdca26"
            ],
            [
             1,
             "#f0f921"
            ]
           ],
           "sequentialminus": [
            [
             0,
             "#0d0887"
            ],
            [
             0.1111111111111111,
             "#46039f"
            ],
            [
             0.2222222222222222,
             "#7201a8"
            ],
            [
             0.3333333333333333,
             "#9c179e"
            ],
            [
             0.4444444444444444,
             "#bd3786"
            ],
            [
             0.5555555555555556,
             "#d8576b"
            ],
            [
             0.6666666666666666,
             "#ed7953"
            ],
            [
             0.7777777777777778,
             "#fb9f3a"
            ],
            [
             0.8888888888888888,
             "#fdca26"
            ],
            [
             1,
             "#f0f921"
            ]
           ]
          },
          "colorway": [
           "#636efa",
           "#EF553B",
           "#00cc96",
           "#ab63fa",
           "#FFA15A",
           "#19d3f3",
           "#FF6692",
           "#B6E880",
           "#FF97FF",
           "#FECB52"
          ],
          "font": {
           "color": "#2a3f5f"
          },
          "geo": {
           "bgcolor": "white",
           "lakecolor": "white",
           "landcolor": "#E5ECF6",
           "showlakes": true,
           "showland": true,
           "subunitcolor": "white"
          },
          "hoverlabel": {
           "align": "left"
          },
          "hovermode": "closest",
          "mapbox": {
           "style": "light"
          },
          "paper_bgcolor": "white",
          "plot_bgcolor": "#E5ECF6",
          "polar": {
           "angularaxis": {
            "gridcolor": "white",
            "linecolor": "white",
            "ticks": ""
           },
           "bgcolor": "#E5ECF6",
           "radialaxis": {
            "gridcolor": "white",
            "linecolor": "white",
            "ticks": ""
           }
          },
          "scene": {
           "xaxis": {
            "backgroundcolor": "#E5ECF6",
            "gridcolor": "white",
            "gridwidth": 2,
            "linecolor": "white",
            "showbackground": true,
            "ticks": "",
            "zerolinecolor": "white"
           },
           "yaxis": {
            "backgroundcolor": "#E5ECF6",
            "gridcolor": "white",
            "gridwidth": 2,
            "linecolor": "white",
            "showbackground": true,
            "ticks": "",
            "zerolinecolor": "white"
           },
           "zaxis": {
            "backgroundcolor": "#E5ECF6",
            "gridcolor": "white",
            "gridwidth": 2,
            "linecolor": "white",
            "showbackground": true,
            "ticks": "",
            "zerolinecolor": "white"
           }
          },
          "shapedefaults": {
           "line": {
            "color": "#2a3f5f"
           }
          },
          "ternary": {
           "aaxis": {
            "gridcolor": "white",
            "linecolor": "white",
            "ticks": ""
           },
           "baxis": {
            "gridcolor": "white",
            "linecolor": "white",
            "ticks": ""
           },
           "bgcolor": "#E5ECF6",
           "caxis": {
            "gridcolor": "white",
            "linecolor": "white",
            "ticks": ""
           }
          },
          "title": {
           "x": 0.05
          },
          "xaxis": {
           "automargin": true,
           "gridcolor": "white",
           "linecolor": "white",
           "ticks": "",
           "title": {
            "standoff": 15
           },
           "zerolinecolor": "white",
           "zerolinewidth": 2
          },
          "yaxis": {
           "automargin": true,
           "gridcolor": "white",
           "linecolor": "white",
           "ticks": "",
           "title": {
            "standoff": 15
           },
           "zerolinecolor": "white",
           "zerolinewidth": 2
          }
         }
        },
        "title": {
         "text": "Target Class Distribution",
         "x": 0.5
        },
        "width": 600,
        "xaxis": {
         "anchor": "y",
         "domain": [
          0,
          1
         ],
         "title": {
          "text": "Exam"
         }
        },
        "yaxis": {
         "anchor": "x",
         "domain": [
          0,
          1
         ],
         "title": {
          "text": "sum of Occurrences"
         }
        }
       }
      }
     },
     "metadata": {},
     "output_type": "display_data"
    }
   ],
   "source": [
    "# Show the distribution of the Target Class\n",
    "classes_df = pd.DataFrame(\n",
    "    [[\"Biopsy\", getCount(\"Biopsy\", 0), getCount(\"Biopsy\", 1)]],\n",
    "    columns =[\"Exam\", \"Healthy\", \"Cervical Cancer\"])\n",
    "\n",
    "\n",
    "target_fig = px.histogram(classes_df, x=\"Exam\", y=[\"Healthy\", \"Cervical Cancer\"],\n",
    "    title=\"Target Class Distribution\",\n",
    "    labels={\n",
    "        \"value\":\"Occurrences\",\n",
    "        \"variable\": \"Result\"\n",
    "    },\n",
    "    barmode=\"group\",\n",
    "    text_auto=True,\n",
    "    width=600)\n",
    "\n",
    "target_fig.update_layout(\n",
    "    title_x=0.5    \n",
    ")\n",
    "\n",
    "target_fig.show()"
   ]
  },
  {
   "cell_type": "markdown",
   "metadata": {},
   "source": [
    "### Split Dataset"
   ]
  },
  {
   "cell_type": "code",
   "execution_count": 90,
   "metadata": {},
   "outputs": [],
   "source": [
    "X = risk_factor_df.drop(columns=target)\n",
    "y = risk_factor_df[target]\n",
    "\n",
    "X_train, X_test, y_train, y_test = train_test_split(X, \n",
    "                                                    y, \n",
    "                                                    test_size=0.33, \n",
    "                                                    random_state=42,\n",
    "                                                    stratify = y, \n",
    "                                                    shuffle=True)"
   ]
  },
  {
   "cell_type": "code",
   "execution_count": 91,
   "metadata": {},
   "outputs": [
    {
     "data": {
      "application/vnd.plotly.v1+json": {
       "config": {
        "plotlyServerURL": "https://plot.ly"
       },
       "data": [
        {
         "domain": {
          "x": [
           0,
           1
          ],
          "y": [
           0,
           1
          ]
         },
         "hovertemplate": "Class=%{label}<br>Count=%{value}<extra></extra>",
         "labels": [
          "Healthy",
          "Cervical Cancer"
         ],
         "legendgroup": "",
         "name": "",
         "showlegend": true,
         "type": "pie",
         "values": [
          433,
          33
         ]
        }
       ],
       "layout": {
        "legend": {
         "tracegroupgap": 0
        },
        "template": {
         "data": {
          "bar": [
           {
            "error_x": {
             "color": "#2a3f5f"
            },
            "error_y": {
             "color": "#2a3f5f"
            },
            "marker": {
             "line": {
              "color": "#E5ECF6",
              "width": 0.5
             },
             "pattern": {
              "fillmode": "overlay",
              "size": 10,
              "solidity": 0.2
             }
            },
            "type": "bar"
           }
          ],
          "barpolar": [
           {
            "marker": {
             "line": {
              "color": "#E5ECF6",
              "width": 0.5
             },
             "pattern": {
              "fillmode": "overlay",
              "size": 10,
              "solidity": 0.2
             }
            },
            "type": "barpolar"
           }
          ],
          "carpet": [
           {
            "aaxis": {
             "endlinecolor": "#2a3f5f",
             "gridcolor": "white",
             "linecolor": "white",
             "minorgridcolor": "white",
             "startlinecolor": "#2a3f5f"
            },
            "baxis": {
             "endlinecolor": "#2a3f5f",
             "gridcolor": "white",
             "linecolor": "white",
             "minorgridcolor": "white",
             "startlinecolor": "#2a3f5f"
            },
            "type": "carpet"
           }
          ],
          "choropleth": [
           {
            "colorbar": {
             "outlinewidth": 0,
             "ticks": ""
            },
            "type": "choropleth"
           }
          ],
          "contour": [
           {
            "colorbar": {
             "outlinewidth": 0,
             "ticks": ""
            },
            "colorscale": [
             [
              0,
              "#0d0887"
             ],
             [
              0.1111111111111111,
              "#46039f"
             ],
             [
              0.2222222222222222,
              "#7201a8"
             ],
             [
              0.3333333333333333,
              "#9c179e"
             ],
             [
              0.4444444444444444,
              "#bd3786"
             ],
             [
              0.5555555555555556,
              "#d8576b"
             ],
             [
              0.6666666666666666,
              "#ed7953"
             ],
             [
              0.7777777777777778,
              "#fb9f3a"
             ],
             [
              0.8888888888888888,
              "#fdca26"
             ],
             [
              1,
              "#f0f921"
             ]
            ],
            "type": "contour"
           }
          ],
          "contourcarpet": [
           {
            "colorbar": {
             "outlinewidth": 0,
             "ticks": ""
            },
            "type": "contourcarpet"
           }
          ],
          "heatmap": [
           {
            "colorbar": {
             "outlinewidth": 0,
             "ticks": ""
            },
            "colorscale": [
             [
              0,
              "#0d0887"
             ],
             [
              0.1111111111111111,
              "#46039f"
             ],
             [
              0.2222222222222222,
              "#7201a8"
             ],
             [
              0.3333333333333333,
              "#9c179e"
             ],
             [
              0.4444444444444444,
              "#bd3786"
             ],
             [
              0.5555555555555556,
              "#d8576b"
             ],
             [
              0.6666666666666666,
              "#ed7953"
             ],
             [
              0.7777777777777778,
              "#fb9f3a"
             ],
             [
              0.8888888888888888,
              "#fdca26"
             ],
             [
              1,
              "#f0f921"
             ]
            ],
            "type": "heatmap"
           }
          ],
          "heatmapgl": [
           {
            "colorbar": {
             "outlinewidth": 0,
             "ticks": ""
            },
            "colorscale": [
             [
              0,
              "#0d0887"
             ],
             [
              0.1111111111111111,
              "#46039f"
             ],
             [
              0.2222222222222222,
              "#7201a8"
             ],
             [
              0.3333333333333333,
              "#9c179e"
             ],
             [
              0.4444444444444444,
              "#bd3786"
             ],
             [
              0.5555555555555556,
              "#d8576b"
             ],
             [
              0.6666666666666666,
              "#ed7953"
             ],
             [
              0.7777777777777778,
              "#fb9f3a"
             ],
             [
              0.8888888888888888,
              "#fdca26"
             ],
             [
              1,
              "#f0f921"
             ]
            ],
            "type": "heatmapgl"
           }
          ],
          "histogram": [
           {
            "marker": {
             "pattern": {
              "fillmode": "overlay",
              "size": 10,
              "solidity": 0.2
             }
            },
            "type": "histogram"
           }
          ],
          "histogram2d": [
           {
            "colorbar": {
             "outlinewidth": 0,
             "ticks": ""
            },
            "colorscale": [
             [
              0,
              "#0d0887"
             ],
             [
              0.1111111111111111,
              "#46039f"
             ],
             [
              0.2222222222222222,
              "#7201a8"
             ],
             [
              0.3333333333333333,
              "#9c179e"
             ],
             [
              0.4444444444444444,
              "#bd3786"
             ],
             [
              0.5555555555555556,
              "#d8576b"
             ],
             [
              0.6666666666666666,
              "#ed7953"
             ],
             [
              0.7777777777777778,
              "#fb9f3a"
             ],
             [
              0.8888888888888888,
              "#fdca26"
             ],
             [
              1,
              "#f0f921"
             ]
            ],
            "type": "histogram2d"
           }
          ],
          "histogram2dcontour": [
           {
            "colorbar": {
             "outlinewidth": 0,
             "ticks": ""
            },
            "colorscale": [
             [
              0,
              "#0d0887"
             ],
             [
              0.1111111111111111,
              "#46039f"
             ],
             [
              0.2222222222222222,
              "#7201a8"
             ],
             [
              0.3333333333333333,
              "#9c179e"
             ],
             [
              0.4444444444444444,
              "#bd3786"
             ],
             [
              0.5555555555555556,
              "#d8576b"
             ],
             [
              0.6666666666666666,
              "#ed7953"
             ],
             [
              0.7777777777777778,
              "#fb9f3a"
             ],
             [
              0.8888888888888888,
              "#fdca26"
             ],
             [
              1,
              "#f0f921"
             ]
            ],
            "type": "histogram2dcontour"
           }
          ],
          "mesh3d": [
           {
            "colorbar": {
             "outlinewidth": 0,
             "ticks": ""
            },
            "type": "mesh3d"
           }
          ],
          "parcoords": [
           {
            "line": {
             "colorbar": {
              "outlinewidth": 0,
              "ticks": ""
             }
            },
            "type": "parcoords"
           }
          ],
          "pie": [
           {
            "automargin": true,
            "type": "pie"
           }
          ],
          "scatter": [
           {
            "fillpattern": {
             "fillmode": "overlay",
             "size": 10,
             "solidity": 0.2
            },
            "type": "scatter"
           }
          ],
          "scatter3d": [
           {
            "line": {
             "colorbar": {
              "outlinewidth": 0,
              "ticks": ""
             }
            },
            "marker": {
             "colorbar": {
              "outlinewidth": 0,
              "ticks": ""
             }
            },
            "type": "scatter3d"
           }
          ],
          "scattercarpet": [
           {
            "marker": {
             "colorbar": {
              "outlinewidth": 0,
              "ticks": ""
             }
            },
            "type": "scattercarpet"
           }
          ],
          "scattergeo": [
           {
            "marker": {
             "colorbar": {
              "outlinewidth": 0,
              "ticks": ""
             }
            },
            "type": "scattergeo"
           }
          ],
          "scattergl": [
           {
            "marker": {
             "colorbar": {
              "outlinewidth": 0,
              "ticks": ""
             }
            },
            "type": "scattergl"
           }
          ],
          "scattermapbox": [
           {
            "marker": {
             "colorbar": {
              "outlinewidth": 0,
              "ticks": ""
             }
            },
            "type": "scattermapbox"
           }
          ],
          "scatterpolar": [
           {
            "marker": {
             "colorbar": {
              "outlinewidth": 0,
              "ticks": ""
             }
            },
            "type": "scatterpolar"
           }
          ],
          "scatterpolargl": [
           {
            "marker": {
             "colorbar": {
              "outlinewidth": 0,
              "ticks": ""
             }
            },
            "type": "scatterpolargl"
           }
          ],
          "scatterternary": [
           {
            "marker": {
             "colorbar": {
              "outlinewidth": 0,
              "ticks": ""
             }
            },
            "type": "scatterternary"
           }
          ],
          "surface": [
           {
            "colorbar": {
             "outlinewidth": 0,
             "ticks": ""
            },
            "colorscale": [
             [
              0,
              "#0d0887"
             ],
             [
              0.1111111111111111,
              "#46039f"
             ],
             [
              0.2222222222222222,
              "#7201a8"
             ],
             [
              0.3333333333333333,
              "#9c179e"
             ],
             [
              0.4444444444444444,
              "#bd3786"
             ],
             [
              0.5555555555555556,
              "#d8576b"
             ],
             [
              0.6666666666666666,
              "#ed7953"
             ],
             [
              0.7777777777777778,
              "#fb9f3a"
             ],
             [
              0.8888888888888888,
              "#fdca26"
             ],
             [
              1,
              "#f0f921"
             ]
            ],
            "type": "surface"
           }
          ],
          "table": [
           {
            "cells": {
             "fill": {
              "color": "#EBF0F8"
             },
             "line": {
              "color": "white"
             }
            },
            "header": {
             "fill": {
              "color": "#C8D4E3"
             },
             "line": {
              "color": "white"
             }
            },
            "type": "table"
           }
          ]
         },
         "layout": {
          "annotationdefaults": {
           "arrowcolor": "#2a3f5f",
           "arrowhead": 0,
           "arrowwidth": 1
          },
          "autotypenumbers": "strict",
          "coloraxis": {
           "colorbar": {
            "outlinewidth": 0,
            "ticks": ""
           }
          },
          "colorscale": {
           "diverging": [
            [
             0,
             "#8e0152"
            ],
            [
             0.1,
             "#c51b7d"
            ],
            [
             0.2,
             "#de77ae"
            ],
            [
             0.3,
             "#f1b6da"
            ],
            [
             0.4,
             "#fde0ef"
            ],
            [
             0.5,
             "#f7f7f7"
            ],
            [
             0.6,
             "#e6f5d0"
            ],
            [
             0.7,
             "#b8e186"
            ],
            [
             0.8,
             "#7fbc41"
            ],
            [
             0.9,
             "#4d9221"
            ],
            [
             1,
             "#276419"
            ]
           ],
           "sequential": [
            [
             0,
             "#0d0887"
            ],
            [
             0.1111111111111111,
             "#46039f"
            ],
            [
             0.2222222222222222,
             "#7201a8"
            ],
            [
             0.3333333333333333,
             "#9c179e"
            ],
            [
             0.4444444444444444,
             "#bd3786"
            ],
            [
             0.5555555555555556,
             "#d8576b"
            ],
            [
             0.6666666666666666,
             "#ed7953"
            ],
            [
             0.7777777777777778,
             "#fb9f3a"
            ],
            [
             0.8888888888888888,
             "#fdca26"
            ],
            [
             1,
             "#f0f921"
            ]
           ],
           "sequentialminus": [
            [
             0,
             "#0d0887"
            ],
            [
             0.1111111111111111,
             "#46039f"
            ],
            [
             0.2222222222222222,
             "#7201a8"
            ],
            [
             0.3333333333333333,
             "#9c179e"
            ],
            [
             0.4444444444444444,
             "#bd3786"
            ],
            [
             0.5555555555555556,
             "#d8576b"
            ],
            [
             0.6666666666666666,
             "#ed7953"
            ],
            [
             0.7777777777777778,
             "#fb9f3a"
            ],
            [
             0.8888888888888888,
             "#fdca26"
            ],
            [
             1,
             "#f0f921"
            ]
           ]
          },
          "colorway": [
           "#636efa",
           "#EF553B",
           "#00cc96",
           "#ab63fa",
           "#FFA15A",
           "#19d3f3",
           "#FF6692",
           "#B6E880",
           "#FF97FF",
           "#FECB52"
          ],
          "font": {
           "color": "#2a3f5f"
          },
          "geo": {
           "bgcolor": "white",
           "lakecolor": "white",
           "landcolor": "#E5ECF6",
           "showlakes": true,
           "showland": true,
           "subunitcolor": "white"
          },
          "hoverlabel": {
           "align": "left"
          },
          "hovermode": "closest",
          "mapbox": {
           "style": "light"
          },
          "paper_bgcolor": "white",
          "plot_bgcolor": "#E5ECF6",
          "polar": {
           "angularaxis": {
            "gridcolor": "white",
            "linecolor": "white",
            "ticks": ""
           },
           "bgcolor": "#E5ECF6",
           "radialaxis": {
            "gridcolor": "white",
            "linecolor": "white",
            "ticks": ""
           }
          },
          "scene": {
           "xaxis": {
            "backgroundcolor": "#E5ECF6",
            "gridcolor": "white",
            "gridwidth": 2,
            "linecolor": "white",
            "showbackground": true,
            "ticks": "",
            "zerolinecolor": "white"
           },
           "yaxis": {
            "backgroundcolor": "#E5ECF6",
            "gridcolor": "white",
            "gridwidth": 2,
            "linecolor": "white",
            "showbackground": true,
            "ticks": "",
            "zerolinecolor": "white"
           },
           "zaxis": {
            "backgroundcolor": "#E5ECF6",
            "gridcolor": "white",
            "gridwidth": 2,
            "linecolor": "white",
            "showbackground": true,
            "ticks": "",
            "zerolinecolor": "white"
           }
          },
          "shapedefaults": {
           "line": {
            "color": "#2a3f5f"
           }
          },
          "ternary": {
           "aaxis": {
            "gridcolor": "white",
            "linecolor": "white",
            "ticks": ""
           },
           "baxis": {
            "gridcolor": "white",
            "linecolor": "white",
            "ticks": ""
           },
           "bgcolor": "#E5ECF6",
           "caxis": {
            "gridcolor": "white",
            "linecolor": "white",
            "ticks": ""
           }
          },
          "title": {
           "x": 0.05
          },
          "xaxis": {
           "automargin": true,
           "gridcolor": "white",
           "linecolor": "white",
           "ticks": "",
           "title": {
            "standoff": 15
           },
           "zerolinecolor": "white",
           "zerolinewidth": 2
          },
          "yaxis": {
           "automargin": true,
           "gridcolor": "white",
           "linecolor": "white",
           "ticks": "",
           "title": {
            "standoff": 15
           },
           "zerolinecolor": "white",
           "zerolinewidth": 2
          }
         }
        },
        "title": {
         "text": "Training Set Target Variable Distribution"
        },
        "width": 700
       }
      }
     },
     "metadata": {},
     "output_type": "display_data"
    },
    {
     "data": {
      "application/vnd.plotly.v1+json": {
       "config": {
        "plotlyServerURL": "https://plot.ly"
       },
       "data": [
        {
         "alignmentgroup": "True",
         "hovertemplate": "Class=%{x}<br>Count=%{y}<extra></extra>",
         "legendgroup": "",
         "marker": {
          "color": "#636efa",
          "pattern": {
           "shape": ""
          }
         },
         "name": "",
         "offsetgroup": "",
         "orientation": "v",
         "showlegend": false,
         "textposition": "auto",
         "type": "bar",
         "x": [
          "Healthy",
          "Cervical Cancer"
         ],
         "xaxis": "x",
         "y": [
          433,
          33
         ],
         "yaxis": "y"
        }
       ],
       "layout": {
        "barmode": "relative",
        "legend": {
         "tracegroupgap": 0
        },
        "template": {
         "data": {
          "bar": [
           {
            "error_x": {
             "color": "#2a3f5f"
            },
            "error_y": {
             "color": "#2a3f5f"
            },
            "marker": {
             "line": {
              "color": "#E5ECF6",
              "width": 0.5
             },
             "pattern": {
              "fillmode": "overlay",
              "size": 10,
              "solidity": 0.2
             }
            },
            "type": "bar"
           }
          ],
          "barpolar": [
           {
            "marker": {
             "line": {
              "color": "#E5ECF6",
              "width": 0.5
             },
             "pattern": {
              "fillmode": "overlay",
              "size": 10,
              "solidity": 0.2
             }
            },
            "type": "barpolar"
           }
          ],
          "carpet": [
           {
            "aaxis": {
             "endlinecolor": "#2a3f5f",
             "gridcolor": "white",
             "linecolor": "white",
             "minorgridcolor": "white",
             "startlinecolor": "#2a3f5f"
            },
            "baxis": {
             "endlinecolor": "#2a3f5f",
             "gridcolor": "white",
             "linecolor": "white",
             "minorgridcolor": "white",
             "startlinecolor": "#2a3f5f"
            },
            "type": "carpet"
           }
          ],
          "choropleth": [
           {
            "colorbar": {
             "outlinewidth": 0,
             "ticks": ""
            },
            "type": "choropleth"
           }
          ],
          "contour": [
           {
            "colorbar": {
             "outlinewidth": 0,
             "ticks": ""
            },
            "colorscale": [
             [
              0,
              "#0d0887"
             ],
             [
              0.1111111111111111,
              "#46039f"
             ],
             [
              0.2222222222222222,
              "#7201a8"
             ],
             [
              0.3333333333333333,
              "#9c179e"
             ],
             [
              0.4444444444444444,
              "#bd3786"
             ],
             [
              0.5555555555555556,
              "#d8576b"
             ],
             [
              0.6666666666666666,
              "#ed7953"
             ],
             [
              0.7777777777777778,
              "#fb9f3a"
             ],
             [
              0.8888888888888888,
              "#fdca26"
             ],
             [
              1,
              "#f0f921"
             ]
            ],
            "type": "contour"
           }
          ],
          "contourcarpet": [
           {
            "colorbar": {
             "outlinewidth": 0,
             "ticks": ""
            },
            "type": "contourcarpet"
           }
          ],
          "heatmap": [
           {
            "colorbar": {
             "outlinewidth": 0,
             "ticks": ""
            },
            "colorscale": [
             [
              0,
              "#0d0887"
             ],
             [
              0.1111111111111111,
              "#46039f"
             ],
             [
              0.2222222222222222,
              "#7201a8"
             ],
             [
              0.3333333333333333,
              "#9c179e"
             ],
             [
              0.4444444444444444,
              "#bd3786"
             ],
             [
              0.5555555555555556,
              "#d8576b"
             ],
             [
              0.6666666666666666,
              "#ed7953"
             ],
             [
              0.7777777777777778,
              "#fb9f3a"
             ],
             [
              0.8888888888888888,
              "#fdca26"
             ],
             [
              1,
              "#f0f921"
             ]
            ],
            "type": "heatmap"
           }
          ],
          "heatmapgl": [
           {
            "colorbar": {
             "outlinewidth": 0,
             "ticks": ""
            },
            "colorscale": [
             [
              0,
              "#0d0887"
             ],
             [
              0.1111111111111111,
              "#46039f"
             ],
             [
              0.2222222222222222,
              "#7201a8"
             ],
             [
              0.3333333333333333,
              "#9c179e"
             ],
             [
              0.4444444444444444,
              "#bd3786"
             ],
             [
              0.5555555555555556,
              "#d8576b"
             ],
             [
              0.6666666666666666,
              "#ed7953"
             ],
             [
              0.7777777777777778,
              "#fb9f3a"
             ],
             [
              0.8888888888888888,
              "#fdca26"
             ],
             [
              1,
              "#f0f921"
             ]
            ],
            "type": "heatmapgl"
           }
          ],
          "histogram": [
           {
            "marker": {
             "pattern": {
              "fillmode": "overlay",
              "size": 10,
              "solidity": 0.2
             }
            },
            "type": "histogram"
           }
          ],
          "histogram2d": [
           {
            "colorbar": {
             "outlinewidth": 0,
             "ticks": ""
            },
            "colorscale": [
             [
              0,
              "#0d0887"
             ],
             [
              0.1111111111111111,
              "#46039f"
             ],
             [
              0.2222222222222222,
              "#7201a8"
             ],
             [
              0.3333333333333333,
              "#9c179e"
             ],
             [
              0.4444444444444444,
              "#bd3786"
             ],
             [
              0.5555555555555556,
              "#d8576b"
             ],
             [
              0.6666666666666666,
              "#ed7953"
             ],
             [
              0.7777777777777778,
              "#fb9f3a"
             ],
             [
              0.8888888888888888,
              "#fdca26"
             ],
             [
              1,
              "#f0f921"
             ]
            ],
            "type": "histogram2d"
           }
          ],
          "histogram2dcontour": [
           {
            "colorbar": {
             "outlinewidth": 0,
             "ticks": ""
            },
            "colorscale": [
             [
              0,
              "#0d0887"
             ],
             [
              0.1111111111111111,
              "#46039f"
             ],
             [
              0.2222222222222222,
              "#7201a8"
             ],
             [
              0.3333333333333333,
              "#9c179e"
             ],
             [
              0.4444444444444444,
              "#bd3786"
             ],
             [
              0.5555555555555556,
              "#d8576b"
             ],
             [
              0.6666666666666666,
              "#ed7953"
             ],
             [
              0.7777777777777778,
              "#fb9f3a"
             ],
             [
              0.8888888888888888,
              "#fdca26"
             ],
             [
              1,
              "#f0f921"
             ]
            ],
            "type": "histogram2dcontour"
           }
          ],
          "mesh3d": [
           {
            "colorbar": {
             "outlinewidth": 0,
             "ticks": ""
            },
            "type": "mesh3d"
           }
          ],
          "parcoords": [
           {
            "line": {
             "colorbar": {
              "outlinewidth": 0,
              "ticks": ""
             }
            },
            "type": "parcoords"
           }
          ],
          "pie": [
           {
            "automargin": true,
            "type": "pie"
           }
          ],
          "scatter": [
           {
            "fillpattern": {
             "fillmode": "overlay",
             "size": 10,
             "solidity": 0.2
            },
            "type": "scatter"
           }
          ],
          "scatter3d": [
           {
            "line": {
             "colorbar": {
              "outlinewidth": 0,
              "ticks": ""
             }
            },
            "marker": {
             "colorbar": {
              "outlinewidth": 0,
              "ticks": ""
             }
            },
            "type": "scatter3d"
           }
          ],
          "scattercarpet": [
           {
            "marker": {
             "colorbar": {
              "outlinewidth": 0,
              "ticks": ""
             }
            },
            "type": "scattercarpet"
           }
          ],
          "scattergeo": [
           {
            "marker": {
             "colorbar": {
              "outlinewidth": 0,
              "ticks": ""
             }
            },
            "type": "scattergeo"
           }
          ],
          "scattergl": [
           {
            "marker": {
             "colorbar": {
              "outlinewidth": 0,
              "ticks": ""
             }
            },
            "type": "scattergl"
           }
          ],
          "scattermapbox": [
           {
            "marker": {
             "colorbar": {
              "outlinewidth": 0,
              "ticks": ""
             }
            },
            "type": "scattermapbox"
           }
          ],
          "scatterpolar": [
           {
            "marker": {
             "colorbar": {
              "outlinewidth": 0,
              "ticks": ""
             }
            },
            "type": "scatterpolar"
           }
          ],
          "scatterpolargl": [
           {
            "marker": {
             "colorbar": {
              "outlinewidth": 0,
              "ticks": ""
             }
            },
            "type": "scatterpolargl"
           }
          ],
          "scatterternary": [
           {
            "marker": {
             "colorbar": {
              "outlinewidth": 0,
              "ticks": ""
             }
            },
            "type": "scatterternary"
           }
          ],
          "surface": [
           {
            "colorbar": {
             "outlinewidth": 0,
             "ticks": ""
            },
            "colorscale": [
             [
              0,
              "#0d0887"
             ],
             [
              0.1111111111111111,
              "#46039f"
             ],
             [
              0.2222222222222222,
              "#7201a8"
             ],
             [
              0.3333333333333333,
              "#9c179e"
             ],
             [
              0.4444444444444444,
              "#bd3786"
             ],
             [
              0.5555555555555556,
              "#d8576b"
             ],
             [
              0.6666666666666666,
              "#ed7953"
             ],
             [
              0.7777777777777778,
              "#fb9f3a"
             ],
             [
              0.8888888888888888,
              "#fdca26"
             ],
             [
              1,
              "#f0f921"
             ]
            ],
            "type": "surface"
           }
          ],
          "table": [
           {
            "cells": {
             "fill": {
              "color": "#EBF0F8"
             },
             "line": {
              "color": "white"
             }
            },
            "header": {
             "fill": {
              "color": "#C8D4E3"
             },
             "line": {
              "color": "white"
             }
            },
            "type": "table"
           }
          ]
         },
         "layout": {
          "annotationdefaults": {
           "arrowcolor": "#2a3f5f",
           "arrowhead": 0,
           "arrowwidth": 1
          },
          "autotypenumbers": "strict",
          "coloraxis": {
           "colorbar": {
            "outlinewidth": 0,
            "ticks": ""
           }
          },
          "colorscale": {
           "diverging": [
            [
             0,
             "#8e0152"
            ],
            [
             0.1,
             "#c51b7d"
            ],
            [
             0.2,
             "#de77ae"
            ],
            [
             0.3,
             "#f1b6da"
            ],
            [
             0.4,
             "#fde0ef"
            ],
            [
             0.5,
             "#f7f7f7"
            ],
            [
             0.6,
             "#e6f5d0"
            ],
            [
             0.7,
             "#b8e186"
            ],
            [
             0.8,
             "#7fbc41"
            ],
            [
             0.9,
             "#4d9221"
            ],
            [
             1,
             "#276419"
            ]
           ],
           "sequential": [
            [
             0,
             "#0d0887"
            ],
            [
             0.1111111111111111,
             "#46039f"
            ],
            [
             0.2222222222222222,
             "#7201a8"
            ],
            [
             0.3333333333333333,
             "#9c179e"
            ],
            [
             0.4444444444444444,
             "#bd3786"
            ],
            [
             0.5555555555555556,
             "#d8576b"
            ],
            [
             0.6666666666666666,
             "#ed7953"
            ],
            [
             0.7777777777777778,
             "#fb9f3a"
            ],
            [
             0.8888888888888888,
             "#fdca26"
            ],
            [
             1,
             "#f0f921"
            ]
           ],
           "sequentialminus": [
            [
             0,
             "#0d0887"
            ],
            [
             0.1111111111111111,
             "#46039f"
            ],
            [
             0.2222222222222222,
             "#7201a8"
            ],
            [
             0.3333333333333333,
             "#9c179e"
            ],
            [
             0.4444444444444444,
             "#bd3786"
            ],
            [
             0.5555555555555556,
             "#d8576b"
            ],
            [
             0.6666666666666666,
             "#ed7953"
            ],
            [
             0.7777777777777778,
             "#fb9f3a"
            ],
            [
             0.8888888888888888,
             "#fdca26"
            ],
            [
             1,
             "#f0f921"
            ]
           ]
          },
          "colorway": [
           "#636efa",
           "#EF553B",
           "#00cc96",
           "#ab63fa",
           "#FFA15A",
           "#19d3f3",
           "#FF6692",
           "#B6E880",
           "#FF97FF",
           "#FECB52"
          ],
          "font": {
           "color": "#2a3f5f"
          },
          "geo": {
           "bgcolor": "white",
           "lakecolor": "white",
           "landcolor": "#E5ECF6",
           "showlakes": true,
           "showland": true,
           "subunitcolor": "white"
          },
          "hoverlabel": {
           "align": "left"
          },
          "hovermode": "closest",
          "mapbox": {
           "style": "light"
          },
          "paper_bgcolor": "white",
          "plot_bgcolor": "#E5ECF6",
          "polar": {
           "angularaxis": {
            "gridcolor": "white",
            "linecolor": "white",
            "ticks": ""
           },
           "bgcolor": "#E5ECF6",
           "radialaxis": {
            "gridcolor": "white",
            "linecolor": "white",
            "ticks": ""
           }
          },
          "scene": {
           "xaxis": {
            "backgroundcolor": "#E5ECF6",
            "gridcolor": "white",
            "gridwidth": 2,
            "linecolor": "white",
            "showbackground": true,
            "ticks": "",
            "zerolinecolor": "white"
           },
           "yaxis": {
            "backgroundcolor": "#E5ECF6",
            "gridcolor": "white",
            "gridwidth": 2,
            "linecolor": "white",
            "showbackground": true,
            "ticks": "",
            "zerolinecolor": "white"
           },
           "zaxis": {
            "backgroundcolor": "#E5ECF6",
            "gridcolor": "white",
            "gridwidth": 2,
            "linecolor": "white",
            "showbackground": true,
            "ticks": "",
            "zerolinecolor": "white"
           }
          },
          "shapedefaults": {
           "line": {
            "color": "#2a3f5f"
           }
          },
          "ternary": {
           "aaxis": {
            "gridcolor": "white",
            "linecolor": "white",
            "ticks": ""
           },
           "baxis": {
            "gridcolor": "white",
            "linecolor": "white",
            "ticks": ""
           },
           "bgcolor": "#E5ECF6",
           "caxis": {
            "gridcolor": "white",
            "linecolor": "white",
            "ticks": ""
           }
          },
          "title": {
           "x": 0.05
          },
          "xaxis": {
           "automargin": true,
           "gridcolor": "white",
           "linecolor": "white",
           "ticks": "",
           "title": {
            "standoff": 15
           },
           "zerolinecolor": "white",
           "zerolinewidth": 2
          },
          "yaxis": {
           "automargin": true,
           "gridcolor": "white",
           "linecolor": "white",
           "ticks": "",
           "title": {
            "standoff": 15
           },
           "zerolinecolor": "white",
           "zerolinewidth": 2
          }
         }
        },
        "title": {
         "text": "Training Set Target Variable Distribution"
        },
        "width": 700,
        "xaxis": {
         "anchor": "y",
         "domain": [
          0,
          1
         ],
         "title": {
          "text": "Class"
         }
        },
        "yaxis": {
         "anchor": "x",
         "domain": [
          0,
          1
         ],
         "title": {
          "text": "Count"
         }
        }
       }
      }
     },
     "metadata": {},
     "output_type": "display_data"
    }
   ],
   "source": [
    "# Create a count data frame for the training set target variable\n",
    "y_train_counts = y_train.value_counts().reset_index()\n",
    "y_train_counts.columns = ['Class', 'Count']\n",
    "y_train_counts['Class'] = y_train_counts['Class'].map({0: 'Healthy', 1: 'Cervical Cancer'})\n",
    "\n",
    "# Use Pie chart\n",
    "fig_pie = px.pie(y_train_counts, names='Class', values='Count', title='Training Set Target Variable Distribution', width=700)\n",
    "\n",
    "# Bar Chart\n",
    "fig_bar = px.bar(y_train_counts, x='Class', y='Count', title='Training Set Target Variable Distribution', width=700)\n",
    "\n",
    "# Show Images\n",
    "fig_pie.show()\n",
    "fig_bar.show()"
   ]
  },
  {
   "cell_type": "markdown",
   "metadata": {},
   "source": [
    "### Data Scaling and Encoding"
   ]
  },
  {
   "cell_type": "code",
   "execution_count": 92,
   "metadata": {},
   "outputs": [
    {
     "name": "stdout",
     "output_type": "stream",
     "text": [
      "--------------------------------- risk_factor_df ---------------------------------\n",
      "    Smokes (packs/year)  Hormonal Contraceptives (years)  IUD (years)  \\\n",
      "0                   0.0                             0.00          0.0   \n",
      "1                   0.0                             0.00          0.0   \n",
      "2                   0.0                             0.00          0.0   \n",
      "3                  37.0                             3.00          0.0   \n",
      "4                   0.0                            15.00          0.0   \n",
      "5                   0.0                             0.00          0.0   \n",
      "6                   3.4                             0.00          7.0   \n",
      "7                   0.0                             2.00          7.0   \n",
      "8                   0.0                             0.00          0.0   \n",
      "9                   0.0                             2.00          0.0   \n",
      "10                  0.0                             8.00          0.0   \n",
      "11                  0.0                            10.00          5.0   \n",
      "12                  0.0                             5.00          0.0   \n",
      "13                  0.0                             0.00          8.0   \n",
      "14                  0.0                            15.00          0.0   \n",
      "15                  0.0                             0.25          0.0   \n",
      "16                  0.0                             7.00          6.0   \n",
      "17                  0.0                             0.00          1.0   \n",
      "18                  0.0                            15.00          0.0   \n",
      "19                  0.0                            10.00          0.0   \n",
      "\n",
      "    Smokes (packs/year)_scaled  Hormonal Contraceptives (years)_scaled  \\\n",
      "0                    -0.197306                               -0.629273   \n",
      "1                    -0.197306                               -0.629273   \n",
      "2                    -0.197306                               -0.629273   \n",
      "3                    15.555164                                0.206834   \n",
      "4                    -0.197306                                3.551259   \n",
      "5                    -0.197306                               -0.629273   \n",
      "6                     1.250218                               -0.629273   \n",
      "7                    -0.197306                               -0.071869   \n",
      "8                    -0.197306                               -0.629273   \n",
      "9                    -0.197306                               -0.071869   \n",
      "10                   -0.197306                                1.600344   \n",
      "11                   -0.197306                                2.157749   \n",
      "12                   -0.197306                                0.764238   \n",
      "13                   -0.197306                               -0.629273   \n",
      "14                   -0.197306                                3.551259   \n",
      "15                   -0.197306                               -0.559597   \n",
      "16                   -0.197306                                1.321642   \n",
      "17                   -0.197306                               -0.629273   \n",
      "18                   -0.197306                                3.551259   \n",
      "19                   -0.197306                                2.157749   \n",
      "\n",
      "    IUD (years)_scaled  \n",
      "0            -0.267120  \n",
      "1            -0.267120  \n",
      "2            -0.267120  \n",
      "3            -0.267120  \n",
      "4            -0.267120  \n",
      "5            -0.267120  \n",
      "6             3.260215  \n",
      "7             3.260215  \n",
      "8            -0.267120  \n",
      "9            -0.267120  \n",
      "10           -0.267120  \n",
      "11            2.252405  \n",
      "12           -0.267120  \n",
      "13            3.764120  \n",
      "14           -0.267120  \n",
      "15           -0.267120  \n",
      "16            2.756310  \n",
      "17            0.236785  \n",
      "18           -0.267120  \n",
      "19           -0.267120  \n"
     ]
    }
   ],
   "source": [
    "from sklearn.preprocessing import StandardScaler\n",
    "\n",
    "# Create a StandardScaler object\n",
    "scaler = StandardScaler()\n",
    "\n",
    "# Specify the features to be scaled\n",
    "features_to_scale = [\"Smokes (packs/year)\", \"Hormonal Contraceptives (years)\", \"IUD (years)\"]\n",
    "\n",
    "# Scale the specified features and add new columns with suffix '_scaled'\n",
    "risk_factor_df[[f\"{feature}_scaled\" for feature in features_to_scale]] = scaler.fit_transform(risk_factor_df[features_to_scale])\n",
    "\n",
    "# Display the original and scaled values for the first 20 rows\n",
    "print(\"--------------------------------- risk_factor_df ---------------------------------\")\n",
    "print(risk_factor_df[features_to_scale + [f\"{feature}_scaled\" for feature in features_to_scale]].head(20))\n"
   ]
  },
  {
   "cell_type": "code",
   "execution_count": 101,
   "metadata": {},
   "outputs": [
    {
     "data": {
      "text/html": [
       "<div>\n",
       "<style scoped>\n",
       "    .dataframe tbody tr th:only-of-type {\n",
       "        vertical-align: middle;\n",
       "    }\n",
       "\n",
       "    .dataframe tbody tr th {\n",
       "        vertical-align: top;\n",
       "    }\n",
       "\n",
       "    .dataframe thead th {\n",
       "        text-align: right;\n",
       "    }\n",
       "</style>\n",
       "<table border=\"1\" class=\"dataframe\">\n",
       "  <thead>\n",
       "    <tr style=\"text-align: right;\">\n",
       "      <th></th>\n",
       "      <th>Age</th>\n",
       "      <th>Number of sexual partners</th>\n",
       "      <th>First sexual intercourse</th>\n",
       "      <th>Num of pregnancies</th>\n",
       "      <th>Smokes</th>\n",
       "      <th>Smokes (years)</th>\n",
       "      <th>Smokes (packs/year)</th>\n",
       "      <th>Hormonal Contraceptives</th>\n",
       "      <th>Hormonal Contraceptives (years)</th>\n",
       "      <th>IUD</th>\n",
       "      <th>...</th>\n",
       "      <th>Dx:HPV</th>\n",
       "      <th>Dx</th>\n",
       "      <th>Hinselmann</th>\n",
       "      <th>Schiller</th>\n",
       "      <th>Citology</th>\n",
       "      <th>Biopsy</th>\n",
       "      <th>Smokes (packs/year)_scaled</th>\n",
       "      <th>Hormonal Contraceptives (years)_scaled</th>\n",
       "      <th>IUD (years)_scaled</th>\n",
       "      <th>Age_encoded</th>\n",
       "    </tr>\n",
       "  </thead>\n",
       "  <tbody>\n",
       "    <tr>\n",
       "      <th>0</th>\n",
       "      <td>18</td>\n",
       "      <td>4.0</td>\n",
       "      <td>15.0</td>\n",
       "      <td>1.0</td>\n",
       "      <td>0.0</td>\n",
       "      <td>0.0</td>\n",
       "      <td>0.0</td>\n",
       "      <td>0.0</td>\n",
       "      <td>0.0</td>\n",
       "      <td>0.0</td>\n",
       "      <td>...</td>\n",
       "      <td>0</td>\n",
       "      <td>0</td>\n",
       "      <td>0</td>\n",
       "      <td>0</td>\n",
       "      <td>0</td>\n",
       "      <td>0</td>\n",
       "      <td>-0.197306</td>\n",
       "      <td>-0.629273</td>\n",
       "      <td>-0.26712</td>\n",
       "      <td>1</td>\n",
       "    </tr>\n",
       "    <tr>\n",
       "      <th>1</th>\n",
       "      <td>15</td>\n",
       "      <td>1.0</td>\n",
       "      <td>14.0</td>\n",
       "      <td>1.0</td>\n",
       "      <td>0.0</td>\n",
       "      <td>0.0</td>\n",
       "      <td>0.0</td>\n",
       "      <td>0.0</td>\n",
       "      <td>0.0</td>\n",
       "      <td>0.0</td>\n",
       "      <td>...</td>\n",
       "      <td>0</td>\n",
       "      <td>0</td>\n",
       "      <td>0</td>\n",
       "      <td>0</td>\n",
       "      <td>0</td>\n",
       "      <td>0</td>\n",
       "      <td>-0.197306</td>\n",
       "      <td>-0.629273</td>\n",
       "      <td>-0.26712</td>\n",
       "      <td>0</td>\n",
       "    </tr>\n",
       "    <tr>\n",
       "      <th>2</th>\n",
       "      <td>34</td>\n",
       "      <td>1.0</td>\n",
       "      <td>17.0</td>\n",
       "      <td>1.0</td>\n",
       "      <td>0.0</td>\n",
       "      <td>0.0</td>\n",
       "      <td>0.0</td>\n",
       "      <td>0.0</td>\n",
       "      <td>0.0</td>\n",
       "      <td>0.0</td>\n",
       "      <td>...</td>\n",
       "      <td>0</td>\n",
       "      <td>0</td>\n",
       "      <td>0</td>\n",
       "      <td>0</td>\n",
       "      <td>0</td>\n",
       "      <td>0</td>\n",
       "      <td>-0.197306</td>\n",
       "      <td>-0.629273</td>\n",
       "      <td>-0.26712</td>\n",
       "      <td>4</td>\n",
       "    </tr>\n",
       "    <tr>\n",
       "      <th>3</th>\n",
       "      <td>52</td>\n",
       "      <td>5.0</td>\n",
       "      <td>16.0</td>\n",
       "      <td>4.0</td>\n",
       "      <td>1.0</td>\n",
       "      <td>37.0</td>\n",
       "      <td>37.0</td>\n",
       "      <td>1.0</td>\n",
       "      <td>3.0</td>\n",
       "      <td>0.0</td>\n",
       "      <td>...</td>\n",
       "      <td>1</td>\n",
       "      <td>0</td>\n",
       "      <td>0</td>\n",
       "      <td>0</td>\n",
       "      <td>0</td>\n",
       "      <td>0</td>\n",
       "      <td>15.555164</td>\n",
       "      <td>0.206834</td>\n",
       "      <td>-0.26712</td>\n",
       "      <td>7</td>\n",
       "    </tr>\n",
       "    <tr>\n",
       "      <th>4</th>\n",
       "      <td>46</td>\n",
       "      <td>3.0</td>\n",
       "      <td>21.0</td>\n",
       "      <td>4.0</td>\n",
       "      <td>0.0</td>\n",
       "      <td>0.0</td>\n",
       "      <td>0.0</td>\n",
       "      <td>1.0</td>\n",
       "      <td>15.0</td>\n",
       "      <td>0.0</td>\n",
       "      <td>...</td>\n",
       "      <td>0</td>\n",
       "      <td>0</td>\n",
       "      <td>0</td>\n",
       "      <td>0</td>\n",
       "      <td>0</td>\n",
       "      <td>0</td>\n",
       "      <td>-0.197306</td>\n",
       "      <td>3.551259</td>\n",
       "      <td>-0.26712</td>\n",
       "      <td>6</td>\n",
       "    </tr>\n",
       "  </tbody>\n",
       "</table>\n",
       "<p>5 rows × 36 columns</p>\n",
       "</div>"
      ],
      "text/plain": [
       "   Age  Number of sexual partners  First sexual intercourse  \\\n",
       "0   18                        4.0                      15.0   \n",
       "1   15                        1.0                      14.0   \n",
       "2   34                        1.0                      17.0   \n",
       "3   52                        5.0                      16.0   \n",
       "4   46                        3.0                      21.0   \n",
       "\n",
       "   Num of pregnancies  Smokes  Smokes (years)  Smokes (packs/year)  \\\n",
       "0                 1.0     0.0             0.0                  0.0   \n",
       "1                 1.0     0.0             0.0                  0.0   \n",
       "2                 1.0     0.0             0.0                  0.0   \n",
       "3                 4.0     1.0            37.0                 37.0   \n",
       "4                 4.0     0.0             0.0                  0.0   \n",
       "\n",
       "   Hormonal Contraceptives  Hormonal Contraceptives (years)  IUD  ...  Dx:HPV  \\\n",
       "0                      0.0                              0.0  0.0  ...       0   \n",
       "1                      0.0                              0.0  0.0  ...       0   \n",
       "2                      0.0                              0.0  0.0  ...       0   \n",
       "3                      1.0                              3.0  0.0  ...       1   \n",
       "4                      1.0                             15.0  0.0  ...       0   \n",
       "\n",
       "   Dx  Hinselmann  Schiller  Citology  Biopsy  Smokes (packs/year)_scaled  \\\n",
       "0   0           0         0         0       0                   -0.197306   \n",
       "1   0           0         0         0       0                   -0.197306   \n",
       "2   0           0         0         0       0                   -0.197306   \n",
       "3   0           0         0         0       0                   15.555164   \n",
       "4   0           0         0         0       0                   -0.197306   \n",
       "\n",
       "   Hormonal Contraceptives (years)_scaled  IUD (years)_scaled  Age_encoded  \n",
       "0                               -0.629273            -0.26712            1  \n",
       "1                               -0.629273            -0.26712            0  \n",
       "2                               -0.629273            -0.26712            4  \n",
       "3                                0.206834            -0.26712            7  \n",
       "4                                3.551259            -0.26712            6  \n",
       "\n",
       "[5 rows x 36 columns]"
      ]
     },
     "execution_count": 101,
     "metadata": {},
     "output_type": "execute_result"
    }
   ],
   "source": [
    "risk_factor_df.head()"
   ]
  },
  {
   "cell_type": "code",
   "execution_count": 94,
   "metadata": {},
   "outputs": [
    {
     "name": "stdout",
     "output_type": "stream",
     "text": [
      "     Age Age_encoded\n",
      "0     18           1\n",
      "1     15           0\n",
      "2     34           4\n",
      "3     52           7\n",
      "4     46           6\n",
      "..   ...         ...\n",
      "692   34           4\n",
      "693   32           3\n",
      "694   25           2\n",
      "695   33           4\n",
      "696   29           3\n",
      "\n",
      "[697 rows x 2 columns]\n"
     ]
    },
    {
     "data": {
      "text/html": [
       "<div>\n",
       "<style scoped>\n",
       "    .dataframe tbody tr th:only-of-type {\n",
       "        vertical-align: middle;\n",
       "    }\n",
       "\n",
       "    .dataframe tbody tr th {\n",
       "        vertical-align: top;\n",
       "    }\n",
       "\n",
       "    .dataframe thead th {\n",
       "        text-align: right;\n",
       "    }\n",
       "</style>\n",
       "<table border=\"1\" class=\"dataframe\">\n",
       "  <thead>\n",
       "    <tr style=\"text-align: right;\">\n",
       "      <th></th>\n",
       "      <th>Age</th>\n",
       "      <th>Number of sexual partners</th>\n",
       "      <th>First sexual intercourse</th>\n",
       "      <th>Num of pregnancies</th>\n",
       "      <th>Smokes</th>\n",
       "      <th>Smokes (years)</th>\n",
       "      <th>Smokes (packs/year)</th>\n",
       "      <th>Hormonal Contraceptives</th>\n",
       "      <th>Hormonal Contraceptives (years)</th>\n",
       "      <th>IUD</th>\n",
       "      <th>...</th>\n",
       "      <th>Dx:HPV</th>\n",
       "      <th>Dx</th>\n",
       "      <th>Hinselmann</th>\n",
       "      <th>Schiller</th>\n",
       "      <th>Citology</th>\n",
       "      <th>Biopsy</th>\n",
       "      <th>Smokes (packs/year)_scaled</th>\n",
       "      <th>Hormonal Contraceptives (years)_scaled</th>\n",
       "      <th>IUD (years)_scaled</th>\n",
       "      <th>Age_encoded</th>\n",
       "    </tr>\n",
       "  </thead>\n",
       "  <tbody>\n",
       "    <tr>\n",
       "      <th>0</th>\n",
       "      <td>18</td>\n",
       "      <td>4.0</td>\n",
       "      <td>15.0</td>\n",
       "      <td>1.0</td>\n",
       "      <td>0.0</td>\n",
       "      <td>0.0</td>\n",
       "      <td>0.0</td>\n",
       "      <td>0.0</td>\n",
       "      <td>0.0</td>\n",
       "      <td>0.0</td>\n",
       "      <td>...</td>\n",
       "      <td>0</td>\n",
       "      <td>0</td>\n",
       "      <td>0</td>\n",
       "      <td>0</td>\n",
       "      <td>0</td>\n",
       "      <td>0</td>\n",
       "      <td>-0.197306</td>\n",
       "      <td>-0.629273</td>\n",
       "      <td>-0.26712</td>\n",
       "      <td>1</td>\n",
       "    </tr>\n",
       "    <tr>\n",
       "      <th>1</th>\n",
       "      <td>15</td>\n",
       "      <td>1.0</td>\n",
       "      <td>14.0</td>\n",
       "      <td>1.0</td>\n",
       "      <td>0.0</td>\n",
       "      <td>0.0</td>\n",
       "      <td>0.0</td>\n",
       "      <td>0.0</td>\n",
       "      <td>0.0</td>\n",
       "      <td>0.0</td>\n",
       "      <td>...</td>\n",
       "      <td>0</td>\n",
       "      <td>0</td>\n",
       "      <td>0</td>\n",
       "      <td>0</td>\n",
       "      <td>0</td>\n",
       "      <td>0</td>\n",
       "      <td>-0.197306</td>\n",
       "      <td>-0.629273</td>\n",
       "      <td>-0.26712</td>\n",
       "      <td>0</td>\n",
       "    </tr>\n",
       "    <tr>\n",
       "      <th>2</th>\n",
       "      <td>34</td>\n",
       "      <td>1.0</td>\n",
       "      <td>17.0</td>\n",
       "      <td>1.0</td>\n",
       "      <td>0.0</td>\n",
       "      <td>0.0</td>\n",
       "      <td>0.0</td>\n",
       "      <td>0.0</td>\n",
       "      <td>0.0</td>\n",
       "      <td>0.0</td>\n",
       "      <td>...</td>\n",
       "      <td>0</td>\n",
       "      <td>0</td>\n",
       "      <td>0</td>\n",
       "      <td>0</td>\n",
       "      <td>0</td>\n",
       "      <td>0</td>\n",
       "      <td>-0.197306</td>\n",
       "      <td>-0.629273</td>\n",
       "      <td>-0.26712</td>\n",
       "      <td>4</td>\n",
       "    </tr>\n",
       "    <tr>\n",
       "      <th>3</th>\n",
       "      <td>52</td>\n",
       "      <td>5.0</td>\n",
       "      <td>16.0</td>\n",
       "      <td>4.0</td>\n",
       "      <td>1.0</td>\n",
       "      <td>37.0</td>\n",
       "      <td>37.0</td>\n",
       "      <td>1.0</td>\n",
       "      <td>3.0</td>\n",
       "      <td>0.0</td>\n",
       "      <td>...</td>\n",
       "      <td>1</td>\n",
       "      <td>0</td>\n",
       "      <td>0</td>\n",
       "      <td>0</td>\n",
       "      <td>0</td>\n",
       "      <td>0</td>\n",
       "      <td>15.555164</td>\n",
       "      <td>0.206834</td>\n",
       "      <td>-0.26712</td>\n",
       "      <td>7</td>\n",
       "    </tr>\n",
       "    <tr>\n",
       "      <th>4</th>\n",
       "      <td>46</td>\n",
       "      <td>3.0</td>\n",
       "      <td>21.0</td>\n",
       "      <td>4.0</td>\n",
       "      <td>0.0</td>\n",
       "      <td>0.0</td>\n",
       "      <td>0.0</td>\n",
       "      <td>1.0</td>\n",
       "      <td>15.0</td>\n",
       "      <td>0.0</td>\n",
       "      <td>...</td>\n",
       "      <td>0</td>\n",
       "      <td>0</td>\n",
       "      <td>0</td>\n",
       "      <td>0</td>\n",
       "      <td>0</td>\n",
       "      <td>0</td>\n",
       "      <td>-0.197306</td>\n",
       "      <td>3.551259</td>\n",
       "      <td>-0.26712</td>\n",
       "      <td>6</td>\n",
       "    </tr>\n",
       "  </tbody>\n",
       "</table>\n",
       "<p>5 rows × 36 columns</p>\n",
       "</div>"
      ],
      "text/plain": [
       "   Age  Number of sexual partners  First sexual intercourse  \\\n",
       "0   18                        4.0                      15.0   \n",
       "1   15                        1.0                      14.0   \n",
       "2   34                        1.0                      17.0   \n",
       "3   52                        5.0                      16.0   \n",
       "4   46                        3.0                      21.0   \n",
       "\n",
       "   Num of pregnancies  Smokes  Smokes (years)  Smokes (packs/year)  \\\n",
       "0                 1.0     0.0             0.0                  0.0   \n",
       "1                 1.0     0.0             0.0                  0.0   \n",
       "2                 1.0     0.0             0.0                  0.0   \n",
       "3                 4.0     1.0            37.0                 37.0   \n",
       "4                 4.0     0.0             0.0                  0.0   \n",
       "\n",
       "   Hormonal Contraceptives  Hormonal Contraceptives (years)  IUD  ...  Dx:HPV  \\\n",
       "0                      0.0                              0.0  0.0  ...       0   \n",
       "1                      0.0                              0.0  0.0  ...       0   \n",
       "2                      0.0                              0.0  0.0  ...       0   \n",
       "3                      1.0                              3.0  0.0  ...       1   \n",
       "4                      1.0                             15.0  0.0  ...       0   \n",
       "\n",
       "   Dx  Hinselmann  Schiller  Citology  Biopsy  Smokes (packs/year)_scaled  \\\n",
       "0   0           0         0         0       0                   -0.197306   \n",
       "1   0           0         0         0       0                   -0.197306   \n",
       "2   0           0         0         0       0                   -0.197306   \n",
       "3   0           0         0         0       0                   15.555164   \n",
       "4   0           0         0         0       0                   -0.197306   \n",
       "\n",
       "   Hormonal Contraceptives (years)_scaled  IUD (years)_scaled  Age_encoded  \n",
       "0                               -0.629273            -0.26712            1  \n",
       "1                               -0.629273            -0.26712            0  \n",
       "2                               -0.629273            -0.26712            4  \n",
       "3                                0.206834            -0.26712            7  \n",
       "4                                3.551259            -0.26712            6  \n",
       "\n",
       "[5 rows x 36 columns]"
      ]
     },
     "execution_count": 94,
     "metadata": {},
     "output_type": "execute_result"
    }
   ],
   "source": [
    "import pandas as pd\n",
    "\n",
    "# Define age categories, every 5 years as an intervals\n",
    "age_intervals = [13, 18, 23, 28, 33, 38, 43, 48, 53, 58, 63, 68, 73, 78, 83, 88]\n",
    "labels = list(range(len(age_intervals) - 1))\n",
    "\n",
    "# Encode the \"Age\" feature\n",
    "risk_factor_df['Age_encoded'] = pd.cut(risk_factor_df['Age'], bins=age_intervals, labels=labels, right=False)\n",
    "\n",
    "# Display the resulting DataFrame\n",
    "print(risk_factor_df[['Age', 'Age_encoded']])\n",
    "\n",
    "# Display the updated DataFrame\n",
    "risk_factor_df.head()"
   ]
  },
  {
   "cell_type": "markdown",
   "metadata": {},
   "source": [
    "### Dimensionality Reduction (PCA - Principal Component Analysis)"
   ]
  },
  {
   "cell_type": "code",
   "execution_count": 95,
   "metadata": {},
   "outputs": [
    {
     "data": {
      "application/vnd.plotly.v1+json": {
       "config": {
        "plotlyServerURL": "https://plot.ly"
       },
       "data": [
        {
         "hovertemplate": "PCA1=%{x}<br>PCA2=%{y}<br>Class=%{marker.color}<extra></extra>",
         "legendgroup": "",
         "marker": {
          "color": [
           0,
           0,
           0,
           0,
           0,
           0,
           0,
           0,
           0,
           0,
           0,
           0,
           0,
           0,
           0,
           0,
           0,
           0,
           0,
           0,
           0,
           0,
           0,
           1,
           0,
           0,
           0,
           0,
           0,
           0,
           0,
           0,
           0,
           0,
           0,
           0,
           0,
           0,
           0,
           0,
           1,
           0,
           0,
           0,
           0,
           0,
           0,
           0,
           0,
           1,
           0,
           0,
           0,
           0,
           0,
           0,
           0,
           0,
           1,
           0,
           0,
           0,
           0,
           0,
           0,
           1,
           0,
           0,
           0,
           0,
           0,
           0,
           0,
           0,
           0,
           0,
           1,
           0,
           0,
           0,
           0,
           0,
           0,
           0,
           0,
           0,
           0,
           0,
           0,
           0,
           0,
           0,
           0,
           1,
           0,
           0,
           0,
           0,
           0,
           0,
           0,
           0,
           0,
           0,
           0,
           0,
           0,
           0,
           0,
           0,
           0,
           0,
           0,
           0,
           0,
           0,
           0,
           0,
           0,
           0,
           0,
           0,
           0,
           0,
           0,
           1,
           1,
           1,
           0,
           0,
           0,
           0,
           0,
           0,
           0,
           0,
           1,
           0,
           0,
           0,
           0,
           1,
           0,
           0,
           0,
           0,
           1,
           0,
           0,
           1,
           0,
           0,
           1,
           0,
           0,
           0,
           0,
           0,
           0,
           0,
           0,
           0,
           0,
           0,
           0,
           0,
           0,
           0,
           0,
           0,
           0,
           0,
           0,
           0,
           0,
           0,
           0,
           0,
           1,
           0,
           0,
           0,
           0,
           0,
           0,
           0,
           0,
           0,
           0,
           0,
           0,
           0,
           0,
           0,
           0,
           0,
           0,
           1,
           0,
           0,
           0,
           0,
           0,
           0,
           0,
           0,
           0,
           0,
           0,
           0,
           0,
           0,
           0,
           0,
           0,
           1,
           0,
           0,
           0,
           0,
           0,
           0,
           0,
           0,
           0,
           0,
           0,
           0,
           0,
           0,
           0,
           0,
           0,
           0,
           0,
           0,
           0,
           0,
           0,
           0,
           0,
           0,
           0,
           0,
           0,
           0,
           0,
           0,
           0,
           0,
           0,
           0,
           0,
           0,
           0,
           0,
           0,
           0,
           1,
           0,
           0,
           1,
           0,
           0,
           1,
           0,
           0,
           0,
           0,
           0,
           0,
           0,
           0,
           0,
           0,
           0,
           0,
           0,
           0,
           0,
           1,
           0,
           0,
           0,
           0,
           0,
           0,
           1,
           0,
           0,
           0,
           0,
           0,
           0,
           0,
           0,
           0,
           0,
           0,
           0,
           0,
           0,
           0,
           0,
           0,
           0,
           0,
           0,
           0,
           0,
           0,
           0,
           0,
           0,
           1,
           0,
           0,
           0,
           0,
           0,
           0,
           0,
           0,
           0,
           0,
           0,
           0,
           0,
           0,
           0,
           0,
           0,
           1,
           0,
           0,
           0,
           0,
           0,
           1,
           0,
           0,
           0,
           0,
           0,
           0,
           0,
           0,
           0,
           0,
           0,
           0,
           0,
           0,
           0,
           0,
           0,
           0,
           0,
           0,
           0,
           0,
           0,
           0,
           0,
           0,
           0,
           0,
           0,
           1,
           1,
           0,
           0,
           0,
           0,
           0,
           0,
           0,
           0,
           0,
           1,
           0,
           1,
           0,
           0,
           0,
           0,
           0,
           0,
           0,
           0,
           0,
           0,
           0,
           1,
           0,
           0,
           0,
           0,
           0,
           0,
           0,
           0,
           0,
           0,
           0,
           0,
           0,
           0,
           0,
           0,
           0,
           0,
           0,
           0,
           0,
           0,
           0,
           0,
           0,
           0,
           1,
           0,
           0,
           0,
           0,
           0,
           0,
           0,
           0,
           0,
           0,
           0,
           0,
           0,
           0,
           0,
           0,
           0,
           0,
           0,
           0,
           0,
           0,
           0,
           0,
           0,
           1,
           0,
           0,
           0,
           0,
           0,
           0,
           0,
           0,
           0,
           0,
           0,
           0,
           0,
           0,
           0,
           0,
           0,
           0,
           0
          ],
          "coloraxis": "coloraxis",
          "symbol": "circle"
         },
         "mode": "markers",
         "name": "",
         "orientation": "v",
         "showlegend": false,
         "type": "scatter",
         "x": [
          -0.3244110227855673,
          0.6529755157742331,
          -0.3436209227681871,
          -0.38153916354163375,
          0.6515931162106483,
          0.6577843575303811,
          -0.3715828890267335,
          0.7153899159383336,
          -0.3097172351353165,
          -0.32679773466785444,
          -0.43305712060301954,
          0.6682070618364875,
          -0.38865647976344325,
          -0.3203368194917973,
          -0.3243992164813209,
          -0.40837367604747327,
          0.6399797037712825,
          -0.3230921722131188,
          -0.33852179899190266,
          -0.33448050618085845,
          -0.2894990478788852,
          0.6321300533965595,
          0.6768638576649315,
          -0.40850387280116673,
          -0.3459598569794221,
          0.6758836573493694,
          0.643726684851758,
          0.7459683866238979,
          0.6257105803883568,
          -0.31238872787366956,
          0.6581597935457665,
          -0.3190877524707495,
          -0.3460709184174796,
          -0.36784458654499264,
          -0.3942446935244483,
          -0.3809324934061165,
          -0.3933047643617436,
          -0.3315434630540851,
          -0.2341215580365628,
          -0.43930983353901937,
          -0.6166057083999297,
          0.5374931192824473,
          -0.43164006807525135,
          0.5605113182904272,
          0.6596023131599422,
          -0.3997435505393954,
          0.6587779818318473,
          -0.3173149880217741,
          -0.4032077131135606,
          -0.5190562276047863,
          -0.32582969299499365,
          0.677955237024286,
          -0.4092332951718129,
          0.7126270298806512,
          -0.36190660560783866,
          0.6602554657414478,
          0.6993353034997907,
          -0.4498233344714173,
          0.45953863264452666,
          -0.37518399233026706,
          -0.3095492496285965,
          -0.37652285901752863,
          -0.3282324153536517,
          -0.3190048619715106,
          -0.4004183720624987,
          -0.5510044897772565,
          -0.3233580413511526,
          -0.3776500599161911,
          -0.3276476486245553,
          0.6570604070852378,
          -0.3431102151882441,
          -0.3929496394748528,
          0.5802504573868511,
          -0.32795156786468294,
          0.6530287963634294,
          -0.296135707727728,
          -0.3648790858499268,
          0.6609794161865902,
          -0.3831793838137649,
          0.5630366657689012,
          -0.34596574501109995,
          -0.34083188957215593,
          -0.40873446390714185,
          -0.402067680295537,
          0.6285572756931589,
          -0.3202253311540956,
          -0.2682612022573955,
          -0.30944641461096734,
          -0.37846002437177284,
          -0.3215873263352857,
          0.6372675618365977,
          0.6219178646889552,
          -0.3488175968998437,
          -0.5668442759673652,
          0.6590485985747797,
          -0.34000489002035367,
          -0.4051753310589402,
          -0.3657340455317461,
          0.7435585438564395,
          -0.3338004768411745,
          -0.3548785518607147,
          0.6529601640178991,
          0.604810305969393,
          0.6513530253736377,
          -0.32724996468482853,
          -0.3861011497028339,
          0.657883795526724,
          -0.5839520881881066,
          -0.40232500042013997,
          -0.5356842689214096,
          0.6459433353533024,
          0.7018630628574658,
          0.684170466519647,
          0.675870233363464,
          0.5789116111136926,
          -0.2866742283182066,
          -0.3948445680990024,
          0.6600422228762475,
          0.6489529420027296,
          -0.36829964892790973,
          0.7530978885567349,
          0.701980196155919,
          -0.3155098898844098,
          -0.39242673789488647,
          -0.30771561965986916,
          -0.2563467562361369,
          0.5082445435207962,
          -0.4709255632492138,
          -0.3901257700637266,
          0.6630948365308943,
          -0.43560751066045333,
          -0.320326953325806,
          -0.3558157451710577,
          -0.34745580550007044,
          -0.35138918147393583,
          -0.2513972819677943,
          -0.4111367591979925,
          -0.2854721899020054,
          0.6547881748668577,
          -0.44678425320185894,
          0.6459711262117199,
          -0.4652611513100199,
          -0.2614034146224382,
          -0.31704380478513416,
          0.6391419484572834,
          0.64639761194212,
          -0.3336156766343992,
          0.6037163007849743,
          -0.38645756572127216,
          -0.43722568393283107,
          -0.32326240807309975,
          0.6273287171386234,
          -0.23053633822343822,
          -0.3468062769163721,
          -0.3664067976961755,
          0.6440823727185212,
          0.6984885744093153,
          -0.395725330418221,
          0.6535278293584109,
          -0.45198927938692274,
          0.5489962616612087,
          0.6062017758685543,
          -0.36227360284301485,
          -0.3906383652846393,
          0.6576571286756189,
          0.6142389598647274,
          -0.4687678113266081,
          -0.2838476897715944,
          0.6614766997806278,
          -0.32526863255641225,
          0.6440721022601376,
          0.8125868647091745,
          -0.3443759253572637,
          0.6629676076761327,
          0.6554556943208761,
          -0.33860970064331136,
          -0.33220648180158197,
          -0.3294385415473739,
          0.7065536254115129,
          -0.3164034435179318,
          0.7034654007019984,
          0.6553418894520197,
          -0.34579466174458456,
          0.5784008456019641,
          0.5791213265280892,
          0.6442257606066921,
          -0.32614253551450484,
          0.6614336927754085,
          -0.31332419094990716,
          0.6636485511160555,
          0.6491231778627102,
          0.6642864875507599,
          0.6604257016014282,
          -0.3670137902882887,
          0.6583810791207614,
          0.6572306429452186,
          -0.37477398808987156,
          -0.37073230958437514,
          -0.35580547416932606,
          0.658508307975523,
          -0.31152008291941996,
          0.7750709533059649,
          0.7025223290142415,
          -0.34741286467274446,
          -0.3176691421612342,
          -0.3680832530785364,
          -0.5688925223906709,
          -0.5536793999582841,
          -0.40769973127270787,
          -0.3717279051563953,
          -0.39492752460534164,
          0.641597840521549,
          -0.39581173028214656,
          -0.3800697777612773,
          -0.47271254990092915,
          -0.2227702773736653,
          0.6613064639206471,
          -0.30878229217823433,
          -0.41011173854970107,
          0.6587321561717769,
          -0.3251261875548493,
          0.6431881864133975,
          0.6996300776051425,
          0.6355204040706731,
          0.6527847672305137,
          0.6632650723908748,
          -0.38821026407879144,
          -0.3595688180646274,
          0.6593182724311045,
          -0.4097857945238064,
          -0.2386484219717745,
          -0.38344638164588063,
          -0.3520404464144713,
          -0.43531411323404823,
          -0.4923729193894683,
          -0.35624411854242816,
          -0.35698054821911357,
          -0.41141464648892806,
          0.6447364681866345,
          -0.38592587321770994,
          0.6421945621119306,
          0.7266399033931571,
          -0.30793167937203797,
          0.6473335514349776,
          -0.3724023178751482,
          -0.3244824954442551,
          -0.3552158705965032,
          0.6646269592707216,
          -0.30645362896873035,
          0.6589347937059233,
          0.5950548101864265,
          -0.3964954408527563,
          -0.2820751986569773,
          -0.3991814986525312,
          0.6425216098459872,
          -0.48631613599648627,
          -0.4154411673149508,
          -0.39479840810960987,
          -0.36099790380998104,
          -0.402682359325186,
          -0.5058607184495194,
          -0.5765537146748103,
          -0.3301624919925167,
          0.6313615311088322,
          0.6020436162456246,
          -0.3922430780490006,
          -0.3178670849252768,
          0.7025681807458901,
          -0.4000469176129424,
          0.6708618298934406,
          -0.3664129490882708,
          0.6368276521202922,
          -0.34270464186201777,
          0.5931807344966188,
          -0.38403984483749637,
          -0.3185618708674549,
          0.644622663317778,
          -0.4494272974577365,
          -0.3602801775843902,
          0.6582108432607805,
          0.6451321170802349,
          -0.34911190863041264,
          -0.3464460883430872,
          0.6484852414280067,
          -0.3935618624435546,
          -0.43445047814315046,
          -0.22488789341905366,
          -0.38441399184406905,
          0.60334755534481,
          -0.35814125539638847,
          -0.3220004173819608,
          -0.3127698487899632,
          -0.36684355442830746,
          0.6206536162107579,
          -0.4507692646318866,
          0.6743409292784873,
          0.6607661733213896,
          0.6386016578580269,
          -0.3225946848376645,
          -0.31657367937791264,
          0.6201868585226429,
          -0.3486904635251555,
          -0.33913678141191506,
          0.582416449273046,
          0.6567763663563998,
          -0.40733407897470547,
          0.6548455487445898,
          -0.3428699096163009,
          -0.4758187983078236,
          -0.553303177339081,
          0.6521611976683223,
          -0.4396041452695884,
          -0.39880480513232647,
          -0.4071500423865571,
          0.503930402471375,
          0.7448146118915311,
          0.532614675684796,
          0.6475480481176633,
          -0.3897507667797855,
          -0.31500368301098913,
          -0.38068065148923835,
          0.6531404550972766,
          -0.3411769853325339,
          -0.3680731858582216,
          -0.4206693268571436,
          0.7059849625325417,
          0.6454888317879618,
          -0.3376221544743297,
          -0.3845531561675261,
          -0.43947798457278703,
          -0.359027691012352,
          0.6627543648109326,
          -0.4121867078865817,
          -0.3621863936966889,
          0.6538949314483421,
          -0.3293456028273198,
          -0.3846564017967218,
          -0.337600549980036,
          0.5487972434423632,
          -0.4775555947341834,
          -0.45099034761703843,
          0.6270016694045666,
          -0.34971430351753874,
          -0.3857059849247705,
          -0.3508160593911177,
          -0.272094857565339,
          -0.39079549961531074,
          0.6381913311610355,
          0.6354361822211311,
          0.6624138930909708,
          -0.42620295662975816,
          0.5376104006877545,
          -0.32790818446656383,
          0.6427348527111872,
          -0.36473408711460586,
          -0.4330088832212116,
          -0.34613009283940294,
          -0.3453738983755485,
          -0.3156388025987244,
          0.6588917867007041,
          -0.30988972134855797,
          -0.43591999662865716,
          -0.31805116328751254,
          -0.4841726954526264,
          -0.32377291187162516,
          -0.3335979517007433,
          -0.4378900504026763,
          0.5742418035953875,
          -0.446462789190702,
          -0.5138771184827293,
          -0.5244897035367112,
          -0.31834869418014866,
          -0.3355153453266485,
          -0.31076823331451586,
          -0.42465377780946223,
          0.6608799781902465,
          -0.34827730630058656,
          0.6083470797907692,
          -0.31615478310559547,
          -0.3933003821965464,
          -0.33520266446510466,
          -0.4966028216303976,
          0.6441119557378361,
          0.6417402855231122,
          -0.3236755223148797,
          -0.2542190004011873,
          0.650799310788476,
          -0.31649480960189935,
          0.6780652571026535,
          -0.3150841451269546,
          0.6715723563526784,
          -0.33694982223102915,
          -0.28633383252366346,
          0.7484806859419798,
          -0.3406609240171655,
          -0.38608268509178567,
          0.6571598450815813,
          -0.34741279849485074,
          -0.4227778761038201,
          -0.32272602238447745,
          -0.34506567067429855,
          -0.25403011214863275,
          -0.3845640818179366,
          0.7442722864477515,
          -0.32671596695299,
          -0.4054643562369004,
          0.6478885198376254,
          -0.2940315427398966,
          -0.32589012437682574,
          0.7606209887320045,
          -0.3336893964225985,
          -0.32591822731800413,
          -0.3316248680566587,
          0.5619257393502437,
          0.6631378435361134,
          -0.36368344187315077,
          0.6591480365711236,
          0.6625841289509516,
          0.6561366377607998,
          0.6653509097158647,
          -0.40233314266432635,
          -0.33179809524284554,
          0.6502016463114867,
          -0.32827823920583993,
          0.6393686153083886,
          -0.3175108726882557,
          0.6569466022163808,
          -0.18810206788519265,
          -0.33652333650062827,
          -0.37785920539221834,
          -0.33058834505131574,
          -0.32837186902900894,
          0.628523725156751,
          -0.31027320007373926,
          -0.33638226514361214,
          0.6649546293025451,
          -0.3317951039166394,
          -0.4074063877370503,
          -0.1925175052288314,
          0.595012114112085,
          -0.331269288491239,
          0.82182613343199,
          -0.36669304852257845,
          -0.3576804934616135,
          -0.33432190214588586,
          0.6608091803266094,
          0.7614817698897901,
          -0.4445034501665767,
          -0.3918595993238195,
          -0.31241651957780453,
          -0.4200293497101274,
          0.580438327646934,
          -0.2727668326240071,
          -0.27703435288055617,
          -0.37638676175839964,
          -0.2898485428324616,
          -0.32693712216531745,
          0.5832865156364313,
          0.6696683867126775,
          0.6466108548073205,
          -0.36846169117857425,
          -0.251460208102534,
          -0.37989144377205325,
          -0.34247048659264306,
          -0.4500635724318869,
          0.6407036542164255
         ],
         "xaxis": "x",
         "y": [
          -0.21844084553282062,
          0.8539632877489007,
          -0.2251153044520023,
          -0.21231325042408525,
          -0.25090579540266195,
          -0.2662337094496155,
          1.1646904335787995,
          0.07633334443096883,
          -0.24365148414768317,
          -0.21793316229797463,
          -0.19351906307410247,
          -0.27261891657823845,
          -0.20394680279984403,
          -0.23010497505529762,
          -0.21528043574159617,
          1.4789747354767226,
          -0.2571467428893359,
          -0.2393240606878769,
          -0.22857624356382011,
          -0.2204916166654671,
          0.5674550226969711,
          0.014303328054855766,
          -0.1566834079688623,
          0.18034874284390487,
          -0.23205574628057762,
          -0.15444090527827317,
          -0.258496747876771,
          1.2924600017297516,
          -0.2524532135559264,
          0.10519292756789582,
          0.10563301833000302,
          -0.21655319149503677,
          0.12454852064259218,
          0.16298553290541135,
          -0.2066872229756233,
          -0.19845933469989369,
          0.5196392888354828,
          -0.22853308339678913,
          1.935875058935256,
          -0.17966244331533496,
          0.5521847508269636,
          -0.049882419845590616,
          -0.17459722780341566,
          -0.04522149478832649,
          -0.2728221992049507,
          -0.20136878656283475,
          -0.26355813254056826,
          -0.23005838955647323,
          -0.04174895745613329,
          0.4202484063826643,
          -0.23912035061191897,
          0.11012570241558524,
          -0.012040618309759787,
          0.534123689782118,
          -0.2126016497194565,
          -0.2703754593098598,
          0.04758654357033608,
          -0.011933263994668803,
          0.37583456942451754,
          -0.21099155303738085,
          -0.2382814324372566,
          -0.20738604030545585,
          -0.2291659136071863,
          0.08187705299887789,
          -0.040953767640730124,
          0.28969497192276966,
          0.1580681256950008,
          -0.2093583900800951,
          -0.2325318608565834,
          -0.26575318506903395,
          -0.22477204893106964,
          -0.17312374165447297,
          -0.06190372714086964,
          -0.21583609951447363,
          0.34091936023554154,
          0.09989604035656979,
          0.2968096450182574,
          -0.270855983690441,
          -0.05820399000405524,
          -0.07239070066200355,
          -0.2080957126098366,
          0.1260763622840594,
          -0.1735399844302291,
          -0.030841637866635522,
          0.30399976258396644,
          -0.2156042646179717,
          0.07789382572351565,
          -0.23520872825449482,
          -0.20700146888252788,
          -0.22400527064247605,
          -0.2501921472603969,
          0.24612932631637915,
          -0.21893703856245603,
          0.2656268992724663,
          -0.2722272563173916,
          -0.22534756679775225,
          1.6763248788480676,
          1.8959078486020866,
          1.910049683380773,
          1.5437191194438882,
          -0.22045032576470333,
          0.0831325811289182,
          -0.2357022899721711,
          -0.25991817470042033,
          -0.236664049501224,
          -0.20609773733612485,
          -0.263192026666965,
          0.027004830657115814,
          -0.2064410925363559,
          -0.001201664704065558,
          -0.26474373156795733,
          0.03815444924164896,
          0.05519160399977051,
          -0.1593589848779093,
          -0.22647535051766907,
          0.08710799581341405,
          -0.19688648521623173,
          -0.26955167940834474,
          -0.2705312917744474,
          -0.2069171074330647,
          2.136026724511061,
          0.03646466099391318,
          -0.23546772200526264,
          -0.21327571273095888,
          -0.2452074757964044,
          0.4292307521941737,
          0.7561709237932543,
          0.2089548254947802,
          -0.20790565939685088,
          -0.2762774380233277,
          -0.01149806921513211,
          -0.22650085411521567,
          -0.2191460214826071,
          -0.22764791220796315,
          -0.21563796811974073,
          0.5032782493284932,
          0.5322002378469025,
          0.11767771462508943,
          -0.2555280696434891,
          -0.022269749705287206,
          -0.26673279743513656,
          0.7042172925280203,
          0.4534644641856058,
          -0.2326302764271143,
          -0.2528007558245894,
          -0.26838035723816656,
          0.1542366969582023,
          -0.22959432459741663,
          -0.2099903604982374,
          0.19432952510544002,
          -0.23943847919485464,
          -0.2532998438101109,
          1.7201607201272586,
          -0.2134045910543843,
          -0.20711622330057997,
          -0.2572170434041288,
          0.07228840091880244,
          -0.19160229974299225,
          0.08386363829637625,
          -0.04166038143797642,
          -0.030490992547846436,
          -0.24064321992447657,
          -0.22486802688995325,
          -0.2140079244781655,
          -0.26728632636508604,
          0.2847275722339129,
          0.3710417583228671,
          0.20341089023865713,
          -0.2754308077691432,
          -0.2348568791079171,
          0.09717405474730748,
          0.9142800727681298,
          -0.2218637757095844,
          -0.2773300549387986,
          -0.2599884752152133,
          -0.23245885630721502,
          -0.23458394423196172,
          -0.23054535565789738,
          1.2864161869597506,
          -0.2421149191435195,
          0.0581583532755297,
          -0.2561230125310482,
          -0.22943274087064056,
          -0.18851341332664928,
          -0.07264526341725004,
          -0.266938784096423,
          -0.23785393527634227,
          -0.2744926093606503,
          0.10552042724023308,
          -0.27687238091088684,
          -0.2704168732674693,
          -0.275476508474482,
          -0.27026104080288177,
          -0.21876875806750337,
          -0.26776685074566725,
          -0.26563876656205604,
          -0.19966337427537698,
          0.30051014961260214,
          -0.2059603454196315,
          -0.2667142338301964,
          -0.24349778490234184,
          1.4071088150841826,
          0.0385145119481579,
          -0.21547557069841367,
          0.14446963932303125,
          -0.21600848379791918,
          0.02417195944057073,
          0.03261588165805046,
          -0.0450299412054112,
          0.8043276235482643,
          -0.2129039065639158,
          -0.2579933731435202,
          -0.035176328270581696,
          -0.1987281721257485,
          0.008468992970039795,
          1.7097362962892073,
          -0.2755452262761211,
          -0.23970015522633065,
          0.19438104916106472,
          -0.14290719882290284,
          -0.23275339473375994,
          -0.2568509375305255,
          0.04668862017181253,
          -0.24653092178073358,
          -0.2501048658538176,
          -0.27616301951634975,
          -0.21721147592991705,
          -0.2109478624944426,
          -0.26907115502776346,
          -0.04044933795326397,
          1.3641413963082805,
          -0.20520698908975538,
          -0.2123256984544511,
          -0.03223904471899409,
          -0.1593912613837273,
          -0.22325747123995782,
          -0.21011079183218057,
          -0.013574504226093227,
          -0.2665955285754892,
          -0.20849190573210563,
          -0.2595265144395724,
          0.5311921387587171,
          -0.24522529959762324,
          0.12801822974852273,
          -0.20684680691827176,
          -0.22909647613201123,
          -0.22894675924199875,
          -0.27524767146052626,
          -0.24594538946073244,
          -0.26836179363322643,
          0.15210017778706317,
          -0.18191598049057867,
          0.09881231450530899,
          -0.04258535043274375,
          -0.26421575702525263,
          -0.01765462562147621,
          -0.2051299408380371,
          -0.20609228008806418,
          0.3714846540323726,
          -0.19850849063201703,
          -0.16302360030620738,
          0.15399545118956176,
          -0.2300648312773163,
          -0.2622681051156829,
          0.13998681349187958,
          -0.20824321462434497,
          -0.22770577686050242,
          0.40417551020776704,
          0.5252726137104193,
          -0.2717281683318702,
          1.4876518581727765,
          -0.25346266705700293,
          0.2780744498796959,
          -0.2311688798510785,
          0.27211538862176426,
          -0.23575526640213987,
          -0.2627300658913241,
          -0.19031122487462165,
          0.2347273321895848,
          -0.2678812692526452,
          0.13531608089839556,
          -0.22837167044824447,
          -0.22263615298863906,
          -0.2718127457038742,
          -0.20047053938733092,
          -0.1943371426821777,
          1.3236265586624345,
          -0.23067977511035326,
          0.037627445575624564,
          -0.22116838371154485,
          -0.24017639285918274,
          -0.2369257255327,
          -0.2186543395605254,
          -0.22847902608482065,
          -0.18464083638859494,
          -0.2801014867498832,
          -0.2700322037889259,
          -0.24728773333739415,
          -0.22678700509656774,
          -0.2422293376504974,
          -0.2415857050806988,
          -0.22751064334831583,
          -0.21234071529443405,
          -0.0813860990679744,
          -0.26200214089184665,
          -0.18824622116991283,
          -0.26337341351879734,
          -0.23019781338923442,
          -0.013169229038547904,
          0.11809527372894316,
          -0.25840788375703766,
          -0.1890970752011233,
          0.5631685806581452,
          -0.19531933602600973,
          0.2439638910001841,
          0.5164777312042637,
          -0.04340510210431746,
          -0.2705084414217779,
          1.5508314966728454,
          -0.22461320007743193,
          -0.20472602911880294,
          -0.24882516138117552,
          0.03313793288771222,
          -0.2199346874049551,
          0.270076465782854,
          0.04636124038833013,
          -0.24927950323914858,
          -0.22984294460624335,
          0.3100624079763344,
          0.32478689687593704,
          -0.20636230832348662,
          -0.2765062750372834,
          0.32527139245603237,
          0.10568325132392295,
          -0.26698718883633715,
          0.11678656899362337,
          -0.19879118963394773,
          -0.23354433399407326,
          0.18721738332502819,
          -0.023690421309740573,
          -0.006455662947354075,
          -0.24861060122443066,
          -0.2173166392373734,
          -0.05817469818799044,
          -0.225648643377074,
          0.9117556447406087,
          -0.20700288242823853,
          -0.25641453114212925,
          -0.24852173710469747,
          -0.27673511205123935,
          -0.02871156471156962,
          -0.19472118750840922,
          -0.2346967598956003,
          -0.26503953692676757,
          0.1072340561985415,
          -0.17876299851666108,
          -0.23217016478755514,
          0.7562282378823558,
          -0.2251674688111029,
          -0.2674235952247334,
          -0.23851026945121237,
          -0.187517990154353,
          -0.23541201088120597,
          -0.0026477350855991827,
          -0.22266985504577713,
          -0.22964301427965625,
          0.19052233421382492,
          -0.23072818671495296,
          0.43079965439467993,
          0.27000814095331443,
          -0.14467256708154555,
          -0.2234685063856126,
          -0.22609620730697083,
          -0.23848171718142153,
          -0.19017921432171883,
          -0.2738976664730911,
          -0.22445006104965137,
          0.31018800489347953,
          0.13671081727160683,
          -0.1865382547314045,
          -0.2238783044258356,
          0.20658180168146906,
          -0.2630733214122578,
          -0.2558898887693631,
          -0.2266701190829507,
          1.2700819162249841,
          -0.25932323181286127,
          1.3688588469944436,
          1.5075861517441183,
          -0.2375876367651136,
          -0.2771267723120874,
          -0.2202170789461724,
          0.09957965242352854,
          1.99653773514567,
          0.0986957435733181,
          -0.20368824463944754,
          -0.2627115022863838,
          -0.2285861106164561,
          0.20738901137994664,
          -0.20560623674959796,
          -0.2324218521541806,
          1.339314565935075,
          -0.21720277937761276,
          0.7943939431249666,
          -0.22779859344057246,
          -0.2004518557938574,
          -0.2702796044078221,
          0.07525290229671781,
          -0.21338118857194055,
          1.2870571110018054,
          0.11003010217327518,
          -0.23598966034345362,
          -0.22968229501801934,
          -0.03617008477484943,
          -0.2772156364318206,
          -0.2127103679329945,
          -0.2691855735347415,
          -0.27662069354426155,
          -0.2595308011873017,
          -0.2757281958411074,
          0.18497884897373565,
          -0.22501343527836962,
          -0.24596486545035773,
          -0.22906931890142704,
          -0.2487064561264683,
          -0.24092503336840124,
          -0.26188772238486874,
          1.5693393488418352,
          -0.22186463874920231,
          -0.2050348210250101,
          -0.23543057448614624,
          -0.23605267622797116,
          0.021624029557398172,
          -0.2378009080566753,
          -0.21322020632000585,
          -0.2601512984621054,
          -0.22979671352499728,
          -0.20318357941733212,
          1.6728816055947744,
          -0.23283929000677792,
          -0.23588824851405799,
          1.7081067291241445,
          -0.20692280772650462,
          -0.1963384338435789,
          -0.22916248989907495,
          -0.2709704021974188,
          1.8782564279891256,
          -0.19137799559045762,
          -0.208952576018882,
          -0.23787604582529026,
          -0.034062889883709375,
          -0.07176589750870391,
          0.07277044148962973,
          0.09773447437235462,
          -0.20352671188142016,
          0.08612323742621268,
          -0.23793046483680066,
          -0.08265617065957799,
          -0.26866188573976585,
          -0.26920413713968167,
          -0.21780770930634086,
          0.18502732497076896,
          -0.21901615868639943,
          -0.2272433886356148,
          -0.1929537654485139,
          -0.257627267269917
         ],
         "yaxis": "y"
        }
       ],
       "layout": {
        "coloraxis": {
         "colorbar": {
          "title": {
           "text": "Class"
          }
         },
         "colorscale": [
          [
           0,
           "#0d0887"
          ],
          [
           0.1111111111111111,
           "#46039f"
          ],
          [
           0.2222222222222222,
           "#7201a8"
          ],
          [
           0.3333333333333333,
           "#9c179e"
          ],
          [
           0.4444444444444444,
           "#bd3786"
          ],
          [
           0.5555555555555556,
           "#d8576b"
          ],
          [
           0.6666666666666666,
           "#ed7953"
          ],
          [
           0.7777777777777778,
           "#fb9f3a"
          ],
          [
           0.8888888888888888,
           "#fdca26"
          ],
          [
           1,
           "#f0f921"
          ]
         ]
        },
        "legend": {
         "tracegroupgap": 0
        },
        "template": {
         "data": {
          "bar": [
           {
            "error_x": {
             "color": "#2a3f5f"
            },
            "error_y": {
             "color": "#2a3f5f"
            },
            "marker": {
             "line": {
              "color": "#E5ECF6",
              "width": 0.5
             },
             "pattern": {
              "fillmode": "overlay",
              "size": 10,
              "solidity": 0.2
             }
            },
            "type": "bar"
           }
          ],
          "barpolar": [
           {
            "marker": {
             "line": {
              "color": "#E5ECF6",
              "width": 0.5
             },
             "pattern": {
              "fillmode": "overlay",
              "size": 10,
              "solidity": 0.2
             }
            },
            "type": "barpolar"
           }
          ],
          "carpet": [
           {
            "aaxis": {
             "endlinecolor": "#2a3f5f",
             "gridcolor": "white",
             "linecolor": "white",
             "minorgridcolor": "white",
             "startlinecolor": "#2a3f5f"
            },
            "baxis": {
             "endlinecolor": "#2a3f5f",
             "gridcolor": "white",
             "linecolor": "white",
             "minorgridcolor": "white",
             "startlinecolor": "#2a3f5f"
            },
            "type": "carpet"
           }
          ],
          "choropleth": [
           {
            "colorbar": {
             "outlinewidth": 0,
             "ticks": ""
            },
            "type": "choropleth"
           }
          ],
          "contour": [
           {
            "colorbar": {
             "outlinewidth": 0,
             "ticks": ""
            },
            "colorscale": [
             [
              0,
              "#0d0887"
             ],
             [
              0.1111111111111111,
              "#46039f"
             ],
             [
              0.2222222222222222,
              "#7201a8"
             ],
             [
              0.3333333333333333,
              "#9c179e"
             ],
             [
              0.4444444444444444,
              "#bd3786"
             ],
             [
              0.5555555555555556,
              "#d8576b"
             ],
             [
              0.6666666666666666,
              "#ed7953"
             ],
             [
              0.7777777777777778,
              "#fb9f3a"
             ],
             [
              0.8888888888888888,
              "#fdca26"
             ],
             [
              1,
              "#f0f921"
             ]
            ],
            "type": "contour"
           }
          ],
          "contourcarpet": [
           {
            "colorbar": {
             "outlinewidth": 0,
             "ticks": ""
            },
            "type": "contourcarpet"
           }
          ],
          "heatmap": [
           {
            "colorbar": {
             "outlinewidth": 0,
             "ticks": ""
            },
            "colorscale": [
             [
              0,
              "#0d0887"
             ],
             [
              0.1111111111111111,
              "#46039f"
             ],
             [
              0.2222222222222222,
              "#7201a8"
             ],
             [
              0.3333333333333333,
              "#9c179e"
             ],
             [
              0.4444444444444444,
              "#bd3786"
             ],
             [
              0.5555555555555556,
              "#d8576b"
             ],
             [
              0.6666666666666666,
              "#ed7953"
             ],
             [
              0.7777777777777778,
              "#fb9f3a"
             ],
             [
              0.8888888888888888,
              "#fdca26"
             ],
             [
              1,
              "#f0f921"
             ]
            ],
            "type": "heatmap"
           }
          ],
          "heatmapgl": [
           {
            "colorbar": {
             "outlinewidth": 0,
             "ticks": ""
            },
            "colorscale": [
             [
              0,
              "#0d0887"
             ],
             [
              0.1111111111111111,
              "#46039f"
             ],
             [
              0.2222222222222222,
              "#7201a8"
             ],
             [
              0.3333333333333333,
              "#9c179e"
             ],
             [
              0.4444444444444444,
              "#bd3786"
             ],
             [
              0.5555555555555556,
              "#d8576b"
             ],
             [
              0.6666666666666666,
              "#ed7953"
             ],
             [
              0.7777777777777778,
              "#fb9f3a"
             ],
             [
              0.8888888888888888,
              "#fdca26"
             ],
             [
              1,
              "#f0f921"
             ]
            ],
            "type": "heatmapgl"
           }
          ],
          "histogram": [
           {
            "marker": {
             "pattern": {
              "fillmode": "overlay",
              "size": 10,
              "solidity": 0.2
             }
            },
            "type": "histogram"
           }
          ],
          "histogram2d": [
           {
            "colorbar": {
             "outlinewidth": 0,
             "ticks": ""
            },
            "colorscale": [
             [
              0,
              "#0d0887"
             ],
             [
              0.1111111111111111,
              "#46039f"
             ],
             [
              0.2222222222222222,
              "#7201a8"
             ],
             [
              0.3333333333333333,
              "#9c179e"
             ],
             [
              0.4444444444444444,
              "#bd3786"
             ],
             [
              0.5555555555555556,
              "#d8576b"
             ],
             [
              0.6666666666666666,
              "#ed7953"
             ],
             [
              0.7777777777777778,
              "#fb9f3a"
             ],
             [
              0.8888888888888888,
              "#fdca26"
             ],
             [
              1,
              "#f0f921"
             ]
            ],
            "type": "histogram2d"
           }
          ],
          "histogram2dcontour": [
           {
            "colorbar": {
             "outlinewidth": 0,
             "ticks": ""
            },
            "colorscale": [
             [
              0,
              "#0d0887"
             ],
             [
              0.1111111111111111,
              "#46039f"
             ],
             [
              0.2222222222222222,
              "#7201a8"
             ],
             [
              0.3333333333333333,
              "#9c179e"
             ],
             [
              0.4444444444444444,
              "#bd3786"
             ],
             [
              0.5555555555555556,
              "#d8576b"
             ],
             [
              0.6666666666666666,
              "#ed7953"
             ],
             [
              0.7777777777777778,
              "#fb9f3a"
             ],
             [
              0.8888888888888888,
              "#fdca26"
             ],
             [
              1,
              "#f0f921"
             ]
            ],
            "type": "histogram2dcontour"
           }
          ],
          "mesh3d": [
           {
            "colorbar": {
             "outlinewidth": 0,
             "ticks": ""
            },
            "type": "mesh3d"
           }
          ],
          "parcoords": [
           {
            "line": {
             "colorbar": {
              "outlinewidth": 0,
              "ticks": ""
             }
            },
            "type": "parcoords"
           }
          ],
          "pie": [
           {
            "automargin": true,
            "type": "pie"
           }
          ],
          "scatter": [
           {
            "fillpattern": {
             "fillmode": "overlay",
             "size": 10,
             "solidity": 0.2
            },
            "type": "scatter"
           }
          ],
          "scatter3d": [
           {
            "line": {
             "colorbar": {
              "outlinewidth": 0,
              "ticks": ""
             }
            },
            "marker": {
             "colorbar": {
              "outlinewidth": 0,
              "ticks": ""
             }
            },
            "type": "scatter3d"
           }
          ],
          "scattercarpet": [
           {
            "marker": {
             "colorbar": {
              "outlinewidth": 0,
              "ticks": ""
             }
            },
            "type": "scattercarpet"
           }
          ],
          "scattergeo": [
           {
            "marker": {
             "colorbar": {
              "outlinewidth": 0,
              "ticks": ""
             }
            },
            "type": "scattergeo"
           }
          ],
          "scattergl": [
           {
            "marker": {
             "colorbar": {
              "outlinewidth": 0,
              "ticks": ""
             }
            },
            "type": "scattergl"
           }
          ],
          "scattermapbox": [
           {
            "marker": {
             "colorbar": {
              "outlinewidth": 0,
              "ticks": ""
             }
            },
            "type": "scattermapbox"
           }
          ],
          "scatterpolar": [
           {
            "marker": {
             "colorbar": {
              "outlinewidth": 0,
              "ticks": ""
             }
            },
            "type": "scatterpolar"
           }
          ],
          "scatterpolargl": [
           {
            "marker": {
             "colorbar": {
              "outlinewidth": 0,
              "ticks": ""
             }
            },
            "type": "scatterpolargl"
           }
          ],
          "scatterternary": [
           {
            "marker": {
             "colorbar": {
              "outlinewidth": 0,
              "ticks": ""
             }
            },
            "type": "scatterternary"
           }
          ],
          "surface": [
           {
            "colorbar": {
             "outlinewidth": 0,
             "ticks": ""
            },
            "colorscale": [
             [
              0,
              "#0d0887"
             ],
             [
              0.1111111111111111,
              "#46039f"
             ],
             [
              0.2222222222222222,
              "#7201a8"
             ],
             [
              0.3333333333333333,
              "#9c179e"
             ],
             [
              0.4444444444444444,
              "#bd3786"
             ],
             [
              0.5555555555555556,
              "#d8576b"
             ],
             [
              0.6666666666666666,
              "#ed7953"
             ],
             [
              0.7777777777777778,
              "#fb9f3a"
             ],
             [
              0.8888888888888888,
              "#fdca26"
             ],
             [
              1,
              "#f0f921"
             ]
            ],
            "type": "surface"
           }
          ],
          "table": [
           {
            "cells": {
             "fill": {
              "color": "#EBF0F8"
             },
             "line": {
              "color": "white"
             }
            },
            "header": {
             "fill": {
              "color": "#C8D4E3"
             },
             "line": {
              "color": "white"
             }
            },
            "type": "table"
           }
          ]
         },
         "layout": {
          "annotationdefaults": {
           "arrowcolor": "#2a3f5f",
           "arrowhead": 0,
           "arrowwidth": 1
          },
          "autotypenumbers": "strict",
          "coloraxis": {
           "colorbar": {
            "outlinewidth": 0,
            "ticks": ""
           }
          },
          "colorscale": {
           "diverging": [
            [
             0,
             "#8e0152"
            ],
            [
             0.1,
             "#c51b7d"
            ],
            [
             0.2,
             "#de77ae"
            ],
            [
             0.3,
             "#f1b6da"
            ],
            [
             0.4,
             "#fde0ef"
            ],
            [
             0.5,
             "#f7f7f7"
            ],
            [
             0.6,
             "#e6f5d0"
            ],
            [
             0.7,
             "#b8e186"
            ],
            [
             0.8,
             "#7fbc41"
            ],
            [
             0.9,
             "#4d9221"
            ],
            [
             1,
             "#276419"
            ]
           ],
           "sequential": [
            [
             0,
             "#0d0887"
            ],
            [
             0.1111111111111111,
             "#46039f"
            ],
            [
             0.2222222222222222,
             "#7201a8"
            ],
            [
             0.3333333333333333,
             "#9c179e"
            ],
            [
             0.4444444444444444,
             "#bd3786"
            ],
            [
             0.5555555555555556,
             "#d8576b"
            ],
            [
             0.6666666666666666,
             "#ed7953"
            ],
            [
             0.7777777777777778,
             "#fb9f3a"
            ],
            [
             0.8888888888888888,
             "#fdca26"
            ],
            [
             1,
             "#f0f921"
            ]
           ],
           "sequentialminus": [
            [
             0,
             "#0d0887"
            ],
            [
             0.1111111111111111,
             "#46039f"
            ],
            [
             0.2222222222222222,
             "#7201a8"
            ],
            [
             0.3333333333333333,
             "#9c179e"
            ],
            [
             0.4444444444444444,
             "#bd3786"
            ],
            [
             0.5555555555555556,
             "#d8576b"
            ],
            [
             0.6666666666666666,
             "#ed7953"
            ],
            [
             0.7777777777777778,
             "#fb9f3a"
            ],
            [
             0.8888888888888888,
             "#fdca26"
            ],
            [
             1,
             "#f0f921"
            ]
           ]
          },
          "colorway": [
           "#636efa",
           "#EF553B",
           "#00cc96",
           "#ab63fa",
           "#FFA15A",
           "#19d3f3",
           "#FF6692",
           "#B6E880",
           "#FF97FF",
           "#FECB52"
          ],
          "font": {
           "color": "#2a3f5f"
          },
          "geo": {
           "bgcolor": "white",
           "lakecolor": "white",
           "landcolor": "#E5ECF6",
           "showlakes": true,
           "showland": true,
           "subunitcolor": "white"
          },
          "hoverlabel": {
           "align": "left"
          },
          "hovermode": "closest",
          "mapbox": {
           "style": "light"
          },
          "paper_bgcolor": "white",
          "plot_bgcolor": "#E5ECF6",
          "polar": {
           "angularaxis": {
            "gridcolor": "white",
            "linecolor": "white",
            "ticks": ""
           },
           "bgcolor": "#E5ECF6",
           "radialaxis": {
            "gridcolor": "white",
            "linecolor": "white",
            "ticks": ""
           }
          },
          "scene": {
           "xaxis": {
            "backgroundcolor": "#E5ECF6",
            "gridcolor": "white",
            "gridwidth": 2,
            "linecolor": "white",
            "showbackground": true,
            "ticks": "",
            "zerolinecolor": "white"
           },
           "yaxis": {
            "backgroundcolor": "#E5ECF6",
            "gridcolor": "white",
            "gridwidth": 2,
            "linecolor": "white",
            "showbackground": true,
            "ticks": "",
            "zerolinecolor": "white"
           },
           "zaxis": {
            "backgroundcolor": "#E5ECF6",
            "gridcolor": "white",
            "gridwidth": 2,
            "linecolor": "white",
            "showbackground": true,
            "ticks": "",
            "zerolinecolor": "white"
           }
          },
          "shapedefaults": {
           "line": {
            "color": "#2a3f5f"
           }
          },
          "ternary": {
           "aaxis": {
            "gridcolor": "white",
            "linecolor": "white",
            "ticks": ""
           },
           "baxis": {
            "gridcolor": "white",
            "linecolor": "white",
            "ticks": ""
           },
           "bgcolor": "#E5ECF6",
           "caxis": {
            "gridcolor": "white",
            "linecolor": "white",
            "ticks": ""
           }
          },
          "title": {
           "x": 0.05
          },
          "xaxis": {
           "automargin": true,
           "gridcolor": "white",
           "linecolor": "white",
           "ticks": "",
           "title": {
            "standoff": 15
           },
           "zerolinecolor": "white",
           "zerolinewidth": 2
          },
          "yaxis": {
           "automargin": true,
           "gridcolor": "white",
           "linecolor": "white",
           "ticks": "",
           "title": {
            "standoff": 15
           },
           "zerolinecolor": "white",
           "zerolinewidth": 2
          }
         }
        },
        "title": {
         "text": "PCA Visualization of Original Training Set (No SMOTE)"
        },
        "xaxis": {
         "anchor": "y",
         "domain": [
          0,
          1
         ],
         "title": {
          "text": "PCA1"
         }
        },
        "yaxis": {
         "anchor": "x",
         "domain": [
          0,
          1
         ],
         "title": {
          "text": "PCA2"
         }
        }
       }
      }
     },
     "metadata": {},
     "output_type": "display_data"
    }
   ],
   "source": [
    "# # Standardize the data\n",
    "# scaler = StandardScaler()\n",
    "# X_train_scaled = scaler.fit_transform(X_train)\n",
    "\n",
    "from sklearn.preprocessing import MinMaxScaler\n",
    "\n",
    "# Scale data\n",
    "scaler = MinMaxScaler()\n",
    "X_train_scaled = scaler.fit_transform(X_train)\n",
    "\n",
    "# Use PCA for dimensionality reduction\n",
    "pca = PCA(n_components=2)\n",
    "X_train_pca = pca.fit_transform(X_train_scaled)\n",
    "\n",
    "# Combine the reduced-dimensional data and target variable into a DataFrame\n",
    "df_pca_no_smote = pd.DataFrame(data={'PCA1': X_train_pca[:, 0], 'PCA2': X_train_pca[:, 1], 'Class': y_train})\n",
    "\n",
    "# Create a scatter plot using Plotly Express\n",
    "fig_no_smote = px.scatter(df_pca_no_smote, x='PCA1', y='PCA2', color='Class', title='PCA Visualization of Original Training Set (No SMOTE)')\n",
    "\n",
    "# Show the plot\n",
    "fig_no_smote.show()\n"
   ]
  },
  {
   "cell_type": "markdown",
   "metadata": {},
   "source": [
    "### Handling Imbalanced Data -- SMOTE"
   ]
  },
  {
   "cell_type": "code",
   "execution_count": 96,
   "metadata": {},
   "outputs": [
    {
     "data": {
      "application/vnd.plotly.v1+json": {
       "config": {
        "plotlyServerURL": "https://plot.ly"
       },
       "data": [
        {
         "domain": {
          "x": [
           0,
           1
          ],
          "y": [
           0,
           1
          ]
         },
         "hovertemplate": "Class=%{label}<br>Count=%{value}<extra></extra>",
         "labels": [
          "Healthy",
          "Cervical Cancer"
         ],
         "legendgroup": "",
         "name": "",
         "showlegend": true,
         "type": "pie",
         "values": [
          433,
          433
         ]
        }
       ],
       "layout": {
        "legend": {
         "tracegroupgap": 0
        },
        "template": {
         "data": {
          "bar": [
           {
            "error_x": {
             "color": "#2a3f5f"
            },
            "error_y": {
             "color": "#2a3f5f"
            },
            "marker": {
             "line": {
              "color": "#E5ECF6",
              "width": 0.5
             },
             "pattern": {
              "fillmode": "overlay",
              "size": 10,
              "solidity": 0.2
             }
            },
            "type": "bar"
           }
          ],
          "barpolar": [
           {
            "marker": {
             "line": {
              "color": "#E5ECF6",
              "width": 0.5
             },
             "pattern": {
              "fillmode": "overlay",
              "size": 10,
              "solidity": 0.2
             }
            },
            "type": "barpolar"
           }
          ],
          "carpet": [
           {
            "aaxis": {
             "endlinecolor": "#2a3f5f",
             "gridcolor": "white",
             "linecolor": "white",
             "minorgridcolor": "white",
             "startlinecolor": "#2a3f5f"
            },
            "baxis": {
             "endlinecolor": "#2a3f5f",
             "gridcolor": "white",
             "linecolor": "white",
             "minorgridcolor": "white",
             "startlinecolor": "#2a3f5f"
            },
            "type": "carpet"
           }
          ],
          "choropleth": [
           {
            "colorbar": {
             "outlinewidth": 0,
             "ticks": ""
            },
            "type": "choropleth"
           }
          ],
          "contour": [
           {
            "colorbar": {
             "outlinewidth": 0,
             "ticks": ""
            },
            "colorscale": [
             [
              0,
              "#0d0887"
             ],
             [
              0.1111111111111111,
              "#46039f"
             ],
             [
              0.2222222222222222,
              "#7201a8"
             ],
             [
              0.3333333333333333,
              "#9c179e"
             ],
             [
              0.4444444444444444,
              "#bd3786"
             ],
             [
              0.5555555555555556,
              "#d8576b"
             ],
             [
              0.6666666666666666,
              "#ed7953"
             ],
             [
              0.7777777777777778,
              "#fb9f3a"
             ],
             [
              0.8888888888888888,
              "#fdca26"
             ],
             [
              1,
              "#f0f921"
             ]
            ],
            "type": "contour"
           }
          ],
          "contourcarpet": [
           {
            "colorbar": {
             "outlinewidth": 0,
             "ticks": ""
            },
            "type": "contourcarpet"
           }
          ],
          "heatmap": [
           {
            "colorbar": {
             "outlinewidth": 0,
             "ticks": ""
            },
            "colorscale": [
             [
              0,
              "#0d0887"
             ],
             [
              0.1111111111111111,
              "#46039f"
             ],
             [
              0.2222222222222222,
              "#7201a8"
             ],
             [
              0.3333333333333333,
              "#9c179e"
             ],
             [
              0.4444444444444444,
              "#bd3786"
             ],
             [
              0.5555555555555556,
              "#d8576b"
             ],
             [
              0.6666666666666666,
              "#ed7953"
             ],
             [
              0.7777777777777778,
              "#fb9f3a"
             ],
             [
              0.8888888888888888,
              "#fdca26"
             ],
             [
              1,
              "#f0f921"
             ]
            ],
            "type": "heatmap"
           }
          ],
          "heatmapgl": [
           {
            "colorbar": {
             "outlinewidth": 0,
             "ticks": ""
            },
            "colorscale": [
             [
              0,
              "#0d0887"
             ],
             [
              0.1111111111111111,
              "#46039f"
             ],
             [
              0.2222222222222222,
              "#7201a8"
             ],
             [
              0.3333333333333333,
              "#9c179e"
             ],
             [
              0.4444444444444444,
              "#bd3786"
             ],
             [
              0.5555555555555556,
              "#d8576b"
             ],
             [
              0.6666666666666666,
              "#ed7953"
             ],
             [
              0.7777777777777778,
              "#fb9f3a"
             ],
             [
              0.8888888888888888,
              "#fdca26"
             ],
             [
              1,
              "#f0f921"
             ]
            ],
            "type": "heatmapgl"
           }
          ],
          "histogram": [
           {
            "marker": {
             "pattern": {
              "fillmode": "overlay",
              "size": 10,
              "solidity": 0.2
             }
            },
            "type": "histogram"
           }
          ],
          "histogram2d": [
           {
            "colorbar": {
             "outlinewidth": 0,
             "ticks": ""
            },
            "colorscale": [
             [
              0,
              "#0d0887"
             ],
             [
              0.1111111111111111,
              "#46039f"
             ],
             [
              0.2222222222222222,
              "#7201a8"
             ],
             [
              0.3333333333333333,
              "#9c179e"
             ],
             [
              0.4444444444444444,
              "#bd3786"
             ],
             [
              0.5555555555555556,
              "#d8576b"
             ],
             [
              0.6666666666666666,
              "#ed7953"
             ],
             [
              0.7777777777777778,
              "#fb9f3a"
             ],
             [
              0.8888888888888888,
              "#fdca26"
             ],
             [
              1,
              "#f0f921"
             ]
            ],
            "type": "histogram2d"
           }
          ],
          "histogram2dcontour": [
           {
            "colorbar": {
             "outlinewidth": 0,
             "ticks": ""
            },
            "colorscale": [
             [
              0,
              "#0d0887"
             ],
             [
              0.1111111111111111,
              "#46039f"
             ],
             [
              0.2222222222222222,
              "#7201a8"
             ],
             [
              0.3333333333333333,
              "#9c179e"
             ],
             [
              0.4444444444444444,
              "#bd3786"
             ],
             [
              0.5555555555555556,
              "#d8576b"
             ],
             [
              0.6666666666666666,
              "#ed7953"
             ],
             [
              0.7777777777777778,
              "#fb9f3a"
             ],
             [
              0.8888888888888888,
              "#fdca26"
             ],
             [
              1,
              "#f0f921"
             ]
            ],
            "type": "histogram2dcontour"
           }
          ],
          "mesh3d": [
           {
            "colorbar": {
             "outlinewidth": 0,
             "ticks": ""
            },
            "type": "mesh3d"
           }
          ],
          "parcoords": [
           {
            "line": {
             "colorbar": {
              "outlinewidth": 0,
              "ticks": ""
             }
            },
            "type": "parcoords"
           }
          ],
          "pie": [
           {
            "automargin": true,
            "type": "pie"
           }
          ],
          "scatter": [
           {
            "fillpattern": {
             "fillmode": "overlay",
             "size": 10,
             "solidity": 0.2
            },
            "type": "scatter"
           }
          ],
          "scatter3d": [
           {
            "line": {
             "colorbar": {
              "outlinewidth": 0,
              "ticks": ""
             }
            },
            "marker": {
             "colorbar": {
              "outlinewidth": 0,
              "ticks": ""
             }
            },
            "type": "scatter3d"
           }
          ],
          "scattercarpet": [
           {
            "marker": {
             "colorbar": {
              "outlinewidth": 0,
              "ticks": ""
             }
            },
            "type": "scattercarpet"
           }
          ],
          "scattergeo": [
           {
            "marker": {
             "colorbar": {
              "outlinewidth": 0,
              "ticks": ""
             }
            },
            "type": "scattergeo"
           }
          ],
          "scattergl": [
           {
            "marker": {
             "colorbar": {
              "outlinewidth": 0,
              "ticks": ""
             }
            },
            "type": "scattergl"
           }
          ],
          "scattermapbox": [
           {
            "marker": {
             "colorbar": {
              "outlinewidth": 0,
              "ticks": ""
             }
            },
            "type": "scattermapbox"
           }
          ],
          "scatterpolar": [
           {
            "marker": {
             "colorbar": {
              "outlinewidth": 0,
              "ticks": ""
             }
            },
            "type": "scatterpolar"
           }
          ],
          "scatterpolargl": [
           {
            "marker": {
             "colorbar": {
              "outlinewidth": 0,
              "ticks": ""
             }
            },
            "type": "scatterpolargl"
           }
          ],
          "scatterternary": [
           {
            "marker": {
             "colorbar": {
              "outlinewidth": 0,
              "ticks": ""
             }
            },
            "type": "scatterternary"
           }
          ],
          "surface": [
           {
            "colorbar": {
             "outlinewidth": 0,
             "ticks": ""
            },
            "colorscale": [
             [
              0,
              "#0d0887"
             ],
             [
              0.1111111111111111,
              "#46039f"
             ],
             [
              0.2222222222222222,
              "#7201a8"
             ],
             [
              0.3333333333333333,
              "#9c179e"
             ],
             [
              0.4444444444444444,
              "#bd3786"
             ],
             [
              0.5555555555555556,
              "#d8576b"
             ],
             [
              0.6666666666666666,
              "#ed7953"
             ],
             [
              0.7777777777777778,
              "#fb9f3a"
             ],
             [
              0.8888888888888888,
              "#fdca26"
             ],
             [
              1,
              "#f0f921"
             ]
            ],
            "type": "surface"
           }
          ],
          "table": [
           {
            "cells": {
             "fill": {
              "color": "#EBF0F8"
             },
             "line": {
              "color": "white"
             }
            },
            "header": {
             "fill": {
              "color": "#C8D4E3"
             },
             "line": {
              "color": "white"
             }
            },
            "type": "table"
           }
          ]
         },
         "layout": {
          "annotationdefaults": {
           "arrowcolor": "#2a3f5f",
           "arrowhead": 0,
           "arrowwidth": 1
          },
          "autotypenumbers": "strict",
          "coloraxis": {
           "colorbar": {
            "outlinewidth": 0,
            "ticks": ""
           }
          },
          "colorscale": {
           "diverging": [
            [
             0,
             "#8e0152"
            ],
            [
             0.1,
             "#c51b7d"
            ],
            [
             0.2,
             "#de77ae"
            ],
            [
             0.3,
             "#f1b6da"
            ],
            [
             0.4,
             "#fde0ef"
            ],
            [
             0.5,
             "#f7f7f7"
            ],
            [
             0.6,
             "#e6f5d0"
            ],
            [
             0.7,
             "#b8e186"
            ],
            [
             0.8,
             "#7fbc41"
            ],
            [
             0.9,
             "#4d9221"
            ],
            [
             1,
             "#276419"
            ]
           ],
           "sequential": [
            [
             0,
             "#0d0887"
            ],
            [
             0.1111111111111111,
             "#46039f"
            ],
            [
             0.2222222222222222,
             "#7201a8"
            ],
            [
             0.3333333333333333,
             "#9c179e"
            ],
            [
             0.4444444444444444,
             "#bd3786"
            ],
            [
             0.5555555555555556,
             "#d8576b"
            ],
            [
             0.6666666666666666,
             "#ed7953"
            ],
            [
             0.7777777777777778,
             "#fb9f3a"
            ],
            [
             0.8888888888888888,
             "#fdca26"
            ],
            [
             1,
             "#f0f921"
            ]
           ],
           "sequentialminus": [
            [
             0,
             "#0d0887"
            ],
            [
             0.1111111111111111,
             "#46039f"
            ],
            [
             0.2222222222222222,
             "#7201a8"
            ],
            [
             0.3333333333333333,
             "#9c179e"
            ],
            [
             0.4444444444444444,
             "#bd3786"
            ],
            [
             0.5555555555555556,
             "#d8576b"
            ],
            [
             0.6666666666666666,
             "#ed7953"
            ],
            [
             0.7777777777777778,
             "#fb9f3a"
            ],
            [
             0.8888888888888888,
             "#fdca26"
            ],
            [
             1,
             "#f0f921"
            ]
           ]
          },
          "colorway": [
           "#636efa",
           "#EF553B",
           "#00cc96",
           "#ab63fa",
           "#FFA15A",
           "#19d3f3",
           "#FF6692",
           "#B6E880",
           "#FF97FF",
           "#FECB52"
          ],
          "font": {
           "color": "#2a3f5f"
          },
          "geo": {
           "bgcolor": "white",
           "lakecolor": "white",
           "landcolor": "#E5ECF6",
           "showlakes": true,
           "showland": true,
           "subunitcolor": "white"
          },
          "hoverlabel": {
           "align": "left"
          },
          "hovermode": "closest",
          "mapbox": {
           "style": "light"
          },
          "paper_bgcolor": "white",
          "plot_bgcolor": "#E5ECF6",
          "polar": {
           "angularaxis": {
            "gridcolor": "white",
            "linecolor": "white",
            "ticks": ""
           },
           "bgcolor": "#E5ECF6",
           "radialaxis": {
            "gridcolor": "white",
            "linecolor": "white",
            "ticks": ""
           }
          },
          "scene": {
           "xaxis": {
            "backgroundcolor": "#E5ECF6",
            "gridcolor": "white",
            "gridwidth": 2,
            "linecolor": "white",
            "showbackground": true,
            "ticks": "",
            "zerolinecolor": "white"
           },
           "yaxis": {
            "backgroundcolor": "#E5ECF6",
            "gridcolor": "white",
            "gridwidth": 2,
            "linecolor": "white",
            "showbackground": true,
            "ticks": "",
            "zerolinecolor": "white"
           },
           "zaxis": {
            "backgroundcolor": "#E5ECF6",
            "gridcolor": "white",
            "gridwidth": 2,
            "linecolor": "white",
            "showbackground": true,
            "ticks": "",
            "zerolinecolor": "white"
           }
          },
          "shapedefaults": {
           "line": {
            "color": "#2a3f5f"
           }
          },
          "ternary": {
           "aaxis": {
            "gridcolor": "white",
            "linecolor": "white",
            "ticks": ""
           },
           "baxis": {
            "gridcolor": "white",
            "linecolor": "white",
            "ticks": ""
           },
           "bgcolor": "#E5ECF6",
           "caxis": {
            "gridcolor": "white",
            "linecolor": "white",
            "ticks": ""
           }
          },
          "title": {
           "x": 0.05
          },
          "xaxis": {
           "automargin": true,
           "gridcolor": "white",
           "linecolor": "white",
           "ticks": "",
           "title": {
            "standoff": 15
           },
           "zerolinecolor": "white",
           "zerolinewidth": 2
          },
          "yaxis": {
           "automargin": true,
           "gridcolor": "white",
           "linecolor": "white",
           "ticks": "",
           "title": {
            "standoff": 15
           },
           "zerolinecolor": "white",
           "zerolinewidth": 2
          }
         }
        },
        "title": {
         "text": "SMOTE Resampled Training Set Target Variable Distribution"
        },
        "width": 700
       }
      }
     },
     "metadata": {},
     "output_type": "display_data"
    },
    {
     "data": {
      "application/vnd.plotly.v1+json": {
       "config": {
        "plotlyServerURL": "https://plot.ly"
       },
       "data": [
        {
         "alignmentgroup": "True",
         "hovertemplate": "Class=%{x}<br>Count=%{y}<extra></extra>",
         "legendgroup": "",
         "marker": {
          "color": "#636efa",
          "pattern": {
           "shape": ""
          }
         },
         "name": "",
         "offsetgroup": "",
         "orientation": "v",
         "showlegend": false,
         "textposition": "auto",
         "type": "bar",
         "x": [
          "Healthy",
          "Cervical Cancer"
         ],
         "xaxis": "x",
         "y": [
          433,
          433
         ],
         "yaxis": "y"
        }
       ],
       "layout": {
        "barmode": "relative",
        "legend": {
         "tracegroupgap": 0
        },
        "template": {
         "data": {
          "bar": [
           {
            "error_x": {
             "color": "#2a3f5f"
            },
            "error_y": {
             "color": "#2a3f5f"
            },
            "marker": {
             "line": {
              "color": "#E5ECF6",
              "width": 0.5
             },
             "pattern": {
              "fillmode": "overlay",
              "size": 10,
              "solidity": 0.2
             }
            },
            "type": "bar"
           }
          ],
          "barpolar": [
           {
            "marker": {
             "line": {
              "color": "#E5ECF6",
              "width": 0.5
             },
             "pattern": {
              "fillmode": "overlay",
              "size": 10,
              "solidity": 0.2
             }
            },
            "type": "barpolar"
           }
          ],
          "carpet": [
           {
            "aaxis": {
             "endlinecolor": "#2a3f5f",
             "gridcolor": "white",
             "linecolor": "white",
             "minorgridcolor": "white",
             "startlinecolor": "#2a3f5f"
            },
            "baxis": {
             "endlinecolor": "#2a3f5f",
             "gridcolor": "white",
             "linecolor": "white",
             "minorgridcolor": "white",
             "startlinecolor": "#2a3f5f"
            },
            "type": "carpet"
           }
          ],
          "choropleth": [
           {
            "colorbar": {
             "outlinewidth": 0,
             "ticks": ""
            },
            "type": "choropleth"
           }
          ],
          "contour": [
           {
            "colorbar": {
             "outlinewidth": 0,
             "ticks": ""
            },
            "colorscale": [
             [
              0,
              "#0d0887"
             ],
             [
              0.1111111111111111,
              "#46039f"
             ],
             [
              0.2222222222222222,
              "#7201a8"
             ],
             [
              0.3333333333333333,
              "#9c179e"
             ],
             [
              0.4444444444444444,
              "#bd3786"
             ],
             [
              0.5555555555555556,
              "#d8576b"
             ],
             [
              0.6666666666666666,
              "#ed7953"
             ],
             [
              0.7777777777777778,
              "#fb9f3a"
             ],
             [
              0.8888888888888888,
              "#fdca26"
             ],
             [
              1,
              "#f0f921"
             ]
            ],
            "type": "contour"
           }
          ],
          "contourcarpet": [
           {
            "colorbar": {
             "outlinewidth": 0,
             "ticks": ""
            },
            "type": "contourcarpet"
           }
          ],
          "heatmap": [
           {
            "colorbar": {
             "outlinewidth": 0,
             "ticks": ""
            },
            "colorscale": [
             [
              0,
              "#0d0887"
             ],
             [
              0.1111111111111111,
              "#46039f"
             ],
             [
              0.2222222222222222,
              "#7201a8"
             ],
             [
              0.3333333333333333,
              "#9c179e"
             ],
             [
              0.4444444444444444,
              "#bd3786"
             ],
             [
              0.5555555555555556,
              "#d8576b"
             ],
             [
              0.6666666666666666,
              "#ed7953"
             ],
             [
              0.7777777777777778,
              "#fb9f3a"
             ],
             [
              0.8888888888888888,
              "#fdca26"
             ],
             [
              1,
              "#f0f921"
             ]
            ],
            "type": "heatmap"
           }
          ],
          "heatmapgl": [
           {
            "colorbar": {
             "outlinewidth": 0,
             "ticks": ""
            },
            "colorscale": [
             [
              0,
              "#0d0887"
             ],
             [
              0.1111111111111111,
              "#46039f"
             ],
             [
              0.2222222222222222,
              "#7201a8"
             ],
             [
              0.3333333333333333,
              "#9c179e"
             ],
             [
              0.4444444444444444,
              "#bd3786"
             ],
             [
              0.5555555555555556,
              "#d8576b"
             ],
             [
              0.6666666666666666,
              "#ed7953"
             ],
             [
              0.7777777777777778,
              "#fb9f3a"
             ],
             [
              0.8888888888888888,
              "#fdca26"
             ],
             [
              1,
              "#f0f921"
             ]
            ],
            "type": "heatmapgl"
           }
          ],
          "histogram": [
           {
            "marker": {
             "pattern": {
              "fillmode": "overlay",
              "size": 10,
              "solidity": 0.2
             }
            },
            "type": "histogram"
           }
          ],
          "histogram2d": [
           {
            "colorbar": {
             "outlinewidth": 0,
             "ticks": ""
            },
            "colorscale": [
             [
              0,
              "#0d0887"
             ],
             [
              0.1111111111111111,
              "#46039f"
             ],
             [
              0.2222222222222222,
              "#7201a8"
             ],
             [
              0.3333333333333333,
              "#9c179e"
             ],
             [
              0.4444444444444444,
              "#bd3786"
             ],
             [
              0.5555555555555556,
              "#d8576b"
             ],
             [
              0.6666666666666666,
              "#ed7953"
             ],
             [
              0.7777777777777778,
              "#fb9f3a"
             ],
             [
              0.8888888888888888,
              "#fdca26"
             ],
             [
              1,
              "#f0f921"
             ]
            ],
            "type": "histogram2d"
           }
          ],
          "histogram2dcontour": [
           {
            "colorbar": {
             "outlinewidth": 0,
             "ticks": ""
            },
            "colorscale": [
             [
              0,
              "#0d0887"
             ],
             [
              0.1111111111111111,
              "#46039f"
             ],
             [
              0.2222222222222222,
              "#7201a8"
             ],
             [
              0.3333333333333333,
              "#9c179e"
             ],
             [
              0.4444444444444444,
              "#bd3786"
             ],
             [
              0.5555555555555556,
              "#d8576b"
             ],
             [
              0.6666666666666666,
              "#ed7953"
             ],
             [
              0.7777777777777778,
              "#fb9f3a"
             ],
             [
              0.8888888888888888,
              "#fdca26"
             ],
             [
              1,
              "#f0f921"
             ]
            ],
            "type": "histogram2dcontour"
           }
          ],
          "mesh3d": [
           {
            "colorbar": {
             "outlinewidth": 0,
             "ticks": ""
            },
            "type": "mesh3d"
           }
          ],
          "parcoords": [
           {
            "line": {
             "colorbar": {
              "outlinewidth": 0,
              "ticks": ""
             }
            },
            "type": "parcoords"
           }
          ],
          "pie": [
           {
            "automargin": true,
            "type": "pie"
           }
          ],
          "scatter": [
           {
            "fillpattern": {
             "fillmode": "overlay",
             "size": 10,
             "solidity": 0.2
            },
            "type": "scatter"
           }
          ],
          "scatter3d": [
           {
            "line": {
             "colorbar": {
              "outlinewidth": 0,
              "ticks": ""
             }
            },
            "marker": {
             "colorbar": {
              "outlinewidth": 0,
              "ticks": ""
             }
            },
            "type": "scatter3d"
           }
          ],
          "scattercarpet": [
           {
            "marker": {
             "colorbar": {
              "outlinewidth": 0,
              "ticks": ""
             }
            },
            "type": "scattercarpet"
           }
          ],
          "scattergeo": [
           {
            "marker": {
             "colorbar": {
              "outlinewidth": 0,
              "ticks": ""
             }
            },
            "type": "scattergeo"
           }
          ],
          "scattergl": [
           {
            "marker": {
             "colorbar": {
              "outlinewidth": 0,
              "ticks": ""
             }
            },
            "type": "scattergl"
           }
          ],
          "scattermapbox": [
           {
            "marker": {
             "colorbar": {
              "outlinewidth": 0,
              "ticks": ""
             }
            },
            "type": "scattermapbox"
           }
          ],
          "scatterpolar": [
           {
            "marker": {
             "colorbar": {
              "outlinewidth": 0,
              "ticks": ""
             }
            },
            "type": "scatterpolar"
           }
          ],
          "scatterpolargl": [
           {
            "marker": {
             "colorbar": {
              "outlinewidth": 0,
              "ticks": ""
             }
            },
            "type": "scatterpolargl"
           }
          ],
          "scatterternary": [
           {
            "marker": {
             "colorbar": {
              "outlinewidth": 0,
              "ticks": ""
             }
            },
            "type": "scatterternary"
           }
          ],
          "surface": [
           {
            "colorbar": {
             "outlinewidth": 0,
             "ticks": ""
            },
            "colorscale": [
             [
              0,
              "#0d0887"
             ],
             [
              0.1111111111111111,
              "#46039f"
             ],
             [
              0.2222222222222222,
              "#7201a8"
             ],
             [
              0.3333333333333333,
              "#9c179e"
             ],
             [
              0.4444444444444444,
              "#bd3786"
             ],
             [
              0.5555555555555556,
              "#d8576b"
             ],
             [
              0.6666666666666666,
              "#ed7953"
             ],
             [
              0.7777777777777778,
              "#fb9f3a"
             ],
             [
              0.8888888888888888,
              "#fdca26"
             ],
             [
              1,
              "#f0f921"
             ]
            ],
            "type": "surface"
           }
          ],
          "table": [
           {
            "cells": {
             "fill": {
              "color": "#EBF0F8"
             },
             "line": {
              "color": "white"
             }
            },
            "header": {
             "fill": {
              "color": "#C8D4E3"
             },
             "line": {
              "color": "white"
             }
            },
            "type": "table"
           }
          ]
         },
         "layout": {
          "annotationdefaults": {
           "arrowcolor": "#2a3f5f",
           "arrowhead": 0,
           "arrowwidth": 1
          },
          "autotypenumbers": "strict",
          "coloraxis": {
           "colorbar": {
            "outlinewidth": 0,
            "ticks": ""
           }
          },
          "colorscale": {
           "diverging": [
            [
             0,
             "#8e0152"
            ],
            [
             0.1,
             "#c51b7d"
            ],
            [
             0.2,
             "#de77ae"
            ],
            [
             0.3,
             "#f1b6da"
            ],
            [
             0.4,
             "#fde0ef"
            ],
            [
             0.5,
             "#f7f7f7"
            ],
            [
             0.6,
             "#e6f5d0"
            ],
            [
             0.7,
             "#b8e186"
            ],
            [
             0.8,
             "#7fbc41"
            ],
            [
             0.9,
             "#4d9221"
            ],
            [
             1,
             "#276419"
            ]
           ],
           "sequential": [
            [
             0,
             "#0d0887"
            ],
            [
             0.1111111111111111,
             "#46039f"
            ],
            [
             0.2222222222222222,
             "#7201a8"
            ],
            [
             0.3333333333333333,
             "#9c179e"
            ],
            [
             0.4444444444444444,
             "#bd3786"
            ],
            [
             0.5555555555555556,
             "#d8576b"
            ],
            [
             0.6666666666666666,
             "#ed7953"
            ],
            [
             0.7777777777777778,
             "#fb9f3a"
            ],
            [
             0.8888888888888888,
             "#fdca26"
            ],
            [
             1,
             "#f0f921"
            ]
           ],
           "sequentialminus": [
            [
             0,
             "#0d0887"
            ],
            [
             0.1111111111111111,
             "#46039f"
            ],
            [
             0.2222222222222222,
             "#7201a8"
            ],
            [
             0.3333333333333333,
             "#9c179e"
            ],
            [
             0.4444444444444444,
             "#bd3786"
            ],
            [
             0.5555555555555556,
             "#d8576b"
            ],
            [
             0.6666666666666666,
             "#ed7953"
            ],
            [
             0.7777777777777778,
             "#fb9f3a"
            ],
            [
             0.8888888888888888,
             "#fdca26"
            ],
            [
             1,
             "#f0f921"
            ]
           ]
          },
          "colorway": [
           "#636efa",
           "#EF553B",
           "#00cc96",
           "#ab63fa",
           "#FFA15A",
           "#19d3f3",
           "#FF6692",
           "#B6E880",
           "#FF97FF",
           "#FECB52"
          ],
          "font": {
           "color": "#2a3f5f"
          },
          "geo": {
           "bgcolor": "white",
           "lakecolor": "white",
           "landcolor": "#E5ECF6",
           "showlakes": true,
           "showland": true,
           "subunitcolor": "white"
          },
          "hoverlabel": {
           "align": "left"
          },
          "hovermode": "closest",
          "mapbox": {
           "style": "light"
          },
          "paper_bgcolor": "white",
          "plot_bgcolor": "#E5ECF6",
          "polar": {
           "angularaxis": {
            "gridcolor": "white",
            "linecolor": "white",
            "ticks": ""
           },
           "bgcolor": "#E5ECF6",
           "radialaxis": {
            "gridcolor": "white",
            "linecolor": "white",
            "ticks": ""
           }
          },
          "scene": {
           "xaxis": {
            "backgroundcolor": "#E5ECF6",
            "gridcolor": "white",
            "gridwidth": 2,
            "linecolor": "white",
            "showbackground": true,
            "ticks": "",
            "zerolinecolor": "white"
           },
           "yaxis": {
            "backgroundcolor": "#E5ECF6",
            "gridcolor": "white",
            "gridwidth": 2,
            "linecolor": "white",
            "showbackground": true,
            "ticks": "",
            "zerolinecolor": "white"
           },
           "zaxis": {
            "backgroundcolor": "#E5ECF6",
            "gridcolor": "white",
            "gridwidth": 2,
            "linecolor": "white",
            "showbackground": true,
            "ticks": "",
            "zerolinecolor": "white"
           }
          },
          "shapedefaults": {
           "line": {
            "color": "#2a3f5f"
           }
          },
          "ternary": {
           "aaxis": {
            "gridcolor": "white",
            "linecolor": "white",
            "ticks": ""
           },
           "baxis": {
            "gridcolor": "white",
            "linecolor": "white",
            "ticks": ""
           },
           "bgcolor": "#E5ECF6",
           "caxis": {
            "gridcolor": "white",
            "linecolor": "white",
            "ticks": ""
           }
          },
          "title": {
           "x": 0.05
          },
          "xaxis": {
           "automargin": true,
           "gridcolor": "white",
           "linecolor": "white",
           "ticks": "",
           "title": {
            "standoff": 15
           },
           "zerolinecolor": "white",
           "zerolinewidth": 2
          },
          "yaxis": {
           "automargin": true,
           "gridcolor": "white",
           "linecolor": "white",
           "ticks": "",
           "title": {
            "standoff": 15
           },
           "zerolinecolor": "white",
           "zerolinewidth": 2
          }
         }
        },
        "title": {
         "text": "SMOTE Resampled Training Set Target Variable Distribution"
        },
        "width": 700,
        "xaxis": {
         "anchor": "y",
         "domain": [
          0,
          1
         ],
         "title": {
          "text": "Class"
         }
        },
        "yaxis": {
         "anchor": "x",
         "domain": [
          0,
          1
         ],
         "title": {
          "text": "Count"
         }
        }
       }
      }
     },
     "metadata": {},
     "output_type": "display_data"
    }
   ],
   "source": [
    "smote = SMOTE()\n",
    "\n",
    "x_train_sm, y_train_sm = smote.fit_resample(X_train, y_train)\n",
    "\n",
    "# Create a data frame of the counts of the target variables of the training set after SMOTE oversampling\n",
    "y_train_sm_counts = y_train_sm.value_counts().reset_index()\n",
    "y_train_sm_counts.columns = ['Class', 'Count']\n",
    "y_train_sm_counts['Class'] = y_train_sm_counts['Class'].map({0: 'Healthy', 1: 'Cervical Cancer'})\n",
    "\n",
    "# Pie Chart\n",
    "fig_pie_sm = px.pie(y_train_sm_counts, names='Class', values='Count', title='SMOTE Resampled Training Set Target Variable Distribution', width=700)\n",
    "\n",
    "# Bar Chart\n",
    "fig_bar_sm = px.bar(y_train_sm_counts, x='Class', y='Count', title='SMOTE Resampled Training Set Target Variable Distribution', width=700)\n",
    "\n",
    "# Show Images\n",
    "fig_pie_sm.show()\n",
    "fig_bar_sm.show()"
   ]
  },
  {
   "cell_type": "markdown",
   "metadata": {},
   "source": [
    "Use PCA to visualize the data again"
   ]
  },
  {
   "cell_type": "code",
   "execution_count": 97,
   "metadata": {},
   "outputs": [
    {
     "data": {
      "application/vnd.plotly.v1+json": {
       "config": {
        "plotlyServerURL": "https://plot.ly"
       },
       "data": [
        {
         "hovertemplate": "PCA1=%{x}<br>PCA2=%{y}<br>Class=%{marker.color}<extra></extra>",
         "legendgroup": "",
         "marker": {
          "color": [
           0,
           0,
           0,
           0,
           0,
           0,
           0,
           0,
           0,
           0,
           0,
           0,
           0,
           0,
           0,
           0,
           0,
           0,
           0,
           0,
           0,
           0,
           0,
           1,
           0,
           0,
           0,
           0,
           0,
           0,
           0,
           0,
           0,
           0,
           0,
           0,
           0,
           0,
           0,
           0,
           1,
           0,
           0,
           0,
           0,
           0,
           0,
           0,
           0,
           1,
           0,
           0,
           0,
           0,
           0,
           0,
           0,
           0,
           1,
           0,
           0,
           0,
           0,
           0,
           0,
           1,
           0,
           0,
           0,
           0,
           0,
           0,
           0,
           0,
           0,
           0,
           1,
           0,
           0,
           0,
           0,
           0,
           0,
           0,
           0,
           0,
           0,
           0,
           0,
           0,
           0,
           0,
           0,
           1,
           0,
           0,
           0,
           0,
           0,
           0,
           0,
           0,
           0,
           0,
           0,
           0,
           0,
           0,
           0,
           0,
           0,
           0,
           0,
           0,
           0,
           0,
           0,
           0,
           0,
           0,
           0,
           0,
           0,
           0,
           0,
           1,
           1,
           1,
           0,
           0,
           0,
           0,
           0,
           0,
           0,
           0,
           1,
           0,
           0,
           0,
           0,
           1,
           0,
           0,
           0,
           0,
           1,
           0,
           0,
           1,
           0,
           0,
           1,
           0,
           0,
           0,
           0,
           0,
           0,
           0,
           0,
           0,
           0,
           0,
           0,
           0,
           0,
           0,
           0,
           0,
           0,
           0,
           0,
           0,
           0,
           0,
           0,
           0,
           1,
           0,
           0,
           0,
           0,
           0,
           0,
           0,
           0,
           0,
           0,
           0,
           0,
           0,
           0,
           0,
           0,
           0,
           0,
           1,
           0,
           0,
           0,
           0,
           0,
           0,
           0,
           0,
           0,
           0,
           0,
           0,
           0,
           0,
           0,
           0,
           0,
           1,
           0,
           0,
           0,
           0,
           0,
           0,
           0,
           0,
           0,
           0,
           0,
           0,
           0,
           0,
           0,
           0,
           0,
           0,
           0,
           0,
           0,
           0,
           0,
           0,
           0,
           0,
           0,
           0,
           0,
           0,
           0,
           0,
           0,
           0,
           0,
           0,
           0,
           0,
           0,
           0,
           0,
           0,
           1,
           0,
           0,
           1,
           0,
           0,
           1,
           0,
           0,
           0,
           0,
           0,
           0,
           0,
           0,
           0,
           0,
           0,
           0,
           0,
           0,
           0,
           1,
           0,
           0,
           0,
           0,
           0,
           0,
           1,
           0,
           0,
           0,
           0,
           0,
           0,
           0,
           0,
           0,
           0,
           0,
           0,
           0,
           0,
           0,
           0,
           0,
           0,
           0,
           0,
           0,
           0,
           0,
           0,
           0,
           0,
           1,
           0,
           0,
           0,
           0,
           0,
           0,
           0,
           0,
           0,
           0,
           0,
           0,
           0,
           0,
           0,
           0,
           0,
           1,
           0,
           0,
           0,
           0,
           0,
           1,
           0,
           0,
           0,
           0,
           0,
           0,
           0,
           0,
           0,
           0,
           0,
           0,
           0,
           0,
           0,
           0,
           0,
           0,
           0,
           0,
           0,
           0,
           0,
           0,
           0,
           0,
           0,
           0,
           0,
           1,
           1,
           0,
           0,
           0,
           0,
           0,
           0,
           0,
           0,
           0,
           1,
           0,
           1,
           0,
           0,
           0,
           0,
           0,
           0,
           0,
           0,
           0,
           0,
           0,
           1,
           0,
           0,
           0,
           0,
           0,
           0,
           0,
           0,
           0,
           0,
           0,
           0,
           0,
           0,
           0,
           0,
           0,
           0,
           0,
           0,
           0,
           0,
           0,
           0,
           0,
           0,
           1,
           0,
           0,
           0,
           0,
           0,
           0,
           0,
           0,
           0,
           0,
           0,
           0,
           0,
           0,
           0,
           0,
           0,
           0,
           0,
           0,
           0,
           0,
           0,
           0,
           0,
           1,
           0,
           0,
           0,
           0,
           0,
           0,
           0,
           0,
           0,
           0,
           0,
           0,
           0,
           0,
           0,
           0,
           0,
           0,
           0,
           1,
           1,
           1,
           1,
           1,
           1,
           1,
           1,
           1,
           1,
           1,
           1,
           1,
           1,
           1,
           1,
           1,
           1,
           1,
           1,
           1,
           1,
           1,
           1,
           1,
           1,
           1,
           1,
           1,
           1,
           1,
           1,
           1,
           1,
           1,
           1,
           1,
           1,
           1,
           1,
           1,
           1,
           1,
           1,
           1,
           1,
           1,
           1,
           1,
           1,
           1,
           1,
           1,
           1,
           1,
           1,
           1,
           1,
           1,
           1,
           1,
           1,
           1,
           1,
           1,
           1,
           1,
           1,
           1,
           1,
           1,
           1,
           1,
           1,
           1,
           1,
           1,
           1,
           1,
           1,
           1,
           1,
           1,
           1,
           1,
           1,
           1,
           1,
           1,
           1,
           1,
           1,
           1,
           1,
           1,
           1,
           1,
           1,
           1,
           1,
           1,
           1,
           1,
           1,
           1,
           1,
           1,
           1,
           1,
           1,
           1,
           1,
           1,
           1,
           1,
           1,
           1,
           1,
           1,
           1,
           1,
           1,
           1,
           1,
           1,
           1,
           1,
           1,
           1,
           1,
           1,
           1,
           1,
           1,
           1,
           1,
           1,
           1,
           1,
           1,
           1,
           1,
           1,
           1,
           1,
           1,
           1,
           1,
           1,
           1,
           1,
           1,
           1,
           1,
           1,
           1,
           1,
           1,
           1,
           1,
           1,
           1,
           1,
           1,
           1,
           1,
           1,
           1,
           1,
           1,
           1,
           1,
           1,
           1,
           1,
           1,
           1,
           1,
           1,
           1,
           1,
           1,
           1,
           1,
           1,
           1,
           1,
           1,
           1,
           1,
           1,
           1,
           1,
           1,
           1,
           1,
           1,
           1,
           1,
           1,
           1,
           1,
           1,
           1,
           1,
           1,
           1,
           1,
           1,
           1,
           1,
           1,
           1,
           1,
           1,
           1,
           1,
           1,
           1,
           1,
           1,
           1,
           1,
           1,
           1,
           1,
           1,
           1,
           1,
           1,
           1,
           1,
           1,
           1,
           1,
           1,
           1,
           1,
           1,
           1,
           1,
           1,
           1,
           1,
           1,
           1,
           1,
           1,
           1,
           1,
           1,
           1,
           1,
           1,
           1,
           1,
           1,
           1,
           1,
           1,
           1,
           1,
           1,
           1,
           1,
           1,
           1,
           1,
           1,
           1,
           1,
           1,
           1,
           1,
           1,
           1,
           1,
           1,
           1,
           1,
           1,
           1,
           1,
           1,
           1,
           1,
           1,
           1,
           1,
           1,
           1,
           1,
           1,
           1,
           1,
           1,
           1,
           1,
           1,
           1,
           1,
           1,
           1,
           1,
           1,
           1,
           1,
           1,
           1,
           1,
           1,
           1,
           1,
           1,
           1,
           1,
           1,
           1,
           1,
           1,
           1,
           1,
           1,
           1,
           1,
           1,
           1,
           1,
           1,
           1,
           1,
           1,
           1,
           1,
           1,
           1,
           1,
           1,
           1,
           1,
           1,
           1,
           1,
           1,
           1,
           1,
           1,
           1,
           1,
           1,
           1,
           1,
           1,
           1,
           1,
           1,
           1,
           1,
           1,
           1,
           1,
           1,
           1,
           1,
           1,
           1,
           1,
           1,
           1,
           1,
           1,
           1,
           1,
           1,
           1,
           1,
           1,
           1,
           1,
           1,
           1,
           1,
           1,
           1,
           1,
           1,
           1,
           1,
           1,
           1,
           1,
           1,
           1,
           1,
           1,
           1,
           1,
           1,
           1,
           1
          ],
          "coloraxis": "coloraxis",
          "symbol": "circle"
         },
         "mode": "markers",
         "name": "",
         "orientation": "v",
         "showlegend": false,
         "type": "scatter",
         "x": [
          -0.5180516875402008,
          -0.38301783147428925,
          -0.5073236822337867,
          -0.4806342042571724,
          -0.6591627261369053,
          -0.6617800032830148,
          0.6602404995761887,
          -0.427484760233708,
          -0.5277253873304326,
          -0.517204829085101,
          -0.43925903661920146,
          -0.660662419475758,
          -0.4769019446997126,
          -0.5208401013039329,
          -0.524141451554236,
          -0.14417644981707714,
          -0.6500142738591557,
          -0.5212456052505565,
          -0.5065968456010929,
          -0.5218887101171111,
          -0.40199966444525526,
          0.1484585751783945,
          -0.5859667557977869,
          0.7895917540561114,
          -0.49969371865179624,
          -0.5870492859174046,
          -0.6595529583717723,
          -0.4556400489152153,
          -0.641341368174476,
          -0.2759969641843948,
          -0.3958121226750785,
          -0.5240472021429035,
          -0.2538199936274835,
          -0.23116079043301252,
          -0.4681416382006192,
          -0.47789773434773675,
          -0.39775890719077633,
          -0.5158959122555052,
          0.7288232294381339,
          -0.44288518623249584,
          1.0708583510135787,
          -0.5342901844719422,
          -0.44431107651579127,
          -0.5609183707072937,
          -0.6610009649266709,
          -0.47589925388271276,
          -0.664224931867138,
          -0.5231787216096092,
          -0.41210218542601335,
          0.8879907915758972,
          -0.5155619529539056,
          -0.424383558837616,
          -0.42533386389108724,
          -0.56046589196027,
          -0.48986150885946467,
          -0.6619135133239884,
          -0.46470404816579886,
          -0.3904940972812121,
          0.7462032261478059,
          -0.48918361740545624,
          -0.5295703263880521,
          -0.49035158689921104,
          -0.518060183098913,
          -0.2904425976389671,
          -0.41369712469163666,
          0.48138484075565,
          -0.23806633077969477,
          -0.4809170487635491,
          -0.5163409913102497,
          -0.6603530697716141,
          -0.5096222525139953,
          -0.48503315140065567,
          -0.5530600716720374,
          -0.5236843858395922,
          0.3783261868680348,
          -0.3023561027109512,
          0.8489779793954523,
          -0.6633404468353891,
          -0.42808004769577357,
          -0.5504182681822571,
          -0.5144968945796133,
          -0.25379790358723153,
          -0.48408789064536745,
          -0.4112874497484274,
          -0.3022035424927802,
          -0.5236014265233998,
          -0.3039221093045314,
          -0.523658914639095,
          -0.48276576897656914,
          -0.5194210800047468,
          -0.6486001886106958,
          0.7017598315255471,
          -0.5022486282406131,
          0.9014734821200272,
          -0.660340221508673,
          -0.5127517483957172,
          -0.053950199087435216,
          0.08003912329089355,
          0.5788895702025496,
          -0.19017503620540735,
          -0.49768498320003474,
          -0.4269113850769051,
          -0.6282670001775619,
          -0.6529794454982321,
          -0.5158989040150789,
          -0.48107729855850984,
          -0.6620318082623342,
          -0.2786719306357439,
          -0.4679199508582125,
          -0.3220547606805839,
          -0.6548784345015192,
          -0.46122985132043415,
          -0.4532524406637211,
          -0.5835218272136641,
          -0.6191383864848237,
          -0.30946819535171305,
          -0.4717016945992175,
          -0.6627851500927959,
          -0.6594627267989945,
          -0.49542600093675476,
          0.8652876982894026,
          -0.461117716670157,
          -0.5231617988989836,
          -0.46736259984427536,
          -0.531239997771232,
          -0.48347894985339285,
          1.041402915198217,
          0.8355457818372887,
          -0.46849733168754254,
          -0.6657316155280611,
          -0.3874046080366832,
          -0.5216223525049195,
          -0.49712968645744177,
          -0.5066107370921389,
          -0.5049986067558109,
          -0.46616541973905334,
          1.0399645230479913,
          -0.28788880527031513,
          -0.6607231696892796,
          -0.39339477969938397,
          -0.657030646477813,
          1.1957402476198336,
          -0.4606748191607974,
          -0.5235835856006029,
          -0.6497107820958816,
          -0.6552873729401975,
          0.3606791379653354,
          -0.6304729720453065,
          -0.4800839889684308,
          0.8094638023269173,
          -0.5204794151571538,
          -0.6449614252906798,
          0.5723401361148406,
          -0.50758409599008,
          -0.49193099452474753,
          -0.6572952997200735,
          -0.43524666361998327,
          -0.47303602969815445,
          -0.4204045042448338,
          -0.36377948624240075,
          -0.5250447986130754,
          -0.6292312353588332,
          -0.48914402938852775,
          -0.47174884705388226,
          -0.6593759863274016,
          -0.3128159887528417,
          0.881635272574089,
          -0.21678871432507849,
          -0.6621115584118571,
          -0.521071476873357,
          -0.3985343804113232,
          -0.3517031909086428,
          -0.5082766839290473,
          -0.663327598572448,
          -0.6602604713591503,
          -0.5154225849720616,
          -0.5142011126572011,
          -0.5160212734011096,
          0.9742078278673307,
          -0.5224522316402613,
          -0.4386317885135918,
          -0.6613839131072773,
          -0.5085929673461327,
          -0.6365414233367994,
          -0.5513837783242703,
          -0.6510065724059957,
          -0.5172203908510749,
          -0.6637493852740675,
          -0.2616090307849488,
          -0.6663923589460591,
          -0.6602289168923975,
          -0.6710949461818804,
          -0.6626797034173909,
          -0.4867976463108341,
          -0.6608029198388022,
          -0.6611192598650169,
          -0.4882632700141827,
          0.8488023650576667,
          -0.5032401181155679,
          -0.6632069367944156,
          -0.5266635610768418,
          -0.387507408567827,
          -0.4577513188131688,
          -0.5077789282333062,
          0.36066592052492247,
          -0.4919713912135614,
          -0.28790788340613294,
          -0.3110254299235147,
          -0.4119088883565563,
          -0.15925179234423062,
          -0.4706269634735562,
          -0.6536343309753598,
          -0.41262170654409785,
          -0.49080622916503897,
          -0.3638268162560135,
          0.5580787132130485,
          -0.6613453683184543,
          -0.5293594330372422,
          0.7871013795141896,
          -0.5761961048908625,
          -0.5196854549904664,
          -0.6551021761152702,
          -0.458979401988647,
          -0.6498936120811231,
          -0.664526056790725,
          -0.6664978056214638,
          -0.47352018395706635,
          -0.5025759402055152,
          -0.6613582165813955,
          -0.4152170723223966,
          -0.31690410186560486,
          -0.4855044573966265,
          -0.4985359727119452,
          -0.3933583269217463,
          -0.40072407906920543,
          -0.5044230456416051,
          -0.49882127321110303,
          -0.40557718699404005,
          -0.6533051426862038,
          -0.4737104300509789,
          -0.6526572475311472,
          -0.5716482612759675,
          -0.5289008091547975,
          0.22889702658960764,
          -0.48814497507583676,
          -0.5151969023052253,
          -0.49356963005884363,
          -0.6726273263686864,
          -0.5308789649611069,
          -0.6614636632568001,
          0.2607205160488961,
          -0.47582989600334985,
          -0.2919663705258713,
          -0.4078026768213484,
          -0.6506621690142123,
          -0.38359332286519654,
          -0.45486417584685157,
          -0.46748089478262117,
          0.5418921465876978,
          -0.47182934669932053,
          -0.39046503330626947,
          0.44902866503572914,
          -0.5145943398897087,
          -0.6468253606063278,
          0.6278879026658033,
          -0.47165624864141853,
          -0.5199556728813135,
          -0.5942486556332255,
          1.0123762568539894,
          -0.665089578313875,
          -0.16930644244443693,
          -0.6468160034445709,
          -0.2118148255757707,
          -0.6278112921695033,
          -0.15043129047652812,
          -0.5216988898097994,
          -0.654428584434331,
          -0.42681971551440323,
          -0.1533745088113932,
          -0.6600367297453995,
          0.22801254155785886,
          -0.49649544823721165,
          -0.5031689394099482,
          -0.6555263296565759,
          -0.4656563129276823,
          -0.4438448870844781,
          -0.3195754326353548,
          -0.5129264675071492,
          -0.4829007983409617,
          -0.4930271815791917,
          -0.5201183823470286,
          -0.5247789218951673,
          -0.4875638364042369,
          -0.6471004952718431,
          -0.44142825642214334,
          -0.6662927702115247,
          -0.6642120836041966,
          -0.6525774973816244,
          -0.5198349544941517,
          -0.5216860415468584,
          -0.6382613926982369,
          -0.50288523330053,
          -0.5119977666096258,
          -0.5674418815845312,
          -0.6607103214263383,
          -0.47384149333000564,
          -0.6577100960996226,
          -0.5076518594797035,
          -0.3714393516261085,
          0.440206982665629,
          -0.6584482228274565,
          -0.437132006229094,
          -0.36344905755913126,
          -0.46004816761661393,
          0.2920820500281657,
          -0.5797810853206815,
          -0.5256508927879245,
          -0.6549710329139827,
          -0.16066416637590133,
          -0.5276178671076251,
          -0.48500488566373345,
          -0.662268398139026,
          0.2891206819200851,
          -0.49826358520456043,
          0.4117736840914657,
          -0.4550140832064324,
          -0.648367089835188,
          -0.5191888353538977,
          -0.18367982376239497,
          0.8884750856705098,
          -0.5010110189329812,
          -0.6641992353412556,
          0.8574809288678501,
          -0.2520576074923173,
          -0.653627340653289,
          -0.2917740117311332,
          -0.48651413853569686,
          -0.5076912129404123,
          0.264888905095641,
          -0.36527227571427867,
          -0.3898659515580721,
          -0.6469565038076148,
          -0.5041220339362767,
          -0.4270811853780676,
          -0.49615104484542816,
          -0.15615198549734732,
          -0.46664029754087044,
          -0.6456280266495484,
          -0.6458517682632994,
          -0.6626668551544501,
          -0.4029857924694875,
          -0.6077593645649265,
          -0.5128542791967361,
          -0.6497905322454048,
          -0.2641114721775374,
          -0.45186470001605095,
          -0.49892752855839334,
          -0.31108327156804805,
          -0.5261261052570455,
          -0.6631014901190105,
          -0.5280379462012464,
          -0.4481795929132558,
          -0.5239974600900079,
          -0.3583686176517233,
          -0.5179990825440726,
          -0.5132368774759296,
          0.8115840769511737,
          -0.6076691585021672,
          0.617990015998952,
          0.4609943530326215,
          -0.38192327082287697,
          -0.5236332710443693,
          -0.513764110852954,
          -0.5282935323359668,
          -0.49341086221918234,
          -0.6630886418560695,
          -0.4993819129548709,
          -0.28666896542293036,
          -0.254421368599784,
          -0.4773903395557239,
          -0.5131442790634659,
          0.856262063854154,
          -0.6521300141541228,
          -0.6522483090924687,
          -0.5148925489389099,
          -0.30024893804532,
          -0.6523187020802343,
          -0.25580913518548465,
          -0.35313701194357316,
          -0.5218841432438562,
          -0.6629890531215353,
          -0.514437702533893,
          -0.29476241977232187,
          1.0280067707249818,
          -0.26029162983661824,
          -0.47647169866131645,
          -0.6606048747509334,
          -0.5049729102299286,
          -0.15474377939202252,
          -0.5286332020483772,
          -0.5018868422565996,
          -0.3001253361044512,
          -0.47807253890250456,
          -0.38815112558953907,
          -0.5225071842000145,
          -0.4649981709055907,
          -0.6565034131007885,
          -0.3091390600703508,
          -0.522925411393645,
          -0.46420750792449,
          -0.26799627210807564,
          -0.5229041359787933,
          -0.5150648938229232,
          -0.5326848014281822,
          -0.6640937886658506,
          -0.4945528060001461,
          -0.6605920264879924,
          -0.6634330452478527,
          -0.6633252317327614,
          -0.6740542598800868,
          0.7814718903814648,
          -0.5158430705762254,
          -0.658198490955634,
          -0.5164871845758813,
          -0.6523666040308146,
          -0.5211307448042652,
          -0.6614765115197414,
          -0.28824915517393174,
          -0.5126944289962778,
          -0.4874530270924994,
          -0.5178211697734053,
          -0.517901838135099,
          0.15206578403165769,
          -0.5281433928766514,
          -0.5102904686497938,
          -0.6621150495130411,
          -0.5142987037295207,
          -0.46079021935193554,
          -0.10487024569518047,
          -0.6305597125168996,
          -0.5147564093997942,
          -0.23186343993371097,
          -0.48996851370267064,
          -0.5006459682843006,
          -0.5118099439645288,
          -0.6625742567419862,
          0.5570663767158736,
          -0.43345974738924015,
          -0.47155080196601357,
          -0.5255491864362549,
          -0.40246475126777853,
          -0.5569645801132586,
          -0.31338696313648107,
          -0.3035207484068385,
          -0.48437997242039416,
          -0.306738041009175,
          -0.5142404661179099,
          -0.5623518414912407,
          -0.6670437452022999,
          -0.65441573617139,
          -0.4839437792880327,
          -0.2515814910336332,
          -0.4790889758074257,
          -0.5070073422075722,
          -0.47139284279823795,
          -0.6514412073705561,
          0.47299752154562436,
          0.5450739770782767,
          0.265156943065949,
          0.8368717595450209,
          0.3494534799093581,
          0.2408787737530367,
          0.41079909815527677,
          0.7605046310597783,
          0.7686065994929892,
          0.5179149708829341,
          0.44441041738542214,
          0.4120661027180074,
          0.962741007818013,
          0.4239591757659446,
          0.3884310078147712,
          0.8323627766990713,
          0.5600977394501045,
          0.782820565607991,
          0.9465076464573527,
          0.29435849461004276,
          0.557694921602341,
          0.8262911745422862,
          0.5000303999216416,
          0.7662561426586662,
          1.0359822420221292,
          0.5568852638650568,
          0.41243438387334425,
          -0.4640560881113528,
          0.9415190261139422,
          0.7603531675954528,
          0.8271042487557423,
          -0.4789388024434486,
          0.46666735918056595,
          0.6328119158073805,
          0.511070942452337,
          -0.4794150780682182,
          0.4847329062612161,
          0.5795270606372597,
          0.3392464623741832,
          0.9954970066756882,
          0.7817835227776788,
          0.2708301942462511,
          -0.49439614123918085,
          0.5090426388940621,
          0.5844038495182164,
          0.720469372352952,
          0.33057061012942,
          1.1013041672966455,
          0.4821999736785606,
          -0.4242633495943573,
          0.6172577486310193,
          0.7787702073352573,
          -0.47932410390584623,
          0.41594605693367936,
          0.30498187987626046,
          0.4040066415991693,
          0.4401056777530602,
          0.6980635109305621,
          0.4399653975532382,
          1.0406088792217207,
          0.3181029193115616,
          0.7677376396619813,
          1.088304596993486,
          0.39288114767635096,
          0.48783216327660084,
          -0.5320266665432735,
          0.31623101764508266,
          0.2059768436289355,
          0.4406465276233524,
          0.33205495369925747,
          0.7702294223703302,
          0.2696448901094579,
          0.32261297277495926,
          0.3680817885365474,
          1.0287083159428687,
          1.0901259069156832,
          0.6216775077517366,
          0.907721102727709,
          0.2647997134451563,
          -0.36567876938549887,
          -0.49777617815755093,
          0.7858886005900494,
          0.39198899981812435,
          0.4867224510814506,
          0.8590937147720166,
          0.43550146847522436,
          0.39697048003941315,
          0.7629581312285075,
          0.9921207998285764,
          1.1086060710753798,
          1.1317657972049526,
          0.585253378300937,
          0.848929015723368,
          0.7263315833394028,
          0.30052762530478444,
          0.8183529923569466,
          0.8994840469251857,
          -0.49276675943472364,
          0.5304041091452092,
          0.4497458685724846,
          -0.5032417755754247,
          0.46002969892515405,
          0.4143752616311256,
          0.33494810742422815,
          0.5477379379684401,
          0.25432777064183537,
          0.2660642497323905,
          0.5095084691140674,
          0.40593490712871416,
          0.6309881686524861,
          0.4283039584102962,
          -0.5069770561428645,
          0.7791956219645538,
          -0.2581483306437197,
          0.30061525821796203,
          0.2868902736305075,
          0.40960406462794235,
          0.39125295306122543,
          1.037467744639411,
          -0.5050828014334802,
          -0.37387787351562324,
          0.44600953360668016,
          0.728315798682632,
          0.2870980103216123,
          0.4892642593631995,
          0.4796159389062378,
          0.6280781970265628,
          0.2645124335945901,
          -0.5190909387065644,
          -0.47276093743382414,
          0.6756191950287186,
          0.44450196171659995,
          1.1610679704657592,
          0.4715749586887891,
          0.7920275310066953,
          1.0178963510867791,
          0.7834368263597393,
          0.8235303906001515,
          1.0780481951683152,
          0.782507988322118,
          -0.49123961044289544,
          0.47015495076057856,
          -0.5186085095361685,
          0.8098746926852939,
          -0.40718724180344595,
          0.7804036835131161,
          0.9856071293101665,
          0.9059465567092062,
          0.2749341558093773,
          0.6295617128498137,
          -0.536220916740367,
          0.5520093607667305,
          -0.4799239169832695,
          0.46266266263634653,
          0.47022009148463007,
          0.48781111384354175,
          0.4188659991083817,
          0.7837615664177545,
          -0.4868200707483142,
          0.7748094628733939,
          0.3121599835370423,
          1.1100142429938955,
          0.4203886896673575,
          0.788452266225011,
          1.016548120413965,
          0.4353446488295254,
          0.4408227782314504,
          0.4135459430681179,
          0.7820084085386425,
          -0.4823278807145372,
          0.47653892691858774,
          0.3984989807195597,
          0.848503892173613,
          0.8321509246062714,
          0.23144706558612274,
          0.5841158823559562,
          0.4908304569575122,
          -0.46565321142920485,
          0.6876927024907608,
          0.7180967987950588,
          -0.47542722604317855,
          0.44091224424954834,
          -0.45904594518055797,
          0.5126883335481207,
          0.33165923020437227,
          0.840323443855054,
          0.7802869445621142,
          -0.32322372917914793,
          -0.48073324817288293,
          0.7742571814569298,
          0.31161174606471626,
          1.0095686590227615,
          0.7741598426291011,
          0.48956062133446426,
          0.8304572793289889,
          0.7458198095838128,
          0.45426564513714524,
          0.9406168579856068,
          0.32138990463581485,
          0.5201102105593515,
          0.9079726366580552,
          0.7771660037912679,
          -0.549726392528084,
          0.35258533626844096,
          0.8351774416281537,
          0.1776753510834469,
          0.14868057305351312,
          0.6338032446042479,
          0.480662476856526,
          0.5867970367086518,
          0.5515771711082058,
          0.45027381456190957,
          -0.5075122849076901,
          0.3423029538994048,
          0.8416250235636419,
          0.7888450597687906,
          0.3281412507293642,
          0.7814521372911111,
          0.5293358547401223,
          0.4934468907948015,
          0.3089024965965196,
          0.8505967444265753,
          0.5276528173224674,
          0.15064001157537132,
          -0.40975709338391436,
          0.24849991428702192,
          0.4759343862421224,
          0.3439929647993581,
          -0.4840913375979388,
          0.5009449793038235,
          0.23077969299485662,
          0.31337121202579454,
          1.0272127429978526,
          0.7357190164072843,
          0.43480880916321757,
          0.5373158732928831,
          0.7710791761439395,
          0.602451483158363,
          0.37146475164630294,
          -0.5061908026369077,
          0.501693066128253,
          0.4711549909626443,
          0.14933411028437515,
          1.0404749418182506,
          0.8459817986258013,
          0.937572143023678,
          0.875193676387923,
          0.5519574626955326,
          0.5089183621816843,
          0.710592508896704,
          0.5771153893532563,
          0.2847800486672096,
          0.8818633369916549,
          0.8285030407061479,
          -0.44573898529025924,
          -0.4388283693116734,
          1.186076080601114,
          0.8107722784612262,
          0.7811228271793434,
          -0.3822743347582157,
          0.4619128948182734,
          0.767498071625224,
          0.4884460549273833,
          -0.4879340992596798,
          0.3544976501489403,
          0.4576931700614294,
          0.7846797439336699,
          0.8689778466571971,
          0.8347208769145613,
          0.36587499196509404,
          0.3110475772484058,
          0.2301279064445586,
          0.5586998031317093,
          0.7734409491932924,
          -0.4803502161076167,
          0.32189700555226125,
          0.2837181334090527,
          0.9751014885658625,
          0.8428146226469082,
          0.46219059689402336,
          0.8535524285882975,
          -0.49775325732782644,
          0.35763142073120296,
          0.3821841345937115,
          -0.3916423148039031,
          0.4448339953074133,
          0.8486466468467198,
          0.46684577535664423,
          0.5537573926902233,
          0.7389957183217183,
          0.7690533270516566,
          -0.5223592464552776,
          0.7745826659448268,
          0.44058388564156786,
          0.6246502922432001,
          0.5934588013704721,
          0.939427303315468,
          0.5508039576836714,
          0.7798463248866946,
          0.8940021044343969,
          -0.5223086616096876,
          0.31415718340372173,
          1.0318800407293858,
          0.33946793084616456,
          0.45138679458288833,
          0.6334119826261901,
          1.0345140595602147,
          0.5301958474301185,
          0.4913825018124816,
          0.31313458233974445,
          1.0138723241995542,
          1.0431994899919015,
          -0.42978478447338914,
          -0.4987521950285782,
          -0.4456275494502372,
          0.40805801652754975,
          0.47411712049873755,
          0.49795743244846874,
          0.25392915509371594,
          -0.2848217505161054,
          0.28884059987081345,
          0.3492305900653151,
          1.0427072583655304,
          -0.5088727958802036,
          -0.49938426057578156,
          0.415682885753013,
          0.7390557666673099,
          0.48762428914589606,
          1.0891905076338553,
          0.2421846278676516,
          0.28563973855753444,
          0.4409132887652283,
          -0.4420119850757171,
          -0.47981156752847937,
          0.7736018256670188,
          0.20411215283189185,
          0.7795916328662478,
          0.503800669287039,
          0.46313729275975635,
          0.4270258766606137,
          0.18131523790245135,
          0.3888944412965379,
          0.8518726196279234,
          0.5097949154190732,
          0.8372088865076418,
          0.7971327746554082,
          0.509359758196447,
          0.41633768956132594,
          0.5547195857746715,
          0.7895206498798952,
          0.7718622237453302,
          0.4729983554878623,
          0.863289499529186,
          -0.4378807973851955,
          0.35525492071534365,
          0.4047247448251587,
          0.7673168575626832,
          0.20941955672480536,
          0.42068407047406464,
          0.993658728699487,
          0.4238805303096443,
          0.45933171140818774,
          0.3932029816614254,
          -0.4021776260887518,
          0.40625368336951706,
          -0.2828854340122547,
          0.4856114287404049,
          1.103656143338754,
          0.9646956131309272,
          0.4541904745397265,
          -0.5070231715440525,
          -0.3367979122756459,
          -0.3522208328025356,
          -0.4861083317435389,
          1.0071543564129972,
          0.30675552214804,
          1.098993479231953,
          0.820145718264437,
          -0.3589323034362553,
          0.5115758280028994,
          0.4679351438726615,
          0.9535369004969992,
          0.5584705502856399,
          0.9746872127621542,
          0.3552016141384032,
          1.016091822126473,
          0.868224283712545,
          0.8198517937636574,
          0.456283444852757,
          -0.29492200792192425,
          0.45246696232579076,
          0.5025580234751611,
          0.3009721721963497,
          0.3966204737858411,
          0.3018462733004188,
          0.8051226575279312,
          -0.5003151086090853,
          0.2984437423244946,
          0.8271509644569647,
          0.38651046197209976
         ],
         "xaxis": "x",
         "y": [
          -0.2918937891331703,
          0.7366113814595975,
          -0.30225997306971014,
          -0.3351084627376934,
          0.23027321920852614,
          0.2390672132016417,
          0.5335379158670075,
          0.5947525359931289,
          -0.27320461080116604,
          -0.2936022048789855,
          -0.38191006739731137,
          0.2454419176346119,
          -0.33917511140822615,
          -0.28604827135063093,
          -0.2912300745798819,
          0.8370207661570618,
          0.2247369675666224,
          -0.28257182452245616,
          -0.3004719858419655,
          -0.2932091770436377,
          0.3009616938691225,
          0.2356674220640205,
          0.2626631891949672,
          -0.4014126139361404,
          -0.30557039389231777,
          0.2623830074176066,
          0.23077563270163504,
          1.5986282470692776,
          0.21395889726097225,
          0.028571980940965035,
          0.5574992309732758,
          -0.2882160484685537,
          -0.01352854967954417,
          -0.018154558292798408,
          -0.34765072114496787,
          -0.33747688823550237,
          0.16745889027761507,
          -0.291819124987166,
          1.3913303398260428,
          -0.38450514653531687,
          -0.6357805643843573,
          0.07981117676845573,
          -0.3852104145425022,
          0.08781991747083387,
          0.24182821342219493,
          -0.34750372415148884,
          0.23884277052366898,
          -0.2834268387627306,
          -0.4118339831054764,
          -0.5577413684324692,
          -0.2874251029793581,
          0.556139620968551,
          -0.4289908682882662,
          0.8431728265919339,
          -0.3204406839656461,
          0.24081329314907834,
          0.5582422321126964,
          -0.4530838666729051,
          -0.031384777386476125,
          -0.32618257261766326,
          -0.2743371808284341,
          -0.3257119398615364,
          -0.2890550986783063,
          0.006579120752083797,
          -0.4113733991303002,
          -0.5215777320107915,
          0.043069198661661645,
          -0.333057605561377,
          -0.29018610319991134,
          0.23805159541485346,
          -0.30107425667699406,
          -0.34741898728561565,
          0.10842952532465897,
          -0.29232759242323997,
          0.5471146326426862,
          0.023725771662493397,
          -0.362200022247761,
          0.2418289109358664,
          -0.3933976101609172,
          0.1032843425783752,
          -0.3066506011901456,
          -0.001603096091934004,
          -0.3595082870250277,
          -0.4165036285531026,
          0.4722695698738436,
          -0.28910156042567603,
          0.06240921150665823,
          -0.2779225131214447,
          -0.3329425485411653,
          -0.2877845404966975,
          0.220565110761709,
          0.17295091178973068,
          -0.3076732853667275,
          -0.5419694900763925,
          0.24120783443297877,
          -0.2970190223979551,
          0.8711880143629405,
          1.211106045587457,
          1.910073323790522,
          0.9221379798756123,
          -0.31277099590340834,
          0.5243370803434234,
          0.19523165462939548,
          0.23145256672512002,
          -0.2872471080761058,
          -0.3359031178562176,
          0.23743191393930882,
          -0.5753488434221733,
          -0.34967435687939824,
          -0.5240640076372735,
          0.230600560246928,
          0.5639660182907744,
          0.5474914318817365,
          0.26288763187293973,
          0.1784734211746754,
          0.03439964848938756,
          -0.3478374340660127,
          0.24098339175500622,
          0.2361282320504854,
          -0.32170454355652717,
          1.774505388538395,
          0.5632314816314941,
          -0.2804557471599872,
          -0.34488972092441444,
          -0.27055299623837364,
          0.3074392291246531,
          0.3446377525970611,
          -0.4584393882896455,
          -0.3461429156945836,
          0.2459457261550637,
          -0.44617038151461597,
          -0.28600338908157336,
          -0.3136165150842686,
          -0.30190733906611755,
          -0.3087851545058681,
          0.30339687890371164,
          -0.10445370116131594,
          0.05142182877872149,
          0.2330349169427511,
          -0.4448385363280928,
          0.23319643571033266,
          -0.14230727451984015,
          0.27609901379180846,
          -0.2813563079265637,
          0.22225614912342942,
          0.23285623849847695,
          -0.26161331193004317,
          0.19348627219563025,
          -0.3336244944978903,
          -0.42546340480971384,
          -0.28296706332002813,
          0.21638537163212054,
          1.099849983358341,
          -0.3053634335214537,
          -0.3256470826464163,
          0.22840489742987458,
          0.571740794221782,
          -0.3497529151057059,
          0.5360308869682466,
          -0.3912815004453068,
          0.07820860803839237,
          0.1983328520618047,
          -0.3184347413572606,
          -0.3420680077556942,
          0.23810663700056964,
          0.44639997056189856,
          -0.5151050707324886,
          0.05602744915704135,
          0.24351925178391545,
          -0.284195365222946,
          0.53963172242328,
          1.2859314393864705,
          -0.30152420734567703,
          0.24498514995399193,
          0.23512049658837217,
          -0.29408068670336035,
          -0.29084908698310696,
          -0.2904433398704933,
          1.1129526976247888,
          -0.27917045591088036,
          0.5803231245584944,
          0.2336552959319674,
          -0.300046202098469,
          0.16483166864656928,
          0.11041297753232296,
          0.22980938513811255,
          -0.28600635009767356,
          0.24408458918741546,
          0.031637764804875644,
          0.2465661051442798,
          0.23652347084805744,
          0.2487123977380678,
          0.24120853194665035,
          -0.325065828441471,
          0.23912225478735788,
          0.2384468342124255,
          -0.3287538526295487,
          -0.3646483812409838,
          -0.3142528108749302,
          0.24008283098842986,
          -0.2746478935790695,
          1.627929875796763,
          0.565004817155963,
          -0.3054633573762274,
          -0.253009123459133,
          -0.32174297082712633,
          -0.5626744285104806,
          -0.5436580272510829,
          -0.41553110072938343,
          0.46521702796494574,
          -0.3439710520036504,
          0.22716344193777074,
          -0.4114991821495835,
          -0.33074469437136983,
          -0.47672456093729754,
          1.110726812585501,
          0.2431240129863436,
          -0.2738869004451458,
          -0.40447538409795036,
          0.2470378415094711,
          -0.28639600188877856,
          0.22699404084551436,
          0.5651068926477687,
          0.21983464860106022,
          0.2330398907915303,
          0.24634096495263566,
          -0.3397565904047576,
          -0.3136524212875203,
          0.2399677739682181,
          -0.4149387918669009,
          1.0602677764536714,
          -0.3342664235665418,
          -0.3130308585643571,
          -0.4383411336245245,
          -0.4351761405449203,
          -0.30801569354080743,
          -0.3173924355779385,
          -0.427078321091126,
          0.23099510153082847,
          -0.34063683205492246,
          0.22721848352348692,
          0.8546863329070119,
          -0.2716161733841428,
          0.25492074513283314,
          -0.32537247341977926,
          -0.28915086381038313,
          -0.3134298021632237,
          0.24950287533321183,
          -0.26994018383187646,
          0.23974263377657393,
          0.2157666416696127,
          -0.3503348668243228,
          0.05509065771467915,
          -0.3487408191319516,
          0.2285135855739639,
          -0.4832479678817097,
          -0.3623414831082545,
          -0.348271100134184,
          -0.004354320594717617,
          -0.3510008578951414,
          -0.4424034305485447,
          -0.4846780114070826,
          -0.2914589576572814,
          0.22162788780953838,
          0.14630877994971211,
          -0.3449991065821754,
          -0.2852155567605737,
          0.7827112941006641,
          -0.0911576975883381,
          0.24707861192428765,
          0.8665464897772028,
          0.2214099324288976,
          -0.06764411579826522,
          0.1892514914803256,
          0.006523612412012638,
          -0.2827219337265778,
          0.2295299008744236,
          -0.39370445300342116,
          -0.012257501244932937,
          0.2387270159897858,
          0.25193460472063567,
          -0.3088974290300426,
          -0.30467855114353404,
          0.2343771782542695,
          -0.3513303902862853,
          -0.379750640498115,
          1.0814615863276436,
          -0.3299520328381724,
          0.14042923036230695,
          -0.31743156036220943,
          -0.2823542509135307,
          -0.2781669452012235,
          -0.324670589643899,
          0.2053964123356233,
          -0.387486034966781,
          0.25170074911248935,
          0.2419990095417944,
          0.22113114567888026,
          -0.28796444990399556,
          -0.2795656947084522,
          0.20725048291347792,
          -0.30410867324562163,
          -0.3019764162056604,
          0.1206063999880424,
          0.23619115596087648,
          -0.3505019764688515,
          0.2355700794579888,
          -0.2987405917329504,
          -0.4704991402716266,
          -0.4656779782314452,
          0.2339940981164798,
          -0.3857292901986322,
          0.1784023933252034,
          -0.36052750540164735,
          0.06608714381953523,
          0.869746343189008,
          0.07406835516923971,
          0.2335316590734092,
          0.8820823102837363,
          -0.2823256484169512,
          -0.3303872234151862,
          0.23066915551976974,
          -0.28065476600880823,
          -0.31529630038819956,
          -0.42382770936361147,
          0.5751500168694084,
          0.22395367478248168,
          -0.2911911461588041,
          -0.1064289650222873,
          -0.4151255212398324,
          -0.3169142362390927,
          0.24515524855991966,
          -0.3997257949011254,
          -0.024668629646896843,
          0.23522918473246168,
          -0.002878511923810628,
          -0.33400355361796996,
          -0.2965573657076338,
          0.17694646447944276,
          -0.47368109027371025,
          -0.4533863341278333,
          0.2150902695816435,
          -0.30651966545294923,
          -0.39490669098664083,
          -0.3101932285941912,
          0.619443095138039,
          -0.34475504230146276,
          0.22191525439790213,
          0.21830873499648845,
          0.2443647709647757,
          -0.4301955424992021,
          0.1418546965852193,
          -0.2889932723795263,
          0.22834348696803614,
          -0.034445678841837815,
          -0.377982747595196,
          -0.3059656326898898,
          0.18961707881773437,
          -0.28323866525904207,
          0.24030797118007366,
          -0.27512765842357806,
          -0.37627996995541024,
          -0.28153621733386164,
          -0.48563527980247495,
          -0.29123574594233254,
          -0.293950284415516,
          -0.4274173131200062,
          0.1746897367775403,
          -0.06754648263492802,
          -0.49059562827067754,
          -0.4597191190820898,
          -0.28588271323911557,
          -0.2950759853737367,
          -0.27551533063843114,
          -0.3675152062454155,
          0.24346421019819908,
          -0.3065482819221783,
          0.46509534504177413,
          0.03571246929784257,
          -0.34757316909009794,
          -0.29688138324199725,
          -0.4803650020112418,
          0.22834418448170765,
          0.2249628052719381,
          -0.2890109471793473,
          1.0258469029753927,
          0.2308321877359038,
          0.9981755724933921,
          1.4718464603821362,
          -0.2790131618957553,
          0.24859885416640876,
          -0.2976118454026459,
          0.04497394954723075,
          1.8438479027796324,
          -0.007919490795479633,
          -0.3415366953078273,
          0.2364162961525206,
          -0.30247267646961734,
          -0.03041999423483525,
          -0.290786927424946,
          -0.30415953730795775,
          1.0546370094433968,
          -0.3348708857543124,
          1.129477395405326,
          -0.2865211338696653,
          -0.3535981283858893,
          0.23432213666855325,
          0.02503136900893583,
          -0.29269597274995834,
          1.6096314575665724,
          0.004087528733301622,
          -0.28372995167421977,
          -0.2921117628400407,
          0.08694475486080921,
          0.245380388751564,
          -0.3185063972580939,
          0.23957253517064608,
          0.24476000976234774,
          0.2367014517786601,
          0.25051849311999985,
          -0.3955958175458438,
          -0.2922520279863652,
          0.22717202177611703,
          -0.2897230370265033,
          0.2215814260621686,
          -0.28041121388931256,
          0.23658639475844864,
          1.2325583014246722,
          -0.29795204261450164,
          -0.327805783603548,
          -0.28842261261195873,
          -0.28710943566372105,
          0.23008470867474679,
          -0.2753527986152222,
          -0.30106604463771375,
          0.2401450573851493,
          -0.2925070016376127,
          -0.35718803347218575,
          1.3938631432442898,
          0.19150786724554597,
          -0.2900035678022466,
          2.0270763863723626,
          -0.3240340690616513,
          -0.3186399970701178,
          -0.2949659022023042,
          0.24143367213829456,
          1.919226002740541,
          -0.38718275157697185,
          -0.3447739663905313,
          -0.2775865589882696,
          -0.4246507712114381,
          0.11207398682758218,
          0.05053494913109232,
          0.04989462349774363,
          -0.3345221087041102,
          0.036636470995906445,
          -0.28866586095779034,
          0.11883103118624316,
          0.24696852875285522,
          0.23268613989254902,
          -0.3270970640150473,
          0.06748839826479873,
          -0.332742701314712,
          -0.3015845524947777,
          -0.38720742739303027,
          0.22575258535341045,
          -0.5090031349573819,
          1.7907309094557697,
          0.2660580528480256,
          -0.4614284834509561,
          -0.18921385516916264,
          0.2044679305194582,
          0.4567892730305534,
          -0.1938002804899677,
          -0.3763017821430849,
          1.388952634120969,
          -0.4712409191668703,
          -0.4327471184293614,
          -0.6164441462411187,
          -0.44607583191711186,
          -0.38958815756600257,
          -0.4554701565157749,
          -0.01086807160549372,
          -0.39650362095071345,
          -0.2339847442663948,
          -0.25415152904821897,
          1.5510129707393085,
          -0.44769968038331076,
          -0.055769697502031326,
          -0.37271909414584725,
          -0.03332028552260495,
          -0.009747514563731569,
          -0.4302370206049074,
          -0.35717717677462535,
          1.0379826064751798,
          -0.19077073552256818,
          -0.44812231634943805,
          -0.3392895180952588,
          0.041053209159362045,
          -0.06943707291838376,
          1.394475045741864,
          -0.3394126218481221,
          -0.09601657738377992,
          0.27770238888274074,
          -0.1474249585906281,
          0.8421261715449971,
          -0.3934347184298707,
          0.09396982222737353,
          -0.3243476316102618,
          -0.5566400105040599,
          -0.16914824172818868,
          0.5319715754967448,
          0.0201420431888766,
          -0.15038107239058618,
          1.624185795827601,
          -0.40634958647487424,
          -0.06870815912333003,
          -0.3922631625922981,
          -0.3377365912521645,
          -0.14928221126858576,
          0.025014894640644766,
          0.67439809616301,
          0.24738525461764693,
          0.4386364061372779,
          -0.47276424437833753,
          0.12273605519350148,
          -0.08349847300145338,
          -0.37499860587693,
          0.03637076511192619,
          -0.41101068356958964,
          -0.06656188394713654,
          -0.1392175787229916,
          0.9268553485484881,
          0.10503837289323259,
          0.24701505957396513,
          -0.3346810360488129,
          -0.37767398123353196,
          -0.17043083370510861,
          -0.04600762759782878,
          -0.20816129444956297,
          0.48344551254272033,
          -0.5579358795587002,
          -0.06776953501139835,
          -0.5490265961762038,
          -0.17116725777963473,
          -0.12941455589533246,
          -0.20108355795748498,
          -0.39874436593715834,
          -0.35230586164809446,
          1.1503074500199535,
          -0.4905405984848342,
          -0.46169726901115593,
          -0.36588378406376243,
          -0.2095375262360653,
          0.9231949969146395,
          -0.07755325869233887,
          -0.3933959898267879,
          -0.035493415205570235,
          -0.36221334690830914,
          -0.2015257718689471,
          0.015264731173123129,
          -0.4371885161557703,
          -0.5340420104651155,
          -0.31621448075341135,
          1.6690775458236287,
          -0.477209866434334,
          -0.30498765181307225,
          -0.45592033166752416,
          -0.4334747677860211,
          -0.3381958265411424,
          1.8210846866783763,
          0.15323231174026197,
          0.1584471986905736,
          -0.557473562636637,
          -0.24208759740580432,
          -0.06908331892553281,
          -0.4515341382026517,
          -0.04381999490601466,
          -0.3886516973727368,
          1.8406766669084942,
          0.0012548513801916167,
          0.3221130514574727,
          -0.19141757665299608,
          0.2034518962721516,
          0.38132687481772404,
          -0.303572815865859,
          0.8676987155755709,
          -0.11468775682772078,
          -0.22321368128397864,
          0.032176693621316095,
          -0.5317227554067883,
          0.03327559998825754,
          -0.06901108287722565,
          0.16480054175753342,
          -0.21176973241210548,
          -0.3509075005101239,
          -0.030104207326695498,
          -0.47120197583070633,
          -0.2766660821623529,
          -0.5068579792830912,
          -0.15041664545933064,
          1.7252637455478854,
          -0.3939407005184869,
          -0.44343663169360975,
          -0.6047383131633736,
          -0.39629322283646085,
          0.1743676803027847,
          -0.5070334676583453,
          -0.20508122011167518,
          -0.4261810979972355,
          0.6990146953789332,
          -0.3933719811963296,
          0.980312437181468,
          -0.3359188389154041,
          -0.1442143362828113,
          -0.06880662791907033,
          0.16105603713465214,
          1.0390489342762605,
          -0.3353190924371505,
          -0.09552477312557206,
          -0.36514612884034936,
          1.2118028366725873,
          -0.15682326659064963,
          -0.39434566831262174,
          0.1599203523171611,
          -0.38630911991890854,
          -0.3061060330523121,
          -0.15695937236251234,
          -0.2855617359284237,
          -0.40040628879819784,
          0.6150053649538539,
          0.7093983595542951,
          -0.4682108426102269,
          0.08647776253794069,
          -0.3959569519392699,
          -0.3405322847788085,
          0.21928347796036934,
          -0.4164259270805147,
          -0.3639294162657522,
          -0.4516507316130856,
          -0.054138931907432276,
          -0.03437453741084683,
          0.8328574825214174,
          -0.3560268471380664,
          -0.06605009047543924,
          -0.19301896702096974,
          -0.3489871035234437,
          -0.4687756896930269,
          0.49150005920668854,
          0.99492927161207,
          -0.11427702106295604,
          -0.46598965928569847,
          -0.3919056212252693,
          1.4898388958672586,
          -0.3320571475655098,
          -0.3717031808808679,
          -0.2701314290603732,
          1.6561081679817296,
          -0.3861866986436795,
          0.027302292112325134,
          -0.4521747016281588,
          -0.08606889450340836,
          -0.1185279136458785,
          -0.24214936524767233,
          -0.05617465973944349,
          -0.029419092768695046,
          -0.5450678142550316,
          -0.31189449102666394,
          0.13225842446893127,
          -0.14445713697688614,
          -0.45812138053778123,
          0.13623420333614145,
          0.23884558348941257,
          0.12530418941679128,
          -0.5199204098115737,
          0.2110713486320895,
          -0.0077253216010521935,
          -0.10978079031705029,
          -0.30193751232755445,
          -0.35353183127092985,
          -0.4649145389675876,
          -0.40075317974897307,
          -0.3268785369792926,
          -0.39557145116633585,
          1.667487513626788,
          0.8623607131163853,
          -0.30972612380601533,
          -0.47366964939720807,
          1.5230598497063268,
          0.23138554536394046,
          0.8518116864173919,
          -0.014233300222443587,
          -0.5134770612874103,
          -0.16371259337034405,
          -0.3384861361643064,
          1.7025621848642662,
          0.034739123680159745,
          -0.06297438649636496,
          0.6206523776845894,
          -0.02169317939678517,
          -0.4615022372238809,
          0.9362952915568431,
          -0.38000989740087565,
          -0.052350928072547216,
          -0.38370953711194505,
          -0.30812078627861067,
          -0.5461839676149174,
          -0.09623413806875032,
          0.23645496916845365,
          0.08202171107631522,
          -0.4734668063033774,
          1.4363475995630495,
          -0.38943898551405864,
          -0.007799864497052347,
          -0.5567551312098683,
          -0.1456384170082741,
          -0.18208325441917184,
          -0.2840510130949937,
          1.204283732533296,
          -0.4496456229536638,
          -0.3826348672939798,
          -0.3799596139138007,
          -0.17975696239938682,
          -0.4260388243503674,
          -0.3950723285833393,
          -0.15132054407376894,
          -0.49621590779883695,
          -0.37426784435896565,
          1.1699465848708677,
          0.12321309546593623,
          0.10842833262211843,
          -0.490568439216612,
          -0.36602529997109146,
          1.1506071788862877,
          -0.4549073302719742,
          -0.16361498589837717,
          -0.055794636172770994,
          0.009609091565292261,
          0.897942740054128,
          -0.3852999092872147,
          -0.33360092778429346,
          -0.2778376100579914,
          -0.11405305586318037,
          -0.6324991376782829,
          -0.4692815896839681,
          1.4702353412553935,
          -0.4775001060715526,
          -0.2003283162600324,
          -0.22626111059910023,
          -0.39645737407384285,
          -0.2197684551856409,
          -0.47114531413782845,
          -0.3622901889683611,
          1.4905886117850402,
          -0.008643541264450024,
          -0.048133701730721457,
          -0.37697173802725675,
          -0.25708232526572594,
          -0.38670827137946256,
          -0.46832926040130746,
          -0.06834616888354351,
          0.15384456046460468,
          -0.2437980856294642,
          -0.0075737600892759,
          -0.3928797565482828,
          0.6142961291488479,
          -0.2563810049834785,
          -0.040268281825905465,
          0.03995520349872092,
          0.11745598547400883,
          -0.11575037900381219,
          -0.0695534684574043,
          -0.1120080325998717,
          1.6293551510724218,
          -0.5344856798021592,
          0.1332732022799081,
          -0.14809243574567632,
          0.48564047684756506,
          -0.27661859765629365,
          -0.23324332910374146,
          0.5895912872210163,
          -0.4252596931611335,
          -0.5120865029886967,
          1.0933774322249084,
          -0.13302446172511984,
          1.5744498294929719,
          0.05416775223951471,
          0.3430106010526711,
          -0.10648380747715329,
          -0.2983896045798267,
          -0.25406989875730307,
          0.7658390997573135,
          -0.04861824675928569,
          0.33545651045218183,
          -0.1412835219241852,
          0.19965031562860333,
          0.07621773310632651,
          -0.4740102580362219,
          -0.37619717290754323,
          -0.33577190796259654,
          -0.38187954408383307,
          0.3418703533082483,
          -0.38914554362716114,
          1.4479304000033433,
          -0.49788057287084814,
          0.6870247634433272,
          0.123462507889568,
          -0.36207643707763404,
          -0.475763032405917,
          -0.5574269748439832,
          -0.4555450380747615,
          -0.4108036600934991,
          -0.5572925130829728,
          -0.09015861053133763,
          1.9006351721752022,
          -0.4013399647448339,
          -0.3832978405449702,
          -0.5072536876269428,
          -0.4960850545599609,
          -0.22472054495315302,
          -0.36917626452280466,
          0.44756281155302924,
          -0.3740418609689831,
          0.0335906714587548,
          -0.4419452828939573,
          1.5028882892610615,
          0.1203173897670533,
          -0.49298453995590774,
          -0.2922240395802882,
          0.7209460536914825,
          -0.4296488857127638,
          1.5937761634059822,
          -0.527091531707516,
          -0.15212194814598612,
          -0.6189829772301421,
          -0.17347851415506,
          -0.3069540507810528,
          1.390608830218049,
          0.9759578227162062,
          0.18337216364225248,
          -0.1597839136503567,
          0.01709313749193688,
          -0.5235730819321316,
          -0.4390057904033623,
          -0.1205092851190009,
          1.4253434481582952,
          0.6462289298049972,
          -0.22424221229633748,
          1.046933645640809,
          1.5909563090665093,
          -0.3691118765270137,
          0.32197194435207405,
          -0.4954136852833199,
          -0.4386387879765762,
          -0.48513882588339224,
          1.6967302895058582,
          -0.21017231179912635,
          0.9745910604909063,
          -0.2980897830383571,
          -0.39650721912212106,
          -0.23660578215940778,
          -0.42076689564077124,
          -0.3071332409284185,
          0.037358398927020045,
          -0.447957382390753,
          -0.4069292356268385
         ],
         "yaxis": "y"
        }
       ],
       "layout": {
        "coloraxis": {
         "colorbar": {
          "title": {
           "text": "Class"
          }
         },
         "colorscale": [
          [
           0,
           "#0d0887"
          ],
          [
           0.1111111111111111,
           "#46039f"
          ],
          [
           0.2222222222222222,
           "#7201a8"
          ],
          [
           0.3333333333333333,
           "#9c179e"
          ],
          [
           0.4444444444444444,
           "#bd3786"
          ],
          [
           0.5555555555555556,
           "#d8576b"
          ],
          [
           0.6666666666666666,
           "#ed7953"
          ],
          [
           0.7777777777777778,
           "#fb9f3a"
          ],
          [
           0.8888888888888888,
           "#fdca26"
          ],
          [
           1,
           "#f0f921"
          ]
         ]
        },
        "legend": {
         "tracegroupgap": 0
        },
        "template": {
         "data": {
          "bar": [
           {
            "error_x": {
             "color": "#2a3f5f"
            },
            "error_y": {
             "color": "#2a3f5f"
            },
            "marker": {
             "line": {
              "color": "#E5ECF6",
              "width": 0.5
             },
             "pattern": {
              "fillmode": "overlay",
              "size": 10,
              "solidity": 0.2
             }
            },
            "type": "bar"
           }
          ],
          "barpolar": [
           {
            "marker": {
             "line": {
              "color": "#E5ECF6",
              "width": 0.5
             },
             "pattern": {
              "fillmode": "overlay",
              "size": 10,
              "solidity": 0.2
             }
            },
            "type": "barpolar"
           }
          ],
          "carpet": [
           {
            "aaxis": {
             "endlinecolor": "#2a3f5f",
             "gridcolor": "white",
             "linecolor": "white",
             "minorgridcolor": "white",
             "startlinecolor": "#2a3f5f"
            },
            "baxis": {
             "endlinecolor": "#2a3f5f",
             "gridcolor": "white",
             "linecolor": "white",
             "minorgridcolor": "white",
             "startlinecolor": "#2a3f5f"
            },
            "type": "carpet"
           }
          ],
          "choropleth": [
           {
            "colorbar": {
             "outlinewidth": 0,
             "ticks": ""
            },
            "type": "choropleth"
           }
          ],
          "contour": [
           {
            "colorbar": {
             "outlinewidth": 0,
             "ticks": ""
            },
            "colorscale": [
             [
              0,
              "#0d0887"
             ],
             [
              0.1111111111111111,
              "#46039f"
             ],
             [
              0.2222222222222222,
              "#7201a8"
             ],
             [
              0.3333333333333333,
              "#9c179e"
             ],
             [
              0.4444444444444444,
              "#bd3786"
             ],
             [
              0.5555555555555556,
              "#d8576b"
             ],
             [
              0.6666666666666666,
              "#ed7953"
             ],
             [
              0.7777777777777778,
              "#fb9f3a"
             ],
             [
              0.8888888888888888,
              "#fdca26"
             ],
             [
              1,
              "#f0f921"
             ]
            ],
            "type": "contour"
           }
          ],
          "contourcarpet": [
           {
            "colorbar": {
             "outlinewidth": 0,
             "ticks": ""
            },
            "type": "contourcarpet"
           }
          ],
          "heatmap": [
           {
            "colorbar": {
             "outlinewidth": 0,
             "ticks": ""
            },
            "colorscale": [
             [
              0,
              "#0d0887"
             ],
             [
              0.1111111111111111,
              "#46039f"
             ],
             [
              0.2222222222222222,
              "#7201a8"
             ],
             [
              0.3333333333333333,
              "#9c179e"
             ],
             [
              0.4444444444444444,
              "#bd3786"
             ],
             [
              0.5555555555555556,
              "#d8576b"
             ],
             [
              0.6666666666666666,
              "#ed7953"
             ],
             [
              0.7777777777777778,
              "#fb9f3a"
             ],
             [
              0.8888888888888888,
              "#fdca26"
             ],
             [
              1,
              "#f0f921"
             ]
            ],
            "type": "heatmap"
           }
          ],
          "heatmapgl": [
           {
            "colorbar": {
             "outlinewidth": 0,
             "ticks": ""
            },
            "colorscale": [
             [
              0,
              "#0d0887"
             ],
             [
              0.1111111111111111,
              "#46039f"
             ],
             [
              0.2222222222222222,
              "#7201a8"
             ],
             [
              0.3333333333333333,
              "#9c179e"
             ],
             [
              0.4444444444444444,
              "#bd3786"
             ],
             [
              0.5555555555555556,
              "#d8576b"
             ],
             [
              0.6666666666666666,
              "#ed7953"
             ],
             [
              0.7777777777777778,
              "#fb9f3a"
             ],
             [
              0.8888888888888888,
              "#fdca26"
             ],
             [
              1,
              "#f0f921"
             ]
            ],
            "type": "heatmapgl"
           }
          ],
          "histogram": [
           {
            "marker": {
             "pattern": {
              "fillmode": "overlay",
              "size": 10,
              "solidity": 0.2
             }
            },
            "type": "histogram"
           }
          ],
          "histogram2d": [
           {
            "colorbar": {
             "outlinewidth": 0,
             "ticks": ""
            },
            "colorscale": [
             [
              0,
              "#0d0887"
             ],
             [
              0.1111111111111111,
              "#46039f"
             ],
             [
              0.2222222222222222,
              "#7201a8"
             ],
             [
              0.3333333333333333,
              "#9c179e"
             ],
             [
              0.4444444444444444,
              "#bd3786"
             ],
             [
              0.5555555555555556,
              "#d8576b"
             ],
             [
              0.6666666666666666,
              "#ed7953"
             ],
             [
              0.7777777777777778,
              "#fb9f3a"
             ],
             [
              0.8888888888888888,
              "#fdca26"
             ],
             [
              1,
              "#f0f921"
             ]
            ],
            "type": "histogram2d"
           }
          ],
          "histogram2dcontour": [
           {
            "colorbar": {
             "outlinewidth": 0,
             "ticks": ""
            },
            "colorscale": [
             [
              0,
              "#0d0887"
             ],
             [
              0.1111111111111111,
              "#46039f"
             ],
             [
              0.2222222222222222,
              "#7201a8"
             ],
             [
              0.3333333333333333,
              "#9c179e"
             ],
             [
              0.4444444444444444,
              "#bd3786"
             ],
             [
              0.5555555555555556,
              "#d8576b"
             ],
             [
              0.6666666666666666,
              "#ed7953"
             ],
             [
              0.7777777777777778,
              "#fb9f3a"
             ],
             [
              0.8888888888888888,
              "#fdca26"
             ],
             [
              1,
              "#f0f921"
             ]
            ],
            "type": "histogram2dcontour"
           }
          ],
          "mesh3d": [
           {
            "colorbar": {
             "outlinewidth": 0,
             "ticks": ""
            },
            "type": "mesh3d"
           }
          ],
          "parcoords": [
           {
            "line": {
             "colorbar": {
              "outlinewidth": 0,
              "ticks": ""
             }
            },
            "type": "parcoords"
           }
          ],
          "pie": [
           {
            "automargin": true,
            "type": "pie"
           }
          ],
          "scatter": [
           {
            "fillpattern": {
             "fillmode": "overlay",
             "size": 10,
             "solidity": 0.2
            },
            "type": "scatter"
           }
          ],
          "scatter3d": [
           {
            "line": {
             "colorbar": {
              "outlinewidth": 0,
              "ticks": ""
             }
            },
            "marker": {
             "colorbar": {
              "outlinewidth": 0,
              "ticks": ""
             }
            },
            "type": "scatter3d"
           }
          ],
          "scattercarpet": [
           {
            "marker": {
             "colorbar": {
              "outlinewidth": 0,
              "ticks": ""
             }
            },
            "type": "scattercarpet"
           }
          ],
          "scattergeo": [
           {
            "marker": {
             "colorbar": {
              "outlinewidth": 0,
              "ticks": ""
             }
            },
            "type": "scattergeo"
           }
          ],
          "scattergl": [
           {
            "marker": {
             "colorbar": {
              "outlinewidth": 0,
              "ticks": ""
             }
            },
            "type": "scattergl"
           }
          ],
          "scattermapbox": [
           {
            "marker": {
             "colorbar": {
              "outlinewidth": 0,
              "ticks": ""
             }
            },
            "type": "scattermapbox"
           }
          ],
          "scatterpolar": [
           {
            "marker": {
             "colorbar": {
              "outlinewidth": 0,
              "ticks": ""
             }
            },
            "type": "scatterpolar"
           }
          ],
          "scatterpolargl": [
           {
            "marker": {
             "colorbar": {
              "outlinewidth": 0,
              "ticks": ""
             }
            },
            "type": "scatterpolargl"
           }
          ],
          "scatterternary": [
           {
            "marker": {
             "colorbar": {
              "outlinewidth": 0,
              "ticks": ""
             }
            },
            "type": "scatterternary"
           }
          ],
          "surface": [
           {
            "colorbar": {
             "outlinewidth": 0,
             "ticks": ""
            },
            "colorscale": [
             [
              0,
              "#0d0887"
             ],
             [
              0.1111111111111111,
              "#46039f"
             ],
             [
              0.2222222222222222,
              "#7201a8"
             ],
             [
              0.3333333333333333,
              "#9c179e"
             ],
             [
              0.4444444444444444,
              "#bd3786"
             ],
             [
              0.5555555555555556,
              "#d8576b"
             ],
             [
              0.6666666666666666,
              "#ed7953"
             ],
             [
              0.7777777777777778,
              "#fb9f3a"
             ],
             [
              0.8888888888888888,
              "#fdca26"
             ],
             [
              1,
              "#f0f921"
             ]
            ],
            "type": "surface"
           }
          ],
          "table": [
           {
            "cells": {
             "fill": {
              "color": "#EBF0F8"
             },
             "line": {
              "color": "white"
             }
            },
            "header": {
             "fill": {
              "color": "#C8D4E3"
             },
             "line": {
              "color": "white"
             }
            },
            "type": "table"
           }
          ]
         },
         "layout": {
          "annotationdefaults": {
           "arrowcolor": "#2a3f5f",
           "arrowhead": 0,
           "arrowwidth": 1
          },
          "autotypenumbers": "strict",
          "coloraxis": {
           "colorbar": {
            "outlinewidth": 0,
            "ticks": ""
           }
          },
          "colorscale": {
           "diverging": [
            [
             0,
             "#8e0152"
            ],
            [
             0.1,
             "#c51b7d"
            ],
            [
             0.2,
             "#de77ae"
            ],
            [
             0.3,
             "#f1b6da"
            ],
            [
             0.4,
             "#fde0ef"
            ],
            [
             0.5,
             "#f7f7f7"
            ],
            [
             0.6,
             "#e6f5d0"
            ],
            [
             0.7,
             "#b8e186"
            ],
            [
             0.8,
             "#7fbc41"
            ],
            [
             0.9,
             "#4d9221"
            ],
            [
             1,
             "#276419"
            ]
           ],
           "sequential": [
            [
             0,
             "#0d0887"
            ],
            [
             0.1111111111111111,
             "#46039f"
            ],
            [
             0.2222222222222222,
             "#7201a8"
            ],
            [
             0.3333333333333333,
             "#9c179e"
            ],
            [
             0.4444444444444444,
             "#bd3786"
            ],
            [
             0.5555555555555556,
             "#d8576b"
            ],
            [
             0.6666666666666666,
             "#ed7953"
            ],
            [
             0.7777777777777778,
             "#fb9f3a"
            ],
            [
             0.8888888888888888,
             "#fdca26"
            ],
            [
             1,
             "#f0f921"
            ]
           ],
           "sequentialminus": [
            [
             0,
             "#0d0887"
            ],
            [
             0.1111111111111111,
             "#46039f"
            ],
            [
             0.2222222222222222,
             "#7201a8"
            ],
            [
             0.3333333333333333,
             "#9c179e"
            ],
            [
             0.4444444444444444,
             "#bd3786"
            ],
            [
             0.5555555555555556,
             "#d8576b"
            ],
            [
             0.6666666666666666,
             "#ed7953"
            ],
            [
             0.7777777777777778,
             "#fb9f3a"
            ],
            [
             0.8888888888888888,
             "#fdca26"
            ],
            [
             1,
             "#f0f921"
            ]
           ]
          },
          "colorway": [
           "#636efa",
           "#EF553B",
           "#00cc96",
           "#ab63fa",
           "#FFA15A",
           "#19d3f3",
           "#FF6692",
           "#B6E880",
           "#FF97FF",
           "#FECB52"
          ],
          "font": {
           "color": "#2a3f5f"
          },
          "geo": {
           "bgcolor": "white",
           "lakecolor": "white",
           "landcolor": "#E5ECF6",
           "showlakes": true,
           "showland": true,
           "subunitcolor": "white"
          },
          "hoverlabel": {
           "align": "left"
          },
          "hovermode": "closest",
          "mapbox": {
           "style": "light"
          },
          "paper_bgcolor": "white",
          "plot_bgcolor": "#E5ECF6",
          "polar": {
           "angularaxis": {
            "gridcolor": "white",
            "linecolor": "white",
            "ticks": ""
           },
           "bgcolor": "#E5ECF6",
           "radialaxis": {
            "gridcolor": "white",
            "linecolor": "white",
            "ticks": ""
           }
          },
          "scene": {
           "xaxis": {
            "backgroundcolor": "#E5ECF6",
            "gridcolor": "white",
            "gridwidth": 2,
            "linecolor": "white",
            "showbackground": true,
            "ticks": "",
            "zerolinecolor": "white"
           },
           "yaxis": {
            "backgroundcolor": "#E5ECF6",
            "gridcolor": "white",
            "gridwidth": 2,
            "linecolor": "white",
            "showbackground": true,
            "ticks": "",
            "zerolinecolor": "white"
           },
           "zaxis": {
            "backgroundcolor": "#E5ECF6",
            "gridcolor": "white",
            "gridwidth": 2,
            "linecolor": "white",
            "showbackground": true,
            "ticks": "",
            "zerolinecolor": "white"
           }
          },
          "shapedefaults": {
           "line": {
            "color": "#2a3f5f"
           }
          },
          "ternary": {
           "aaxis": {
            "gridcolor": "white",
            "linecolor": "white",
            "ticks": ""
           },
           "baxis": {
            "gridcolor": "white",
            "linecolor": "white",
            "ticks": ""
           },
           "bgcolor": "#E5ECF6",
           "caxis": {
            "gridcolor": "white",
            "linecolor": "white",
            "ticks": ""
           }
          },
          "title": {
           "x": 0.05
          },
          "xaxis": {
           "automargin": true,
           "gridcolor": "white",
           "linecolor": "white",
           "ticks": "",
           "title": {
            "standoff": 15
           },
           "zerolinecolor": "white",
           "zerolinewidth": 2
          },
          "yaxis": {
           "automargin": true,
           "gridcolor": "white",
           "linecolor": "white",
           "ticks": "",
           "title": {
            "standoff": 15
           },
           "zerolinecolor": "white",
           "zerolinewidth": 2
          }
         }
        },
        "title": {
         "text": "PCA Visualization of SMOTE oversampling Training Set"
        },
        "xaxis": {
         "anchor": "y",
         "domain": [
          0,
          1
         ],
         "title": {
          "text": "PCA1"
         }
        },
        "yaxis": {
         "anchor": "x",
         "domain": [
          0,
          1
         ],
         "title": {
          "text": "PCA2"
         }
        }
       }
      }
     },
     "metadata": {},
     "output_type": "display_data"
    }
   ],
   "source": [
    "# # Standardized data\n",
    "# scaler = StandardScaler()\n",
    "# X_train_sm_scaled = scaler.fit_transform(x_train_sm)\n",
    "\n",
    "# Scale data\n",
    "X_train_sm_scaled = scaler.fit_transform(x_train_sm)\n",
    "\n",
    "# Dimensionality reduction using PCA\n",
    "pca = PCA(n_components=2)\n",
    "X_train_sm_pca = pca.fit_transform(X_train_sm_scaled)\n",
    "\n",
    "# Combine the downscaled data and the target variable into a data frame\n",
    "df_pca = pd.DataFrame(data={'PCA1': X_train_sm_pca[:, 0], 'PCA2': X_train_sm_pca[:, 1], 'Class': y_train_sm})\n",
    "\n",
    "# Create scatter graph\n",
    "fig = px.scatter(df_pca, x='PCA1', y='PCA2', color='Class', title='PCA Visualization of SMOTE oversampling Training Set')\n",
    "\n",
    "# show image\n",
    "fig.show()"
   ]
  },
  {
   "cell_type": "markdown",
   "metadata": {},
   "source": [
    "### Dimensionality Reduction\n",
    "\n"
   ]
  },
  {
   "cell_type": "code",
   "execution_count": 98,
   "metadata": {},
   "outputs": [],
   "source": [
    "from sklearn.preprocessing import MinMaxScaler\n",
    "\n",
    "# Scale data\n",
    "scaler = MinMaxScaler()\n",
    "data_rescaled = scaler.fit_transform(x_train_sm)"
   ]
  }
 ],
 "metadata": {
  "kernelspec": {
   "display_name": "mai644",
   "language": "python",
   "name": "python3"
  },
  "language_info": {
   "codemirror_mode": {
    "name": "ipython",
    "version": 3
   },
   "file_extension": ".py",
   "mimetype": "text/x-python",
   "name": "python",
   "nbconvert_exporter": "python",
   "pygments_lexer": "ipython3",
   "version": "3.10.13"
  },
  "vscode": {
   "interpreter": {
    "hash": "32bdd95e8c4ecada84a0073ec4e8d048a8aaf2397f6888f3b1d4c4db30935bf8"
   }
  }
 },
 "nbformat": 4,
 "nbformat_minor": 2
}
