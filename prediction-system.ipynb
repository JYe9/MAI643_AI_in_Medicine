{
 "cells": [
  {
   "cell_type": "markdown",
   "metadata": {},
   "source": [
    "# MAI643 - Artificial Intelligence in Medicine\n",
    "\n",
    "Project Assignment 1 - Spring Semester 2024\n",
    "\n",
    "Student Name:    \n",
    "Christina Ioanna Saroglaki   \n",
    "Jianlin Ye \n",
    "\n",
    "UCY Email:     \n",
    "saroglaki.christina-ioanna@ucy.ac.cy    \n",
    "jye00001@ucy.ac.cy "
   ]
  },
  {
   "cell_type": "markdown",
   "metadata": {},
   "source": [
    "## Description \n",
    "----\n",
    "This file contains the source code for the development of the cervical cancer prediction system.\n",
    "\n",
    "**This does not contain the source code for the preliminary analysis.** The source code for the preliminary analysis is contained in the `pre-processing.ipynb` file."
   ]
  },
  {
   "cell_type": "markdown",
   "metadata": {},
   "source": [
    "### Import Libararies"
   ]
  },
  {
   "cell_type": "code",
   "execution_count": 40,
   "metadata": {},
   "outputs": [],
   "source": [
    "from IPython.display import clear_output\n",
    "\n",
    "!pip install pyarrow imbalanced-learn\n",
    "\n",
    "clear_output()"
   ]
  },
  {
   "cell_type": "code",
   "execution_count": 41,
   "metadata": {},
   "outputs": [],
   "source": [
    "import pandas as pd \n",
    "import numpy as np\n",
    "from collections import Counter\n",
    "from sklearn.decomposition import PCA\n",
    "from sklearn.preprocessing import StandardScaler\n",
    "from sklearn.preprocessing import MinMaxScaler\n",
    "from sklearn.model_selection import train_test_split\n",
    "from imblearn.combine import SMOTEENN\n",
    "\n",
    "# Visualization\n",
    "import plotly.express as px\n",
    "import plotly.graph_objects as go\n",
    "from plotly.subplots import make_subplots\n",
    "\n",
    "np.set_printoptions(formatter={'float':\"{:6.5g}\".format})\n",
    "\n",
    "import warnings\n",
    "warnings.simplefilter(action='ignore', category=FutureWarning)"
   ]
  },
  {
   "cell_type": "markdown",
   "metadata": {},
   "source": [
    "# Overview\n",
    "\n",
    "As per the authors, the chosen dataset focuses on indicators associated with the diagnosis of cervical cancer, encompassing various features such as demographic information, habits, and medical records​. In more detail, the data was gathered at \"Hospital Universitario de Caracas\" in Venezuela from a total of 858 patients​.\n",
    "\n",
    "C. J. Fernandes Kelwin and J. Fernandes, “Cervical cancer (Risk Factors),” UCI Machine \n",
    "Learning Repository. 2017."
   ]
  },
  {
   "cell_type": "code",
   "execution_count": 42,
   "metadata": {},
   "outputs": [
    {
     "name": "stdout",
     "output_type": "stream",
     "text": [
      "----------------------------------- Information -----------------------------------\n",
      "<class 'pandas.core.frame.DataFrame'>\n",
      "RangeIndex: 858 entries, 0 to 857\n",
      "Data columns (total 36 columns):\n",
      " #   Column                              Non-Null Count  Dtype  \n",
      "---  ------                              --------------  -----  \n",
      " 0   Age                                 858 non-null    int64  \n",
      " 1   Number of sexual partners           832 non-null    float64\n",
      " 2   First sexual intercourse            851 non-null    float64\n",
      " 3   Num of pregnancies                  802 non-null    float64\n",
      " 4   Smokes                              845 non-null    float64\n",
      " 5   Smokes (years)                      845 non-null    float64\n",
      " 6   Smokes (packs/year)                 845 non-null    float64\n",
      " 7   Hormonal Contraceptives             750 non-null    float64\n",
      " 8   Hormonal Contraceptives (years)     750 non-null    float64\n",
      " 9   IUD                                 741 non-null    float64\n",
      " 10  IUD (years)                         741 non-null    float64\n",
      " 11  STDs                                753 non-null    float64\n",
      " 12  STDs (number)                       753 non-null    float64\n",
      " 13  STDs:condylomatosis                 753 non-null    float64\n",
      " 14  STDs:cervical condylomatosis        753 non-null    float64\n",
      " 15  STDs:vaginal condylomatosis         753 non-null    float64\n",
      " 16  STDs:vulvo-perineal condylomatosis  753 non-null    float64\n",
      " 17  STDs:syphilis                       753 non-null    float64\n",
      " 18  STDs:pelvic inflammatory disease    753 non-null    float64\n",
      " 19  STDs:genital herpes                 753 non-null    float64\n",
      " 20  STDs:molluscum contagiosum          753 non-null    float64\n",
      " 21  STDs:AIDS                           753 non-null    float64\n",
      " 22  STDs:HIV                            753 non-null    float64\n",
      " 23  STDs:Hepatitis B                    753 non-null    float64\n",
      " 24  STDs:HPV                            753 non-null    float64\n",
      " 25  STDs: Number of diagnosis           858 non-null    int64  \n",
      " 26  STDs: Time since first diagnosis    71 non-null     float64\n",
      " 27  STDs: Time since last diagnosis     71 non-null     float64\n",
      " 28  Dx:Cancer                           858 non-null    int64  \n",
      " 29  Dx:CIN                              858 non-null    int64  \n",
      " 30  Dx:HPV                              858 non-null    int64  \n",
      " 31  Dx                                  858 non-null    int64  \n",
      " 32  Hinselmann                          858 non-null    int64  \n",
      " 33  Schiller                            858 non-null    int64  \n",
      " 34  Citology                            858 non-null    int64  \n",
      " 35  Biopsy                              858 non-null    int64  \n",
      "dtypes: float64(26), int64(10)\n",
      "memory usage: 241.4 KB\n"
     ]
    }
   ],
   "source": [
    "risk_factor_df = pd.read_csv(\"risk_factors_cervical_cancer.csv\", \n",
    "            na_values=[\"?\"])\n",
    "\n",
    "print(\"----------------------------------- Information -----------------------------------\")\n",
    "risk_factor_df.info()"
   ]
  },
  {
   "cell_type": "markdown",
   "metadata": {},
   "source": [
    "# Data pre-processing steps\n",
    "---\n",
    "- Re-encoded missing values from \"?\" to `NaN`\n",
    "- Handled missing and duplicate values\n",
    "- Dropped zero variance features\n",
    "- Removed outliers\n",
    "- Split data into training, validation and test sets\n",
    "- Handled target variable imbalance\n",
    "- Performed dimensionality reduction\n",
    "\n",
    "## Data cleaning\n",
    "### Missing Values\n",
    "\n",
    "First, we needed to find and manage the volume of missing values contained in the dataset."
   ]
  },
  {
   "cell_type": "code",
   "execution_count": 43,
   "metadata": {},
   "outputs": [
    {
     "name": "stdout",
     "output_type": "stream",
     "text": [
      "----------------------------------- Missing Values -----------------------------------\n",
      "\n",
      "NaN values found in the dataset.\n",
      "\n",
      "Total NaN values in dataset: 3622/30888\n",
      "\n",
      "Top 15 columns with missing values:\n",
      "\n",
      " 1. STDs: Time since last diagnosis     : 787\n",
      " 2. STDs: Time since first diagnosis    : 787\n",
      " 3. IUD                                 : 117\n",
      " 4. IUD (years)                         : 117\n",
      " 5. Hormonal Contraceptives             : 108\n",
      " 6. Hormonal Contraceptives (years)     : 108\n",
      " 7. STDs:pelvic inflammatory disease    : 105\n",
      " 8. STDs:vulvo-perineal condylomatosis  : 105\n",
      " 9. STDs:HPV                            : 105\n",
      "10. STDs:Hepatitis B                    : 105\n",
      "11. STDs:HIV                            : 105\n",
      "12. STDs:AIDS                           : 105\n",
      "13. STDs:molluscum contagiosum          : 105\n",
      "14. STDs:genital herpes                 : 105\n",
      "15. STDs:syphilis                       : 105\n"
     ]
    }
   ],
   "source": [
    "print(\"----------------------------------- Missing Values -----------------------------------\")\n",
    "missing_info = risk_factor_df.isnull().sum()\n",
    "total_nan = missing_info.sum()\n",
    "total_entries = risk_factor_df.size\n",
    "\n",
    "# Print total NaN values\n",
    "if (total_nan == 0):\n",
    "    print(\"\\nNo NaN values in the dataset.\")\n",
    "else:\n",
    "    print(\"\\nNaN values found in the dataset.\")\n",
    "\n",
    "    print(\"\\nTotal NaN values in dataset: {}/{}\".format(total_nan, total_entries))\n",
    "\n",
    "    # Sort columns by the number of missing values\n",
    "    nan_columns = missing_info.sort_values(ascending=False)\n",
    "\n",
    "    print(\"\\nTop 15 columns with missing values:\\n\")\n",
    "    for i, (col, count) in enumerate(nan_columns.head(15).items(), 1):\n",
    "        print(\"{:2}. {:35} : {:}\".format(i, col, count))"
   ]
  },
  {
   "cell_type": "markdown",
   "metadata": {},
   "source": [
    "We identified that the features `STDs: Time since first diagnosis` and `STDs: Time since last diagnosis` were filled with NaN values of about 92%. Because of the high percentage, it was impractical to either eliminate the affected observations or fill the missing values with the mean of columns. Consequently, these features were excluded from the dataset."
   ]
  },
  {
   "cell_type": "code",
   "execution_count": 44,
   "metadata": {},
   "outputs": [],
   "source": [
    "risk_factor_df.drop(columns=[\"STDs: Time since first diagnosis\", \"STDs: Time since last diagnosis\"], inplace=True)"
   ]
  },
  {
   "cell_type": "markdown",
   "metadata": {},
   "source": [
    "To ensure the optimal performance of future models, we also set a **missing value threshold of 10 per row**. Any rows that exceeded this threshold were eliminated from the dataset because we determined they were missing significant information."
   ]
  },
  {
   "cell_type": "code",
   "execution_count": 45,
   "metadata": {},
   "outputs": [
    {
     "name": "stdout",
     "output_type": "stream",
     "text": [
      "\n",
      "Total Rows containing NaN values in dataset: 190/858\n",
      "\n",
      "Rows containing >10 NaN values: 105/858\n"
     ]
    }
   ],
   "source": [
    "# Rows containing NaN values\n",
    "total_rows = len(risk_factor_df)\n",
    "nan_rows = risk_factor_df.isna().any(axis=1).tolist().count(True)\n",
    "print(\"\\nTotal Rows containing NaN values in dataset: {}/{}\".format(nan_rows, total_rows))\n",
    "\n",
    "# Find rows that contain more than 10 NaN values\n",
    "rows_to_del = risk_factor_df[risk_factor_df.isna().sum(axis=1) > 10].index\n",
    "\n",
    "print(\"\\nRows containing >10 NaN values: {}/{}\".format(len(rows_to_del), total_rows))\n",
    "\n",
    "# Remove rows\n",
    "risk_factor_df.drop(rows_to_del, inplace=True)\n",
    "risk_factor_df.reset_index(drop=True, inplace=True)"
   ]
  },
  {
   "cell_type": "markdown",
   "metadata": {},
   "source": [
    "For the remaining columns, we managed the missing values depending on the column. In more detail, if the column contained binary values (0,1) then the row containing the missing value was deleted. Otherwise, the missing value was replaced with the mean of the column."
   ]
  },
  {
   "cell_type": "code",
   "execution_count": 46,
   "metadata": {},
   "outputs": [
    {
     "name": "stdout",
     "output_type": "stream",
     "text": [
      "--------------------------- Handling Missing Values ---------------------------\n",
      "----------------------------------- BEFORE -----------------------------------\n",
      "Number of rows before filling missing values:  753\n",
      "\n",
      "Number of missing values per column before filling:\n",
      "Age                                    0\n",
      "Number of sexual partners             14\n",
      "First sexual intercourse               6\n",
      "Num of pregnancies                    47\n",
      "Smokes                                10\n",
      "Smokes (years)                        10\n",
      "Smokes (packs/year)                   10\n",
      "Hormonal Contraceptives               13\n",
      "Hormonal Contraceptives (years)       13\n",
      "IUD                                   16\n",
      "IUD (years)                           16\n",
      "STDs                                   0\n",
      "STDs (number)                          0\n",
      "STDs:condylomatosis                    0\n",
      "STDs:cervical condylomatosis           0\n",
      "STDs:vaginal condylomatosis            0\n",
      "STDs:vulvo-perineal condylomatosis     0\n",
      "STDs:syphilis                          0\n",
      "STDs:pelvic inflammatory disease       0\n",
      "STDs:genital herpes                    0\n",
      "STDs:molluscum contagiosum             0\n",
      "STDs:AIDS                              0\n",
      "STDs:HIV                               0\n",
      "STDs:Hepatitis B                       0\n",
      "STDs:HPV                               0\n",
      "STDs: Number of diagnosis              0\n",
      "Dx:Cancer                              0\n",
      "Dx:CIN                                 0\n",
      "Dx:HPV                                 0\n",
      "Dx                                     0\n",
      "Hinselmann                             0\n",
      "Schiller                               0\n",
      "Citology                               0\n",
      "Biopsy                                 0\n",
      "dtype: int64\n"
     ]
    }
   ],
   "source": [
    "print(\"--------------------------- Handling Missing Values ---------------------------\")\n",
    "print(\"----------------------------------- BEFORE -----------------------------------\")\n",
    "print(\"Number of rows before filling missing values: \", len(risk_factor_df))\n",
    "\n",
    "# Display the number of missing values before filling\n",
    "print(\"\\nNumber of missing values per column before filling:\")\n",
    "print(risk_factor_df.isnull().sum())\n",
    "\n",
    "# Fill missing values depending on the column\n",
    "for col in risk_factor_df.columns:\n",
    "    # If the column has more than 3 unique values, fill with mean of the column\n",
    "    if risk_factor_df[col].nunique() > 3:\n",
    "        risk_factor_df[col] = risk_factor_df[col].fillna(risk_factor_df[col].median())\n",
    "    \n",
    "# Drop rest NaN containing rows\n",
    "risk_factor_df=risk_factor_df.dropna()\n",
    "risk_factor_df.reset_index(drop=True, inplace=True)"
   ]
  },
  {
   "cell_type": "code",
   "execution_count": 47,
   "metadata": {},
   "outputs": [
    {
     "name": "stdout",
     "output_type": "stream",
     "text": [
      "\n",
      "----------------------------------- AFTER -----------------------------------\n",
      "Number of rows after filling missing values:  726\n",
      "\n",
      "Number of missing values per column after filling:\n",
      "Age                                   0\n",
      "Number of sexual partners             0\n",
      "First sexual intercourse              0\n",
      "Num of pregnancies                    0\n",
      "Smokes                                0\n",
      "Smokes (years)                        0\n",
      "Smokes (packs/year)                   0\n",
      "Hormonal Contraceptives               0\n",
      "Hormonal Contraceptives (years)       0\n",
      "IUD                                   0\n",
      "IUD (years)                           0\n",
      "STDs                                  0\n",
      "STDs (number)                         0\n",
      "STDs:condylomatosis                   0\n",
      "STDs:cervical condylomatosis          0\n",
      "STDs:vaginal condylomatosis           0\n",
      "STDs:vulvo-perineal condylomatosis    0\n",
      "STDs:syphilis                         0\n",
      "STDs:pelvic inflammatory disease      0\n",
      "STDs:genital herpes                   0\n",
      "STDs:molluscum contagiosum            0\n",
      "STDs:AIDS                             0\n",
      "STDs:HIV                              0\n",
      "STDs:Hepatitis B                      0\n",
      "STDs:HPV                              0\n",
      "STDs: Number of diagnosis             0\n",
      "Dx:Cancer                             0\n",
      "Dx:CIN                                0\n",
      "Dx:HPV                                0\n",
      "Dx                                    0\n",
      "Hinselmann                            0\n",
      "Schiller                              0\n",
      "Citology                              0\n",
      "Biopsy                                0\n",
      "dtype: int64\n"
     ]
    }
   ],
   "source": [
    "print(\"\\n----------------------------------- AFTER -----------------------------------\")\n",
    "print(\"Number of rows after filling missing values: \", len(risk_factor_df))\n",
    "\n",
    "# Display the number of missing values after filling\n",
    "print(\"\\nNumber of missing values per column after filling:\")\n",
    "print(risk_factor_df.isnull().sum())"
   ]
  },
  {
   "cell_type": "markdown",
   "metadata": {},
   "source": [
    "### Duplicate Rows\n",
    "\n",
    "Following the missing value analysis, we examined if the dataset contained any duplicate rows and removed them from the dataset."
   ]
  },
  {
   "cell_type": "code",
   "execution_count": 48,
   "metadata": {},
   "outputs": [
    {
     "name": "stdout",
     "output_type": "stream",
     "text": [
      "----------------------------------- Duplicate Rows -----------------------------------\n",
      "Found 18 duplicate rows in the dataset.\n",
      "\n",
      "Duplicate rows indexes: [ 63 222 296 332 340 360 364 368 370 377 387 405 441 447 480 484 536 607]\n",
      "\n",
      "----------------------------- Removing Duplicates ----------------------------\n",
      "----------------------------------- BEFORE -----------------------------------\n",
      "Number of rows before removing duplicates:  726\n",
      "\n",
      "----------------------------------- AFTER -----------------------------------\n",
      "Number of rows after removing duplicates:  708\n"
     ]
    }
   ],
   "source": [
    "print(\"----------------------------------- Duplicate Rows -----------------------------------\")\n",
    "# Check for duplicate rows\n",
    "duplicate_rows = risk_factor_df.duplicated()\n",
    "\n",
    "# Count the number of duplicate rows\n",
    "num_duplicates = duplicate_rows.sum()\n",
    "\n",
    "if num_duplicates == 0:\n",
    "    print(\"No duplicate rows found in the dataset.\")\n",
    "else:\n",
    "    print(f\"Found {num_duplicates} duplicate rows in the dataset.\\n\")\n",
    "\n",
    "    # Display the duplicate rows indexes (if any)\n",
    "    print(\"Duplicate rows indexes: {}\\n\".format(risk_factor_df[duplicate_rows].index.values))\n",
    "\n",
    "    # Removing duplicate rows\n",
    "    print(\"----------------------------- Removing Duplicates ----------------------------\")\n",
    "    print(\"----------------------------------- BEFORE -----------------------------------\")\n",
    "    print(\"Number of rows before removing duplicates: \", len(risk_factor_df))\n",
    "\n",
    "    risk_factor_df.drop_duplicates(inplace=True)\n",
    "    risk_factor_df.reset_index(drop=True, inplace=True)\n",
    "\n",
    "    print(\"\\n----------------------------------- AFTER -----------------------------------\")\n",
    "    print(\"Number of rows after removing duplicates: \", len(risk_factor_df))\n"
   ]
  },
  {
   "cell_type": "markdown",
   "metadata": {},
   "source": [
    "### Remove zero variance features\n",
    "MOving on, we also calculated the mean and standard deviation for each column. Columns with a standard deviation of 0 were omitted from the dataset because they did not add significant variability to the data since they contained the same value for all observations."
   ]
  },
  {
   "cell_type": "code",
   "execution_count": 49,
   "metadata": {},
   "outputs": [
    {
     "name": "stdout",
     "output_type": "stream",
     "text": [
      "Columns containing 1 value: ['STDs:cervical condylomatosis' 'STDs:AIDS']\n",
      "\n"
     ]
    }
   ],
   "source": [
    "mean_df = risk_factor_df.mean()\n",
    "std_df = risk_factor_df.std()\n",
    "\n",
    "# Print columns that have a standard deviation 0 (contain only one value)\n",
    "print(\"Columns containing 1 value: {}\\n\".format(std_df[std_df==0].index.values))\n",
    "\n",
    "risk_factor_df.drop(columns=[\"STDs:cervical condylomatosis\", \"STDs:AIDS\"], inplace=True)"
   ]
  },
  {
   "cell_type": "markdown",
   "metadata": {},
   "source": [
    "### Remove Outliers\n",
    "\n",
    "The IQR (Inter Quartile Range) approach is the most commonly used and most trusted approach used in the research field to find outliers in a dataset. We utilised IQR to identify and remove outliers."
   ]
  },
  {
   "cell_type": "code",
   "execution_count": 50,
   "metadata": {},
   "outputs": [],
   "source": [
    "# Function finding the unique values of each column in the dataframe\n",
    "def find_unique_values_df(feat: pd.DataFrame):\n",
    "    return {col: feat[col].unique() for col in feat}\n",
    "\n",
    "def find_outliers(col, indices):\n",
    "    obs = risk_factor_df[col].iloc[indices]\n",
    "    unique_items, counts = np.unique(obs, return_counts=True)\n",
    "    unique_items, counts = unique_items[::-1], counts[::-1]\n",
    "\n",
    "    values_to_delete = unique_items[counts < 2 ]\n",
    "    return values_to_delete\n",
    "\n",
    "def delete_outliers(col, to_delete):\n",
    "    if (to_delete.size != 0):\n",
    "        rows_to_del = risk_factor_df.loc[risk_factor_df[col].isin(to_delete)].index.values.tolist()\n",
    "\n",
    "        # Remove rows\n",
    "        risk_factor_df.drop(rows_to_del, inplace=True)\n",
    "        risk_factor_df.reset_index(drop=True, inplace=True)"
   ]
  },
  {
   "cell_type": "code",
   "execution_count": 51,
   "metadata": {},
   "outputs": [
    {
     "name": "stdout",
     "output_type": "stream",
     "text": [
      "Age\n",
      "median: 26.0, upper fence: 51.0, lower fence: 3.0\n",
      "\n",
      "Number of sexual partners\n",
      "median: 2.0, upper fence: 4.5, lower fence: 0.5\n",
      "\n",
      "First sexual intercourse\n",
      "median: 17.0, upper fence: 22.5, lower fence: 10.5\n",
      "\n",
      "Num of pregnancies\n",
      "median: 2.0, upper fence: 6.0, lower fence: -2.0\n",
      "\n",
      "Hormonal Contraceptives (years)\n",
      "median: 0.5, upper fence: 7.5, lower fence: -4.5\n",
      "\n"
     ]
    }
   ],
   "source": [
    "# Unique Values\n",
    "unique_vals = find_unique_values_df(risk_factor_df)\n",
    "# Identify non-binary columns\n",
    "non_binary_cols = [col for col, vals in unique_vals.items() if len(vals) > 2]\n",
    "\n",
    "for col in non_binary_cols:\n",
    "\n",
    "    # IQR cannot be applied to columns with median 0\n",
    "    if (risk_factor_df[col].median() != 0):\n",
    "        Q3, Q1 = np.percentile(risk_factor_df[col], [75 ,25])\n",
    "        IQR = Q3-Q1\n",
    "\n",
    "        upper = Q3+(1.5*IQR)\n",
    "        lower = Q1-(1.5*IQR)\n",
    "\n",
    "        print(col)\n",
    "        print(\"median: {}, upper fence: {}, lower fence: {}\\n\".format(risk_factor_df[col].median(), upper, lower))\n",
    "\n",
    "        #Delete one occurrence observations outside the upper fence as outliers\n",
    "        upper_to_delete = find_outliers(col, np.where(risk_factor_df[col] > upper)[0])\n",
    "        delete_outliers(col, upper_to_delete)\n",
    "\n",
    "        \n",
    "        #Delete one occurrence observations outside the lower fence as outliers\n",
    "        lower_to_delete = find_outliers(col, np.where(risk_factor_df[col] < lower)[0])\n",
    "        delete_outliers(col, lower_to_delete)"
   ]
  },
  {
   "cell_type": "code",
   "execution_count": 52,
   "metadata": {},
   "outputs": [
    {
     "name": "stdout",
     "output_type": "stream",
     "text": [
      "\n",
      "Final dataset size: 32 cols, 697 rows\n"
     ]
    }
   ],
   "source": [
    "print(\"\\nFinal dataset size: {} cols, {} rows\".format(risk_factor_df.shape[1], risk_factor_df.shape[0]))"
   ]
  },
  {
   "cell_type": "markdown",
   "metadata": {},
   "source": [
    "## Dataset splitting\n",
    "\n",
    "### Target Variable\n",
    "\n",
    "As previously stated, the final system will focus on predicting a single target variable. According to the literature, Pap tests primarily serve as preventative medical screenings, while the Schiller and colposcopy examinations are usually coupled with a biopsy to validate the results of the tests. Considering this literature and our prior analysis, we have selected the `Biopsy` feature as the target variable for our system. "
   ]
  },
  {
   "cell_type": "code",
   "execution_count": 53,
   "metadata": {},
   "outputs": [],
   "source": [
    "X = risk_factor_df.drop(columns=[\"Hinselmann\", \"Schiller\", \"Citology\", \"Biopsy\"])\n",
    "y = risk_factor_df[\"Biopsy\"]\n",
    "\n",
    "X_train, X_temp, y_train, y_temp = train_test_split(X, \n",
    "                                                    y, \n",
    "                                                    test_size=0.33, \n",
    "                                                    random_state=42,\n",
    "                                                    stratify = y, \n",
    "                                                    shuffle=True)\n",
    "X_val, X_test, y_val, y_test = train_test_split(X_temp, \n",
    "                                                y_temp, \n",
    "                                                test_size=0.5,\n",
    "                                                random_state=42,\n",
    "                                                stratify = y_temp,\n",
    "                                                shuffle=True)"
   ]
  },
  {
   "cell_type": "markdown",
   "metadata": {},
   "source": [
    "## Handling Imbalanced Data\n",
    "In order to address the imbalance within the target variable, we implemented the **SMOTE-ENN** method. Introduced by Batista et al. (2004), this method combines the ability of SMOTE to generate synthetic data points for the minority class, and ENN (Edited Nearest Neighbor), which eliminates data points from both classes that have a different class from the majority class among their K-Nearest Neighbors.\n",
    "\n",
    "We opted for SMOTE-ENN over SMOTETomek due to its ability to remove noisy samples, thereby enhancing the quality of the dataset.\n"
   ]
  },
  {
   "cell_type": "code",
   "execution_count": 54,
   "metadata": {},
   "outputs": [],
   "source": [
    "smote_enn = SMOTEENN(random_state=42)\n",
    "\n",
    "x_train_sm, y_train_sm = smote_enn.fit_resample(X_train, y_train)"
   ]
  },
  {
   "cell_type": "code",
   "execution_count": 55,
   "metadata": {},
   "outputs": [
    {
     "data": {
      "application/vnd.plotly.v1+json": {
       "config": {
        "plotlyServerURL": "https://plot.ly"
       },
       "data": [
        {
         "domain": {
          "x": [
           0,
           0.45
          ],
          "y": [
           0,
           1
          ]
         },
         "labels": [
          "Healthy",
          "Cervical Cancer"
         ],
         "marker": {
          "colors": [
           "rgb(95, 70, 144)",
           "rgb(29, 105, 150)"
          ]
         },
         "type": "pie",
         "values": [
          433,
          33
         ]
        },
        {
         "domain": {
          "x": [
           0.55,
           1
          ],
          "y": [
           0,
           1
          ]
         },
         "labels": [
          "Cervical Cancer",
          "Healthy"
         ],
         "marker": {
          "colors": [
           "rgb(95, 70, 144)",
           "rgb(29, 105, 150)"
          ]
         },
         "type": "pie",
         "values": [
          387,
          263
         ]
        }
       ],
       "layout": {
        "annotations": [
         {
          "font": {
           "size": 16
          },
          "showarrow": false,
          "text": "Original Distribution",
          "x": 0.225,
          "xanchor": "center",
          "xref": "paper",
          "y": 1,
          "yanchor": "bottom",
          "yref": "paper"
         },
         {
          "font": {
           "size": 16
          },
          "showarrow": false,
          "text": "Balanced Distribution",
          "x": 0.775,
          "xanchor": "center",
          "xref": "paper",
          "y": 1,
          "yanchor": "bottom",
          "yref": "paper"
         }
        ],
        "height": 400,
        "template": {
         "data": {
          "bar": [
           {
            "error_x": {
             "color": "#2a3f5f"
            },
            "error_y": {
             "color": "#2a3f5f"
            },
            "marker": {
             "line": {
              "color": "#E5ECF6",
              "width": 0.5
             },
             "pattern": {
              "fillmode": "overlay",
              "size": 10,
              "solidity": 0.2
             }
            },
            "type": "bar"
           }
          ],
          "barpolar": [
           {
            "marker": {
             "line": {
              "color": "#E5ECF6",
              "width": 0.5
             },
             "pattern": {
              "fillmode": "overlay",
              "size": 10,
              "solidity": 0.2
             }
            },
            "type": "barpolar"
           }
          ],
          "carpet": [
           {
            "aaxis": {
             "endlinecolor": "#2a3f5f",
             "gridcolor": "white",
             "linecolor": "white",
             "minorgridcolor": "white",
             "startlinecolor": "#2a3f5f"
            },
            "baxis": {
             "endlinecolor": "#2a3f5f",
             "gridcolor": "white",
             "linecolor": "white",
             "minorgridcolor": "white",
             "startlinecolor": "#2a3f5f"
            },
            "type": "carpet"
           }
          ],
          "choropleth": [
           {
            "colorbar": {
             "outlinewidth": 0,
             "ticks": ""
            },
            "type": "choropleth"
           }
          ],
          "contour": [
           {
            "colorbar": {
             "outlinewidth": 0,
             "ticks": ""
            },
            "colorscale": [
             [
              0,
              "#0d0887"
             ],
             [
              0.1111111111111111,
              "#46039f"
             ],
             [
              0.2222222222222222,
              "#7201a8"
             ],
             [
              0.3333333333333333,
              "#9c179e"
             ],
             [
              0.4444444444444444,
              "#bd3786"
             ],
             [
              0.5555555555555556,
              "#d8576b"
             ],
             [
              0.6666666666666666,
              "#ed7953"
             ],
             [
              0.7777777777777778,
              "#fb9f3a"
             ],
             [
              0.8888888888888888,
              "#fdca26"
             ],
             [
              1,
              "#f0f921"
             ]
            ],
            "type": "contour"
           }
          ],
          "contourcarpet": [
           {
            "colorbar": {
             "outlinewidth": 0,
             "ticks": ""
            },
            "type": "contourcarpet"
           }
          ],
          "heatmap": [
           {
            "colorbar": {
             "outlinewidth": 0,
             "ticks": ""
            },
            "colorscale": [
             [
              0,
              "#0d0887"
             ],
             [
              0.1111111111111111,
              "#46039f"
             ],
             [
              0.2222222222222222,
              "#7201a8"
             ],
             [
              0.3333333333333333,
              "#9c179e"
             ],
             [
              0.4444444444444444,
              "#bd3786"
             ],
             [
              0.5555555555555556,
              "#d8576b"
             ],
             [
              0.6666666666666666,
              "#ed7953"
             ],
             [
              0.7777777777777778,
              "#fb9f3a"
             ],
             [
              0.8888888888888888,
              "#fdca26"
             ],
             [
              1,
              "#f0f921"
             ]
            ],
            "type": "heatmap"
           }
          ],
          "heatmapgl": [
           {
            "colorbar": {
             "outlinewidth": 0,
             "ticks": ""
            },
            "colorscale": [
             [
              0,
              "#0d0887"
             ],
             [
              0.1111111111111111,
              "#46039f"
             ],
             [
              0.2222222222222222,
              "#7201a8"
             ],
             [
              0.3333333333333333,
              "#9c179e"
             ],
             [
              0.4444444444444444,
              "#bd3786"
             ],
             [
              0.5555555555555556,
              "#d8576b"
             ],
             [
              0.6666666666666666,
              "#ed7953"
             ],
             [
              0.7777777777777778,
              "#fb9f3a"
             ],
             [
              0.8888888888888888,
              "#fdca26"
             ],
             [
              1,
              "#f0f921"
             ]
            ],
            "type": "heatmapgl"
           }
          ],
          "histogram": [
           {
            "marker": {
             "pattern": {
              "fillmode": "overlay",
              "size": 10,
              "solidity": 0.2
             }
            },
            "type": "histogram"
           }
          ],
          "histogram2d": [
           {
            "colorbar": {
             "outlinewidth": 0,
             "ticks": ""
            },
            "colorscale": [
             [
              0,
              "#0d0887"
             ],
             [
              0.1111111111111111,
              "#46039f"
             ],
             [
              0.2222222222222222,
              "#7201a8"
             ],
             [
              0.3333333333333333,
              "#9c179e"
             ],
             [
              0.4444444444444444,
              "#bd3786"
             ],
             [
              0.5555555555555556,
              "#d8576b"
             ],
             [
              0.6666666666666666,
              "#ed7953"
             ],
             [
              0.7777777777777778,
              "#fb9f3a"
             ],
             [
              0.8888888888888888,
              "#fdca26"
             ],
             [
              1,
              "#f0f921"
             ]
            ],
            "type": "histogram2d"
           }
          ],
          "histogram2dcontour": [
           {
            "colorbar": {
             "outlinewidth": 0,
             "ticks": ""
            },
            "colorscale": [
             [
              0,
              "#0d0887"
             ],
             [
              0.1111111111111111,
              "#46039f"
             ],
             [
              0.2222222222222222,
              "#7201a8"
             ],
             [
              0.3333333333333333,
              "#9c179e"
             ],
             [
              0.4444444444444444,
              "#bd3786"
             ],
             [
              0.5555555555555556,
              "#d8576b"
             ],
             [
              0.6666666666666666,
              "#ed7953"
             ],
             [
              0.7777777777777778,
              "#fb9f3a"
             ],
             [
              0.8888888888888888,
              "#fdca26"
             ],
             [
              1,
              "#f0f921"
             ]
            ],
            "type": "histogram2dcontour"
           }
          ],
          "mesh3d": [
           {
            "colorbar": {
             "outlinewidth": 0,
             "ticks": ""
            },
            "type": "mesh3d"
           }
          ],
          "parcoords": [
           {
            "line": {
             "colorbar": {
              "outlinewidth": 0,
              "ticks": ""
             }
            },
            "type": "parcoords"
           }
          ],
          "pie": [
           {
            "automargin": true,
            "type": "pie"
           }
          ],
          "scatter": [
           {
            "fillpattern": {
             "fillmode": "overlay",
             "size": 10,
             "solidity": 0.2
            },
            "type": "scatter"
           }
          ],
          "scatter3d": [
           {
            "line": {
             "colorbar": {
              "outlinewidth": 0,
              "ticks": ""
             }
            },
            "marker": {
             "colorbar": {
              "outlinewidth": 0,
              "ticks": ""
             }
            },
            "type": "scatter3d"
           }
          ],
          "scattercarpet": [
           {
            "marker": {
             "colorbar": {
              "outlinewidth": 0,
              "ticks": ""
             }
            },
            "type": "scattercarpet"
           }
          ],
          "scattergeo": [
           {
            "marker": {
             "colorbar": {
              "outlinewidth": 0,
              "ticks": ""
             }
            },
            "type": "scattergeo"
           }
          ],
          "scattergl": [
           {
            "marker": {
             "colorbar": {
              "outlinewidth": 0,
              "ticks": ""
             }
            },
            "type": "scattergl"
           }
          ],
          "scattermapbox": [
           {
            "marker": {
             "colorbar": {
              "outlinewidth": 0,
              "ticks": ""
             }
            },
            "type": "scattermapbox"
           }
          ],
          "scatterpolar": [
           {
            "marker": {
             "colorbar": {
              "outlinewidth": 0,
              "ticks": ""
             }
            },
            "type": "scatterpolar"
           }
          ],
          "scatterpolargl": [
           {
            "marker": {
             "colorbar": {
              "outlinewidth": 0,
              "ticks": ""
             }
            },
            "type": "scatterpolargl"
           }
          ],
          "scatterternary": [
           {
            "marker": {
             "colorbar": {
              "outlinewidth": 0,
              "ticks": ""
             }
            },
            "type": "scatterternary"
           }
          ],
          "surface": [
           {
            "colorbar": {
             "outlinewidth": 0,
             "ticks": ""
            },
            "colorscale": [
             [
              0,
              "#0d0887"
             ],
             [
              0.1111111111111111,
              "#46039f"
             ],
             [
              0.2222222222222222,
              "#7201a8"
             ],
             [
              0.3333333333333333,
              "#9c179e"
             ],
             [
              0.4444444444444444,
              "#bd3786"
             ],
             [
              0.5555555555555556,
              "#d8576b"
             ],
             [
              0.6666666666666666,
              "#ed7953"
             ],
             [
              0.7777777777777778,
              "#fb9f3a"
             ],
             [
              0.8888888888888888,
              "#fdca26"
             ],
             [
              1,
              "#f0f921"
             ]
            ],
            "type": "surface"
           }
          ],
          "table": [
           {
            "cells": {
             "fill": {
              "color": "#EBF0F8"
             },
             "line": {
              "color": "white"
             }
            },
            "header": {
             "fill": {
              "color": "#C8D4E3"
             },
             "line": {
              "color": "white"
             }
            },
            "type": "table"
           }
          ]
         },
         "layout": {
          "annotationdefaults": {
           "arrowcolor": "#2a3f5f",
           "arrowhead": 0,
           "arrowwidth": 1
          },
          "autotypenumbers": "strict",
          "coloraxis": {
           "colorbar": {
            "outlinewidth": 0,
            "ticks": ""
           }
          },
          "colorscale": {
           "diverging": [
            [
             0,
             "#8e0152"
            ],
            [
             0.1,
             "#c51b7d"
            ],
            [
             0.2,
             "#de77ae"
            ],
            [
             0.3,
             "#f1b6da"
            ],
            [
             0.4,
             "#fde0ef"
            ],
            [
             0.5,
             "#f7f7f7"
            ],
            [
             0.6,
             "#e6f5d0"
            ],
            [
             0.7,
             "#b8e186"
            ],
            [
             0.8,
             "#7fbc41"
            ],
            [
             0.9,
             "#4d9221"
            ],
            [
             1,
             "#276419"
            ]
           ],
           "sequential": [
            [
             0,
             "#0d0887"
            ],
            [
             0.1111111111111111,
             "#46039f"
            ],
            [
             0.2222222222222222,
             "#7201a8"
            ],
            [
             0.3333333333333333,
             "#9c179e"
            ],
            [
             0.4444444444444444,
             "#bd3786"
            ],
            [
             0.5555555555555556,
             "#d8576b"
            ],
            [
             0.6666666666666666,
             "#ed7953"
            ],
            [
             0.7777777777777778,
             "#fb9f3a"
            ],
            [
             0.8888888888888888,
             "#fdca26"
            ],
            [
             1,
             "#f0f921"
            ]
           ],
           "sequentialminus": [
            [
             0,
             "#0d0887"
            ],
            [
             0.1111111111111111,
             "#46039f"
            ],
            [
             0.2222222222222222,
             "#7201a8"
            ],
            [
             0.3333333333333333,
             "#9c179e"
            ],
            [
             0.4444444444444444,
             "#bd3786"
            ],
            [
             0.5555555555555556,
             "#d8576b"
            ],
            [
             0.6666666666666666,
             "#ed7953"
            ],
            [
             0.7777777777777778,
             "#fb9f3a"
            ],
            [
             0.8888888888888888,
             "#fdca26"
            ],
            [
             1,
             "#f0f921"
            ]
           ]
          },
          "colorway": [
           "#636efa",
           "#EF553B",
           "#00cc96",
           "#ab63fa",
           "#FFA15A",
           "#19d3f3",
           "#FF6692",
           "#B6E880",
           "#FF97FF",
           "#FECB52"
          ],
          "font": {
           "color": "#2a3f5f"
          },
          "geo": {
           "bgcolor": "white",
           "lakecolor": "white",
           "landcolor": "#E5ECF6",
           "showlakes": true,
           "showland": true,
           "subunitcolor": "white"
          },
          "hoverlabel": {
           "align": "left"
          },
          "hovermode": "closest",
          "mapbox": {
           "style": "light"
          },
          "paper_bgcolor": "white",
          "plot_bgcolor": "#E5ECF6",
          "polar": {
           "angularaxis": {
            "gridcolor": "white",
            "linecolor": "white",
            "ticks": ""
           },
           "bgcolor": "#E5ECF6",
           "radialaxis": {
            "gridcolor": "white",
            "linecolor": "white",
            "ticks": ""
           }
          },
          "scene": {
           "xaxis": {
            "backgroundcolor": "#E5ECF6",
            "gridcolor": "white",
            "gridwidth": 2,
            "linecolor": "white",
            "showbackground": true,
            "ticks": "",
            "zerolinecolor": "white"
           },
           "yaxis": {
            "backgroundcolor": "#E5ECF6",
            "gridcolor": "white",
            "gridwidth": 2,
            "linecolor": "white",
            "showbackground": true,
            "ticks": "",
            "zerolinecolor": "white"
           },
           "zaxis": {
            "backgroundcolor": "#E5ECF6",
            "gridcolor": "white",
            "gridwidth": 2,
            "linecolor": "white",
            "showbackground": true,
            "ticks": "",
            "zerolinecolor": "white"
           }
          },
          "shapedefaults": {
           "line": {
            "color": "#2a3f5f"
           }
          },
          "ternary": {
           "aaxis": {
            "gridcolor": "white",
            "linecolor": "white",
            "ticks": ""
           },
           "baxis": {
            "gridcolor": "white",
            "linecolor": "white",
            "ticks": ""
           },
           "bgcolor": "#E5ECF6",
           "caxis": {
            "gridcolor": "white",
            "linecolor": "white",
            "ticks": ""
           }
          },
          "title": {
           "x": 0.05
          },
          "xaxis": {
           "automargin": true,
           "gridcolor": "white",
           "linecolor": "white",
           "ticks": "",
           "title": {
            "standoff": 15
           },
           "zerolinecolor": "white",
           "zerolinewidth": 2
          },
          "yaxis": {
           "automargin": true,
           "gridcolor": "white",
           "linecolor": "white",
           "ticks": "",
           "title": {
            "standoff": 15
           },
           "zerolinecolor": "white",
           "zerolinewidth": 2
          }
         }
        },
        "title": {
         "text": "Rows Containing NaN Values",
         "x": 0.5
        },
        "width": 850
       }
      }
     },
     "metadata": {},
     "output_type": "display_data"
    }
   ],
   "source": [
    "#Plot\n",
    "color_1 = [px.colors.qualitative.Prism[0], px.colors.qualitative.Prism[1]]\n",
    "\n",
    "y_train_counts = y_train.value_counts().reset_index()\n",
    "y_train_counts.columns = ['Class', 'Count']\n",
    "y_train_counts['Class'] = y_train_counts['Class'].map({0: 'Healthy', 1: 'Cervical Cancer'})\n",
    "\n",
    "y_train_sm_counts = y_train_sm.value_counts().reset_index()\n",
    "y_train_sm_counts.columns = ['Class', 'Count']\n",
    "y_train_sm_counts['Class'] = y_train_sm_counts['Class'].map({0: 'Healthy', 1: 'Cervical Cancer'})\n",
    "\n",
    "targ_fig = make_subplots(1, 2, specs=[[{\"type\":\"domain\"}, {\"type\":\"domain\"}]],\n",
    "    subplot_titles=[\"Original Distribution\", \"Balanced Distribution\"])\n",
    "\n",
    "targ_fig.add_trace(go.Pie(labels=y_train_counts[\"Class\"],\n",
    "    values=y_train_counts[\"Count\"],\n",
    "    marker_colors=color_1), 1, 1)\n",
    "\n",
    "targ_fig.add_trace(go.Pie(labels=y_train_sm_counts[\"Class\"],\n",
    "    values=y_train_sm_counts[\"Count\"],\n",
    "    marker_colors=color_1), 1, 2)\n",
    "\n",
    "targ_fig.update_layout(title_text=\"Rows Containing NaN Values\",\n",
    "    width=850, height= 400,\n",
    "    title_x=0.5)\n",
    "\n",
    "targ_fig.show()"
   ]
  },
  {
   "cell_type": "markdown",
   "metadata": {},
   "source": [
    "## Data Scaling and Encoding\n",
    "Scaling and Encoding were only performed in the training set to avoid information leakage."
   ]
  },
  {
   "cell_type": "code",
   "execution_count": 56,
   "metadata": {},
   "outputs": [],
   "source": [
    "# Create a StandardScaler object\n",
    "scaler = StandardScaler()\n",
    "\n",
    "# Specify the features to be scaled\n",
    "features_to_scale = [\"Smokes (packs/year)\", \"Hormonal Contraceptives (years)\", \"IUD (years)\"]\n",
    "\n",
    "# Scale the specified features and add new columns with suffix '_scaled'\n",
    "x_train_sm[[f\"{feature}_scaled\" for feature in features_to_scale]] = scaler.fit_transform(x_train_sm[features_to_scale])\n",
    "\n",
    "# Transform the scaled columns in the validation and test sets as well\n",
    "X_val[[f\"{feature}_scaled\" for feature in features_to_scale]] = scaler.transform(X_val[features_to_scale])\n",
    "X_test[[f\"{feature}_scaled\" for feature in features_to_scale]] = scaler.transform(X_test[features_to_scale])\n",
    "\n",
    "#Drop original columns from the training set\n",
    "x_train_sm.drop(columns=features_to_scale, inplace=True)\n",
    "X_val.drop(columns=features_to_scale, inplace=True)\n",
    "X_test.drop(columns=features_to_scale, inplace=True)\n"
   ]
  },
  {
   "cell_type": "code",
   "execution_count": 57,
   "metadata": {},
   "outputs": [],
   "source": [
    "# Define age categories, every 5 years as an intervals\n",
    "age_intervals = [13, 18, 23, 28, 33, 38, 43, 48, 53, 58, 63, 68, 73, 78, 83, 88]\n",
    "labels = list(range(len(age_intervals) - 1))\n",
    "\n",
    "# Encode the \"Age\" feature\n",
    "x_train_sm['Age_encoded'] = pd.cut(x_train_sm['Age'], bins=age_intervals, labels=labels, right=False)\n",
    "X_val['Age_encoded'] = pd.cut(X_val['Age'], bins=age_intervals, labels=labels, right=False)\n",
    "X_test['Age_encoded'] = pd.cut(X_test['Age'], bins=age_intervals, labels=labels, right=False)\n",
    "\n",
    "#Drop original column from the training set\n",
    "x_train_sm.drop(columns=['Age'], inplace=True)\n",
    "X_val.drop(columns=['Age'], inplace=True)\n",
    "X_test.drop(columns=['Age'], inplace=True)"
   ]
  },
  {
   "cell_type": "markdown",
   "metadata": {},
   "source": [
    "## Dimensionality Reduction - PCA"
   ]
  },
  {
   "cell_type": "code",
   "execution_count": 58,
   "metadata": {},
   "outputs": [],
   "source": [
    "# Scale data\n",
    "minMaxScaler = MinMaxScaler()\n",
    "x_train_rescaled = minMaxScaler.fit_transform(x_train_sm)\n",
    "x_val_rescaled = minMaxScaler.transform(X_val)\n",
    "x_test_rescaled = minMaxScaler.transform(X_test)\n",
    "\n",
    "# 95% of variance\n",
    "pca = PCA(n_components=11)\n",
    "x_train_reduced = pca.fit_transform(x_train_rescaled)\n",
    "x_val_reduced = pca.transform(x_val_rescaled)\n",
    "x_test_reduced = pca.transform(x_test_rescaled)"
   ]
  },
  {
   "cell_type": "code",
   "execution_count": 59,
   "metadata": {},
   "outputs": [
    {
     "name": "stdout",
     "output_type": "stream",
     "text": [
      "Train: (650, 11) Validation: (115, 11) Test: (116, 11)\n"
     ]
    }
   ],
   "source": [
    "print(\"Train:\", x_train_reduced.shape, \"Validation:\", x_val_reduced.shape, \"Test:\", x_test_reduced.shape)"
   ]
  },
  {
   "cell_type": "markdown",
   "metadata": {},
   "source": [
    "# Model Development\n",
    "---\n",
    "For the prediction models we selected to utilize the models of Support Vector Machine (SVM) and the ensemble method of Random Forests."
   ]
  },
  {
   "cell_type": "markdown",
   "metadata": {},
   "source": [
    "## Preparation before Traning\n",
    "---\n",
    "\n",
    "**The goal of the finetune function is to search for the best hyperparameters of a classifier using GridSearchCV and RandomizedSearchCV. The function must print and return the best parameters.** \n",
    "\n",
    "\n",
    "**Input:**  \n",
    "•clf: The classifier.   \n",
    "•grid_param: The parameters to investigate during grid search.  \n",
    "•rand_param: The parameter distribution to investigate during random search.    \n",
    "•X,Y: The training sets. \n",
    "\n",
    "**Output:**     \n",
    "•grid_best: Best parameters discovered from grid search.    \n",
    "•rand_best: Best parameters discovered from random search.\n",
    "\n",
    "**Important settings:**     \n",
    "•Use only 2 folds for cross-validation  \n",
    "•Score models based on their AUC    \n",
    "•Sample only 50 parameter settings when using RandomizedSearchCV    \n",
    "The goal of the fit_and_evaluate function is to fit a classifier (clf) to the data and return the false positive rate (fpr), true positive rate (tpr) and the area-under-the-curve (auc)."
   ]
  },
  {
   "cell_type": "code",
   "execution_count": 60,
   "metadata": {},
   "outputs": [],
   "source": [
    "# https://scikit-learn.org/stable/modules/model_evaluation.html\n",
    "import numpy as np\n",
    "from sklearn.model_selection import GridSearchCV, RandomizedSearchCV\n",
    "from sklearn.metrics import roc_curve, auc\n",
    "\n",
    "def finetune(clf, grid_param, rand_param, X, Y):\n",
    "    # GridSearchCV\n",
    "    grid_search = GridSearchCV(clf, grid_param, cv=2, scoring='roc_auc', n_jobs=-1)\n",
    "    grid_search.fit(X, Y)\n",
    "    grid_best = grid_search.best_params_\n",
    "\n",
    "    # RandomizedSearchCV\n",
    "    rand_search = RandomizedSearchCV(clf, rand_param, n_iter=50, cv=2, scoring='roc_auc', random_state=0, n_jobs=-1)\n",
    "    rand_search.fit(X, Y)\n",
    "    rand_best = rand_search.best_params_\n",
    "\n",
    "    # Print best parameters in a cleaner format\n",
    "    print(\"\\n\\tGridSearch Best Parameters:\")\n",
    "    for param, value in grid_best.items():\n",
    "        print(f\"\\t\\t{param}: {value}\")\n",
    "\n",
    "    print(\"\\n\\tRandomizedSearch Best Parameters:\")\n",
    "    for param, value in rand_best.items():\n",
    "        print(f\"\\t\\t{param}: {value}\")\n",
    "    print(\"\\n\" + \"-\"*50)\n",
    "\n",
    "    return grid_best, rand_best\n",
    "\n",
    "def fit_and_evaluate(clf, X_train, y_train, X_test, y_test):\n",
    "    clf.fit(X_train, y_train)\n",
    "    pred_proba = clf.predict_proba(X_test)[::,1]\n",
    "    fpr, tpr, _ = metrics.roc_curve(y_test, pred_proba)\n",
    "    auc = metrics.roc_auc_score(y_test, pred_proba)\n",
    "    return fpr, tpr, auc"
   ]
  },
  {
   "cell_type": "markdown",
   "metadata": {},
   "source": [
    "Investigated parameters:\n",
    "\n",
    "(RF)    \n",
    "n_estimators: Number of trees in the forest.    \n",
    "max_features: The number of features to consider when looking for the best\n",
    "split.\n",
    "\n",
    "RF: Parameters like `max_features` can control the model's complexity and prevent overfitting. `n_estimators` will influence the ensemble's power."
   ]
  },
  {
   "cell_type": "code",
   "execution_count": 61,
   "metadata": {},
   "outputs": [
    {
     "name": "stdout",
     "output_type": "stream",
     "text": [
      "\n",
      "Hyperparameters for RF:\n"
     ]
    },
    {
     "name": "stderr",
     "output_type": "stream",
     "text": [
      "c:\\ProgramData\\miniconda3\\envs\\mai643\\lib\\site-packages\\sklearn\\model_selection\\_search.py:318: UserWarning:\n",
      "\n",
      "The total space of parameters 27 is smaller than n_iter=50. Running 27 iterations. For exhaustive searches, use GridSearchCV.\n",
      "\n"
     ]
    },
    {
     "name": "stdout",
     "output_type": "stream",
     "text": [
      "\n",
      "\tGridSearch Best Parameters:\n",
      "\t\tmax_features: 10\n",
      "\t\tn_estimators: 100\n",
      "\n",
      "\tRandomizedSearch Best Parameters:\n",
      "\t\tn_estimators: 80\n",
      "\t\tmax_features: 10\n",
      "\n",
      "--------------------------------------------------\n"
     ]
    },
    {
     "data": {
      "text/plain": [
       "({'max_features': 10, 'n_estimators': 100},\n",
       " {'n_estimators': 80, 'max_features': 10})"
      ]
     },
     "execution_count": 61,
     "metadata": {},
     "output_type": "execute_result"
    }
   ],
   "source": [
    "from sklearn.ensemble import RandomForestClassifier\n",
    "\n",
    "# Random Forest (RF)\n",
    "clf_rf = RandomForestClassifier(random_state=0)\n",
    "grid_param_rf = {'n_estimators': [10,50,100], 'max_features': [None, 10, 20]}\n",
    "rand_param_rf = {'n_estimators': np.arange(10, 100, 10), 'max_features': [None, 10, 20]}\n",
    "\n",
    "print(\"\\nHyperparameters for RF:\")\n",
    "finetune(clf_rf, grid_param_rf, rand_param_rf, x_train_reduced, y_train_sm)"
   ]
  },
  {
   "cell_type": "markdown",
   "metadata": {},
   "source": [
    "**Grid search** experiment with all pre-defined combinations of hyperparameters.\n",
    "\n",
    "**Random search** experiment with hyperparameter values randomly sampled from pre-defined distributions.\n",
    "\n",
    "Since Grid search will test all combinations, it will find the best hyperparameter combinations. However, Random search will give a good enough combination of hyperparameters for a short period of time. Both methods will find the best hyperparameter combinations if enough time passes.\n",
    "\n",
    "**Trade-off**:The trade-off between grid and random search revolves around computation time versus the assurance of finding the best parameters. While grid search provides a systematic approach and guarantees the best combination within the grid, it's often time-consuming, especially with a large hyperparameter space. On the other hand, random search doesn't assure the best combination but can reach a good set of parameters much faster."
   ]
  },
  {
   "cell_type": "code",
   "execution_count": 63,
   "metadata": {},
   "outputs": [
    {
     "name": "stdout",
     "output_type": "stream",
     "text": [
      "Model RandomForestClassifier:\n",
      "AUC (Default): 0.5856481481481481\n",
      "AUC (GridSearch Best Params): 0.6273148148148148\n",
      "AUC (RandomSearch Best Params): 0.6296296296296297\n",
      "------------------------------------------------\n"
     ]
    }
   ],
   "source": [
    "from sklearn.ensemble import RandomForestClassifier\n",
    "from sklearn import metrics\n",
    "\n",
    "\n",
    "# Define the best parameters from grid and random search\n",
    "\n",
    "best_grid_rf = {'n_estimators': 100, 'max_features': 10}\n",
    "best_rand_rf = {'n_estimators': 80, 'max_features': 10}\n",
    "\n",
    "# Function to fit and evaluate for a given setting\n",
    "def evaluate_model_setting(clf, X_train, y_train, X_test, y_test, param=None):\n",
    "    if param:\n",
    "        clf.set_params(**param)\n",
    "    fpr, tpr, auc_score = fit_and_evaluate(clf, X_train, y_train, X_test, y_test)\n",
    "    return auc_score\n",
    "\n",
    "# Evaluate each model for different settings\n",
    "for model, grid_param, rand_param in zip(\n",
    "    [RandomForestClassifier(random_state=0)],\n",
    "    [best_grid_rf],\n",
    "    [best_rand_rf]\n",
    "):\n",
    "\n",
    "    # a. Default settings\n",
    "    auc_default = evaluate_model_setting(model, x_train_reduced, y_train_sm, x_test_reduced, y_test)\n",
    "    # b. GridSearch best parameters\n",
    "    auc_grid = evaluate_model_setting(model, x_train_reduced, y_train_sm, x_test_reduced, y_test, grid_param)\n",
    "    # c. RandomSearch best parameters\n",
    "    auc_rand = evaluate_model_setting(model, x_train_reduced, y_train_sm, x_test_reduced, y_test, rand_param)\n",
    "\n",
    "    print(f\"Model {model.__class__.__name__}:\")\n",
    "    print(f\"AUC (Default): {auc_default}\")\n",
    "    print(f\"AUC (GridSearch Best Params): {auc_grid}\")\n",
    "    print(f\"AUC (RandomSearch Best Params): {auc_rand}\")\n",
    "    print(\"------------------------------------------------\")"
   ]
  },
  {
   "cell_type": "markdown",
   "metadata": {},
   "source": [
    "# Model Evaluation\n",
    "---"
   ]
  },
  {
   "cell_type": "code",
   "execution_count": 66,
   "metadata": {},
   "outputs": [
    {
     "data": {
      "image/png": "[encoded data removed]",
      "text/plain": [
       "<Figure size 1000x800 with 1 Axes>"
      ]
     },
     "metadata": {},
     "output_type": "display_data"
    }
   ],
   "source": [
    "import matplotlib.pyplot as plt\n",
    "from sklearn import metrics\n",
    "\n",
    "# Set up the plotting\n",
    "plt.figure(figsize=(10, 8))\n",
    "\n",
    "# Lists to store classifier details\n",
    "clfs = [\n",
    "    (RandomForestClassifier(random_state=0), 'RF Default'),\n",
    "    (RandomForestClassifier(n_estimators=100, max_features=10, random_state=0), 'RF GridSearch'),\n",
    "    (RandomForestClassifier(n_estimators=80, max_features=10, random_state=0), 'RF RandomSearch'),\n",
    "]\n",
    "\n",
    "# Plot each classifier's ROC curve\n",
    "for clf, label in clfs:\n",
    "    fpr, tpr, auc = fit_and_evaluate(clf, x_train_reduced, y_train_sm, x_test_reduced, y_test)\n",
    "    plt.plot(fpr, tpr, label=f\"{label}, auc={round(auc, 3)}\")\n",
    "\n",
    "# Add labels, legend, and show the plot\n",
    "plt.plot([0, 1], [0, 1], color='grey', linestyle='--')\n",
    "plt.xlabel('False Positive Rate')\n",
    "plt.ylabel('True Positive Rate')\n",
    "plt.title('ROC AUC Curves')\n",
    "plt.legend(loc='lower right')\n",
    "plt.show()"
   ]
  },
  {
   "cell_type": "markdown",
   "metadata": {},
   "source": [
    "### Choose the best performing hyperparameters for RF\n",
    "---\n",
    "\n",
    "RF: `n_estimators`: 90, `max_features`: 10\n",
    "\n",
    "GridSearchCV recommends using 100 trees, while RandomisedSearchCV recommends using 80 trees. Both methods are in agreement on `max_features`: 10. Given that the recommended values for both methods are close and no additional performance metrics are provided. an intermediate value can be chosen: `n_estimators`: 90 and `max_features`: 10."
   ]
  },
  {
   "cell_type": "markdown",
   "metadata": {},
   "source": [
    "**Measure and plot the time it takes to train and evaluate each of the following classifiers:**     \n",
    "•RF (discovered hyperparameters)    \n",
    "•Support Vector Classifier (SVC – Scikit-Learn) (default settings)"
   ]
  }
 ],
 "metadata": {
  "kernelspec": {
   "display_name": "mai644",
   "language": "python",
   "name": "python3"
  },
  "language_info": {
   "codemirror_mode": {
    "name": "ipython",
    "version": 3
   },
   "file_extension": ".py",
   "mimetype": "text/x-python",
   "name": "python",
   "nbconvert_exporter": "python",
   "pygments_lexer": "ipython3",
   "version": "3.10.13"
  },
  "vscode": {
   "interpreter": {
    "hash": "32bdd95e8c4ecada84a0073ec4e8d048a8aaf2397f6888f3b1d4c4db30935bf8"
   }
  }
 },
 "nbformat": 4,
 "nbformat_minor": 2
}
